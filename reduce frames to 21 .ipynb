{
 "cells": [
  {
   "cell_type": "code",
   "execution_count": null,
   "metadata": {},
   "outputs": [],
   "source": [
    "# get to min frames reduce number of frames\n",
    "import os\n",
    "import math\n",
    "import cv2\n",
    "import random\n",
    "\n",
    "# we want 30 fps\n",
    "# test: if the video is less than 30 fps we take the last frame untill we get to 30\n",
    "#       if the video is more than 30 fps we reduce frames\n",
    "\n",
    "video = 0 #change to video from user\n",
    "a = r'c:\\Users\\gural\\Desktop\\s';\n",
    "folderList = os.listdir(a)\n",
    "minFrames = 21\n",
    "framesToDelete = []\n",
    "for folder in folderList:\n",
    "    listing = os.listdir(a + '\\\\' + folder)                         \n",
    "    for file in listing:\n",
    "        allFrames = os.listdir(a + \"\\\\\" +folder + \"\\\\\" + file)                 \n",
    "        if allFrames != minFrames:            \n",
    "            divide = int(len(allFrames) / minFrames)                         \n",
    "            y = 0\n",
    "            while divide > 1:                \n",
    "                for x in range(1, int(len(allFrames) / 2)):\n",
    "                    remove = x * 2 + y\n",
    "                    if len(allFrames) - len(framesToDelete) == minFrames:\n",
    "                        break\n",
    "                    if remove not in framesToDelete:\n",
    "                        framesToDelete.append(remove)                    \n",
    "                divide -= 1\n",
    "                y += 1                        \n",
    "            while len(allFrames) - len(framesToDelete) > minFrames:                                                            \n",
    "                rand = random.randint(1, len(allFrames))\n",
    "                while rand in framesToDelete:\n",
    "                    rand = random.randint(1, len(allFrames))                                     \n",
    "                framesToDelete.append(rand)                        \n",
    "            for x in framesToDelete:\n",
    "                os.remove(a + \"\\\\\" +folder + \"\\\\\" + file + \"\\\\image_\" + str(int(x)) + \".jpg\")      \n",
    "            framesToDelete = []         "
   ]
  }
 ],
 "metadata": {
  "kernelspec": {
   "display_name": "Python 3",
   "language": "python",
   "name": "python3"
  },
  "language_info": {
   "codemirror_mode": {
    "name": "ipython",
    "version": 3
   },
   "file_extension": ".py",
   "mimetype": "text/x-python",
   "name": "python",
   "nbconvert_exporter": "python",
   "pygments_lexer": "ipython3",
   "version": "3.6.7"
  }
 },
 "nbformat": 4,
 "nbformat_minor": 2
}
