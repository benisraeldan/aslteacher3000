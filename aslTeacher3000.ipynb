{
 "cells": [
  {
   "cell_type": "code",
   "execution_count": 1,
   "metadata": {},
   "outputs": [
    {
     "name": "stderr",
     "output_type": "stream",
     "text": [
      "Using TensorFlow backend.\n"
     ]
    }
   ],
   "source": [
    "import numpy as np\n",
    "from skvideo.io import FFmpegReader, ffprobe\n",
    "from skvideo.utils import rgb2gray\n",
    "from PIL import Image\n",
    "from keras.preprocessing import image\n",
    "from tqdm import tqdm\n",
    "import matplotlib.pyplot as plt\n",
    "\n",
    "\n",
    "class Videos(object):\n",
    "\n",
    "    def __init__(self, target_size=None, to_gray=True, max_frames=None,\n",
    "                 extract_frames='middle', required_fps=None,\n",
    "                 normalize_pixels=None):\n",
    "        \"\"\"\n",
    "        Initializing the config variables\n",
    "        Parameters:\n",
    "            target_size (tuple): (New_Width, New_Height), Default 'None'\n",
    "                A tuple denoting the target width and height of each frame in each of the video\n",
    "            to_gray (boolean): Default 'True'\n",
    "                If True, then each frame will be converted to gray scale. Otherwise, not.\n",
    "            max_frames (int): Default 'None'\n",
    "                The maximum number of frames to return for each video.\n",
    "                Extra frames are removed based on the value of 'extract_frames'.\n",
    "            extract_frames (str): {'first', 'middle', 'last'}, Default 'middle'\n",
    "                'first': Extract the first 'N' frames\n",
    "                'last': Extract the last 'N' frames\n",
    "                'middle': Extract 'N' frames from the middle\n",
    "                    Remove ((total_frames - max_frames) // 2) frames from the beginning as well as the end\n",
    "            required_fps (int): Default 'None'\n",
    "                Capture 'N' frame(s) per second from the video.\n",
    "                Only the first 'N' frame(s) for each second in the video are captured.\n",
    "            normalize_pixels (tuple/str): Default 'None'\n",
    "                If 'None', the pixels will not be normalized.\n",
    "                If a tuple - (New_min, New_max) is passed, Min-max Normalization will be used.\n",
    "                If the value is 'z-score', then Z-score Normalization will be used.\n",
    "                For each pixel p, z_score = (p - mean) / std\n",
    "        \"\"\"\n",
    "\n",
    "        self.target_size = target_size\n",
    "        self.to_gray = to_gray\n",
    "        self.max_frames = max_frames\n",
    "        self.extract_frames = extract_frames\n",
    "        self.required_fps = required_fps\n",
    "        self.normalize_pixels = normalize_pixels\n",
    "        self.fps = None\n",
    "\n",
    "    def read_videos(self, paths):\n",
    "        \"\"\"\n",
    "        Parameters:\n",
    "            paths (list): Required\n",
    "                 A list of paths of the videos to be read\n",
    "        Returns:\n",
    "            Numpy.ndarray\n",
    "                A 5-d tensor with shape (<No. of Videos>, <No. of frames>, <height>, <width>, <channels>)\n",
    "        \"\"\"\n",
    "\n",
    "        list_of_videos = [\n",
    "            self._read_video(path) for path in tqdm(paths)\n",
    "        ]\n",
    "        for video in list_of_videos:\n",
    "            print(video.shape)            \n",
    "        tensor = np.vstack(list_of_videos)\n",
    "\n",
    "        if self.normalize_pixels != None:\n",
    "            # Pixels are normalized for each video individually\n",
    "            if (type(self.normalize_pixels) == tuple) and (len(self.normalize_pixels) == 2):\n",
    "                base = self.normalize_pixels[0]\n",
    "                r = self.normalize_pixels[1] - base\n",
    "                min_ = np.min(tensor, axis=(1, 2, 3), keepdims=True)\n",
    "                max_ = np.max(tensor, axis=(1, 2, 3), keepdims=True)\n",
    "                return ((tensor.astype('float32') - min_) / (max_ - min_)) * r + base\n",
    "\n",
    "            elif self.normalize_pixels == 'z-score':\n",
    "                mean = np.mean(tensor, axis=(1, 2, 3), keepdims=True)\n",
    "                std = np.std(tensor, axis=(1, 2, 3), keepdims=True)\n",
    "                return (tensor.astype('float32') - mean) / std\n",
    "            \n",
    "            else:\n",
    "                raise ValueError('Invalid value of \\'normalize_pixels\\'')\n",
    "\n",
    "        return tensor\n",
    "\n",
    "    def get_frame_count(self, paths):\n",
    "        \"\"\"\n",
    "        Can be used to determine the value of `max_frames`\n",
    "        Parameters:\n",
    "            paths (list): Required\n",
    "                 A list of paths of the videos to be read\n",
    "        Returns:\n",
    "            dict (python dictionary)\n",
    "                For each video, the total number of frames in that video is stored in the dictionary.\n",
    "        \"\"\"\n",
    "\n",
    "        frame_count = {}\n",
    "        for path in paths:\n",
    "            cap = FFmpegReader(filename=path)\n",
    "            frame_count[path] = cap.inputframenum\n",
    "            cap.close()\n",
    "\n",
    "        return frame_count\n",
    "\n",
    "    def _read_video(self, path):\n",
    "        \"\"\"\n",
    "        Parameters:\n",
    "            path (str): Required\n",
    "                Path of the video to be read\n",
    "        Returns:\n",
    "            Numpy.ndarray\n",
    "                A 5-d tensor with shape (1, <No. of frames>, <height>, <width>, <channels>)\n",
    "        \"\"\"\n",
    "\n",
    "        cap = FFmpegReader(filename=path)\n",
    "        list_of_frames = []\n",
    "        self.fps = int(cap.inputfps)                  # Frame Rate\n",
    "\n",
    "        for index, frame in enumerate(cap.nextFrame()):\n",
    "\n",
    "            capture_frame = True\n",
    "            if self.required_fps != None:\n",
    "                is_valid = range(self.required_fps)\n",
    "                capture_frame = (index % self.fps) in is_valid\n",
    "\n",
    "            if capture_frame:\n",
    "\n",
    "                if self.target_size is not None:\n",
    "                    temp_image = image.array_to_img(frame)\n",
    "                    frame = image.img_to_array(\n",
    "                        temp_image.resize(\n",
    "                            self.target_size,\n",
    "                            Image.ANTIALIAS)).astype('uint8')\n",
    "\n",
    "                # Shape of each frame -> (<height>, <width>, 3)\n",
    "                list_of_frames.append(frame)\n",
    "\n",
    "        temp_video = np.stack(list_of_frames)\n",
    "        cap.close()\n",
    "\n",
    "        if self.to_gray:\n",
    "            temp_video = rgb2gray(temp_video)\n",
    "                \n",
    "        if self.max_frames is not None:\n",
    "            temp_video = self._process_video(video=temp_video,path=path)            \n",
    "        print(np.expand_dims(temp_video, axis=0).shape)\n",
    "        print(path)\n",
    "        print(\"\")\n",
    "        return np.expand_dims(temp_video, axis=0)\n",
    "\n",
    "    def _process_video(self, video,path):\n",
    "        \"\"\"\n",
    "        Parameters:\n",
    "            video (Numpy.ndarray):\n",
    "                Shape = (<No. of frames>, <height>, <width>, <channels>)\n",
    "                Video whose frames are to be extracted\n",
    "        Returns:\n",
    "            Numpy.ndarray\n",
    "                A tensor (processed video) with shape (<`max_frames`>, <height>, <width>, <channels>)\n",
    "        \"\"\"        \n",
    "        \n",
    "        total_frames = video.shape[0]\n",
    "        if self.max_frames <= total_frames:\n",
    "            if self.extract_frames == 'first':\n",
    "                video = video[:self.max_frames]\n",
    "            elif self.extract_frames == 'last':\n",
    "                video = video[(total_frames - self.max_frames):]\n",
    "            elif self.extract_frames == 'middle':\n",
    "                # No. of frames to remove from the front\n",
    "                front = ((total_frames - self.max_frames) // 2) + 1\n",
    "                video = video[front:(front + self.max_frames)]            \n",
    "            else:\n",
    "                raise ValueError('Invalid value of \\'extract_frames\\'')                \n",
    "        else:\n",
    "            raise ValueError('Invalid number of frames')                \n",
    "        return video"
   ]
  },
  {
   "cell_type": "code",
   "execution_count": 15,
   "metadata": {},
   "outputs": [
    {
     "name": "stdout",
     "output_type": "stream",
     "text": [
      "Total number of videos: 746\n",
      "\n",
      "Number of videos in training data: 500\n",
      "Number of videos in validation data: 121\n",
      "Number of videos in test data: 125\n"
     ]
    }
   ],
   "source": [
    "# Imports\n",
    "import os\n",
    "from sklearn.datasets import load_files\n",
    "from sklearn.model_selection import train_test_split\n",
    "\n",
    "# Loading the data\n",
    "raw_data = load_files(r\"C:\\Users\\gural\\Desktop\\animals\", shuffle=False)\n",
    "files = raw_data['filenames']\n",
    "targets = raw_data['target']\n",
    "\n",
    "# Randomly dividing the whole data into training (66.67%) and testing (33.33%) data \n",
    "train_files, test_files, train_targets, test_targets = train_test_split(files, targets, test_size=1/6, random_state=191)\n",
    "\n",
    "# Taking ~25% of the training data for validation\n",
    "valid_files = train_files[500:]\n",
    "valid_targets = train_targets[500:]\n",
    "\n",
    "# Remaining data will be used for training the model\n",
    "train_files = train_files[:500]\n",
    "train_targets = train_targets[:500]\n",
    "\n",
    "# Generic details about the data\n",
    "print('Total number of videos:', len(files))\n",
    "print('\\nNumber of videos in training data:', train_files.shape[0])\n",
    "print('Number of videos in validation data:', valid_files.shape[0])\n",
    "print('Number of videos in test data:', test_files.shape[0])"
   ]
  },
  {
   "cell_type": "code",
   "execution_count": 16,
   "metadata": {},
   "outputs": [
    {
     "name": "stdout",
     "output_type": "stream",
     "text": [
      "The categorical labels are converted into integers.\n",
      "Following is the mapping - \n",
      "\n",
      "(0, 'cut')\n",
      "(1, 'fly')\n",
      "(2, 'sleep')\n",
      "(3, 'stand')\n"
     ]
    }
   ],
   "source": [
    "print('The categorical labels are converted into integers.\\nFollowing is the mapping - \\n')\n",
    "for label in zip(range(16), raw_data['target_names']):\n",
    "    print(label)"
   ]
  },
  {
   "cell_type": "code",
   "execution_count": 17,
   "metadata": {},
   "outputs": [
    {
     "name": "stdout",
     "output_type": "stream",
     "text": [
      "('C:\\\\Users\\\\gural\\\\Desktop\\\\animals\\\\cut\\\\VID_20190515_184703Rotate.mp4', 0)\n",
      "('C:\\\\Users\\\\gural\\\\Desktop\\\\animals\\\\fly\\\\HorizontalFlipVID_20190327_190039Rotate.mp4', 1)\n",
      "('C:\\\\Users\\\\gural\\\\Desktop\\\\animals\\\\stand\\\\HorizontalFlipVID_20190327_174806translate.mp4', 3)\n",
      "('C:\\\\Users\\\\gural\\\\Desktop\\\\animals\\\\stand\\\\VID_20190515_185152Crop.mp4', 3)\n",
      "('C:\\\\Users\\\\gural\\\\Desktop\\\\animals\\\\sleep\\\\HorizontalFlipVID_20190327_190359Rotate40.mp4', 2)\n",
      "('C:\\\\Users\\\\gural\\\\Desktop\\\\animals\\\\cut\\\\HorizontalFlipVID_20190327_190427Crop.mp4', 0)\n",
      "('C:\\\\Users\\\\gural\\\\Desktop\\\\animals\\\\stand\\\\HorizontalFlipVID_20190327_185715.mp4', 3)\n",
      "('C:\\\\Users\\\\gural\\\\Desktop\\\\animals\\\\fly\\\\HorizontalFlipVID_20190515_184843Rotate.mp4', 1)\n",
      "('C:\\\\Users\\\\gural\\\\Desktop\\\\animals\\\\stand\\\\HorizontalFlipVID_20190515_185146Rotate40.mp4', 3)\n",
      "('C:\\\\Users\\\\gural\\\\Desktop\\\\animals\\\\stand\\\\HorizontalFlipVID_20190327_185946.mp4', 3)\n",
      "('C:\\\\Users\\\\gural\\\\Desktop\\\\animals\\\\fly\\\\VID_20190327_190205Rotate40.mp4', 1)\n",
      "('C:\\\\Users\\\\gural\\\\Desktop\\\\animals\\\\fly\\\\HorizontalFlipVID_20190327_190107Rotate40.mp4', 1)\n",
      "('C:\\\\Users\\\\gural\\\\Desktop\\\\animals\\\\sleep\\\\VID_20190327_190259Crop.mp4', 2)\n",
      "('C:\\\\Users\\\\gural\\\\Desktop\\\\animals\\\\stand\\\\HorizontalFlipVID_20190327_174526Crop.mp4', 3)\n",
      "('C:\\\\Users\\\\gural\\\\Desktop\\\\animals\\\\cut\\\\HorizontalFlipVID_20190327_190445Rotate40.mp4', 0)\n",
      "('C:\\\\Users\\\\gural\\\\Desktop\\\\animals\\\\stand\\\\HorizontalFlipVID_20190327_174634translate.mp4', 3)\n"
     ]
    }
   ],
   "source": [
    "# Displaying the first 5 videos (paths) in the training data along with their labels\n",
    "# (path of video, class label)\n",
    "for pair in zip(train_files[:16], train_targets[:16]):\n",
    "    print(pair)"
   ]
  },
  {
   "cell_type": "code",
   "execution_count": 18,
   "metadata": {
    "scrolled": true
   },
   "outputs": [
    {
     "name": "stdout",
     "output_type": "stream",
     "text": [
      "['C:\\\\Users\\\\gural\\\\Desktop\\\\animals\\\\fly\\\\HorizontalFlipVID_20190327_190039Rotate.mp4']\n"
     ]
    },
    {
     "name": "stderr",
     "output_type": "stream",
     "text": [
      "\r",
      "  0%|                                                                                            | 0/1 [00:00<?, ?it/s]"
     ]
    },
    {
     "name": "stdout",
     "output_type": "stream",
     "text": [
      "(1, 30, 1080, 1920, 3)\n",
      "C:\\Users\\gural\\Desktop\\animals\\fly\\HorizontalFlipVID_20190327_190039Rotate.mp4\n",
      "\n"
     ]
    },
    {
     "name": "stderr",
     "output_type": "stream",
     "text": [
      "100%|████████████████████████████████████████████████████████████████████████████████████| 1/1 [00:00<00:00,  1.00it/s]\n"
     ]
    },
    {
     "name": "stdout",
     "output_type": "stream",
     "text": [
      "(1, 30, 1080, 1920, 3)\n",
      "\n",
      "Shape of the sample data: (1, 30, 1080, 1920, 3)\n"
     ]
    }
   ],
   "source": [
    "import numpy as np\n",
    "import matplotlib.pyplot as plt\n",
    "%matplotlib inline\n",
    "\n",
    "# The path of a sample video in the training data\n",
    "sample_files = train_files[1:2]\n",
    "\n",
    "# An object of the class 'Videos'\n",
    "reader = Videos(target_size=None, \n",
    "                to_gray=False)\n",
    "print(sample_files)\n",
    "# Loading the sample videos, in their original format\n",
    "sample = reader.read_videos(sample_files)\n",
    "print('\\nShape of the sample data:', sample.shape)"
   ]
  },
  {
   "cell_type": "code",
   "execution_count": 19,
   "metadata": {},
   "outputs": [],
   "source": [
    "import numpy as np\n",
    "from keras.utils import to_categorical\n",
    "\n",
    "#num of frames in alon phone and computer are 40 per second\n",
    "reader = Videos(target_size=(128, 128), \n",
    "                to_gray=True, \n",
    "                max_frames=23, \n",
    "                extract_frames='first', \n",
    "                normalize_pixels=(0, 1))"
   ]
  },
  {
   "cell_type": "code",
   "execution_count": 20,
   "metadata": {
    "scrolled": true
   },
   "outputs": [
    {
     "name": "stderr",
     "output_type": "stream",
     "text": [
      "\r",
      "  0%|                                                                                          | 0/500 [00:00<?, ?it/s]"
     ]
    },
    {
     "name": "stdout",
     "output_type": "stream",
     "text": [
      "(1, 23, 128, 128, 1)\n",
      "C:\\Users\\gural\\Desktop\\animals\\cut\\VID_20190515_184703Rotate.mp4\n",
      "\n"
     ]
    },
    {
     "name": "stderr",
     "output_type": "stream",
     "text": [
      "\r",
      "  0%|▏                                                                                 | 1/500 [00:03<29:53,  3.59s/it]"
     ]
    },
    {
     "name": "stdout",
     "output_type": "stream",
     "text": [
      "(1, 23, 128, 128, 1)\n",
      "C:\\Users\\gural\\Desktop\\animals\\fly\\HorizontalFlipVID_20190327_190039Rotate.mp4\n",
      "\n"
     ]
    },
    {
     "name": "stderr",
     "output_type": "stream",
     "text": [
      "\r",
      "  0%|▎                                                                                 | 2/500 [00:07<29:53,  3.60s/it]"
     ]
    },
    {
     "name": "stdout",
     "output_type": "stream",
     "text": [
      "(1, 23, 128, 128, 1)\n",
      "C:\\Users\\gural\\Desktop\\animals\\stand\\HorizontalFlipVID_20190327_174806translate.mp4\n",
      "\n"
     ]
    },
    {
     "name": "stderr",
     "output_type": "stream",
     "text": [
      "\r",
      "  1%|▍                                                                                 | 3/500 [00:11<31:52,  3.85s/it]"
     ]
    },
    {
     "name": "stdout",
     "output_type": "stream",
     "text": [
      "(1, 23, 128, 128, 1)\n",
      "C:\\Users\\gural\\Desktop\\animals\\stand\\VID_20190515_185152Crop.mp4\n",
      "\n"
     ]
    },
    {
     "name": "stderr",
     "output_type": "stream",
     "text": [
      "\r",
      "  1%|▋                                                                                 | 4/500 [00:15<31:17,  3.79s/it]"
     ]
    },
    {
     "name": "stdout",
     "output_type": "stream",
     "text": [
      "(1, 23, 128, 128, 1)\n",
      "C:\\Users\\gural\\Desktop\\animals\\sleep\\HorizontalFlipVID_20190327_190359Rotate40.mp4\n",
      "\n"
     ]
    },
    {
     "name": "stderr",
     "output_type": "stream",
     "text": [
      "\r",
      "  1%|▊                                                                                 | 5/500 [00:18<30:47,  3.73s/it]"
     ]
    },
    {
     "name": "stdout",
     "output_type": "stream",
     "text": [
      "(1, 23, 128, 128, 1)\n",
      "C:\\Users\\gural\\Desktop\\animals\\cut\\HorizontalFlipVID_20190327_190427Crop.mp4\n",
      "\n"
     ]
    },
    {
     "name": "stderr",
     "output_type": "stream",
     "text": [
      "\r",
      "  1%|▉                                                                                 | 6/500 [00:21<27:02,  3.28s/it]"
     ]
    },
    {
     "name": "stdout",
     "output_type": "stream",
     "text": [
      "(1, 23, 128, 128, 1)\n",
      "C:\\Users\\gural\\Desktop\\animals\\stand\\HorizontalFlipVID_20190327_185715.mp4\n",
      "\n"
     ]
    },
    {
     "name": "stderr",
     "output_type": "stream",
     "text": [
      "\r",
      "  1%|█▏                                                                                | 7/500 [00:25<29:55,  3.64s/it]"
     ]
    },
    {
     "name": "stdout",
     "output_type": "stream",
     "text": [
      "(1, 23, 128, 128, 1)\n",
      "C:\\Users\\gural\\Desktop\\animals\\fly\\HorizontalFlipVID_20190515_184843Rotate.mp4\n",
      "\n"
     ]
    },
    {
     "name": "stderr",
     "output_type": "stream",
     "text": [
      "\r",
      "  2%|█▎                                                                                | 8/500 [00:33<41:04,  5.01s/it]"
     ]
    },
    {
     "name": "stdout",
     "output_type": "stream",
     "text": [
      "(1, 23, 128, 128, 1)\n",
      "C:\\Users\\gural\\Desktop\\animals\\stand\\HorizontalFlipVID_20190515_185146Rotate40.mp4\n",
      "\n"
     ]
    },
    {
     "name": "stderr",
     "output_type": "stream",
     "text": [
      "\r",
      "  2%|█▍                                                                                | 9/500 [00:38<40:43,  4.98s/it]"
     ]
    },
    {
     "name": "stdout",
     "output_type": "stream",
     "text": [
      "(1, 23, 128, 128, 1)\n",
      "C:\\Users\\gural\\Desktop\\animals\\stand\\HorizontalFlipVID_20190327_185946.mp4\n",
      "\n"
     ]
    },
    {
     "name": "stderr",
     "output_type": "stream",
     "text": [
      "\r",
      "  2%|█▌                                                                               | 10/500 [00:44<41:39,  5.10s/it]"
     ]
    },
    {
     "name": "stdout",
     "output_type": "stream",
     "text": [
      "(1, 23, 128, 128, 1)\n",
      "C:\\Users\\gural\\Desktop\\animals\\fly\\VID_20190327_190205Rotate40.mp4\n",
      "\n"
     ]
    },
    {
     "name": "stderr",
     "output_type": "stream",
     "text": [
      "\r",
      "  2%|█▊                                                                               | 11/500 [00:47<38:38,  4.74s/it]"
     ]
    },
    {
     "name": "stdout",
     "output_type": "stream",
     "text": [
      "(1, 23, 128, 128, 1)\n",
      "C:\\Users\\gural\\Desktop\\animals\\fly\\HorizontalFlipVID_20190327_190107Rotate40.mp4\n",
      "\n"
     ]
    },
    {
     "name": "stderr",
     "output_type": "stream",
     "text": [
      "\r",
      "  2%|█▉                                                                               | 12/500 [00:51<36:45,  4.52s/it]"
     ]
    },
    {
     "name": "stdout",
     "output_type": "stream",
     "text": [
      "(1, 23, 128, 128, 1)\n",
      "C:\\Users\\gural\\Desktop\\animals\\sleep\\VID_20190327_190259Crop.mp4\n",
      "\n"
     ]
    },
    {
     "name": "stderr",
     "output_type": "stream",
     "text": [
      "\r",
      "  3%|██                                                                               | 13/500 [00:53<30:26,  3.75s/it]"
     ]
    },
    {
     "name": "stdout",
     "output_type": "stream",
     "text": [
      "(1, 23, 128, 128, 1)\n",
      "C:\\Users\\gural\\Desktop\\animals\\stand\\HorizontalFlipVID_20190327_174526Crop.mp4\n",
      "\n"
     ]
    },
    {
     "name": "stderr",
     "output_type": "stream",
     "text": [
      "\r",
      "  3%|██▎                                                                              | 14/500 [00:56<26:46,  3.30s/it]"
     ]
    },
    {
     "name": "stdout",
     "output_type": "stream",
     "text": [
      "(1, 23, 128, 128, 1)\n",
      "C:\\Users\\gural\\Desktop\\animals\\cut\\HorizontalFlipVID_20190327_190445Rotate40.mp4\n",
      "\n"
     ]
    },
    {
     "name": "stderr",
     "output_type": "stream",
     "text": [
      "\r",
      "  3%|██▍                                                                              | 15/500 [01:00<28:43,  3.55s/it]"
     ]
    },
    {
     "name": "stdout",
     "output_type": "stream",
     "text": [
      "(1, 23, 128, 128, 1)\n",
      "C:\\Users\\gural\\Desktop\\animals\\stand\\HorizontalFlipVID_20190327_174634translate.mp4\n",
      "\n"
     ]
    },
    {
     "name": "stderr",
     "output_type": "stream",
     "text": [
      "\r",
      "  3%|██▌                                                                              | 16/500 [01:05<33:37,  4.17s/it]"
     ]
    },
    {
     "name": "stdout",
     "output_type": "stream",
     "text": [
      "(1, 23, 128, 128, 1)\n",
      "C:\\Users\\gural\\Desktop\\animals\\fly\\VID_20190515_184838.mp4\n",
      "\n"
     ]
    },
    {
     "name": "stderr",
     "output_type": "stream",
     "text": [
      "\r",
      "  3%|██▊                                                                              | 17/500 [01:09<32:30,  4.04s/it]"
     ]
    },
    {
     "name": "stdout",
     "output_type": "stream",
     "text": [
      "(1, 23, 128, 128, 1)\n",
      "C:\\Users\\gural\\Desktop\\animals\\cut\\HorizontalFlipVID_20190327_175730Rotate40.mp4\n",
      "\n"
     ]
    },
    {
     "name": "stderr",
     "output_type": "stream",
     "text": [
      "\r",
      "  4%|██▉                                                                              | 18/500 [01:14<33:30,  4.17s/it]"
     ]
    },
    {
     "name": "stdout",
     "output_type": "stream",
     "text": [
      "(1, 23, 128, 128, 1)\n",
      "C:\\Users\\gural\\Desktop\\animals\\cut\\HorizontalFlipVID_20190327_190415Crop.mp4\n",
      "\n"
     ]
    },
    {
     "name": "stderr",
     "output_type": "stream",
     "text": [
      "\r",
      "  4%|███                                                                              | 19/500 [01:16<29:24,  3.67s/it]"
     ]
    },
    {
     "name": "stdout",
     "output_type": "stream",
     "text": [
      "(1, 23, 128, 128, 1)\n",
      "C:\\Users\\gural\\Desktop\\animals\\cut\\VID_20190327_190415Rotate.mp4\n",
      "\n"
     ]
    },
    {
     "name": "stderr",
     "output_type": "stream",
     "text": [
      "\r",
      "  4%|███▏                                                                             | 20/500 [01:21<31:33,  3.95s/it]"
     ]
    },
    {
     "name": "stdout",
     "output_type": "stream",
     "text": [
      "(1, 23, 128, 128, 1)\n",
      "C:\\Users\\gural\\Desktop\\animals\\cut\\VID_20190327_190522translate.mp4\n",
      "\n"
     ]
    },
    {
     "name": "stderr",
     "output_type": "stream",
     "text": [
      "\r",
      "  4%|███▍                                                                             | 21/500 [01:25<31:48,  3.98s/it]"
     ]
    },
    {
     "name": "stdout",
     "output_type": "stream",
     "text": [
      "(1, 23, 128, 128, 1)\n",
      "C:\\Users\\gural\\Desktop\\animals\\stand\\VID_20190327_185941Rotate.mp4\n",
      "\n"
     ]
    },
    {
     "name": "stderr",
     "output_type": "stream",
     "text": [
      "\r",
      "  4%|███▌                                                                             | 22/500 [01:29<31:38,  3.97s/it]"
     ]
    },
    {
     "name": "stdout",
     "output_type": "stream",
     "text": [
      "(1, 23, 128, 128, 1)\n",
      "C:\\Users\\gural\\Desktop\\animals\\sleep\\VID_20190327_190344Crop.mp4\n",
      "\n"
     ]
    },
    {
     "name": "stderr",
     "output_type": "stream",
     "text": [
      "\r",
      "  5%|███▋                                                                             | 23/500 [01:31<27:13,  3.43s/it]"
     ]
    },
    {
     "name": "stdout",
     "output_type": "stream",
     "text": [
      "(1, 23, 128, 128, 1)\n",
      "C:\\Users\\gural\\Desktop\\animals\\stand\\HorizontalFlipVID_20190327_185710translate.mp4\n",
      "\n"
     ]
    },
    {
     "name": "stderr",
     "output_type": "stream",
     "text": [
      "\r",
      "  5%|███▉                                                                             | 24/500 [01:35<28:00,  3.53s/it]"
     ]
    },
    {
     "name": "stdout",
     "output_type": "stream",
     "text": [
      "(1, 23, 128, 128, 1)\n",
      "C:\\Users\\gural\\Desktop\\animals\\fly\\VID_20190327_190107Crop.mp4\n",
      "\n"
     ]
    },
    {
     "name": "stderr",
     "output_type": "stream",
     "text": [
      "\r",
      "  5%|████                                                                             | 25/500 [01:37<25:01,  3.16s/it]"
     ]
    },
    {
     "name": "stdout",
     "output_type": "stream",
     "text": [
      "(1, 23, 128, 128, 1)\n",
      "C:\\Users\\gural\\Desktop\\animals\\stand\\HorizontalFlipVID_20190327_185727Crop.mp4\n",
      "\n"
     ]
    },
    {
     "name": "stderr",
     "output_type": "stream",
     "text": [
      "\r",
      "  5%|████▏                                                                            | 26/500 [01:40<25:27,  3.22s/it]"
     ]
    },
    {
     "name": "stdout",
     "output_type": "stream",
     "text": [
      "(1, 23, 128, 128, 1)\n",
      "C:\\Users\\gural\\Desktop\\animals\\stand\\VID_20190327_174806translate.mp4\n",
      "\n"
     ]
    },
    {
     "name": "stderr",
     "output_type": "stream",
     "text": [
      "\r",
      "  5%|████▎                                                                            | 27/500 [01:44<26:55,  3.42s/it]"
     ]
    },
    {
     "name": "stdout",
     "output_type": "stream",
     "text": [
      "(1, 23, 128, 128, 1)\n",
      "C:\\Users\\gural\\Desktop\\animals\\stand\\VID_20190327_185921.mp4\n",
      "\n"
     ]
    },
    {
     "name": "stderr",
     "output_type": "stream",
     "text": [
      "\r",
      "  6%|████▌                                                                            | 28/500 [01:51<35:01,  4.45s/it]"
     ]
    },
    {
     "name": "stdout",
     "output_type": "stream",
     "text": [
      "(1, 23, 128, 128, 1)\n",
      "C:\\Users\\gural\\Desktop\\animals\\fly\\VID_20190327_175513translate.mp4\n",
      "\n"
     ]
    },
    {
     "name": "stderr",
     "output_type": "stream",
     "text": [
      "\r",
      "  6%|████▋                                                                            | 29/500 [01:57<38:57,  4.96s/it]"
     ]
    },
    {
     "name": "stdout",
     "output_type": "stream",
     "text": [
      "(1, 23, 128, 128, 1)\n",
      "C:\\Users\\gural\\Desktop\\animals\\cut\\VID_20190515_184711Rotate40.mp4\n",
      "\n"
     ]
    },
    {
     "name": "stderr",
     "output_type": "stream",
     "text": [
      "\r",
      "  6%|████▊                                                                            | 30/500 [02:02<37:35,  4.80s/it]"
     ]
    },
    {
     "name": "stdout",
     "output_type": "stream",
     "text": [
      "(1, 23, 128, 128, 1)\n",
      "C:\\Users\\gural\\Desktop\\animals\\stand\\VID_20190327_185715Rotate.mp4\n",
      "\n"
     ]
    },
    {
     "name": "stderr",
     "output_type": "stream",
     "text": [
      "\r",
      "  6%|█████                                                                            | 31/500 [02:06<36:40,  4.69s/it]"
     ]
    },
    {
     "name": "stdout",
     "output_type": "stream",
     "text": [
      "(1, 23, 128, 128, 1)\n",
      "C:\\Users\\gural\\Desktop\\animals\\fly\\VID_20190327_190045Rotate40.mp4\n",
      "\n"
     ]
    },
    {
     "name": "stderr",
     "output_type": "stream",
     "text": [
      "\r",
      "  6%|█████▏                                                                           | 32/500 [02:10<34:32,  4.43s/it]"
     ]
    },
    {
     "name": "stdout",
     "output_type": "stream",
     "text": [
      "(1, 23, 128, 128, 1)\n",
      "C:\\Users\\gural\\Desktop\\animals\\cut\\VID_20190327_175758Rotate.mp4\n",
      "\n"
     ]
    },
    {
     "name": "stderr",
     "output_type": "stream",
     "text": [
      "\r",
      "  7%|█████▎                                                                           | 33/500 [02:13<31:59,  4.11s/it]"
     ]
    },
    {
     "name": "stdout",
     "output_type": "stream",
     "text": [
      "(1, 23, 128, 128, 1)\n",
      "C:\\Users\\gural\\Desktop\\animals\\stand\\VID_20190327_185934Crop.mp4\n",
      "\n"
     ]
    },
    {
     "name": "stderr",
     "output_type": "stream",
     "text": [
      "\r",
      "  7%|█████▌                                                                           | 34/500 [02:15<27:19,  3.52s/it]"
     ]
    },
    {
     "name": "stdout",
     "output_type": "stream",
     "text": [
      "(1, 23, 128, 128, 1)\n",
      "C:\\Users\\gural\\Desktop\\animals\\stand\\HorizontalFlipVID_20190327_185710Crop.mp4\n",
      "\n"
     ]
    },
    {
     "name": "stderr",
     "output_type": "stream",
     "text": [
      "\r",
      "  7%|█████▋                                                                           | 35/500 [02:18<24:22,  3.14s/it]"
     ]
    },
    {
     "name": "stdout",
     "output_type": "stream",
     "text": [
      "(1, 23, 128, 128, 1)\n",
      "C:\\Users\\gural\\Desktop\\animals\\sleep\\VID_20190515_185106Rotate40.mp4\n",
      "\n"
     ]
    },
    {
     "name": "stderr",
     "output_type": "stream",
     "text": [
      "\r",
      "  7%|█████▊                                                                           | 36/500 [02:23<30:21,  3.93s/it]"
     ]
    },
    {
     "name": "stdout",
     "output_type": "stream",
     "text": [
      "(1, 23, 128, 128, 1)\n",
      "C:\\Users\\gural\\Desktop\\animals\\cut\\VID_20190327_175758Crop.mp4\n",
      "\n"
     ]
    },
    {
     "name": "stderr",
     "output_type": "stream",
     "text": [
      "\r",
      "  7%|█████▉                                                                           | 37/500 [02:26<26:02,  3.37s/it]"
     ]
    },
    {
     "name": "stdout",
     "output_type": "stream",
     "text": [
      "(1, 23, 128, 128, 1)\n",
      "C:\\Users\\gural\\Desktop\\animals\\stand\\VID_20190327_185727translate.mp4\n",
      "\n"
     ]
    },
    {
     "name": "stderr",
     "output_type": "stream",
     "text": [
      "\r",
      "  8%|██████▏                                                                          | 38/500 [02:32<32:03,  4.16s/it]"
     ]
    },
    {
     "name": "stdout",
     "output_type": "stream",
     "text": [
      "(1, 23, 128, 128, 1)\n",
      "C:\\Users\\gural\\Desktop\\animals\\fly\\VID_20190327_190219Rotate.mp4\n",
      "\n"
     ]
    },
    {
     "name": "stderr",
     "output_type": "stream",
     "text": [
      "\r",
      "  8%|██████▎                                                                          | 39/500 [02:35<29:39,  3.86s/it]"
     ]
    },
    {
     "name": "stdout",
     "output_type": "stream",
     "text": [
      "(1, 23, 128, 128, 1)\n",
      "C:\\Users\\gural\\Desktop\\animals\\cut\\VID_20190327_190432Rotate40.mp4\n",
      "\n"
     ]
    },
    {
     "name": "stderr",
     "output_type": "stream",
     "text": [
      "\r",
      "  8%|██████▍                                                                          | 40/500 [02:38<28:36,  3.73s/it]"
     ]
    },
    {
     "name": "stdout",
     "output_type": "stream",
     "text": [
      "(1, 23, 128, 128, 1)\n",
      "C:\\Users\\gural\\Desktop\\animals\\sleep\\HorizontalFlipVID_20190327_190319translate.mp4\n",
      "\n"
     ]
    },
    {
     "name": "stderr",
     "output_type": "stream",
     "text": [
      "\r",
      "  8%|██████▋                                                                          | 41/500 [02:43<30:58,  4.05s/it]"
     ]
    },
    {
     "name": "stdout",
     "output_type": "stream",
     "text": [
      "(1, 23, 128, 128, 1)\n",
      "C:\\Users\\gural\\Desktop\\animals\\cut\\VID_20190327_190427Rotate40.mp4\n",
      "\n"
     ]
    },
    {
     "name": "stderr",
     "output_type": "stream",
     "text": [
      "\r",
      "  8%|██████▊                                                                          | 42/500 [02:47<30:09,  3.95s/it]"
     ]
    },
    {
     "name": "stdout",
     "output_type": "stream",
     "text": [
      "(1, 23, 128, 128, 1)\n",
      "C:\\Users\\gural\\Desktop\\animals\\cut\\VID_20190327_175758Rotate40.mp4\n",
      "\n"
     ]
    },
    {
     "name": "stderr",
     "output_type": "stream",
     "text": [
      "\r",
      "  9%|██████▉                                                                          | 43/500 [02:50<28:32,  3.75s/it]"
     ]
    },
    {
     "name": "stdout",
     "output_type": "stream",
     "text": [
      "(1, 23, 128, 128, 1)\n",
      "C:\\Users\\gural\\Desktop\\animals\\stand\\VID_20190327_185927Rotate.mp4\n",
      "\n"
     ]
    },
    {
     "name": "stderr",
     "output_type": "stream",
     "text": [
      "\r",
      "  9%|███████▏                                                                         | 44/500 [02:54<29:20,  3.86s/it]"
     ]
    },
    {
     "name": "stdout",
     "output_type": "stream",
     "text": [
      "(1, 23, 128, 128, 1)\n",
      "C:\\Users\\gural\\Desktop\\animals\\fly\\HorizontalFlipVID_20190327_190112Crop.mp4\n",
      "\n"
     ]
    },
    {
     "name": "stderr",
     "output_type": "stream",
     "text": [
      "\r",
      "  9%|███████▎                                                                         | 45/500 [02:56<25:49,  3.41s/it]"
     ]
    },
    {
     "name": "stdout",
     "output_type": "stream",
     "text": [
      "(1, 23, 128, 128, 1)\n",
      "C:\\Users\\gural\\Desktop\\animals\\fly\\VID_20190327_190039Rotate40.mp4\n",
      "\n"
     ]
    },
    {
     "name": "stderr",
     "output_type": "stream",
     "text": [
      "\r",
      "  9%|███████▍                                                                         | 46/500 [02:59<24:53,  3.29s/it]"
     ]
    },
    {
     "name": "stdout",
     "output_type": "stream",
     "text": [
      "(1, 23, 128, 128, 1)\n",
      "C:\\Users\\gural\\Desktop\\animals\\fly\\HorizontalFlipVID_20190327_190112.mp4\n",
      "\n"
     ]
    },
    {
     "name": "stderr",
     "output_type": "stream",
     "text": [
      "\r",
      "  9%|███████▌                                                                         | 47/500 [03:03<26:33,  3.52s/it]"
     ]
    },
    {
     "name": "stdout",
     "output_type": "stream",
     "text": [
      "(1, 23, 128, 128, 1)\n",
      "C:\\Users\\gural\\Desktop\\animals\\fly\\VID_20190327_175451.mp4\n",
      "\n"
     ]
    },
    {
     "name": "stderr",
     "output_type": "stream",
     "text": [
      "\r",
      " 10%|███████▊                                                                         | 48/500 [03:07<26:20,  3.50s/it]"
     ]
    },
    {
     "name": "stdout",
     "output_type": "stream",
     "text": [
      "(1, 23, 128, 128, 1)\n",
      "C:\\Users\\gural\\Desktop\\animals\\fly\\VID_20190327_190107.mp4\n",
      "\n"
     ]
    },
    {
     "name": "stderr",
     "output_type": "stream",
     "text": [
      "\r",
      " 10%|███████▉                                                                         | 49/500 [03:11<27:38,  3.68s/it]"
     ]
    },
    {
     "name": "stdout",
     "output_type": "stream",
     "text": [
      "(1, 23, 128, 128, 1)\n",
      "C:\\Users\\gural\\Desktop\\animals\\stand\\VID_20190529_194653.mp4\n",
      "\n"
     ]
    },
    {
     "name": "stderr",
     "output_type": "stream",
     "text": [
      "\r",
      " 10%|████████                                                                         | 50/500 [03:16<31:29,  4.20s/it]"
     ]
    },
    {
     "name": "stdout",
     "output_type": "stream",
     "text": [
      "(1, 23, 128, 128, 1)\n",
      "C:\\Users\\gural\\Desktop\\animals\\sleep\\VID_20190327_190319Rotate40.mp4\n",
      "\n"
     ]
    },
    {
     "name": "stderr",
     "output_type": "stream",
     "text": [
      "\r",
      " 10%|████████▎                                                                        | 51/500 [03:21<33:13,  4.44s/it]"
     ]
    },
    {
     "name": "stdout",
     "output_type": "stream",
     "text": [
      "(1, 23, 128, 128, 1)\n",
      "C:\\Users\\gural\\Desktop\\animals\\fly\\HorizontalFlipVID_20190327_175513Rotate.mp4\n",
      "\n"
     ]
    },
    {
     "name": "stderr",
     "output_type": "stream",
     "text": [
      "\r",
      " 10%|████████▍                                                                        | 52/500 [03:27<36:44,  4.92s/it]"
     ]
    },
    {
     "name": "stdout",
     "output_type": "stream",
     "text": [
      "(1, 23, 128, 128, 1)\n",
      "C:\\Users\\gural\\Desktop\\animals\\cut\\VID_20190515_184707Rotate40.mp4\n",
      "\n"
     ]
    },
    {
     "name": "stderr",
     "output_type": "stream",
     "text": [
      "\r",
      " 11%|████████▌                                                                        | 53/500 [03:33<37:02,  4.97s/it]"
     ]
    },
    {
     "name": "stdout",
     "output_type": "stream",
     "text": [
      "(1, 23, 128, 128, 1)\n",
      "C:\\Users\\gural\\Desktop\\animals\\cut\\HorizontalFlipVID_20190327_190528.mp4\n",
      "\n"
     ]
    },
    {
     "name": "stderr",
     "output_type": "stream",
     "text": [
      "\r",
      " 11%|████████▋                                                                        | 54/500 [03:37<34:45,  4.68s/it]"
     ]
    },
    {
     "name": "stdout",
     "output_type": "stream",
     "text": [
      "(1, 23, 128, 128, 1)\n",
      "C:\\Users\\gural\\Desktop\\animals\\stand\\VID_20190327_185700Rotate.mp4\n",
      "\n"
     ]
    },
    {
     "name": "stderr",
     "output_type": "stream",
     "text": [
      "\r",
      " 11%|████████▉                                                                        | 55/500 [03:41<33:54,  4.57s/it]"
     ]
    },
    {
     "name": "stdout",
     "output_type": "stream",
     "text": [
      "(1, 23, 128, 128, 1)\n",
      "C:\\Users\\gural\\Desktop\\animals\\sleep\\HorizontalFlipVID_20190327_175047Crop.mp4\n",
      "\n"
     ]
    },
    {
     "name": "stderr",
     "output_type": "stream",
     "text": [
      "\r",
      " 11%|█████████                                                                        | 56/500 [03:43<29:09,  3.94s/it]"
     ]
    },
    {
     "name": "stdout",
     "output_type": "stream",
     "text": [
      "(1, 23, 128, 128, 1)\n",
      "C:\\Users\\gural\\Desktop\\animals\\stand\\VID_20190327_185921Crop.mp4\n",
      "\n"
     ]
    },
    {
     "name": "stderr",
     "output_type": "stream",
     "text": [
      "\r",
      " 11%|█████████▏                                                                       | 57/500 [03:47<28:49,  3.90s/it]"
     ]
    },
    {
     "name": "stdout",
     "output_type": "stream",
     "text": [
      "(1, 23, 128, 128, 1)\n",
      "C:\\Users\\gural\\Desktop\\animals\\stand\\VID_20190327_190002Crop.mp4\n",
      "\n"
     ]
    },
    {
     "name": "stderr",
     "output_type": "stream",
     "text": [
      "\r",
      " 12%|█████████▍                                                                       | 58/500 [03:50<26:52,  3.65s/it]"
     ]
    },
    {
     "name": "stdout",
     "output_type": "stream",
     "text": [
      "(1, 23, 128, 128, 1)\n",
      "C:\\Users\\gural\\Desktop\\animals\\stand\\HorizontalFlipVID_20190327_185921Crop.mp4\n",
      "\n"
     ]
    },
    {
     "name": "stderr",
     "output_type": "stream",
     "text": [
      "\r",
      " 12%|█████████▌                                                                       | 59/500 [03:54<27:10,  3.70s/it]"
     ]
    },
    {
     "name": "stdout",
     "output_type": "stream",
     "text": [
      "(1, 23, 128, 128, 1)\n",
      "C:\\Users\\gural\\Desktop\\animals\\cut\\HorizontalFlipVID_20190327_190415Rotate.mp4\n",
      "\n"
     ]
    },
    {
     "name": "stderr",
     "output_type": "stream",
     "text": [
      "\r",
      " 12%|█████████▋                                                                       | 60/500 [03:58<28:35,  3.90s/it]"
     ]
    },
    {
     "name": "stdout",
     "output_type": "stream",
     "text": [
      "(1, 23, 128, 128, 1)\n",
      "C:\\Users\\gural\\Desktop\\animals\\cut\\HorizontalFlipVID_20190515_184707.mp4\n",
      "\n"
     ]
    },
    {
     "name": "stderr",
     "output_type": "stream",
     "text": [
      "\r",
      " 12%|█████████▉                                                                       | 61/500 [04:03<30:31,  4.17s/it]"
     ]
    },
    {
     "name": "stdout",
     "output_type": "stream",
     "text": [
      "(1, 23, 128, 128, 1)\n",
      "C:\\Users\\gural\\Desktop\\animals\\fly\\HorizontalFlipVID_20190515_184838Crop.mp4\n",
      "\n"
     ]
    },
    {
     "name": "stderr",
     "output_type": "stream",
     "text": [
      "\r",
      " 12%|██████████                                                                       | 62/500 [04:05<25:47,  3.53s/it]"
     ]
    },
    {
     "name": "stdout",
     "output_type": "stream",
     "text": [
      "(1, 23, 128, 128, 1)\n",
      "C:\\Users\\gural\\Desktop\\animals\\fly\\VID_20190327_190205Crop.mp4\n",
      "\n"
     ]
    },
    {
     "name": "stderr",
     "output_type": "stream",
     "text": [
      "\r",
      " 13%|██████████▏                                                                      | 63/500 [04:08<23:00,  3.16s/it]"
     ]
    },
    {
     "name": "stdout",
     "output_type": "stream",
     "text": [
      "(1, 23, 128, 128, 1)\n",
      "C:\\Users\\gural\\Desktop\\animals\\stand\\HorizontalFlipVID_20190515_185137.mp4\n",
      "\n"
     ]
    },
    {
     "name": "stderr",
     "output_type": "stream",
     "text": [
      "\r",
      " 13%|██████████▎                                                                      | 64/500 [04:12<26:37,  3.66s/it]"
     ]
    },
    {
     "name": "stdout",
     "output_type": "stream",
     "text": [
      "(1, 23, 128, 128, 1)\n",
      "C:\\Users\\gural\\Desktop\\animals\\stand\\VID_20190327_174526.mp4\n",
      "\n"
     ]
    },
    {
     "name": "stderr",
     "output_type": "stream",
     "text": [
      "\r",
      " 13%|██████████▌                                                                      | 65/500 [04:16<27:31,  3.80s/it]"
     ]
    },
    {
     "name": "stdout",
     "output_type": "stream",
     "text": [
      "(1, 23, 128, 128, 1)\n",
      "C:\\Users\\gural\\Desktop\\animals\\fly\\VID_20190327_175451Rotate.mp4\n",
      "\n"
     ]
    },
    {
     "name": "stderr",
     "output_type": "stream",
     "text": [
      "\r",
      " 13%|██████████▋                                                                      | 66/500 [04:20<26:42,  3.69s/it]"
     ]
    },
    {
     "name": "stdout",
     "output_type": "stream",
     "text": [
      "(1, 23, 128, 128, 1)\n",
      "C:\\Users\\gural\\Desktop\\animals\\stand\\VID_20190327_185934translate.mp4\n",
      "\n"
     ]
    },
    {
     "name": "stderr",
     "output_type": "stream",
     "text": [
      "\r",
      " 13%|██████████▊                                                                      | 67/500 [04:24<26:43,  3.70s/it]"
     ]
    },
    {
     "name": "stdout",
     "output_type": "stream",
     "text": [
      "(1, 23, 128, 128, 1)\n",
      "C:\\Users\\gural\\Desktop\\animals\\cut\\VID_20190327_175707Crop.mp4\n",
      "\n"
     ]
    },
    {
     "name": "stderr",
     "output_type": "stream",
     "text": [
      "\r",
      " 14%|███████████                                                                      | 68/500 [04:26<23:50,  3.31s/it]"
     ]
    },
    {
     "name": "stdout",
     "output_type": "stream",
     "text": [
      "(1, 23, 128, 128, 1)\n",
      "C:\\Users\\gural\\Desktop\\animals\\fly\\VID_20190327_190119.mp4\n",
      "\n"
     ]
    },
    {
     "name": "stderr",
     "output_type": "stream",
     "text": [
      "\r",
      " 14%|███████████▏                                                                     | 69/500 [04:29<23:58,  3.34s/it]"
     ]
    },
    {
     "name": "stdout",
     "output_type": "stream",
     "text": [
      "(1, 23, 128, 128, 1)\n",
      "C:\\Users\\gural\\Desktop\\animals\\cut\\HorizontalFlipVID_20190327_190432Rotate.mp4\n",
      "\n"
     ]
    },
    {
     "name": "stderr",
     "output_type": "stream",
     "text": [
      "\r",
      " 14%|███████████▎                                                                     | 70/500 [04:33<24:19,  3.39s/it]"
     ]
    },
    {
     "name": "stdout",
     "output_type": "stream",
     "text": [
      "(1, 23, 128, 128, 1)\n",
      "C:\\Users\\gural\\Desktop\\animals\\cut\\HorizontalFlipVID_20190327_175826.mp4\n",
      "\n"
     ]
    },
    {
     "name": "stderr",
     "output_type": "stream",
     "text": [
      "\r",
      " 14%|███████████▌                                                                     | 71/500 [04:37<25:08,  3.52s/it]"
     ]
    },
    {
     "name": "stdout",
     "output_type": "stream",
     "text": [
      "(1, 23, 128, 128, 1)\n",
      "C:\\Users\\gural\\Desktop\\animals\\fly\\VID_20190515_184843Crop.mp4\n",
      "\n"
     ]
    },
    {
     "name": "stderr",
     "output_type": "stream",
     "text": [
      "\r",
      " 14%|███████████▋                                                                     | 72/500 [04:42<28:22,  3.98s/it]"
     ]
    },
    {
     "name": "stdout",
     "output_type": "stream",
     "text": [
      "(1, 23, 128, 128, 1)\n",
      "C:\\Users\\gural\\Desktop\\animals\\cut\\VID_20190327_190550translate.mp4\n",
      "\n"
     ]
    },
    {
     "name": "stderr",
     "output_type": "stream",
     "text": [
      "\r",
      " 15%|███████████▊                                                                     | 73/500 [04:45<27:17,  3.84s/it]"
     ]
    },
    {
     "name": "stdout",
     "output_type": "stream",
     "text": [
      "(1, 23, 128, 128, 1)\n",
      "C:\\Users\\gural\\Desktop\\animals\\sleep\\HorizontalFlipVID_20190327_175013Crop.mp4\n",
      "\n"
     ]
    },
    {
     "name": "stderr",
     "output_type": "stream",
     "text": [
      "\r",
      " 15%|███████████▉                                                                     | 74/500 [04:48<25:24,  3.58s/it]"
     ]
    },
    {
     "name": "stdout",
     "output_type": "stream",
     "text": [
      "(1, 23, 128, 128, 1)\n",
      "C:\\Users\\gural\\Desktop\\animals\\stand\\VID_20190327_190028Rotate40.mp4\n",
      "\n"
     ]
    },
    {
     "name": "stderr",
     "output_type": "stream",
     "text": [
      "\r",
      " 15%|████████████▏                                                                    | 75/500 [04:53<27:20,  3.86s/it]"
     ]
    },
    {
     "name": "stdout",
     "output_type": "stream",
     "text": [
      "(1, 23, 128, 128, 1)\n",
      "C:\\Users\\gural\\Desktop\\animals\\sleep\\VID_20190327_175047Crop.mp4\n",
      "\n"
     ]
    },
    {
     "name": "stderr",
     "output_type": "stream",
     "text": [
      "\r",
      " 15%|████████████▎                                                                    | 76/500 [04:55<24:19,  3.44s/it]"
     ]
    },
    {
     "name": "stdout",
     "output_type": "stream",
     "text": [
      "(1, 23, 128, 128, 1)\n",
      "C:\\Users\\gural\\Desktop\\animals\\fly\\HorizontalFlipVID_20190327_190231translate.mp4\n",
      "\n"
     ]
    },
    {
     "name": "stderr",
     "output_type": "stream",
     "text": [
      "\r",
      " 15%|████████████▍                                                                    | 77/500 [04:58<23:39,  3.36s/it]"
     ]
    },
    {
     "name": "stdout",
     "output_type": "stream",
     "text": [
      "(1, 23, 128, 128, 1)\n",
      "C:\\Users\\gural\\Desktop\\animals\\sleep\\HorizontalFlipVID_20190327_175013translate.mp4\n",
      "\n"
     ]
    },
    {
     "name": "stderr",
     "output_type": "stream",
     "text": [
      "\r",
      " 16%|████████████▋                                                                    | 78/500 [05:04<27:24,  3.90s/it]"
     ]
    },
    {
     "name": "stdout",
     "output_type": "stream",
     "text": [
      "(1, 23, 128, 128, 1)\n",
      "C:\\Users\\gural\\Desktop\\animals\\sleep\\HorizontalFlipVID_20190327_174920Crop.mp4\n",
      "\n"
     ]
    },
    {
     "name": "stderr",
     "output_type": "stream",
     "text": [
      "\r",
      " 16%|████████████▊                                                                    | 79/500 [05:06<24:38,  3.51s/it]"
     ]
    },
    {
     "name": "stdout",
     "output_type": "stream",
     "text": [
      "(1, 23, 128, 128, 1)\n",
      "C:\\Users\\gural\\Desktop\\animals\\sleep\\HorizontalFlipVID_20190327_190344Rotate.mp4\n",
      "\n"
     ]
    },
    {
     "name": "stderr",
     "output_type": "stream",
     "text": [
      "\r",
      " 16%|████████████▉                                                                    | 80/500 [05:10<24:53,  3.56s/it]"
     ]
    },
    {
     "name": "stdout",
     "output_type": "stream",
     "text": [
      "(1, 23, 128, 128, 1)\n",
      "C:\\Users\\gural\\Desktop\\animals\\stand\\VID_20190327_174526Rotate40.mp4\n",
      "\n"
     ]
    },
    {
     "name": "stderr",
     "output_type": "stream",
     "text": [
      "\r",
      " 16%|█████████████                                                                    | 81/500 [05:14<25:50,  3.70s/it]"
     ]
    },
    {
     "name": "stdout",
     "output_type": "stream",
     "text": [
      "(1, 23, 128, 128, 1)\n",
      "C:\\Users\\gural\\Desktop\\animals\\stand\\HorizontalFlipVID_20190515_185152.mp4\n",
      "\n"
     ]
    },
    {
     "name": "stderr",
     "output_type": "stream",
     "text": [
      "\r",
      " 16%|█████████████▎                                                                   | 82/500 [05:19<29:37,  4.25s/it]"
     ]
    },
    {
     "name": "stdout",
     "output_type": "stream",
     "text": [
      "(1, 23, 128, 128, 1)\n",
      "C:\\Users\\gural\\Desktop\\animals\\stand\\VID_20190327_185710Rotate40.mp4\n",
      "\n"
     ]
    },
    {
     "name": "stderr",
     "output_type": "stream",
     "text": [
      "\r",
      " 17%|█████████████▍                                                                   | 83/500 [05:23<28:28,  4.10s/it]"
     ]
    },
    {
     "name": "stdout",
     "output_type": "stream",
     "text": [
      "(1, 23, 128, 128, 1)\n",
      "C:\\Users\\gural\\Desktop\\animals\\cut\\VID_20190327_190550Rotate.mp4\n",
      "\n"
     ]
    },
    {
     "name": "stderr",
     "output_type": "stream",
     "text": [
      "\r",
      " 17%|█████████████▌                                                                   | 84/500 [05:27<27:08,  3.91s/it]"
     ]
    },
    {
     "name": "stdout",
     "output_type": "stream",
     "text": [
      "(1, 23, 128, 128, 1)\n",
      "C:\\Users\\gural\\Desktop\\animals\\stand\\HorizontalFlipVID_20190515_185142.mp4\n",
      "\n"
     ]
    },
    {
     "name": "stderr",
     "output_type": "stream",
     "text": [
      "\r",
      " 17%|█████████████▊                                                                   | 85/500 [05:31<28:33,  4.13s/it]"
     ]
    },
    {
     "name": "stdout",
     "output_type": "stream",
     "text": [
      "(1, 23, 128, 128, 1)\n",
      "C:\\Users\\gural\\Desktop\\animals\\sleep\\HorizontalFlipVID_20190327_174920Rotate40.mp4\n",
      "\n"
     ]
    },
    {
     "name": "stderr",
     "output_type": "stream",
     "text": [
      "\r",
      " 17%|█████████████▉                                                                   | 86/500 [05:36<29:15,  4.24s/it]"
     ]
    },
    {
     "name": "stdout",
     "output_type": "stream",
     "text": [
      "(1, 23, 128, 128, 1)\n",
      "C:\\Users\\gural\\Desktop\\animals\\stand\\HorizontalFlipVID_20190327_185715Rotate40.mp4\n",
      "\n"
     ]
    },
    {
     "name": "stderr",
     "output_type": "stream",
     "text": [
      "\r",
      " 17%|██████████████                                                                   | 87/500 [05:40<29:56,  4.35s/it]"
     ]
    },
    {
     "name": "stdout",
     "output_type": "stream",
     "text": [
      "(1, 23, 128, 128, 1)\n",
      "C:\\Users\\gural\\Desktop\\animals\\cut\\HorizontalFlipVID_20190327_190522Rotate40.mp4\n",
      "\n"
     ]
    },
    {
     "name": "stderr",
     "output_type": "stream",
     "text": [
      "\r",
      " 18%|██████████████▎                                                                  | 88/500 [05:44<29:11,  4.25s/it]"
     ]
    },
    {
     "name": "stdout",
     "output_type": "stream",
     "text": [
      "(1, 23, 128, 128, 1)\n",
      "C:\\Users\\gural\\Desktop\\animals\\sleep\\VID_20190327_175013translate.mp4\n",
      "\n"
     ]
    },
    {
     "name": "stderr",
     "output_type": "stream",
     "text": [
      "\r",
      " 18%|██████████████▍                                                                  | 89/500 [05:50<31:17,  4.57s/it]"
     ]
    },
    {
     "name": "stdout",
     "output_type": "stream",
     "text": [
      "(1, 23, 128, 128, 1)\n",
      "C:\\Users\\gural\\Desktop\\animals\\sleep\\HorizontalFlipVID_20190327_190339Rotate40.mp4\n",
      "\n"
     ]
    },
    {
     "name": "stderr",
     "output_type": "stream",
     "text": [
      "\r",
      " 18%|██████████████▌                                                                  | 90/500 [05:53<28:25,  4.16s/it]"
     ]
    },
    {
     "name": "stdout",
     "output_type": "stream",
     "text": [
      "(1, 23, 128, 128, 1)\n",
      "C:\\Users\\gural\\Desktop\\animals\\sleep\\VID_20190327_190359Crop.mp4\n",
      "\n"
     ]
    },
    {
     "name": "stderr",
     "output_type": "stream",
     "text": [
      "\r",
      " 18%|██████████████▋                                                                  | 91/500 [05:55<23:52,  3.50s/it]"
     ]
    },
    {
     "name": "stdout",
     "output_type": "stream",
     "text": [
      "(1, 23, 128, 128, 1)\n",
      "C:\\Users\\gural\\Desktop\\animals\\stand\\VID_20190327_185700translate.mp4\n",
      "\n"
     ]
    },
    {
     "name": "stderr",
     "output_type": "stream",
     "text": [
      "\r",
      " 18%|██████████████▉                                                                  | 92/500 [05:59<25:45,  3.79s/it]"
     ]
    },
    {
     "name": "stdout",
     "output_type": "stream",
     "text": [
      "(1, 23, 128, 128, 1)\n",
      "C:\\Users\\gural\\Desktop\\animals\\stand\\VID_20190327_190028Crop.mp4\n",
      "\n"
     ]
    },
    {
     "name": "stderr",
     "output_type": "stream",
     "text": [
      "\r",
      " 19%|███████████████                                                                  | 93/500 [06:02<23:21,  3.44s/it]"
     ]
    },
    {
     "name": "stdout",
     "output_type": "stream",
     "text": [
      "(1, 23, 128, 128, 1)\n",
      "C:\\Users\\gural\\Desktop\\animals\\fly\\VID_20190515_184921translate.mp4\n",
      "\n"
     ]
    },
    {
     "name": "stderr",
     "output_type": "stream",
     "text": [
      "\r",
      " 19%|███████████████▏                                                                 | 94/500 [06:06<24:23,  3.61s/it]"
     ]
    },
    {
     "name": "stdout",
     "output_type": "stream",
     "text": [
      "(1, 23, 128, 128, 1)\n",
      "C:\\Users\\gural\\Desktop\\animals\\sleep\\VID_20190327_190308Rotate.mp4\n",
      "\n"
     ]
    },
    {
     "name": "stderr",
     "output_type": "stream",
     "text": [
      "\r",
      " 19%|███████████████▍                                                                 | 95/500 [06:10<24:56,  3.70s/it]"
     ]
    },
    {
     "name": "stdout",
     "output_type": "stream",
     "text": [
      "(1, 23, 128, 128, 1)\n",
      "C:\\Users\\gural\\Desktop\\animals\\cut\\HorizontalFlipVID_20190327_190440translate.mp4\n",
      "\n"
     ]
    },
    {
     "name": "stderr",
     "output_type": "stream",
     "text": [
      "\r",
      " 19%|███████████████▌                                                                 | 96/500 [06:14<25:05,  3.73s/it]"
     ]
    },
    {
     "name": "stdout",
     "output_type": "stream",
     "text": [
      "(1, 23, 128, 128, 1)\n",
      "C:\\Users\\gural\\Desktop\\animals\\sleep\\VID_20190327_190335Rotate.mp4\n",
      "\n"
     ]
    },
    {
     "name": "stderr",
     "output_type": "stream",
     "text": [
      "\r",
      " 19%|███████████████▋                                                                 | 97/500 [06:17<25:10,  3.75s/it]"
     ]
    },
    {
     "name": "stdout",
     "output_type": "stream",
     "text": [
      "(1, 23, 128, 128, 1)\n",
      "C:\\Users\\gural\\Desktop\\animals\\cut\\VID_20190327_190445.mp4\n",
      "\n"
     ]
    },
    {
     "name": "stderr",
     "output_type": "stream",
     "text": [
      "\r",
      " 20%|███████████████▉                                                                 | 98/500 [06:22<26:14,  3.92s/it]"
     ]
    },
    {
     "name": "stdout",
     "output_type": "stream",
     "text": [
      "(1, 23, 128, 128, 1)\n",
      "C:\\Users\\gural\\Desktop\\animals\\fly\\HorizontalFlipVID_20190327_175624.mp4\n",
      "\n"
     ]
    },
    {
     "name": "stderr",
     "output_type": "stream",
     "text": [
      "\r",
      " 20%|████████████████                                                                 | 99/500 [06:27<29:22,  4.40s/it]"
     ]
    },
    {
     "name": "stdout",
     "output_type": "stream",
     "text": [
      "(1, 23, 128, 128, 1)\n",
      "C:\\Users\\gural\\Desktop\\animals\\cut\\HorizontalFlipVID_20190327_190427Rotate.mp4\n",
      "\n"
     ]
    },
    {
     "name": "stderr",
     "output_type": "stream",
     "text": [
      "\r",
      " 20%|████████████████                                                                | 100/500 [06:31<28:01,  4.20s/it]"
     ]
    },
    {
     "name": "stdout",
     "output_type": "stream",
     "text": [
      "(1, 23, 128, 128, 1)\n",
      "C:\\Users\\gural\\Desktop\\animals\\fly\\VID_20190327_190126translate.mp4\n",
      "\n"
     ]
    },
    {
     "name": "stderr",
     "output_type": "stream",
     "text": [
      "\r",
      " 20%|████████████████▏                                                               | 101/500 [06:35<27:29,  4.13s/it]"
     ]
    },
    {
     "name": "stdout",
     "output_type": "stream",
     "text": [
      "(1, 23, 128, 128, 1)\n",
      "C:\\Users\\gural\\Desktop\\animals\\cut\\HorizontalFlipVID_20190327_190528Rotate40.mp4\n",
      "\n"
     ]
    },
    {
     "name": "stderr",
     "output_type": "stream",
     "text": [
      "\r",
      " 20%|████████████████▎                                                               | 102/500 [06:39<26:50,  4.05s/it]"
     ]
    },
    {
     "name": "stdout",
     "output_type": "stream",
     "text": [
      "(1, 23, 128, 128, 1)\n",
      "C:\\Users\\gural\\Desktop\\animals\\sleep\\HorizontalFlipVID_20190327_190308Rotate40.mp4\n",
      "\n"
     ]
    },
    {
     "name": "stderr",
     "output_type": "stream",
     "text": [
      "\r",
      " 21%|████████████████▍                                                               | 103/500 [06:43<26:37,  4.02s/it]"
     ]
    },
    {
     "name": "stdout",
     "output_type": "stream",
     "text": [
      "(1, 23, 128, 128, 1)\n",
      "C:\\Users\\gural\\Desktop\\animals\\fly\\HorizontalFlipVID_20190327_190045translate.mp4\n",
      "\n"
     ]
    },
    {
     "name": "stderr",
     "output_type": "stream",
     "text": [
      "\r",
      " 21%|████████████████▋                                                               | 104/500 [06:47<26:23,  4.00s/it]"
     ]
    },
    {
     "name": "stdout",
     "output_type": "stream",
     "text": [
      "(1, 23, 128, 128, 1)\n",
      "C:\\Users\\gural\\Desktop\\animals\\stand\\HorizontalFlipVID_20190327_174806Rotate40.mp4\n",
      "\n"
     ]
    },
    {
     "name": "stderr",
     "output_type": "stream",
     "text": [
      "\r",
      " 21%|████████████████▊                                                               | 105/500 [06:51<26:43,  4.06s/it]"
     ]
    },
    {
     "name": "stdout",
     "output_type": "stream",
     "text": [
      "(1, 23, 128, 128, 1)\n",
      "C:\\Users\\gural\\Desktop\\animals\\sleep\\VID_20190515_185106Rotate.mp4\n",
      "\n"
     ]
    },
    {
     "name": "stderr",
     "output_type": "stream",
     "text": [
      "\r",
      " 21%|████████████████▉                                                               | 106/500 [06:57<30:08,  4.59s/it]"
     ]
    },
    {
     "name": "stdout",
     "output_type": "stream",
     "text": [
      "(1, 23, 128, 128, 1)\n",
      "C:\\Users\\gural\\Desktop\\animals\\sleep\\HorizontalFlipVID_20190327_174852.mp4\n",
      "\n"
     ]
    },
    {
     "name": "stderr",
     "output_type": "stream",
     "text": [
      "\r",
      " 21%|█████████████████                                                               | 107/500 [07:01<29:14,  4.46s/it]"
     ]
    },
    {
     "name": "stdout",
     "output_type": "stream",
     "text": [
      "(1, 23, 128, 128, 1)\n",
      "C:\\Users\\gural\\Desktop\\animals\\sleep\\VID_20190515_185043.mp4\n",
      "\n"
     ]
    },
    {
     "name": "stderr",
     "output_type": "stream",
     "text": [
      "\r",
      " 22%|█████████████████▎                                                              | 108/500 [07:05<27:33,  4.22s/it]"
     ]
    },
    {
     "name": "stdout",
     "output_type": "stream",
     "text": [
      "(1, 23, 128, 128, 1)\n",
      "C:\\Users\\gural\\Desktop\\animals\\fly\\VID_20190327_190119Rotate40.mp4\n",
      "\n"
     ]
    },
    {
     "name": "stderr",
     "output_type": "stream",
     "text": [
      "\r",
      " 22%|█████████████████▍                                                              | 109/500 [07:08<25:44,  3.95s/it]"
     ]
    },
    {
     "name": "stdout",
     "output_type": "stream",
     "text": [
      "(1, 23, 128, 128, 1)\n",
      "C:\\Users\\gural\\Desktop\\animals\\sleep\\VID_20190327_174852Rotate.mp4\n",
      "\n"
     ]
    },
    {
     "name": "stderr",
     "output_type": "stream",
     "text": [
      "\r",
      " 22%|█████████████████▌                                                              | 110/500 [07:12<26:02,  4.01s/it]"
     ]
    },
    {
     "name": "stdout",
     "output_type": "stream",
     "text": [
      "(1, 23, 128, 128, 1)\n",
      "C:\\Users\\gural\\Desktop\\animals\\fly\\VID_20190327_190112translate.mp4\n",
      "\n"
     ]
    },
    {
     "name": "stderr",
     "output_type": "stream",
     "text": [
      "\r",
      " 22%|█████████████████▊                                                              | 111/500 [07:16<26:07,  4.03s/it]"
     ]
    },
    {
     "name": "stdout",
     "output_type": "stream",
     "text": [
      "(1, 23, 128, 128, 1)\n",
      "C:\\Users\\gural\\Desktop\\animals\\sleep\\VID_20190327_174852Rotate40.mp4\n",
      "\n"
     ]
    },
    {
     "name": "stderr",
     "output_type": "stream",
     "text": [
      "\r",
      " 22%|█████████████████▉                                                              | 112/500 [07:20<26:15,  4.06s/it]"
     ]
    },
    {
     "name": "stdout",
     "output_type": "stream",
     "text": [
      "(1, 23, 128, 128, 1)\n",
      "C:\\Users\\gural\\Desktop\\animals\\stand\\HorizontalFlipVID_20190515_185137translate.mp4\n",
      "\n"
     ]
    },
    {
     "name": "stderr",
     "output_type": "stream",
     "text": [
      "\r",
      " 23%|██████████████████                                                              | 113/500 [07:25<27:46,  4.30s/it]"
     ]
    },
    {
     "name": "stdout",
     "output_type": "stream",
     "text": [
      "(1, 23, 128, 128, 1)\n",
      "C:\\Users\\gural\\Desktop\\animals\\fly\\HorizontalFlipVID_20190327_190050Crop.mp4\n",
      "\n"
     ]
    },
    {
     "name": "stderr",
     "output_type": "stream",
     "text": [
      "\r",
      " 23%|██████████████████▏                                                             | 114/500 [07:27<23:25,  3.64s/it]"
     ]
    },
    {
     "name": "stdout",
     "output_type": "stream",
     "text": [
      "(1, 23, 128, 128, 1)\n",
      "C:\\Users\\gural\\Desktop\\animals\\stand\\VID_20190515_185211Rotate40.mp4\n",
      "\n"
     ]
    },
    {
     "name": "stderr",
     "output_type": "stream",
     "text": [
      "\r",
      " 23%|██████████████████▍                                                             | 115/500 [07:30<22:23,  3.49s/it]"
     ]
    },
    {
     "name": "stdout",
     "output_type": "stream",
     "text": [
      "(1, 23, 128, 128, 1)\n",
      "C:\\Users\\gural\\Desktop\\animals\\sleep\\HorizontalFlipVID_20190327_175013.mp4\n",
      "\n"
     ]
    },
    {
     "name": "stderr",
     "output_type": "stream",
     "text": [
      "\r",
      " 23%|██████████████████▌                                                             | 116/500 [07:36<25:24,  3.97s/it]"
     ]
    },
    {
     "name": "stdout",
     "output_type": "stream",
     "text": [
      "(1, 23, 128, 128, 1)\n",
      "C:\\Users\\gural\\Desktop\\animals\\sleep\\VID_20190515_185000Crop.mp4\n",
      "\n"
     ]
    },
    {
     "name": "stderr",
     "output_type": "stream",
     "text": [
      "\r",
      " 23%|██████████████████▋                                                             | 117/500 [07:37<21:07,  3.31s/it]"
     ]
    },
    {
     "name": "stdout",
     "output_type": "stream",
     "text": [
      "(1, 23, 128, 128, 1)\n",
      "C:\\Users\\gural\\Desktop\\animals\\cut\\VID_20190327_175730translate.mp4\n",
      "\n"
     ]
    },
    {
     "name": "stderr",
     "output_type": "stream",
     "text": [
      "\r",
      " 24%|██████████████████▉                                                             | 118/500 [07:42<23:03,  3.62s/it]"
     ]
    },
    {
     "name": "stdout",
     "output_type": "stream",
     "text": [
      "(1, 23, 128, 128, 1)\n",
      "C:\\Users\\gural\\Desktop\\animals\\fly\\HorizontalFlipVID_20190327_190119Rotate.mp4\n",
      "\n"
     ]
    },
    {
     "name": "stderr",
     "output_type": "stream",
     "text": [
      "\r",
      " 24%|███████████████████                                                             | 119/500 [07:45<22:15,  3.51s/it]"
     ]
    },
    {
     "name": "stdout",
     "output_type": "stream",
     "text": [
      "(1, 23, 128, 128, 1)\n",
      "C:\\Users\\gural\\Desktop\\animals\\cut\\VID_20190327_190415Rotate40.mp4\n",
      "\n"
     ]
    },
    {
     "name": "stderr",
     "output_type": "stream",
     "text": [
      "\r",
      " 24%|███████████████████▏                                                            | 120/500 [07:49<24:19,  3.84s/it]"
     ]
    },
    {
     "name": "stdout",
     "output_type": "stream",
     "text": [
      "(1, 23, 128, 128, 1)\n",
      "C:\\Users\\gural\\Desktop\\animals\\cut\\HorizontalFlipVID_20190327_175730Rotate.mp4\n",
      "\n"
     ]
    },
    {
     "name": "stderr",
     "output_type": "stream",
     "text": [
      "\r",
      " 24%|███████████████████▎                                                            | 121/500 [07:54<25:42,  4.07s/it]"
     ]
    },
    {
     "name": "stdout",
     "output_type": "stream",
     "text": [
      "(1, 23, 128, 128, 1)\n",
      "C:\\Users\\gural\\Desktop\\animals\\sleep\\HorizontalFlipVID_20190515_185023Rotate40.mp4\n",
      "\n"
     ]
    },
    {
     "name": "stderr",
     "output_type": "stream",
     "text": [
      "\r",
      " 24%|███████████████████▌                                                            | 122/500 [07:58<26:16,  4.17s/it]"
     ]
    },
    {
     "name": "stdout",
     "output_type": "stream",
     "text": [
      "(1, 23, 128, 128, 1)\n",
      "C:\\Users\\gural\\Desktop\\animals\\fly\\HorizontalFlipVID_20190327_190107translate.mp4\n",
      "\n"
     ]
    },
    {
     "name": "stderr",
     "output_type": "stream",
     "text": [
      "\r",
      " 25%|███████████████████▋                                                            | 123/500 [08:02<25:51,  4.11s/it]"
     ]
    },
    {
     "name": "stdout",
     "output_type": "stream",
     "text": [
      "(1, 23, 128, 128, 1)\n",
      "C:\\Users\\gural\\Desktop\\animals\\fly\\HorizontalFlipVID_20190327_190205.mp4\n",
      "\n"
     ]
    },
    {
     "name": "stderr",
     "output_type": "stream",
     "text": [
      "\r",
      " 25%|███████████████████▊                                                            | 124/500 [08:06<25:22,  4.05s/it]"
     ]
    },
    {
     "name": "stdout",
     "output_type": "stream",
     "text": [
      "(1, 23, 128, 128, 1)\n",
      "C:\\Users\\gural\\Desktop\\animals\\sleep\\VID_20190327_190259Rotate.mp4\n",
      "\n"
     ]
    },
    {
     "name": "stderr",
     "output_type": "stream",
     "text": [
      "\r",
      " 25%|████████████████████                                                            | 125/500 [08:10<23:57,  3.83s/it]"
     ]
    },
    {
     "name": "stdout",
     "output_type": "stream",
     "text": [
      "(1, 23, 128, 128, 1)\n",
      "C:\\Users\\gural\\Desktop\\animals\\stand\\HorizontalFlipVID_20190327_174711Rotate40.mp4\n",
      "\n"
     ]
    },
    {
     "name": "stderr",
     "output_type": "stream",
     "text": [
      "\r",
      " 25%|████████████████████▏                                                           | 126/500 [08:14<25:14,  4.05s/it]"
     ]
    },
    {
     "name": "stdout",
     "output_type": "stream",
     "text": [
      "(1, 23, 128, 128, 1)\n",
      "C:\\Users\\gural\\Desktop\\animals\\sleep\\HorizontalFlipVID_20190515_185000Rotate40.mp4\n",
      "\n"
     ]
    },
    {
     "name": "stderr",
     "output_type": "stream",
     "text": [
      "\r",
      " 25%|████████████████████▎                                                           | 127/500 [08:17<23:12,  3.73s/it]"
     ]
    },
    {
     "name": "stdout",
     "output_type": "stream",
     "text": [
      "(1, 23, 128, 128, 1)\n",
      "C:\\Users\\gural\\Desktop\\animals\\sleep\\HorizontalFlipVID_20190327_190339Crop.mp4\n",
      "\n"
     ]
    },
    {
     "name": "stderr",
     "output_type": "stream",
     "text": [
      "\r",
      " 26%|████████████████████▍                                                           | 128/500 [08:19<19:42,  3.18s/it]"
     ]
    },
    {
     "name": "stdout",
     "output_type": "stream",
     "text": [
      "(1, 23, 128, 128, 1)\n",
      "C:\\Users\\gural\\Desktop\\animals\\cut\\VID_20190327_190518Rotate.mp4\n",
      "\n"
     ]
    },
    {
     "name": "stderr",
     "output_type": "stream",
     "text": [
      "\r",
      " 26%|████████████████████▋                                                           | 129/500 [08:23<20:57,  3.39s/it]"
     ]
    },
    {
     "name": "stdout",
     "output_type": "stream",
     "text": [
      "(1, 23, 128, 128, 1)\n",
      "C:\\Users\\gural\\Desktop\\animals\\fly\\VID_20190327_175451Crop.mp4\n",
      "\n"
     ]
    },
    {
     "name": "stderr",
     "output_type": "stream",
     "text": [
      "\r",
      " 26%|████████████████████▊                                                           | 130/500 [08:25<18:50,  3.06s/it]"
     ]
    },
    {
     "name": "stdout",
     "output_type": "stream",
     "text": [
      "(1, 23, 128, 128, 1)\n",
      "C:\\Users\\gural\\Desktop\\animals\\stand\\HorizontalFlipVID_20190515_185142Crop.mp4\n",
      "\n"
     ]
    },
    {
     "name": "stderr",
     "output_type": "stream",
     "text": [
      "\r",
      " 26%|████████████████████▉                                                           | 131/500 [08:28<18:11,  2.96s/it]"
     ]
    },
    {
     "name": "stdout",
     "output_type": "stream",
     "text": [
      "(1, 23, 128, 128, 1)\n",
      "C:\\Users\\gural\\Desktop\\animals\\sleep\\VID_20190515_185029translate.mp4\n",
      "\n"
     ]
    },
    {
     "name": "stderr",
     "output_type": "stream",
     "text": [
      "\r",
      " 26%|█████████████████████                                                           | 132/500 [08:34<24:19,  3.97s/it]"
     ]
    },
    {
     "name": "stdout",
     "output_type": "stream",
     "text": [
      "(1, 23, 128, 128, 1)\n",
      "C:\\Users\\gural\\Desktop\\animals\\sleep\\HorizontalFlipVID_20190327_190308translate.mp4\n",
      "\n"
     ]
    },
    {
     "name": "stderr",
     "output_type": "stream",
     "text": [
      "\r",
      " 27%|█████████████████████▎                                                          | 133/500 [08:38<24:02,  3.93s/it]"
     ]
    },
    {
     "name": "stdout",
     "output_type": "stream",
     "text": [
      "(1, 23, 128, 128, 1)\n",
      "C:\\Users\\gural\\Desktop\\animals\\stand\\VID_20190515_185146.mp4\n",
      "\n"
     ]
    },
    {
     "name": "stderr",
     "output_type": "stream",
     "text": [
      "\r",
      " 27%|█████████████████████▍                                                          | 134/500 [08:43<25:36,  4.20s/it]"
     ]
    },
    {
     "name": "stdout",
     "output_type": "stream",
     "text": [
      "(1, 23, 128, 128, 1)\n",
      "C:\\Users\\gural\\Desktop\\animals\\fly\\HorizontalFlipVID_20190515_184843.mp4\n",
      "\n"
     ]
    },
    {
     "name": "stderr",
     "output_type": "stream",
     "text": [
      "\r",
      " 27%|█████████████████████▌                                                          | 135/500 [08:51<32:27,  5.34s/it]"
     ]
    },
    {
     "name": "stdout",
     "output_type": "stream",
     "text": [
      "(1, 23, 128, 128, 1)\n",
      "C:\\Users\\gural\\Desktop\\animals\\cut\\HorizontalFlipVID_20190327_190440Rotate.mp4\n",
      "\n"
     ]
    },
    {
     "name": "stderr",
     "output_type": "stream",
     "text": [
      "\r",
      " 27%|█████████████████████▊                                                          | 136/500 [08:55<29:31,  4.87s/it]"
     ]
    },
    {
     "name": "stdout",
     "output_type": "stream",
     "text": [
      "(1, 23, 128, 128, 1)\n",
      "C:\\Users\\gural\\Desktop\\animals\\cut\\HorizontalFlipVID_20190327_190440.mp4\n",
      "\n"
     ]
    },
    {
     "name": "stderr",
     "output_type": "stream",
     "text": [
      "\r",
      " 27%|█████████████████████▉                                                          | 137/500 [08:59<27:47,  4.60s/it]"
     ]
    },
    {
     "name": "stdout",
     "output_type": "stream",
     "text": [
      "(1, 23, 128, 128, 1)\n",
      "C:\\Users\\gural\\Desktop\\animals\\sleep\\VID_20190327_190319translate.mp4\n",
      "\n"
     ]
    },
    {
     "name": "stderr",
     "output_type": "stream",
     "text": [
      "\r",
      " 28%|██████████████████████                                                          | 138/500 [09:04<28:57,  4.80s/it]"
     ]
    },
    {
     "name": "stdout",
     "output_type": "stream",
     "text": [
      "(1, 23, 128, 128, 1)\n",
      "C:\\Users\\gural\\Desktop\\animals\\fly\\VID_20190529_194517.mp4\n",
      "\n"
     ]
    },
    {
     "name": "stderr",
     "output_type": "stream",
     "text": [
      "\r",
      " 28%|██████████████████████▏                                                         | 139/500 [09:10<30:12,  5.02s/it]"
     ]
    },
    {
     "name": "stdout",
     "output_type": "stream",
     "text": [
      "(1, 23, 128, 128, 1)\n",
      "C:\\Users\\gural\\Desktop\\animals\\fly\\VID_20190327_190107Rotate.mp4\n",
      "\n"
     ]
    },
    {
     "name": "stderr",
     "output_type": "stream",
     "text": [
      "\r",
      " 28%|██████████████████████▍                                                         | 140/500 [09:14<28:14,  4.71s/it]"
     ]
    },
    {
     "name": "stdout",
     "output_type": "stream",
     "text": [
      "(1, 23, 128, 128, 1)\n",
      "C:\\Users\\gural\\Desktop\\animals\\sleep\\VID_20190327_174920Rotate40.mp4\n",
      "\n"
     ]
    },
    {
     "name": "stderr",
     "output_type": "stream",
     "text": [
      "\r",
      " 28%|██████████████████████▌                                                         | 141/500 [09:18<27:47,  4.64s/it]"
     ]
    },
    {
     "name": "stdout",
     "output_type": "stream",
     "text": [
      "(1, 23, 128, 128, 1)\n",
      "C:\\Users\\gural\\Desktop\\animals\\cut\\VID_20190327_190550.mp4\n",
      "\n"
     ]
    },
    {
     "name": "stderr",
     "output_type": "stream",
     "text": [
      "\r",
      " 28%|██████████████████████▋                                                         | 142/500 [09:22<25:56,  4.35s/it]"
     ]
    },
    {
     "name": "stdout",
     "output_type": "stream",
     "text": [
      "(1, 23, 128, 128, 1)\n",
      "C:\\Users\\gural\\Desktop\\animals\\sleep\\HorizontalFlipVID_20190327_174920.mp4\n",
      "\n"
     ]
    },
    {
     "name": "stderr",
     "output_type": "stream",
     "text": [
      "\r",
      " 29%|██████████████████████▉                                                         | 143/500 [09:26<26:14,  4.41s/it]"
     ]
    },
    {
     "name": "stdout",
     "output_type": "stream",
     "text": [
      "(1, 23, 128, 128, 1)\n",
      "C:\\Users\\gural\\Desktop\\animals\\cut\\HorizontalFlipVID_20190327_190550Crop.mp4\n",
      "\n"
     ]
    },
    {
     "name": "stderr",
     "output_type": "stream",
     "text": [
      "\r",
      " 29%|███████████████████████                                                         | 144/500 [09:28<22:00,  3.71s/it]"
     ]
    },
    {
     "name": "stdout",
     "output_type": "stream",
     "text": [
      "(1, 23, 128, 128, 1)\n",
      "C:\\Users\\gural\\Desktop\\animals\\fly\\VID_20190515_184843translate.mp4\n",
      "\n"
     ]
    },
    {
     "name": "stderr",
     "output_type": "stream",
     "text": [
      "\r",
      " 29%|███████████████████████▏                                                        | 145/500 [09:36<29:29,  4.98s/it]"
     ]
    },
    {
     "name": "stdout",
     "output_type": "stream",
     "text": [
      "(1, 23, 128, 128, 1)\n",
      "C:\\Users\\gural\\Desktop\\animals\\cut\\VID_20190327_175730Rotate40.mp4\n",
      "\n"
     ]
    },
    {
     "name": "stderr",
     "output_type": "stream",
     "text": [
      "\r",
      " 29%|███████████████████████▎                                                        | 146/500 [09:41<28:17,  4.79s/it]"
     ]
    },
    {
     "name": "stdout",
     "output_type": "stream",
     "text": [
      "(1, 23, 128, 128, 1)\n",
      "C:\\Users\\gural\\Desktop\\animals\\cut\\VID_20190515_184711Crop.mp4\n",
      "\n"
     ]
    },
    {
     "name": "stderr",
     "output_type": "stream",
     "text": [
      "\r",
      " 29%|███████████████████████▌                                                        | 147/500 [09:43<24:11,  4.11s/it]"
     ]
    },
    {
     "name": "stdout",
     "output_type": "stream",
     "text": [
      "(1, 23, 128, 128, 1)\n",
      "C:\\Users\\gural\\Desktop\\animals\\fly\\VID_20190327_190112Rotate.mp4\n",
      "\n"
     ]
    },
    {
     "name": "stderr",
     "output_type": "stream",
     "text": [
      "\r",
      " 30%|███████████████████████▋                                                        | 148/500 [09:47<24:07,  4.11s/it]"
     ]
    },
    {
     "name": "stdout",
     "output_type": "stream",
     "text": [
      "(1, 23, 128, 128, 1)\n",
      "C:\\Users\\gural\\Desktop\\animals\\cut\\HorizontalFlipVID_20190327_175730translate.mp4\n",
      "\n"
     ]
    },
    {
     "name": "stderr",
     "output_type": "stream",
     "text": [
      "\r",
      " 30%|███████████████████████▊                                                        | 149/500 [09:52<24:26,  4.18s/it]"
     ]
    },
    {
     "name": "stdout",
     "output_type": "stream",
     "text": [
      "(1, 23, 128, 128, 1)\n",
      "C:\\Users\\gural\\Desktop\\animals\\sleep\\HorizontalFlipVID_20190327_190314Crop.mp4\n",
      "\n"
     ]
    },
    {
     "name": "stderr",
     "output_type": "stream",
     "text": [
      "\r",
      " 30%|████████████████████████                                                        | 150/500 [09:54<20:34,  3.53s/it]"
     ]
    },
    {
     "name": "stdout",
     "output_type": "stream",
     "text": [
      "(1, 23, 128, 128, 1)\n",
      "C:\\Users\\gural\\Desktop\\animals\\stand\\HorizontalFlipVID_20190515_185211Crop.mp4\n",
      "\n"
     ]
    },
    {
     "name": "stderr",
     "output_type": "stream",
     "text": [
      "\r",
      " 30%|████████████████████████▏                                                       | 151/500 [09:56<17:42,  3.04s/it]"
     ]
    },
    {
     "name": "stdout",
     "output_type": "stream",
     "text": [
      "(1, 23, 128, 128, 1)\n",
      "C:\\Users\\gural\\Desktop\\animals\\cut\\VID_20190327_190518Crop.mp4\n",
      "\n"
     ]
    },
    {
     "name": "stderr",
     "output_type": "stream",
     "text": [
      "\r",
      " 30%|████████████████████████▎                                                       | 152/500 [09:58<15:52,  2.74s/it]"
     ]
    },
    {
     "name": "stdout",
     "output_type": "stream",
     "text": [
      "(1, 23, 128, 128, 1)\n",
      "C:\\Users\\gural\\Desktop\\animals\\stand\\HorizontalFlipVID_20190327_185715Rotate.mp4\n",
      "\n"
     ]
    },
    {
     "name": "stderr",
     "output_type": "stream",
     "text": [
      "\r",
      " 31%|████████████████████████▍                                                       | 153/500 [10:02<19:07,  3.31s/it]"
     ]
    },
    {
     "name": "stdout",
     "output_type": "stream",
     "text": [
      "(1, 23, 128, 128, 1)\n",
      "C:\\Users\\gural\\Desktop\\animals\\cut\\HorizontalFlipVID_20190327_175707Rotate.mp4\n",
      "\n"
     ]
    },
    {
     "name": "stderr",
     "output_type": "stream",
     "text": [
      "\r",
      " 31%|████████████████████████▋                                                       | 154/500 [10:07<21:00,  3.64s/it]"
     ]
    },
    {
     "name": "stdout",
     "output_type": "stream",
     "text": [
      "(1, 23, 128, 128, 1)\n",
      "C:\\Users\\gural\\Desktop\\animals\\fly\\HorizontalFlipVID_20190327_175624Rotate.mp4\n",
      "\n"
     ]
    },
    {
     "name": "stderr",
     "output_type": "stream",
     "text": [
      "\r",
      " 31%|████████████████████████▊                                                       | 155/500 [10:12<24:32,  4.27s/it]"
     ]
    },
    {
     "name": "stdout",
     "output_type": "stream",
     "text": [
      "(1, 23, 128, 128, 1)\n",
      "C:\\Users\\gural\\Desktop\\animals\\fly\\VID_20190515_184838Rotate.mp4\n",
      "\n"
     ]
    },
    {
     "name": "stderr",
     "output_type": "stream",
     "text": [
      "\r",
      " 31%|████████████████████████▉                                                       | 156/500 [10:16<23:10,  4.04s/it]"
     ]
    },
    {
     "name": "stdout",
     "output_type": "stream",
     "text": [
      "(1, 23, 128, 128, 1)\n",
      "C:\\Users\\gural\\Desktop\\animals\\sleep\\VID_20190327_190308Crop.mp4\n",
      "\n"
     ]
    },
    {
     "name": "stderr",
     "output_type": "stream",
     "text": [
      "\r",
      " 31%|█████████████████████████                                                       | 157/500 [10:18<20:02,  3.51s/it]"
     ]
    },
    {
     "name": "stdout",
     "output_type": "stream",
     "text": [
      "(1, 23, 128, 128, 1)\n",
      "C:\\Users\\gural\\Desktop\\animals\\fly\\VID_20190515_184843.mp4\n",
      "\n"
     ]
    },
    {
     "name": "stderr",
     "output_type": "stream",
     "text": [
      "\r",
      " 32%|█████████████████████████▎                                                      | 158/500 [10:26<28:05,  4.93s/it]"
     ]
    },
    {
     "name": "stdout",
     "output_type": "stream",
     "text": [
      "(1, 23, 128, 128, 1)\n",
      "C:\\Users\\gural\\Desktop\\animals\\stand\\HorizontalFlipVID_20190327_185927Rotate.mp4\n",
      "\n"
     ]
    },
    {
     "name": "stderr",
     "output_type": "stream",
     "text": [
      "\r",
      " 32%|█████████████████████████▍                                                      | 159/500 [10:31<26:42,  4.70s/it]"
     ]
    },
    {
     "name": "stdout",
     "output_type": "stream",
     "text": [
      "(1, 23, 128, 128, 1)\n",
      "C:\\Users\\gural\\Desktop\\animals\\stand\\VID_20190515_185211Rotate.mp4\n",
      "\n"
     ]
    },
    {
     "name": "stderr",
     "output_type": "stream",
     "text": [
      "\r",
      " 32%|█████████████████████████▌                                                      | 160/500 [10:34<23:59,  4.23s/it]"
     ]
    },
    {
     "name": "stdout",
     "output_type": "stream",
     "text": [
      "(1, 23, 128, 128, 1)\n",
      "C:\\Users\\gural\\Desktop\\animals\\stand\\HorizontalFlipVID_20190327_185710Rotate.mp4\n",
      "\n"
     ]
    },
    {
     "name": "stderr",
     "output_type": "stream",
     "text": [
      "\r",
      " 32%|█████████████████████████▊                                                      | 161/500 [10:37<23:06,  4.09s/it]"
     ]
    },
    {
     "name": "stdout",
     "output_type": "stream",
     "text": [
      "(1, 23, 128, 128, 1)\n",
      "C:\\Users\\gural\\Desktop\\animals\\fly\\VID_20190327_190050.mp4\n",
      "\n"
     ]
    },
    {
     "name": "stderr",
     "output_type": "stream",
     "text": [
      "\r",
      " 32%|█████████████████████████▉                                                      | 162/500 [10:41<22:23,  3.97s/it]"
     ]
    },
    {
     "name": "stdout",
     "output_type": "stream",
     "text": [
      "(1, 23, 128, 128, 1)\n",
      "C:\\Users\\gural\\Desktop\\animals\\cut\\VID_20190327_190528translate.mp4\n",
      "\n"
     ]
    },
    {
     "name": "stderr",
     "output_type": "stream",
     "text": [
      "\r",
      " 33%|██████████████████████████                                                      | 163/500 [10:45<21:56,  3.91s/it]"
     ]
    },
    {
     "name": "stdout",
     "output_type": "stream",
     "text": [
      "(1, 23, 128, 128, 1)\n",
      "C:\\Users\\gural\\Desktop\\animals\\sleep\\HorizontalFlipVID_20190327_190259Rotate40.mp4\n",
      "\n"
     ]
    },
    {
     "name": "stderr",
     "output_type": "stream",
     "text": [
      "\r",
      " 33%|██████████████████████████▏                                                     | 164/500 [10:48<20:51,  3.72s/it]"
     ]
    },
    {
     "name": "stdout",
     "output_type": "stream",
     "text": [
      "(1, 23, 128, 128, 1)\n",
      "C:\\Users\\gural\\Desktop\\animals\\sleep\\VID_20190515_185106Crop.mp4\n",
      "\n"
     ]
    },
    {
     "name": "stderr",
     "output_type": "stream",
     "text": [
      "\r",
      " 33%|██████████████████████████▍                                                     | 165/500 [10:51<20:03,  3.59s/it]"
     ]
    },
    {
     "name": "stdout",
     "output_type": "stream",
     "text": [
      "(1, 23, 128, 128, 1)\n",
      "C:\\Users\\gural\\Desktop\\animals\\cut\\VID_20190327_190522Crop.mp4\n",
      "\n"
     ]
    },
    {
     "name": "stderr",
     "output_type": "stream",
     "text": [
      "\r",
      " 33%|██████████████████████████▌                                                     | 166/500 [10:54<17:43,  3.18s/it]"
     ]
    },
    {
     "name": "stdout",
     "output_type": "stream",
     "text": [
      "(1, 23, 128, 128, 1)\n",
      "C:\\Users\\gural\\Desktop\\animals\\stand\\VID_20190327_185946Rotate40.mp4\n",
      "\n"
     ]
    },
    {
     "name": "stderr",
     "output_type": "stream",
     "text": [
      "\r",
      " 33%|██████████████████████████▋                                                     | 167/500 [10:59<21:05,  3.80s/it]"
     ]
    },
    {
     "name": "stdout",
     "output_type": "stream",
     "text": [
      "(1, 23, 128, 128, 1)\n",
      "C:\\Users\\gural\\Desktop\\animals\\fly\\HorizontalFlipVID_20190327_190112Rotate.mp4\n",
      "\n"
     ]
    },
    {
     "name": "stderr",
     "output_type": "stream",
     "text": [
      "\r",
      " 34%|██████████████████████████▉                                                     | 168/500 [11:03<21:23,  3.87s/it]"
     ]
    },
    {
     "name": "stdout",
     "output_type": "stream",
     "text": [
      "(1, 23, 128, 128, 1)\n",
      "C:\\Users\\gural\\Desktop\\animals\\cut\\HorizontalFlipVID_20190515_184715translate.mp4\n",
      "\n"
     ]
    },
    {
     "name": "stderr",
     "output_type": "stream",
     "text": [
      "\r",
      " 34%|███████████████████████████                                                     | 169/500 [11:07<21:10,  3.84s/it]"
     ]
    },
    {
     "name": "stdout",
     "output_type": "stream",
     "text": [
      "(1, 23, 128, 128, 1)\n",
      "C:\\Users\\gural\\Desktop\\animals\\cut\\HorizontalFlipVID_20190327_190522Rotate.mp4\n",
      "\n"
     ]
    },
    {
     "name": "stderr",
     "output_type": "stream",
     "text": [
      "\r",
      " 34%|███████████████████████████▏                                                    | 170/500 [11:11<21:28,  3.90s/it]"
     ]
    },
    {
     "name": "stdout",
     "output_type": "stream",
     "text": [
      "(1, 23, 128, 128, 1)\n",
      "C:\\Users\\gural\\Desktop\\animals\\sleep\\HorizontalFlipVID_20190515_185029Rotate40.mp4\n",
      "\n"
     ]
    },
    {
     "name": "stderr",
     "output_type": "stream",
     "text": [
      "\r",
      " 34%|███████████████████████████▎                                                    | 171/500 [11:17<25:59,  4.74s/it]"
     ]
    },
    {
     "name": "stdout",
     "output_type": "stream",
     "text": [
      "(1, 23, 128, 128, 1)\n",
      "C:\\Users\\gural\\Desktop\\animals\\stand\\VID_20190327_190002translate.mp4\n",
      "\n"
     ]
    },
    {
     "name": "stderr",
     "output_type": "stream",
     "text": [
      "\r",
      " 34%|███████████████████████████▌                                                    | 172/500 [11:23<26:49,  4.91s/it]"
     ]
    },
    {
     "name": "stdout",
     "output_type": "stream",
     "text": [
      "(1, 23, 128, 128, 1)\n",
      "C:\\Users\\gural\\Desktop\\animals\\stand\\VID_20190515_185142Crop.mp4\n",
      "\n"
     ]
    },
    {
     "name": "stderr",
     "output_type": "stream",
     "text": [
      "\r",
      " 35%|███████████████████████████▋                                                    | 173/500 [11:25<23:03,  4.23s/it]"
     ]
    },
    {
     "name": "stdout",
     "output_type": "stream",
     "text": [
      "(1, 23, 128, 128, 1)\n",
      "C:\\Users\\gural\\Desktop\\animals\\stand\\VID_20190515_185146Crop.mp4\n",
      "\n"
     ]
    },
    {
     "name": "stderr",
     "output_type": "stream",
     "text": [
      "\r",
      " 35%|███████████████████████████▊                                                    | 174/500 [11:28<20:22,  3.75s/it]"
     ]
    },
    {
     "name": "stdout",
     "output_type": "stream",
     "text": [
      "(1, 23, 128, 128, 1)\n",
      "C:\\Users\\gural\\Desktop\\animals\\stand\\HorizontalFlipVID_20190327_185921Rotate.mp4\n",
      "\n"
     ]
    },
    {
     "name": "stderr",
     "output_type": "stream",
     "text": [
      "\r",
      " 35%|████████████████████████████                                                    | 175/500 [11:35<25:04,  4.63s/it]"
     ]
    },
    {
     "name": "stdout",
     "output_type": "stream",
     "text": [
      "(1, 23, 128, 128, 1)\n",
      "C:\\Users\\gural\\Desktop\\animals\\stand\\VID_20190327_174634Crop.mp4\n",
      "\n"
     ]
    },
    {
     "name": "stderr",
     "output_type": "stream",
     "text": [
      "\r",
      " 35%|████████████████████████████▏                                                   | 176/500 [11:38<22:40,  4.20s/it]"
     ]
    },
    {
     "name": "stdout",
     "output_type": "stream",
     "text": [
      "(1, 23, 128, 128, 1)\n",
      "C:\\Users\\gural\\Desktop\\animals\\fly\\VID_20190515_184838Rotate40.mp4\n",
      "\n"
     ]
    },
    {
     "name": "stderr",
     "output_type": "stream",
     "text": [
      "\r",
      " 35%|████████████████████████████▎                                                   | 177/500 [11:41<21:29,  3.99s/it]"
     ]
    },
    {
     "name": "stdout",
     "output_type": "stream",
     "text": [
      "(1, 23, 128, 128, 1)\n",
      "C:\\Users\\gural\\Desktop\\animals\\sleep\\HorizontalFlipVID_20190327_190314Rotate.mp4\n",
      "\n"
     ]
    },
    {
     "name": "stderr",
     "output_type": "stream",
     "text": [
      "\r",
      " 36%|████████████████████████████▍                                                   | 178/500 [11:45<20:30,  3.82s/it]"
     ]
    },
    {
     "name": "stdout",
     "output_type": "stream",
     "text": [
      "(1, 23, 128, 128, 1)\n",
      "C:\\Users\\gural\\Desktop\\animals\\cut\\VID_20190327_175707Rotate.mp4\n",
      "\n"
     ]
    },
    {
     "name": "stderr",
     "output_type": "stream",
     "text": [
      "\r",
      " 36%|████████████████████████████▋                                                   | 179/500 [11:49<20:58,  3.92s/it]"
     ]
    },
    {
     "name": "stdout",
     "output_type": "stream",
     "text": [
      "(1, 23, 128, 128, 1)\n",
      "C:\\Users\\gural\\Desktop\\animals\\cut\\HorizontalFlipVID_20190327_190550Rotate40.mp4\n",
      "\n"
     ]
    },
    {
     "name": "stderr",
     "output_type": "stream",
     "text": [
      "\r",
      " 36%|████████████████████████████▊                                                   | 180/500 [11:52<20:14,  3.79s/it]"
     ]
    },
    {
     "name": "stdout",
     "output_type": "stream",
     "text": [
      "(1, 23, 128, 128, 1)\n",
      "C:\\Users\\gural\\Desktop\\animals\\fly\\VID_20190529_194523.mp4\n",
      "\n"
     ]
    },
    {
     "name": "stderr",
     "output_type": "stream",
     "text": [
      "\r",
      " 36%|████████████████████████████▉                                                   | 181/500 [11:58<22:47,  4.29s/it]"
     ]
    },
    {
     "name": "stdout",
     "output_type": "stream",
     "text": [
      "(1, 23, 128, 128, 1)\n",
      "C:\\Users\\gural\\Desktop\\animals\\fly\\VID_20190327_190219Crop.mp4\n",
      "\n"
     ]
    },
    {
     "name": "stderr",
     "output_type": "stream",
     "text": [
      "\r",
      " 36%|█████████████████████████████                                                   | 182/500 [12:00<18:53,  3.57s/it]"
     ]
    },
    {
     "name": "stdout",
     "output_type": "stream",
     "text": [
      "(1, 23, 128, 128, 1)\n",
      "C:\\Users\\gural\\Desktop\\animals\\cut\\HorizontalFlipVID_20190327_190528Crop.mp4\n",
      "\n"
     ]
    },
    {
     "name": "stderr",
     "output_type": "stream",
     "text": [
      "\r",
      " 37%|█████████████████████████████▎                                                  | 183/500 [12:02<16:42,  3.16s/it]"
     ]
    },
    {
     "name": "stdout",
     "output_type": "stream",
     "text": [
      "(1, 23, 128, 128, 1)\n",
      "C:\\Users\\gural\\Desktop\\animals\\cut\\HorizontalFlipVID_20190515_184715Crop.mp4\n",
      "\n"
     ]
    },
    {
     "name": "stderr",
     "output_type": "stream",
     "text": [
      "\r",
      " 37%|█████████████████████████████▍                                                  | 184/500 [12:04<15:10,  2.88s/it]"
     ]
    },
    {
     "name": "stdout",
     "output_type": "stream",
     "text": [
      "(1, 23, 128, 128, 1)\n",
      "C:\\Users\\gural\\Desktop\\animals\\cut\\VID_20190327_190427translate.mp4\n",
      "\n"
     ]
    },
    {
     "name": "stderr",
     "output_type": "stream",
     "text": [
      "\r",
      " 37%|█████████████████████████████▌                                                  | 185/500 [12:08<16:31,  3.15s/it]"
     ]
    },
    {
     "name": "stdout",
     "output_type": "stream",
     "text": [
      "(1, 23, 128, 128, 1)\n",
      "C:\\Users\\gural\\Desktop\\animals\\fly\\HorizontalFlipVID_20190515_184921.mp4\n",
      "\n"
     ]
    },
    {
     "name": "stderr",
     "output_type": "stream",
     "text": [
      "\r",
      " 37%|█████████████████████████████▊                                                  | 186/500 [12:12<17:48,  3.40s/it]"
     ]
    },
    {
     "name": "stdout",
     "output_type": "stream",
     "text": [
      "(1, 23, 128, 128, 1)\n",
      "C:\\Users\\gural\\Desktop\\animals\\fly\\VID_20190327_190039translate.mp4\n",
      "\n"
     ]
    },
    {
     "name": "stderr",
     "output_type": "stream",
     "text": [
      "\r",
      " 37%|█████████████████████████████▉                                                  | 187/500 [12:15<17:18,  3.32s/it]"
     ]
    },
    {
     "name": "stdout",
     "output_type": "stream",
     "text": [
      "(1, 23, 128, 128, 1)\n",
      "C:\\Users\\gural\\Desktop\\animals\\fly\\VID_20190327_175537Crop.mp4\n",
      "\n"
     ]
    },
    {
     "name": "stderr",
     "output_type": "stream",
     "text": [
      "\r",
      " 38%|██████████████████████████████                                                  | 188/500 [12:19<17:33,  3.38s/it]"
     ]
    },
    {
     "name": "stdout",
     "output_type": "stream",
     "text": [
      "(1, 23, 128, 128, 1)\n",
      "C:\\Users\\gural\\Desktop\\animals\\fly\\HorizontalFlipVID_20190327_190219translate.mp4\n",
      "\n"
     ]
    },
    {
     "name": "stderr",
     "output_type": "stream",
     "text": [
      "\r",
      " 38%|██████████████████████████████▏                                                 | 189/500 [12:22<17:14,  3.33s/it]"
     ]
    },
    {
     "name": "stdout",
     "output_type": "stream",
     "text": [
      "(1, 23, 128, 128, 1)\n",
      "C:\\Users\\gural\\Desktop\\animals\\fly\\VID_20190327_190126Crop.mp4\n",
      "\n"
     ]
    },
    {
     "name": "stderr",
     "output_type": "stream",
     "text": [
      "\r",
      " 38%|██████████████████████████████▍                                                 | 190/500 [12:24<15:34,  3.02s/it]"
     ]
    },
    {
     "name": "stdout",
     "output_type": "stream",
     "text": [
      "(1, 23, 128, 128, 1)\n",
      "C:\\Users\\gural\\Desktop\\animals\\stand\\HorizontalFlipVID_20190327_185941translate.mp4\n",
      "\n"
     ]
    },
    {
     "name": "stderr",
     "output_type": "stream",
     "text": [
      "\r",
      " 38%|██████████████████████████████▌                                                 | 191/500 [12:28<16:57,  3.29s/it]"
     ]
    },
    {
     "name": "stdout",
     "output_type": "stream",
     "text": [
      "(1, 23, 128, 128, 1)\n",
      "C:\\Users\\gural\\Desktop\\animals\\stand\\HorizontalFlipVID_20190327_185727Rotate40.mp4\n",
      "\n"
     ]
    },
    {
     "name": "stderr",
     "output_type": "stream",
     "text": [
      "\r",
      " 38%|██████████████████████████████▋                                                 | 192/500 [12:34<20:42,  4.03s/it]"
     ]
    },
    {
     "name": "stdout",
     "output_type": "stream",
     "text": [
      "(1, 23, 128, 128, 1)\n",
      "C:\\Users\\gural\\Desktop\\animals\\fly\\HorizontalFlipVID_20190515_184838.mp4\n",
      "\n"
     ]
    },
    {
     "name": "stderr",
     "output_type": "stream",
     "text": [
      "\r",
      " 39%|██████████████████████████████▉                                                 | 193/500 [12:37<19:49,  3.88s/it]"
     ]
    },
    {
     "name": "stdout",
     "output_type": "stream",
     "text": [
      "(1, 23, 128, 128, 1)\n",
      "C:\\Users\\gural\\Desktop\\animals\\sleep\\VID_20190327_190314Crop.mp4\n",
      "\n"
     ]
    },
    {
     "name": "stderr",
     "output_type": "stream",
     "text": [
      "\r",
      " 39%|███████████████████████████████                                                 | 194/500 [12:39<16:52,  3.31s/it]"
     ]
    },
    {
     "name": "stdout",
     "output_type": "stream",
     "text": [
      "(1, 23, 128, 128, 1)\n",
      "C:\\Users\\gural\\Desktop\\animals\\cut\\HorizontalFlipVID_20190327_190518.mp4\n",
      "\n"
     ]
    },
    {
     "name": "stderr",
     "output_type": "stream",
     "text": [
      "\r",
      " 39%|███████████████████████████████▏                                                | 195/500 [12:43<16:47,  3.30s/it]"
     ]
    },
    {
     "name": "stdout",
     "output_type": "stream",
     "text": [
      "(1, 23, 128, 128, 1)\n",
      "C:\\Users\\gural\\Desktop\\animals\\fly\\HorizontalFlipVID_20190327_175513.mp4\n",
      "\n"
     ]
    },
    {
     "name": "stderr",
     "output_type": "stream",
     "text": [
      "\r",
      " 39%|███████████████████████████████▎                                                | 196/500 [12:49<20:38,  4.07s/it]"
     ]
    },
    {
     "name": "stdout",
     "output_type": "stream",
     "text": [
      "(1, 23, 128, 128, 1)\n",
      "C:\\Users\\gural\\Desktop\\animals\\sleep\\HorizontalFlipVID_20190327_190308.mp4\n",
      "\n"
     ]
    },
    {
     "name": "stderr",
     "output_type": "stream",
     "text": [
      "\r",
      " 39%|███████████████████████████████▌                                                | 197/500 [12:52<20:12,  4.00s/it]"
     ]
    },
    {
     "name": "stdout",
     "output_type": "stream",
     "text": [
      "(1, 23, 128, 128, 1)\n",
      "C:\\Users\\gural\\Desktop\\animals\\sleep\\VID_20190515_185101.mp4\n",
      "\n"
     ]
    },
    {
     "name": "stderr",
     "output_type": "stream",
     "text": [
      "\r",
      " 40%|███████████████████████████████▋                                                | 198/500 [12:57<20:33,  4.08s/it]"
     ]
    },
    {
     "name": "stdout",
     "output_type": "stream",
     "text": [
      "(1, 23, 128, 128, 1)\n",
      "C:\\Users\\gural\\Desktop\\animals\\cut\\VID_20190515_184715Rotate.mp4\n",
      "\n"
     ]
    },
    {
     "name": "stderr",
     "output_type": "stream",
     "text": [
      "\r",
      " 40%|███████████████████████████████▊                                                | 199/500 [13:00<19:53,  3.97s/it]"
     ]
    },
    {
     "name": "stdout",
     "output_type": "stream",
     "text": [
      "(1, 23, 128, 128, 1)\n",
      "C:\\Users\\gural\\Desktop\\animals\\sleep\\HorizontalFlipVID_20190327_190335Rotate.mp4\n",
      "\n"
     ]
    },
    {
     "name": "stderr",
     "output_type": "stream",
     "text": [
      "\r",
      " 40%|████████████████████████████████                                                | 200/500 [13:04<19:38,  3.93s/it]"
     ]
    },
    {
     "name": "stdout",
     "output_type": "stream",
     "text": [
      "(1, 23, 128, 128, 1)\n",
      "C:\\Users\\gural\\Desktop\\animals\\sleep\\VID_20190327_190351.mp4\n",
      "\n"
     ]
    },
    {
     "name": "stderr",
     "output_type": "stream",
     "text": [
      "\r",
      " 40%|████████████████████████████████▏                                               | 201/500 [13:07<18:40,  3.75s/it]"
     ]
    },
    {
     "name": "stdout",
     "output_type": "stream",
     "text": [
      "(1, 23, 128, 128, 1)\n",
      "C:\\Users\\gural\\Desktop\\animals\\cut\\HorizontalFlipVID_20190515_184711Rotate40.mp4\n",
      "\n"
     ]
    },
    {
     "name": "stderr",
     "output_type": "stream",
     "text": [
      "\r",
      " 40%|████████████████████████████████▎                                               | 202/500 [13:12<19:32,  3.94s/it]"
     ]
    },
    {
     "name": "stdout",
     "output_type": "stream",
     "text": [
      "(1, 23, 128, 128, 1)\n",
      "C:\\Users\\gural\\Desktop\\animals\\sleep\\VID_20190327_190319.mp4\n",
      "\n"
     ]
    },
    {
     "name": "stderr",
     "output_type": "stream",
     "text": [
      "\r",
      " 41%|████████████████████████████████▍                                               | 203/500 [13:17<21:01,  4.25s/it]"
     ]
    },
    {
     "name": "stdout",
     "output_type": "stream",
     "text": [
      "(1, 23, 128, 128, 1)\n",
      "C:\\Users\\gural\\Desktop\\animals\\fly\\HorizontalFlipVID_20190515_184921translate.mp4\n",
      "\n"
     ]
    },
    {
     "name": "stderr",
     "output_type": "stream",
     "text": [
      "\r",
      " 41%|████████████████████████████████▋                                               | 204/500 [13:21<20:37,  4.18s/it]"
     ]
    },
    {
     "name": "stdout",
     "output_type": "stream",
     "text": [
      "(1, 23, 128, 128, 1)\n",
      "C:\\Users\\gural\\Desktop\\animals\\sleep\\HorizontalFlipVID_20190327_175013Rotate.mp4\n",
      "\n"
     ]
    },
    {
     "name": "stderr",
     "output_type": "stream",
     "text": [
      "\r",
      " 41%|████████████████████████████████▊                                               | 205/500 [13:27<22:49,  4.64s/it]"
     ]
    },
    {
     "name": "stdout",
     "output_type": "stream",
     "text": [
      "(1, 23, 128, 128, 1)\n",
      "C:\\Users\\gural\\Desktop\\animals\\stand\\VID_20190327_185715Rotate40.mp4\n",
      "\n"
     ]
    },
    {
     "name": "stderr",
     "output_type": "stream",
     "text": [
      "\r",
      " 41%|████████████████████████████████▉                                               | 206/500 [13:31<22:29,  4.59s/it]"
     ]
    },
    {
     "name": "stdout",
     "output_type": "stream",
     "text": [
      "(1, 23, 128, 128, 1)\n",
      "C:\\Users\\gural\\Desktop\\animals\\cut\\VID_20190327_190522Rotate.mp4\n",
      "\n"
     ]
    },
    {
     "name": "stderr",
     "output_type": "stream",
     "text": [
      "\r",
      " 41%|█████████████████████████████████                                               | 207/500 [13:35<21:15,  4.35s/it]"
     ]
    },
    {
     "name": "stdout",
     "output_type": "stream",
     "text": [
      "(1, 23, 128, 128, 1)\n",
      "C:\\Users\\gural\\Desktop\\animals\\sleep\\HorizontalFlipVID_20190327_175047Rotate.mp4\n",
      "\n"
     ]
    },
    {
     "name": "stderr",
     "output_type": "stream",
     "text": [
      "\r",
      " 42%|█████████████████████████████████▎                                              | 208/500 [13:39<21:06,  4.34s/it]"
     ]
    },
    {
     "name": "stdout",
     "output_type": "stream",
     "text": [
      "(1, 23, 128, 128, 1)\n",
      "C:\\Users\\gural\\Desktop\\animals\\cut\\HorizontalFlipVID_20190515_184715.mp4\n",
      "\n"
     ]
    },
    {
     "name": "stderr",
     "output_type": "stream",
     "text": [
      "\r",
      " 42%|█████████████████████████████████▍                                              | 209/500 [13:43<20:04,  4.14s/it]"
     ]
    },
    {
     "name": "stdout",
     "output_type": "stream",
     "text": [
      "(1, 23, 128, 128, 1)\n",
      "C:\\Users\\gural\\Desktop\\animals\\sleep\\VID_20190327_174852Crop.mp4\n",
      "\n"
     ]
    },
    {
     "name": "stderr",
     "output_type": "stream",
     "text": [
      "\r",
      " 42%|█████████████████████████████████▌                                              | 210/500 [13:45<17:33,  3.63s/it]"
     ]
    },
    {
     "name": "stdout",
     "output_type": "stream",
     "text": [
      "(1, 23, 128, 128, 1)\n",
      "C:\\Users\\gural\\Desktop\\animals\\cut\\VID_20190327_175730Crop.mp4\n",
      "\n"
     ]
    },
    {
     "name": "stderr",
     "output_type": "stream",
     "text": [
      "\r",
      " 42%|█████████████████████████████████▊                                              | 211/500 [13:48<15:58,  3.32s/it]"
     ]
    },
    {
     "name": "stdout",
     "output_type": "stream",
     "text": [
      "(1, 23, 128, 128, 1)\n",
      "C:\\Users\\gural\\Desktop\\animals\\cut\\VID_20190327_190518translate.mp4\n",
      "\n"
     ]
    },
    {
     "name": "stderr",
     "output_type": "stream",
     "text": [
      "\r",
      " 42%|█████████████████████████████████▉                                              | 212/500 [13:51<15:51,  3.31s/it]"
     ]
    },
    {
     "name": "stdout",
     "output_type": "stream",
     "text": [
      "(1, 23, 128, 128, 1)\n",
      "C:\\Users\\gural\\Desktop\\animals\\sleep\\HorizontalFlipVID_20190327_190351translate.mp4\n",
      "\n"
     ]
    },
    {
     "name": "stderr",
     "output_type": "stream",
     "text": [
      "\r",
      " 43%|██████████████████████████████████                                              | 213/500 [13:54<15:40,  3.28s/it]"
     ]
    },
    {
     "name": "stdout",
     "output_type": "stream",
     "text": [
      "(1, 23, 128, 128, 1)\n",
      "C:\\Users\\gural\\Desktop\\animals\\fly\\HorizontalFlipVID_20190327_190039Crop.mp4\n",
      "\n"
     ]
    },
    {
     "name": "stderr",
     "output_type": "stream",
     "text": [
      "\r",
      " 43%|██████████████████████████████████▏                                             | 214/500 [13:56<13:42,  2.88s/it]"
     ]
    },
    {
     "name": "stdout",
     "output_type": "stream",
     "text": [
      "(1, 23, 128, 128, 1)\n",
      "C:\\Users\\gural\\Desktop\\animals\\cut\\HorizontalFlipVID_20190327_175707translate.mp4\n",
      "\n"
     ]
    },
    {
     "name": "stderr",
     "output_type": "stream",
     "text": [
      "\r",
      " 43%|██████████████████████████████████▍                                             | 215/500 [14:00<15:21,  3.23s/it]"
     ]
    },
    {
     "name": "stdout",
     "output_type": "stream",
     "text": [
      "(1, 23, 128, 128, 1)\n",
      "C:\\Users\\gural\\Desktop\\animals\\fly\\HorizontalFlipVID_20190327_190231.mp4\n",
      "\n"
     ]
    },
    {
     "name": "stderr",
     "output_type": "stream",
     "text": [
      "\r",
      " 43%|██████████████████████████████████▌                                             | 216/500 [14:04<15:22,  3.25s/it]"
     ]
    },
    {
     "name": "stdout",
     "output_type": "stream",
     "text": [
      "(1, 23, 128, 128, 1)\n",
      "C:\\Users\\gural\\Desktop\\animals\\cut\\HorizontalFlipVID_20190327_190432Rotate40.mp4\n",
      "\n"
     ]
    },
    {
     "name": "stderr",
     "output_type": "stream",
     "text": [
      "\r",
      " 43%|██████████████████████████████████▋                                             | 217/500 [14:07<15:35,  3.31s/it]"
     ]
    },
    {
     "name": "stdout",
     "output_type": "stream",
     "text": [
      "(1, 23, 128, 128, 1)\n",
      "C:\\Users\\gural\\Desktop\\animals\\stand\\VID_20190529_194709.mp4\n",
      "\n"
     ]
    },
    {
     "name": "stderr",
     "output_type": "stream",
     "text": [
      "\r",
      " 44%|██████████████████████████████████▉                                             | 218/500 [14:13<18:40,  3.97s/it]"
     ]
    },
    {
     "name": "stdout",
     "output_type": "stream",
     "text": [
      "(1, 23, 128, 128, 1)\n",
      "C:\\Users\\gural\\Desktop\\animals\\stand\\VID_20190327_190002.mp4\n",
      "\n"
     ]
    },
    {
     "name": "stderr",
     "output_type": "stream",
     "text": [
      "\r",
      " 44%|███████████████████████████████████                                             | 219/500 [14:18<20:39,  4.41s/it]"
     ]
    },
    {
     "name": "stdout",
     "output_type": "stream",
     "text": [
      "(1, 23, 128, 128, 1)\n",
      "C:\\Users\\gural\\Desktop\\animals\\stand\\VID_20190327_174806.mp4\n",
      "\n"
     ]
    },
    {
     "name": "stderr",
     "output_type": "stream",
     "text": [
      "\r",
      " 44%|███████████████████████████████████▏                                            | 220/500 [14:22<20:02,  4.30s/it]"
     ]
    },
    {
     "name": "stdout",
     "output_type": "stream",
     "text": [
      "(1, 23, 128, 128, 1)\n",
      "C:\\Users\\gural\\Desktop\\animals\\fly\\VID_20190515_184921Crop.mp4\n",
      "\n"
     ]
    },
    {
     "name": "stderr",
     "output_type": "stream",
     "text": [
      "\r",
      " 44%|███████████████████████████████████▎                                            | 221/500 [14:24<17:15,  3.71s/it]"
     ]
    },
    {
     "name": "stdout",
     "output_type": "stream",
     "text": [
      "(1, 23, 128, 128, 1)\n",
      "C:\\Users\\gural\\Desktop\\animals\\cut\\VID_20190327_175826Rotate40.mp4\n",
      "\n"
     ]
    },
    {
     "name": "stderr",
     "output_type": "stream",
     "text": [
      "\r",
      " 44%|███████████████████████████████████▌                                            | 222/500 [14:28<17:23,  3.75s/it]"
     ]
    },
    {
     "name": "stdout",
     "output_type": "stream",
     "text": [
      "(1, 23, 128, 128, 1)\n",
      "C:\\Users\\gural\\Desktop\\animals\\sleep\\HorizontalFlipVID_20190327_175013Rotate40.mp4\n",
      "\n"
     ]
    },
    {
     "name": "stderr",
     "output_type": "stream",
     "text": [
      "\r",
      " 45%|███████████████████████████████████▋                                            | 223/500 [14:34<19:32,  4.23s/it]"
     ]
    },
    {
     "name": "stdout",
     "output_type": "stream",
     "text": [
      "(1, 23, 128, 128, 1)\n",
      "C:\\Users\\gural\\Desktop\\animals\\stand\\VID_20190327_185946Rotate.mp4\n",
      "\n"
     ]
    },
    {
     "name": "stderr",
     "output_type": "stream",
     "text": [
      "\r",
      " 45%|███████████████████████████████████▊                                            | 224/500 [14:39<20:48,  4.52s/it]"
     ]
    },
    {
     "name": "stdout",
     "output_type": "stream",
     "text": [
      "(1, 23, 128, 128, 1)\n",
      "C:\\Users\\gural\\Desktop\\animals\\fly\\HorizontalFlipVID_20190327_175451translate.mp4\n",
      "\n"
     ]
    },
    {
     "name": "stderr",
     "output_type": "stream",
     "text": [
      "\r",
      " 45%|████████████████████████████████████                                            | 225/500 [14:42<19:03,  4.16s/it]"
     ]
    },
    {
     "name": "stdout",
     "output_type": "stream",
     "text": [
      "(1, 23, 128, 128, 1)\n",
      "C:\\Users\\gural\\Desktop\\animals\\fly\\VID_20190327_190119Crop.mp4\n",
      "\n"
     ]
    },
    {
     "name": "stderr",
     "output_type": "stream",
     "text": [
      "\r",
      " 45%|████████████████████████████████████▏                                           | 226/500 [14:44<15:52,  3.48s/it]"
     ]
    },
    {
     "name": "stdout",
     "output_type": "stream",
     "text": [
      "(1, 23, 128, 128, 1)\n",
      "C:\\Users\\gural\\Desktop\\animals\\cut\\HorizontalFlipVID_20190327_190518translate.mp4\n",
      "\n"
     ]
    },
    {
     "name": "stderr",
     "output_type": "stream",
     "text": [
      "\r",
      " 45%|████████████████████████████████████▎                                           | 227/500 [14:47<15:34,  3.42s/it]"
     ]
    },
    {
     "name": "stdout",
     "output_type": "stream",
     "text": [
      "(1, 23, 128, 128, 1)\n",
      "C:\\Users\\gural\\Desktop\\animals\\sleep\\VID_20190327_175047Rotate40.mp4\n",
      "\n"
     ]
    },
    {
     "name": "stderr",
     "output_type": "stream",
     "text": [
      "\r",
      " 46%|████████████████████████████████████▍                                           | 228/500 [14:52<16:39,  3.68s/it]"
     ]
    },
    {
     "name": "stdout",
     "output_type": "stream",
     "text": [
      "(1, 23, 128, 128, 1)\n",
      "C:\\Users\\gural\\Desktop\\animals\\cut\\VID_20190327_190528Crop.mp4\n",
      "\n"
     ]
    },
    {
     "name": "stderr",
     "output_type": "stream",
     "text": [
      "\r",
      " 46%|████████████████████████████████████▋                                           | 229/500 [14:54<14:37,  3.24s/it]"
     ]
    },
    {
     "name": "stdout",
     "output_type": "stream",
     "text": [
      "(1, 23, 128, 128, 1)\n",
      "C:\\Users\\gural\\Desktop\\animals\\fly\\VID_20190327_190039Crop.mp4\n",
      "\n"
     ]
    },
    {
     "name": "stderr",
     "output_type": "stream",
     "text": [
      "\r",
      " 46%|████████████████████████████████████▊                                           | 230/500 [14:56<12:34,  2.79s/it]"
     ]
    },
    {
     "name": "stdout",
     "output_type": "stream",
     "text": [
      "(1, 23, 128, 128, 1)\n",
      "C:\\Users\\gural\\Desktop\\animals\\sleep\\VID_20190327_174852translate.mp4\n",
      "\n"
     ]
    },
    {
     "name": "stderr",
     "output_type": "stream",
     "text": [
      "\r",
      " 46%|████████████████████████████████████▉                                           | 231/500 [15:00<14:24,  3.21s/it]"
     ]
    },
    {
     "name": "stdout",
     "output_type": "stream",
     "text": [
      "(1, 23, 128, 128, 1)\n",
      "C:\\Users\\gural\\Desktop\\animals\\stand\\VID_20190327_185715.mp4\n",
      "\n"
     ]
    },
    {
     "name": "stderr",
     "output_type": "stream",
     "text": [
      "\r",
      " 46%|█████████████████████████████████████                                           | 232/500 [15:04<16:16,  3.64s/it]"
     ]
    },
    {
     "name": "stdout",
     "output_type": "stream",
     "text": [
      "(1, 23, 128, 128, 1)\n",
      "C:\\Users\\gural\\Desktop\\animals\\cut\\VID_20190327_190528.mp4\n",
      "\n"
     ]
    },
    {
     "name": "stderr",
     "output_type": "stream",
     "text": [
      "\r",
      " 47%|█████████████████████████████████████▎                                          | 233/500 [15:08<16:38,  3.74s/it]"
     ]
    },
    {
     "name": "stdout",
     "output_type": "stream",
     "text": [
      "(1, 23, 128, 128, 1)\n",
      "C:\\Users\\gural\\Desktop\\animals\\stand\\VID_20190515_185152.mp4\n",
      "\n"
     ]
    },
    {
     "name": "stderr",
     "output_type": "stream",
     "text": [
      "\r",
      " 47%|█████████████████████████████████████▍                                          | 234/500 [15:14<19:13,  4.34s/it]"
     ]
    },
    {
     "name": "stdout",
     "output_type": "stream",
     "text": [
      "(1, 23, 128, 128, 1)\n",
      "C:\\Users\\gural\\Desktop\\animals\\stand\\HorizontalFlipVID_20190327_190002Crop.mp4\n",
      "\n"
     ]
    },
    {
     "name": "stderr",
     "output_type": "stream",
     "text": [
      "\r",
      " 47%|█████████████████████████████████████▌                                          | 235/500 [15:17<17:30,  3.97s/it]"
     ]
    },
    {
     "name": "stdout",
     "output_type": "stream",
     "text": [
      "(1, 23, 128, 128, 1)\n",
      "C:\\Users\\gural\\Desktop\\animals\\fly\\HorizontalFlipVID_20190327_190231Rotate40.mp4\n",
      "\n"
     ]
    },
    {
     "name": "stderr",
     "output_type": "stream",
     "text": [
      "\r",
      " 47%|█████████████████████████████████████▊                                          | 236/500 [15:20<16:28,  3.74s/it]"
     ]
    },
    {
     "name": "stdout",
     "output_type": "stream",
     "text": [
      "(1, 23, 128, 128, 1)\n",
      "C:\\Users\\gural\\Desktop\\animals\\fly\\HorizontalFlipVID_20190327_190107.mp4\n",
      "\n"
     ]
    },
    {
     "name": "stderr",
     "output_type": "stream",
     "text": [
      "\r",
      " 47%|█████████████████████████████████████▉                                          | 237/500 [15:24<16:48,  3.83s/it]"
     ]
    },
    {
     "name": "stdout",
     "output_type": "stream",
     "text": [
      "(1, 23, 128, 128, 1)\n",
      "C:\\Users\\gural\\Desktop\\animals\\sleep\\VID_20190327_190259.mp4\n",
      "\n"
     ]
    },
    {
     "name": "stderr",
     "output_type": "stream",
     "text": [
      "\r",
      " 48%|██████████████████████████████████████                                          | 238/500 [15:28<16:14,  3.72s/it]"
     ]
    },
    {
     "name": "stdout",
     "output_type": "stream",
     "text": [
      "(1, 23, 128, 128, 1)\n",
      "C:\\Users\\gural\\Desktop\\animals\\stand\\HorizontalFlipVID_20190327_174526Rotate40.mp4\n",
      "\n"
     ]
    },
    {
     "name": "stderr",
     "output_type": "stream",
     "text": [
      "\r",
      " 48%|██████████████████████████████████████▏                                         | 239/500 [15:32<16:28,  3.79s/it]"
     ]
    },
    {
     "name": "stdout",
     "output_type": "stream",
     "text": [
      "(1, 23, 128, 128, 1)\n",
      "C:\\Users\\gural\\Desktop\\animals\\fly\\HorizontalFlipVID_20190327_190231Rotate.mp4\n",
      "\n"
     ]
    },
    {
     "name": "stderr",
     "output_type": "stream",
     "text": [
      "\r",
      " 48%|██████████████████████████████████████▍                                         | 240/500 [15:36<16:15,  3.75s/it]"
     ]
    },
    {
     "name": "stdout",
     "output_type": "stream",
     "text": [
      "(1, 23, 128, 128, 1)\n",
      "C:\\Users\\gural\\Desktop\\animals\\stand\\HorizontalFlipVID_20190327_185727Rotate.mp4\n",
      "\n"
     ]
    },
    {
     "name": "stderr",
     "output_type": "stream",
     "text": [
      "\r",
      " 48%|██████████████████████████████████████▌                                         | 241/500 [15:41<19:01,  4.41s/it]"
     ]
    },
    {
     "name": "stdout",
     "output_type": "stream",
     "text": [
      "(1, 23, 128, 128, 1)\n",
      "C:\\Users\\gural\\Desktop\\animals\\fly\\VID_20190327_190231Crop.mp4\n",
      "\n"
     ]
    },
    {
     "name": "stderr",
     "output_type": "stream",
     "text": [
      "\r",
      " 48%|██████████████████████████████████████▋                                         | 242/500 [15:43<15:47,  3.67s/it]"
     ]
    },
    {
     "name": "stdout",
     "output_type": "stream",
     "text": [
      "(1, 23, 128, 128, 1)\n",
      "C:\\Users\\gural\\Desktop\\animals\\stand\\VID_20190327_185727Rotate.mp4\n",
      "\n"
     ]
    },
    {
     "name": "stderr",
     "output_type": "stream",
     "text": [
      "\r",
      " 49%|██████████████████████████████████████▉                                         | 243/500 [15:49<18:29,  4.32s/it]"
     ]
    },
    {
     "name": "stdout",
     "output_type": "stream",
     "text": [
      "(1, 23, 128, 128, 1)\n",
      "C:\\Users\\gural\\Desktop\\animals\\fly\\HorizontalFlipVID_20190327_190126translate.mp4\n",
      "\n"
     ]
    },
    {
     "name": "stderr",
     "output_type": "stream",
     "text": [
      "\r",
      " 49%|███████████████████████████████████████                                         | 244/500 [15:53<17:53,  4.19s/it]"
     ]
    },
    {
     "name": "stdout",
     "output_type": "stream",
     "text": [
      "(1, 23, 128, 128, 1)\n",
      "C:\\Users\\gural\\Desktop\\animals\\sleep\\HorizontalFlipVID_20190327_190314Rotate40.mp4\n",
      "\n"
     ]
    },
    {
     "name": "stderr",
     "output_type": "stream",
     "text": [
      "\r",
      " 49%|███████████████████████████████████████▏                                        | 245/500 [15:57<16:59,  4.00s/it]"
     ]
    },
    {
     "name": "stdout",
     "output_type": "stream",
     "text": [
      "(1, 23, 128, 128, 1)\n",
      "C:\\Users\\gural\\Desktop\\animals\\fly\\VID_20190327_175513Rotate.mp4\n",
      "\n"
     ]
    },
    {
     "name": "stderr",
     "output_type": "stream",
     "text": [
      "\r",
      " 49%|███████████████████████████████████████▎                                        | 246/500 [16:03<19:30,  4.61s/it]"
     ]
    },
    {
     "name": "stdout",
     "output_type": "stream",
     "text": [
      "(1, 23, 128, 128, 1)\n",
      "C:\\Users\\gural\\Desktop\\animals\\fly\\HorizontalFlipVID_20190327_190112translate.mp4\n",
      "\n"
     ]
    },
    {
     "name": "stderr",
     "output_type": "stream",
     "text": [
      "\r",
      " 49%|███████████████████████████████████████▌                                        | 247/500 [16:07<18:43,  4.44s/it]"
     ]
    },
    {
     "name": "stdout",
     "output_type": "stream",
     "text": [
      "(1, 23, 128, 128, 1)\n",
      "C:\\Users\\gural\\Desktop\\animals\\cut\\HorizontalFlipVID_20190327_190432Crop.mp4\n",
      "\n"
     ]
    },
    {
     "name": "stderr",
     "output_type": "stream",
     "text": [
      "\r",
      " 50%|███████████████████████████████████████▋                                        | 248/500 [16:09<15:36,  3.71s/it]"
     ]
    },
    {
     "name": "stdout",
     "output_type": "stream",
     "text": [
      "(1, 23, 128, 128, 1)\n",
      "C:\\Users\\gural\\Desktop\\animals\\sleep\\VID_20190529_194606.mp4\n",
      "\n"
     ]
    },
    {
     "name": "stderr",
     "output_type": "stream",
     "text": [
      "\r",
      " 50%|███████████████████████████████████████▊                                        | 249/500 [16:13<16:07,  3.86s/it]"
     ]
    },
    {
     "name": "stdout",
     "output_type": "stream",
     "text": [
      "(1, 23, 128, 128, 1)\n",
      "C:\\Users\\gural\\Desktop\\animals\\stand\\HorizontalFlipVID_20190327_190002Rotate40.mp4\n",
      "\n"
     ]
    },
    {
     "name": "stderr",
     "output_type": "stream",
     "text": [
      "\r",
      " 50%|████████████████████████████████████████                                        | 250/500 [16:18<17:54,  4.30s/it]"
     ]
    },
    {
     "name": "stdout",
     "output_type": "stream",
     "text": [
      "(1, 23, 128, 128, 1)\n",
      "C:\\Users\\gural\\Desktop\\animals\\sleep\\HorizontalFlipVID_20190327_190344.mp4\n",
      "\n"
     ]
    },
    {
     "name": "stderr",
     "output_type": "stream",
     "text": [
      "\r",
      " 50%|████████████████████████████████████████▏                                       | 251/500 [16:22<17:06,  4.12s/it]"
     ]
    },
    {
     "name": "stdout",
     "output_type": "stream",
     "text": [
      "(1, 23, 128, 128, 1)\n",
      "C:\\Users\\gural\\Desktop\\animals\\sleep\\VID_20190327_190308.mp4\n",
      "\n"
     ]
    },
    {
     "name": "stderr",
     "output_type": "stream",
     "text": [
      "\r",
      " 50%|████████████████████████████████████████▎                                       | 252/500 [16:26<16:53,  4.09s/it]"
     ]
    },
    {
     "name": "stdout",
     "output_type": "stream",
     "text": [
      "(1, 23, 128, 128, 1)\n",
      "C:\\Users\\gural\\Desktop\\animals\\stand\\HorizontalFlipVID_20190327_174634Rotate40.mp4\n",
      "\n"
     ]
    },
    {
     "name": "stderr",
     "output_type": "stream",
     "text": [
      "\r",
      " 51%|████████████████████████████████████████▍                                       | 253/500 [16:32<18:42,  4.54s/it]"
     ]
    },
    {
     "name": "stdout",
     "output_type": "stream",
     "text": [
      "(1, 23, 128, 128, 1)\n",
      "C:\\Users\\gural\\Desktop\\animals\\cut\\VID_20190327_190518.mp4\n",
      "\n"
     ]
    },
    {
     "name": "stderr",
     "output_type": "stream",
     "text": [
      "\r",
      " 51%|████████████████████████████████████████▋                                       | 254/500 [16:35<17:16,  4.21s/it]"
     ]
    },
    {
     "name": "stdout",
     "output_type": "stream",
     "text": [
      "(1, 23, 128, 128, 1)\n",
      "C:\\Users\\gural\\Desktop\\animals\\cut\\VID_20190529_194215.mp4\n",
      "\n"
     ]
    },
    {
     "name": "stderr",
     "output_type": "stream",
     "text": [
      "\r",
      " 51%|████████████████████████████████████████▊                                       | 255/500 [16:40<18:34,  4.55s/it]"
     ]
    },
    {
     "name": "stdout",
     "output_type": "stream",
     "text": [
      "(1, 23, 128, 128, 1)\n",
      "C:\\Users\\gural\\Desktop\\animals\\stand\\VID_20190515_185137Crop.mp4\n",
      "\n"
     ]
    },
    {
     "name": "stderr",
     "output_type": "stream",
     "text": [
      "\r",
      " 51%|████████████████████████████████████████▉                                       | 256/500 [16:44<16:49,  4.14s/it]"
     ]
    },
    {
     "name": "stdout",
     "output_type": "stream",
     "text": [
      "(1, 23, 128, 128, 1)\n",
      "C:\\Users\\gural\\Desktop\\animals\\sleep\\HorizontalFlipVID_20190327_190259.mp4\n",
      "\n"
     ]
    },
    {
     "name": "stderr",
     "output_type": "stream",
     "text": [
      "\r",
      " 51%|█████████████████████████████████████████                                       | 257/500 [16:47<15:47,  3.90s/it]"
     ]
    },
    {
     "name": "stdout",
     "output_type": "stream",
     "text": [
      "(1, 23, 128, 128, 1)\n",
      "C:\\Users\\gural\\Desktop\\animals\\stand\\VID_20190515_185211Crop.mp4\n",
      "\n"
     ]
    },
    {
     "name": "stderr",
     "output_type": "stream",
     "text": [
      "\r",
      " 52%|█████████████████████████████████████████▎                                      | 258/500 [16:49<13:14,  3.28s/it]"
     ]
    },
    {
     "name": "stdout",
     "output_type": "stream",
     "text": [
      "(1, 23, 128, 128, 1)\n",
      "C:\\Users\\gural\\Desktop\\animals\\cut\\VID_20190327_190528Rotate.mp4\n",
      "\n"
     ]
    },
    {
     "name": "stderr",
     "output_type": "stream",
     "text": [
      "\r",
      " 52%|█████████████████████████████████████████▍                                      | 259/500 [16:53<13:50,  3.45s/it]"
     ]
    },
    {
     "name": "stdout",
     "output_type": "stream",
     "text": [
      "(1, 23, 128, 128, 1)\n",
      "C:\\Users\\gural\\Desktop\\animals\\stand\\HorizontalFlipVID_20190327_185921.mp4\n",
      "\n"
     ]
    },
    {
     "name": "stderr",
     "output_type": "stream",
     "text": [
      "\r",
      " 52%|█████████████████████████████████████████▌                                      | 260/500 [16:59<17:35,  4.40s/it]"
     ]
    },
    {
     "name": "stdout",
     "output_type": "stream",
     "text": [
      "(1, 23, 128, 128, 1)\n",
      "C:\\Users\\gural\\Desktop\\animals\\fly\\HorizontalFlipVID_20190327_190219Rotate40.mp4\n",
      "\n"
     ]
    },
    {
     "name": "stderr",
     "output_type": "stream",
     "text": [
      "\r",
      " 52%|█████████████████████████████████████████▊                                      | 261/500 [17:02<16:01,  4.02s/it]"
     ]
    },
    {
     "name": "stdout",
     "output_type": "stream",
     "text": [
      "(1, 23, 128, 128, 1)\n",
      "C:\\Users\\gural\\Desktop\\animals\\fly\\VID_20190327_190112.mp4\n",
      "\n"
     ]
    },
    {
     "name": "stderr",
     "output_type": "stream",
     "text": [
      "\r",
      " 52%|█████████████████████████████████████████▉                                      | 262/500 [17:06<16:05,  4.06s/it]"
     ]
    },
    {
     "name": "stdout",
     "output_type": "stream",
     "text": [
      "(1, 23, 128, 128, 1)\n",
      "C:\\Users\\gural\\Desktop\\animals\\stand\\HorizontalFlipVID_20190327_174634.mp4\n",
      "\n"
     ]
    },
    {
     "name": "stderr",
     "output_type": "stream",
     "text": [
      "\r",
      " 53%|██████████████████████████████████████████                                      | 263/500 [17:12<17:51,  4.52s/it]"
     ]
    },
    {
     "name": "stdout",
     "output_type": "stream",
     "text": [
      "(1, 23, 128, 128, 1)\n",
      "C:\\Users\\gural\\Desktop\\animals\\sleep\\VID_20190327_175047.mp4\n",
      "\n"
     ]
    },
    {
     "name": "stderr",
     "output_type": "stream",
     "text": [
      "\r",
      " 53%|██████████████████████████████████████████▏                                     | 264/500 [17:16<17:37,  4.48s/it]"
     ]
    },
    {
     "name": "stdout",
     "output_type": "stream",
     "text": [
      "(1, 23, 128, 128, 1)\n",
      "C:\\Users\\gural\\Desktop\\animals\\stand\\VID_20190515_185142Rotate.mp4\n",
      "\n"
     ]
    },
    {
     "name": "stderr",
     "output_type": "stream",
     "text": [
      "\r",
      " 53%|██████████████████████████████████████████▍                                     | 265/500 [17:21<17:44,  4.53s/it]"
     ]
    },
    {
     "name": "stdout",
     "output_type": "stream",
     "text": [
      "(1, 23, 128, 128, 1)\n",
      "C:\\Users\\gural\\Desktop\\animals\\sleep\\HorizontalFlipVID_20190327_190308Rotate.mp4\n",
      "\n"
     ]
    },
    {
     "name": "stderr",
     "output_type": "stream",
     "text": [
      "\r",
      " 53%|██████████████████████████████████████████▌                                     | 266/500 [17:25<16:55,  4.34s/it]"
     ]
    },
    {
     "name": "stdout",
     "output_type": "stream",
     "text": [
      "(1, 23, 128, 128, 1)\n",
      "C:\\Users\\gural\\Desktop\\animals\\fly\\VID_20190327_175624Rotate.mp4\n",
      "\n"
     ]
    },
    {
     "name": "stderr",
     "output_type": "stream",
     "text": [
      "\r",
      " 53%|██████████████████████████████████████████▋                                     | 267/500 [17:31<18:12,  4.69s/it]"
     ]
    },
    {
     "name": "stdout",
     "output_type": "stream",
     "text": [
      "(1, 23, 128, 128, 1)\n",
      "C:\\Users\\gural\\Desktop\\animals\\stand\\HorizontalFlipVID_20190327_185934translate.mp4\n",
      "\n"
     ]
    },
    {
     "name": "stderr",
     "output_type": "stream",
     "text": [
      "\r",
      " 54%|██████████████████████████████████████████▉                                     | 268/500 [17:34<16:58,  4.39s/it]"
     ]
    },
    {
     "name": "stdout",
     "output_type": "stream",
     "text": [
      "(1, 23, 128, 128, 1)\n",
      "C:\\Users\\gural\\Desktop\\animals\\fly\\HorizontalFlipVID_20190515_184843translate.mp4\n",
      "\n"
     ]
    },
    {
     "name": "stderr",
     "output_type": "stream",
     "text": [
      "\r",
      " 54%|███████████████████████████████████████████                                     | 269/500 [17:42<20:59,  5.45s/it]"
     ]
    },
    {
     "name": "stdout",
     "output_type": "stream",
     "text": [
      "(1, 23, 128, 128, 1)\n",
      "C:\\Users\\gural\\Desktop\\animals\\sleep\\HorizontalFlipVID_20190515_185106Crop.mp4\n",
      "\n"
     ]
    },
    {
     "name": "stderr",
     "output_type": "stream",
     "text": [
      "\r",
      " 54%|███████████████████████████████████████████▏                                    | 270/500 [17:46<18:50,  4.92s/it]"
     ]
    },
    {
     "name": "stdout",
     "output_type": "stream",
     "text": [
      "(1, 23, 128, 128, 1)\n",
      "C:\\Users\\gural\\Desktop\\animals\\stand\\VID_20190327_190028translate.mp4\n",
      "\n"
     ]
    },
    {
     "name": "stderr",
     "output_type": "stream",
     "text": [
      "\r",
      " 54%|███████████████████████████████████████████▎                                    | 271/500 [17:51<18:40,  4.89s/it]"
     ]
    },
    {
     "name": "stdout",
     "output_type": "stream",
     "text": [
      "(1, 23, 128, 128, 1)\n",
      "C:\\Users\\gural\\Desktop\\animals\\sleep\\HorizontalFlipVID_20190515_185043.mp4\n",
      "\n"
     ]
    },
    {
     "name": "stderr",
     "output_type": "stream",
     "text": [
      "\r",
      " 54%|███████████████████████████████████████████▌                                    | 272/500 [17:54<16:59,  4.47s/it]"
     ]
    },
    {
     "name": "stdout",
     "output_type": "stream",
     "text": [
      "(1, 23, 128, 128, 1)\n",
      "C:\\Users\\gural\\Desktop\\animals\\cut\\VID_20190327_190522Rotate40.mp4\n",
      "\n"
     ]
    },
    {
     "name": "stderr",
     "output_type": "stream",
     "text": [
      "\r",
      " 55%|███████████████████████████████████████████▋                                    | 273/500 [17:58<16:22,  4.33s/it]"
     ]
    },
    {
     "name": "stdout",
     "output_type": "stream",
     "text": [
      "(1, 23, 128, 128, 1)\n",
      "C:\\Users\\gural\\Desktop\\animals\\stand\\VID_20190515_185137Rotate40.mp4\n",
      "\n"
     ]
    },
    {
     "name": "stderr",
     "output_type": "stream",
     "text": [
      "\r",
      " 55%|███████████████████████████████████████████▊                                    | 274/500 [18:03<17:00,  4.51s/it]"
     ]
    },
    {
     "name": "stdout",
     "output_type": "stream",
     "text": [
      "(1, 23, 128, 128, 1)\n",
      "C:\\Users\\gural\\Desktop\\animals\\cut\\HorizontalFlipVID_20190327_175758translate.mp4\n",
      "\n"
     ]
    },
    {
     "name": "stderr",
     "output_type": "stream",
     "text": [
      "\r",
      " 55%|████████████████████████████████████████████                                    | 275/500 [18:06<15:33,  4.15s/it]"
     ]
    },
    {
     "name": "stdout",
     "output_type": "stream",
     "text": [
      "(1, 23, 128, 128, 1)\n",
      "C:\\Users\\gural\\Desktop\\animals\\cut\\VID_20190327_190427.mp4\n",
      "\n"
     ]
    },
    {
     "name": "stderr",
     "output_type": "stream",
     "text": [
      "\r",
      " 55%|████████████████████████████████████████████▏                                   | 276/500 [18:10<15:15,  4.09s/it]"
     ]
    },
    {
     "name": "stdout",
     "output_type": "stream",
     "text": [
      "(1, 23, 128, 128, 1)\n",
      "C:\\Users\\gural\\Desktop\\animals\\fly\\HorizontalFlipVID_20190515_184838Rotate40.mp4\n",
      "\n"
     ]
    },
    {
     "name": "stderr",
     "output_type": "stream",
     "text": [
      "\r",
      " 55%|████████████████████████████████████████████▎                                   | 277/500 [18:14<14:33,  3.92s/it]"
     ]
    },
    {
     "name": "stdout",
     "output_type": "stream",
     "text": [
      "(1, 23, 128, 128, 1)\n",
      "C:\\Users\\gural\\Desktop\\animals\\sleep\\VID_20190529_194617.mp4\n",
      "\n"
     ]
    },
    {
     "name": "stderr",
     "output_type": "stream",
     "text": [
      "\r",
      " 56%|████████████████████████████████████████████▍                                   | 278/500 [18:19<15:53,  4.29s/it]"
     ]
    },
    {
     "name": "stdout",
     "output_type": "stream",
     "text": [
      "(1, 23, 128, 128, 1)\n",
      "C:\\Users\\gural\\Desktop\\animals\\sleep\\VID_20190327_190344Rotate.mp4\n",
      "\n"
     ]
    },
    {
     "name": "stderr",
     "output_type": "stream",
     "text": [
      "\r",
      " 56%|████████████████████████████████████████████▋                                   | 279/500 [18:23<15:10,  4.12s/it]"
     ]
    },
    {
     "name": "stdout",
     "output_type": "stream",
     "text": [
      "(1, 23, 128, 128, 1)\n",
      "C:\\Users\\gural\\Desktop\\animals\\sleep\\HorizontalFlipVID_20190515_185101translate.mp4\n",
      "\n"
     ]
    },
    {
     "name": "stderr",
     "output_type": "stream",
     "text": [
      "\r",
      " 56%|████████████████████████████████████████████▊                                   | 280/500 [18:27<15:03,  4.11s/it]"
     ]
    },
    {
     "name": "stdout",
     "output_type": "stream",
     "text": [
      "(1, 23, 128, 128, 1)\n",
      "C:\\Users\\gural\\Desktop\\animals\\sleep\\HorizontalFlipVID_20190327_190339Rotate.mp4\n",
      "\n"
     ]
    },
    {
     "name": "stderr",
     "output_type": "stream",
     "text": [
      "\r",
      " 56%|████████████████████████████████████████████▉                                   | 281/500 [18:30<14:01,  3.84s/it]"
     ]
    },
    {
     "name": "stdout",
     "output_type": "stream",
     "text": [
      "(1, 23, 128, 128, 1)\n",
      "C:\\Users\\gural\\Desktop\\animals\\stand\\VID_20190327_185710Rotate.mp4\n",
      "\n"
     ]
    },
    {
     "name": "stderr",
     "output_type": "stream",
     "text": [
      "\r",
      " 56%|█████████████████████████████████████████████                                   | 282/500 [18:34<13:55,  3.83s/it]"
     ]
    },
    {
     "name": "stdout",
     "output_type": "stream",
     "text": [
      "(1, 23, 128, 128, 1)\n",
      "C:\\Users\\gural\\Desktop\\animals\\sleep\\VID_20190515_185029Rotate.mp4\n",
      "\n"
     ]
    },
    {
     "name": "stderr",
     "output_type": "stream",
     "text": [
      "\r",
      " 57%|█████████████████████████████████████████████▎                                  | 283/500 [18:40<16:36,  4.59s/it]"
     ]
    },
    {
     "name": "stdout",
     "output_type": "stream",
     "text": [
      "(1, 23, 128, 128, 1)\n",
      "C:\\Users\\gural\\Desktop\\animals\\stand\\VID_20190327_190028Rotate.mp4\n",
      "\n"
     ]
    },
    {
     "name": "stderr",
     "output_type": "stream",
     "text": [
      "\r",
      " 57%|█████████████████████████████████████████████▍                                  | 284/500 [18:45<16:30,  4.59s/it]"
     ]
    },
    {
     "name": "stdout",
     "output_type": "stream",
     "text": [
      "(1, 23, 128, 128, 1)\n",
      "C:\\Users\\gural\\Desktop\\animals\\fly\\HorizontalFlipVID_20190327_190039translate.mp4\n",
      "\n"
     ]
    },
    {
     "name": "stderr",
     "output_type": "stream",
     "text": [
      "\r",
      " 57%|█████████████████████████████████████████████▌                                  | 285/500 [18:48<14:44,  4.11s/it]"
     ]
    },
    {
     "name": "stdout",
     "output_type": "stream",
     "text": [
      "(1, 23, 128, 128, 1)\n",
      "C:\\Users\\gural\\Desktop\\animals\\cut\\HorizontalFlipVID_20190515_184711.mp4\n",
      "\n"
     ]
    },
    {
     "name": "stderr",
     "output_type": "stream",
     "text": [
      "\r",
      " 57%|█████████████████████████████████████████████▊                                  | 286/500 [18:53<15:20,  4.30s/it]"
     ]
    },
    {
     "name": "stdout",
     "output_type": "stream",
     "text": [
      "(1, 23, 128, 128, 1)\n",
      "C:\\Users\\gural\\Desktop\\animals\\cut\\HorizontalFlipVID_20190327_190550.mp4\n",
      "\n"
     ]
    },
    {
     "name": "stderr",
     "output_type": "stream",
     "text": [
      "\r",
      " 57%|█████████████████████████████████████████████▉                                  | 287/500 [18:56<14:38,  4.12s/it]"
     ]
    },
    {
     "name": "stdout",
     "output_type": "stream",
     "text": [
      "(1, 23, 128, 128, 1)\n",
      "C:\\Users\\gural\\Desktop\\animals\\stand\\HorizontalFlipVID_20190327_185700translate.mp4\n",
      "\n"
     ]
    },
    {
     "name": "stderr",
     "output_type": "stream",
     "text": [
      "\r",
      " 58%|██████████████████████████████████████████████                                  | 288/500 [19:01<14:50,  4.20s/it]"
     ]
    },
    {
     "name": "stdout",
     "output_type": "stream",
     "text": [
      "(1, 23, 128, 128, 1)\n",
      "C:\\Users\\gural\\Desktop\\animals\\sleep\\VID_20190327_190344translate.mp4\n",
      "\n"
     ]
    },
    {
     "name": "stderr",
     "output_type": "stream",
     "text": [
      "\r",
      " 58%|██████████████████████████████████████████████▏                                 | 289/500 [19:04<14:14,  4.05s/it]"
     ]
    },
    {
     "name": "stdout",
     "output_type": "stream",
     "text": [
      "(1, 23, 128, 128, 1)\n",
      "C:\\Users\\gural\\Desktop\\animals\\cut\\VID_20190515_184715Crop.mp4\n",
      "\n"
     ]
    },
    {
     "name": "stderr",
     "output_type": "stream",
     "text": [
      "\r",
      " 58%|██████████████████████████████████████████████▍                                 | 290/500 [19:07<12:13,  3.49s/it]"
     ]
    },
    {
     "name": "stdout",
     "output_type": "stream",
     "text": [
      "(1, 23, 128, 128, 1)\n",
      "C:\\Users\\gural\\Desktop\\animals\\cut\\HorizontalFlipVID_20190327_190445Crop.mp4\n",
      "\n"
     ]
    },
    {
     "name": "stderr",
     "output_type": "stream",
     "text": [
      "\r",
      " 58%|██████████████████████████████████████████████▌                                 | 291/500 [19:09<11:05,  3.18s/it]"
     ]
    },
    {
     "name": "stdout",
     "output_type": "stream",
     "text": [
      "(1, 23, 128, 128, 1)\n",
      "C:\\Users\\gural\\Desktop\\animals\\sleep\\HorizontalFlipVID_20190515_185000Crop.mp4\n",
      "\n"
     ]
    },
    {
     "name": "stderr",
     "output_type": "stream",
     "text": [
      "\r",
      " 58%|██████████████████████████████████████████████▋                                 | 292/500 [19:11<09:43,  2.80s/it]"
     ]
    },
    {
     "name": "stdout",
     "output_type": "stream",
     "text": [
      "(1, 23, 128, 128, 1)\n",
      "C:\\Users\\gural\\Desktop\\animals\\stand\\HorizontalFlipVID_20190327_185941Rotate.mp4\n",
      "\n"
     ]
    },
    {
     "name": "stderr",
     "output_type": "stream",
     "text": [
      "\r",
      " 59%|██████████████████████████████████████████████▉                                 | 293/500 [19:15<10:55,  3.17s/it]"
     ]
    },
    {
     "name": "stdout",
     "output_type": "stream",
     "text": [
      "(1, 23, 128, 128, 1)\n",
      "C:\\Users\\gural\\Desktop\\animals\\fly\\VID_20190327_190126.mp4\n",
      "\n"
     ]
    },
    {
     "name": "stderr",
     "output_type": "stream",
     "text": [
      "\r",
      " 59%|███████████████████████████████████████████████                                 | 294/500 [19:19<11:50,  3.45s/it]"
     ]
    },
    {
     "name": "stdout",
     "output_type": "stream",
     "text": [
      "(1, 23, 128, 128, 1)\n",
      "C:\\Users\\gural\\Desktop\\animals\\fly\\HorizontalFlipVID_20190327_190205translate.mp4\n",
      "\n"
     ]
    },
    {
     "name": "stderr",
     "output_type": "stream",
     "text": [
      "\r",
      " 59%|███████████████████████████████████████████████▏                                | 295/500 [19:23<12:14,  3.58s/it]"
     ]
    },
    {
     "name": "stdout",
     "output_type": "stream",
     "text": [
      "(1, 23, 128, 128, 1)\n",
      "C:\\Users\\gural\\Desktop\\animals\\sleep\\VID_20190515_185000.mp4\n",
      "\n"
     ]
    },
    {
     "name": "stderr",
     "output_type": "stream",
     "text": [
      "\r",
      " 59%|███████████████████████████████████████████████▎                                | 296/500 [19:26<11:49,  3.48s/it]"
     ]
    },
    {
     "name": "stdout",
     "output_type": "stream",
     "text": [
      "(1, 23, 128, 128, 1)\n",
      "C:\\Users\\gural\\Desktop\\animals\\sleep\\VID_20190327_190308Rotate40.mp4\n",
      "\n"
     ]
    },
    {
     "name": "stderr",
     "output_type": "stream",
     "text": [
      "\r",
      " 59%|███████████████████████████████████████████████▌                                | 297/500 [19:30<12:10,  3.60s/it]"
     ]
    },
    {
     "name": "stdout",
     "output_type": "stream",
     "text": [
      "(1, 23, 128, 128, 1)\n",
      "C:\\Users\\gural\\Desktop\\animals\\cut\\HorizontalFlipVID_20190327_190445translate.mp4\n",
      "\n"
     ]
    },
    {
     "name": "stderr",
     "output_type": "stream",
     "text": [
      "\r",
      " 60%|███████████████████████████████████████████████▋                                | 298/500 [19:34<12:40,  3.76s/it]"
     ]
    },
    {
     "name": "stdout",
     "output_type": "stream",
     "text": [
      "(1, 23, 128, 128, 1)\n",
      "C:\\Users\\gural\\Desktop\\animals\\cut\\HorizontalFlipVID_20190327_190518Rotate40.mp4\n",
      "\n"
     ]
    },
    {
     "name": "stderr",
     "output_type": "stream",
     "text": [
      "\r",
      " 60%|███████████████████████████████████████████████▊                                | 299/500 [19:38<12:13,  3.65s/it]"
     ]
    },
    {
     "name": "stdout",
     "output_type": "stream",
     "text": [
      "(1, 23, 128, 128, 1)\n",
      "C:\\Users\\gural\\Desktop\\animals\\sleep\\HorizontalFlipVID_20190327_190351Crop.mp4\n",
      "\n"
     ]
    },
    {
     "name": "stderr",
     "output_type": "stream",
     "text": [
      "\r",
      " 60%|████████████████████████████████████████████████                                | 300/500 [19:39<10:25,  3.13s/it]"
     ]
    },
    {
     "name": "stdout",
     "output_type": "stream",
     "text": [
      "(1, 23, 128, 128, 1)\n",
      "C:\\Users\\gural\\Desktop\\animals\\sleep\\VID_20190327_174920translate.mp4\n",
      "\n"
     ]
    },
    {
     "name": "stderr",
     "output_type": "stream",
     "text": [
      "\r",
      " 60%|████████████████████████████████████████████████▏                               | 301/500 [19:44<11:49,  3.57s/it]"
     ]
    },
    {
     "name": "stdout",
     "output_type": "stream",
     "text": [
      "(1, 23, 128, 128, 1)\n",
      "C:\\Users\\gural\\Desktop\\animals\\fly\\HorizontalFlipVID_20190327_190045.mp4\n",
      "\n"
     ]
    },
    {
     "name": "stderr",
     "output_type": "stream",
     "text": [
      "\r",
      " 60%|████████████████████████████████████████████████▎                               | 302/500 [19:48<11:57,  3.63s/it]"
     ]
    },
    {
     "name": "stdout",
     "output_type": "stream",
     "text": [
      "(1, 23, 128, 128, 1)\n",
      "C:\\Users\\gural\\Desktop\\animals\\cut\\VID_20190515_184703translate.mp4\n",
      "\n"
     ]
    },
    {
     "name": "stderr",
     "output_type": "stream",
     "text": [
      "\r",
      " 61%|████████████████████████████████████████████████▍                               | 303/500 [19:51<11:18,  3.45s/it]"
     ]
    },
    {
     "name": "stdout",
     "output_type": "stream",
     "text": [
      "(1, 23, 128, 128, 1)\n",
      "C:\\Users\\gural\\Desktop\\animals\\cut\\HorizontalFlipVID_20190327_175730.mp4\n",
      "\n"
     ]
    },
    {
     "name": "stderr",
     "output_type": "stream",
     "text": [
      "\r",
      " 61%|████████████████████████████████████████████████▋                               | 304/500 [19:55<12:11,  3.73s/it]"
     ]
    },
    {
     "name": "stdout",
     "output_type": "stream",
     "text": [
      "(1, 23, 128, 128, 1)\n",
      "C:\\Users\\gural\\Desktop\\animals\\sleep\\VID_20190515_185029.mp4\n",
      "\n"
     ]
    },
    {
     "name": "stderr",
     "output_type": "stream",
     "text": [
      "\r",
      " 61%|████████████████████████████████████████████████▊                               | 305/500 [20:03<15:47,  4.86s/it]"
     ]
    },
    {
     "name": "stdout",
     "output_type": "stream",
     "text": [
      "(1, 23, 128, 128, 1)\n",
      "C:\\Users\\gural\\Desktop\\animals\\cut\\HorizontalFlipVID_20190327_175826Rotate.mp4\n",
      "\n"
     ]
    },
    {
     "name": "stderr",
     "output_type": "stream",
     "text": [
      "\r",
      " 61%|████████████████████████████████████████████████▉                               | 306/500 [20:06<14:30,  4.49s/it]"
     ]
    },
    {
     "name": "stdout",
     "output_type": "stream",
     "text": [
      "(1, 23, 128, 128, 1)\n",
      "C:\\Users\\gural\\Desktop\\animals\\fly\\HorizontalFlipVID_20190327_175451Crop.mp4\n",
      "\n"
     ]
    },
    {
     "name": "stderr",
     "output_type": "stream",
     "text": [
      "\r",
      " 61%|█████████████████████████████████████████████████                               | 307/500 [20:08<12:00,  3.73s/it]"
     ]
    },
    {
     "name": "stdout",
     "output_type": "stream",
     "text": [
      "(1, 23, 128, 128, 1)\n",
      "C:\\Users\\gural\\Desktop\\animals\\sleep\\VID_20190515_185043Rotate.mp4\n",
      "\n"
     ]
    },
    {
     "name": "stderr",
     "output_type": "stream",
     "text": [
      "\r",
      " 62%|█████████████████████████████████████████████████▎                              | 308/500 [20:12<11:41,  3.65s/it]"
     ]
    },
    {
     "name": "stdout",
     "output_type": "stream",
     "text": [
      "(1, 23, 128, 128, 1)\n",
      "C:\\Users\\gural\\Desktop\\animals\\sleep\\VID_20190327_190344.mp4\n",
      "\n"
     ]
    },
    {
     "name": "stderr",
     "output_type": "stream",
     "text": [
      "\r",
      " 62%|█████████████████████████████████████████████████▍                              | 309/500 [20:16<11:48,  3.71s/it]"
     ]
    },
    {
     "name": "stdout",
     "output_type": "stream",
     "text": [
      "(1, 23, 128, 128, 1)\n",
      "C:\\Users\\gural\\Desktop\\animals\\sleep\\HorizontalFlipVID_20190515_185029translate.mp4\n",
      "\n"
     ]
    },
    {
     "name": "stderr",
     "output_type": "stream",
     "text": [
      "\r",
      " 62%|█████████████████████████████████████████████████▌                              | 310/500 [20:22<14:17,  4.52s/it]"
     ]
    },
    {
     "name": "stdout",
     "output_type": "stream",
     "text": [
      "(1, 23, 128, 128, 1)\n",
      "C:\\Users\\gural\\Desktop\\animals\\sleep\\VID_20190327_190339translate.mp4\n",
      "\n"
     ]
    },
    {
     "name": "stderr",
     "output_type": "stream",
     "text": [
      "\r",
      " 62%|█████████████████████████████████████████████████▊                              | 311/500 [20:25<13:01,  4.13s/it]"
     ]
    },
    {
     "name": "stdout",
     "output_type": "stream",
     "text": [
      "(1, 23, 128, 128, 1)\n",
      "C:\\Users\\gural\\Desktop\\animals\\stand\\VID_20190327_174634Rotate40.mp4\n",
      "\n"
     ]
    },
    {
     "name": "stderr",
     "output_type": "stream",
     "text": [
      "\r",
      " 62%|█████████████████████████████████████████████████▉                              | 312/500 [20:31<14:19,  4.57s/it]"
     ]
    },
    {
     "name": "stdout",
     "output_type": "stream",
     "text": [
      "(1, 23, 128, 128, 1)\n",
      "C:\\Users\\gural\\Desktop\\animals\\fly\\VID_20190327_175451Rotate40.mp4\n",
      "\n"
     ]
    },
    {
     "name": "stderr",
     "output_type": "stream",
     "text": [
      "\r",
      " 63%|██████████████████████████████████████████████████                              | 313/500 [20:34<13:06,  4.21s/it]"
     ]
    },
    {
     "name": "stdout",
     "output_type": "stream",
     "text": [
      "(1, 23, 128, 128, 1)\n",
      "C:\\Users\\gural\\Desktop\\animals\\sleep\\HorizontalFlipVID_20190327_174852Crop.mp4\n",
      "\n"
     ]
    },
    {
     "name": "stderr",
     "output_type": "stream",
     "text": [
      "\r",
      " 63%|██████████████████████████████████████████████████▏                             | 314/500 [20:37<11:24,  3.68s/it]"
     ]
    },
    {
     "name": "stdout",
     "output_type": "stream",
     "text": [
      "(1, 23, 128, 128, 1)\n",
      "C:\\Users\\gural\\Desktop\\animals\\sleep\\VID_20190327_190339Crop.mp4\n",
      "\n"
     ]
    },
    {
     "name": "stderr",
     "output_type": "stream",
     "text": [
      "\r",
      " 63%|██████████████████████████████████████████████████▍                             | 315/500 [20:39<09:40,  3.14s/it]"
     ]
    },
    {
     "name": "stdout",
     "output_type": "stream",
     "text": [
      "(1, 23, 128, 128, 1)\n",
      "C:\\Users\\gural\\Desktop\\animals\\cut\\VID_20190529_194220.mp4\n",
      "\n"
     ]
    },
    {
     "name": "stderr",
     "output_type": "stream",
     "text": [
      "\r",
      " 63%|██████████████████████████████████████████████████▌                             | 316/500 [20:43<11:07,  3.63s/it]"
     ]
    },
    {
     "name": "stdout",
     "output_type": "stream",
     "text": [
      "(1, 23, 128, 128, 1)\n",
      "C:\\Users\\gural\\Desktop\\animals\\sleep\\HorizontalFlipVID_20190327_174852Rotate40.mp4\n",
      "\n"
     ]
    },
    {
     "name": "stderr",
     "output_type": "stream",
     "text": [
      "\r",
      " 63%|██████████████████████████████████████████████████▋                             | 317/500 [20:47<11:34,  3.79s/it]"
     ]
    },
    {
     "name": "stdout",
     "output_type": "stream",
     "text": [
      "(1, 23, 128, 128, 1)\n",
      "C:\\Users\\gural\\Desktop\\animals\\sleep\\VID_20190327_175047Rotate.mp4\n",
      "\n"
     ]
    },
    {
     "name": "stderr",
     "output_type": "stream",
     "text": [
      "\r",
      " 64%|██████████████████████████████████████████████████▉                             | 318/500 [20:52<11:57,  3.94s/it]"
     ]
    },
    {
     "name": "stdout",
     "output_type": "stream",
     "text": [
      "(1, 23, 128, 128, 1)\n",
      "C:\\Users\\gural\\Desktop\\animals\\cut\\HorizontalFlipVID_20190327_175707.mp4\n",
      "\n"
     ]
    },
    {
     "name": "stderr",
     "output_type": "stream",
     "text": [
      "\r",
      " 64%|███████████████████████████████████████████████████                             | 319/500 [20:56<12:01,  3.99s/it]"
     ]
    },
    {
     "name": "stdout",
     "output_type": "stream",
     "text": [
      "(1, 23, 128, 128, 1)\n",
      "C:\\Users\\gural\\Desktop\\animals\\sleep\\HorizontalFlipVID_20190327_174920Rotate.mp4\n",
      "\n"
     ]
    },
    {
     "name": "stderr",
     "output_type": "stream",
     "text": [
      "\r",
      " 64%|███████████████████████████████████████████████████▏                            | 320/500 [21:00<12:28,  4.16s/it]"
     ]
    },
    {
     "name": "stdout",
     "output_type": "stream",
     "text": [
      "(1, 23, 128, 128, 1)\n",
      "C:\\Users\\gural\\Desktop\\animals\\cut\\VID_20190327_175707Rotate40.mp4\n",
      "\n"
     ]
    },
    {
     "name": "stderr",
     "output_type": "stream",
     "text": [
      "\r",
      " 64%|███████████████████████████████████████████████████▎                            | 321/500 [21:05<12:43,  4.27s/it]"
     ]
    },
    {
     "name": "stdout",
     "output_type": "stream",
     "text": [
      "(1, 23, 128, 128, 1)\n",
      "C:\\Users\\gural\\Desktop\\animals\\cut\\VID_20190327_190432Rotate.mp4\n",
      "\n"
     ]
    },
    {
     "name": "stderr",
     "output_type": "stream",
     "text": [
      "\r",
      " 64%|███████████████████████████████████████████████████▌                            | 322/500 [21:09<12:05,  4.08s/it]"
     ]
    },
    {
     "name": "stdout",
     "output_type": "stream",
     "text": [
      "(1, 23, 128, 128, 1)\n",
      "C:\\Users\\gural\\Desktop\\animals\\fly\\HorizontalFlipVID_20190327_175624Crop.mp4\n",
      "\n"
     ]
    },
    {
     "name": "stderr",
     "output_type": "stream",
     "text": [
      "\r",
      " 65%|███████████████████████████████████████████████████▋                            | 323/500 [21:12<11:14,  3.81s/it]"
     ]
    },
    {
     "name": "stdout",
     "output_type": "stream",
     "text": [
      "(1, 23, 128, 128, 1)\n",
      "C:\\Users\\gural\\Desktop\\animals\\cut\\HorizontalFlipVID_20190327_175758Crop.mp4\n",
      "\n"
     ]
    },
    {
     "name": "stderr",
     "output_type": "stream",
     "text": [
      "\r",
      " 65%|███████████████████████████████████████████████████▊                            | 324/500 [21:14<09:32,  3.25s/it]"
     ]
    },
    {
     "name": "stdout",
     "output_type": "stream",
     "text": [
      "(1, 23, 128, 128, 1)\n",
      "C:\\Users\\gural\\Desktop\\animals\\stand\\VID_20190327_185710.mp4\n",
      "\n"
     ]
    },
    {
     "name": "stderr",
     "output_type": "stream",
     "text": [
      "\r",
      " 65%|████████████████████████████████████████████████████                            | 325/500 [21:18<10:06,  3.47s/it]"
     ]
    },
    {
     "name": "stdout",
     "output_type": "stream",
     "text": [
      "(1, 23, 128, 128, 1)\n",
      "C:\\Users\\gural\\Desktop\\animals\\stand\\HorizontalFlipVID_20190515_185146translate.mp4\n",
      "\n"
     ]
    },
    {
     "name": "stderr",
     "output_type": "stream",
     "text": [
      "\r",
      " 65%|████████████████████████████████████████████████████▏                           | 326/500 [21:22<11:00,  3.80s/it]"
     ]
    },
    {
     "name": "stdout",
     "output_type": "stream",
     "text": [
      "(1, 23, 128, 128, 1)\n",
      "C:\\Users\\gural\\Desktop\\animals\\sleep\\HorizontalFlipVID_20190327_190344Crop.mp4\n",
      "\n"
     ]
    },
    {
     "name": "stderr",
     "output_type": "stream",
     "text": [
      "\r",
      " 65%|████████████████████████████████████████████████████▎                           | 327/500 [21:24<09:32,  3.31s/it]"
     ]
    },
    {
     "name": "stdout",
     "output_type": "stream",
     "text": [
      "(1, 23, 128, 128, 1)\n",
      "C:\\Users\\gural\\Desktop\\animals\\cut\\VID_20190515_184703Crop.mp4\n",
      "\n"
     ]
    },
    {
     "name": "stderr",
     "output_type": "stream",
     "text": [
      "\r",
      " 66%|████████████████████████████████████████████████████▍                           | 328/500 [21:26<08:13,  2.87s/it]"
     ]
    },
    {
     "name": "stdout",
     "output_type": "stream",
     "text": [
      "(1, 23, 128, 128, 1)\n",
      "C:\\Users\\gural\\Desktop\\animals\\fly\\VID_20190327_175624translate.mp4\n",
      "\n"
     ]
    },
    {
     "name": "stderr",
     "output_type": "stream",
     "text": [
      "\r",
      " 66%|████████████████████████████████████████████████████▋                           | 329/500 [21:32<10:25,  3.66s/it]"
     ]
    },
    {
     "name": "stdout",
     "output_type": "stream",
     "text": [
      "(1, 23, 128, 128, 1)\n",
      "C:\\Users\\gural\\Desktop\\animals\\sleep\\HorizontalFlipVID_20190327_190308Crop.mp4\n",
      "\n"
     ]
    },
    {
     "name": "stderr",
     "output_type": "stream",
     "text": [
      "\r",
      " 66%|████████████████████████████████████████████████████▊                           | 330/500 [21:34<09:12,  3.25s/it]"
     ]
    },
    {
     "name": "stdout",
     "output_type": "stream",
     "text": [
      "(1, 23, 128, 128, 1)\n",
      "C:\\Users\\gural\\Desktop\\animals\\fly\\HorizontalFlipVID_20190327_190219.mp4\n",
      "\n"
     ]
    },
    {
     "name": "stderr",
     "output_type": "stream",
     "text": [
      "\r",
      " 66%|████████████████████████████████████████████████████▉                           | 331/500 [21:37<09:07,  3.24s/it]"
     ]
    },
    {
     "name": "stdout",
     "output_type": "stream",
     "text": [
      "(1, 23, 128, 128, 1)\n",
      "C:\\Users\\gural\\Desktop\\animals\\sleep\\HorizontalFlipVID_20190327_190314.mp4\n",
      "\n"
     ]
    },
    {
     "name": "stderr",
     "output_type": "stream",
     "text": [
      "\r",
      " 66%|█████████████████████████████████████████████████████                           | 332/500 [21:41<09:13,  3.30s/it]"
     ]
    },
    {
     "name": "stdout",
     "output_type": "stream",
     "text": [
      "(1, 23, 128, 128, 1)\n",
      "C:\\Users\\gural\\Desktop\\animals\\sleep\\VID_20190327_174920.mp4\n",
      "\n"
     ]
    },
    {
     "name": "stderr",
     "output_type": "stream",
     "text": [
      "\r",
      " 67%|█████████████████████████████████████████████████████▎                          | 333/500 [21:45<10:18,  3.70s/it]"
     ]
    },
    {
     "name": "stdout",
     "output_type": "stream",
     "text": [
      "(1, 23, 128, 128, 1)\n",
      "C:\\Users\\gural\\Desktop\\animals\\sleep\\VID_20190515_185029Rotate40.mp4\n",
      "\n"
     ]
    },
    {
     "name": "stderr",
     "output_type": "stream",
     "text": [
      "\r",
      " 67%|█████████████████████████████████████████████████████▍                          | 334/500 [21:52<12:50,  4.64s/it]"
     ]
    },
    {
     "name": "stdout",
     "output_type": "stream",
     "text": [
      "(1, 23, 128, 128, 1)\n",
      "C:\\Users\\gural\\Desktop\\animals\\sleep\\VID_20190327_190359translate.mp4\n",
      "\n"
     ]
    },
    {
     "name": "stderr",
     "output_type": "stream",
     "text": [
      "\r",
      " 67%|█████████████████████████████████████████████████████▌                          | 335/500 [21:56<12:02,  4.38s/it]"
     ]
    },
    {
     "name": "stdout",
     "output_type": "stream",
     "text": [
      "(1, 23, 128, 128, 1)\n",
      "C:\\Users\\gural\\Desktop\\animals\\cut\\HorizontalFlipVID_20190327_190528Rotate.mp4\n",
      "\n"
     ]
    },
    {
     "name": "stderr",
     "output_type": "stream",
     "text": [
      "\r",
      " 67%|█████████████████████████████████████████████████████▊                          | 336/500 [22:01<12:38,  4.63s/it]"
     ]
    },
    {
     "name": "stdout",
     "output_type": "stream",
     "text": [
      "(1, 23, 128, 128, 1)\n",
      "C:\\Users\\gural\\Desktop\\animals\\cut\\HorizontalFlipVID_20190515_184711Rotate.mp4\n",
      "\n"
     ]
    },
    {
     "name": "stderr",
     "output_type": "stream",
     "text": [
      "\r",
      " 67%|█████████████████████████████████████████████████████▉                          | 337/500 [22:15<20:08,  7.41s/it]"
     ]
    },
    {
     "name": "stdout",
     "output_type": "stream",
     "text": [
      "(1, 23, 128, 128, 1)\n",
      "C:\\Users\\gural\\Desktop\\animals\\stand\\VID_20190327_174634.mp4\n",
      "\n"
     ]
    },
    {
     "name": "stderr",
     "output_type": "stream",
     "text": [
      "\r",
      " 68%|██████████████████████████████████████████████████████                          | 338/500 [22:28<24:35,  9.11s/it]"
     ]
    },
    {
     "name": "stdout",
     "output_type": "stream",
     "text": [
      "(1, 23, 128, 128, 1)\n",
      "C:\\Users\\gural\\Desktop\\animals\\sleep\\HorizontalFlipVID_20190515_185106Rotate40.mp4\n",
      "\n"
     ]
    },
    {
     "name": "stderr",
     "output_type": "stream",
     "text": [
      "\r",
      " 68%|██████████████████████████████████████████████████████▏                         | 339/500 [22:39<25:37,  9.55s/it]"
     ]
    },
    {
     "name": "stdout",
     "output_type": "stream",
     "text": [
      "(1, 23, 128, 128, 1)\n",
      "C:\\Users\\gural\\Desktop\\animals\\cut\\VID_20190529_194225.mp4\n",
      "\n"
     ]
    },
    {
     "name": "stderr",
     "output_type": "stream",
     "text": [
      "\r",
      " 68%|██████████████████████████████████████████████████████▍                         | 340/500 [22:46<23:20,  8.75s/it]"
     ]
    },
    {
     "name": "stdout",
     "output_type": "stream",
     "text": [
      "(1, 23, 128, 128, 1)\n",
      "C:\\Users\\gural\\Desktop\\animals\\stand\\VID_20190515_185137Rotate.mp4\n",
      "\n"
     ]
    },
    {
     "name": "stderr",
     "output_type": "stream",
     "text": [
      "\r",
      " 68%|██████████████████████████████████████████████████████▌                         | 341/500 [22:54<22:56,  8.66s/it]"
     ]
    },
    {
     "name": "stdout",
     "output_type": "stream",
     "text": [
      "(1, 23, 128, 128, 1)\n",
      "C:\\Users\\gural\\Desktop\\animals\\fly\\HorizontalFlipVID_20190327_190050translate.mp4\n",
      "\n"
     ]
    },
    {
     "name": "stderr",
     "output_type": "stream",
     "text": [
      "\r",
      " 68%|██████████████████████████████████████████████████████▋                         | 342/500 [23:00<20:49,  7.91s/it]"
     ]
    },
    {
     "name": "stdout",
     "output_type": "stream",
     "text": [
      "(1, 23, 128, 128, 1)\n",
      "C:\\Users\\gural\\Desktop\\animals\\fly\\VID_20190327_175537Rotate.mp4\n",
      "\n"
     ]
    },
    {
     "name": "stderr",
     "output_type": "stream",
     "text": [
      "\r",
      " 69%|██████████████████████████████████████████████████████▉                         | 343/500 [23:10<21:55,  8.38s/it]"
     ]
    },
    {
     "name": "stdout",
     "output_type": "stream",
     "text": [
      "(1, 23, 128, 128, 1)\n",
      "C:\\Users\\gural\\Desktop\\animals\\cut\\HorizontalFlipVID_20190327_190518Crop.mp4\n",
      "\n"
     ]
    },
    {
     "name": "stderr",
     "output_type": "stream",
     "text": [
      "\r",
      " 69%|███████████████████████████████████████████████████████                         | 344/500 [23:13<17:46,  6.83s/it]"
     ]
    },
    {
     "name": "stdout",
     "output_type": "stream",
     "text": [
      "(1, 23, 128, 128, 1)\n",
      "C:\\Users\\gural\\Desktop\\animals\\stand\\HorizontalFlipVID_20190515_185146Crop.mp4\n",
      "\n"
     ]
    },
    {
     "name": "stderr",
     "output_type": "stream",
     "text": [
      "\r",
      " 69%|███████████████████████████████████████████████████████▏                        | 345/500 [23:18<16:10,  6.26s/it]"
     ]
    },
    {
     "name": "stdout",
     "output_type": "stream",
     "text": [
      "(1, 23, 128, 128, 1)\n",
      "C:\\Users\\gural\\Desktop\\animals\\sleep\\VID_20190327_175013.mp4\n",
      "\n"
     ]
    },
    {
     "name": "stderr",
     "output_type": "stream",
     "text": [
      "\r",
      " 69%|███████████████████████████████████████████████████████▎                        | 346/500 [23:27<18:25,  7.18s/it]"
     ]
    },
    {
     "name": "stdout",
     "output_type": "stream",
     "text": [
      "(1, 23, 128, 128, 1)\n",
      "C:\\Users\\gural\\Desktop\\animals\\fly\\HorizontalFlipVID_20190327_190126.mp4\n",
      "\n"
     ]
    },
    {
     "name": "stderr",
     "output_type": "stream",
     "text": [
      "\r",
      " 69%|███████████████████████████████████████████████████████▌                        | 347/500 [23:34<18:05,  7.09s/it]"
     ]
    },
    {
     "name": "stdout",
     "output_type": "stream",
     "text": [
      "(1, 23, 128, 128, 1)\n",
      "C:\\Users\\gural\\Desktop\\animals\\stand\\VID_20190515_185142.mp4\n",
      "\n"
     ]
    },
    {
     "name": "stderr",
     "output_type": "stream",
     "text": [
      "\r",
      " 70%|███████████████████████████████████████████████████████▋                        | 348/500 [23:43<19:11,  7.58s/it]"
     ]
    },
    {
     "name": "stdout",
     "output_type": "stream",
     "text": [
      "(1, 23, 128, 128, 1)\n",
      "C:\\Users\\gural\\Desktop\\animals\\stand\\HorizontalFlipVID_20190515_185137Rotate.mp4\n",
      "\n"
     ]
    },
    {
     "name": "stderr",
     "output_type": "stream",
     "text": [
      "\r",
      " 70%|███████████████████████████████████████████████████████▊                        | 349/500 [23:51<19:41,  7.82s/it]"
     ]
    },
    {
     "name": "stdout",
     "output_type": "stream",
     "text": [
      "(1, 23, 128, 128, 1)\n",
      "C:\\Users\\gural\\Desktop\\animals\\stand\\HorizontalFlipVID_20190327_174711.mp4\n",
      "\n"
     ]
    },
    {
     "name": "stderr",
     "output_type": "stream",
     "text": [
      "\r",
      " 70%|████████████████████████████████████████████████████████                        | 350/500 [23:59<19:41,  7.88s/it]"
     ]
    },
    {
     "name": "stdout",
     "output_type": "stream",
     "text": [
      "(1, 23, 128, 128, 1)\n",
      "C:\\Users\\gural\\Desktop\\animals\\cut\\VID_20190515_184707Rotate.mp4\n",
      "\n"
     ]
    },
    {
     "name": "stderr",
     "output_type": "stream",
     "text": [
      "\r",
      " 70%|████████████████████████████████████████████████████████▏                       | 351/500 [24:08<20:00,  8.05s/it]"
     ]
    },
    {
     "name": "stdout",
     "output_type": "stream",
     "text": [
      "(1, 23, 128, 128, 1)\n",
      "C:\\Users\\gural\\Desktop\\animals\\fly\\HorizontalFlipVID_20190515_184843Crop.mp4\n",
      "\n"
     ]
    },
    {
     "name": "stderr",
     "output_type": "stream",
     "text": [
      "\r",
      " 70%|████████████████████████████████████████████████████████▎                       | 352/500 [24:16<19:50,  8.04s/it]"
     ]
    },
    {
     "name": "stdout",
     "output_type": "stream",
     "text": [
      "(1, 23, 128, 128, 1)\n",
      "C:\\Users\\gural\\Desktop\\animals\\fly\\VID_20190327_190107translate.mp4\n",
      "\n"
     ]
    },
    {
     "name": "stderr",
     "output_type": "stream",
     "text": [
      "\r",
      " 71%|████████████████████████████████████████████████████████▍                       | 353/500 [24:23<19:05,  7.79s/it]"
     ]
    },
    {
     "name": "stdout",
     "output_type": "stream",
     "text": [
      "(1, 23, 128, 128, 1)\n",
      "C:\\Users\\gural\\Desktop\\animals\\cut\\HorizontalFlipVID_20190327_190528translate.mp4\n",
      "\n"
     ]
    },
    {
     "name": "stderr",
     "output_type": "stream",
     "text": [
      "\r",
      " 71%|████████████████████████████████████████████████████████▋                       | 354/500 [24:29<18:03,  7.42s/it]"
     ]
    },
    {
     "name": "stdout",
     "output_type": "stream",
     "text": [
      "(1, 23, 128, 128, 1)\n",
      "C:\\Users\\gural\\Desktop\\animals\\stand\\HorizontalFlipVID_20190327_190002translate.mp4\n",
      "\n"
     ]
    },
    {
     "name": "stderr",
     "output_type": "stream",
     "text": [
      "\r",
      " 71%|████████████████████████████████████████████████████████▊                       | 355/500 [24:39<19:21,  8.01s/it]"
     ]
    },
    {
     "name": "stdout",
     "output_type": "stream",
     "text": [
      "(1, 23, 128, 128, 1)\n",
      "C:\\Users\\gural\\Desktop\\animals\\stand\\HorizontalFlipVID_20190327_190028translate.mp4\n",
      "\n"
     ]
    },
    {
     "name": "stderr",
     "output_type": "stream",
     "text": [
      "\r",
      " 71%|████████████████████████████████████████████████████████▉                       | 356/500 [24:46<18:48,  7.84s/it]"
     ]
    },
    {
     "name": "stdout",
     "output_type": "stream",
     "text": [
      "(1, 23, 128, 128, 1)\n",
      "C:\\Users\\gural\\Desktop\\animals\\cut\\VID_20190327_175758.mp4\n",
      "\n"
     ]
    },
    {
     "name": "stderr",
     "output_type": "stream",
     "text": [
      "\r",
      " 71%|█████████████████████████████████████████████████████████                       | 357/500 [24:52<17:08,  7.19s/it]"
     ]
    },
    {
     "name": "stdout",
     "output_type": "stream",
     "text": [
      "(1, 23, 128, 128, 1)\n",
      "C:\\Users\\gural\\Desktop\\animals\\fly\\HorizontalFlipVID_20190327_190231Crop.mp4\n",
      "\n"
     ]
    },
    {
     "name": "stderr",
     "output_type": "stream",
     "text": [
      "\r",
      " 72%|█████████████████████████████████████████████████████████▎                      | 358/500 [24:55<14:03,  5.94s/it]"
     ]
    },
    {
     "name": "stdout",
     "output_type": "stream",
     "text": [
      "(1, 23, 128, 128, 1)\n",
      "C:\\Users\\gural\\Desktop\\animals\\fly\\HorizontalFlipVID_20190327_190119translate.mp4\n",
      "\n"
     ]
    },
    {
     "name": "stderr",
     "output_type": "stream",
     "text": [
      "\r",
      " 72%|█████████████████████████████████████████████████████████▍                      | 359/500 [25:00<13:28,  5.73s/it]"
     ]
    },
    {
     "name": "stdout",
     "output_type": "stream",
     "text": [
      "(1, 23, 128, 128, 1)\n",
      "C:\\Users\\gural\\Desktop\\animals\\stand\\HorizontalFlipVID_20190327_185941Crop.mp4\n",
      "\n"
     ]
    },
    {
     "name": "stderr",
     "output_type": "stream",
     "text": [
      "\r",
      " 72%|█████████████████████████████████████████████████████████▌                      | 360/500 [25:04<12:02,  5.16s/it]"
     ]
    },
    {
     "name": "stdout",
     "output_type": "stream",
     "text": [
      "(1, 23, 128, 128, 1)\n",
      "C:\\Users\\gural\\Desktop\\animals\\sleep\\VID_20190515_185023Rotate.mp4\n",
      "\n"
     ]
    },
    {
     "name": "stderr",
     "output_type": "stream",
     "text": [
      "\r",
      " 72%|█████████████████████████████████████████████████████████▊                      | 361/500 [25:10<12:50,  5.54s/it]"
     ]
    },
    {
     "name": "stdout",
     "output_type": "stream",
     "text": [
      "(1, 23, 128, 128, 1)\n",
      "C:\\Users\\gural\\Desktop\\animals\\stand\\VID_20190327_185710translate.mp4\n",
      "\n"
     ]
    },
    {
     "name": "stderr",
     "output_type": "stream",
     "text": [
      "\r",
      " 72%|█████████████████████████████████████████████████████████▉                      | 362/500 [25:17<13:25,  5.84s/it]"
     ]
    },
    {
     "name": "stdout",
     "output_type": "stream",
     "text": [
      "(1, 23, 128, 128, 1)\n",
      "C:\\Users\\gural\\Desktop\\animals\\cut\\VID_20190515_184707Crop.mp4\n",
      "\n"
     ]
    },
    {
     "name": "stderr",
     "output_type": "stream",
     "text": [
      "\r",
      " 73%|██████████████████████████████████████████████████████████                      | 363/500 [25:22<12:39,  5.54s/it]"
     ]
    },
    {
     "name": "stdout",
     "output_type": "stream",
     "text": [
      "(1, 23, 128, 128, 1)\n",
      "C:\\Users\\gural\\Desktop\\animals\\stand\\VID_20190327_185934Rotate.mp4\n",
      "\n"
     ]
    },
    {
     "name": "stderr",
     "output_type": "stream",
     "text": [
      "\r",
      " 73%|██████████████████████████████████████████████████████████▏                     | 364/500 [25:29<13:29,  5.96s/it]"
     ]
    },
    {
     "name": "stdout",
     "output_type": "stream",
     "text": [
      "(1, 23, 128, 128, 1)\n",
      "C:\\Users\\gural\\Desktop\\animals\\stand\\VID_20190327_185941translate.mp4\n",
      "\n"
     ]
    },
    {
     "name": "stderr",
     "output_type": "stream",
     "text": [
      "\r",
      " 73%|██████████████████████████████████████████████████████████▍                     | 365/500 [25:36<14:06,  6.27s/it]"
     ]
    },
    {
     "name": "stdout",
     "output_type": "stream",
     "text": [
      "(1, 23, 128, 128, 1)\n",
      "C:\\Users\\gural\\Desktop\\animals\\fly\\VID_20190327_190219translate.mp4\n",
      "\n"
     ]
    },
    {
     "name": "stderr",
     "output_type": "stream",
     "text": [
      "\r",
      " 73%|██████████████████████████████████████████████████████████▌                     | 366/500 [25:41<13:26,  6.02s/it]"
     ]
    },
    {
     "name": "stdout",
     "output_type": "stream",
     "text": [
      "(1, 23, 128, 128, 1)\n",
      "C:\\Users\\gural\\Desktop\\animals\\cut\\HorizontalFlipVID_20190515_184703Rotate.mp4\n",
      "\n"
     ]
    },
    {
     "name": "stderr",
     "output_type": "stream",
     "text": [
      "\r",
      " 73%|██████████████████████████████████████████████████████████▋                     | 367/500 [25:46<12:49,  5.78s/it]"
     ]
    },
    {
     "name": "stdout",
     "output_type": "stream",
     "text": [
      "(1, 23, 128, 128, 1)\n",
      "C:\\Users\\gural\\Desktop\\animals\\fly\\HorizontalFlipVID_20190327_190107Rotate.mp4\n",
      "\n"
     ]
    },
    {
     "name": "stderr",
     "output_type": "stream",
     "text": [
      "\r",
      " 74%|██████████████████████████████████████████████████████████▉                     | 368/500 [25:53<13:30,  6.14s/it]"
     ]
    },
    {
     "name": "stdout",
     "output_type": "stream",
     "text": [
      "(1, 23, 128, 128, 1)\n",
      "C:\\Users\\gural\\Desktop\\animals\\stand\\HorizontalFlipVID_20190515_185152Rotate.mp4\n",
      "\n"
     ]
    },
    {
     "name": "stderr",
     "output_type": "stream",
     "text": [
      "\r",
      " 74%|███████████████████████████████████████████████████████████                     | 369/500 [26:04<16:13,  7.43s/it]"
     ]
    },
    {
     "name": "stdout",
     "output_type": "stream",
     "text": [
      "(1, 23, 128, 128, 1)\n",
      "C:\\Users\\gural\\Desktop\\animals\\cut\\VID_20190327_190445Rotate40.mp4\n",
      "\n"
     ]
    },
    {
     "name": "stderr",
     "output_type": "stream",
     "text": [
      "\r",
      " 74%|███████████████████████████████████████████████████████████▏                    | 370/500 [26:11<15:59,  7.38s/it]"
     ]
    },
    {
     "name": "stdout",
     "output_type": "stream",
     "text": [
      "(1, 23, 128, 128, 1)\n",
      "C:\\Users\\gural\\Desktop\\animals\\fly\\HorizontalFlipVID_20190327_175513translate.mp4\n",
      "\n"
     ]
    },
    {
     "name": "stderr",
     "output_type": "stream",
     "text": [
      "\r",
      " 74%|███████████████████████████████████████████████████████████▎                    | 371/500 [26:21<17:45,  8.26s/it]"
     ]
    },
    {
     "name": "stdout",
     "output_type": "stream",
     "text": [
      "(1, 23, 128, 128, 1)\n",
      "C:\\Users\\gural\\Desktop\\animals\\fly\\VID_20190327_190050Crop.mp4\n",
      "\n"
     ]
    },
    {
     "name": "stderr",
     "output_type": "stream",
     "text": [
      "\r",
      " 74%|███████████████████████████████████████████████████████████▌                    | 372/500 [26:25<14:36,  6.84s/it]"
     ]
    },
    {
     "name": "stdout",
     "output_type": "stream",
     "text": [
      "(1, 23, 128, 128, 1)\n",
      "C:\\Users\\gural\\Desktop\\animals\\fly\\HorizontalFlipVID_20190327_190050.mp4\n",
      "\n"
     ]
    },
    {
     "name": "stderr",
     "output_type": "stream",
     "text": [
      "\r",
      " 75%|███████████████████████████████████████████████████████████▋                    | 373/500 [26:31<14:17,  6.75s/it]"
     ]
    },
    {
     "name": "stdout",
     "output_type": "stream",
     "text": [
      "(1, 23, 128, 128, 1)\n",
      "C:\\Users\\gural\\Desktop\\animals\\sleep\\HorizontalFlipVID_20190327_190344Rotate40.mp4\n",
      "\n"
     ]
    },
    {
     "name": "stderr",
     "output_type": "stream",
     "text": [
      "\r",
      " 75%|███████████████████████████████████████████████████████████▊                    | 374/500 [26:38<14:11,  6.76s/it]"
     ]
    },
    {
     "name": "stdout",
     "output_type": "stream",
     "text": [
      "(1, 23, 128, 128, 1)\n",
      "C:\\Users\\gural\\Desktop\\animals\\fly\\HorizontalFlipVID_20190327_175537Rotate.mp4\n",
      "\n"
     ]
    },
    {
     "name": "stderr",
     "output_type": "stream",
     "text": [
      "\r",
      " 75%|████████████████████████████████████████████████████████████                    | 375/500 [26:48<15:56,  7.65s/it]"
     ]
    },
    {
     "name": "stdout",
     "output_type": "stream",
     "text": [
      "(1, 23, 128, 128, 1)\n",
      "C:\\Users\\gural\\Desktop\\animals\\stand\\VID_20190327_185941Rotate40.mp4\n",
      "\n"
     ]
    },
    {
     "name": "stderr",
     "output_type": "stream",
     "text": [
      "\r",
      " 75%|████████████████████████████████████████████████████████████▏                   | 376/500 [26:55<15:20,  7.42s/it]"
     ]
    },
    {
     "name": "stdout",
     "output_type": "stream",
     "text": [
      "(1, 23, 128, 128, 1)\n",
      "C:\\Users\\gural\\Desktop\\animals\\stand\\VID_20190327_185934Rotate40.mp4\n",
      "\n"
     ]
    },
    {
     "name": "stderr",
     "output_type": "stream",
     "text": [
      "\r",
      " 75%|████████████████████████████████████████████████████████████▎                   | 377/500 [27:01<14:36,  7.13s/it]"
     ]
    },
    {
     "name": "stdout",
     "output_type": "stream",
     "text": [
      "(1, 23, 128, 128, 1)\n",
      "C:\\Users\\gural\\Desktop\\animals\\fly\\VID_20190327_190112Rotate40.mp4\n",
      "\n"
     ]
    },
    {
     "name": "stderr",
     "output_type": "stream",
     "text": [
      "\r",
      " 76%|████████████████████████████████████████████████████████████▍                   | 378/500 [27:09<14:31,  7.15s/it]"
     ]
    },
    {
     "name": "stdout",
     "output_type": "stream",
     "text": [
      "(1, 23, 128, 128, 1)\n",
      "C:\\Users\\gural\\Desktop\\animals\\sleep\\HorizontalFlipVID_20190327_175047translate.mp4\n",
      "\n"
     ]
    },
    {
     "name": "stderr",
     "output_type": "stream",
     "text": [
      "\r",
      " 76%|████████████████████████████████████████████████████████████▋                   | 379/500 [27:16<14:40,  7.28s/it]"
     ]
    },
    {
     "name": "stdout",
     "output_type": "stream",
     "text": [
      "(1, 23, 128, 128, 1)\n",
      "C:\\Users\\gural\\Desktop\\animals\\cut\\HorizontalFlipVID_20190327_175826translate.mp4\n",
      "\n"
     ]
    },
    {
     "name": "stderr",
     "output_type": "stream",
     "text": [
      "\r",
      " 76%|████████████████████████████████████████████████████████████▊                   | 380/500 [27:22<13:57,  6.98s/it]"
     ]
    },
    {
     "name": "stdout",
     "output_type": "stream",
     "text": [
      "(1, 23, 128, 128, 1)\n",
      "C:\\Users\\gural\\Desktop\\animals\\sleep\\HorizontalFlipVID_20190327_190359Crop.mp4\n",
      "\n"
     ]
    },
    {
     "name": "stderr",
     "output_type": "stream",
     "text": [
      "\r",
      " 76%|████████████████████████████████████████████████████████████▉                   | 381/500 [27:26<11:38,  5.87s/it]"
     ]
    },
    {
     "name": "stdout",
     "output_type": "stream",
     "text": [
      "(1, 23, 128, 128, 1)\n",
      "C:\\Users\\gural\\Desktop\\animals\\sleep\\VID_20190515_185000Rotate.mp4\n",
      "\n"
     ]
    },
    {
     "name": "stderr",
     "output_type": "stream",
     "text": [
      "\r",
      " 76%|█████████████████████████████████████████████████████████████                   | 382/500 [27:31<11:09,  5.67s/it]"
     ]
    },
    {
     "name": "stdout",
     "output_type": "stream",
     "text": [
      "(1, 23, 128, 128, 1)\n",
      "C:\\Users\\gural\\Desktop\\animals\\stand\\VID_20190327_185700.mp4\n",
      "\n"
     ]
    },
    {
     "name": "stderr",
     "output_type": "stream",
     "text": [
      "\r",
      " 77%|█████████████████████████████████████████████████████████████▎                  | 383/500 [27:39<12:29,  6.41s/it]"
     ]
    },
    {
     "name": "stdout",
     "output_type": "stream",
     "text": [
      "(1, 23, 128, 128, 1)\n",
      "C:\\Users\\gural\\Desktop\\animals\\stand\\VID_20190529_194658.mp4\n",
      "\n"
     ]
    },
    {
     "name": "stderr",
     "output_type": "stream",
     "text": [
      "\r",
      " 77%|█████████████████████████████████████████████████████████████▍                  | 384/500 [27:49<14:26,  7.47s/it]"
     ]
    },
    {
     "name": "stdout",
     "output_type": "stream",
     "text": [
      "(1, 23, 128, 128, 1)\n",
      "C:\\Users\\gural\\Desktop\\animals\\cut\\VID_20190515_184715translate.mp4\n",
      "\n"
     ]
    },
    {
     "name": "stderr",
     "output_type": "stream",
     "text": [
      "\r",
      " 77%|█████████████████████████████████████████████████████████████▌                  | 385/500 [27:55<13:46,  7.19s/it]"
     ]
    },
    {
     "name": "stdout",
     "output_type": "stream",
     "text": [
      "(1, 23, 128, 128, 1)\n",
      "C:\\Users\\gural\\Desktop\\animals\\cut\\VID_20190327_175707translate.mp4\n",
      "\n"
     ]
    },
    {
     "name": "stderr",
     "output_type": "stream",
     "text": [
      "\r",
      " 77%|█████████████████████████████████████████████████████████████▊                  | 386/500 [28:03<13:37,  7.17s/it]"
     ]
    },
    {
     "name": "stdout",
     "output_type": "stream",
     "text": [
      "(1, 23, 128, 128, 1)\n",
      "C:\\Users\\gural\\Desktop\\animals\\fly\\VID_20190327_190126Rotate.mp4\n",
      "\n"
     ]
    },
    {
     "name": "stderr",
     "output_type": "stream",
     "text": [
      "\r",
      " 77%|█████████████████████████████████████████████████████████████▉                  | 387/500 [28:09<13:16,  7.05s/it]"
     ]
    },
    {
     "name": "stdout",
     "output_type": "stream",
     "text": [
      "(1, 23, 128, 128, 1)\n",
      "C:\\Users\\gural\\Desktop\\animals\\sleep\\HorizontalFlipVID_20190515_185029Crop.mp4\n",
      "\n"
     ]
    },
    {
     "name": "stderr",
     "output_type": "stream",
     "text": [
      "\r",
      " 78%|██████████████████████████████████████████████████████████████                  | 388/500 [28:16<12:50,  6.88s/it]"
     ]
    },
    {
     "name": "stdout",
     "output_type": "stream",
     "text": [
      "(1, 23, 128, 128, 1)\n",
      "C:\\Users\\gural\\Desktop\\animals\\stand\\VID_20190327_174526translate.mp4\n",
      "\n"
     ]
    },
    {
     "name": "stderr",
     "output_type": "stream",
     "text": [
      "\r",
      " 78%|██████████████████████████████████████████████████████████████▏                 | 389/500 [28:23<12:39,  6.84s/it]"
     ]
    },
    {
     "name": "stdout",
     "output_type": "stream",
     "text": [
      "(1, 23, 128, 128, 1)\n",
      "C:\\Users\\gural\\Desktop\\animals\\fly\\HorizontalFlipVID_20190327_190205Crop.mp4\n",
      "\n"
     ]
    },
    {
     "name": "stderr",
     "output_type": "stream",
     "text": [
      "\r",
      " 78%|██████████████████████████████████████████████████████████████▍                 | 390/500 [28:26<10:29,  5.72s/it]"
     ]
    },
    {
     "name": "stdout",
     "output_type": "stream",
     "text": [
      "(1, 23, 128, 128, 1)\n",
      "C:\\Users\\gural\\Desktop\\animals\\stand\\VID_20190327_185927.mp4\n",
      "\n"
     ]
    },
    {
     "name": "stderr",
     "output_type": "stream",
     "text": [
      "\r",
      " 78%|██████████████████████████████████████████████████████████████▌                 | 391/500 [28:33<11:14,  6.19s/it]"
     ]
    },
    {
     "name": "stdout",
     "output_type": "stream",
     "text": [
      "(1, 23, 128, 128, 1)\n",
      "C:\\Users\\gural\\Desktop\\animals\\stand\\VID_20190515_185152translate.mp4\n",
      "\n"
     ]
    },
    {
     "name": "stderr",
     "output_type": "stream",
     "text": [
      "\r",
      " 78%|██████████████████████████████████████████████████████████████▋                 | 392/500 [28:43<13:20,  7.41s/it]"
     ]
    },
    {
     "name": "stdout",
     "output_type": "stream",
     "text": [
      "(1, 23, 128, 128, 1)\n",
      "C:\\Users\\gural\\Desktop\\animals\\fly\\HorizontalFlipVID_20190515_184921Rotate.mp4\n",
      "\n"
     ]
    },
    {
     "name": "stderr",
     "output_type": "stream",
     "text": [
      "\r",
      " 79%|██████████████████████████████████████████████████████████████▉                 | 393/500 [28:50<13:06,  7.35s/it]"
     ]
    },
    {
     "name": "stdout",
     "output_type": "stream",
     "text": [
      "(1, 23, 128, 128, 1)\n",
      "C:\\Users\\gural\\Desktop\\animals\\stand\\HorizontalFlipVID_20190327_174634Rotate.mp4\n",
      "\n"
     ]
    },
    {
     "name": "stderr",
     "output_type": "stream",
     "text": [
      "\r",
      " 79%|███████████████████████████████████████████████████████████████                 | 394/500 [29:01<14:24,  8.16s/it]"
     ]
    },
    {
     "name": "stdout",
     "output_type": "stream",
     "text": [
      "(1, 23, 128, 128, 1)\n",
      "C:\\Users\\gural\\Desktop\\animals\\stand\\HorizontalFlipVID_20190515_185211.mp4\n",
      "\n"
     ]
    },
    {
     "name": "stderr",
     "output_type": "stream",
     "text": [
      "\r",
      " 79%|███████████████████████████████████████████████████████████████▏                | 395/500 [29:06<12:51,  7.35s/it]"
     ]
    },
    {
     "name": "stdout",
     "output_type": "stream",
     "text": [
      "(1, 23, 128, 128, 1)\n",
      "C:\\Users\\gural\\Desktop\\animals\\cut\\VID_20190515_184707.mp4\n",
      "\n"
     ]
    },
    {
     "name": "stderr",
     "output_type": "stream",
     "text": [
      "\r",
      " 79%|███████████████████████████████████████████████████████████████▎                | 396/500 [29:15<13:31,  7.80s/it]"
     ]
    },
    {
     "name": "stdout",
     "output_type": "stream",
     "text": [
      "(1, 23, 128, 128, 1)\n",
      "C:\\Users\\gural\\Desktop\\animals\\stand\\VID_20190327_185927Rotate40.mp4\n",
      "\n"
     ]
    },
    {
     "name": "stderr",
     "output_type": "stream",
     "text": [
      "\r",
      " 79%|███████████████████████████████████████████████████████████████▌                | 397/500 [29:22<13:10,  7.67s/it]"
     ]
    },
    {
     "name": "stdout",
     "output_type": "stream",
     "text": [
      "(1, 23, 128, 128, 1)\n",
      "C:\\Users\\gural\\Desktop\\animals\\sleep\\HorizontalFlipVID_20190515_185043Rotate40.mp4\n",
      "\n"
     ]
    },
    {
     "name": "stderr",
     "output_type": "stream",
     "text": [
      "\r",
      " 80%|███████████████████████████████████████████████████████████████▋                | 398/500 [29:28<12:08,  7.14s/it]"
     ]
    },
    {
     "name": "stdout",
     "output_type": "stream",
     "text": [
      "(1, 23, 128, 128, 1)\n",
      "C:\\Users\\gural\\Desktop\\animals\\cut\\VID_20190327_190415.mp4\n",
      "\n"
     ]
    },
    {
     "name": "stderr",
     "output_type": "stream",
     "text": [
      "\r",
      " 80%|███████████████████████████████████████████████████████████████▊                | 399/500 [29:35<12:08,  7.21s/it]"
     ]
    },
    {
     "name": "stdout",
     "output_type": "stream",
     "text": [
      "(1, 23, 128, 128, 1)\n",
      "C:\\Users\\gural\\Desktop\\animals\\sleep\\VID_20190327_190259Rotate40.mp4\n",
      "\n"
     ]
    },
    {
     "name": "stderr",
     "output_type": "stream",
     "text": [
      "\r",
      " 80%|████████████████████████████████████████████████████████████████                | 400/500 [29:41<11:13,  6.73s/it]"
     ]
    },
    {
     "name": "stdout",
     "output_type": "stream",
     "text": [
      "(1, 23, 128, 128, 1)\n",
      "C:\\Users\\gural\\Desktop\\animals\\fly\\VID_20190327_190231translate.mp4\n",
      "\n"
     ]
    },
    {
     "name": "stderr",
     "output_type": "stream",
     "text": [
      "\r",
      " 80%|████████████████████████████████████████████████████████████████▏               | 401/500 [29:47<10:30,  6.36s/it]"
     ]
    },
    {
     "name": "stdout",
     "output_type": "stream",
     "text": [
      "(1, 23, 128, 128, 1)\n",
      "C:\\Users\\gural\\Desktop\\animals\\stand\\VID_20190515_185152Rotate40.mp4\n",
      "\n"
     ]
    },
    {
     "name": "stderr",
     "output_type": "stream",
     "text": [
      "\r",
      " 80%|████████████████████████████████████████████████████████████████▎               | 402/500 [29:57<12:17,  7.53s/it]"
     ]
    },
    {
     "name": "stdout",
     "output_type": "stream",
     "text": [
      "(1, 23, 128, 128, 1)\n",
      "C:\\Users\\gural\\Desktop\\animals\\stand\\VID_20190327_185941.mp4\n",
      "\n"
     ]
    },
    {
     "name": "stderr",
     "output_type": "stream",
     "text": [
      "\r",
      " 81%|████████████████████████████████████████████████████████████████▍               | 403/500 [30:04<12:00,  7.43s/it]"
     ]
    },
    {
     "name": "stdout",
     "output_type": "stream",
     "text": [
      "(1, 23, 128, 128, 1)\n",
      "C:\\Users\\gural\\Desktop\\animals\\cut\\VID_20190515_184711.mp4\n",
      "\n"
     ]
    },
    {
     "name": "stderr",
     "output_type": "stream",
     "text": [
      "\r",
      " 81%|████████████████████████████████████████████████████████████████▋               | 404/500 [30:12<12:14,  7.65s/it]"
     ]
    },
    {
     "name": "stdout",
     "output_type": "stream",
     "text": [
      "(1, 23, 128, 128, 1)\n",
      "C:\\Users\\gural\\Desktop\\animals\\cut\\HorizontalFlipVID_20190327_175758.mp4\n",
      "\n"
     ]
    },
    {
     "name": "stderr",
     "output_type": "stream",
     "text": [
      "\r",
      " 81%|████████████████████████████████████████████████████████████████▊               | 405/500 [30:18<11:11,  7.07s/it]"
     ]
    },
    {
     "name": "stdout",
     "output_type": "stream",
     "text": [
      "(1, 23, 128, 128, 1)\n",
      "C:\\Users\\gural\\Desktop\\animals\\sleep\\VID_20190529_194601.mp4\n",
      "\n"
     ]
    },
    {
     "name": "stderr",
     "output_type": "stream",
     "text": [
      "\r",
      " 81%|████████████████████████████████████████████████████████████████▉               | 406/500 [30:25<10:57,  6.99s/it]"
     ]
    },
    {
     "name": "stdout",
     "output_type": "stream",
     "text": [
      "(1, 23, 128, 128, 1)\n",
      "C:\\Users\\gural\\Desktop\\animals\\fly\\HorizontalFlipVID_20190327_190219Rotate.mp4\n",
      "\n"
     ]
    },
    {
     "name": "stderr",
     "output_type": "stream",
     "text": [
      "\r",
      " 81%|█████████████████████████████████████████████████████████████████               | 407/500 [30:30<10:04,  6.50s/it]"
     ]
    },
    {
     "name": "stdout",
     "output_type": "stream",
     "text": [
      "(1, 23, 128, 128, 1)\n",
      "C:\\Users\\gural\\Desktop\\animals\\stand\\HorizontalFlipVID_20190327_185927Rotate40.mp4\n",
      "\n"
     ]
    },
    {
     "name": "stderr",
     "output_type": "stream",
     "text": [
      "\r",
      " 82%|█████████████████████████████████████████████████████████████████▎              | 408/500 [30:37<10:16,  6.70s/it]"
     ]
    },
    {
     "name": "stdout",
     "output_type": "stream",
     "text": [
      "(1, 23, 128, 128, 1)\n",
      "C:\\Users\\gural\\Desktop\\animals\\cut\\HorizontalFlipVID_20190327_175758Rotate40.mp4\n",
      "\n"
     ]
    },
    {
     "name": "stderr",
     "output_type": "stream",
     "text": [
      "\r",
      " 82%|█████████████████████████████████████████████████████████████████▍              | 409/500 [30:43<09:43,  6.41s/it]"
     ]
    },
    {
     "name": "stdout",
     "output_type": "stream",
     "text": [
      "(1, 23, 128, 128, 1)\n",
      "C:\\Users\\gural\\Desktop\\animals\\fly\\VID_20190327_190231Rotate40.mp4\n",
      "\n"
     ]
    },
    {
     "name": "stderr",
     "output_type": "stream",
     "text": [
      "\r",
      " 82%|█████████████████████████████████████████████████████████████████▌              | 410/500 [30:49<09:13,  6.15s/it]"
     ]
    },
    {
     "name": "stdout",
     "output_type": "stream",
     "text": [
      "(1, 23, 128, 128, 1)\n",
      "C:\\Users\\gural\\Desktop\\animals\\fly\\VID_20190327_190119translate.mp4\n",
      "\n"
     ]
    },
    {
     "name": "stderr",
     "output_type": "stream",
     "text": [
      "\r",
      " 82%|█████████████████████████████████████████████████████████████████▊              | 411/500 [30:54<08:53,  6.00s/it]"
     ]
    },
    {
     "name": "stdout",
     "output_type": "stream",
     "text": [
      "(1, 23, 128, 128, 1)\n",
      "C:\\Users\\gural\\Desktop\\animals\\sleep\\HorizontalFlipVID_20190327_190335.mp4\n",
      "\n"
     ]
    },
    {
     "name": "stderr",
     "output_type": "stream",
     "text": [
      "\r",
      " 82%|█████████████████████████████████████████████████████████████████▉              | 412/500 [31:01<09:08,  6.24s/it]"
     ]
    },
    {
     "name": "stdout",
     "output_type": "stream",
     "text": [
      "(1, 23, 128, 128, 1)\n",
      "C:\\Users\\gural\\Desktop\\animals\\stand\\HorizontalFlipVID_20190327_185946Rotate40.mp4\n",
      "\n"
     ]
    },
    {
     "name": "stderr",
     "output_type": "stream",
     "text": [
      "\r",
      " 83%|██████████████████████████████████████████████████████████████████              | 413/500 [31:10<10:20,  7.13s/it]"
     ]
    },
    {
     "name": "stdout",
     "output_type": "stream",
     "text": [
      "(1, 23, 128, 128, 1)\n",
      "C:\\Users\\gural\\Desktop\\animals\\sleep\\VID_20190529_194612.mp4\n",
      "\n"
     ]
    },
    {
     "name": "stderr",
     "output_type": "stream",
     "text": [
      "\r",
      " 83%|██████████████████████████████████████████████████████████████████▏             | 414/500 [31:20<11:17,  7.88s/it]"
     ]
    },
    {
     "name": "stdout",
     "output_type": "stream",
     "text": [
      "(1, 23, 128, 128, 1)\n",
      "C:\\Users\\gural\\Desktop\\animals\\sleep\\HorizontalFlipVID_20190515_185023translate.mp4\n",
      "\n"
     ]
    },
    {
     "name": "stderr",
     "output_type": "stream",
     "text": [
      "\r",
      " 83%|██████████████████████████████████████████████████████████████████▍             | 415/500 [31:27<10:44,  7.58s/it]"
     ]
    },
    {
     "name": "stdout",
     "output_type": "stream",
     "text": [
      "(1, 23, 128, 128, 1)\n",
      "C:\\Users\\gural\\Desktop\\animals\\stand\\HorizontalFlipVID_20190327_174711Rotate.mp4\n",
      "\n"
     ]
    },
    {
     "name": "stderr",
     "output_type": "stream",
     "text": [
      "\r",
      " 83%|██████████████████████████████████████████████████████████████████▌             | 416/500 [31:35<10:49,  7.73s/it]"
     ]
    },
    {
     "name": "stdout",
     "output_type": "stream",
     "text": [
      "(1, 23, 128, 128, 1)\n",
      "C:\\Users\\gural\\Desktop\\animals\\cut\\VID_20190327_175730Rotate.mp4\n",
      "\n"
     ]
    },
    {
     "name": "stderr",
     "output_type": "stream",
     "text": [
      "\r",
      " 83%|██████████████████████████████████████████████████████████████████▋             | 417/500 [31:42<10:40,  7.72s/it]"
     ]
    },
    {
     "name": "stdout",
     "output_type": "stream",
     "text": [
      "(1, 23, 128, 128, 1)\n",
      "C:\\Users\\gural\\Desktop\\animals\\stand\\HorizontalFlipVID_20190327_185927Crop.mp4\n",
      "\n"
     ]
    },
    {
     "name": "stderr",
     "output_type": "stream",
     "text": [
      "\r",
      " 84%|██████████████████████████████████████████████████████████████████▉             | 418/500 [31:47<09:06,  6.66s/it]"
     ]
    },
    {
     "name": "stdout",
     "output_type": "stream",
     "text": [
      "(1, 23, 128, 128, 1)\n",
      "C:\\Users\\gural\\Desktop\\animals\\cut\\HorizontalFlipVID_20190327_190550translate.mp4\n",
      "\n"
     ]
    },
    {
     "name": "stderr",
     "output_type": "stream",
     "text": [
      "\r",
      " 84%|███████████████████████████████████████████████████████████████████             | 419/500 [31:53<08:44,  6.47s/it]"
     ]
    },
    {
     "name": "stdout",
     "output_type": "stream",
     "text": [
      "(1, 23, 128, 128, 1)\n",
      "C:\\Users\\gural\\Desktop\\animals\\fly\\VID_20190327_175537.mp4\n",
      "\n"
     ]
    },
    {
     "name": "stderr",
     "output_type": "stream",
     "text": [
      "\r",
      " 84%|███████████████████████████████████████████████████████████████████▏            | 420/500 [32:03<10:13,  7.67s/it]"
     ]
    },
    {
     "name": "stdout",
     "output_type": "stream",
     "text": [
      "(1, 23, 128, 128, 1)\n",
      "C:\\Users\\gural\\Desktop\\animals\\stand\\VID_20190327_185941Crop.mp4\n",
      "\n"
     ]
    },
    {
     "name": "stderr",
     "output_type": "stream",
     "text": [
      "\r",
      " 84%|███████████████████████████████████████████████████████████████████▎            | 421/500 [32:07<08:39,  6.58s/it]"
     ]
    },
    {
     "name": "stdout",
     "output_type": "stream",
     "text": [
      "(1, 23, 128, 128, 1)\n",
      "C:\\Users\\gural\\Desktop\\animals\\stand\\VID_20190515_185211translate.mp4\n",
      "\n"
     ]
    },
    {
     "name": "stderr",
     "output_type": "stream",
     "text": [
      "\r",
      " 84%|███████████████████████████████████████████████████████████████████▌            | 422/500 [32:13<08:05,  6.22s/it]"
     ]
    },
    {
     "name": "stdout",
     "output_type": "stream",
     "text": [
      "(1, 23, 128, 128, 1)\n",
      "C:\\Users\\gural\\Desktop\\animals\\cut\\VID_20190327_190427Crop.mp4\n",
      "\n"
     ]
    },
    {
     "name": "stderr",
     "output_type": "stream",
     "text": [
      "\r",
      " 85%|███████████████████████████████████████████████████████████████████▋            | 423/500 [32:16<07:01,  5.47s/it]"
     ]
    },
    {
     "name": "stdout",
     "output_type": "stream",
     "text": [
      "(1, 23, 128, 128, 1)\n",
      "C:\\Users\\gural\\Desktop\\animals\\stand\\HorizontalFlipVID_20190327_185715Crop.mp4\n",
      "\n"
     ]
    },
    {
     "name": "stderr",
     "output_type": "stream",
     "text": [
      "\r",
      " 85%|███████████████████████████████████████████████████████████████████▊            | 424/500 [32:21<06:34,  5.19s/it]"
     ]
    },
    {
     "name": "stdout",
     "output_type": "stream",
     "text": [
      "(1, 23, 128, 128, 1)\n",
      "C:\\Users\\gural\\Desktop\\animals\\fly\\HorizontalFlipVID_20190327_190107Crop.mp4\n",
      "\n"
     ]
    },
    {
     "name": "stderr",
     "output_type": "stream",
     "text": [
      "\r",
      " 85%|████████████████████████████████████████████████████████████████████            | 425/500 [32:25<06:01,  4.82s/it]"
     ]
    },
    {
     "name": "stdout",
     "output_type": "stream",
     "text": [
      "(1, 23, 128, 128, 1)\n",
      "C:\\Users\\gural\\Desktop\\animals\\cut\\VID_20190327_175730.mp4\n",
      "\n"
     ]
    },
    {
     "name": "stderr",
     "output_type": "stream",
     "text": [
      "\r",
      " 85%|████████████████████████████████████████████████████████████████████▏           | 426/500 [32:33<07:04,  5.73s/it]"
     ]
    },
    {
     "name": "stdout",
     "output_type": "stream",
     "text": [
      "(1, 23, 128, 128, 1)\n",
      "C:\\Users\\gural\\Desktop\\animals\\fly\\VID_20190327_175537Rotate40.mp4\n",
      "\n"
     ]
    },
    {
     "name": "stderr",
     "output_type": "stream",
     "text": [
      "\r",
      " 85%|████████████████████████████████████████████████████████████████████▎           | 427/500 [32:42<08:22,  6.89s/it]"
     ]
    },
    {
     "name": "stdout",
     "output_type": "stream",
     "text": [
      "(1, 23, 128, 128, 1)\n",
      "C:\\Users\\gural\\Desktop\\animals\\stand\\VID_20190515_185146Rotate.mp4\n",
      "\n"
     ]
    },
    {
     "name": "stderr",
     "output_type": "stream",
     "text": [
      "\r",
      " 86%|████████████████████████████████████████████████████████████████████▍           | 428/500 [32:50<08:38,  7.20s/it]"
     ]
    },
    {
     "name": "stdout",
     "output_type": "stream",
     "text": [
      "(1, 23, 128, 128, 1)\n",
      "C:\\Users\\gural\\Desktop\\animals\\fly\\VID_20190327_175624Rotate40.mp4\n",
      "\n"
     ]
    },
    {
     "name": "stderr",
     "output_type": "stream",
     "text": [
      "\r",
      " 86%|████████████████████████████████████████████████████████████████████▋           | 429/500 [33:00<09:26,  7.98s/it]"
     ]
    },
    {
     "name": "stdout",
     "output_type": "stream",
     "text": [
      "(1, 23, 128, 128, 1)\n",
      "C:\\Users\\gural\\Desktop\\animals\\stand\\HorizontalFlipVID_20190327_185934Rotate40.mp4\n",
      "\n"
     ]
    },
    {
     "name": "stderr",
     "output_type": "stream",
     "text": [
      "\r",
      " 86%|████████████████████████████████████████████████████████████████████▊           | 430/500 [33:07<08:51,  7.60s/it]"
     ]
    },
    {
     "name": "stdout",
     "output_type": "stream",
     "text": [
      "(1, 23, 128, 128, 1)\n",
      "C:\\Users\\gural\\Desktop\\animals\\fly\\VID_20190515_184921Rotate.mp4\n",
      "\n"
     ]
    },
    {
     "name": "stderr",
     "output_type": "stream",
     "text": [
      "\r",
      " 86%|████████████████████████████████████████████████████████████████████▉           | 431/500 [33:14<08:32,  7.43s/it]"
     ]
    },
    {
     "name": "stdout",
     "output_type": "stream",
     "text": [
      "(1, 23, 128, 128, 1)\n",
      "C:\\Users\\gural\\Desktop\\animals\\sleep\\HorizontalFlipVID_20190515_185023.mp4\n",
      "\n"
     ]
    },
    {
     "name": "stderr",
     "output_type": "stream",
     "text": [
      "\r",
      " 86%|█████████████████████████████████████████████████████████████████████           | 432/500 [33:21<08:12,  7.25s/it]"
     ]
    },
    {
     "name": "stdout",
     "output_type": "stream",
     "text": [
      "(1, 23, 128, 128, 1)\n",
      "C:\\Users\\gural\\Desktop\\animals\\sleep\\HorizontalFlipVID_20190327_190314translate.mp4\n",
      "\n"
     ]
    },
    {
     "name": "stderr",
     "output_type": "stream",
     "text": [
      "\r",
      " 87%|█████████████████████████████████████████████████████████████████████▎          | 433/500 [33:27<07:40,  6.87s/it]"
     ]
    },
    {
     "name": "stdout",
     "output_type": "stream",
     "text": [
      "(1, 23, 128, 128, 1)\n",
      "C:\\Users\\gural\\Desktop\\animals\\sleep\\VID_20190515_185029Crop.mp4\n",
      "\n"
     ]
    },
    {
     "name": "stderr",
     "output_type": "stream",
     "text": [
      "\r",
      " 87%|█████████████████████████████████████████████████████████████████████▍          | 434/500 [33:33<07:27,  6.77s/it]"
     ]
    },
    {
     "name": "stdout",
     "output_type": "stream",
     "text": [
      "(1, 23, 128, 128, 1)\n",
      "C:\\Users\\gural\\Desktop\\animals\\sleep\\VID_20190327_190335.mp4\n",
      "\n"
     ]
    },
    {
     "name": "stderr",
     "output_type": "stream",
     "text": [
      "\r",
      " 87%|█████████████████████████████████████████████████████████████████████▌          | 435/500 [33:40<07:18,  6.74s/it]"
     ]
    },
    {
     "name": "stdout",
     "output_type": "stream",
     "text": [
      "(1, 23, 128, 128, 1)\n",
      "C:\\Users\\gural\\Desktop\\animals\\fly\\HorizontalFlipVID_20190327_175513Rotate40.mp4\n",
      "\n"
     ]
    },
    {
     "name": "stderr",
     "output_type": "stream",
     "text": [
      "\r",
      " 87%|█████████████████████████████████████████████████████████████████████▊          | 436/500 [33:50<08:20,  7.82s/it]"
     ]
    },
    {
     "name": "stdout",
     "output_type": "stream",
     "text": [
      "(1, 23, 128, 128, 1)\n",
      "C:\\Users\\gural\\Desktop\\animals\\cut\\VID_20190327_175758translate.mp4\n",
      "\n"
     ]
    },
    {
     "name": "stderr",
     "output_type": "stream",
     "text": [
      "\r",
      " 87%|█████████████████████████████████████████████████████████████████████▉          | 437/500 [33:56<07:36,  7.24s/it]"
     ]
    },
    {
     "name": "stdout",
     "output_type": "stream",
     "text": [
      "(1, 23, 128, 128, 1)\n",
      "C:\\Users\\gural\\Desktop\\animals\\cut\\VID_20190327_175707.mp4\n",
      "\n"
     ]
    },
    {
     "name": "stderr",
     "output_type": "stream",
     "text": [
      "\r",
      " 88%|██████████████████████████████████████████████████████████████████████          | 438/500 [34:03<07:30,  7.26s/it]"
     ]
    },
    {
     "name": "stdout",
     "output_type": "stream",
     "text": [
      "(1, 23, 128, 128, 1)\n",
      "C:\\Users\\gural\\Desktop\\animals\\sleep\\HorizontalFlipVID_20190327_190339.mp4\n",
      "\n"
     ]
    },
    {
     "name": "stderr",
     "output_type": "stream",
     "text": [
      "\r",
      " 88%|██████████████████████████████████████████████████████████████████████▏         | 439/500 [34:09<06:51,  6.74s/it]"
     ]
    },
    {
     "name": "stdout",
     "output_type": "stream",
     "text": [
      "(1, 23, 128, 128, 1)\n",
      "C:\\Users\\gural\\Desktop\\animals\\stand\\HorizontalFlipVID_20190327_185934Crop.mp4\n",
      "\n"
     ]
    },
    {
     "name": "stderr",
     "output_type": "stream",
     "text": [
      "\r",
      " 88%|██████████████████████████████████████████████████████████████████████▍         | 440/500 [34:13<05:55,  5.93s/it]"
     ]
    },
    {
     "name": "stdout",
     "output_type": "stream",
     "text": [
      "(1, 23, 128, 128, 1)\n",
      "C:\\Users\\gural\\Desktop\\animals\\fly\\VID_20190529_194512.mp4\n",
      "\n"
     ]
    },
    {
     "name": "stderr",
     "output_type": "stream",
     "text": [
      "\r",
      " 88%|██████████████████████████████████████████████████████████████████████▌         | 441/500 [34:21<06:34,  6.68s/it]"
     ]
    },
    {
     "name": "stdout",
     "output_type": "stream",
     "text": [
      "(1, 23, 128, 128, 1)\n",
      "C:\\Users\\gural\\Desktop\\animals\\fly\\VID_20190327_175624Crop.mp4\n",
      "\n"
     ]
    },
    {
     "name": "stderr",
     "output_type": "stream",
     "text": [
      "\r",
      " 88%|██████████████████████████████████████████████████████████████████████▋         | 442/500 [34:27<06:06,  6.32s/it]"
     ]
    },
    {
     "name": "stdout",
     "output_type": "stream",
     "text": [
      "(1, 23, 128, 128, 1)\n",
      "C:\\Users\\gural\\Desktop\\animals\\stand\\HorizontalFlipVID_20190327_174526translate.mp4\n",
      "\n"
     ]
    },
    {
     "name": "stderr",
     "output_type": "stream",
     "text": [
      "\r",
      " 89%|██████████████████████████████████████████████████████████████████████▉         | 443/500 [34:34<06:12,  6.54s/it]"
     ]
    },
    {
     "name": "stdout",
     "output_type": "stream",
     "text": [
      "(1, 23, 128, 128, 1)\n",
      "C:\\Users\\gural\\Desktop\\animals\\stand\\VID_20190327_185927Crop.mp4\n",
      "\n"
     ]
    },
    {
     "name": "stderr",
     "output_type": "stream",
     "text": [
      "\r",
      " 89%|███████████████████████████████████████████████████████████████████████         | 444/500 [34:38<05:25,  5.81s/it]"
     ]
    },
    {
     "name": "stdout",
     "output_type": "stream",
     "text": [
      "(1, 23, 128, 128, 1)\n",
      "C:\\Users\\gural\\Desktop\\animals\\fly\\VID_20190327_190045Rotate.mp4\n",
      "\n"
     ]
    },
    {
     "name": "stderr",
     "output_type": "stream",
     "text": [
      "\r",
      " 89%|███████████████████████████████████████████████████████████████████████▏        | 445/500 [34:45<05:32,  6.05s/it]"
     ]
    },
    {
     "name": "stdout",
     "output_type": "stream",
     "text": [
      "(1, 23, 128, 128, 1)\n",
      "C:\\Users\\gural\\Desktop\\animals\\sleep\\VID_20190327_175013Rotate40.mp4\n",
      "\n"
     ]
    },
    {
     "name": "stderr",
     "output_type": "stream",
     "text": [
      "\r",
      " 89%|███████████████████████████████████████████████████████████████████████▎        | 446/500 [34:54<06:14,  6.94s/it]"
     ]
    },
    {
     "name": "stdout",
     "output_type": "stream",
     "text": [
      "(1, 23, 128, 128, 1)\n",
      "C:\\Users\\gural\\Desktop\\animals\\stand\\HorizontalFlipVID_20190327_185921Rotate40.mp4\n",
      "\n"
     ]
    },
    {
     "name": "stderr",
     "output_type": "stream",
     "text": [
      "\r",
      " 89%|███████████████████████████████████████████████████████████████████████▌        | 447/500 [35:05<07:27,  8.44s/it]"
     ]
    },
    {
     "name": "stdout",
     "output_type": "stream",
     "text": [
      "(1, 23, 128, 128, 1)\n",
      "C:\\Users\\gural\\Desktop\\animals\\sleep\\HorizontalFlipVID_20190515_185101Crop.mp4\n",
      "\n"
     ]
    },
    {
     "name": "stderr",
     "output_type": "stream",
     "text": [
      "\r",
      " 90%|███████████████████████████████████████████████████████████████████████▋        | 448/500 [35:10<06:10,  7.13s/it]"
     ]
    },
    {
     "name": "stdout",
     "output_type": "stream",
     "text": [
      "(1, 23, 128, 128, 1)\n",
      "C:\\Users\\gural\\Desktop\\animals\\cut\\VID_20190327_175826Rotate.mp4\n",
      "\n"
     ]
    },
    {
     "name": "stderr",
     "output_type": "stream",
     "text": [
      "\r",
      " 90%|███████████████████████████████████████████████████████████████████████▊        | 449/500 [35:16<05:50,  6.87s/it]"
     ]
    },
    {
     "name": "stdout",
     "output_type": "stream",
     "text": [
      "(1, 23, 128, 128, 1)\n",
      "C:\\Users\\gural\\Desktop\\animals\\sleep\\VID_20190327_190335Rotate40.mp4\n",
      "\n"
     ]
    },
    {
     "name": "stderr",
     "output_type": "stream",
     "text": [
      "\r",
      " 90%|████████████████████████████████████████████████████████████████████████        | 450/500 [35:23<05:45,  6.91s/it]"
     ]
    },
    {
     "name": "stdout",
     "output_type": "stream",
     "text": [
      "(1, 23, 128, 128, 1)\n",
      "C:\\Users\\gural\\Desktop\\animals\\fly\\HorizontalFlipVID_20190515_184838Rotate.mp4\n",
      "\n"
     ]
    },
    {
     "name": "stderr",
     "output_type": "stream",
     "text": [
      "\r",
      " 90%|████████████████████████████████████████████████████████████████████████▏       | 451/500 [35:29<05:26,  6.66s/it]"
     ]
    },
    {
     "name": "stdout",
     "output_type": "stream",
     "text": [
      "(1, 23, 128, 128, 1)\n",
      "C:\\Users\\gural\\Desktop\\animals\\cut\\VID_20190327_190550Rotate40.mp4\n",
      "\n"
     ]
    },
    {
     "name": "stderr",
     "output_type": "stream",
     "text": [
      "\r",
      " 90%|████████████████████████████████████████████████████████████████████████▎       | 452/500 [35:35<05:12,  6.50s/it]"
     ]
    },
    {
     "name": "stdout",
     "output_type": "stream",
     "text": [
      "(1, 23, 128, 128, 1)\n",
      "C:\\Users\\gural\\Desktop\\animals\\cut\\VID_20190327_190445translate.mp4\n",
      "\n"
     ]
    },
    {
     "name": "stderr",
     "output_type": "stream",
     "text": [
      "\r",
      " 91%|████████████████████████████████████████████████████████████████████████▍       | 453/500 [35:42<05:18,  6.78s/it]"
     ]
    },
    {
     "name": "stdout",
     "output_type": "stream",
     "text": [
      "(1, 23, 128, 128, 1)\n",
      "C:\\Users\\gural\\Desktop\\animals\\cut\\HorizontalFlipVID_20190327_190427Rotate40.mp4\n",
      "\n"
     ]
    },
    {
     "name": "stderr",
     "output_type": "stream",
     "text": [
      "\r",
      " 91%|████████████████████████████████████████████████████████████████████████▋       | 454/500 [35:49<05:08,  6.71s/it]"
     ]
    },
    {
     "name": "stdout",
     "output_type": "stream",
     "text": [
      "(1, 23, 128, 128, 1)\n",
      "C:\\Users\\gural\\Desktop\\animals\\fly\\VID_20190327_190107Rotate40.mp4\n",
      "\n"
     ]
    },
    {
     "name": "stderr",
     "output_type": "stream",
     "text": [
      "\r",
      " 91%|████████████████████████████████████████████████████████████████████████▊       | 455/500 [35:56<05:08,  6.85s/it]"
     ]
    },
    {
     "name": "stdout",
     "output_type": "stream",
     "text": [
      "(1, 23, 128, 128, 1)\n",
      "C:\\Users\\gural\\Desktop\\animals\\sleep\\HorizontalFlipVID_20190327_174852translate.mp4\n",
      "\n"
     ]
    },
    {
     "name": "stderr",
     "output_type": "stream",
     "text": [
      "\r",
      " 91%|████████████████████████████████████████████████████████████████████████▉       | 456/500 [36:03<05:04,  6.93s/it]"
     ]
    },
    {
     "name": "stdout",
     "output_type": "stream",
     "text": [
      "(1, 23, 128, 128, 1)\n",
      "C:\\Users\\gural\\Desktop\\animals\\sleep\\HorizontalFlipVID_20190515_185101.mp4\n",
      "\n"
     ]
    },
    {
     "name": "stderr",
     "output_type": "stream",
     "text": [
      "\r",
      " 91%|█████████████████████████████████████████████████████████████████████████       | 457/500 [36:10<05:00,  6.99s/it]"
     ]
    },
    {
     "name": "stdout",
     "output_type": "stream",
     "text": [
      "(1, 23, 128, 128, 1)\n",
      "C:\\Users\\gural\\Desktop\\animals\\stand\\HorizontalFlipVID_20190327_185934Rotate.mp4\n",
      "\n"
     ]
    },
    {
     "name": "stderr",
     "output_type": "stream",
     "text": [
      "\r",
      " 92%|█████████████████████████████████████████████████████████████████████████▎      | 458/500 [36:17<04:45,  6.80s/it]"
     ]
    },
    {
     "name": "stdout",
     "output_type": "stream",
     "text": [
      "(1, 23, 128, 128, 1)\n",
      "C:\\Users\\gural\\Desktop\\animals\\fly\\VID_20190327_175451translate.mp4\n",
      "\n"
     ]
    },
    {
     "name": "stderr",
     "output_type": "stream",
     "text": [
      "\r",
      " 92%|█████████████████████████████████████████████████████████████████████████▍      | 459/500 [36:23<04:27,  6.53s/it]"
     ]
    },
    {
     "name": "stdout",
     "output_type": "stream",
     "text": [
      "(1, 23, 128, 128, 1)\n",
      "C:\\Users\\gural\\Desktop\\animals\\sleep\\HorizontalFlipVID_20190515_185043Rotate.mp4\n",
      "\n"
     ]
    },
    {
     "name": "stderr",
     "output_type": "stream",
     "text": [
      "\r",
      " 92%|█████████████████████████████████████████████████████████████████████████▌      | 460/500 [36:29<04:18,  6.45s/it]"
     ]
    },
    {
     "name": "stdout",
     "output_type": "stream",
     "text": [
      "(1, 23, 128, 128, 1)\n",
      "C:\\Users\\gural\\Desktop\\animals\\stand\\HorizontalFlipVID_20190327_174634Crop.mp4\n",
      "\n"
     ]
    },
    {
     "name": "stderr",
     "output_type": "stream",
     "text": [
      "\r",
      " 92%|█████████████████████████████████████████████████████████████████████████▊      | 461/500 [36:35<04:02,  6.22s/it]"
     ]
    },
    {
     "name": "stdout",
     "output_type": "stream",
     "text": [
      "(1, 23, 128, 128, 1)\n",
      "C:\\Users\\gural\\Desktop\\animals\\stand\\HorizontalFlipVID_20190515_185152Rotate40.mp4\n",
      "\n"
     ]
    },
    {
     "name": "stderr",
     "output_type": "stream",
     "text": [
      "\r",
      " 92%|█████████████████████████████████████████████████████████████████████████▉      | 462/500 [36:44<04:37,  7.30s/it]"
     ]
    },
    {
     "name": "stdout",
     "output_type": "stream",
     "text": [
      "(1, 23, 128, 128, 1)\n",
      "C:\\Users\\gural\\Desktop\\animals\\sleep\\HorizontalFlipVID_20190327_174852Rotate.mp4\n",
      "\n"
     ]
    },
    {
     "name": "stderr",
     "output_type": "stream",
     "text": [
      "\r",
      " 93%|██████████████████████████████████████████████████████████████████████████      | 463/500 [36:52<04:31,  7.32s/it]"
     ]
    },
    {
     "name": "stdout",
     "output_type": "stream",
     "text": [
      "(1, 23, 128, 128, 1)\n",
      "C:\\Users\\gural\\Desktop\\animals\\sleep\\VID_20190327_190314Rotate.mp4\n",
      "\n"
     ]
    },
    {
     "name": "stderr",
     "output_type": "stream",
     "text": [
      "\r",
      " 93%|██████████████████████████████████████████████████████████████████████████▏     | 464/500 [36:58<04:08,  6.89s/it]"
     ]
    },
    {
     "name": "stdout",
     "output_type": "stream",
     "text": [
      "(1, 23, 128, 128, 1)\n",
      "C:\\Users\\gural\\Desktop\\animals\\stand\\HorizontalFlipVID_20190327_190028Crop.mp4\n",
      "\n"
     ]
    },
    {
     "name": "stderr",
     "output_type": "stream",
     "text": [
      "\r",
      " 93%|██████████████████████████████████████████████████████████████████████████▍     | 465/500 [37:02<03:36,  6.18s/it]"
     ]
    },
    {
     "name": "stdout",
     "output_type": "stream",
     "text": [
      "(1, 23, 128, 128, 1)\n",
      "C:\\Users\\gural\\Desktop\\animals\\sleep\\HorizontalFlipVID_20190515_185029Rotate.mp4\n",
      "\n"
     ]
    },
    {
     "name": "stderr",
     "output_type": "stream",
     "text": [
      "\r",
      " 93%|██████████████████████████████████████████████████████████████████████████▌     | 466/500 [37:14<04:22,  7.72s/it]"
     ]
    },
    {
     "name": "stdout",
     "output_type": "stream",
     "text": [
      "(1, 23, 128, 128, 1)\n",
      "C:\\Users\\gural\\Desktop\\animals\\stand\\VID_20190529_194704.mp4\n",
      "\n"
     ]
    },
    {
     "name": "stderr",
     "output_type": "stream",
     "text": [
      "\r",
      " 93%|██████████████████████████████████████████████████████████████████████████▋     | 467/500 [37:24<04:40,  8.49s/it]"
     ]
    },
    {
     "name": "stdout",
     "output_type": "stream",
     "text": [
      "(1, 23, 128, 128, 1)\n",
      "C:\\Users\\gural\\Desktop\\animals\\stand\\VID_20190327_185946translate.mp4\n",
      "\n"
     ]
    },
    {
     "name": "stderr",
     "output_type": "stream",
     "text": [
      "\r",
      " 94%|██████████████████████████████████████████████████████████████████████████▉     | 468/500 [37:33<04:42,  8.84s/it]"
     ]
    },
    {
     "name": "stdout",
     "output_type": "stream",
     "text": [
      "(1, 23, 128, 128, 1)\n",
      "C:\\Users\\gural\\Desktop\\animals\\stand\\VID_20190327_174526Rotate.mp4\n",
      "\n"
     ]
    },
    {
     "name": "stderr",
     "output_type": "stream",
     "text": [
      "\r",
      " 94%|███████████████████████████████████████████████████████████████████████████     | 469/500 [37:40<04:16,  8.27s/it]"
     ]
    },
    {
     "name": "stdout",
     "output_type": "stream",
     "text": [
      "(1, 23, 128, 128, 1)\n",
      "C:\\Users\\gural\\Desktop\\animals\\stand\\VID_20190327_174806Rotate.mp4\n",
      "\n"
     ]
    },
    {
     "name": "stderr",
     "output_type": "stream",
     "text": [
      "\r",
      " 94%|███████████████████████████████████████████████████████████████████████████▏    | 470/500 [37:47<03:54,  7.82s/it]"
     ]
    },
    {
     "name": "stdout",
     "output_type": "stream",
     "text": [
      "(1, 23, 128, 128, 1)\n",
      "C:\\Users\\gural\\Desktop\\animals\\stand\\VID_20190327_185727Rotate40.mp4\n",
      "\n"
     ]
    },
    {
     "name": "stderr",
     "output_type": "stream",
     "text": [
      "\r",
      " 94%|███████████████████████████████████████████████████████████████████████████▎    | 471/500 [37:58<04:10,  8.64s/it]"
     ]
    },
    {
     "name": "stdout",
     "output_type": "stream",
     "text": [
      "(1, 23, 128, 128, 1)\n",
      "C:\\Users\\gural\\Desktop\\animals\\sleep\\VID_20190327_190339Rotate40.mp4\n",
      "\n"
     ]
    },
    {
     "name": "stderr",
     "output_type": "stream",
     "text": [
      "\r",
      " 94%|███████████████████████████████████████████████████████████████████████████▌    | 472/500 [38:03<03:35,  7.68s/it]"
     ]
    },
    {
     "name": "stdout",
     "output_type": "stream",
     "text": [
      "(1, 23, 128, 128, 1)\n",
      "C:\\Users\\gural\\Desktop\\animals\\sleep\\HorizontalFlipVID_20190327_190259Crop.mp4\n",
      "\n"
     ]
    },
    {
     "name": "stderr",
     "output_type": "stream",
     "text": [
      "\r",
      " 95%|███████████████████████████████████████████████████████████████████████████▋    | 473/500 [38:07<02:52,  6.38s/it]"
     ]
    },
    {
     "name": "stdout",
     "output_type": "stream",
     "text": [
      "(1, 23, 128, 128, 1)\n",
      "C:\\Users\\gural\\Desktop\\animals\\fly\\HorizontalFlipVID_20190515_184838translate.mp4\n",
      "\n"
     ]
    },
    {
     "name": "stderr",
     "output_type": "stream",
     "text": [
      "\r",
      " 95%|███████████████████████████████████████████████████████████████████████████▊    | 474/500 [38:13<02:43,  6.28s/it]"
     ]
    },
    {
     "name": "stdout",
     "output_type": "stream",
     "text": [
      "(1, 23, 128, 128, 1)\n",
      "C:\\Users\\gural\\Desktop\\animals\\stand\\VID_20190327_185946.mp4\n",
      "\n"
     ]
    },
    {
     "name": "stderr",
     "output_type": "stream",
     "text": [
      "\r",
      " 95%|████████████████████████████████████████████████████████████████████████████    | 475/500 [38:22<03:00,  7.20s/it]"
     ]
    },
    {
     "name": "stdout",
     "output_type": "stream",
     "text": [
      "(1, 23, 128, 128, 1)\n",
      "C:\\Users\\gural\\Desktop\\animals\\fly\\HorizontalFlipVID_20190327_175624Rotate40.mp4\n",
      "\n"
     ]
    },
    {
     "name": "stderr",
     "output_type": "stream",
     "text": [
      "\r",
      " 95%|████████████████████████████████████████████████████████████████████████████▏   | 476/500 [38:32<03:10,  7.92s/it]"
     ]
    },
    {
     "name": "stdout",
     "output_type": "stream",
     "text": [
      "(1, 23, 128, 128, 1)\n",
      "C:\\Users\\gural\\Desktop\\animals\\stand\\HorizontalFlipVID_20190327_190002Rotate.mp4\n",
      "\n"
     ]
    },
    {
     "name": "stderr",
     "output_type": "stream",
     "text": [
      "\r",
      " 95%|████████████████████████████████████████████████████████████████████████████▎   | 477/500 [38:41<03:14,  8.47s/it]"
     ]
    },
    {
     "name": "stdout",
     "output_type": "stream",
     "text": [
      "(1, 23, 128, 128, 1)\n",
      "C:\\Users\\gural\\Desktop\\animals\\stand\\HorizontalFlipVID_20190327_185946Rotate.mp4\n",
      "\n"
     ]
    },
    {
     "name": "stderr",
     "output_type": "stream",
     "text": [
      "\r",
      " 96%|████████████████████████████████████████████████████████████████████████████▍   | 478/500 [38:50<03:10,  8.68s/it]"
     ]
    },
    {
     "name": "stdout",
     "output_type": "stream",
     "text": [
      "(1, 23, 128, 128, 1)\n",
      "C:\\Users\\gural\\Desktop\\animals\\cut\\HorizontalFlipVID_20190515_184707Crop.mp4\n",
      "\n"
     ]
    },
    {
     "name": "stderr",
     "output_type": "stream",
     "text": [
      "\r",
      " 96%|████████████████████████████████████████████████████████████████████████████▋   | 479/500 [38:55<02:38,  7.54s/it]"
     ]
    },
    {
     "name": "stdout",
     "output_type": "stream",
     "text": [
      "(1, 23, 128, 128, 1)\n",
      "C:\\Users\\gural\\Desktop\\animals\\stand\\VID_20190327_185700Rotate40.mp4\n",
      "\n"
     ]
    },
    {
     "name": "stderr",
     "output_type": "stream",
     "text": [
      "\r",
      " 96%|████████████████████████████████████████████████████████████████████████████▊   | 480/500 [39:03<02:31,  7.58s/it]"
     ]
    },
    {
     "name": "stdout",
     "output_type": "stream",
     "text": [
      "(1, 23, 128, 128, 1)\n",
      "C:\\Users\\gural\\Desktop\\animals\\fly\\VID_20190327_190050Rotate40.mp4\n",
      "\n"
     ]
    },
    {
     "name": "stderr",
     "output_type": "stream",
     "text": [
      "\r",
      " 96%|████████████████████████████████████████████████████████████████████████████▉   | 481/500 [39:09<02:16,  7.18s/it]"
     ]
    },
    {
     "name": "stdout",
     "output_type": "stream",
     "text": [
      "(1, 23, 128, 128, 1)\n",
      "C:\\Users\\gural\\Desktop\\animals\\stand\\HorizontalFlipVID_20190327_190028Rotate40.mp4\n",
      "\n"
     ]
    },
    {
     "name": "stderr",
     "output_type": "stream",
     "text": [
      "\r",
      " 96%|█████████████████████████████████████████████████████████████████████████████   | 482/500 [39:17<02:13,  7.41s/it]"
     ]
    },
    {
     "name": "stdout",
     "output_type": "stream",
     "text": [
      "(1, 23, 128, 128, 1)\n",
      "C:\\Users\\gural\\Desktop\\animals\\fly\\VID_20190327_190219.mp4\n",
      "\n"
     ]
    },
    {
     "name": "stderr",
     "output_type": "stream",
     "text": [
      "\r",
      " 97%|█████████████████████████████████████████████████████████████████████████████▎  | 483/500 [39:23<01:56,  6.86s/it]"
     ]
    },
    {
     "name": "stdout",
     "output_type": "stream",
     "text": [
      "(1, 23, 128, 128, 1)\n",
      "C:\\Users\\gural\\Desktop\\animals\\stand\\VID_20190327_190002Rotate.mp4\n",
      "\n"
     ]
    },
    {
     "name": "stderr",
     "output_type": "stream",
     "text": [
      "\r",
      " 97%|█████████████████████████████████████████████████████████████████████████████▍  | 484/500 [39:32<02:01,  7.60s/it]"
     ]
    },
    {
     "name": "stdout",
     "output_type": "stream",
     "text": [
      "(1, 23, 128, 128, 1)\n",
      "C:\\Users\\gural\\Desktop\\animals\\fly\\VID_20190515_184838Crop.mp4\n",
      "\n"
     ]
    },
    {
     "name": "stderr",
     "output_type": "stream",
     "text": [
      "\r",
      " 97%|█████████████████████████████████████████████████████████████████████████████▌  | 485/500 [39:36<01:35,  6.35s/it]"
     ]
    },
    {
     "name": "stdout",
     "output_type": "stream",
     "text": [
      "(1, 23, 128, 128, 1)\n",
      "C:\\Users\\gural\\Desktop\\animals\\cut\\HorizontalFlipVID_20190327_175758Rotate.mp4\n",
      "\n"
     ]
    },
    {
     "name": "stderr",
     "output_type": "stream",
     "text": [
      "\r",
      " 97%|█████████████████████████████████████████████████████████████████████████████▊  | 486/500 [39:42<01:27,  6.25s/it]"
     ]
    },
    {
     "name": "stdout",
     "output_type": "stream",
     "text": [
      "(1, 23, 128, 128, 1)\n",
      "C:\\Users\\gural\\Desktop\\animals\\fly\\VID_20190515_184921.mp4\n",
      "\n"
     ]
    },
    {
     "name": "stderr",
     "output_type": "stream",
     "text": [
      "\r",
      " 97%|█████████████████████████████████████████████████████████████████████████████▉  | 487/500 [39:49<01:26,  6.63s/it]"
     ]
    },
    {
     "name": "stdout",
     "output_type": "stream",
     "text": [
      "(1, 23, 128, 128, 1)\n",
      "C:\\Users\\gural\\Desktop\\animals\\sleep\\VID_20190327_190314.mp4\n",
      "\n"
     ]
    },
    {
     "name": "stderr",
     "output_type": "stream",
     "text": [
      "\r",
      " 98%|██████████████████████████████████████████████████████████████████████████████  | 488/500 [39:55<01:17,  6.45s/it]"
     ]
    },
    {
     "name": "stdout",
     "output_type": "stream",
     "text": [
      "(1, 23, 128, 128, 1)\n",
      "C:\\Users\\gural\\Desktop\\animals\\fly\\HorizontalFlipVID_20190327_190119Rotate40.mp4\n",
      "\n"
     ]
    },
    {
     "name": "stderr",
     "output_type": "stream",
     "text": [
      "\r",
      " 98%|██████████████████████████████████████████████████████████████████████████████▏ | 489/500 [40:01<01:08,  6.23s/it]"
     ]
    },
    {
     "name": "stdout",
     "output_type": "stream",
     "text": [
      "(1, 23, 128, 128, 1)\n",
      "C:\\Users\\gural\\Desktop\\animals\\sleep\\VID_20190327_190351Rotate40.mp4\n",
      "\n"
     ]
    },
    {
     "name": "stderr",
     "output_type": "stream",
     "text": [
      "\r",
      " 98%|██████████████████████████████████████████████████████████████████████████████▍ | 490/500 [40:07<01:01,  6.11s/it]"
     ]
    },
    {
     "name": "stdout",
     "output_type": "stream",
     "text": [
      "(1, 23, 128, 128, 1)\n",
      "C:\\Users\\gural\\Desktop\\animals\\cut\\HorizontalFlipVID_20190327_190445Rotate.mp4\n",
      "\n"
     ]
    },
    {
     "name": "stderr",
     "output_type": "stream",
     "text": [
      "\r",
      " 98%|██████████████████████████████████████████████████████████████████████████████▌ | 491/500 [40:14<00:58,  6.47s/it]"
     ]
    },
    {
     "name": "stdout",
     "output_type": "stream",
     "text": [
      "(1, 23, 128, 128, 1)\n",
      "C:\\Users\\gural\\Desktop\\animals\\cut\\HorizontalFlipVID_20190515_184715Rotate.mp4\n",
      "\n"
     ]
    },
    {
     "name": "stderr",
     "output_type": "stream",
     "text": [
      "\r",
      " 98%|██████████████████████████████████████████████████████████████████████████████▋ | 492/500 [40:20<00:51,  6.47s/it]"
     ]
    },
    {
     "name": "stdout",
     "output_type": "stream",
     "text": [
      "(1, 23, 128, 128, 1)\n",
      "C:\\Users\\gural\\Desktop\\animals\\sleep\\HorizontalFlipVID_20190327_190344translate.mp4\n",
      "\n"
     ]
    },
    {
     "name": "stderr",
     "output_type": "stream",
     "text": [
      "\r",
      " 99%|██████████████████████████████████████████████████████████████████████████████▉ | 493/500 [40:27<00:44,  6.43s/it]"
     ]
    },
    {
     "name": "stdout",
     "output_type": "stream",
     "text": [
      "(1, 23, 128, 128, 1)\n",
      "C:\\Users\\gural\\Desktop\\animals\\stand\\VID_20190327_185727Crop.mp4\n",
      "\n"
     ]
    },
    {
     "name": "stderr",
     "output_type": "stream",
     "text": [
      "\r",
      " 99%|███████████████████████████████████████████████████████████████████████████████ | 494/500 [40:33<00:37,  6.26s/it]"
     ]
    },
    {
     "name": "stdout",
     "output_type": "stream",
     "text": [
      "(1, 23, 128, 128, 1)\n",
      "C:\\Users\\gural\\Desktop\\animals\\fly\\VID_20190327_175537translate.mp4\n",
      "\n"
     ]
    },
    {
     "name": "stderr",
     "output_type": "stream",
     "text": [
      "\r",
      " 99%|███████████████████████████████████████████████████████████████████████████████▏| 495/500 [40:42<00:36,  7.21s/it]"
     ]
    },
    {
     "name": "stdout",
     "output_type": "stream",
     "text": [
      "(1, 23, 128, 128, 1)\n",
      "C:\\Users\\gural\\Desktop\\animals\\fly\\HorizontalFlipVID_20190327_175537translate.mp4\n",
      "\n"
     ]
    },
    {
     "name": "stderr",
     "output_type": "stream",
     "text": [
      "\r",
      " 99%|███████████████████████████████████████████████████████████████████████████████▎| 496/500 [40:52<00:31,  7.99s/it]"
     ]
    },
    {
     "name": "stdout",
     "output_type": "stream",
     "text": [
      "(1, 23, 128, 128, 1)\n",
      "C:\\Users\\gural\\Desktop\\animals\\stand\\HorizontalFlipVID_20190515_185152translate.mp4\n",
      "\n"
     ]
    },
    {
     "name": "stderr",
     "output_type": "stream",
     "text": [
      "\r",
      " 99%|███████████████████████████████████████████████████████████████████████████████▌| 497/500 [41:02<00:25,  8.50s/it]"
     ]
    },
    {
     "name": "stdout",
     "output_type": "stream",
     "text": [
      "(1, 23, 128, 128, 1)\n",
      "C:\\Users\\gural\\Desktop\\animals\\fly\\HorizontalFlipVID_20190327_190039Rotate40.mp4\n",
      "\n"
     ]
    },
    {
     "name": "stderr",
     "output_type": "stream",
     "text": [
      "\r",
      "100%|███████████████████████████████████████████████████████████████████████████████▋| 498/500 [41:07<00:15,  7.51s/it]"
     ]
    },
    {
     "name": "stdout",
     "output_type": "stream",
     "text": [
      "(1, 23, 128, 128, 1)\n",
      "C:\\Users\\gural\\Desktop\\animals\\cut\\HorizontalFlipVID_20190515_184715Rotate40.mp4\n",
      "\n"
     ]
    },
    {
     "name": "stderr",
     "output_type": "stream",
     "text": [
      "\r",
      "100%|███████████████████████████████████████████████████████████████████████████████▊| 499/500 [41:13<00:07,  7.23s/it]"
     ]
    },
    {
     "name": "stdout",
     "output_type": "stream",
     "text": [
      "(1, 23, 128, 128, 1)\n",
      "C:\\Users\\gural\\Desktop\\animals\\sleep\\HorizontalFlipVID_20190327_190259Rotate.mp4\n",
      "\n"
     ]
    },
    {
     "name": "stderr",
     "output_type": "stream",
     "text": [
      "100%|████████████████████████████████████████████████████████████████████████████████| 500/500 [41:19<00:00,  6.78s/it]\n"
     ]
    },
    {
     "name": "stdout",
     "output_type": "stream",
     "text": [
      "(1, 23, 128, 128, 1)\n",
      "(1, 23, 128, 128, 1)\n",
      "(1, 23, 128, 128, 1)\n",
      "(1, 23, 128, 128, 1)\n",
      "(1, 23, 128, 128, 1)\n",
      "(1, 23, 128, 128, 1)\n",
      "(1, 23, 128, 128, 1)\n",
      "(1, 23, 128, 128, 1)\n",
      "(1, 23, 128, 128, 1)\n",
      "(1, 23, 128, 128, 1)\n",
      "(1, 23, 128, 128, 1)\n",
      "(1, 23, 128, 128, 1)\n",
      "(1, 23, 128, 128, 1)\n",
      "(1, 23, 128, 128, 1)\n",
      "(1, 23, 128, 128, 1)\n",
      "(1, 23, 128, 128, 1)\n",
      "(1, 23, 128, 128, 1)\n",
      "(1, 23, 128, 128, 1)\n",
      "(1, 23, 128, 128, 1)\n",
      "(1, 23, 128, 128, 1)\n",
      "(1, 23, 128, 128, 1)\n",
      "(1, 23, 128, 128, 1)\n",
      "(1, 23, 128, 128, 1)\n",
      "(1, 23, 128, 128, 1)\n",
      "(1, 23, 128, 128, 1)\n",
      "(1, 23, 128, 128, 1)\n",
      "(1, 23, 128, 128, 1)\n",
      "(1, 23, 128, 128, 1)\n",
      "(1, 23, 128, 128, 1)\n",
      "(1, 23, 128, 128, 1)\n",
      "(1, 23, 128, 128, 1)\n",
      "(1, 23, 128, 128, 1)\n",
      "(1, 23, 128, 128, 1)\n",
      "(1, 23, 128, 128, 1)\n",
      "(1, 23, 128, 128, 1)\n",
      "(1, 23, 128, 128, 1)\n",
      "(1, 23, 128, 128, 1)\n",
      "(1, 23, 128, 128, 1)\n",
      "(1, 23, 128, 128, 1)\n",
      "(1, 23, 128, 128, 1)\n",
      "(1, 23, 128, 128, 1)\n",
      "(1, 23, 128, 128, 1)\n",
      "(1, 23, 128, 128, 1)\n",
      "(1, 23, 128, 128, 1)\n",
      "(1, 23, 128, 128, 1)\n",
      "(1, 23, 128, 128, 1)\n",
      "(1, 23, 128, 128, 1)\n",
      "(1, 23, 128, 128, 1)\n",
      "(1, 23, 128, 128, 1)\n",
      "(1, 23, 128, 128, 1)\n",
      "(1, 23, 128, 128, 1)\n",
      "(1, 23, 128, 128, 1)\n",
      "(1, 23, 128, 128, 1)\n",
      "(1, 23, 128, 128, 1)\n",
      "(1, 23, 128, 128, 1)\n",
      "(1, 23, 128, 128, 1)\n",
      "(1, 23, 128, 128, 1)\n",
      "(1, 23, 128, 128, 1)\n",
      "(1, 23, 128, 128, 1)\n",
      "(1, 23, 128, 128, 1)\n",
      "(1, 23, 128, 128, 1)\n",
      "(1, 23, 128, 128, 1)\n",
      "(1, 23, 128, 128, 1)\n",
      "(1, 23, 128, 128, 1)\n",
      "(1, 23, 128, 128, 1)\n",
      "(1, 23, 128, 128, 1)\n",
      "(1, 23, 128, 128, 1)\n",
      "(1, 23, 128, 128, 1)\n",
      "(1, 23, 128, 128, 1)\n",
      "(1, 23, 128, 128, 1)\n",
      "(1, 23, 128, 128, 1)\n",
      "(1, 23, 128, 128, 1)\n",
      "(1, 23, 128, 128, 1)\n",
      "(1, 23, 128, 128, 1)\n",
      "(1, 23, 128, 128, 1)\n",
      "(1, 23, 128, 128, 1)\n",
      "(1, 23, 128, 128, 1)\n",
      "(1, 23, 128, 128, 1)\n",
      "(1, 23, 128, 128, 1)\n",
      "(1, 23, 128, 128, 1)\n",
      "(1, 23, 128, 128, 1)\n",
      "(1, 23, 128, 128, 1)\n",
      "(1, 23, 128, 128, 1)\n",
      "(1, 23, 128, 128, 1)\n",
      "(1, 23, 128, 128, 1)\n",
      "(1, 23, 128, 128, 1)\n",
      "(1, 23, 128, 128, 1)\n",
      "(1, 23, 128, 128, 1)\n",
      "(1, 23, 128, 128, 1)\n",
      "(1, 23, 128, 128, 1)\n",
      "(1, 23, 128, 128, 1)\n",
      "(1, 23, 128, 128, 1)\n",
      "(1, 23, 128, 128, 1)\n",
      "(1, 23, 128, 128, 1)\n",
      "(1, 23, 128, 128, 1)\n",
      "(1, 23, 128, 128, 1)\n",
      "(1, 23, 128, 128, 1)\n",
      "(1, 23, 128, 128, 1)\n",
      "(1, 23, 128, 128, 1)\n",
      "(1, 23, 128, 128, 1)\n",
      "(1, 23, 128, 128, 1)\n",
      "(1, 23, 128, 128, 1)\n",
      "(1, 23, 128, 128, 1)\n",
      "(1, 23, 128, 128, 1)\n",
      "(1, 23, 128, 128, 1)\n",
      "(1, 23, 128, 128, 1)\n",
      "(1, 23, 128, 128, 1)\n",
      "(1, 23, 128, 128, 1)\n",
      "(1, 23, 128, 128, 1)\n",
      "(1, 23, 128, 128, 1)\n",
      "(1, 23, 128, 128, 1)\n",
      "(1, 23, 128, 128, 1)\n",
      "(1, 23, 128, 128, 1)\n",
      "(1, 23, 128, 128, 1)\n",
      "(1, 23, 128, 128, 1)\n",
      "(1, 23, 128, 128, 1)\n",
      "(1, 23, 128, 128, 1)\n",
      "(1, 23, 128, 128, 1)\n",
      "(1, 23, 128, 128, 1)\n",
      "(1, 23, 128, 128, 1)\n",
      "(1, 23, 128, 128, 1)\n",
      "(1, 23, 128, 128, 1)\n",
      "(1, 23, 128, 128, 1)\n",
      "(1, 23, 128, 128, 1)\n",
      "(1, 23, 128, 128, 1)\n",
      "(1, 23, 128, 128, 1)\n",
      "(1, 23, 128, 128, 1)\n",
      "(1, 23, 128, 128, 1)\n",
      "(1, 23, 128, 128, 1)\n",
      "(1, 23, 128, 128, 1)\n",
      "(1, 23, 128, 128, 1)\n",
      "(1, 23, 128, 128, 1)\n",
      "(1, 23, 128, 128, 1)\n",
      "(1, 23, 128, 128, 1)\n",
      "(1, 23, 128, 128, 1)\n",
      "(1, 23, 128, 128, 1)\n",
      "(1, 23, 128, 128, 1)\n",
      "(1, 23, 128, 128, 1)\n",
      "(1, 23, 128, 128, 1)\n",
      "(1, 23, 128, 128, 1)\n",
      "(1, 23, 128, 128, 1)\n",
      "(1, 23, 128, 128, 1)\n",
      "(1, 23, 128, 128, 1)\n",
      "(1, 23, 128, 128, 1)\n",
      "(1, 23, 128, 128, 1)\n",
      "(1, 23, 128, 128, 1)\n",
      "(1, 23, 128, 128, 1)\n",
      "(1, 23, 128, 128, 1)\n",
      "(1, 23, 128, 128, 1)\n",
      "(1, 23, 128, 128, 1)\n",
      "(1, 23, 128, 128, 1)\n",
      "(1, 23, 128, 128, 1)\n",
      "(1, 23, 128, 128, 1)\n",
      "(1, 23, 128, 128, 1)\n",
      "(1, 23, 128, 128, 1)\n",
      "(1, 23, 128, 128, 1)\n",
      "(1, 23, 128, 128, 1)\n",
      "(1, 23, 128, 128, 1)\n",
      "(1, 23, 128, 128, 1)\n",
      "(1, 23, 128, 128, 1)\n",
      "(1, 23, 128, 128, 1)\n",
      "(1, 23, 128, 128, 1)\n",
      "(1, 23, 128, 128, 1)\n",
      "(1, 23, 128, 128, 1)\n",
      "(1, 23, 128, 128, 1)\n",
      "(1, 23, 128, 128, 1)\n",
      "(1, 23, 128, 128, 1)\n",
      "(1, 23, 128, 128, 1)\n",
      "(1, 23, 128, 128, 1)\n",
      "(1, 23, 128, 128, 1)\n",
      "(1, 23, 128, 128, 1)\n",
      "(1, 23, 128, 128, 1)\n",
      "(1, 23, 128, 128, 1)\n",
      "(1, 23, 128, 128, 1)\n",
      "(1, 23, 128, 128, 1)\n",
      "(1, 23, 128, 128, 1)\n",
      "(1, 23, 128, 128, 1)\n",
      "(1, 23, 128, 128, 1)\n",
      "(1, 23, 128, 128, 1)\n",
      "(1, 23, 128, 128, 1)\n",
      "(1, 23, 128, 128, 1)\n",
      "(1, 23, 128, 128, 1)\n",
      "(1, 23, 128, 128, 1)\n",
      "(1, 23, 128, 128, 1)\n",
      "(1, 23, 128, 128, 1)\n",
      "(1, 23, 128, 128, 1)\n",
      "(1, 23, 128, 128, 1)\n",
      "(1, 23, 128, 128, 1)\n",
      "(1, 23, 128, 128, 1)\n",
      "(1, 23, 128, 128, 1)\n",
      "(1, 23, 128, 128, 1)\n",
      "(1, 23, 128, 128, 1)\n",
      "(1, 23, 128, 128, 1)\n",
      "(1, 23, 128, 128, 1)\n",
      "(1, 23, 128, 128, 1)\n",
      "(1, 23, 128, 128, 1)\n",
      "(1, 23, 128, 128, 1)\n",
      "(1, 23, 128, 128, 1)\n",
      "(1, 23, 128, 128, 1)\n",
      "(1, 23, 128, 128, 1)\n",
      "(1, 23, 128, 128, 1)\n",
      "(1, 23, 128, 128, 1)\n",
      "(1, 23, 128, 128, 1)\n",
      "(1, 23, 128, 128, 1)\n",
      "(1, 23, 128, 128, 1)\n",
      "(1, 23, 128, 128, 1)\n",
      "(1, 23, 128, 128, 1)\n",
      "(1, 23, 128, 128, 1)\n",
      "(1, 23, 128, 128, 1)\n",
      "(1, 23, 128, 128, 1)\n",
      "(1, 23, 128, 128, 1)\n",
      "(1, 23, 128, 128, 1)\n",
      "(1, 23, 128, 128, 1)\n",
      "(1, 23, 128, 128, 1)\n",
      "(1, 23, 128, 128, 1)\n",
      "(1, 23, 128, 128, 1)\n",
      "(1, 23, 128, 128, 1)\n",
      "(1, 23, 128, 128, 1)\n",
      "(1, 23, 128, 128, 1)\n",
      "(1, 23, 128, 128, 1)\n",
      "(1, 23, 128, 128, 1)\n",
      "(1, 23, 128, 128, 1)\n",
      "(1, 23, 128, 128, 1)\n",
      "(1, 23, 128, 128, 1)\n",
      "(1, 23, 128, 128, 1)\n",
      "(1, 23, 128, 128, 1)\n",
      "(1, 23, 128, 128, 1)\n",
      "(1, 23, 128, 128, 1)\n",
      "(1, 23, 128, 128, 1)\n",
      "(1, 23, 128, 128, 1)\n",
      "(1, 23, 128, 128, 1)\n",
      "(1, 23, 128, 128, 1)\n",
      "(1, 23, 128, 128, 1)\n",
      "(1, 23, 128, 128, 1)\n",
      "(1, 23, 128, 128, 1)\n",
      "(1, 23, 128, 128, 1)\n",
      "(1, 23, 128, 128, 1)\n",
      "(1, 23, 128, 128, 1)\n",
      "(1, 23, 128, 128, 1)\n",
      "(1, 23, 128, 128, 1)\n",
      "(1, 23, 128, 128, 1)\n",
      "(1, 23, 128, 128, 1)\n",
      "(1, 23, 128, 128, 1)\n",
      "(1, 23, 128, 128, 1)\n",
      "(1, 23, 128, 128, 1)\n",
      "(1, 23, 128, 128, 1)\n",
      "(1, 23, 128, 128, 1)\n",
      "(1, 23, 128, 128, 1)\n",
      "(1, 23, 128, 128, 1)\n",
      "(1, 23, 128, 128, 1)\n",
      "(1, 23, 128, 128, 1)\n",
      "(1, 23, 128, 128, 1)\n",
      "(1, 23, 128, 128, 1)\n",
      "(1, 23, 128, 128, 1)\n",
      "(1, 23, 128, 128, 1)\n",
      "(1, 23, 128, 128, 1)\n",
      "(1, 23, 128, 128, 1)\n",
      "(1, 23, 128, 128, 1)\n",
      "(1, 23, 128, 128, 1)\n",
      "(1, 23, 128, 128, 1)\n",
      "(1, 23, 128, 128, 1)\n",
      "(1, 23, 128, 128, 1)\n",
      "(1, 23, 128, 128, 1)\n",
      "(1, 23, 128, 128, 1)\n",
      "(1, 23, 128, 128, 1)\n",
      "(1, 23, 128, 128, 1)\n",
      "(1, 23, 128, 128, 1)\n",
      "(1, 23, 128, 128, 1)\n",
      "(1, 23, 128, 128, 1)\n",
      "(1, 23, 128, 128, 1)\n",
      "(1, 23, 128, 128, 1)\n",
      "(1, 23, 128, 128, 1)\n",
      "(1, 23, 128, 128, 1)\n",
      "(1, 23, 128, 128, 1)\n",
      "(1, 23, 128, 128, 1)\n",
      "(1, 23, 128, 128, 1)\n",
      "(1, 23, 128, 128, 1)\n",
      "(1, 23, 128, 128, 1)\n",
      "(1, 23, 128, 128, 1)\n",
      "(1, 23, 128, 128, 1)\n",
      "(1, 23, 128, 128, 1)\n",
      "(1, 23, 128, 128, 1)\n",
      "(1, 23, 128, 128, 1)\n",
      "(1, 23, 128, 128, 1)\n",
      "(1, 23, 128, 128, 1)\n",
      "(1, 23, 128, 128, 1)\n",
      "(1, 23, 128, 128, 1)\n",
      "(1, 23, 128, 128, 1)\n",
      "(1, 23, 128, 128, 1)\n",
      "(1, 23, 128, 128, 1)\n",
      "(1, 23, 128, 128, 1)\n",
      "(1, 23, 128, 128, 1)\n",
      "(1, 23, 128, 128, 1)\n",
      "(1, 23, 128, 128, 1)\n",
      "(1, 23, 128, 128, 1)\n",
      "(1, 23, 128, 128, 1)\n",
      "(1, 23, 128, 128, 1)\n",
      "(1, 23, 128, 128, 1)\n",
      "(1, 23, 128, 128, 1)\n",
      "(1, 23, 128, 128, 1)\n",
      "(1, 23, 128, 128, 1)\n",
      "(1, 23, 128, 128, 1)\n",
      "(1, 23, 128, 128, 1)\n",
      "(1, 23, 128, 128, 1)\n",
      "(1, 23, 128, 128, 1)\n",
      "(1, 23, 128, 128, 1)\n",
      "(1, 23, 128, 128, 1)\n",
      "(1, 23, 128, 128, 1)\n",
      "(1, 23, 128, 128, 1)\n",
      "(1, 23, 128, 128, 1)\n",
      "(1, 23, 128, 128, 1)\n",
      "(1, 23, 128, 128, 1)\n",
      "(1, 23, 128, 128, 1)\n",
      "(1, 23, 128, 128, 1)\n",
      "(1, 23, 128, 128, 1)\n",
      "(1, 23, 128, 128, 1)\n",
      "(1, 23, 128, 128, 1)\n",
      "(1, 23, 128, 128, 1)\n",
      "(1, 23, 128, 128, 1)\n",
      "(1, 23, 128, 128, 1)\n",
      "(1, 23, 128, 128, 1)\n",
      "(1, 23, 128, 128, 1)\n",
      "(1, 23, 128, 128, 1)\n",
      "(1, 23, 128, 128, 1)\n",
      "(1, 23, 128, 128, 1)\n",
      "(1, 23, 128, 128, 1)\n",
      "(1, 23, 128, 128, 1)\n",
      "(1, 23, 128, 128, 1)\n",
      "(1, 23, 128, 128, 1)\n",
      "(1, 23, 128, 128, 1)\n",
      "(1, 23, 128, 128, 1)\n",
      "(1, 23, 128, 128, 1)\n",
      "(1, 23, 128, 128, 1)\n",
      "(1, 23, 128, 128, 1)\n",
      "(1, 23, 128, 128, 1)\n",
      "(1, 23, 128, 128, 1)\n",
      "(1, 23, 128, 128, 1)\n",
      "(1, 23, 128, 128, 1)\n",
      "(1, 23, 128, 128, 1)\n",
      "(1, 23, 128, 128, 1)\n",
      "(1, 23, 128, 128, 1)\n",
      "(1, 23, 128, 128, 1)\n",
      "(1, 23, 128, 128, 1)\n",
      "(1, 23, 128, 128, 1)\n",
      "(1, 23, 128, 128, 1)\n",
      "(1, 23, 128, 128, 1)\n",
      "(1, 23, 128, 128, 1)\n",
      "(1, 23, 128, 128, 1)\n",
      "(1, 23, 128, 128, 1)\n",
      "(1, 23, 128, 128, 1)\n",
      "(1, 23, 128, 128, 1)\n",
      "(1, 23, 128, 128, 1)\n",
      "(1, 23, 128, 128, 1)\n",
      "(1, 23, 128, 128, 1)\n",
      "(1, 23, 128, 128, 1)\n",
      "(1, 23, 128, 128, 1)\n",
      "(1, 23, 128, 128, 1)\n",
      "(1, 23, 128, 128, 1)\n",
      "(1, 23, 128, 128, 1)\n",
      "(1, 23, 128, 128, 1)\n",
      "(1, 23, 128, 128, 1)\n",
      "(1, 23, 128, 128, 1)\n",
      "(1, 23, 128, 128, 1)\n",
      "(1, 23, 128, 128, 1)\n",
      "(1, 23, 128, 128, 1)\n",
      "(1, 23, 128, 128, 1)\n",
      "(1, 23, 128, 128, 1)\n",
      "(1, 23, 128, 128, 1)\n",
      "(1, 23, 128, 128, 1)\n",
      "(1, 23, 128, 128, 1)\n",
      "(1, 23, 128, 128, 1)\n",
      "(1, 23, 128, 128, 1)\n",
      "(1, 23, 128, 128, 1)\n",
      "(1, 23, 128, 128, 1)\n",
      "(1, 23, 128, 128, 1)\n",
      "(1, 23, 128, 128, 1)\n",
      "(1, 23, 128, 128, 1)\n",
      "(1, 23, 128, 128, 1)\n",
      "(1, 23, 128, 128, 1)\n",
      "(1, 23, 128, 128, 1)\n",
      "(1, 23, 128, 128, 1)\n",
      "(1, 23, 128, 128, 1)\n",
      "(1, 23, 128, 128, 1)\n",
      "(1, 23, 128, 128, 1)\n",
      "(1, 23, 128, 128, 1)\n",
      "(1, 23, 128, 128, 1)\n",
      "(1, 23, 128, 128, 1)\n",
      "(1, 23, 128, 128, 1)\n",
      "(1, 23, 128, 128, 1)\n",
      "(1, 23, 128, 128, 1)\n"
     ]
    },
    {
     "name": "stdout",
     "output_type": "stream",
     "text": [
      "(1, 23, 128, 128, 1)\n",
      "(1, 23, 128, 128, 1)\n",
      "(1, 23, 128, 128, 1)\n",
      "(1, 23, 128, 128, 1)\n",
      "(1, 23, 128, 128, 1)\n",
      "(1, 23, 128, 128, 1)\n",
      "(1, 23, 128, 128, 1)\n",
      "(1, 23, 128, 128, 1)\n",
      "(1, 23, 128, 128, 1)\n",
      "(1, 23, 128, 128, 1)\n",
      "(1, 23, 128, 128, 1)\n",
      "(1, 23, 128, 128, 1)\n",
      "(1, 23, 128, 128, 1)\n",
      "(1, 23, 128, 128, 1)\n",
      "(1, 23, 128, 128, 1)\n",
      "(1, 23, 128, 128, 1)\n",
      "(1, 23, 128, 128, 1)\n",
      "(1, 23, 128, 128, 1)\n",
      "(1, 23, 128, 128, 1)\n",
      "(1, 23, 128, 128, 1)\n",
      "(1, 23, 128, 128, 1)\n",
      "(1, 23, 128, 128, 1)\n",
      "(1, 23, 128, 128, 1)\n",
      "(1, 23, 128, 128, 1)\n",
      "(1, 23, 128, 128, 1)\n",
      "(1, 23, 128, 128, 1)\n",
      "(1, 23, 128, 128, 1)\n",
      "(1, 23, 128, 128, 1)\n",
      "(1, 23, 128, 128, 1)\n",
      "(1, 23, 128, 128, 1)\n",
      "(1, 23, 128, 128, 1)\n",
      "(1, 23, 128, 128, 1)\n",
      "(1, 23, 128, 128, 1)\n",
      "(1, 23, 128, 128, 1)\n",
      "(1, 23, 128, 128, 1)\n",
      "(1, 23, 128, 128, 1)\n",
      "(1, 23, 128, 128, 1)\n",
      "(1, 23, 128, 128, 1)\n",
      "(1, 23, 128, 128, 1)\n",
      "(1, 23, 128, 128, 1)\n",
      "(1, 23, 128, 128, 1)\n",
      "(1, 23, 128, 128, 1)\n",
      "(1, 23, 128, 128, 1)\n",
      "(1, 23, 128, 128, 1)\n",
      "(1, 23, 128, 128, 1)\n",
      "(1, 23, 128, 128, 1)\n",
      "(1, 23, 128, 128, 1)\n",
      "(1, 23, 128, 128, 1)\n",
      "(1, 23, 128, 128, 1)\n",
      "(1, 23, 128, 128, 1)\n",
      "(1, 23, 128, 128, 1)\n",
      "(1, 23, 128, 128, 1)\n",
      "(1, 23, 128, 128, 1)\n",
      "(1, 23, 128, 128, 1)\n",
      "(1, 23, 128, 128, 1)\n",
      "(1, 23, 128, 128, 1)\n",
      "(1, 23, 128, 128, 1)\n",
      "(1, 23, 128, 128, 1)\n",
      "(1, 23, 128, 128, 1)\n",
      "(1, 23, 128, 128, 1)\n",
      "(1, 23, 128, 128, 1)\n",
      "(1, 23, 128, 128, 1)\n",
      "(1, 23, 128, 128, 1)\n",
      "(1, 23, 128, 128, 1)\n",
      "(1, 23, 128, 128, 1)\n",
      "(1, 23, 128, 128, 1)\n",
      "(1, 23, 128, 128, 1)\n",
      "(1, 23, 128, 128, 1)\n",
      "(1, 23, 128, 128, 1)\n",
      "(1, 23, 128, 128, 1)\n",
      "(1, 23, 128, 128, 1)\n",
      "(1, 23, 128, 128, 1)\n",
      "(1, 23, 128, 128, 1)\n",
      "(1, 23, 128, 128, 1)\n",
      "(1, 23, 128, 128, 1)\n",
      "(1, 23, 128, 128, 1)\n",
      "(1, 23, 128, 128, 1)\n",
      "(1, 23, 128, 128, 1)\n",
      "(1, 23, 128, 128, 1)\n",
      "(1, 23, 128, 128, 1)\n",
      "(1, 23, 128, 128, 1)\n",
      "(1, 23, 128, 128, 1)\n",
      "(1, 23, 128, 128, 1)\n",
      "(1, 23, 128, 128, 1)\n",
      "(1, 23, 128, 128, 1)\n",
      "(1, 23, 128, 128, 1)\n",
      "(1, 23, 128, 128, 1)\n",
      "(1, 23, 128, 128, 1)\n",
      "(1, 23, 128, 128, 1)\n",
      "(1, 23, 128, 128, 1)\n",
      "(1, 23, 128, 128, 1)\n",
      "(1, 23, 128, 128, 1)\n",
      "(1, 23, 128, 128, 1)\n",
      "(1, 23, 128, 128, 1)\n",
      "(1, 23, 128, 128, 1)\n",
      "(1, 23, 128, 128, 1)\n",
      "(1, 23, 128, 128, 1)\n",
      "(1, 23, 128, 128, 1)\n",
      "(1, 23, 128, 128, 1)\n",
      "(1, 23, 128, 128, 1)\n",
      "(1, 23, 128, 128, 1)\n",
      "(1, 23, 128, 128, 1)\n",
      "(1, 23, 128, 128, 1)\n",
      "(1, 23, 128, 128, 1)\n",
      "(1, 23, 128, 128, 1)\n",
      "(1, 23, 128, 128, 1)\n",
      "(1, 23, 128, 128, 1)\n",
      "(1, 23, 128, 128, 1)\n",
      "(1, 23, 128, 128, 1)\n",
      "(1, 23, 128, 128, 1)\n",
      "Shape of training data: (500, 23, 128, 128, 1)\n",
      "Shape of training labels: (500, 4)\n"
     ]
    }
   ],
   "source": [
    "# Reading training videos and one-hot encoding the training labels\n",
    "X_train = reader.read_videos(train_files)\n",
    "y_train = to_categorical(train_targets, num_classes=4)\n",
    "print('Shape of training data:', X_train.shape)\n",
    "print('Shape of training labels:', y_train.shape)"
   ]
  },
  {
   "cell_type": "code",
   "execution_count": 21,
   "metadata": {},
   "outputs": [
    {
     "name": "stderr",
     "output_type": "stream",
     "text": [
      "\r",
      "  0%|                                                                                          | 0/121 [00:00<?, ?it/s]"
     ]
    },
    {
     "name": "stdout",
     "output_type": "stream",
     "text": [
      "(1, 23, 128, 128, 1)\n",
      "C:\\Users\\gural\\Desktop\\animals\\stand\\HorizontalFlipVID_20190327_185710Rotate40.mp4\n",
      "\n"
     ]
    },
    {
     "name": "stderr",
     "output_type": "stream",
     "text": [
      "\r",
      "  1%|▋                                                                                 | 1/121 [00:07<15:26,  7.72s/it]"
     ]
    },
    {
     "name": "stdout",
     "output_type": "stream",
     "text": [
      "(1, 23, 128, 128, 1)\n",
      "C:\\Users\\gural\\Desktop\\animals\\fly\\VID_20190327_190045translate.mp4\n",
      "\n"
     ]
    },
    {
     "name": "stderr",
     "output_type": "stream",
     "text": [
      "\r",
      "  2%|█▎                                                                                | 2/121 [00:14<14:32,  7.33s/it]"
     ]
    },
    {
     "name": "stdout",
     "output_type": "stream",
     "text": [
      "(1, 23, 128, 128, 1)\n",
      "C:\\Users\\gural\\Desktop\\animals\\stand\\VID_20190327_190028.mp4\n",
      "\n"
     ]
    },
    {
     "name": "stderr",
     "output_type": "stream",
     "text": [
      "\r",
      "  2%|██                                                                                | 3/121 [00:22<15:00,  7.63s/it]"
     ]
    },
    {
     "name": "stdout",
     "output_type": "stream",
     "text": [
      "(1, 23, 128, 128, 1)\n",
      "C:\\Users\\gural\\Desktop\\animals\\fly\\VID_20190515_184843Rotate40.mp4\n",
      "\n"
     ]
    },
    {
     "name": "stderr",
     "output_type": "stream",
     "text": [
      "\r",
      "  3%|██▋                                                                               | 4/121 [00:37<18:56,  9.71s/it]"
     ]
    },
    {
     "name": "stdout",
     "output_type": "stream",
     "text": [
      "(1, 23, 128, 128, 1)\n",
      "C:\\Users\\gural\\Desktop\\animals\\cut\\HorizontalFlipVID_20190327_190445.mp4\n",
      "\n"
     ]
    },
    {
     "name": "stderr",
     "output_type": "stream",
     "text": [
      "\r",
      "  4%|███▍                                                                              | 5/121 [00:44<17:16,  8.94s/it]"
     ]
    },
    {
     "name": "stdout",
     "output_type": "stream",
     "text": [
      "(1, 23, 128, 128, 1)\n",
      "C:\\Users\\gural\\Desktop\\animals\\fly\\HorizontalFlipVID_20190327_175451.mp4\n",
      "\n"
     ]
    },
    {
     "name": "stderr",
     "output_type": "stream",
     "text": [
      "\r",
      "  5%|████                                                                              | 6/121 [00:49<15:17,  7.98s/it]"
     ]
    },
    {
     "name": "stdout",
     "output_type": "stream",
     "text": [
      "(1, 23, 128, 128, 1)\n",
      "C:\\Users\\gural\\Desktop\\animals\\sleep\\VID_20190327_190359Rotate40.mp4\n",
      "\n"
     ]
    },
    {
     "name": "stderr",
     "output_type": "stream",
     "text": [
      "\r",
      "  6%|████▋                                                                             | 7/121 [00:55<13:50,  7.29s/it]"
     ]
    },
    {
     "name": "stdout",
     "output_type": "stream",
     "text": [
      "(1, 23, 128, 128, 1)\n",
      "C:\\Users\\gural\\Desktop\\animals\\sleep\\VID_20190327_175013Rotate.mp4\n",
      "\n"
     ]
    },
    {
     "name": "stderr",
     "output_type": "stream",
     "text": [
      "\r",
      "  7%|█████▍                                                                            | 8/121 [01:05<15:02,  7.98s/it]"
     ]
    },
    {
     "name": "stdout",
     "output_type": "stream",
     "text": [
      "(1, 23, 128, 128, 1)\n",
      "C:\\Users\\gural\\Desktop\\animals\\cut\\HorizontalFlipVID_20190327_175730Crop.mp4\n",
      "\n"
     ]
    },
    {
     "name": "stderr",
     "output_type": "stream",
     "text": [
      "\r",
      "  7%|██████                                                                            | 9/121 [01:09<12:52,  6.90s/it]"
     ]
    },
    {
     "name": "stdout",
     "output_type": "stream",
     "text": [
      "(1, 23, 128, 128, 1)\n",
      "C:\\Users\\gural\\Desktop\\animals\\sleep\\VID_20190327_174920Crop.mp4\n",
      "\n"
     ]
    },
    {
     "name": "stderr",
     "output_type": "stream",
     "text": [
      "\r",
      "  8%|██████▋                                                                          | 10/121 [01:14<11:25,  6.18s/it]"
     ]
    },
    {
     "name": "stdout",
     "output_type": "stream",
     "text": [
      "(1, 23, 128, 128, 1)\n",
      "C:\\Users\\gural\\Desktop\\animals\\fly\\VID_20190327_190219Rotate40.mp4\n",
      "\n"
     ]
    },
    {
     "name": "stderr",
     "output_type": "stream",
     "text": [
      "\r",
      "  9%|███████▎                                                                         | 11/121 [01:18<10:38,  5.81s/it]"
     ]
    },
    {
     "name": "stdout",
     "output_type": "stream",
     "text": [
      "(1, 23, 128, 128, 1)\n",
      "C:\\Users\\gural\\Desktop\\animals\\cut\\VID_20190327_190440Crop.mp4\n",
      "\n"
     ]
    },
    {
     "name": "stderr",
     "output_type": "stream",
     "text": [
      "\r",
      " 10%|████████                                                                         | 12/121 [01:22<09:04,  4.99s/it]"
     ]
    },
    {
     "name": "stdout",
     "output_type": "stream",
     "text": [
      "(1, 23, 128, 128, 1)\n",
      "C:\\Users\\gural\\Desktop\\animals\\cut\\HorizontalFlipVID_20190515_184707Rotate.mp4\n",
      "\n"
     ]
    },
    {
     "name": "stderr",
     "output_type": "stream",
     "text": [
      "\r",
      " 11%|████████▋                                                                        | 13/121 [01:30<10:42,  5.95s/it]"
     ]
    },
    {
     "name": "stdout",
     "output_type": "stream",
     "text": [
      "(1, 23, 128, 128, 1)\n",
      "C:\\Users\\gural\\Desktop\\animals\\sleep\\VID_20190515_185023Rotate40.mp4\n",
      "\n"
     ]
    },
    {
     "name": "stderr",
     "output_type": "stream",
     "text": [
      "\r",
      " 12%|█████████▎                                                                       | 14/121 [01:37<11:01,  6.19s/it]"
     ]
    },
    {
     "name": "stdout",
     "output_type": "stream",
     "text": [
      "(1, 23, 128, 128, 1)\n",
      "C:\\Users\\gural\\Desktop\\animals\\sleep\\VID_20190327_190351Rotate.mp4\n",
      "\n"
     ]
    },
    {
     "name": "stderr",
     "output_type": "stream",
     "text": [
      "\r",
      " 12%|██████████                                                                       | 15/121 [01:42<10:33,  5.98s/it]"
     ]
    },
    {
     "name": "stdout",
     "output_type": "stream",
     "text": [
      "(1, 23, 128, 128, 1)\n",
      "C:\\Users\\gural\\Desktop\\animals\\fly\\VID_20190327_190126Rotate40.mp4\n",
      "\n"
     ]
    },
    {
     "name": "stderr",
     "output_type": "stream",
     "text": [
      "\r",
      " 13%|██████████▋                                                                      | 16/121 [01:49<10:58,  6.27s/it]"
     ]
    },
    {
     "name": "stdout",
     "output_type": "stream",
     "text": [
      "(1, 23, 128, 128, 1)\n",
      "C:\\Users\\gural\\Desktop\\animals\\stand\\HorizontalFlipVID_20190515_185142translate.mp4\n",
      "\n"
     ]
    },
    {
     "name": "stderr",
     "output_type": "stream",
     "text": [
      "\r",
      " 14%|███████████▍                                                                     | 17/121 [01:57<11:51,  6.84s/it]"
     ]
    },
    {
     "name": "stdout",
     "output_type": "stream",
     "text": [
      "(1, 23, 128, 128, 1)\n",
      "C:\\Users\\gural\\Desktop\\animals\\cut\\VID_20190327_190440Rotate40.mp4\n",
      "\n"
     ]
    },
    {
     "name": "stderr",
     "output_type": "stream",
     "text": [
      "\r",
      " 15%|████████████                                                                     | 18/121 [02:04<11:36,  6.76s/it]"
     ]
    },
    {
     "name": "stdout",
     "output_type": "stream",
     "text": [
      "(1, 23, 128, 128, 1)\n",
      "C:\\Users\\gural\\Desktop\\animals\\sleep\\HorizontalFlipVID_20190515_185043translate.mp4\n",
      "\n"
     ]
    },
    {
     "name": "stderr",
     "output_type": "stream",
     "text": [
      "\r",
      " 16%|████████████▋                                                                    | 19/121 [02:10<11:18,  6.65s/it]"
     ]
    },
    {
     "name": "stdout",
     "output_type": "stream",
     "text": [
      "(1, 23, 128, 128, 1)\n",
      "C:\\Users\\gural\\Desktop\\animals\\stand\\HorizontalFlipVID_20190327_185700Rotate.mp4\n",
      "\n"
     ]
    },
    {
     "name": "stderr",
     "output_type": "stream",
     "text": [
      "\r",
      " 17%|█████████████▍                                                                   | 20/121 [02:18<11:38,  6.92s/it]"
     ]
    },
    {
     "name": "stdout",
     "output_type": "stream",
     "text": [
      "(1, 23, 128, 128, 1)\n",
      "C:\\Users\\gural\\Desktop\\animals\\fly\\HorizontalFlipVID_20190515_184921Crop.mp4\n",
      "\n"
     ]
    },
    {
     "name": "stderr",
     "output_type": "stream",
     "text": [
      "\r",
      " 17%|██████████████                                                                   | 21/121 [02:22<10:02,  6.03s/it]"
     ]
    },
    {
     "name": "stdout",
     "output_type": "stream",
     "text": [
      "(1, 23, 128, 128, 1)\n",
      "C:\\Users\\gural\\Desktop\\animals\\cut\\VID_20190327_175826Crop.mp4\n",
      "\n"
     ]
    },
    {
     "name": "stderr",
     "output_type": "stream",
     "text": [
      "\r",
      " 18%|██████████████▋                                                                  | 22/121 [02:25<08:43,  5.29s/it]"
     ]
    },
    {
     "name": "stdout",
     "output_type": "stream",
     "text": [
      "(1, 23, 128, 128, 1)\n",
      "C:\\Users\\gural\\Desktop\\animals\\cut\\VID_20190515_184715Rotate40.mp4\n",
      "\n"
     ]
    },
    {
     "name": "stderr",
     "output_type": "stream",
     "text": [
      "\r",
      " 19%|███████████████▍                                                                 | 23/121 [02:32<09:10,  5.61s/it]"
     ]
    },
    {
     "name": "stdout",
     "output_type": "stream",
     "text": [
      "(1, 23, 128, 128, 1)\n",
      "C:\\Users\\gural\\Desktop\\animals\\sleep\\HorizontalFlipVID_20190327_190319.mp4\n",
      "\n"
     ]
    },
    {
     "name": "stderr",
     "output_type": "stream",
     "text": [
      "\r",
      " 20%|████████████████                                                                 | 24/121 [02:40<10:32,  6.52s/it]"
     ]
    },
    {
     "name": "stdout",
     "output_type": "stream",
     "text": [
      "(1, 23, 128, 128, 1)\n",
      "C:\\Users\\gural\\Desktop\\animals\\stand\\HorizontalFlipVID_20190327_185700Rotate40.mp4\n",
      "\n"
     ]
    },
    {
     "name": "stderr",
     "output_type": "stream",
     "text": [
      "\r",
      " 21%|████████████████▋                                                                | 25/121 [02:48<10:57,  6.84s/it]"
     ]
    },
    {
     "name": "stdout",
     "output_type": "stream",
     "text": [
      "(1, 23, 128, 128, 1)\n",
      "C:\\Users\\gural\\Desktop\\animals\\sleep\\HorizontalFlipVID_20190515_185023Rotate.mp4\n",
      "\n"
     ]
    },
    {
     "name": "stderr",
     "output_type": "stream",
     "text": [
      "\r",
      " 21%|█████████████████▍                                                               | 26/121 [02:55<10:49,  6.84s/it]"
     ]
    },
    {
     "name": "stdout",
     "output_type": "stream",
     "text": [
      "(1, 23, 128, 128, 1)\n",
      "C:\\Users\\gural\\Desktop\\animals\\fly\\HorizontalFlipVID_20190327_190045Rotate.mp4\n",
      "\n"
     ]
    },
    {
     "name": "stderr",
     "output_type": "stream",
     "text": [
      "\r",
      " 22%|██████████████████                                                               | 27/121 [03:01<10:35,  6.76s/it]"
     ]
    },
    {
     "name": "stdout",
     "output_type": "stream",
     "text": [
      "(1, 23, 128, 128, 1)\n",
      "C:\\Users\\gural\\Desktop\\animals\\stand\\HorizontalFlipVID_20190515_185152Crop.mp4\n",
      "\n"
     ]
    },
    {
     "name": "stderr",
     "output_type": "stream",
     "text": [
      "\r",
      " 23%|██████████████████▋                                                              | 28/121 [03:07<09:56,  6.42s/it]"
     ]
    },
    {
     "name": "stdout",
     "output_type": "stream",
     "text": [
      "(1, 23, 128, 128, 1)\n",
      "C:\\Users\\gural\\Desktop\\animals\\cut\\VID_20190327_190550Crop.mp4\n",
      "\n"
     ]
    },
    {
     "name": "stderr",
     "output_type": "stream",
     "text": [
      "\r",
      " 24%|███████████████████▍                                                             | 29/121 [03:10<08:29,  5.53s/it]"
     ]
    },
    {
     "name": "stdout",
     "output_type": "stream",
     "text": [
      "(1, 23, 128, 128, 1)\n",
      "C:\\Users\\gural\\Desktop\\animals\\cut\\HorizontalFlipVID_20190327_190432translate.mp4\n",
      "\n"
     ]
    },
    {
     "name": "stderr",
     "output_type": "stream",
     "text": [
      "\r",
      " 25%|████████████████████                                                             | 30/121 [03:17<08:49,  5.82s/it]"
     ]
    },
    {
     "name": "stdout",
     "output_type": "stream",
     "text": [
      "(1, 23, 128, 128, 1)\n",
      "C:\\Users\\gural\\Desktop\\animals\\stand\\HorizontalFlipVID_20190327_185946translate.mp4\n",
      "\n"
     ]
    },
    {
     "name": "stderr",
     "output_type": "stream",
     "text": [
      "\r",
      " 26%|████████████████████▊                                                            | 31/121 [03:26<10:14,  6.83s/it]"
     ]
    },
    {
     "name": "stdout",
     "output_type": "stream",
     "text": [
      "(1, 23, 128, 128, 1)\n",
      "C:\\Users\\gural\\Desktop\\animals\\sleep\\VID_20190327_190314Rotate40.mp4\n",
      "\n"
     ]
    },
    {
     "name": "stderr",
     "output_type": "stream",
     "text": [
      "\r",
      " 26%|█████████████████████▍                                                           | 32/121 [03:32<09:43,  6.55s/it]"
     ]
    },
    {
     "name": "stdout",
     "output_type": "stream",
     "text": [
      "(1, 23, 128, 128, 1)\n",
      "C:\\Users\\gural\\Desktop\\animals\\cut\\HorizontalFlipVID_20190327_190522translate.mp4\n",
      "\n"
     ]
    },
    {
     "name": "stderr",
     "output_type": "stream",
     "text": [
      "\r",
      " 27%|██████████████████████                                                           | 33/121 [03:38<09:35,  6.53s/it]"
     ]
    },
    {
     "name": "stdout",
     "output_type": "stream",
     "text": [
      "(1, 23, 128, 128, 1)\n",
      "C:\\Users\\gural\\Desktop\\animals\\stand\\VID_20190327_174634Rotate.mp4\n",
      "\n"
     ]
    },
    {
     "name": "stderr",
     "output_type": "stream",
     "text": [
      "\r",
      " 28%|██████████████████████▊                                                          | 34/121 [03:48<10:59,  7.58s/it]"
     ]
    },
    {
     "name": "stdout",
     "output_type": "stream",
     "text": [
      "(1, 23, 128, 128, 1)\n",
      "C:\\Users\\gural\\Desktop\\animals\\cut\\HorizontalFlipVID_20190515_184703Rotate40.mp4\n",
      "\n"
     ]
    },
    {
     "name": "stderr",
     "output_type": "stream",
     "text": [
      "\r",
      " 29%|███████████████████████▍                                                         | 35/121 [03:54<09:50,  6.86s/it]"
     ]
    },
    {
     "name": "stdout",
     "output_type": "stream",
     "text": [
      "(1, 23, 128, 128, 1)\n",
      "C:\\Users\\gural\\Desktop\\animals\\stand\\HorizontalFlipVID_20190327_174806Rotate.mp4\n",
      "\n"
     ]
    },
    {
     "name": "stderr",
     "output_type": "stream",
     "text": [
      "\r",
      " 30%|████████████████████████                                                         | 36/121 [04:00<09:45,  6.89s/it]"
     ]
    },
    {
     "name": "stdout",
     "output_type": "stream",
     "text": [
      "(1, 23, 128, 128, 1)\n",
      "C:\\Users\\gural\\Desktop\\animals\\cut\\VID_20190327_190445Rotate.mp4\n",
      "\n"
     ]
    },
    {
     "name": "stderr",
     "output_type": "stream",
     "text": [
      "\r",
      " 31%|████████████████████████▊                                                        | 37/121 [04:08<09:47,  7.00s/it]"
     ]
    },
    {
     "name": "stdout",
     "output_type": "stream",
     "text": [
      "(1, 23, 128, 128, 1)\n",
      "C:\\Users\\gural\\Desktop\\animals\\cut\\VID_20190515_184703Rotate40.mp4\n",
      "\n"
     ]
    },
    {
     "name": "stderr",
     "output_type": "stream",
     "text": [
      "\r",
      " 31%|█████████████████████████▍                                                       | 38/121 [04:13<08:57,  6.47s/it]"
     ]
    },
    {
     "name": "stdout",
     "output_type": "stream",
     "text": [
      "(1, 23, 128, 128, 1)\n",
      "C:\\Users\\gural\\Desktop\\animals\\stand\\HorizontalFlipVID_20190515_185137Crop.mp4\n",
      "\n"
     ]
    },
    {
     "name": "stderr",
     "output_type": "stream",
     "text": [
      "\r",
      " 32%|██████████████████████████                                                       | 39/121 [04:18<08:16,  6.06s/it]"
     ]
    },
    {
     "name": "stdout",
     "output_type": "stream",
     "text": [
      "(1, 23, 128, 128, 1)\n",
      "C:\\Users\\gural\\Desktop\\animals\\fly\\HorizontalFlipVID_20190327_190126Rotate.mp4\n",
      "\n"
     ]
    },
    {
     "name": "stderr",
     "output_type": "stream",
     "text": [
      "\r",
      " 33%|██████████████████████████▊                                                      | 40/121 [04:25<08:33,  6.34s/it]"
     ]
    },
    {
     "name": "stdout",
     "output_type": "stream",
     "text": [
      "(1, 23, 128, 128, 1)\n",
      "C:\\Users\\gural\\Desktop\\animals\\sleep\\VID_20190515_185043translate.mp4\n",
      "\n"
     ]
    },
    {
     "name": "stderr",
     "output_type": "stream",
     "text": [
      "\r",
      " 34%|███████████████████████████▍                                                     | 41/121 [04:31<08:16,  6.21s/it]"
     ]
    },
    {
     "name": "stdout",
     "output_type": "stream",
     "text": [
      "(1, 23, 128, 128, 1)\n",
      "C:\\Users\\gural\\Desktop\\animals\\fly\\HorizontalFlipVID_20190327_190112Rotate40.mp4\n",
      "\n"
     ]
    },
    {
     "name": "stderr",
     "output_type": "stream",
     "text": [
      "\r",
      " 35%|████████████████████████████                                                     | 42/121 [04:38<08:34,  6.51s/it]"
     ]
    },
    {
     "name": "stdout",
     "output_type": "stream",
     "text": [
      "(1, 23, 128, 128, 1)\n",
      "C:\\Users\\gural\\Desktop\\animals\\stand\\VID_20190327_185927translate.mp4\n",
      "\n"
     ]
    },
    {
     "name": "stderr",
     "output_type": "stream",
     "text": [
      "\r",
      " 36%|████████████████████████████▊                                                    | 43/121 [04:46<08:47,  6.76s/it]"
     ]
    },
    {
     "name": "stdout",
     "output_type": "stream",
     "text": [
      "(1, 23, 128, 128, 1)\n",
      "C:\\Users\\gural\\Desktop\\animals\\sleep\\HorizontalFlipVID_20190327_190351Rotate.mp4\n",
      "\n"
     ]
    },
    {
     "name": "stderr",
     "output_type": "stream",
     "text": [
      "\r",
      " 36%|█████████████████████████████▍                                                   | 44/121 [04:51<08:18,  6.47s/it]"
     ]
    },
    {
     "name": "stdout",
     "output_type": "stream",
     "text": [
      "(1, 23, 128, 128, 1)\n",
      "C:\\Users\\gural\\Desktop\\animals\\stand\\VID_20190327_174526Crop.mp4\n",
      "\n"
     ]
    },
    {
     "name": "stderr",
     "output_type": "stream",
     "text": [
      "\r",
      " 37%|██████████████████████████████                                                   | 45/121 [04:55<07:12,  5.69s/it]"
     ]
    },
    {
     "name": "stdout",
     "output_type": "stream",
     "text": [
      "(1, 23, 128, 128, 1)\n",
      "C:\\Users\\gural\\Desktop\\animals\\fly\\HorizontalFlipVID_20190327_190205Rotate40.mp4\n",
      "\n"
     ]
    },
    {
     "name": "stderr",
     "output_type": "stream",
     "text": [
      "\r",
      " 38%|██████████████████████████████▊                                                  | 46/121 [05:02<07:30,  6.01s/it]"
     ]
    },
    {
     "name": "stdout",
     "output_type": "stream",
     "text": [
      "(1, 23, 128, 128, 1)\n",
      "C:\\Users\\gural\\Desktop\\animals\\fly\\VID_20190327_190119Rotate.mp4\n",
      "\n"
     ]
    },
    {
     "name": "stderr",
     "output_type": "stream",
     "text": [
      "\r",
      " 39%|███████████████████████████████▍                                                 | 47/121 [05:08<07:15,  5.89s/it]"
     ]
    },
    {
     "name": "stdout",
     "output_type": "stream",
     "text": [
      "(1, 23, 128, 128, 1)\n",
      "C:\\Users\\gural\\Desktop\\animals\\fly\\HorizontalFlipVID_20190327_175537.mp4\n",
      "\n"
     ]
    },
    {
     "name": "stderr",
     "output_type": "stream",
     "text": [
      "\r",
      " 40%|████████████████████████████████▏                                                | 48/121 [05:17<08:35,  7.06s/it]"
     ]
    },
    {
     "name": "stdout",
     "output_type": "stream",
     "text": [
      "(1, 23, 128, 128, 1)\n",
      "C:\\Users\\gural\\Desktop\\animals\\sleep\\HorizontalFlipVID_20190515_185000.mp4\n",
      "\n"
     ]
    },
    {
     "name": "stderr",
     "output_type": "stream",
     "text": [
      "\r",
      " 40%|████████████████████████████████▊                                                | 49/121 [05:23<07:50,  6.53s/it]"
     ]
    },
    {
     "name": "stdout",
     "output_type": "stream",
     "text": [
      "(1, 23, 128, 128, 1)\n",
      "C:\\Users\\gural\\Desktop\\animals\\sleep\\VID_20190327_175013Crop.mp4\n",
      "\n"
     ]
    },
    {
     "name": "stderr",
     "output_type": "stream",
     "text": [
      "\r",
      " 41%|█████████████████████████████████▍                                               | 50/121 [05:28<07:20,  6.20s/it]"
     ]
    },
    {
     "name": "stdout",
     "output_type": "stream",
     "text": [
      "(1, 23, 128, 128, 1)\n",
      "C:\\Users\\gural\\Desktop\\animals\\cut\\VID_20190327_190432.mp4\n",
      "\n"
     ]
    },
    {
     "name": "stderr",
     "output_type": "stream",
     "text": [
      "\r",
      " 42%|██████████████████████████████████▏                                              | 51/121 [05:34<07:11,  6.17s/it]"
     ]
    },
    {
     "name": "stdout",
     "output_type": "stream",
     "text": [
      "(1, 23, 128, 128, 1)\n",
      "C:\\Users\\gural\\Desktop\\animals\\sleep\\VID_20190515_185106.mp4\n",
      "\n"
     ]
    },
    {
     "name": "stderr",
     "output_type": "stream",
     "text": [
      "\r",
      " 43%|██████████████████████████████████▊                                              | 52/121 [05:45<08:36,  7.49s/it]"
     ]
    },
    {
     "name": "stdout",
     "output_type": "stream",
     "text": [
      "(1, 23, 128, 128, 1)\n",
      "C:\\Users\\gural\\Desktop\\animals\\cut\\VID_20190327_190432translate.mp4\n",
      "\n"
     ]
    },
    {
     "name": "stderr",
     "output_type": "stream",
     "text": [
      "\r",
      " 44%|███████████████████████████████████▍                                             | 53/121 [05:51<07:55,  6.99s/it]"
     ]
    },
    {
     "name": "stdout",
     "output_type": "stream",
     "text": [
      "(1, 23, 128, 128, 1)\n",
      "C:\\Users\\gural\\Desktop\\animals\\stand\\HorizontalFlipVID_20190515_185142Rotate.mp4\n",
      "\n"
     ]
    },
    {
     "name": "stderr",
     "output_type": "stream",
     "text": [
      "\r",
      " 45%|████████████████████████████████████▏                                            | 54/121 [05:59<08:11,  7.34s/it]"
     ]
    },
    {
     "name": "stdout",
     "output_type": "stream",
     "text": [
      "(1, 23, 128, 128, 1)\n",
      "C:\\Users\\gural\\Desktop\\animals\\stand\\VID_20190327_185934.mp4\n",
      "\n"
     ]
    },
    {
     "name": "stderr",
     "output_type": "stream",
     "text": [
      "\r",
      " 45%|████████████████████████████████████▊                                            | 55/121 [06:06<07:58,  7.25s/it]"
     ]
    },
    {
     "name": "stdout",
     "output_type": "stream",
     "text": [
      "(1, 23, 128, 128, 1)\n",
      "C:\\Users\\gural\\Desktop\\animals\\fly\\HorizontalFlipVID_20190327_175624translate.mp4\n",
      "\n"
     ]
    },
    {
     "name": "stderr",
     "output_type": "stream",
     "text": [
      "\r",
      " 46%|█████████████████████████████████████▍                                           | 56/121 [06:15<08:37,  7.96s/it]"
     ]
    },
    {
     "name": "stdout",
     "output_type": "stream",
     "text": [
      "(1, 23, 128, 128, 1)\n",
      "C:\\Users\\gural\\Desktop\\animals\\cut\\HorizontalFlipVID_20190515_184711translate.mp4\n",
      "\n"
     ]
    },
    {
     "name": "stderr",
     "output_type": "stream",
     "text": [
      "\r",
      " 47%|██████████████████████████████████████▏                                          | 57/121 [06:23<08:21,  7.84s/it]"
     ]
    },
    {
     "name": "stdout",
     "output_type": "stream",
     "text": [
      "(1, 23, 128, 128, 1)\n",
      "C:\\Users\\gural\\Desktop\\animals\\cut\\HorizontalFlipVID_20190327_190440Rotate40.mp4\n",
      "\n"
     ]
    },
    {
     "name": "stderr",
     "output_type": "stream",
     "text": [
      "\r",
      " 48%|██████████████████████████████████████▊                                          | 58/121 [06:30<07:55,  7.55s/it]"
     ]
    },
    {
     "name": "stdout",
     "output_type": "stream",
     "text": [
      "(1, 23, 128, 128, 1)\n",
      "C:\\Users\\gural\\Desktop\\animals\\cut\\HorizontalFlipVID_20190515_184703.mp4\n",
      "\n"
     ]
    },
    {
     "name": "stderr",
     "output_type": "stream",
     "text": [
      "\r",
      " 49%|███████████████████████████████████████▍                                         | 59/121 [06:35<07:08,  6.92s/it]"
     ]
    },
    {
     "name": "stdout",
     "output_type": "stream",
     "text": [
      "(1, 23, 128, 128, 1)\n",
      "C:\\Users\\gural\\Desktop\\animals\\sleep\\VID_20190327_190335Crop.mp4\n",
      "\n"
     ]
    },
    {
     "name": "stderr",
     "output_type": "stream",
     "text": [
      "\r",
      " 50%|████████████████████████████████████████▏                                        | 60/121 [06:39<06:05,  5.99s/it]"
     ]
    },
    {
     "name": "stdout",
     "output_type": "stream",
     "text": [
      "(1, 23, 128, 128, 1)\n",
      "C:\\Users\\gural\\Desktop\\animals\\fly\\HorizontalFlipVID_20190327_190045Rotate40.mp4\n",
      "\n"
     ]
    },
    {
     "name": "stderr",
     "output_type": "stream",
     "text": [
      "\r",
      " 50%|████████████████████████████████████████▊                                        | 61/121 [06:46<06:10,  6.17s/it]"
     ]
    },
    {
     "name": "stdout",
     "output_type": "stream",
     "text": [
      "(1, 23, 128, 128, 1)\n",
      "C:\\Users\\gural\\Desktop\\animals\\fly\\VID_20190327_190205translate.mp4\n",
      "\n"
     ]
    },
    {
     "name": "stderr",
     "output_type": "stream",
     "text": [
      "\r",
      " 51%|█████████████████████████████████████████▌                                       | 62/121 [06:52<06:14,  6.35s/it]"
     ]
    },
    {
     "name": "stdout",
     "output_type": "stream",
     "text": [
      "(1, 23, 128, 128, 1)\n",
      "C:\\Users\\gural\\Desktop\\animals\\fly\\VID_20190327_190050Rotate.mp4\n",
      "\n"
     ]
    },
    {
     "name": "stderr",
     "output_type": "stream",
     "text": [
      "\r",
      " 52%|██████████████████████████████████████████▏                                      | 63/121 [06:59<06:07,  6.33s/it]"
     ]
    },
    {
     "name": "stdout",
     "output_type": "stream",
     "text": [
      "(1, 23, 128, 128, 1)\n",
      "C:\\Users\\gural\\Desktop\\animals\\fly\\VID_20190327_190205Rotate.mp4\n",
      "\n"
     ]
    },
    {
     "name": "stderr",
     "output_type": "stream",
     "text": [
      "\r",
      " 53%|██████████████████████████████████████████▊                                      | 64/121 [07:06<06:10,  6.50s/it]"
     ]
    },
    {
     "name": "stdout",
     "output_type": "stream",
     "text": [
      "(1, 23, 128, 128, 1)\n",
      "C:\\Users\\gural\\Desktop\\animals\\cut\\VID_20190515_184715.mp4\n",
      "\n"
     ]
    },
    {
     "name": "stderr",
     "output_type": "stream",
     "text": [
      "\r",
      " 54%|███████████████████████████████████████████▌                                     | 65/121 [07:12<06:10,  6.61s/it]"
     ]
    },
    {
     "name": "stdout",
     "output_type": "stream",
     "text": [
      "(1, 23, 128, 128, 1)\n",
      "C:\\Users\\gural\\Desktop\\animals\\cut\\VID_20190515_184703.mp4\n",
      "\n"
     ]
    },
    {
     "name": "stderr",
     "output_type": "stream",
     "text": [
      "\r",
      " 55%|████████████████████████████████████████████▏                                    | 66/121 [07:18<05:46,  6.31s/it]"
     ]
    },
    {
     "name": "stdout",
     "output_type": "stream",
     "text": [
      "(1, 23, 128, 128, 1)\n",
      "C:\\Users\\gural\\Desktop\\animals\\stand\\HorizontalFlipVID_20190327_190002.mp4\n",
      "\n"
     ]
    },
    {
     "name": "stderr",
     "output_type": "stream",
     "text": [
      "\r",
      " 55%|████████████████████████████████████████████▊                                    | 67/121 [07:27<06:29,  7.22s/it]"
     ]
    },
    {
     "name": "stdout",
     "output_type": "stream",
     "text": [
      "(1, 23, 128, 128, 1)\n",
      "C:\\Users\\gural\\Desktop\\animals\\sleep\\HorizontalFlipVID_20190327_190351Rotate40.mp4\n",
      "\n"
     ]
    },
    {
     "name": "stderr",
     "output_type": "stream",
     "text": [
      "\r",
      " 56%|█████████████████████████████████████████████▌                                   | 68/121 [07:33<05:56,  6.72s/it]"
     ]
    },
    {
     "name": "stdout",
     "output_type": "stream",
     "text": [
      "(1, 23, 128, 128, 1)\n",
      "C:\\Users\\gural\\Desktop\\animals\\stand\\VID_20190327_174711Crop.mp4\n",
      "\n"
     ]
    },
    {
     "name": "stderr",
     "output_type": "stream",
     "text": [
      "\r",
      " 57%|██████████████████████████████████████████████▏                                  | 69/121 [07:38<05:22,  6.20s/it]"
     ]
    },
    {
     "name": "stdout",
     "output_type": "stream",
     "text": [
      "(1, 23, 128, 128, 1)\n",
      "C:\\Users\\gural\\Desktop\\animals\\sleep\\VID_20190327_190319Crop.mp4\n",
      "\n"
     ]
    },
    {
     "name": "stderr",
     "output_type": "stream",
     "text": [
      "\r",
      " 58%|██████████████████████████████████████████████▊                                  | 70/121 [07:43<04:56,  5.81s/it]"
     ]
    },
    {
     "name": "stdout",
     "output_type": "stream",
     "text": [
      "(1, 23, 128, 128, 1)\n",
      "C:\\Users\\gural\\Desktop\\animals\\sleep\\HorizontalFlipVID_20190515_185106.mp4\n",
      "\n"
     ]
    },
    {
     "name": "stderr",
     "output_type": "stream",
     "text": [
      "\r",
      " 59%|███████████████████████████████████████████████▌                                 | 71/121 [07:52<05:44,  6.89s/it]"
     ]
    },
    {
     "name": "stdout",
     "output_type": "stream",
     "text": [
      "(1, 23, 128, 128, 1)\n",
      "C:\\Users\\gural\\Desktop\\animals\\stand\\VID_20190515_185146Rotate40.mp4\n",
      "\n"
     ]
    },
    {
     "name": "stderr",
     "output_type": "stream",
     "text": [
      "\r",
      " 60%|████████████████████████████████████████████████▏                                | 72/121 [08:01<05:57,  7.29s/it]"
     ]
    },
    {
     "name": "stdout",
     "output_type": "stream",
     "text": [
      "(1, 23, 128, 128, 1)\n",
      "C:\\Users\\gural\\Desktop\\animals\\stand\\VID_20190327_185946Crop.mp4\n",
      "\n"
     ]
    },
    {
     "name": "stderr",
     "output_type": "stream",
     "text": [
      "\r",
      " 60%|████████████████████████████████████████████████▊                                | 73/121 [08:06<05:19,  6.65s/it]"
     ]
    },
    {
     "name": "stdout",
     "output_type": "stream",
     "text": [
      "(1, 23, 128, 128, 1)\n",
      "C:\\Users\\gural\\Desktop\\animals\\sleep\\VID_20190515_185000translate.mp4\n",
      "\n"
     ]
    },
    {
     "name": "stderr",
     "output_type": "stream",
     "text": [
      "\r",
      " 61%|█████████████████████████████████████████████████▌                               | 74/121 [08:11<04:53,  6.24s/it]"
     ]
    },
    {
     "name": "stdout",
     "output_type": "stream",
     "text": [
      "(1, 23, 128, 128, 1)\n",
      "C:\\Users\\gural\\Desktop\\animals\\sleep\\HorizontalFlipVID_20190515_185101Rotate.mp4\n",
      "\n"
     ]
    },
    {
     "name": "stderr",
     "output_type": "stream",
     "text": [
      "\r",
      " 62%|██████████████████████████████████████████████████▏                              | 75/121 [08:18<05:02,  6.57s/it]"
     ]
    },
    {
     "name": "stdout",
     "output_type": "stream",
     "text": [
      "(1, 23, 128, 128, 1)\n",
      "C:\\Users\\gural\\Desktop\\animals\\fly\\HorizontalFlipVID_20190327_175537Rotate40.mp4\n",
      "\n"
     ]
    },
    {
     "name": "stderr",
     "output_type": "stream",
     "text": [
      "\r",
      " 63%|██████████████████████████████████████████████████▉                              | 76/121 [08:27<05:21,  7.14s/it]"
     ]
    },
    {
     "name": "stdout",
     "output_type": "stream",
     "text": [
      "(1, 23, 128, 128, 1)\n",
      "C:\\Users\\gural\\Desktop\\animals\\stand\\HorizontalFlipVID_20190327_174526Rotate.mp4\n",
      "\n"
     ]
    },
    {
     "name": "stderr",
     "output_type": "stream",
     "text": [
      "\r",
      " 64%|███████████████████████████████████████████████████▌                             | 77/121 [08:34<05:09,  7.04s/it]"
     ]
    },
    {
     "name": "stdout",
     "output_type": "stream",
     "text": [
      "(1, 23, 128, 128, 1)\n",
      "C:\\Users\\gural\\Desktop\\animals\\fly\\VID_20190515_184838translate.mp4\n",
      "\n"
     ]
    },
    {
     "name": "stderr",
     "output_type": "stream",
     "text": [
      "\r",
      " 64%|████████████████████████████████████████████████████▏                            | 78/121 [08:40<04:52,  6.80s/it]"
     ]
    },
    {
     "name": "stdout",
     "output_type": "stream",
     "text": [
      "(1, 23, 128, 128, 1)\n",
      "C:\\Users\\gural\\Desktop\\animals\\cut\\VID_20190327_190415Crop.mp4\n",
      "\n"
     ]
    },
    {
     "name": "stderr",
     "output_type": "stream",
     "text": [
      "\r",
      " 65%|████████████████████████████████████████████████████▉                            | 79/121 [08:45<04:19,  6.18s/it]"
     ]
    },
    {
     "name": "stdout",
     "output_type": "stream",
     "text": [
      "(1, 23, 128, 128, 1)\n",
      "C:\\Users\\gural\\Desktop\\animals\\sleep\\HorizontalFlipVID_20190327_174920translate.mp4\n",
      "\n"
     ]
    },
    {
     "name": "stderr",
     "output_type": "stream",
     "text": [
      "\r",
      " 66%|█████████████████████████████████████████████████████▌                           | 80/121 [08:52<04:33,  6.68s/it]"
     ]
    },
    {
     "name": "stdout",
     "output_type": "stream",
     "text": [
      "(1, 23, 128, 128, 1)\n",
      "C:\\Users\\gural\\Desktop\\animals\\cut\\HorizontalFlipVID_20190327_190550Rotate.mp4\n",
      "\n"
     ]
    },
    {
     "name": "stderr",
     "output_type": "stream",
     "text": [
      "\r",
      " 67%|██████████████████████████████████████████████████████▏                          | 81/121 [08:58<04:19,  6.50s/it]"
     ]
    },
    {
     "name": "stdout",
     "output_type": "stream",
     "text": [
      "(1, 23, 128, 128, 1)\n",
      "C:\\Users\\gural\\Desktop\\animals\\cut\\VID_20190327_190415translate.mp4\n",
      "\n"
     ]
    },
    {
     "name": "stderr",
     "output_type": "stream",
     "text": [
      "\r",
      " 68%|██████████████████████████████████████████████████████▉                          | 82/121 [09:06<04:24,  6.78s/it]"
     ]
    },
    {
     "name": "stdout",
     "output_type": "stream",
     "text": [
      "(1, 23, 128, 128, 1)\n",
      "C:\\Users\\gural\\Desktop\\animals\\sleep\\HorizontalFlipVID_20190327_190259translate.mp4\n",
      "\n"
     ]
    },
    {
     "name": "stderr",
     "output_type": "stream",
     "text": [
      "\r",
      " 69%|███████████████████████████████████████████████████████▌                         | 83/121 [09:12<04:05,  6.47s/it]"
     ]
    },
    {
     "name": "stdout",
     "output_type": "stream",
     "text": [
      "(1, 23, 128, 128, 1)\n",
      "C:\\Users\\gural\\Desktop\\animals\\stand\\HorizontalFlipVID_20190515_185211Rotate40.mp4\n",
      "\n"
     ]
    },
    {
     "name": "stderr",
     "output_type": "stream",
     "text": [
      "\r",
      " 69%|████████████████████████████████████████████████████████▏                        | 84/121 [09:17<03:48,  6.17s/it]"
     ]
    },
    {
     "name": "stdout",
     "output_type": "stream",
     "text": [
      "(1, 23, 128, 128, 1)\n",
      "C:\\Users\\gural\\Desktop\\animals\\stand\\VID_20190515_185211.mp4\n",
      "\n"
     ]
    },
    {
     "name": "stderr",
     "output_type": "stream",
     "text": [
      "\r",
      " 70%|████████████████████████████████████████████████████████▉                        | 85/121 [09:23<03:37,  6.03s/it]"
     ]
    },
    {
     "name": "stdout",
     "output_type": "stream",
     "text": [
      "(1, 23, 128, 128, 1)\n",
      "C:\\Users\\gural\\Desktop\\animals\\cut\\VID_20190515_184707translate.mp4\n",
      "\n"
     ]
    },
    {
     "name": "stderr",
     "output_type": "stream",
     "text": [
      "\r",
      " 71%|█████████████████████████████████████████████████████████▌                       | 86/121 [09:31<03:57,  6.77s/it]"
     ]
    },
    {
     "name": "stdout",
     "output_type": "stream",
     "text": [
      "(1, 23, 128, 128, 1)\n",
      "C:\\Users\\gural\\Desktop\\animals\\stand\\HorizontalFlipVID_20190327_174711Crop.mp4\n",
      "\n"
     ]
    },
    {
     "name": "stderr",
     "output_type": "stream",
     "text": [
      "\r",
      " 72%|██████████████████████████████████████████████████████████▏                      | 87/121 [09:36<03:27,  6.11s/it]"
     ]
    },
    {
     "name": "stdout",
     "output_type": "stream",
     "text": [
      "(1, 23, 128, 128, 1)\n",
      "C:\\Users\\gural\\Desktop\\animals\\sleep\\VID_20190327_190319Rotate.mp4\n",
      "\n"
     ]
    },
    {
     "name": "stderr",
     "output_type": "stream",
     "text": [
      "\r",
      " 73%|██████████████████████████████████████████████████████████▉                      | 88/121 [09:44<03:45,  6.82s/it]"
     ]
    },
    {
     "name": "stdout",
     "output_type": "stream",
     "text": [
      "(1, 23, 128, 128, 1)\n",
      "C:\\Users\\gural\\Desktop\\animals\\sleep\\HorizontalFlipVID_20190327_190339translate.mp4\n",
      "\n"
     ]
    },
    {
     "name": "stderr",
     "output_type": "stream",
     "text": [
      "\r",
      " 74%|███████████████████████████████████████████████████████████▌                     | 89/121 [09:50<03:29,  6.55s/it]"
     ]
    },
    {
     "name": "stdout",
     "output_type": "stream",
     "text": [
      "(1, 23, 128, 128, 1)\n",
      "C:\\Users\\gural\\Desktop\\animals\\sleep\\HorizontalFlipVID_20190327_190319Rotate.mp4\n",
      "\n"
     ]
    },
    {
     "name": "stderr",
     "output_type": "stream",
     "text": [
      "\r",
      " 74%|████████████████████████████████████████████████████████████▏                    | 90/121 [09:59<03:42,  7.18s/it]"
     ]
    },
    {
     "name": "stdout",
     "output_type": "stream",
     "text": [
      "(1, 23, 128, 128, 1)\n",
      "C:\\Users\\gural\\Desktop\\animals\\sleep\\VID_20190515_185043Rotate40.mp4\n",
      "\n"
     ]
    },
    {
     "name": "stderr",
     "output_type": "stream",
     "text": [
      "\r",
      " 75%|████████████████████████████████████████████████████████████▉                    | 91/121 [10:05<03:23,  6.79s/it]"
     ]
    },
    {
     "name": "stdout",
     "output_type": "stream",
     "text": [
      "(1, 23, 128, 128, 1)\n",
      "C:\\Users\\gural\\Desktop\\animals\\cut\\VID_20190327_175826.mp4\n",
      "\n"
     ]
    },
    {
     "name": "stderr",
     "output_type": "stream",
     "text": [
      "\r",
      " 76%|█████████████████████████████████████████████████████████████▌                   | 92/121 [10:11<03:13,  6.66s/it]"
     ]
    },
    {
     "name": "stdout",
     "output_type": "stream",
     "text": [
      "(1, 23, 128, 128, 1)\n",
      "C:\\Users\\gural\\Desktop\\animals\\stand\\HorizontalFlipVID_20190327_185710.mp4\n",
      "\n"
     ]
    },
    {
     "name": "stderr",
     "output_type": "stream",
     "text": [
      "\r",
      " 77%|██████████████████████████████████████████████████████████████▎                  | 93/121 [10:18<03:06,  6.65s/it]"
     ]
    },
    {
     "name": "stdout",
     "output_type": "stream",
     "text": [
      "(1, 23, 128, 128, 1)\n",
      "C:\\Users\\gural\\Desktop\\animals\\stand\\VID_20190327_174806Crop.mp4\n",
      "\n"
     ]
    },
    {
     "name": "stderr",
     "output_type": "stream",
     "text": [
      "\r",
      " 78%|██████████████████████████████████████████████████████████████▉                  | 94/121 [10:22<02:38,  5.89s/it]"
     ]
    },
    {
     "name": "stdout",
     "output_type": "stream",
     "text": [
      "(1, 23, 128, 128, 1)\n",
      "C:\\Users\\gural\\Desktop\\animals\\cut\\VID_20190327_190440Rotate.mp4\n",
      "\n"
     ]
    },
    {
     "name": "stderr",
     "output_type": "stream",
     "text": [
      "\r",
      " 79%|███████████████████████████████████████████████████████████████▌                 | 95/121 [10:28<02:38,  6.09s/it]"
     ]
    },
    {
     "name": "stdout",
     "output_type": "stream",
     "text": [
      "(1, 23, 128, 128, 1)\n",
      "C:\\Users\\gural\\Desktop\\animals\\sleep\\HorizontalFlipVID_20190327_190359translate.mp4\n",
      "\n"
     ]
    },
    {
     "name": "stderr",
     "output_type": "stream",
     "text": [
      "\r",
      " 79%|████████████████████████████████████████████████████████████████▎                | 96/121 [10:34<02:29,  5.97s/it]"
     ]
    },
    {
     "name": "stdout",
     "output_type": "stream",
     "text": [
      "(1, 23, 128, 128, 1)\n",
      "C:\\Users\\gural\\Desktop\\animals\\sleep\\VID_20190327_190351Crop.mp4\n",
      "\n"
     ]
    },
    {
     "name": "stderr",
     "output_type": "stream",
     "text": [
      "\r",
      " 80%|████████████████████████████████████████████████████████████████▉                | 97/121 [10:37<02:03,  5.13s/it]"
     ]
    },
    {
     "name": "stdout",
     "output_type": "stream",
     "text": [
      "(1, 23, 128, 128, 1)\n",
      "C:\\Users\\gural\\Desktop\\animals\\stand\\VID_20190515_185152Rotate.mp4\n",
      "\n"
     ]
    },
    {
     "name": "stderr",
     "output_type": "stream",
     "text": [
      "\r",
      " 81%|█████████████████████████████████████████████████████████████████▌               | 98/121 [10:47<02:29,  6.52s/it]"
     ]
    },
    {
     "name": "stdout",
     "output_type": "stream",
     "text": [
      "(1, 23, 128, 128, 1)\n",
      "C:\\Users\\gural\\Desktop\\animals\\stand\\VID_20190515_185146translate.mp4\n",
      "\n"
     ]
    },
    {
     "name": "stderr",
     "output_type": "stream",
     "text": [
      "\r",
      " 82%|██████████████████████████████████████████████████████████████████▎              | 99/121 [10:56<02:36,  7.12s/it]"
     ]
    },
    {
     "name": "stdout",
     "output_type": "stream",
     "text": [
      "(1, 23, 128, 128, 1)\n",
      "C:\\Users\\gural\\Desktop\\animals\\sleep\\HorizontalFlipVID_20190327_190335Crop.mp4\n",
      "\n"
     ]
    },
    {
     "name": "stderr",
     "output_type": "stream",
     "text": [
      "\r",
      " 83%|██████████████████████████████████████████████████████████████████              | 100/121 [10:59<02:08,  6.10s/it]"
     ]
    },
    {
     "name": "stdout",
     "output_type": "stream",
     "text": [
      "(1, 23, 128, 128, 1)\n",
      "C:\\Users\\gural\\Desktop\\animals\\fly\\HorizontalFlipVID_20190327_175451Rotate.mp4\n",
      "\n"
     ]
    },
    {
     "name": "stderr",
     "output_type": "stream",
     "text": [
      "\r",
      " 83%|██████████████████████████████████████████████████████████████████▊             | 101/121 [11:05<02:00,  6.01s/it]"
     ]
    },
    {
     "name": "stdout",
     "output_type": "stream",
     "text": [
      "(1, 23, 128, 128, 1)\n",
      "C:\\Users\\gural\\Desktop\\animals\\stand\\HorizontalFlipVID_20190515_185211Rotate.mp4\n",
      "\n"
     ]
    },
    {
     "name": "stderr",
     "output_type": "stream",
     "text": [
      "\r",
      " 84%|███████████████████████████████████████████████████████████████████▍            | 102/121 [11:10<01:50,  5.81s/it]"
     ]
    },
    {
     "name": "stdout",
     "output_type": "stream",
     "text": [
      "(1, 23, 128, 128, 1)\n",
      "C:\\Users\\gural\\Desktop\\animals\\sleep\\HorizontalFlipVID_20190327_190351.mp4\n",
      "\n"
     ]
    },
    {
     "name": "stderr",
     "output_type": "stream",
     "text": [
      "\r",
      " 85%|████████████████████████████████████████████████████████████████████            | 103/121 [11:16<01:42,  5.72s/it]"
     ]
    },
    {
     "name": "stdout",
     "output_type": "stream",
     "text": [
      "(1, 23, 128, 128, 1)\n",
      "C:\\Users\\gural\\Desktop\\animals\\stand\\VID_20190327_185921Rotate.mp4\n",
      "\n"
     ]
    },
    {
     "name": "stderr",
     "output_type": "stream",
     "text": [
      "\r",
      " 86%|████████████████████████████████████████████████████████████████████▊           | 104/121 [11:28<02:08,  7.57s/it]"
     ]
    },
    {
     "name": "stdout",
     "output_type": "stream",
     "text": [
      "(1, 23, 128, 128, 1)\n",
      "C:\\Users\\gural\\Desktop\\animals\\sleep\\VID_20190327_174920Rotate.mp4\n",
      "\n"
     ]
    },
    {
     "name": "stderr",
     "output_type": "stream",
     "text": [
      "\r",
      " 87%|█████████████████████████████████████████████████████████████████████▍          | 105/121 [11:36<02:02,  7.69s/it]"
     ]
    },
    {
     "name": "stdout",
     "output_type": "stream",
     "text": [
      "(1, 23, 128, 128, 1)\n",
      "C:\\Users\\gural\\Desktop\\animals\\cut\\HorizontalFlipVID_20190327_190432.mp4\n",
      "\n"
     ]
    },
    {
     "name": "stderr",
     "output_type": "stream",
     "text": [
      "\r",
      " 88%|██████████████████████████████████████████████████████████████████████          | 106/121 [11:42<01:47,  7.14s/it]"
     ]
    },
    {
     "name": "stdout",
     "output_type": "stream",
     "text": [
      "(1, 23, 128, 128, 1)\n",
      "C:\\Users\\gural\\Desktop\\animals\\fly\\HorizontalFlipVID_20190327_190119Crop.mp4\n",
      "\n"
     ]
    },
    {
     "name": "stderr",
     "output_type": "stream",
     "text": [
      "\r",
      " 88%|██████████████████████████████████████████████████████████████████████▋         | 107/121 [11:45<01:23,  5.93s/it]"
     ]
    },
    {
     "name": "stdout",
     "output_type": "stream",
     "text": [
      "(1, 23, 128, 128, 1)\n",
      "C:\\Users\\gural\\Desktop\\animals\\fly\\VID_20190327_175513.mp4\n",
      "\n"
     ]
    },
    {
     "name": "stderr",
     "output_type": "stream",
     "text": [
      "\r",
      " 89%|███████████████████████████████████████████████████████████████████████▍        | 108/121 [11:55<01:35,  7.34s/it]"
     ]
    },
    {
     "name": "stdout",
     "output_type": "stream",
     "text": [
      "(1, 23, 128, 128, 1)\n",
      "C:\\Users\\gural\\Desktop\\animals\\fly\\HorizontalFlipVID_20190327_190039.mp4\n",
      "\n"
     ]
    },
    {
     "name": "stderr",
     "output_type": "stream",
     "text": [
      "\r",
      " 90%|████████████████████████████████████████████████████████████████████████        | 109/121 [12:01<01:22,  6.87s/it]"
     ]
    },
    {
     "name": "stdout",
     "output_type": "stream",
     "text": [
      "(1, 23, 128, 128, 1)\n",
      "C:\\Users\\gural\\Desktop\\animals\\fly\\HorizontalFlipVID_20190327_190126Rotate40.mp4\n",
      "\n"
     ]
    },
    {
     "name": "stderr",
     "output_type": "stream",
     "text": [
      "\r",
      " 91%|████████████████████████████████████████████████████████████████████████▋       | 110/121 [12:08<01:15,  6.87s/it]"
     ]
    },
    {
     "name": "stdout",
     "output_type": "stream",
     "text": [
      "(1, 23, 128, 128, 1)\n",
      "C:\\Users\\gural\\Desktop\\animals\\stand\\VID_20190327_174711Rotate40.mp4\n",
      "\n"
     ]
    },
    {
     "name": "stderr",
     "output_type": "stream",
     "text": [
      "\r",
      " 92%|█████████████████████████████████████████████████████████████████████████▍      | 111/121 [12:16<01:11,  7.20s/it]"
     ]
    },
    {
     "name": "stdout",
     "output_type": "stream",
     "text": [
      "(1, 23, 128, 128, 1)\n",
      "C:\\Users\\gural\\Desktop\\animals\\cut\\HorizontalFlipVID_20190327_190415.mp4\n",
      "\n"
     ]
    },
    {
     "name": "stderr",
     "output_type": "stream",
     "text": [
      "\r",
      " 93%|██████████████████████████████████████████████████████████████████████████      | 112/121 [12:23<01:05,  7.24s/it]"
     ]
    },
    {
     "name": "stdout",
     "output_type": "stream",
     "text": [
      "(1, 23, 128, 128, 1)\n",
      "C:\\Users\\gural\\Desktop\\animals\\sleep\\HorizontalFlipVID_20190327_190359Rotate.mp4\n",
      "\n"
     ]
    },
    {
     "name": "stderr",
     "output_type": "stream",
     "text": [
      "\r",
      " 93%|██████████████████████████████████████████████████████████████████████████▋     | 113/121 [12:29<00:54,  6.79s/it]"
     ]
    },
    {
     "name": "stdout",
     "output_type": "stream",
     "text": [
      "(1, 23, 128, 128, 1)\n",
      "C:\\Users\\gural\\Desktop\\animals\\stand\\HorizontalFlipVID_20190327_185700Crop.mp4\n",
      "\n"
     ]
    },
    {
     "name": "stderr",
     "output_type": "stream",
     "text": [
      "\r",
      " 94%|███████████████████████████████████████████████████████████████████████████▎    | 114/121 [12:34<00:42,  6.09s/it]"
     ]
    },
    {
     "name": "stdout",
     "output_type": "stream",
     "text": [
      "(1, 23, 128, 128, 1)\n",
      "C:\\Users\\gural\\Desktop\\animals\\sleep\\HorizontalFlipVID_20190515_185101Rotate40.mp4\n",
      "\n"
     ]
    },
    {
     "name": "stderr",
     "output_type": "stream",
     "text": [
      "\r",
      " 95%|████████████████████████████████████████████████████████████████████████████    | 115/121 [12:41<00:38,  6.41s/it]"
     ]
    },
    {
     "name": "stdout",
     "output_type": "stream",
     "text": [
      "(1, 23, 128, 128, 1)\n",
      "C:\\Users\\gural\\Desktop\\animals\\fly\\VID_20190327_190231.mp4\n",
      "\n"
     ]
    },
    {
     "name": "stderr",
     "output_type": "stream",
     "text": [
      "\r",
      " 96%|████████████████████████████████████████████████████████████████████████████▋   | 116/121 [12:46<00:31,  6.22s/it]"
     ]
    },
    {
     "name": "stdout",
     "output_type": "stream",
     "text": [
      "(1, 23, 128, 128, 1)\n",
      "C:\\Users\\gural\\Desktop\\animals\\stand\\HorizontalFlipVID_20190327_185946Crop.mp4\n",
      "\n"
     ]
    },
    {
     "name": "stderr",
     "output_type": "stream",
     "text": [
      "\r",
      " 97%|█████████████████████████████████████████████████████████████████████████████▎  | 117/121 [12:52<00:23,  5.94s/it]"
     ]
    },
    {
     "name": "stdout",
     "output_type": "stream",
     "text": [
      "(1, 23, 128, 128, 1)\n",
      "C:\\Users\\gural\\Desktop\\animals\\sleep\\VID_20190515_185023.mp4\n",
      "\n"
     ]
    },
    {
     "name": "stderr",
     "output_type": "stream",
     "text": [
      "\r",
      " 98%|██████████████████████████████████████████████████████████████████████████████  | 118/121 [12:59<00:18,  6.29s/it]"
     ]
    },
    {
     "name": "stdout",
     "output_type": "stream",
     "text": [
      "(1, 23, 128, 128, 1)\n",
      "C:\\Users\\gural\\Desktop\\animals\\fly\\VID_20190327_190231Rotate.mp4\n",
      "\n"
     ]
    },
    {
     "name": "stderr",
     "output_type": "stream",
     "text": [
      "\r",
      " 98%|██████████████████████████████████████████████████████████████████████████████▋ | 119/121 [13:05<00:12,  6.15s/it]"
     ]
    },
    {
     "name": "stdout",
     "output_type": "stream",
     "text": [
      "(1, 23, 128, 128, 1)\n",
      "C:\\Users\\gural\\Desktop\\animals\\cut\\VID_20190327_190440translate.mp4\n",
      "\n"
     ]
    },
    {
     "name": "stderr",
     "output_type": "stream",
     "text": [
      "\r",
      " 99%|███████████████████████████████████████████████████████████████████████████████▎| 120/121 [13:11<00:06,  6.34s/it]"
     ]
    },
    {
     "name": "stdout",
     "output_type": "stream",
     "text": [
      "(1, 23, 128, 128, 1)\n",
      "C:\\Users\\gural\\Desktop\\animals\\cut\\HorizontalFlipVID_20190327_175707Rotate40.mp4\n",
      "\n"
     ]
    },
    {
     "name": "stderr",
     "output_type": "stream",
     "text": [
      "100%|████████████████████████████████████████████████████████████████████████████████| 121/121 [13:19<00:00,  6.59s/it]\n"
     ]
    },
    {
     "name": "stdout",
     "output_type": "stream",
     "text": [
      "(1, 23, 128, 128, 1)\n",
      "(1, 23, 128, 128, 1)\n",
      "(1, 23, 128, 128, 1)\n",
      "(1, 23, 128, 128, 1)\n",
      "(1, 23, 128, 128, 1)\n",
      "(1, 23, 128, 128, 1)\n",
      "(1, 23, 128, 128, 1)\n",
      "(1, 23, 128, 128, 1)\n",
      "(1, 23, 128, 128, 1)\n",
      "(1, 23, 128, 128, 1)\n",
      "(1, 23, 128, 128, 1)\n",
      "(1, 23, 128, 128, 1)\n",
      "(1, 23, 128, 128, 1)\n",
      "(1, 23, 128, 128, 1)\n",
      "(1, 23, 128, 128, 1)\n",
      "(1, 23, 128, 128, 1)\n",
      "(1, 23, 128, 128, 1)\n",
      "(1, 23, 128, 128, 1)\n",
      "(1, 23, 128, 128, 1)\n",
      "(1, 23, 128, 128, 1)\n",
      "(1, 23, 128, 128, 1)\n",
      "(1, 23, 128, 128, 1)\n",
      "(1, 23, 128, 128, 1)\n",
      "(1, 23, 128, 128, 1)\n",
      "(1, 23, 128, 128, 1)\n",
      "(1, 23, 128, 128, 1)\n",
      "(1, 23, 128, 128, 1)\n",
      "(1, 23, 128, 128, 1)\n",
      "(1, 23, 128, 128, 1)\n",
      "(1, 23, 128, 128, 1)\n",
      "(1, 23, 128, 128, 1)\n",
      "(1, 23, 128, 128, 1)\n",
      "(1, 23, 128, 128, 1)\n",
      "(1, 23, 128, 128, 1)\n",
      "(1, 23, 128, 128, 1)\n",
      "(1, 23, 128, 128, 1)\n",
      "(1, 23, 128, 128, 1)\n",
      "(1, 23, 128, 128, 1)\n",
      "(1, 23, 128, 128, 1)\n",
      "(1, 23, 128, 128, 1)\n",
      "(1, 23, 128, 128, 1)\n",
      "(1, 23, 128, 128, 1)\n",
      "(1, 23, 128, 128, 1)\n",
      "(1, 23, 128, 128, 1)\n",
      "(1, 23, 128, 128, 1)\n",
      "(1, 23, 128, 128, 1)\n",
      "(1, 23, 128, 128, 1)\n",
      "(1, 23, 128, 128, 1)\n",
      "(1, 23, 128, 128, 1)\n",
      "(1, 23, 128, 128, 1)\n",
      "(1, 23, 128, 128, 1)\n",
      "(1, 23, 128, 128, 1)\n",
      "(1, 23, 128, 128, 1)\n",
      "(1, 23, 128, 128, 1)\n",
      "(1, 23, 128, 128, 1)\n",
      "(1, 23, 128, 128, 1)\n",
      "(1, 23, 128, 128, 1)\n",
      "(1, 23, 128, 128, 1)\n",
      "(1, 23, 128, 128, 1)\n",
      "(1, 23, 128, 128, 1)\n",
      "(1, 23, 128, 128, 1)\n",
      "(1, 23, 128, 128, 1)\n",
      "(1, 23, 128, 128, 1)\n",
      "(1, 23, 128, 128, 1)\n",
      "(1, 23, 128, 128, 1)\n",
      "(1, 23, 128, 128, 1)\n",
      "(1, 23, 128, 128, 1)\n",
      "(1, 23, 128, 128, 1)\n",
      "(1, 23, 128, 128, 1)\n",
      "(1, 23, 128, 128, 1)\n",
      "(1, 23, 128, 128, 1)\n",
      "(1, 23, 128, 128, 1)\n",
      "(1, 23, 128, 128, 1)\n",
      "(1, 23, 128, 128, 1)\n",
      "(1, 23, 128, 128, 1)\n",
      "(1, 23, 128, 128, 1)\n",
      "(1, 23, 128, 128, 1)\n",
      "(1, 23, 128, 128, 1)\n",
      "(1, 23, 128, 128, 1)\n",
      "(1, 23, 128, 128, 1)\n",
      "(1, 23, 128, 128, 1)\n",
      "(1, 23, 128, 128, 1)\n",
      "(1, 23, 128, 128, 1)\n",
      "(1, 23, 128, 128, 1)\n",
      "(1, 23, 128, 128, 1)\n",
      "(1, 23, 128, 128, 1)\n",
      "(1, 23, 128, 128, 1)\n",
      "(1, 23, 128, 128, 1)\n",
      "(1, 23, 128, 128, 1)\n",
      "(1, 23, 128, 128, 1)\n",
      "(1, 23, 128, 128, 1)\n",
      "(1, 23, 128, 128, 1)\n",
      "(1, 23, 128, 128, 1)\n",
      "(1, 23, 128, 128, 1)\n",
      "(1, 23, 128, 128, 1)\n",
      "(1, 23, 128, 128, 1)\n",
      "(1, 23, 128, 128, 1)\n",
      "(1, 23, 128, 128, 1)\n",
      "(1, 23, 128, 128, 1)\n",
      "(1, 23, 128, 128, 1)\n",
      "(1, 23, 128, 128, 1)\n",
      "(1, 23, 128, 128, 1)\n",
      "(1, 23, 128, 128, 1)\n",
      "(1, 23, 128, 128, 1)\n",
      "(1, 23, 128, 128, 1)\n",
      "(1, 23, 128, 128, 1)\n",
      "(1, 23, 128, 128, 1)\n",
      "(1, 23, 128, 128, 1)\n",
      "(1, 23, 128, 128, 1)\n",
      "(1, 23, 128, 128, 1)\n",
      "(1, 23, 128, 128, 1)\n",
      "(1, 23, 128, 128, 1)\n",
      "(1, 23, 128, 128, 1)\n",
      "(1, 23, 128, 128, 1)\n",
      "(1, 23, 128, 128, 1)\n",
      "(1, 23, 128, 128, 1)\n",
      "(1, 23, 128, 128, 1)\n",
      "(1, 23, 128, 128, 1)\n",
      "(1, 23, 128, 128, 1)\n",
      "(1, 23, 128, 128, 1)\n",
      "(1, 23, 128, 128, 1)\n",
      "Shape of validation data: (121, 23, 128, 128, 1)\n",
      "Shape of validation labels: (121, 4)\n"
     ]
    }
   ],
   "source": [
    "# Reading validation videos and one-hot encoding the validation labels\n",
    "X_valid = reader.read_videos(valid_files)\n",
    "y_valid = to_categorical(valid_targets, num_classes=4)\n",
    "print('Shape of validation data:', X_valid.shape)\n",
    "print('Shape of validation labels:', y_valid.shape)"
   ]
  },
  {
   "cell_type": "code",
   "execution_count": null,
   "metadata": {},
   "outputs": [
    {
     "name": "stderr",
     "output_type": "stream",
     "text": [
      "\r",
      "  0%|                                                                                          | 0/125 [00:00<?, ?it/s]"
     ]
    },
    {
     "name": "stdout",
     "output_type": "stream",
     "text": [
      "(1, 23, 128, 128, 1)\n",
      "C:\\Users\\gural\\Desktop\\animals\\stand\\HorizontalFlipVID_20190327_185941Rotate40.mp4\n",
      "\n"
     ]
    },
    {
     "name": "stderr",
     "output_type": "stream",
     "text": [
      "\r",
      "  1%|▋                                                                                 | 1/125 [00:06<14:09,  6.85s/it]"
     ]
    },
    {
     "name": "stdout",
     "output_type": "stream",
     "text": [
      "(1, 23, 128, 128, 1)\n",
      "C:\\Users\\gural\\Desktop\\animals\\cut\\VID_20190327_190518Rotate40.mp4\n",
      "\n"
     ]
    },
    {
     "name": "stderr",
     "output_type": "stream",
     "text": [
      "\r",
      "  2%|█▎                                                                                | 2/125 [00:12<13:21,  6.52s/it]"
     ]
    },
    {
     "name": "stdout",
     "output_type": "stream",
     "text": [
      "(1, 23, 128, 128, 1)\n",
      "C:\\Users\\gural\\Desktop\\animals\\stand\\HorizontalFlipVID_20190327_190028.mp4\n",
      "\n"
     ]
    },
    {
     "name": "stderr",
     "output_type": "stream",
     "text": [
      "\r",
      "  2%|█▉                                                                                | 3/125 [00:20<14:14,  7.01s/it]"
     ]
    },
    {
     "name": "stdout",
     "output_type": "stream",
     "text": [
      "(1, 23, 128, 128, 1)\n",
      "C:\\Users\\gural\\Desktop\\animals\\stand\\HorizontalFlipVID_20190327_190028Rotate.mp4\n",
      "\n"
     ]
    },
    {
     "name": "stderr",
     "output_type": "stream",
     "text": [
      "\r",
      "  3%|██▌                                                                               | 4/125 [00:28<14:39,  7.27s/it]"
     ]
    },
    {
     "name": "stdout",
     "output_type": "stream",
     "text": [
      "(1, 23, 128, 128, 1)\n",
      "C:\\Users\\gural\\Desktop\\animals\\sleep\\VID_20190327_175047translate.mp4\n",
      "\n"
     ]
    },
    {
     "name": "stderr",
     "output_type": "stream",
     "text": [
      "\r",
      "  4%|███▎                                                                              | 5/125 [00:36<14:36,  7.30s/it]"
     ]
    },
    {
     "name": "stdout",
     "output_type": "stream",
     "text": [
      "(1, 23, 128, 128, 1)\n",
      "C:\\Users\\gural\\Desktop\\animals\\fly\\HorizontalFlipVID_20190515_184921Rotate40.mp4\n",
      "\n"
     ]
    },
    {
     "name": "stderr",
     "output_type": "stream",
     "text": [
      "\r",
      "  5%|███▉                                                                              | 6/125 [00:43<14:20,  7.23s/it]"
     ]
    },
    {
     "name": "stdout",
     "output_type": "stream",
     "text": [
      "(1, 23, 128, 128, 1)\n",
      "C:\\Users\\gural\\Desktop\\animals\\stand\\HorizontalFlipVID_20190327_174806.mp4\n",
      "\n"
     ]
    },
    {
     "name": "stderr",
     "output_type": "stream",
     "text": [
      "\r",
      "  6%|████▌                                                                             | 7/125 [00:50<14:09,  7.20s/it]"
     ]
    },
    {
     "name": "stdout",
     "output_type": "stream",
     "text": [
      "(1, 23, 128, 128, 1)\n",
      "C:\\Users\\gural\\Desktop\\animals\\sleep\\HorizontalFlipVID_20190515_185106translate.mp4\n",
      "\n"
     ]
    },
    {
     "name": "stderr",
     "output_type": "stream",
     "text": [
      "\r",
      "  6%|█████▏                                                                            | 8/125 [01:00<15:47,  8.10s/it]"
     ]
    },
    {
     "name": "stdout",
     "output_type": "stream",
     "text": [
      "(1, 23, 128, 128, 1)\n",
      "C:\\Users\\gural\\Desktop\\animals\\cut\\HorizontalFlipVID_20190515_184707Rotate40.mp4\n",
      "\n"
     ]
    },
    {
     "name": "stderr",
     "output_type": "stream",
     "text": [
      "\r",
      "  7%|█████▉                                                                            | 9/125 [01:08<15:53,  8.22s/it]"
     ]
    },
    {
     "name": "stdout",
     "output_type": "stream",
     "text": [
      "(1, 23, 128, 128, 1)\n",
      "C:\\Users\\gural\\Desktop\\animals\\cut\\HorizontalFlipVID_20190327_190518Rotate.mp4\n",
      "\n"
     ]
    },
    {
     "name": "stderr",
     "output_type": "stream",
     "text": [
      "\r",
      "  8%|██████▍                                                                          | 10/125 [01:14<14:20,  7.48s/it]"
     ]
    },
    {
     "name": "stdout",
     "output_type": "stream",
     "text": [
      "(1, 23, 128, 128, 1)\n",
      "C:\\Users\\gural\\Desktop\\animals\\cut\\HorizontalFlipVID_20190327_175826Rotate40.mp4\n",
      "\n"
     ]
    },
    {
     "name": "stderr",
     "output_type": "stream",
     "text": [
      "\r",
      "  9%|███████▏                                                                         | 11/125 [01:20<13:32,  7.12s/it]"
     ]
    },
    {
     "name": "stdout",
     "output_type": "stream",
     "text": [
      "(1, 23, 128, 128, 1)\n",
      "C:\\Users\\gural\\Desktop\\animals\\stand\\HorizontalFlipVID_20190515_185146.mp4\n",
      "\n"
     ]
    },
    {
     "name": "stderr",
     "output_type": "stream",
     "text": [
      "\r",
      " 10%|███████▊                                                                         | 12/125 [01:29<13:58,  7.42s/it]"
     ]
    },
    {
     "name": "stdout",
     "output_type": "stream",
     "text": [
      "(1, 23, 128, 128, 1)\n",
      "C:\\Users\\gural\\Desktop\\animals\\sleep\\VID_20190327_190259translate.mp4\n",
      "\n"
     ]
    },
    {
     "name": "stderr",
     "output_type": "stream",
     "text": [
      "\r",
      " 10%|████████▍                                                                        | 13/125 [01:34<12:50,  6.88s/it]"
     ]
    },
    {
     "name": "stdout",
     "output_type": "stream",
     "text": [
      "(1, 23, 128, 128, 1)\n",
      "C:\\Users\\gural\\Desktop\\animals\\cut\\HorizontalFlipVID_20190515_184703translate.mp4\n",
      "\n"
     ]
    },
    {
     "name": "stderr",
     "output_type": "stream",
     "text": [
      "\r",
      " 11%|█████████                                                                        | 14/125 [01:39<11:43,  6.34s/it]"
     ]
    },
    {
     "name": "stdout",
     "output_type": "stream",
     "text": [
      "(1, 23, 128, 128, 1)\n",
      "C:\\Users\\gural\\Desktop\\animals\\fly\\VID_20190327_175624.mp4\n",
      "\n"
     ]
    },
    {
     "name": "stderr",
     "output_type": "stream",
     "text": [
      "\r",
      " 12%|█████████▋                                                                       | 15/125 [01:49<13:36,  7.42s/it]"
     ]
    },
    {
     "name": "stdout",
     "output_type": "stream",
     "text": [
      "(1, 23, 128, 128, 1)\n",
      "C:\\Users\\gural\\Desktop\\animals\\fly\\HorizontalFlipVID_20190327_190126Crop.mp4\n",
      "\n"
     ]
    },
    {
     "name": "stderr",
     "output_type": "stream",
     "text": [
      "\r",
      " 13%|██████████▎                                                                      | 16/125 [01:53<11:43,  6.46s/it]"
     ]
    },
    {
     "name": "stdout",
     "output_type": "stream",
     "text": [
      "(1, 23, 128, 128, 1)\n",
      "C:\\Users\\gural\\Desktop\\animals\\cut\\HorizontalFlipVID_20190327_175707Crop.mp4\n",
      "\n"
     ]
    },
    {
     "name": "stderr",
     "output_type": "stream",
     "text": [
      "\r",
      " 14%|███████████                                                                      | 17/125 [01:58<10:25,  5.79s/it]"
     ]
    },
    {
     "name": "stdout",
     "output_type": "stream",
     "text": [
      "(1, 23, 128, 128, 1)\n",
      "C:\\Users\\gural\\Desktop\\animals\\fly\\VID_20190515_184843Rotate.mp4\n",
      "\n"
     ]
    },
    {
     "name": "stderr",
     "output_type": "stream",
     "text": [
      "\r",
      " 14%|███████████▋                                                                     | 18/125 [02:12<14:52,  8.34s/it]"
     ]
    },
    {
     "name": "stdout",
     "output_type": "stream",
     "text": [
      "(1, 23, 128, 128, 1)\n",
      "C:\\Users\\gural\\Desktop\\animals\\cut\\VID_20190327_190432Crop.mp4\n",
      "\n"
     ]
    },
    {
     "name": "stderr",
     "output_type": "stream",
     "text": [
      "\r",
      " 15%|████████████▎                                                                    | 19/125 [02:15<12:02,  6.81s/it]"
     ]
    },
    {
     "name": "stdout",
     "output_type": "stream",
     "text": [
      "(1, 23, 128, 128, 1)\n",
      "C:\\Users\\gural\\Desktop\\animals\\stand\\HorizontalFlipVID_20190515_185137Rotate40.mp4\n",
      "\n"
     ]
    },
    {
     "name": "stderr",
     "output_type": "stream",
     "text": [
      "\r",
      " 16%|████████████▉                                                                    | 20/125 [02:24<12:49,  7.33s/it]"
     ]
    },
    {
     "name": "stdout",
     "output_type": "stream",
     "text": [
      "(1, 23, 128, 128, 1)\n",
      "C:\\Users\\gural\\Desktop\\animals\\cut\\HorizontalFlipVID_20190515_184707translate.mp4\n",
      "\n"
     ]
    },
    {
     "name": "stderr",
     "output_type": "stream",
     "text": [
      "\r",
      " 17%|█████████████▌                                                                   | 21/125 [02:32<13:19,  7.69s/it]"
     ]
    },
    {
     "name": "stdout",
     "output_type": "stream",
     "text": [
      "(1, 23, 128, 128, 1)\n",
      "C:\\Users\\gural\\Desktop\\animals\\stand\\VID_20190515_185137translate.mp4\n",
      "\n"
     ]
    },
    {
     "name": "stderr",
     "output_type": "stream",
     "text": [
      "\r",
      " 18%|██████████████▎                                                                  | 22/125 [02:41<13:39,  7.96s/it]"
     ]
    },
    {
     "name": "stdout",
     "output_type": "stream",
     "text": [
      "(1, 23, 128, 128, 1)\n",
      "C:\\Users\\gural\\Desktop\\animals\\fly\\HorizontalFlipVID_20190327_175451Rotate40.mp4\n",
      "\n"
     ]
    },
    {
     "name": "stderr",
     "output_type": "stream",
     "text": [
      "\r",
      " 18%|██████████████▉                                                                  | 23/125 [02:46<12:21,  7.27s/it]"
     ]
    },
    {
     "name": "stdout",
     "output_type": "stream",
     "text": [
      "(1, 23, 128, 128, 1)\n",
      "C:\\Users\\gural\\Desktop\\animals\\stand\\HorizontalFlipVID_20190515_185211translate.mp4\n",
      "\n"
     ]
    },
    {
     "name": "stderr",
     "output_type": "stream",
     "text": [
      "\r",
      " 19%|███████████████▌                                                                 | 24/125 [02:52<11:15,  6.69s/it]"
     ]
    },
    {
     "name": "stdout",
     "output_type": "stream",
     "text": [
      "(1, 23, 128, 128, 1)\n",
      "C:\\Users\\gural\\Desktop\\animals\\fly\\VID_20190327_190050translate.mp4\n",
      "\n"
     ]
    },
    {
     "name": "stderr",
     "output_type": "stream",
     "text": [
      "\r",
      " 20%|████████████████▏                                                                | 25/125 [02:58<11:00,  6.61s/it]"
     ]
    },
    {
     "name": "stdout",
     "output_type": "stream",
     "text": [
      "(1, 23, 128, 128, 1)\n",
      "C:\\Users\\gural\\Desktop\\animals\\stand\\VID_20190515_185142translate.mp4\n",
      "\n"
     ]
    },
    {
     "name": "stderr",
     "output_type": "stream",
     "text": [
      "\r",
      " 21%|████████████████▊                                                                | 26/125 [03:07<11:48,  7.16s/it]"
     ]
    },
    {
     "name": "stdout",
     "output_type": "stream",
     "text": [
      "(1, 23, 128, 128, 1)\n",
      "C:\\Users\\gural\\Desktop\\animals\\cut\\VID_20190327_175826translate.mp4\n",
      "\n"
     ]
    },
    {
     "name": "stderr",
     "output_type": "stream",
     "text": [
      "\r",
      " 22%|█████████████████▍                                                               | 27/125 [03:13<11:16,  6.90s/it]"
     ]
    },
    {
     "name": "stdout",
     "output_type": "stream",
     "text": [
      "(1, 23, 128, 128, 1)\n",
      "C:\\Users\\gural\\Desktop\\animals\\stand\\HorizontalFlipVID_20190327_185927.mp4\n",
      "\n"
     ]
    },
    {
     "name": "stderr",
     "output_type": "stream",
     "text": [
      "\r",
      " 22%|██████████████████▏                                                              | 28/125 [03:20<11:22,  7.04s/it]"
     ]
    },
    {
     "name": "stdout",
     "output_type": "stream",
     "text": [
      "(1, 23, 128, 128, 1)\n",
      "C:\\Users\\gural\\Desktop\\animals\\sleep\\VID_20190327_190314translate.mp4\n",
      "\n"
     ]
    },
    {
     "name": "stderr",
     "output_type": "stream",
     "text": [
      "\r",
      " 23%|██████████████████▊                                                              | 29/125 [03:26<10:40,  6.67s/it]"
     ]
    },
    {
     "name": "stdout",
     "output_type": "stream",
     "text": [
      "(1, 23, 128, 128, 1)\n",
      "C:\\Users\\gural\\Desktop\\animals\\sleep\\VID_20190327_190359.mp4\n",
      "\n"
     ]
    },
    {
     "name": "stderr",
     "output_type": "stream",
     "text": [
      "\r",
      " 24%|███████████████████▍                                                             | 30/125 [03:32<10:11,  6.43s/it]"
     ]
    },
    {
     "name": "stdout",
     "output_type": "stream",
     "text": [
      "(1, 23, 128, 128, 1)\n",
      "C:\\Users\\gural\\Desktop\\animals\\sleep\\VID_20190327_190359Rotate.mp4\n",
      "\n"
     ]
    },
    {
     "name": "stderr",
     "output_type": "stream",
     "text": [
      "\r",
      " 25%|████████████████████                                                             | 31/125 [03:38<09:47,  6.25s/it]"
     ]
    },
    {
     "name": "stdout",
     "output_type": "stream",
     "text": [
      "(1, 23, 128, 128, 1)\n",
      "C:\\Users\\gural\\Desktop\\animals\\cut\\VID_20190327_190522.mp4\n",
      "\n"
     ]
    },
    {
     "name": "stderr",
     "output_type": "stream",
     "text": [
      "\r",
      " 26%|████████████████████▋                                                            | 32/125 [03:45<09:57,  6.42s/it]"
     ]
    },
    {
     "name": "stdout",
     "output_type": "stream",
     "text": [
      "(1, 23, 128, 128, 1)\n",
      "C:\\Users\\gural\\Desktop\\animals\\fly\\HorizontalFlipVID_20190327_175537Crop.mp4\n",
      "\n"
     ]
    },
    {
     "name": "stderr",
     "output_type": "stream",
     "text": [
      "\r",
      " 26%|█████████████████████▍                                                           | 33/125 [03:50<09:23,  6.12s/it]"
     ]
    },
    {
     "name": "stdout",
     "output_type": "stream",
     "text": [
      "(1, 23, 128, 128, 1)\n",
      "C:\\Users\\gural\\Desktop\\animals\\sleep\\VID_20190327_190339.mp4\n",
      "\n"
     ]
    },
    {
     "name": "stderr",
     "output_type": "stream",
     "text": [
      "\r",
      " 27%|██████████████████████                                                           | 34/125 [03:56<09:07,  6.02s/it]"
     ]
    },
    {
     "name": "stdout",
     "output_type": "stream",
     "text": [
      "(1, 23, 128, 128, 1)\n",
      "C:\\Users\\gural\\Desktop\\animals\\cut\\VID_20190515_184711translate.mp4\n",
      "\n"
     ]
    },
    {
     "name": "stderr",
     "output_type": "stream",
     "text": [
      "\r",
      " 28%|██████████████████████▋                                                          | 35/125 [04:03<09:41,  6.46s/it]"
     ]
    },
    {
     "name": "stdout",
     "output_type": "stream",
     "text": [
      "(1, 23, 128, 128, 1)\n",
      "C:\\Users\\gural\\Desktop\\animals\\stand\\VID_20190327_174711.mp4\n",
      "\n"
     ]
    },
    {
     "name": "stderr",
     "output_type": "stream",
     "text": [
      "\r",
      " 29%|███████████████████████▎                                                         | 36/125 [04:12<10:33,  7.12s/it]"
     ]
    },
    {
     "name": "stdout",
     "output_type": "stream",
     "text": [
      "(1, 23, 128, 128, 1)\n",
      "C:\\Users\\gural\\Desktop\\animals\\stand\\VID_20190327_174806Rotate40.mp4\n",
      "\n"
     ]
    },
    {
     "name": "stderr",
     "output_type": "stream",
     "text": [
      "\r",
      " 30%|███████████████████████▉                                                         | 37/125 [04:19<10:18,  7.03s/it]"
     ]
    },
    {
     "name": "stdout",
     "output_type": "stream",
     "text": [
      "(1, 23, 128, 128, 1)\n",
      "C:\\Users\\gural\\Desktop\\animals\\stand\\VID_20190515_185142Rotate40.mp4\n",
      "\n"
     ]
    },
    {
     "name": "stderr",
     "output_type": "stream",
     "text": [
      "\r",
      " 30%|████████████████████████▌                                                        | 38/125 [04:27<10:42,  7.39s/it]"
     ]
    },
    {
     "name": "stdout",
     "output_type": "stream",
     "text": [
      "(1, 23, 128, 128, 1)\n",
      "C:\\Users\\gural\\Desktop\\animals\\stand\\HorizontalFlipVID_20190327_185715translate.mp4\n",
      "\n"
     ]
    },
    {
     "name": "stderr",
     "output_type": "stream",
     "text": [
      "\r",
      " 31%|█████████████████████████▎                                                       | 39/125 [04:35<10:37,  7.41s/it]"
     ]
    },
    {
     "name": "stdout",
     "output_type": "stream",
     "text": [
      "(1, 23, 128, 128, 1)\n",
      "C:\\Users\\gural\\Desktop\\animals\\stand\\VID_20190327_174634translate.mp4\n",
      "\n"
     ]
    },
    {
     "name": "stderr",
     "output_type": "stream",
     "text": [
      "\r",
      " 32%|█████████████████████████▉                                                       | 40/125 [04:45<11:36,  8.19s/it]"
     ]
    },
    {
     "name": "stdout",
     "output_type": "stream",
     "text": [
      "(1, 23, 128, 128, 1)\n",
      "C:\\Users\\gural\\Desktop\\animals\\sleep\\VID_20190515_185101Rotate.mp4\n",
      "\n"
     ]
    },
    {
     "name": "stderr",
     "output_type": "stream",
     "text": [
      "\r",
      " 33%|██████████████████████████▌                                                      | 41/125 [04:52<10:59,  7.85s/it]"
     ]
    },
    {
     "name": "stdout",
     "output_type": "stream",
     "text": [
      "(1, 23, 128, 128, 1)\n",
      "C:\\Users\\gural\\Desktop\\animals\\cut\\HorizontalFlipVID_20190515_184711Crop.mp4\n",
      "\n"
     ]
    },
    {
     "name": "stderr",
     "output_type": "stream",
     "text": [
      "\r",
      " 34%|███████████████████████████▏                                                     | 42/125 [04:56<09:24,  6.81s/it]"
     ]
    },
    {
     "name": "stdout",
     "output_type": "stream",
     "text": [
      "(1, 23, 128, 128, 1)\n",
      "C:\\Users\\gural\\Desktop\\animals\\sleep\\HorizontalFlipVID_20190515_185000translate.mp4\n",
      "\n"
     ]
    },
    {
     "name": "stderr",
     "output_type": "stream",
     "text": [
      "\r",
      " 34%|███████████████████████████▊                                                     | 43/125 [05:01<08:37,  6.31s/it]"
     ]
    },
    {
     "name": "stdout",
     "output_type": "stream",
     "text": [
      "(1, 23, 128, 128, 1)\n",
      "C:\\Users\\gural\\Desktop\\animals\\fly\\HorizontalFlipVID_20190327_190205Rotate.mp4\n",
      "\n"
     ]
    },
    {
     "name": "stderr",
     "output_type": "stream",
     "text": [
      "\r",
      " 35%|████████████████████████████▌                                                    | 44/125 [05:08<08:39,  6.41s/it]"
     ]
    },
    {
     "name": "stdout",
     "output_type": "stream",
     "text": [
      "(1, 23, 128, 128, 1)\n",
      "C:\\Users\\gural\\Desktop\\animals\\sleep\\VID_20190327_190351translate.mp4\n",
      "\n"
     ]
    },
    {
     "name": "stderr",
     "output_type": "stream",
     "text": [
      "\r",
      " 36%|█████████████████████████████▏                                                   | 45/125 [05:14<08:22,  6.28s/it]"
     ]
    },
    {
     "name": "stdout",
     "output_type": "stream",
     "text": [
      "(1, 23, 128, 128, 1)\n",
      "C:\\Users\\gural\\Desktop\\animals\\fly\\HorizontalFlipVID_20190327_190045Crop.mp4\n",
      "\n"
     ]
    },
    {
     "name": "stderr",
     "output_type": "stream",
     "text": [
      "\r",
      " 37%|█████████████████████████████▊                                                   | 46/125 [05:18<07:17,  5.54s/it]"
     ]
    },
    {
     "name": "stdout",
     "output_type": "stream",
     "text": [
      "(1, 23, 128, 128, 1)\n",
      "C:\\Users\\gural\\Desktop\\animals\\fly\\VID_20190327_190045Crop.mp4\n",
      "\n"
     ]
    },
    {
     "name": "stderr",
     "output_type": "stream",
     "text": [
      "\r",
      " 38%|██████████████████████████████▍                                                  | 47/125 [05:21<06:30,  5.01s/it]"
     ]
    },
    {
     "name": "stdout",
     "output_type": "stream",
     "text": [
      "(1, 23, 128, 128, 1)\n",
      "C:\\Users\\gural\\Desktop\\animals\\sleep\\HorizontalFlipVID_20190327_190359.mp4\n",
      "\n"
     ]
    },
    {
     "name": "stderr",
     "output_type": "stream",
     "text": [
      "\r",
      " 38%|███████████████████████████████                                                  | 48/125 [05:27<06:41,  5.21s/it]"
     ]
    },
    {
     "name": "stdout",
     "output_type": "stream",
     "text": [
      "(1, 23, 128, 128, 1)\n",
      "C:\\Users\\gural\\Desktop\\animals\\sleep\\VID_20190515_185023Crop.mp4\n",
      "\n"
     ]
    },
    {
     "name": "stderr",
     "output_type": "stream",
     "text": [
      "\r",
      " 39%|███████████████████████████████▊                                                 | 49/125 [05:31<06:06,  4.82s/it]"
     ]
    },
    {
     "name": "stdout",
     "output_type": "stream",
     "text": [
      "(1, 23, 128, 128, 1)\n",
      "C:\\Users\\gural\\Desktop\\animals\\cut\\HorizontalFlipVID_20190327_190415translate.mp4\n",
      "\n"
     ]
    },
    {
     "name": "stderr",
     "output_type": "stream",
     "text": [
      "\r",
      " 40%|████████████████████████████████▍                                                | 50/125 [05:38<06:59,  5.59s/it]"
     ]
    },
    {
     "name": "stdout",
     "output_type": "stream",
     "text": [
      "(1, 23, 128, 128, 1)\n",
      "C:\\Users\\gural\\Desktop\\animals\\cut\\HorizontalFlipVID_20190327_190427.mp4\n",
      "\n"
     ]
    },
    {
     "name": "stderr",
     "output_type": "stream",
     "text": [
      "\r",
      " 41%|█████████████████████████████████                                                | 51/125 [05:45<07:16,  5.89s/it]"
     ]
    },
    {
     "name": "stdout",
     "output_type": "stream",
     "text": [
      "(1, 23, 128, 128, 1)\n",
      "C:\\Users\\gural\\Desktop\\animals\\cut\\HorizontalFlipVID_20190327_190522.mp4\n",
      "\n"
     ]
    },
    {
     "name": "stderr",
     "output_type": "stream",
     "text": [
      "\r",
      " 42%|█████████████████████████████████▋                                               | 52/125 [05:52<07:25,  6.11s/it]"
     ]
    },
    {
     "name": "stdout",
     "output_type": "stream",
     "text": [
      "(1, 23, 128, 128, 1)\n",
      "C:\\Users\\gural\\Desktop\\animals\\sleep\\VID_20190515_185101Rotate40.mp4\n",
      "\n"
     ]
    },
    {
     "name": "stderr",
     "output_type": "stream",
     "text": [
      "\r",
      " 42%|██████████████████████████████████▎                                              | 53/125 [05:59<07:41,  6.41s/it]"
     ]
    },
    {
     "name": "stdout",
     "output_type": "stream",
     "text": [
      "(1, 23, 128, 128, 1)\n",
      "C:\\Users\\gural\\Desktop\\animals\\cut\\VID_20190327_190440.mp4\n",
      "\n"
     ]
    },
    {
     "name": "stderr",
     "output_type": "stream",
     "text": [
      "\r",
      " 43%|██████████████████████████████████▉                                              | 54/125 [06:05<07:44,  6.54s/it]"
     ]
    },
    {
     "name": "stdout",
     "output_type": "stream",
     "text": [
      "(1, 23, 128, 128, 1)\n",
      "C:\\Users\\gural\\Desktop\\animals\\stand\\VID_20190515_185137.mp4\n",
      "\n"
     ]
    },
    {
     "name": "stderr",
     "output_type": "stream",
     "text": [
      "\r",
      " 44%|███████████████████████████████████▋                                             | 55/125 [06:14<08:25,  7.22s/it]"
     ]
    },
    {
     "name": "stdout",
     "output_type": "stream",
     "text": [
      "(1, 23, 128, 128, 1)\n",
      "C:\\Users\\gural\\Desktop\\animals\\stand\\HorizontalFlipVID_20190327_174711translate.mp4\n",
      "\n"
     ]
    },
    {
     "name": "stderr",
     "output_type": "stream",
     "text": [
      "\r",
      " 45%|████████████████████████████████████▎                                            | 56/125 [06:23<08:43,  7.59s/it]"
     ]
    },
    {
     "name": "stdout",
     "output_type": "stream",
     "text": [
      "(1, 23, 128, 128, 1)\n",
      "C:\\Users\\gural\\Desktop\\animals\\stand\\VID_20190327_185715Crop.mp4\n",
      "\n"
     ]
    },
    {
     "name": "stderr",
     "output_type": "stream",
     "text": [
      "\r",
      " 46%|████████████████████████████████████▉                                            | 57/125 [06:27<07:31,  6.64s/it]"
     ]
    },
    {
     "name": "stdout",
     "output_type": "stream",
     "text": [
      "(1, 23, 128, 128, 1)\n",
      "C:\\Users\\gural\\Desktop\\animals\\stand\\VID_20190327_190002Rotate40.mp4\n",
      "\n"
     ]
    },
    {
     "name": "stderr",
     "output_type": "stream",
     "text": [
      "\r",
      " 46%|█████████████████████████████████████▌                                           | 58/125 [06:36<08:17,  7.43s/it]"
     ]
    },
    {
     "name": "stdout",
     "output_type": "stream",
     "text": [
      "(1, 23, 128, 128, 1)\n",
      "C:\\Users\\gural\\Desktop\\animals\\sleep\\HorizontalFlipVID_20190327_175047.mp4\n",
      "\n"
     ]
    },
    {
     "name": "stderr",
     "output_type": "stream",
     "text": [
      "\r",
      " 47%|██████████████████████████████████████▏                                          | 59/125 [06:44<08:11,  7.44s/it]"
     ]
    },
    {
     "name": "stdout",
     "output_type": "stream",
     "text": [
      "(1, 23, 128, 128, 1)\n",
      "C:\\Users\\gural\\Desktop\\animals\\sleep\\HorizontalFlipVID_20190327_190319Rotate40.mp4\n",
      "\n"
     ]
    },
    {
     "name": "stderr",
     "output_type": "stream",
     "text": [
      "\r",
      " 48%|██████████████████████████████████████▉                                          | 60/125 [06:52<08:23,  7.74s/it]"
     ]
    },
    {
     "name": "stdout",
     "output_type": "stream",
     "text": [
      "(1, 23, 128, 128, 1)\n",
      "C:\\Users\\gural\\Desktop\\animals\\stand\\VID_20190327_185710Crop.mp4\n",
      "\n"
     ]
    },
    {
     "name": "stderr",
     "output_type": "stream",
     "text": [
      "\r",
      " 49%|███████████████████████████████████████▌                                         | 61/125 [06:56<07:00,  6.57s/it]"
     ]
    },
    {
     "name": "stdout",
     "output_type": "stream",
     "text": [
      "(1, 23, 128, 128, 1)\n",
      "C:\\Users\\gural\\Desktop\\animals\\stand\\HorizontalFlipVID_20190327_185934.mp4\n",
      "\n"
     ]
    },
    {
     "name": "stderr",
     "output_type": "stream",
     "text": [
      "\r",
      " 50%|████████████████████████████████████████▏                                        | 62/125 [07:03<06:52,  6.54s/it]"
     ]
    },
    {
     "name": "stdout",
     "output_type": "stream",
     "text": [
      "(1, 23, 128, 128, 1)\n",
      "C:\\Users\\gural\\Desktop\\animals\\sleep\\VID_20190515_185106translate.mp4\n",
      "\n"
     ]
    },
    {
     "name": "stderr",
     "output_type": "stream",
     "text": [
      "\r",
      " 50%|████████████████████████████████████████▊                                        | 63/125 [07:13<07:49,  7.57s/it]"
     ]
    },
    {
     "name": "stdout",
     "output_type": "stream",
     "text": [
      "(1, 23, 128, 128, 1)\n",
      "C:\\Users\\gural\\Desktop\\animals\\sleep\\HorizontalFlipVID_20190327_190335translate.mp4\n",
      "\n"
     ]
    },
    {
     "name": "stderr",
     "output_type": "stream",
     "text": [
      "\r",
      " 51%|█████████████████████████████████████████▍                                       | 64/125 [07:19<07:23,  7.28s/it]"
     ]
    },
    {
     "name": "stdout",
     "output_type": "stream",
     "text": [
      "(1, 23, 128, 128, 1)\n",
      "C:\\Users\\gural\\Desktop\\animals\\fly\\VID_20190327_190205.mp4\n",
      "\n"
     ]
    },
    {
     "name": "stderr",
     "output_type": "stream",
     "text": [
      "\r",
      " 52%|██████████████████████████████████████████                                       | 65/125 [07:27<07:17,  7.29s/it]"
     ]
    },
    {
     "name": "stdout",
     "output_type": "stream",
     "text": [
      "(1, 23, 128, 128, 1)\n",
      "C:\\Users\\gural\\Desktop\\animals\\stand\\HorizontalFlipVID_20190327_185727translate.mp4\n",
      "\n"
     ]
    },
    {
     "name": "stderr",
     "output_type": "stream",
     "text": [
      "\r",
      " 53%|██████████████████████████████████████████▊                                      | 66/125 [07:37<08:01,  8.16s/it]"
     ]
    },
    {
     "name": "stdout",
     "output_type": "stream",
     "text": [
      "(1, 23, 128, 128, 1)\n",
      "C:\\Users\\gural\\Desktop\\animals\\sleep\\VID_20190515_185023translate.mp4\n",
      "\n"
     ]
    },
    {
     "name": "stderr",
     "output_type": "stream",
     "text": [
      "\r",
      " 54%|███████████████████████████████████████████▍                                     | 67/125 [07:43<07:28,  7.74s/it]"
     ]
    },
    {
     "name": "stdout",
     "output_type": "stream",
     "text": [
      "(1, 23, 128, 128, 1)\n",
      "C:\\Users\\gural\\Desktop\\animals\\sleep\\VID_20190515_185043Crop.mp4\n",
      "\n"
     ]
    },
    {
     "name": "stderr",
     "output_type": "stream",
     "text": [
      "\r",
      " 54%|████████████████████████████████████████████                                     | 68/125 [07:47<06:07,  6.45s/it]"
     ]
    },
    {
     "name": "stdout",
     "output_type": "stream",
     "text": [
      "(1, 23, 128, 128, 1)\n",
      "C:\\Users\\gural\\Desktop\\animals\\stand\\VID_20190327_185921translate.mp4\n",
      "\n"
     ]
    },
    {
     "name": "stderr",
     "output_type": "stream",
     "text": [
      "\r",
      " 55%|████████████████████████████████████████████▋                                    | 69/125 [07:59<07:28,  8.01s/it]"
     ]
    },
    {
     "name": "stdout",
     "output_type": "stream",
     "text": [
      "(1, 23, 128, 128, 1)\n",
      "C:\\Users\\gural\\Desktop\\animals\\cut\\VID_20190327_190445Crop.mp4\n",
      "\n"
     ]
    },
    {
     "name": "stderr",
     "output_type": "stream",
     "text": [
      "\r",
      " 56%|█████████████████████████████████████████████▎                                   | 70/125 [08:03<06:18,  6.88s/it]"
     ]
    },
    {
     "name": "stdout",
     "output_type": "stream",
     "text": [
      "(1, 23, 128, 128, 1)\n",
      "C:\\Users\\gural\\Desktop\\animals\\stand\\HorizontalFlipVID_20190327_185700.mp4\n",
      "\n"
     ]
    },
    {
     "name": "stderr",
     "output_type": "stream",
     "text": [
      "\r",
      " 57%|██████████████████████████████████████████████                                   | 71/125 [08:11<06:24,  7.13s/it]"
     ]
    },
    {
     "name": "stdout",
     "output_type": "stream",
     "text": [
      "(1, 23, 128, 128, 1)\n",
      "C:\\Users\\gural\\Desktop\\animals\\sleep\\VID_20190515_185101translate.mp4\n",
      "\n"
     ]
    },
    {
     "name": "stderr",
     "output_type": "stream",
     "text": [
      "\r",
      " 58%|██████████████████████████████████████████████▋                                  | 72/125 [08:18<06:16,  7.10s/it]"
     ]
    },
    {
     "name": "stdout",
     "output_type": "stream",
     "text": [
      "(1, 23, 128, 128, 1)\n",
      "C:\\Users\\gural\\Desktop\\animals\\stand\\VID_20190327_185727.mp4\n",
      "\n"
     ]
    },
    {
     "name": "stderr",
     "output_type": "stream",
     "text": [
      "\r",
      " 58%|███████████████████████████████████████████████▎                                 | 73/125 [08:28<07:05,  8.17s/it]"
     ]
    },
    {
     "name": "stdout",
     "output_type": "stream",
     "text": [
      "(1, 23, 128, 128, 1)\n",
      "C:\\Users\\gural\\Desktop\\animals\\stand\\HorizontalFlipVID_20190327_174526.mp4\n",
      "\n"
     ]
    },
    {
     "name": "stderr",
     "output_type": "stream",
     "text": [
      "\r",
      " 59%|███████████████████████████████████████████████▉                                 | 74/125 [08:35<06:42,  7.89s/it]"
     ]
    },
    {
     "name": "stdout",
     "output_type": "stream",
     "text": [
      "(1, 23, 128, 128, 1)\n",
      "C:\\Users\\gural\\Desktop\\animals\\fly\\VID_20190327_190045.mp4\n",
      "\n"
     ]
    },
    {
     "name": "stderr",
     "output_type": "stream",
     "text": [
      "\r",
      " 60%|████████████████████████████████████████████████▌                                | 75/125 [08:42<06:19,  7.58s/it]"
     ]
    },
    {
     "name": "stdout",
     "output_type": "stream",
     "text": [
      "(1, 23, 128, 128, 1)\n",
      "C:\\Users\\gural\\Desktop\\animals\\fly\\HorizontalFlipVID_20190327_190119.mp4\n",
      "\n"
     ]
    },
    {
     "name": "stderr",
     "output_type": "stream",
     "text": [
      "\r",
      " 61%|█████████████████████████████████████████████████▏                               | 76/125 [08:48<05:40,  6.95s/it]"
     ]
    },
    {
     "name": "stdout",
     "output_type": "stream",
     "text": [
      "(1, 23, 128, 128, 1)\n",
      "C:\\Users\\gural\\Desktop\\animals\\fly\\HorizontalFlipVID_20190327_190050Rotate40.mp4\n",
      "\n"
     ]
    },
    {
     "name": "stderr",
     "output_type": "stream",
     "text": [
      "\r",
      " 62%|█████████████████████████████████████████████████▉                               | 77/125 [08:54<05:22,  6.73s/it]"
     ]
    },
    {
     "name": "stdout",
     "output_type": "stream",
     "text": [
      "(1, 23, 128, 128, 1)\n",
      "C:\\Users\\gural\\Desktop\\animals\\stand\\HorizontalFlipVID_20190327_185921translate.mp4\n",
      "\n"
     ]
    },
    {
     "name": "stderr",
     "output_type": "stream",
     "text": [
      "\r",
      " 62%|██████████████████████████████████████████████████▌                              | 78/125 [09:06<06:28,  8.27s/it]"
     ]
    },
    {
     "name": "stdout",
     "output_type": "stream",
     "text": [
      "(1, 23, 128, 128, 1)\n",
      "C:\\Users\\gural\\Desktop\\animals\\cut\\VID_20190529_194210.mp4\n",
      "\n"
     ]
    },
    {
     "name": "stderr",
     "output_type": "stream",
     "text": [
      "\r",
      " 63%|███████████████████████████████████████████████████▏                             | 79/125 [09:13<06:00,  7.83s/it]"
     ]
    },
    {
     "name": "stdout",
     "output_type": "stream",
     "text": [
      "(1, 23, 128, 128, 1)\n",
      "C:\\Users\\gural\\Desktop\\animals\\cut\\VID_20190515_184711Rotate.mp4\n",
      "\n"
     ]
    },
    {
     "name": "stderr",
     "output_type": "stream",
     "text": [
      "\r",
      " 64%|███████████████████████████████████████████████████▊                             | 80/125 [09:20<05:49,  7.77s/it]"
     ]
    },
    {
     "name": "stdout",
     "output_type": "stream",
     "text": [
      "(1, 23, 128, 128, 1)\n",
      "C:\\Users\\gural\\Desktop\\animals\\cut\\HorizontalFlipVID_20190515_184703Crop.mp4\n",
      "\n"
     ]
    },
    {
     "name": "stderr",
     "output_type": "stream",
     "text": [
      "\r",
      " 65%|████████████████████████████████████████████████████▍                            | 81/125 [09:23<04:39,  6.34s/it]"
     ]
    },
    {
     "name": "stdout",
     "output_type": "stream",
     "text": [
      "(1, 23, 128, 128, 1)\n",
      "C:\\Users\\gural\\Desktop\\animals\\fly\\VID_20190327_175513Crop.mp4\n",
      "\n"
     ]
    },
    {
     "name": "stderr",
     "output_type": "stream",
     "text": [
      "\r",
      " 66%|█████████████████████████████████████████████████████▏                           | 82/125 [09:29<04:27,  6.22s/it]"
     ]
    },
    {
     "name": "stdout",
     "output_type": "stream",
     "text": [
      "(1, 23, 128, 128, 1)\n",
      "C:\\Users\\gural\\Desktop\\animals\\stand\\VID_20190327_174711Rotate.mp4\n",
      "\n"
     ]
    },
    {
     "name": "stderr",
     "output_type": "stream",
     "text": [
      "\r",
      " 66%|█████████████████████████████████████████████████████▊                           | 83/125 [09:38<04:48,  6.88s/it]"
     ]
    },
    {
     "name": "stdout",
     "output_type": "stream",
     "text": [
      "(1, 23, 128, 128, 1)\n",
      "C:\\Users\\gural\\Desktop\\animals\\stand\\VID_20190327_185700Crop.mp4\n",
      "\n"
     ]
    },
    {
     "name": "stderr",
     "output_type": "stream",
     "text": [
      "\r",
      " 67%|██████████████████████████████████████████████████████▍                          | 84/125 [09:42<04:10,  6.12s/it]"
     ]
    },
    {
     "name": "stdout",
     "output_type": "stream",
     "text": [
      "(1, 23, 128, 128, 1)\n",
      "C:\\Users\\gural\\Desktop\\animals\\sleep\\VID_20190327_190308translate.mp4\n",
      "\n"
     ]
    },
    {
     "name": "stderr",
     "output_type": "stream",
     "text": [
      "\r",
      " 68%|███████████████████████████████████████████████████████                          | 85/125 [09:49<04:11,  6.30s/it]"
     ]
    },
    {
     "name": "stdout",
     "output_type": "stream",
     "text": [
      "(1, 23, 128, 128, 1)\n",
      "C:\\Users\\gural\\Desktop\\animals\\fly\\VID_20190327_175513Rotate40.mp4\n",
      "\n"
     ]
    },
    {
     "name": "stderr",
     "output_type": "stream",
     "text": [
      "\r",
      " 69%|███████████████████████████████████████████████████████▋                         | 86/125 [09:59<04:56,  7.60s/it]"
     ]
    },
    {
     "name": "stdout",
     "output_type": "stream",
     "text": [
      "(1, 23, 128, 128, 1)\n",
      "C:\\Users\\gural\\Desktop\\animals\\fly\\HorizontalFlipVID_20190327_190219Crop.mp4\n",
      "\n"
     ]
    },
    {
     "name": "stderr",
     "output_type": "stream",
     "text": [
      "\r",
      " 70%|████████████████████████████████████████████████████████▍                        | 87/125 [10:02<03:56,  6.22s/it]"
     ]
    },
    {
     "name": "stdout",
     "output_type": "stream",
     "text": [
      "(1, 23, 128, 128, 1)\n",
      "C:\\Users\\gural\\Desktop\\animals\\fly\\HorizontalFlipVID_20190327_190050Rotate.mp4\n",
      "\n"
     ]
    },
    {
     "name": "stderr",
     "output_type": "stream",
     "text": [
      "\r",
      " 70%|█████████████████████████████████████████████████████████                        | 88/125 [10:09<03:50,  6.22s/it]"
     ]
    },
    {
     "name": "stdout",
     "output_type": "stream",
     "text": [
      "(1, 23, 128, 128, 1)\n",
      "C:\\Users\\gural\\Desktop\\animals\\fly\\VID_20190327_190112Crop.mp4\n",
      "\n"
     ]
    },
    {
     "name": "stderr",
     "output_type": "stream",
     "text": [
      "\r",
      " 71%|█████████████████████████████████████████████████████████▋                       | 89/125 [10:13<03:20,  5.56s/it]"
     ]
    },
    {
     "name": "stdout",
     "output_type": "stream",
     "text": [
      "(1, 23, 128, 128, 1)\n",
      "C:\\Users\\gural\\Desktop\\animals\\stand\\VID_20190327_174711translate.mp4\n",
      "\n"
     ]
    },
    {
     "name": "stderr",
     "output_type": "stream",
     "text": [
      "\r",
      " 72%|██████████████████████████████████████████████████████████▎                      | 90/125 [10:21<03:41,  6.32s/it]"
     ]
    },
    {
     "name": "stdout",
     "output_type": "stream",
     "text": [
      "(1, 23, 128, 128, 1)\n",
      "C:\\Users\\gural\\Desktop\\animals\\sleep\\VID_20190515_185000Rotate40.mp4\n",
      "\n"
     ]
    },
    {
     "name": "stderr",
     "output_type": "stream",
     "text": [
      "\r",
      " 73%|██████████████████████████████████████████████████████████▉                      | 91/125 [10:26<03:24,  6.01s/it]"
     ]
    },
    {
     "name": "stdout",
     "output_type": "stream",
     "text": [
      "(1, 23, 128, 128, 1)\n",
      "C:\\Users\\gural\\Desktop\\animals\\sleep\\HorizontalFlipVID_20190327_175047Rotate40.mp4\n",
      "\n"
     ]
    },
    {
     "name": "stderr",
     "output_type": "stream",
     "text": [
      "\r",
      " 74%|███████████████████████████████████████████████████████████▌                     | 92/125 [10:33<03:32,  6.44s/it]"
     ]
    },
    {
     "name": "stdout",
     "output_type": "stream",
     "text": [
      "(1, 23, 128, 128, 1)\n",
      "C:\\Users\\gural\\Desktop\\animals\\sleep\\HorizontalFlipVID_20190515_185000Rotate.mp4\n",
      "\n"
     ]
    },
    {
     "name": "stderr",
     "output_type": "stream",
     "text": [
      "\r",
      " 74%|████████████████████████████████████████████████████████████▎                    | 93/125 [10:39<03:16,  6.15s/it]"
     ]
    },
    {
     "name": "stdout",
     "output_type": "stream",
     "text": [
      "(1, 23, 128, 128, 1)\n",
      "C:\\Users\\gural\\Desktop\\animals\\stand\\VID_20190327_185921Rotate40.mp4\n",
      "\n"
     ]
    },
    {
     "name": "stderr",
     "output_type": "stream",
     "text": [
      "\r",
      " 75%|████████████████████████████████████████████████████████████▉                    | 94/125 [10:51<04:06,  7.96s/it]"
     ]
    },
    {
     "name": "stdout",
     "output_type": "stream",
     "text": [
      "(1, 23, 128, 128, 1)\n",
      "C:\\Users\\gural\\Desktop\\animals\\cut\\HorizontalFlipVID_20190327_190522Crop.mp4\n",
      "\n"
     ]
    },
    {
     "name": "stderr",
     "output_type": "stream",
     "text": [
      "\r",
      " 76%|█████████████████████████████████████████████████████████████▌                   | 95/125 [10:55<03:20,  6.70s/it]"
     ]
    },
    {
     "name": "stdout",
     "output_type": "stream",
     "text": [
      "(1, 23, 128, 128, 1)\n",
      "C:\\Users\\gural\\Desktop\\animals\\fly\\HorizontalFlipVID_20190327_175513Crop.mp4\n",
      "\n"
     ]
    },
    {
     "name": "stderr",
     "output_type": "stream",
     "text": [
      "\r",
      " 77%|██████████████████████████████████████████████████████████████▏                  | 96/125 [11:01<03:07,  6.45s/it]"
     ]
    },
    {
     "name": "stdout",
     "output_type": "stream",
     "text": [
      "(1, 23, 128, 128, 1)\n",
      "C:\\Users\\gural\\Desktop\\animals\\fly\\VID_20190529_194429.mp4\n",
      "\n"
     ]
    },
    {
     "name": "stderr",
     "output_type": "stream",
     "text": [
      "\r",
      " 78%|██████████████████████████████████████████████████████████████▊                  | 97/125 [11:07<03:01,  6.48s/it]"
     ]
    },
    {
     "name": "stdout",
     "output_type": "stream",
     "text": [
      "(1, 23, 128, 128, 1)\n",
      "C:\\Users\\gural\\Desktop\\animals\\cut\\HorizontalFlipVID_20190327_190440Crop.mp4\n",
      "\n"
     ]
    },
    {
     "name": "stderr",
     "output_type": "stream",
     "text": [
      "\r",
      " 78%|███████████████████████████████████████████████████████████████▌                 | 98/125 [11:11<02:32,  5.66s/it]"
     ]
    },
    {
     "name": "stdout",
     "output_type": "stream",
     "text": [
      "(1, 23, 128, 128, 1)\n",
      "C:\\Users\\gural\\Desktop\\animals\\cut\\HorizontalFlipVID_20190327_190415Rotate40.mp4\n",
      "\n"
     ]
    },
    {
     "name": "stderr",
     "output_type": "stream",
     "text": [
      "\r",
      " 79%|████████████████████████████████████████████████████████████████▏                | 99/125 [11:19<02:41,  6.22s/it]"
     ]
    },
    {
     "name": "stdout",
     "output_type": "stream",
     "text": [
      "(1, 23, 128, 128, 1)\n",
      "C:\\Users\\gural\\Desktop\\animals\\fly\\VID_20190515_184921Rotate40.mp4\n",
      "\n"
     ]
    },
    {
     "name": "stderr",
     "output_type": "stream",
     "text": [
      "\r",
      " 80%|████████████████████████████████████████████████████████████████                | 100/125 [11:25<02:41,  6.44s/it]"
     ]
    },
    {
     "name": "stdout",
     "output_type": "stream",
     "text": [
      "(1, 23, 128, 128, 1)\n",
      "C:\\Users\\gural\\Desktop\\animals\\sleep\\HorizontalFlipVID_20190327_190335Rotate40.mp4\n",
      "\n"
     ]
    },
    {
     "name": "stderr",
     "output_type": "stream",
     "text": [
      "\r",
      " 81%|████████████████████████████████████████████████████████████████▋               | 101/125 [11:32<02:35,  6.49s/it]"
     ]
    },
    {
     "name": "stdout",
     "output_type": "stream",
     "text": [
      "(1, 23, 128, 128, 1)\n",
      "C:\\Users\\gural\\Desktop\\animals\\sleep\\HorizontalFlipVID_20190515_185023Crop.mp4\n",
      "\n"
     ]
    },
    {
     "name": "stderr",
     "output_type": "stream",
     "text": [
      "\r",
      " 82%|█████████████████████████████████████████████████████████████████▎              | 102/125 [11:36<02:10,  5.69s/it]"
     ]
    },
    {
     "name": "stdout",
     "output_type": "stream",
     "text": [
      "(1, 23, 128, 128, 1)\n",
      "C:\\Users\\gural\\Desktop\\animals\\sleep\\HorizontalFlipVID_20190515_185043Crop.mp4\n",
      "\n"
     ]
    },
    {
     "name": "stderr",
     "output_type": "stream",
     "text": [
      "\r",
      " 82%|█████████████████████████████████████████████████████████████████▉              | 103/125 [11:39<01:49,  4.99s/it]"
     ]
    },
    {
     "name": "stdout",
     "output_type": "stream",
     "text": [
      "(1, 23, 128, 128, 1)\n",
      "C:\\Users\\gural\\Desktop\\animals\\stand\\HorizontalFlipVID_20190515_185142Rotate40.mp4\n",
      "\n"
     ]
    },
    {
     "name": "stderr",
     "output_type": "stream",
     "text": [
      "\r",
      " 83%|██████████████████████████████████████████████████████████████████▌             | 104/125 [11:48<02:06,  6.01s/it]"
     ]
    },
    {
     "name": "stdout",
     "output_type": "stream",
     "text": [
      "(1, 23, 128, 128, 1)\n",
      "C:\\Users\\gural\\Desktop\\animals\\cut\\VID_20190327_190427Rotate.mp4\n",
      "\n"
     ]
    },
    {
     "name": "stderr",
     "output_type": "stream",
     "text": [
      "\r",
      " 84%|███████████████████████████████████████████████████████████████████▏            | 105/125 [11:54<02:03,  6.20s/it]"
     ]
    },
    {
     "name": "stdout",
     "output_type": "stream",
     "text": [
      "(1, 23, 128, 128, 1)\n",
      "C:\\Users\\gural\\Desktop\\animals\\sleep\\HorizontalFlipVID_20190515_185106Rotate.mp4\n",
      "\n"
     ]
    },
    {
     "name": "stderr",
     "output_type": "stream",
     "text": [
      "\r",
      " 85%|███████████████████████████████████████████████████████████████████▊            | 106/125 [12:04<02:19,  7.35s/it]"
     ]
    },
    {
     "name": "stdout",
     "output_type": "stream",
     "text": [
      "(1, 23, 128, 128, 1)\n",
      "C:\\Users\\gural\\Desktop\\animals\\sleep\\VID_20190327_190339Rotate.mp4\n",
      "\n"
     ]
    },
    {
     "name": "stderr",
     "output_type": "stream",
     "text": [
      "\r",
      " 86%|████████████████████████████████████████████████████████████████████▍           | 107/125 [12:10<02:02,  6.81s/it]"
     ]
    },
    {
     "name": "stdout",
     "output_type": "stream",
     "text": [
      "(1, 23, 128, 128, 1)\n",
      "C:\\Users\\gural\\Desktop\\animals\\sleep\\VID_20190515_185101Crop.mp4\n",
      "\n"
     ]
    },
    {
     "name": "stderr",
     "output_type": "stream",
     "text": [
      "\r",
      " 86%|█████████████████████████████████████████████████████████████████████           | 108/125 [12:14<01:41,  5.98s/it]"
     ]
    },
    {
     "name": "stdout",
     "output_type": "stream",
     "text": [
      "(1, 23, 128, 128, 1)\n",
      "C:\\Users\\gural\\Desktop\\animals\\stand\\HorizontalFlipVID_20190515_185146Rotate.mp4\n",
      "\n"
     ]
    },
    {
     "name": "stderr",
     "output_type": "stream",
     "text": [
      "\r",
      " 87%|█████████████████████████████████████████████████████████████████████▊          | 109/125 [12:22<01:45,  6.58s/it]"
     ]
    },
    {
     "name": "stdout",
     "output_type": "stream",
     "text": [
      "(1, 23, 128, 128, 1)\n",
      "C:\\Users\\gural\\Desktop\\animals\\fly\\VID_20190327_190039.mp4\n",
      "\n"
     ]
    },
    {
     "name": "stderr",
     "output_type": "stream",
     "text": [
      "\r",
      " 88%|██████████████████████████████████████████████████████████████████████▍         | 110/125 [12:27<01:33,  6.26s/it]"
     ]
    },
    {
     "name": "stdout",
     "output_type": "stream",
     "text": [
      "(1, 23, 128, 128, 1)\n",
      "C:\\Users\\gural\\Desktop\\animals\\stand\\VID_20190327_185715translate.mp4\n",
      "\n"
     ]
    },
    {
     "name": "stderr",
     "output_type": "stream",
     "text": [
      "\r",
      " 89%|███████████████████████████████████████████████████████████████████████         | 111/125 [12:35<01:33,  6.69s/it]"
     ]
    },
    {
     "name": "stdout",
     "output_type": "stream",
     "text": [
      "(1, 23, 128, 128, 1)\n",
      "C:\\Users\\gural\\Desktop\\animals\\stand\\HorizontalFlipVID_20190327_174806Crop.mp4\n",
      "\n"
     ]
    },
    {
     "name": "stderr",
     "output_type": "stream",
     "text": [
      "\r",
      " 90%|███████████████████████████████████████████████████████████████████████▋        | 112/125 [12:39<01:17,  5.95s/it]"
     ]
    },
    {
     "name": "stdout",
     "output_type": "stream",
     "text": [
      "(1, 23, 128, 128, 1)\n",
      "C:\\Users\\gural\\Desktop\\animals\\sleep\\HorizontalFlipVID_20190515_185029.mp4\n",
      "\n"
     ]
    },
    {
     "name": "stderr",
     "output_type": "stream",
     "text": [
      "\r",
      " 90%|████████████████████████████████████████████████████████████████████████▎       | 113/125 [12:51<01:30,  7.54s/it]"
     ]
    },
    {
     "name": "stdout",
     "output_type": "stream",
     "text": [
      "(1, 23, 128, 128, 1)\n",
      "C:\\Users\\gural\\Desktop\\animals\\cut\\VID_20190327_190528Rotate40.mp4\n",
      "\n"
     ]
    },
    {
     "name": "stderr",
     "output_type": "stream",
     "text": [
      "\r",
      " 91%|████████████████████████████████████████████████████████████████████████▉       | 114/125 [12:57<01:20,  7.34s/it]"
     ]
    },
    {
     "name": "stdout",
     "output_type": "stream",
     "text": [
      "(1, 23, 128, 128, 1)\n",
      "C:\\Users\\gural\\Desktop\\animals\\fly\\VID_20190327_190039Rotate.mp4\n",
      "\n"
     ]
    },
    {
     "name": "stderr",
     "output_type": "stream",
     "text": [
      "\r",
      " 92%|█████████████████████████████████████████████████████████████████████████▌      | 115/125 [13:03<01:07,  6.71s/it]"
     ]
    },
    {
     "name": "stdout",
     "output_type": "stream",
     "text": [
      "(1, 23, 128, 128, 1)\n",
      "C:\\Users\\gural\\Desktop\\animals\\sleep\\VID_20190327_190344Rotate40.mp4\n",
      "\n"
     ]
    },
    {
     "name": "stderr",
     "output_type": "stream",
     "text": [
      "\r",
      " 93%|██████████████████████████████████████████████████████████████████████████▏     | 116/125 [13:09<00:59,  6.63s/it]"
     ]
    },
    {
     "name": "stdout",
     "output_type": "stream",
     "text": [
      "(1, 23, 128, 128, 1)\n",
      "C:\\Users\\gural\\Desktop\\animals\\cut\\HorizontalFlipVID_20190327_175826Crop.mp4\n",
      "\n"
     ]
    },
    {
     "name": "stderr",
     "output_type": "stream",
     "text": [
      "\r",
      " 94%|██████████████████████████████████████████████████████████████████████████▉     | 117/125 [13:13<00:45,  5.70s/it]"
     ]
    },
    {
     "name": "stdout",
     "output_type": "stream",
     "text": [
      "(1, 23, 128, 128, 1)\n",
      "C:\\Users\\gural\\Desktop\\animals\\sleep\\HorizontalFlipVID_20190327_190319Crop.mp4\n",
      "\n"
     ]
    },
    {
     "name": "stderr",
     "output_type": "stream",
     "text": [
      "\r",
      " 94%|███████████████████████████████████████████████████████████████████████████▌    | 118/125 [13:18<00:38,  5.47s/it]"
     ]
    },
    {
     "name": "stdout",
     "output_type": "stream",
     "text": [
      "(1, 23, 128, 128, 1)\n",
      "C:\\Users\\gural\\Desktop\\animals\\stand\\HorizontalFlipVID_20190327_185727.mp4\n",
      "\n"
     ]
    },
    {
     "name": "stderr",
     "output_type": "stream",
     "text": [
      "\r",
      " 95%|████████████████████████████████████████████████████████████████████████████▏   | 119/125 [13:28<00:41,  6.90s/it]"
     ]
    },
    {
     "name": "stdout",
     "output_type": "stream",
     "text": [
      "(1, 23, 128, 128, 1)\n",
      "C:\\Users\\gural\\Desktop\\animals\\stand\\HorizontalFlipVID_20190327_185927translate.mp4\n",
      "\n"
     ]
    },
    {
     "name": "stderr",
     "output_type": "stream",
     "text": [
      "\r",
      " 96%|████████████████████████████████████████████████████████████████████████████▊   | 120/125 [13:35<00:35,  7.02s/it]"
     ]
    },
    {
     "name": "stdout",
     "output_type": "stream",
     "text": [
      "(1, 23, 128, 128, 1)\n",
      "C:\\Users\\gural\\Desktop\\animals\\stand\\HorizontalFlipVID_20190327_185941.mp4\n",
      "\n"
     ]
    },
    {
     "name": "stderr",
     "output_type": "stream",
     "text": [
      "\r",
      " 97%|█████████████████████████████████████████████████████████████████████████████▍  | 121/125 [13:42<00:27,  6.98s/it]"
     ]
    },
    {
     "name": "stdout",
     "output_type": "stream",
     "text": [
      "(1, 23, 128, 128, 1)\n",
      "C:\\Users\\gural\\Desktop\\animals\\sleep\\VID_20190327_190335translate.mp4\n",
      "\n"
     ]
    },
    {
     "name": "stderr",
     "output_type": "stream",
     "text": [
      "\r",
      " 98%|██████████████████████████████████████████████████████████████████████████████  | 122/125 [13:49<00:20,  6.83s/it]"
     ]
    },
    {
     "name": "stdout",
     "output_type": "stream",
     "text": [
      "(1, 23, 128, 128, 1)\n",
      "C:\\Users\\gural\\Desktop\\animals\\sleep\\VID_20190327_174852.mp4\n",
      "\n"
     ]
    },
    {
     "name": "stderr",
     "output_type": "stream",
     "text": [
      "\r",
      " 98%|██████████████████████████████████████████████████████████████████████████████▋ | 123/125 [13:56<00:14,  7.09s/it]"
     ]
    },
    {
     "name": "stdout",
     "output_type": "stream",
     "text": [
      "(1, 23, 128, 128, 1)\n",
      "C:\\Users\\gural\\Desktop\\animals\\cut\\HorizontalFlipVID_20190327_190427translate.mp4\n",
      "\n"
     ]
    },
    {
     "name": "stderr",
     "output_type": "stream",
     "text": [
      "\r",
      " 99%|███████████████████████████████████████████████████████████████████████████████▎| 124/125 [14:03<00:06,  7.00s/it]"
     ]
    },
    {
     "name": "stdout",
     "output_type": "stream",
     "text": [
      "(1, 23, 128, 128, 1)\n",
      "C:\\Users\\gural\\Desktop\\animals\\fly\\HorizontalFlipVID_20190515_184843Rotate40.mp4\n",
      "\n"
     ]
    },
    {
     "name": "stderr",
     "output_type": "stream",
     "text": [
      "100%|████████████████████████████████████████████████████████████████████████████████| 125/125 [14:17<00:00,  9.14s/it]\n"
     ]
    },
    {
     "name": "stdout",
     "output_type": "stream",
     "text": [
      "(1, 23, 128, 128, 1)\n",
      "(1, 23, 128, 128, 1)\n",
      "(1, 23, 128, 128, 1)\n",
      "(1, 23, 128, 128, 1)\n",
      "(1, 23, 128, 128, 1)\n",
      "(1, 23, 128, 128, 1)\n",
      "(1, 23, 128, 128, 1)\n",
      "(1, 23, 128, 128, 1)\n",
      "(1, 23, 128, 128, 1)\n",
      "(1, 23, 128, 128, 1)\n",
      "(1, 23, 128, 128, 1)\n",
      "(1, 23, 128, 128, 1)\n",
      "(1, 23, 128, 128, 1)\n",
      "(1, 23, 128, 128, 1)\n",
      "(1, 23, 128, 128, 1)\n",
      "(1, 23, 128, 128, 1)\n",
      "(1, 23, 128, 128, 1)\n",
      "(1, 23, 128, 128, 1)\n",
      "(1, 23, 128, 128, 1)\n",
      "(1, 23, 128, 128, 1)\n",
      "(1, 23, 128, 128, 1)\n",
      "(1, 23, 128, 128, 1)\n",
      "(1, 23, 128, 128, 1)\n",
      "(1, 23, 128, 128, 1)\n",
      "(1, 23, 128, 128, 1)\n",
      "(1, 23, 128, 128, 1)\n",
      "(1, 23, 128, 128, 1)\n",
      "(1, 23, 128, 128, 1)\n",
      "(1, 23, 128, 128, 1)\n",
      "(1, 23, 128, 128, 1)\n",
      "(1, 23, 128, 128, 1)\n",
      "(1, 23, 128, 128, 1)\n",
      "(1, 23, 128, 128, 1)\n",
      "(1, 23, 128, 128, 1)\n",
      "(1, 23, 128, 128, 1)\n",
      "(1, 23, 128, 128, 1)\n",
      "(1, 23, 128, 128, 1)\n",
      "(1, 23, 128, 128, 1)\n",
      "(1, 23, 128, 128, 1)\n",
      "(1, 23, 128, 128, 1)\n",
      "(1, 23, 128, 128, 1)\n",
      "(1, 23, 128, 128, 1)\n",
      "(1, 23, 128, 128, 1)\n",
      "(1, 23, 128, 128, 1)\n",
      "(1, 23, 128, 128, 1)\n",
      "(1, 23, 128, 128, 1)\n",
      "(1, 23, 128, 128, 1)\n",
      "(1, 23, 128, 128, 1)\n",
      "(1, 23, 128, 128, 1)\n",
      "(1, 23, 128, 128, 1)\n",
      "(1, 23, 128, 128, 1)\n",
      "(1, 23, 128, 128, 1)\n",
      "(1, 23, 128, 128, 1)\n",
      "(1, 23, 128, 128, 1)\n",
      "(1, 23, 128, 128, 1)\n",
      "(1, 23, 128, 128, 1)\n",
      "(1, 23, 128, 128, 1)\n",
      "(1, 23, 128, 128, 1)\n",
      "(1, 23, 128, 128, 1)\n",
      "(1, 23, 128, 128, 1)\n",
      "(1, 23, 128, 128, 1)\n",
      "(1, 23, 128, 128, 1)\n",
      "(1, 23, 128, 128, 1)\n",
      "(1, 23, 128, 128, 1)\n",
      "(1, 23, 128, 128, 1)\n",
      "(1, 23, 128, 128, 1)\n",
      "(1, 23, 128, 128, 1)\n",
      "(1, 23, 128, 128, 1)\n",
      "(1, 23, 128, 128, 1)\n",
      "(1, 23, 128, 128, 1)\n",
      "(1, 23, 128, 128, 1)\n",
      "(1, 23, 128, 128, 1)\n",
      "(1, 23, 128, 128, 1)\n",
      "(1, 23, 128, 128, 1)\n",
      "(1, 23, 128, 128, 1)\n",
      "(1, 23, 128, 128, 1)\n",
      "(1, 23, 128, 128, 1)\n",
      "(1, 23, 128, 128, 1)\n",
      "(1, 23, 128, 128, 1)\n",
      "(1, 23, 128, 128, 1)\n",
      "(1, 23, 128, 128, 1)\n",
      "(1, 23, 128, 128, 1)\n",
      "(1, 23, 128, 128, 1)\n",
      "(1, 23, 128, 128, 1)\n",
      "(1, 23, 128, 128, 1)\n",
      "(1, 23, 128, 128, 1)\n",
      "(1, 23, 128, 128, 1)\n",
      "(1, 23, 128, 128, 1)\n",
      "(1, 23, 128, 128, 1)\n",
      "(1, 23, 128, 128, 1)\n",
      "(1, 23, 128, 128, 1)\n",
      "(1, 23, 128, 128, 1)\n",
      "(1, 23, 128, 128, 1)\n",
      "(1, 23, 128, 128, 1)\n",
      "(1, 23, 128, 128, 1)\n",
      "(1, 23, 128, 128, 1)\n",
      "(1, 23, 128, 128, 1)\n",
      "(1, 23, 128, 128, 1)\n",
      "(1, 23, 128, 128, 1)\n",
      "(1, 23, 128, 128, 1)\n",
      "(1, 23, 128, 128, 1)\n",
      "(1, 23, 128, 128, 1)\n",
      "(1, 23, 128, 128, 1)\n",
      "(1, 23, 128, 128, 1)\n",
      "(1, 23, 128, 128, 1)\n",
      "(1, 23, 128, 128, 1)\n",
      "(1, 23, 128, 128, 1)\n",
      "(1, 23, 128, 128, 1)\n",
      "(1, 23, 128, 128, 1)\n",
      "(1, 23, 128, 128, 1)\n",
      "(1, 23, 128, 128, 1)\n",
      "(1, 23, 128, 128, 1)\n",
      "(1, 23, 128, 128, 1)\n",
      "(1, 23, 128, 128, 1)\n",
      "(1, 23, 128, 128, 1)\n",
      "(1, 23, 128, 128, 1)\n",
      "(1, 23, 128, 128, 1)\n",
      "(1, 23, 128, 128, 1)\n",
      "(1, 23, 128, 128, 1)\n",
      "(1, 23, 128, 128, 1)\n",
      "(1, 23, 128, 128, 1)\n",
      "(1, 23, 128, 128, 1)\n",
      "(1, 23, 128, 128, 1)\n",
      "(1, 23, 128, 128, 1)\n",
      "(1, 23, 128, 128, 1)\n",
      "Shape of testing data: (125, 23, 128, 128, 1)\n",
      "Shape of testing labels: (125, 4)\n"
     ]
    }
   ],
   "source": [
    "# Reading testing videos and one-hot encoding the testing labels\n",
    "X_test = reader.read_videos(test_files)\n",
    "y_test = to_categorical(test_targets, num_classes=4)\n",
    "print('Shape of testing data:', X_test.shape)\n",
    "print('Shape of testing labels:', y_test.shape)"
   ]
  },
  {
   "cell_type": "code",
   "execution_count": null,
   "metadata": {},
   "outputs": [
    {
     "name": "stdout",
     "output_type": "stream",
     "text": [
      "(23, 128, 128, 1)\n"
     ]
    }
   ],
   "source": [
    "print(X_train.shape[1:])"
   ]
  },
  {
   "cell_type": "code",
   "execution_count": null,
   "metadata": {},
   "outputs": [
    {
     "name": "stdout",
     "output_type": "stream",
     "text": [
      "_________________________________________________________________\n",
      "Layer (type)                 Output Shape              Param #   \n",
      "=================================================================\n",
      "conv3d_6 (Conv3D)            (None, 5, 128, 128, 4)    112       \n",
      "_________________________________________________________________\n",
      "dense_6 (Dense)              (None, 5, 128, 128, 128)  640       \n",
      "_________________________________________________________________\n",
      "conv3d_7 (Conv3D)            (None, 1, 126, 126, 64)   221248    \n",
      "_________________________________________________________________\n",
      "conv3d_8 (Conv3D)            (None, 1, 124, 124, 128)  73856     \n",
      "_________________________________________________________________\n",
      "conv3d_9 (Conv3D)            (None, 1, 122, 122, 256)  295168    \n",
      "_________________________________________________________________\n",
      "max_pooling3d_3 (MaxPooling3 (None, 1, 61, 61, 256)    0         \n",
      "_________________________________________________________________\n",
      "dense_7 (Dense)              (None, 1, 61, 61, 128)    32896     \n",
      "_________________________________________________________________\n",
      "conv3d_10 (Conv3D)           (None, 1, 59, 59, 512)    590336    \n",
      "_________________________________________________________________\n",
      "max_pooling3d_4 (MaxPooling3 (None, 1, 30, 30, 512)    0         \n",
      "_________________________________________________________________\n",
      "global_average_pooling3d_2 ( (None, 512)               0         \n",
      "_________________________________________________________________\n",
      "dense_8 (Dense)              (None, 64)                32832     \n",
      "_________________________________________________________________\n",
      "dropout_2 (Dropout)          (None, 64)                0         \n",
      "_________________________________________________________________\n",
      "dense_9 (Dense)              (None, 32)                2080      \n",
      "_________________________________________________________________\n",
      "dense_10 (Dense)             (None, 4)                 132       \n",
      "=================================================================\n",
      "Total params: 1,249,300\n",
      "Trainable params: 1,249,300\n",
      "Non-trainable params: 0\n",
      "_________________________________________________________________\n"
     ]
    }
   ],
   "source": [
    "# Imports\n",
    "from keras.models import Sequential\n",
    "from keras.layers import Conv3D, MaxPooling3D, GlobalAveragePooling3D\n",
    "from keras.layers.core import Dense,Dropout\n",
    "\n",
    "# Using the Sequential Model\n",
    "model = Sequential()\n",
    "\n",
    "# Adding Alternate convolutional and pooling layers\n",
    "model.add(Conv3D(filters=4, kernel_size=(3, 3, 3), strides=(5, 1, 1), padding='same', activation='relu', \n",
    "                 input_shape=X_train.shape[1:]))\n",
    "model.add(Dense(128, activation='relu'))\n",
    "\n",
    "\n",
    "model.add(Conv3D(filters=64, kernel_size=(3, 3, 3), strides=(3, 1, 1), padding='valid', activation='relu'))\n",
    "model.add(Conv3D(filters=128, kernel_size=(1, 3, 3), strides=(3, 1, 1), padding='valid', activation='relu'))\n",
    "model.add(Conv3D(filters=256, kernel_size=(1, 3, 3), strides=(3, 1, 1), padding='valid', activation='relu'))\n",
    "model.add(MaxPooling3D(pool_size=2, strides=(1, 2, 2), padding='same'))\n",
    "model.add(Dense(128, activation='relu'))\n",
    "\n",
    "model.add(Conv3D(filters=512, kernel_size=(1, 3, 3), strides=(3, 1, 1), padding='valid', activation='relu'))\n",
    "model.add(MaxPooling3D(pool_size=2, strides=(1, 2, 2), padding='same'))\n",
    "\n",
    "# A global average pooling layer to get a 1-d vector\n",
    "# The vector will have a depth (same as number of elements in the vector) of 256\n",
    "model.add(GlobalAveragePooling3D())\n",
    "\n",
    "# The Global average pooling layer is followed by a fully-connected neural network, with one hidden and one output layer\n",
    "\n",
    "# Hidden Layer\n",
    "model.add(Dense(64, activation='relu'))\n",
    "model.add(Dropout(0.3))\n",
    "model.add(Dense(32, activation='relu'))\n",
    "\n",
    "# Output layer\n",
    "model.add(Dense(4, activation='softmax'))\n",
    "\n",
    "model.summary()"
   ]
  },
  {
   "cell_type": "code",
   "execution_count": null,
   "metadata": {
    "scrolled": true
   },
   "outputs": [
    {
     "name": "stdout",
     "output_type": "stream",
     "text": [
      "Train on 500 samples, validate on 121 samples\n",
      "Epoch 1/60\n",
      " - 3306s - loss: 1.4043 - acc: 0.2560 - val_loss: 1.4009 - val_acc: 0.2479\n",
      "\n",
      "Epoch 00001: val_loss improved from inf to 1.40088, saving model to actions.best.hdf5\n",
      "Epoch 2/60\n",
      " - 2008s - loss: 1.3930 - acc: 0.2620 - val_loss: 1.4107 - val_acc: 0.2562\n",
      "\n",
      "Epoch 00002: val_loss did not improve from 1.40088\n",
      "Epoch 3/60\n",
      " - 2060s - loss: 1.4178 - acc: 0.2560 - val_loss: 1.3894 - val_acc: 0.2149\n",
      "\n",
      "Epoch 00003: val_loss improved from 1.40088 to 1.38935, saving model to actions.best.hdf5\n",
      "Epoch 4/60\n",
      " - 1927s - loss: 1.3930 - acc: 0.2500 - val_loss: 1.3861 - val_acc: 0.2810\n",
      "\n",
      "Epoch 00004: val_loss improved from 1.38935 to 1.38609, saving model to actions.best.hdf5\n",
      "Epoch 5/60\n"
     ]
    }
   ],
   "source": [
    "# Imports\n",
    "from tensorflow.keras import applications\n",
    "from tensorflow.keras import optimizers\n",
    "from tensorflow.keras.models import Sequential, Model \n",
    "from tensorflow.keras.callbacks import ModelCheckpoint, EarlyStopping, Callback\n",
    "import tensorflow\n",
    "from keras.optimizers import Adam\n",
    "\n",
    "class LossAccHistory(Callback):\n",
    "    def on_train_begin(self, logs={}):\n",
    "        self.losses = []\n",
    "        self.accuracy = []\n",
    "\n",
    "    def on_batch_end(self, batch, logs={}):\n",
    "        self.losses.append(logs.get('loss'))\n",
    "        self.accuracy.append(logs.get('acc'))\n",
    "        \n",
    "history = LossAccHistory()\n",
    "\n",
    "\n",
    "# Compiling the model\n",
    "model.compile(loss = \"categorical_crossentropy\", optimizer = Adam(lr=0.0008,\n",
    "    beta_1=0.9,\n",
    "    beta_2=0.999,\n",
    "    epsilon=None,\n",
    "    decay=0.0,\n",
    "    amsgrad=False), metrics=[\"accuracy\"])\n",
    "\n",
    "# Saving the model that performed the best on the validation set\n",
    "checkpoint = ModelCheckpoint(filepath='actions.best.hdf5', save_best_only=True, \n",
    "                             verbose=1,save_weights_only=False, mode='auto')\n",
    "\n",
    "# Training the model for 40 epochs\n",
    "history = model.fit(X_train, y_train, batch_size=100, epochs=60, \n",
    "                    validation_data=(X_valid, y_valid), verbose=2, callbacks = [history, checkpoint])"
   ]
  },
  {
   "cell_type": "code",
   "execution_count": 13,
   "metadata": {},
   "outputs": [
    {
     "name": "stdout",
     "output_type": "stream",
     "text": [
      "Accuracy on test data: 58.82%\n"
     ]
    }
   ],
   "source": [
    "# Loading the model that performed the best on the validation set\n",
    "model.load_weights('clothes.best.hdf5')\n",
    "\n",
    "# Testing the model on the Test data\n",
    "(loss, accuracy) = model.evaluate(X_test, y_test, batch_size=70, verbose=0)\n",
    "\n",
    "print('Accuracy on test data: {:.2f}%'.format(accuracy * 100))"
   ]
  },
  {
   "cell_type": "code",
   "execution_count": 17,
   "metadata": {},
   "outputs": [
    {
     "name": "stdout",
     "output_type": "stream",
     "text": [
      "Train on 525 samples, validate on 146 samples\n",
      "Epoch 1/40\n",
      "\n",
      "Epoch 00001: val_loss improved from inf to 1.45895, saving model to Model_1.batchsize70.bestContinue.hdf5\n",
      " - 2454s - loss: 1.6351 - acc: 0.2648 - val_loss: 1.4589 - val_acc: 0.2603\n",
      "Epoch 2/40\n"
     ]
    },
    {
     "ename": "KeyboardInterrupt",
     "evalue": "",
     "output_type": "error",
     "traceback": [
      "\u001b[1;31m---------------------------------------------------------------------------\u001b[0m",
      "\u001b[1;31mKeyboardInterrupt\u001b[0m                         Traceback (most recent call last)",
      "\u001b[1;32m<ipython-input-17-acf6b66628c1>\u001b[0m in \u001b[0;36m<module>\u001b[1;34m\u001b[0m\n\u001b[0;32m     17\u001b[0m \u001b[1;31m# Training the model for 40 epochs\u001b[0m\u001b[1;33m\u001b[0m\u001b[1;33m\u001b[0m\u001b[1;33m\u001b[0m\u001b[0m\n\u001b[0;32m     18\u001b[0m history = model.fit(X_train, y_train, batch_size=70, epochs=40, \n\u001b[1;32m---> 19\u001b[1;33m                     validation_data=(X_valid, y_valid), verbose=2, callbacks = [history, checkpoint])\n\u001b[0m",
      "\u001b[1;32mC:\\ProgramData\\Anaconda3\\envs\\py36\\lib\\site-packages\\tensorflow\\python\\keras\\engine\\training.py\u001b[0m in \u001b[0;36mfit\u001b[1;34m(self, x, y, batch_size, epochs, verbose, callbacks, validation_split, validation_data, shuffle, class_weight, sample_weight, initial_epoch, steps_per_epoch, validation_steps, max_queue_size, workers, use_multiprocessing, **kwargs)\u001b[0m\n\u001b[0;32m   1637\u001b[0m           \u001b[0minitial_epoch\u001b[0m\u001b[1;33m=\u001b[0m\u001b[0minitial_epoch\u001b[0m\u001b[1;33m,\u001b[0m\u001b[1;33m\u001b[0m\u001b[1;33m\u001b[0m\u001b[0m\n\u001b[0;32m   1638\u001b[0m           \u001b[0msteps_per_epoch\u001b[0m\u001b[1;33m=\u001b[0m\u001b[0msteps_per_epoch\u001b[0m\u001b[1;33m,\u001b[0m\u001b[1;33m\u001b[0m\u001b[1;33m\u001b[0m\u001b[0m\n\u001b[1;32m-> 1639\u001b[1;33m           validation_steps=validation_steps)\n\u001b[0m\u001b[0;32m   1640\u001b[0m \u001b[1;33m\u001b[0m\u001b[0m\n\u001b[0;32m   1641\u001b[0m   def evaluate(self,\n",
      "\u001b[1;32mC:\\ProgramData\\Anaconda3\\envs\\py36\\lib\\site-packages\\tensorflow\\python\\keras\\engine\\training_arrays.py\u001b[0m in \u001b[0;36mfit_loop\u001b[1;34m(model, inputs, targets, sample_weights, batch_size, epochs, verbose, callbacks, val_inputs, val_targets, val_sample_weights, shuffle, initial_epoch, steps_per_epoch, validation_steps)\u001b[0m\n\u001b[0;32m    213\u001b[0m           \u001b[0mins_batch\u001b[0m\u001b[1;33m[\u001b[0m\u001b[0mi\u001b[0m\u001b[1;33m]\u001b[0m \u001b[1;33m=\u001b[0m \u001b[0mins_batch\u001b[0m\u001b[1;33m[\u001b[0m\u001b[0mi\u001b[0m\u001b[1;33m]\u001b[0m\u001b[1;33m.\u001b[0m\u001b[0mtoarray\u001b[0m\u001b[1;33m(\u001b[0m\u001b[1;33m)\u001b[0m\u001b[1;33m\u001b[0m\u001b[1;33m\u001b[0m\u001b[0m\n\u001b[0;32m    214\u001b[0m \u001b[1;33m\u001b[0m\u001b[0m\n\u001b[1;32m--> 215\u001b[1;33m         \u001b[0mouts\u001b[0m \u001b[1;33m=\u001b[0m \u001b[0mf\u001b[0m\u001b[1;33m(\u001b[0m\u001b[0mins_batch\u001b[0m\u001b[1;33m)\u001b[0m\u001b[1;33m\u001b[0m\u001b[1;33m\u001b[0m\u001b[0m\n\u001b[0m\u001b[0;32m    216\u001b[0m         \u001b[1;32mif\u001b[0m \u001b[1;32mnot\u001b[0m \u001b[0misinstance\u001b[0m\u001b[1;33m(\u001b[0m\u001b[0mouts\u001b[0m\u001b[1;33m,\u001b[0m \u001b[0mlist\u001b[0m\u001b[1;33m)\u001b[0m\u001b[1;33m:\u001b[0m\u001b[1;33m\u001b[0m\u001b[1;33m\u001b[0m\u001b[0m\n\u001b[0;32m    217\u001b[0m           \u001b[0mouts\u001b[0m \u001b[1;33m=\u001b[0m \u001b[1;33m[\u001b[0m\u001b[0mouts\u001b[0m\u001b[1;33m]\u001b[0m\u001b[1;33m\u001b[0m\u001b[1;33m\u001b[0m\u001b[0m\n",
      "\u001b[1;32mC:\\ProgramData\\Anaconda3\\envs\\py36\\lib\\site-packages\\tensorflow\\python\\keras\\backend.py\u001b[0m in \u001b[0;36m__call__\u001b[1;34m(self, inputs)\u001b[0m\n\u001b[0;32m   2984\u001b[0m \u001b[1;33m\u001b[0m\u001b[0m\n\u001b[0;32m   2985\u001b[0m     fetched = self._callable_fn(*array_vals,\n\u001b[1;32m-> 2986\u001b[1;33m                                 run_metadata=self.run_metadata)\n\u001b[0m\u001b[0;32m   2987\u001b[0m     \u001b[0mself\u001b[0m\u001b[1;33m.\u001b[0m\u001b[0m_call_fetch_callbacks\u001b[0m\u001b[1;33m(\u001b[0m\u001b[0mfetched\u001b[0m\u001b[1;33m[\u001b[0m\u001b[1;33m-\u001b[0m\u001b[0mlen\u001b[0m\u001b[1;33m(\u001b[0m\u001b[0mself\u001b[0m\u001b[1;33m.\u001b[0m\u001b[0m_fetches\u001b[0m\u001b[1;33m)\u001b[0m\u001b[1;33m:\u001b[0m\u001b[1;33m]\u001b[0m\u001b[1;33m)\u001b[0m\u001b[1;33m\u001b[0m\u001b[1;33m\u001b[0m\u001b[0m\n\u001b[0;32m   2988\u001b[0m     \u001b[1;32mreturn\u001b[0m \u001b[0mfetched\u001b[0m\u001b[1;33m[\u001b[0m\u001b[1;33m:\u001b[0m\u001b[0mlen\u001b[0m\u001b[1;33m(\u001b[0m\u001b[0mself\u001b[0m\u001b[1;33m.\u001b[0m\u001b[0moutputs\u001b[0m\u001b[1;33m)\u001b[0m\u001b[1;33m]\u001b[0m\u001b[1;33m\u001b[0m\u001b[1;33m\u001b[0m\u001b[0m\n",
      "\u001b[1;32mC:\\ProgramData\\Anaconda3\\envs\\py36\\lib\\site-packages\\tensorflow\\python\\client\\session.py\u001b[0m in \u001b[0;36m__call__\u001b[1;34m(self, *args, **kwargs)\u001b[0m\n\u001b[0;32m   1437\u001b[0m           ret = tf_session.TF_SessionRunCallable(\n\u001b[0;32m   1438\u001b[0m               \u001b[0mself\u001b[0m\u001b[1;33m.\u001b[0m\u001b[0m_session\u001b[0m\u001b[1;33m.\u001b[0m\u001b[0m_session\u001b[0m\u001b[1;33m,\u001b[0m \u001b[0mself\u001b[0m\u001b[1;33m.\u001b[0m\u001b[0m_handle\u001b[0m\u001b[1;33m,\u001b[0m \u001b[0margs\u001b[0m\u001b[1;33m,\u001b[0m \u001b[0mstatus\u001b[0m\u001b[1;33m,\u001b[0m\u001b[1;33m\u001b[0m\u001b[1;33m\u001b[0m\u001b[0m\n\u001b[1;32m-> 1439\u001b[1;33m               run_metadata_ptr)\n\u001b[0m\u001b[0;32m   1440\u001b[0m         \u001b[1;32mif\u001b[0m \u001b[0mrun_metadata\u001b[0m\u001b[1;33m:\u001b[0m\u001b[1;33m\u001b[0m\u001b[1;33m\u001b[0m\u001b[0m\n\u001b[0;32m   1441\u001b[0m           \u001b[0mproto_data\u001b[0m \u001b[1;33m=\u001b[0m \u001b[0mtf_session\u001b[0m\u001b[1;33m.\u001b[0m\u001b[0mTF_GetBuffer\u001b[0m\u001b[1;33m(\u001b[0m\u001b[0mrun_metadata_ptr\u001b[0m\u001b[1;33m)\u001b[0m\u001b[1;33m\u001b[0m\u001b[1;33m\u001b[0m\u001b[0m\n",
      "\u001b[1;31mKeyboardInterrupt\u001b[0m: "
     ]
    }
   ],
   "source": [
    "from tensorflow.keras.models import load_model\n",
    "# Imports\n",
    "from tensorflow.keras import applications\n",
    "from tensorflow.keras import optimizers\n",
    "from tensorflow.keras.models import Sequential, Model \n",
    "from tensorflow.keras.callbacks import ModelCheckpoint, EarlyStopping, Callback\n",
    "import tensorflow\n",
    "from keras.optimizers import Adam\n",
    "\n",
    "\n",
    "# Saving the model that performed the best on the validation set\n",
    "checkpoint = ModelCheckpoint(filepath='Model_1.batchsize70.bestContinue.hdf5', save_best_only=True, \n",
    "                             verbose=1,save_weights_only=False, mode='auto')\n",
    "\n",
    "\n",
    "model = load_model('Model_1.weights.best.hdf5')\n",
    "# Training the model for 40 epochs\n",
    "history = model.fit(X_train, y_train, batch_size=70, epochs=40, \n",
    "                    validation_data=(X_valid, y_valid), verbose=2, callbacks = [history, checkpoint])"
   ]
  },
  {
   "cell_type": "code",
   "execution_count": null,
   "metadata": {},
   "outputs": [],
   "source": []
  }
 ],
 "metadata": {
  "kernelspec": {
   "display_name": "Python 3",
   "language": "python",
   "name": "python3"
  },
  "language_info": {
   "codemirror_mode": {
    "name": "ipython",
    "version": 3
   },
   "file_extension": ".py",
   "mimetype": "text/x-python",
   "name": "python",
   "nbconvert_exporter": "python",
   "pygments_lexer": "ipython3",
   "version": "3.6.7"
  }
 },
 "nbformat": 4,
 "nbformat_minor": 2
}
