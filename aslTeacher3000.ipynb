{
 "cells": [
  {
   "cell_type": "code",
   "execution_count": 1,
   "metadata": {},
   "outputs": [
    {
     "name": "stderr",
     "output_type": "stream",
     "text": [
      "Using TensorFlow backend.\n"
     ]
    }
   ],
   "source": [
    "import numpy as np\n",
    "from skvideo.io import FFmpegReader, ffprobe\n",
    "from skvideo.utils import rgb2gray\n",
    "from PIL import Image\n",
    "from keras.preprocessing import image\n",
    "from tqdm import tqdm\n",
    "import matplotlib.pyplot as plt\n",
    "\n",
    "\n",
    "class Videos(object):\n",
    "\n",
    "    def __init__(self, target_size=None, to_gray=True, max_frames=None,\n",
    "                 extract_frames='middle', required_fps=None,\n",
    "                 normalize_pixels=None):\n",
    "        \"\"\"\n",
    "        Initializing the config variables\n",
    "        Parameters:\n",
    "            target_size (tuple): (New_Width, New_Height), Default 'None'\n",
    "                A tuple denoting the target width and height of each frame in each of the video\n",
    "            to_gray (boolean): Default 'True'\n",
    "                If True, then each frame will be converted to gray scale. Otherwise, not.\n",
    "            max_frames (int): Default 'None'\n",
    "                The maximum number of frames to return for each video.\n",
    "                Extra frames are removed based on the value of 'extract_frames'.\n",
    "            extract_frames (str): {'first', 'middle', 'last'}, Default 'middle'\n",
    "                'first': Extract the first 'N' frames\n",
    "                'last': Extract the last 'N' frames\n",
    "                'middle': Extract 'N' frames from the middle\n",
    "                    Remove ((total_frames - max_frames) // 2) frames from the beginning as well as the end\n",
    "            required_fps (int): Default 'None'\n",
    "                Capture 'N' frame(s) per second from the video.\n",
    "                Only the first 'N' frame(s) for each second in the video are captured.\n",
    "            normalize_pixels (tuple/str): Default 'None'\n",
    "                If 'None', the pixels will not be normalized.\n",
    "                If a tuple - (New_min, New_max) is passed, Min-max Normalization will be used.\n",
    "                If the value is 'z-score', then Z-score Normalization will be used.\n",
    "                For each pixel p, z_score = (p - mean) / std\n",
    "        \"\"\"\n",
    "\n",
    "        self.target_size = target_size\n",
    "        self.to_gray = to_gray\n",
    "        self.max_frames = max_frames\n",
    "        self.extract_frames = extract_frames\n",
    "        self.required_fps = required_fps\n",
    "        self.normalize_pixels = normalize_pixels\n",
    "        self.fps = None\n",
    "\n",
    "    def read_videos(self, paths):\n",
    "        \"\"\"\n",
    "        Parameters:\n",
    "            paths (list): Required\n",
    "                 A list of paths of the videos to be read\n",
    "        Returns:\n",
    "            Numpy.ndarray\n",
    "                A 5-d tensor with shape (<No. of Videos>, <No. of frames>, <height>, <width>, <channels>)\n",
    "        \"\"\"\n",
    "\n",
    "        list_of_videos = [\n",
    "            self._read_video(path) for path in tqdm(paths)\n",
    "        ]\n",
    "        for video in list_of_videos:\n",
    "            print(video.shape)            \n",
    "        tensor = np.vstack(list_of_videos)\n",
    "\n",
    "        if self.normalize_pixels != None:\n",
    "            # Pixels are normalized for each video individually\n",
    "            if (type(self.normalize_pixels) == tuple) and (len(self.normalize_pixels) == 2):\n",
    "                base = self.normalize_pixels[0]\n",
    "                r = self.normalize_pixels[1] - base\n",
    "                min_ = np.min(tensor, axis=(1, 2, 3), keepdims=True)\n",
    "                max_ = np.max(tensor, axis=(1, 2, 3), keepdims=True)\n",
    "                return ((tensor.astype('float32') - min_) / (max_ - min_)) * r + base\n",
    "\n",
    "            elif self.normalize_pixels == 'z-score':\n",
    "                mean = np.mean(tensor, axis=(1, 2, 3), keepdims=True)\n",
    "                std = np.std(tensor, axis=(1, 2, 3), keepdims=True)\n",
    "                return (tensor.astype('float32') - mean) / std\n",
    "            \n",
    "            else:\n",
    "                raise ValueError('Invalid value of \\'normalize_pixels\\'')\n",
    "\n",
    "        return tensor\n",
    "\n",
    "    def get_frame_count(self, paths):\n",
    "        \"\"\"\n",
    "        Can be used to determine the value of `max_frames`\n",
    "        Parameters:\n",
    "            paths (list): Required\n",
    "                 A list of paths of the videos to be read\n",
    "        Returns:\n",
    "            dict (python dictionary)\n",
    "                For each video, the total number of frames in that video is stored in the dictionary.\n",
    "        \"\"\"\n",
    "\n",
    "        frame_count = {}\n",
    "        for path in paths:\n",
    "            cap = FFmpegReader(filename=path)\n",
    "            frame_count[path] = cap.inputframenum\n",
    "            cap.close()\n",
    "\n",
    "        return frame_count\n",
    "\n",
    "    def _read_video(self, path):\n",
    "        \"\"\"\n",
    "        Parameters:\n",
    "            path (str): Required\n",
    "                Path of the video to be read\n",
    "        Returns:\n",
    "            Numpy.ndarray\n",
    "                A 5-d tensor with shape (1, <No. of frames>, <height>, <width>, <channels>)\n",
    "        \"\"\"\n",
    "\n",
    "        cap = FFmpegReader(filename=path)\n",
    "        list_of_frames = []\n",
    "        self.fps = int(cap.inputfps)                  # Frame Rate\n",
    "\n",
    "        for index, frame in enumerate(cap.nextFrame()):\n",
    "\n",
    "            capture_frame = True\n",
    "            if self.required_fps != None:\n",
    "                is_valid = range(self.required_fps)\n",
    "                capture_frame = (index % self.fps) in is_valid\n",
    "\n",
    "            if capture_frame:\n",
    "\n",
    "                if self.target_size is not None:\n",
    "                    temp_image = image.array_to_img(frame)\n",
    "                    frame = image.img_to_array(\n",
    "                        temp_image.resize(\n",
    "                            self.target_size,\n",
    "                            Image.ANTIALIAS)).astype('uint8')\n",
    "\n",
    "                # Shape of each frame -> (<height>, <width>, 3)\n",
    "                list_of_frames.append(frame)\n",
    "\n",
    "        temp_video = np.stack(list_of_frames)\n",
    "        cap.close()\n",
    "\n",
    "        if self.to_gray:\n",
    "            temp_video = rgb2gray(temp_video)\n",
    "                \n",
    "        if self.max_frames is not None:\n",
    "            temp_video = self._process_video(video=temp_video,path=path)            \n",
    "        print(np.expand_dims(temp_video, axis=0).shape)\n",
    "        print(path)\n",
    "        print(\"\")\n",
    "        return np.expand_dims(temp_video, axis=0)\n",
    "\n",
    "    def _process_video(self, video,path):\n",
    "        \"\"\"\n",
    "        Parameters:\n",
    "            video (Numpy.ndarray):\n",
    "                Shape = (<No. of frames>, <height>, <width>, <channels>)\n",
    "                Video whose frames are to be extracted\n",
    "        Returns:\n",
    "            Numpy.ndarray\n",
    "                A tensor (processed video) with shape (<`max_frames`>, <height>, <width>, <channels>)\n",
    "        \"\"\"        \n",
    "        \n",
    "        total_frames = video.shape[0]\n",
    "        if self.max_frames <= total_frames:\n",
    "            if self.extract_frames == 'first':\n",
    "                video = video[:self.max_frames]\n",
    "            elif self.extract_frames == 'last':\n",
    "                video = video[(total_frames - self.max_frames):]\n",
    "            elif self.extract_frames == 'middle':\n",
    "                # No. of frames to remove from the front\n",
    "                front = ((total_frames - self.max_frames) // 2) + 1\n",
    "                video = video[front:(front + self.max_frames)]            \n",
    "            else:\n",
    "                raise ValueError('Invalid value of \\'extract_frames\\'')                \n",
    "        else:\n",
    "            raise ValueError('Invalid number of frames')                \n",
    "        return video"
   ]
  },
  {
   "cell_type": "code",
   "execution_count": 2,
   "metadata": {},
   "outputs": [
    {
     "name": "stdout",
     "output_type": "stream",
     "text": [
      "Total number of videos: 836\n",
      "\n",
      "Number of videos in training data: 550\n",
      "Number of videos in validation data: 146\n",
      "Number of videos in test data: 140\n"
     ]
    }
   ],
   "source": [
    "# Imports\n",
    "import os\n",
    "from sklearn.datasets import load_files\n",
    "from sklearn.model_selection import train_test_split\n",
    "\n",
    "# Loading the data\n",
    "raw_data = load_files(r\"C:\\Users\\gural\\Desktop\\animals\", shuffle=False)\n",
    "files = raw_data['filenames']\n",
    "targets = raw_data['target']\n",
    "\n",
    "# Randomly dividing the whole data into training (66.67%) and testing (33.33%) data \n",
    "train_files, test_files, train_targets, test_targets = train_test_split(files, targets, test_size=1/6, random_state=191)\n",
    "\n",
    "# Taking ~25% of the training data for validation\n",
    "valid_files = train_files[550:]\n",
    "valid_targets = train_targets[550:]\n",
    "\n",
    "# Remaining data will be used for training the model\n",
    "train_files = train_files[:550]\n",
    "train_targets = train_targets[:550]\n",
    "\n",
    "# Generic details about the data\n",
    "print('Total number of videos:', len(files))\n",
    "print('\\nNumber of videos in training data:', train_files.shape[0])\n",
    "print('Number of videos in validation data:', valid_files.shape[0])\n",
    "print('Number of videos in test data:', test_files.shape[0])"
   ]
  },
  {
   "cell_type": "code",
   "execution_count": 3,
   "metadata": {},
   "outputs": [
    {
     "name": "stdout",
     "output_type": "stream",
     "text": [
      "The categorical labels are converted into integers.\n",
      "Following is the mapping - \n",
      "\n",
      "(0, 'alligator')\n",
      "(1, 'bull')\n",
      "(2, 'mouse')\n",
      "(3, 'tiger')\n"
     ]
    }
   ],
   "source": [
    "print('The categorical labels are converted into integers.\\nFollowing is the mapping - \\n')\n",
    "for label in zip(range(16), raw_data['target_names']):\n",
    "    print(label)"
   ]
  },
  {
   "cell_type": "code",
   "execution_count": 4,
   "metadata": {},
   "outputs": [
    {
     "name": "stdout",
     "output_type": "stream",
     "text": [
      "('C:\\\\Users\\\\gural\\\\Desktop\\\\animals\\\\tiger\\\\HorizontalFlipVID_20190327_185427.mp4', 3)\n",
      "('C:\\\\Users\\\\gural\\\\Desktop\\\\animals\\\\alligator\\\\HorizontalFlipVID_20190327_184404Crop.mp4', 0)\n",
      "('C:\\\\Users\\\\gural\\\\Desktop\\\\animals\\\\mouse\\\\VID_20190327_185153Rotate.mp4', 2)\n",
      "('C:\\\\Users\\\\gural\\\\Desktop\\\\animals\\\\tiger\\\\VID_20190515_183740.mp4', 3)\n",
      "('C:\\\\Users\\\\gural\\\\Desktop\\\\animals\\\\bull\\\\HorizontalFlipVID_20190327_172501Rotate40.mp4', 1)\n",
      "('C:\\\\Users\\\\gural\\\\Desktop\\\\animals\\\\mouse\\\\HorizontalFlipVID_20190327_185223Crop.mp4', 2)\n",
      "('C:\\\\Users\\\\gural\\\\Desktop\\\\animals\\\\alligator\\\\HorizontalFlipVID_20190515_183658Crop.mp4', 0)\n",
      "('C:\\\\Users\\\\gural\\\\Desktop\\\\animals\\\\alligator\\\\HorizontalFlipVID_20190327_184300Rotate40.mp4', 0)\n",
      "('C:\\\\Users\\\\gural\\\\Desktop\\\\animals\\\\bull\\\\HorizontalFlipVID_20190515_183912Rotate40.mp4', 1)\n",
      "('C:\\\\Users\\\\gural\\\\Desktop\\\\animals\\\\bull\\\\VID_20190327_172412Crop.mp4', 1)\n",
      "('C:\\\\Users\\\\gural\\\\Desktop\\\\animals\\\\alligator\\\\HorizontalFlipVID_20190515_183710translate.mp4', 0)\n",
      "('C:\\\\Users\\\\gural\\\\Desktop\\\\animals\\\\bull\\\\HorizontalFlipVID_20190327_184957Rotate.mp4', 1)\n",
      "('C:\\\\Users\\\\gural\\\\Desktop\\\\animals\\\\mouse\\\\VID_20190327_185230Rotate40.mp4', 2)\n",
      "('C:\\\\Users\\\\gural\\\\Desktop\\\\animals\\\\alligator\\\\HorizontalFlipVID_20190327_184353Rotate40.mp4', 0)\n",
      "('C:\\\\Users\\\\gural\\\\Desktop\\\\animals\\\\tiger\\\\VID_20190327_185447translate.mp4', 3)\n",
      "('C:\\\\Users\\\\gural\\\\Desktop\\\\animals\\\\tiger\\\\HorizontalFlipVID_20190327_172945translate.mp4', 3)\n"
     ]
    }
   ],
   "source": [
    "# Displaying the first 5 videos (paths) in the training data along with their labels\n",
    "# (path of video, class label)\n",
    "for pair in zip(train_files[:16], train_targets[:16]):\n",
    "    print(pair)"
   ]
  },
  {
   "cell_type": "code",
   "execution_count": 5,
   "metadata": {
    "scrolled": true
   },
   "outputs": [
    {
     "name": "stdout",
     "output_type": "stream",
     "text": [
      "['C:\\\\Users\\\\gural\\\\Desktop\\\\animals\\\\alligator\\\\HorizontalFlipVID_20190327_184404Crop.mp4']\n"
     ]
    },
    {
     "name": "stderr",
     "output_type": "stream",
     "text": [
      "\r",
      "  0%|                                                                                            | 0/1 [00:00<?, ?it/s]"
     ]
    },
    {
     "name": "stdout",
     "output_type": "stream",
     "text": [
      "(1, 43, 780, 1520, 3)\n",
      "C:\\Users\\gural\\Desktop\\animals\\alligator\\HorizontalFlipVID_20190327_184404Crop.mp4\n",
      "\n"
     ]
    },
    {
     "name": "stderr",
     "output_type": "stream",
     "text": [
      "100%|████████████████████████████████████████████████████████████████████████████████████| 1/1 [00:01<00:00,  1.03s/it]\n"
     ]
    },
    {
     "name": "stdout",
     "output_type": "stream",
     "text": [
      "(1, 43, 780, 1520, 3)\n",
      "\n",
      "Shape of the sample data: (1, 43, 780, 1520, 3)\n"
     ]
    }
   ],
   "source": [
    "import numpy as np\n",
    "import matplotlib.pyplot as plt\n",
    "%matplotlib inline\n",
    "\n",
    "# The path of a sample video in the training data\n",
    "sample_files = train_files[1:2]\n",
    "\n",
    "# An object of the class 'Videos'\n",
    "reader = Videos(target_size=None, \n",
    "                to_gray=False)\n",
    "print(sample_files)\n",
    "# Loading the sample videos, in their original format\n",
    "sample = reader.read_videos(sample_files)\n",
    "print('\\nShape of the sample data:', sample.shape)"
   ]
  },
  {
   "cell_type": "code",
   "execution_count": 6,
   "metadata": {},
   "outputs": [
    {
     "ename": "TypeError",
     "evalue": "savetxt() missing 1 required positional argument: 'X'",
     "output_type": "error",
     "traceback": [
      "\u001b[1;31m---------------------------------------------------------------------------\u001b[0m",
      "\u001b[1;31mTypeError\u001b[0m                                 Traceback (most recent call last)",
      "\u001b[1;32m<ipython-input-6-b3185807a5ef>\u001b[0m in \u001b[0;36m<module>\u001b[1;34m\u001b[0m\n\u001b[1;32m----> 1\u001b[1;33m \u001b[0mnp\u001b[0m\u001b[1;33m.\u001b[0m\u001b[0msavetxt\u001b[0m\u001b[1;33m(\u001b[0m\u001b[0msample\u001b[0m\u001b[1;33m)\u001b[0m\u001b[1;33m\u001b[0m\u001b[1;33m\u001b[0m\u001b[0m\n\u001b[0m",
      "\u001b[1;31mTypeError\u001b[0m: savetxt() missing 1 required positional argument: 'X'"
     ]
    }
   ],
   "source": []
  },
  {
   "cell_type": "code",
   "execution_count": 7,
   "metadata": {},
   "outputs": [],
   "source": [
    "import numpy as np\n",
    "from keras.utils import to_categorical\n",
    "\n",
    "#num of frames in alon phone and computer are 40 per second\n",
    "reader = Videos(target_size=(128, 128), \n",
    "                to_gray=True, \n",
    "                max_frames=23, \n",
    "                extract_frames='first', \n",
    "                normalize_pixels=(0, 1))"
   ]
  },
  {
   "cell_type": "code",
   "execution_count": 8,
   "metadata": {
    "scrolled": true
   },
   "outputs": [
    {
     "name": "stderr",
     "output_type": "stream",
     "text": [
      "\r",
      "  0%|                                                                                          | 0/550 [00:00<?, ?it/s]"
     ]
    },
    {
     "name": "stdout",
     "output_type": "stream",
     "text": [
      "(1, 23, 128, 128, 1)\n",
      "C:\\Users\\gural\\Desktop\\animals\\tiger\\HorizontalFlipVID_20190327_185427.mp4\n",
      "\n"
     ]
    },
    {
     "name": "stderr",
     "output_type": "stream",
     "text": [
      "\r",
      "  0%|▏                                                                               | 1/550 [00:10<1:33:39, 10.24s/it]"
     ]
    },
    {
     "name": "stdout",
     "output_type": "stream",
     "text": [
      "(1, 23, 128, 128, 1)\n",
      "C:\\Users\\gural\\Desktop\\animals\\alligator\\HorizontalFlipVID_20190327_184404Crop.mp4\n",
      "\n"
     ]
    },
    {
     "name": "stderr",
     "output_type": "stream",
     "text": [
      "\r",
      "  0%|▎                                                                               | 2/550 [00:14<1:16:24,  8.37s/it]"
     ]
    },
    {
     "name": "stdout",
     "output_type": "stream",
     "text": [
      "(1, 23, 128, 128, 1)\n",
      "C:\\Users\\gural\\Desktop\\animals\\mouse\\VID_20190327_185153Rotate.mp4\n",
      "\n"
     ]
    },
    {
     "name": "stderr",
     "output_type": "stream",
     "text": [
      "\r",
      "  1%|▍                                                                               | 3/550 [00:18<1:04:31,  7.08s/it]"
     ]
    },
    {
     "name": "stdout",
     "output_type": "stream",
     "text": [
      "(1, 23, 128, 128, 1)\n",
      "C:\\Users\\gural\\Desktop\\animals\\tiger\\VID_20190515_183740.mp4\n",
      "\n"
     ]
    },
    {
     "name": "stderr",
     "output_type": "stream",
     "text": [
      "\r",
      "  1%|▌                                                                                 | 4/550 [00:23<58:43,  6.45s/it]"
     ]
    },
    {
     "name": "stdout",
     "output_type": "stream",
     "text": [
      "(1, 23, 128, 128, 1)\n",
      "C:\\Users\\gural\\Desktop\\animals\\bull\\HorizontalFlipVID_20190327_172501Rotate40.mp4\n",
      "\n"
     ]
    },
    {
     "name": "stderr",
     "output_type": "stream",
     "text": [
      "\r",
      "  1%|▋                                                                                 | 5/550 [00:27<52:03,  5.73s/it]"
     ]
    },
    {
     "name": "stdout",
     "output_type": "stream",
     "text": [
      "(1, 23, 128, 128, 1)\n",
      "C:\\Users\\gural\\Desktop\\animals\\mouse\\HorizontalFlipVID_20190327_185223Crop.mp4\n",
      "\n"
     ]
    },
    {
     "name": "stderr",
     "output_type": "stream",
     "text": [
      "\r",
      "  1%|▉                                                                                 | 6/550 [00:30<43:49,  4.83s/it]"
     ]
    },
    {
     "name": "stdout",
     "output_type": "stream",
     "text": [
      "(1, 23, 128, 128, 1)\n",
      "C:\\Users\\gural\\Desktop\\animals\\alligator\\HorizontalFlipVID_20190515_183658Crop.mp4\n",
      "\n"
     ]
    },
    {
     "name": "stderr",
     "output_type": "stream",
     "text": [
      "\r",
      "  1%|█                                                                                 | 7/550 [00:31<34:50,  3.85s/it]"
     ]
    },
    {
     "name": "stdout",
     "output_type": "stream",
     "text": [
      "(1, 23, 128, 128, 1)\n",
      "C:\\Users\\gural\\Desktop\\animals\\alligator\\HorizontalFlipVID_20190327_184300Rotate40.mp4\n",
      "\n"
     ]
    },
    {
     "name": "stderr",
     "output_type": "stream",
     "text": [
      "\r",
      "  1%|█▏                                                                                | 8/550 [00:37<39:00,  4.32s/it]"
     ]
    },
    {
     "name": "stdout",
     "output_type": "stream",
     "text": [
      "(1, 23, 128, 128, 1)\n",
      "C:\\Users\\gural\\Desktop\\animals\\bull\\HorizontalFlipVID_20190515_183912Rotate40.mp4\n",
      "\n"
     ]
    },
    {
     "name": "stderr",
     "output_type": "stream",
     "text": [
      "\r",
      "  2%|█▎                                                                                | 9/550 [00:43<43:38,  4.84s/it]"
     ]
    },
    {
     "name": "stdout",
     "output_type": "stream",
     "text": [
      "(1, 23, 128, 128, 1)\n",
      "C:\\Users\\gural\\Desktop\\animals\\bull\\VID_20190327_172412Crop.mp4\n",
      "\n"
     ]
    },
    {
     "name": "stderr",
     "output_type": "stream",
     "text": [
      "\r",
      "  2%|█▍                                                                               | 10/550 [00:45<37:48,  4.20s/it]"
     ]
    },
    {
     "name": "stdout",
     "output_type": "stream",
     "text": [
      "(1, 23, 128, 128, 1)\n",
      "C:\\Users\\gural\\Desktop\\animals\\alligator\\HorizontalFlipVID_20190515_183710translate.mp4\n",
      "\n"
     ]
    },
    {
     "name": "stderr",
     "output_type": "stream",
     "text": [
      "\r",
      "  2%|█▌                                                                               | 11/550 [00:51<42:02,  4.68s/it]"
     ]
    },
    {
     "name": "stdout",
     "output_type": "stream",
     "text": [
      "(1, 23, 128, 128, 1)\n",
      "C:\\Users\\gural\\Desktop\\animals\\bull\\HorizontalFlipVID_20190327_184957Rotate.mp4\n",
      "\n"
     ]
    },
    {
     "name": "stderr",
     "output_type": "stream",
     "text": [
      "\r",
      "  2%|█▊                                                                               | 12/550 [00:55<40:57,  4.57s/it]"
     ]
    },
    {
     "name": "stdout",
     "output_type": "stream",
     "text": [
      "(1, 23, 128, 128, 1)\n",
      "C:\\Users\\gural\\Desktop\\animals\\mouse\\VID_20190327_185230Rotate40.mp4\n",
      "\n"
     ]
    },
    {
     "name": "stderr",
     "output_type": "stream",
     "text": [
      "\r",
      "  2%|█▉                                                                               | 13/550 [01:00<41:15,  4.61s/it]"
     ]
    },
    {
     "name": "stdout",
     "output_type": "stream",
     "text": [
      "(1, 23, 128, 128, 1)\n",
      "C:\\Users\\gural\\Desktop\\animals\\alligator\\HorizontalFlipVID_20190327_184353Rotate40.mp4\n",
      "\n"
     ]
    },
    {
     "name": "stderr",
     "output_type": "stream",
     "text": [
      "\r",
      "  3%|██                                                                               | 14/550 [01:04<40:00,  4.48s/it]"
     ]
    },
    {
     "name": "stdout",
     "output_type": "stream",
     "text": [
      "(1, 23, 128, 128, 1)\n",
      "C:\\Users\\gural\\Desktop\\animals\\tiger\\VID_20190327_185447translate.mp4\n",
      "\n"
     ]
    },
    {
     "name": "stderr",
     "output_type": "stream",
     "text": [
      "\r",
      "  3%|██▏                                                                              | 15/550 [01:09<39:23,  4.42s/it]"
     ]
    },
    {
     "name": "stdout",
     "output_type": "stream",
     "text": [
      "(1, 23, 128, 128, 1)\n",
      "C:\\Users\\gural\\Desktop\\animals\\tiger\\HorizontalFlipVID_20190327_172945translate.mp4\n",
      "\n"
     ]
    },
    {
     "name": "stderr",
     "output_type": "stream",
     "text": [
      "\r",
      "  3%|██▎                                                                              | 16/550 [01:14<42:14,  4.75s/it]"
     ]
    },
    {
     "name": "stdout",
     "output_type": "stream",
     "text": [
      "(1, 23, 128, 128, 1)\n",
      "C:\\Users\\gural\\Desktop\\animals\\bull\\VID_20190327_172536Rotate40.mp4\n",
      "\n"
     ]
    },
    {
     "name": "stderr",
     "output_type": "stream",
     "text": [
      "\r",
      "  3%|██▌                                                                              | 17/550 [01:21<47:46,  5.38s/it]"
     ]
    },
    {
     "name": "stdout",
     "output_type": "stream",
     "text": [
      "(1, 23, 128, 128, 1)\n",
      "C:\\Users\\gural\\Desktop\\animals\\tiger\\VID_20190327_185548Crop.mp4\n",
      "\n"
     ]
    },
    {
     "name": "stderr",
     "output_type": "stream",
     "text": [
      "\r",
      "  3%|██▋                                                                              | 18/550 [01:24<40:17,  4.54s/it]"
     ]
    },
    {
     "name": "stdout",
     "output_type": "stream",
     "text": [
      "(1, 23, 128, 128, 1)\n",
      "C:\\Users\\gural\\Desktop\\animals\\mouse\\HorizontalFlipVID_20190327_185236translate.mp4\n",
      "\n"
     ]
    },
    {
     "name": "stderr",
     "output_type": "stream",
     "text": [
      "\r",
      "  3%|██▊                                                                              | 19/550 [01:28<39:19,  4.44s/it]"
     ]
    },
    {
     "name": "stdout",
     "output_type": "stream",
     "text": [
      "(1, 23, 128, 128, 1)\n",
      "C:\\Users\\gural\\Desktop\\animals\\tiger\\VID_20190529_193644.mp4\n",
      "\n"
     ]
    },
    {
     "name": "stderr",
     "output_type": "stream",
     "text": [
      "\r",
      "  4%|██▉                                                                              | 20/550 [01:35<45:27,  5.15s/it]"
     ]
    },
    {
     "name": "stdout",
     "output_type": "stream",
     "text": [
      "(1, 23, 128, 128, 1)\n",
      "C:\\Users\\gural\\Desktop\\animals\\alligator\\VID_20190327_184510.mp4\n",
      "\n"
     ]
    },
    {
     "name": "stderr",
     "output_type": "stream",
     "text": [
      "\r",
      "  4%|███                                                                              | 21/550 [01:40<45:31,  5.16s/it]"
     ]
    },
    {
     "name": "stdout",
     "output_type": "stream",
     "text": [
      "(1, 23, 128, 128, 1)\n",
      "C:\\Users\\gural\\Desktop\\animals\\alligator\\VID_20190515_183710Rotate.mp4\n",
      "\n"
     ]
    },
    {
     "name": "stderr",
     "output_type": "stream",
     "text": [
      "\r",
      "  4%|███▏                                                                             | 22/550 [01:45<45:20,  5.15s/it]"
     ]
    },
    {
     "name": "stdout",
     "output_type": "stream",
     "text": [
      "(1, 23, 128, 128, 1)\n",
      "C:\\Users\\gural\\Desktop\\animals\\mouse\\HorizontalFlipVID_20190515_184013Crop.mp4\n",
      "\n"
     ]
    },
    {
     "name": "stderr",
     "output_type": "stream",
     "text": [
      "\r",
      "  4%|███▍                                                                             | 23/550 [01:48<40:02,  4.56s/it]"
     ]
    },
    {
     "name": "stdout",
     "output_type": "stream",
     "text": [
      "(1, 23, 128, 128, 1)\n",
      "C:\\Users\\gural\\Desktop\\animals\\tiger\\HorizontalFlipVID_20190327_185440Crop.mp4\n",
      "\n"
     ]
    },
    {
     "name": "stderr",
     "output_type": "stream",
     "text": [
      "\r",
      "  4%|███▌                                                                             | 24/550 [01:51<35:45,  4.08s/it]"
     ]
    },
    {
     "name": "stdout",
     "output_type": "stream",
     "text": [
      "(1, 23, 128, 128, 1)\n",
      "C:\\Users\\gural\\Desktop\\animals\\tiger\\HorizontalFlipVID_20190515_183740.mp4\n",
      "\n"
     ]
    },
    {
     "name": "stderr",
     "output_type": "stream",
     "text": [
      "\r",
      "  5%|███▋                                                                             | 25/550 [01:55<36:15,  4.14s/it]"
     ]
    },
    {
     "name": "stdout",
     "output_type": "stream",
     "text": [
      "(1, 23, 128, 128, 1)\n",
      "C:\\Users\\gural\\Desktop\\animals\\alligator\\HorizontalFlipVID_20190327_184325Rotate40.mp4\n",
      "\n"
     ]
    },
    {
     "name": "stderr",
     "output_type": "stream",
     "text": [
      "\r",
      "  5%|███▊                                                                             | 26/550 [02:00<37:16,  4.27s/it]"
     ]
    },
    {
     "name": "stdout",
     "output_type": "stream",
     "text": [
      "(1, 23, 128, 128, 1)\n",
      "C:\\Users\\gural\\Desktop\\animals\\alligator\\VID_20190327_184234translate.mp4\n",
      "\n"
     ]
    },
    {
     "name": "stderr",
     "output_type": "stream",
     "text": [
      "\r",
      "  5%|███▉                                                                             | 27/550 [02:07<45:10,  5.18s/it]"
     ]
    },
    {
     "name": "stdout",
     "output_type": "stream",
     "text": [
      "(1, 23, 128, 128, 1)\n",
      "C:\\Users\\gural\\Desktop\\animals\\mouse\\HorizontalFlipVID_20190327_172703Crop.mp4\n",
      "\n"
     ]
    },
    {
     "name": "stderr",
     "output_type": "stream",
     "text": [
      "\r",
      "  5%|████                                                                             | 28/550 [02:11<42:48,  4.92s/it]"
     ]
    },
    {
     "name": "stdout",
     "output_type": "stream",
     "text": [
      "(1, 23, 128, 128, 1)\n",
      "C:\\Users\\gural\\Desktop\\animals\\alligator\\VID_20190327_184325Crop.mp4\n",
      "\n"
     ]
    },
    {
     "name": "stderr",
     "output_type": "stream",
     "text": [
      "\r",
      "  5%|████▎                                                                            | 29/550 [02:14<36:44,  4.23s/it]"
     ]
    },
    {
     "name": "stdout",
     "output_type": "stream",
     "text": [
      "(1, 23, 128, 128, 1)\n",
      "C:\\Users\\gural\\Desktop\\animals\\alligator\\VID_20190529_193310.mp4\n",
      "\n"
     ]
    },
    {
     "name": "stderr",
     "output_type": "stream",
     "text": [
      "\r",
      "  5%|████▍                                                                            | 30/550 [02:20<41:55,  4.84s/it]"
     ]
    },
    {
     "name": "stdout",
     "output_type": "stream",
     "text": [
      "(1, 23, 128, 128, 1)\n",
      "C:\\Users\\gural\\Desktop\\animals\\bull\\VID_20190327_184854Rotate40.mp4\n",
      "\n"
     ]
    },
    {
     "name": "stderr",
     "output_type": "stream",
     "text": [
      "\r",
      "  6%|████▌                                                                            | 31/550 [02:24<37:35,  4.35s/it]"
     ]
    },
    {
     "name": "stdout",
     "output_type": "stream",
     "text": [
      "(1, 23, 128, 128, 1)\n",
      "C:\\Users\\gural\\Desktop\\animals\\mouse\\VID_20190327_185139Crop.mp4\n",
      "\n"
     ]
    },
    {
     "name": "stderr",
     "output_type": "stream",
     "text": [
      "\r",
      "  6%|████▋                                                                            | 32/550 [02:26<33:12,  3.85s/it]"
     ]
    },
    {
     "name": "stdout",
     "output_type": "stream",
     "text": [
      "(1, 23, 128, 128, 1)\n",
      "C:\\Users\\gural\\Desktop\\animals\\mouse\\VID_20190327_185337translate.mp4\n",
      "\n"
     ]
    },
    {
     "name": "stderr",
     "output_type": "stream",
     "text": [
      "\r",
      "  6%|████▊                                                                            | 33/550 [02:30<33:27,  3.88s/it]"
     ]
    },
    {
     "name": "stdout",
     "output_type": "stream",
     "text": [
      "(1, 23, 128, 128, 1)\n",
      "C:\\Users\\gural\\Desktop\\animals\\mouse\\VID_20190327_185139Rotate40.mp4\n",
      "\n"
     ]
    },
    {
     "name": "stderr",
     "output_type": "stream",
     "text": [
      "\r",
      "  6%|█████                                                                            | 34/550 [02:35<35:13,  4.10s/it]"
     ]
    },
    {
     "name": "stdout",
     "output_type": "stream",
     "text": [
      "(1, 23, 128, 128, 1)\n",
      "C:\\Users\\gural\\Desktop\\animals\\mouse\\HorizontalFlipVID_20190515_184023.mp4\n",
      "\n"
     ]
    },
    {
     "name": "stderr",
     "output_type": "stream",
     "text": [
      "\r",
      "  6%|█████▏                                                                           | 35/550 [02:40<38:28,  4.48s/it]"
     ]
    },
    {
     "name": "stdout",
     "output_type": "stream",
     "text": [
      "(1, 23, 128, 128, 1)\n",
      "C:\\Users\\gural\\Desktop\\animals\\tiger\\HorizontalFlipVID_20190515_183731.mp4\n",
      "\n"
     ]
    },
    {
     "name": "stderr",
     "output_type": "stream",
     "text": [
      "\r",
      "  7%|█████▎                                                                           | 36/550 [02:45<38:48,  4.53s/it]"
     ]
    },
    {
     "name": "stdout",
     "output_type": "stream",
     "text": [
      "(1, 23, 128, 128, 1)\n",
      "C:\\Users\\gural\\Desktop\\animals\\tiger\\HorizontalFlipVID_20190327_185508.mp4\n",
      "\n"
     ]
    },
    {
     "name": "stderr",
     "output_type": "stream",
     "text": [
      "\r",
      "  7%|█████▍                                                                           | 37/550 [02:51<42:27,  4.97s/it]"
     ]
    },
    {
     "name": "stdout",
     "output_type": "stream",
     "text": [
      "(1, 23, 128, 128, 1)\n",
      "C:\\Users\\gural\\Desktop\\animals\\tiger\\HorizontalFlipVID_20190515_183740Rotate40.mp4\n",
      "\n"
     ]
    },
    {
     "name": "stderr",
     "output_type": "stream",
     "text": [
      "\r",
      "  7%|█████▌                                                                           | 38/550 [02:55<40:36,  4.76s/it]"
     ]
    },
    {
     "name": "stdout",
     "output_type": "stream",
     "text": [
      "(1, 23, 128, 128, 1)\n",
      "C:\\Users\\gural\\Desktop\\animals\\tiger\\HorizontalFlipVID_20190327_185554translate.mp4\n",
      "\n"
     ]
    },
    {
     "name": "stderr",
     "output_type": "stream",
     "text": [
      "\r",
      "  7%|█████▋                                                                           | 39/550 [02:59<39:28,  4.64s/it]"
     ]
    },
    {
     "name": "stdout",
     "output_type": "stream",
     "text": [
      "(1, 23, 128, 128, 1)\n",
      "C:\\Users\\gural\\Desktop\\animals\\tiger\\VID_20190327_172945Crop.mp4\n",
      "\n"
     ]
    },
    {
     "name": "stderr",
     "output_type": "stream",
     "text": [
      "\r",
      "  7%|█████▉                                                                           | 40/550 [03:03<35:51,  4.22s/it]"
     ]
    },
    {
     "name": "stdout",
     "output_type": "stream",
     "text": [
      "(1, 23, 128, 128, 1)\n",
      "C:\\Users\\gural\\Desktop\\animals\\bull\\HorizontalFlipVID_20190327_184820Crop.mp4\n",
      "\n"
     ]
    },
    {
     "name": "stderr",
     "output_type": "stream",
     "text": [
      "\r",
      "  7%|██████                                                                           | 41/550 [03:05<31:18,  3.69s/it]"
     ]
    },
    {
     "name": "stdout",
     "output_type": "stream",
     "text": [
      "(1, 23, 128, 128, 1)\n",
      "C:\\Users\\gural\\Desktop\\animals\\mouse\\VID_20190327_185337.mp4\n",
      "\n"
     ]
    },
    {
     "name": "stderr",
     "output_type": "stream",
     "text": [
      "\r",
      "  8%|██████▏                                                                          | 42/550 [03:09<32:07,  3.79s/it]"
     ]
    },
    {
     "name": "stdout",
     "output_type": "stream",
     "text": [
      "(1, 23, 128, 128, 1)\n",
      "C:\\Users\\gural\\Desktop\\animals\\tiger\\VID_20190327_185606Rotate.mp4\n",
      "\n"
     ]
    },
    {
     "name": "stderr",
     "output_type": "stream",
     "text": [
      "\r",
      "  8%|██████▎                                                                          | 43/550 [03:14<33:56,  4.02s/it]"
     ]
    },
    {
     "name": "stdout",
     "output_type": "stream",
     "text": [
      "(1, 23, 128, 128, 1)\n",
      "C:\\Users\\gural\\Desktop\\animals\\alligator\\VID_20190515_183710.mp4\n",
      "\n"
     ]
    },
    {
     "name": "stderr",
     "output_type": "stream",
     "text": [
      "\r",
      "  8%|██████▍                                                                          | 44/550 [03:19<36:30,  4.33s/it]"
     ]
    },
    {
     "name": "stdout",
     "output_type": "stream",
     "text": [
      "(1, 23, 128, 128, 1)\n",
      "C:\\Users\\gural\\Desktop\\animals\\bull\\HorizontalFlipVID_20190327_184854translate.mp4\n",
      "\n"
     ]
    },
    {
     "name": "stderr",
     "output_type": "stream",
     "text": [
      "\r",
      "  8%|██████▋                                                                          | 45/550 [03:22<33:33,  3.99s/it]"
     ]
    },
    {
     "name": "stdout",
     "output_type": "stream",
     "text": [
      "(1, 23, 128, 128, 1)\n",
      "C:\\Users\\gural\\Desktop\\animals\\tiger\\HorizontalFlipVID_20190327_185532Crop.mp4\n",
      "\n"
     ]
    },
    {
     "name": "stderr",
     "output_type": "stream",
     "text": [
      "\r",
      "  8%|██████▊                                                                          | 46/550 [03:25<29:54,  3.56s/it]"
     ]
    },
    {
     "name": "stdout",
     "output_type": "stream",
     "text": [
      "(1, 23, 128, 128, 1)\n",
      "C:\\Users\\gural\\Desktop\\animals\\tiger\\VID_20190327_185518translate.mp4\n",
      "\n"
     ]
    },
    {
     "name": "stderr",
     "output_type": "stream",
     "text": [
      "\r",
      "  9%|██████▉                                                                          | 47/550 [03:29<32:00,  3.82s/it]"
     ]
    },
    {
     "name": "stdout",
     "output_type": "stream",
     "text": [
      "(1, 23, 128, 128, 1)\n",
      "C:\\Users\\gural\\Desktop\\animals\\mouse\\VID_20190515_184013.mp4\n",
      "\n"
     ]
    },
    {
     "name": "stderr",
     "output_type": "stream",
     "text": [
      "\r",
      "  9%|███████                                                                          | 48/550 [03:35<36:46,  4.40s/it]"
     ]
    },
    {
     "name": "stdout",
     "output_type": "stream",
     "text": [
      "(1, 23, 128, 128, 1)\n",
      "C:\\Users\\gural\\Desktop\\animals\\bull\\HorizontalFlipVID_20190327_184748Rotate40.mp4\n",
      "\n"
     ]
    },
    {
     "name": "stderr",
     "output_type": "stream",
     "text": [
      "\r",
      "  9%|███████▏                                                                         | 49/550 [03:40<38:32,  4.62s/it]"
     ]
    },
    {
     "name": "stdout",
     "output_type": "stream",
     "text": [
      "(1, 23, 128, 128, 1)\n",
      "C:\\Users\\gural\\Desktop\\animals\\alligator\\VID_20190327_184234.mp4\n",
      "\n"
     ]
    },
    {
     "name": "stderr",
     "output_type": "stream",
     "text": [
      "\r",
      "  9%|███████▎                                                                         | 50/550 [03:47<45:33,  5.47s/it]"
     ]
    },
    {
     "name": "stdout",
     "output_type": "stream",
     "text": [
      "(1, 23, 128, 128, 1)\n",
      "C:\\Users\\gural\\Desktop\\animals\\alligator\\VID_20190327_184353Rotate.mp4\n",
      "\n"
     ]
    },
    {
     "name": "stderr",
     "output_type": "stream",
     "text": [
      "\r",
      "  9%|███████▌                                                                         | 51/550 [03:52<42:25,  5.10s/it]"
     ]
    },
    {
     "name": "stdout",
     "output_type": "stream",
     "text": [
      "(1, 23, 128, 128, 1)\n",
      "C:\\Users\\gural\\Desktop\\animals\\bull\\HorizontalFlipVID_20190327_184957.mp4\n",
      "\n"
     ]
    },
    {
     "name": "stderr",
     "output_type": "stream",
     "text": [
      "\r",
      "  9%|███████▋                                                                         | 52/550 [03:56<40:20,  4.86s/it]"
     ]
    },
    {
     "name": "stdout",
     "output_type": "stream",
     "text": [
      "(1, 23, 128, 128, 1)\n",
      "C:\\Users\\gural\\Desktop\\animals\\tiger\\VID_20190327_185601translate.mp4\n",
      "\n"
     ]
    },
    {
     "name": "stderr",
     "output_type": "stream",
     "text": [
      "\r",
      " 10%|███████▊                                                                         | 53/550 [04:00<38:55,  4.70s/it]"
     ]
    },
    {
     "name": "stdout",
     "output_type": "stream",
     "text": [
      "(1, 23, 128, 128, 1)\n",
      "C:\\Users\\gural\\Desktop\\animals\\alligator\\HorizontalFlipVID_20190327_184234Crop.mp4\n",
      "\n"
     ]
    },
    {
     "name": "stderr",
     "output_type": "stream",
     "text": [
      "\r",
      " 10%|███████▉                                                                         | 54/550 [04:04<37:32,  4.54s/it]"
     ]
    },
    {
     "name": "stdout",
     "output_type": "stream",
     "text": [
      "(1, 23, 128, 128, 1)\n",
      "C:\\Users\\gural\\Desktop\\animals\\alligator\\HorizontalFlipVID_20190327_172127Rotate.mp4\n",
      "\n"
     ]
    },
    {
     "name": "stderr",
     "output_type": "stream",
     "text": [
      "\r",
      " 10%|████████                                                                         | 55/550 [04:12<44:16,  5.37s/it]"
     ]
    },
    {
     "name": "stdout",
     "output_type": "stream",
     "text": [
      "(1, 23, 128, 128, 1)\n",
      "C:\\Users\\gural\\Desktop\\animals\\tiger\\VID_20190529_193638.mp4\n",
      "\n"
     ]
    },
    {
     "name": "stderr",
     "output_type": "stream",
     "text": [
      "\r",
      " 10%|████████▏                                                                        | 56/550 [04:18<47:02,  5.71s/it]"
     ]
    },
    {
     "name": "stdout",
     "output_type": "stream",
     "text": [
      "(1, 23, 128, 128, 1)\n",
      "C:\\Users\\gural\\Desktop\\animals\\mouse\\HorizontalFlipVID_20190327_185248translate.mp4\n",
      "\n"
     ]
    },
    {
     "name": "stderr",
     "output_type": "stream",
     "text": [
      "\r",
      " 10%|████████▍                                                                        | 57/550 [04:22<42:09,  5.13s/it]"
     ]
    },
    {
     "name": "stdout",
     "output_type": "stream",
     "text": [
      "(1, 23, 128, 128, 1)\n",
      "C:\\Users\\gural\\Desktop\\animals\\mouse\\VID_20190529_193531.mp4\n",
      "\n"
     ]
    },
    {
     "name": "stderr",
     "output_type": "stream",
     "text": [
      "\r",
      " 11%|████████▌                                                                        | 58/550 [04:27<42:51,  5.23s/it]"
     ]
    },
    {
     "name": "stdout",
     "output_type": "stream",
     "text": [
      "(1, 23, 128, 128, 1)\n",
      "C:\\Users\\gural\\Desktop\\animals\\alligator\\HorizontalFlipVID_20190327_184234translate.mp4\n",
      "\n"
     ]
    },
    {
     "name": "stderr",
     "output_type": "stream",
     "text": [
      "\r",
      " 11%|████████▋                                                                        | 59/550 [04:35<47:49,  5.84s/it]"
     ]
    },
    {
     "name": "stdout",
     "output_type": "stream",
     "text": [
      "(1, 23, 128, 128, 1)\n",
      "C:\\Users\\gural\\Desktop\\animals\\mouse\\HorizontalFlipVID_20190327_185343Rotate.mp4\n",
      "\n"
     ]
    },
    {
     "name": "stderr",
     "output_type": "stream",
     "text": [
      "\r",
      " 11%|████████▊                                                                        | 60/550 [04:39<45:15,  5.54s/it]"
     ]
    },
    {
     "name": "stdout",
     "output_type": "stream",
     "text": [
      "(1, 23, 128, 128, 1)\n",
      "C:\\Users\\gural\\Desktop\\animals\\alligator\\HorizontalFlipVID_20190327_184229Rotate40.mp4\n",
      "\n"
     ]
    },
    {
     "name": "stderr",
     "output_type": "stream",
     "text": [
      "\r",
      " 11%|████████▉                                                                        | 61/550 [04:44<43:28,  5.33s/it]"
     ]
    },
    {
     "name": "stdout",
     "output_type": "stream",
     "text": [
      "(1, 23, 128, 128, 1)\n",
      "C:\\Users\\gural\\Desktop\\animals\\tiger\\HorizontalFlipVID_20190515_183755Crop.mp4\n",
      "\n"
     ]
    },
    {
     "name": "stderr",
     "output_type": "stream",
     "text": [
      "\r",
      " 11%|█████████▏                                                                       | 62/550 [04:46<35:38,  4.38s/it]"
     ]
    },
    {
     "name": "stdout",
     "output_type": "stream",
     "text": [
      "(1, 23, 128, 128, 1)\n",
      "C:\\Users\\gural\\Desktop\\animals\\bull\\VID_20190327_184820translate.mp4\n",
      "\n"
     ]
    },
    {
     "name": "stderr",
     "output_type": "stream",
     "text": [
      "\r",
      " 11%|█████████▎                                                                       | 63/550 [04:51<35:01,  4.31s/it]"
     ]
    },
    {
     "name": "stdout",
     "output_type": "stream",
     "text": [
      "(1, 23, 128, 128, 1)\n",
      "C:\\Users\\gural\\Desktop\\animals\\alligator\\VID_20190327_184452Rotate.mp4\n",
      "\n"
     ]
    },
    {
     "name": "stderr",
     "output_type": "stream",
     "text": [
      "\r",
      " 12%|█████████▍                                                                       | 64/550 [04:55<35:45,  4.42s/it]"
     ]
    },
    {
     "name": "stdout",
     "output_type": "stream",
     "text": [
      "(1, 23, 128, 128, 1)\n",
      "C:\\Users\\gural\\Desktop\\animals\\mouse\\VID_20190327_185330Rotate40.mp4\n",
      "\n"
     ]
    },
    {
     "name": "stderr",
     "output_type": "stream",
     "text": [
      "\r",
      " 12%|█████████▌                                                                       | 65/550 [05:01<38:12,  4.73s/it]"
     ]
    },
    {
     "name": "stdout",
     "output_type": "stream",
     "text": [
      "(1, 23, 128, 128, 1)\n",
      "C:\\Users\\gural\\Desktop\\animals\\bull\\HorizontalFlipVID_20190327_172627.mp4\n",
      "\n"
     ]
    },
    {
     "name": "stderr",
     "output_type": "stream",
     "text": [
      "\r",
      " 12%|█████████▋                                                                       | 66/550 [05:08<44:11,  5.48s/it]"
     ]
    },
    {
     "name": "stdout",
     "output_type": "stream",
     "text": [
      "(1, 23, 128, 128, 1)\n",
      "C:\\Users\\gural\\Desktop\\animals\\bull\\HorizontalFlipVID_20190327_184737Rotate40.mp4\n",
      "\n"
     ]
    },
    {
     "name": "stderr",
     "output_type": "stream",
     "text": [
      "\r",
      " 12%|█████████▊                                                                       | 67/550 [05:12<41:05,  5.10s/it]"
     ]
    },
    {
     "name": "stdout",
     "output_type": "stream",
     "text": [
      "(1, 23, 128, 128, 1)\n",
      "C:\\Users\\gural\\Desktop\\animals\\mouse\\VID_20190327_185324Rotate.mp4\n",
      "\n"
     ]
    },
    {
     "name": "stderr",
     "output_type": "stream",
     "text": [
      "\r",
      " 12%|██████████                                                                       | 68/550 [05:17<41:05,  5.12s/it]"
     ]
    },
    {
     "name": "stdout",
     "output_type": "stream",
     "text": [
      "(1, 23, 128, 128, 1)\n",
      "C:\\Users\\gural\\Desktop\\animals\\alligator\\HorizontalFlipVID_20190515_183710.mp4\n",
      "\n"
     ]
    },
    {
     "name": "stderr",
     "output_type": "stream",
     "text": [
      "\r",
      " 13%|██████████▏                                                                      | 69/550 [05:22<40:17,  5.03s/it]"
     ]
    },
    {
     "name": "stdout",
     "output_type": "stream",
     "text": [
      "(1, 23, 128, 128, 1)\n",
      "C:\\Users\\gural\\Desktop\\animals\\tiger\\VID_20190327_185523translate.mp4\n",
      "\n"
     ]
    },
    {
     "name": "stderr",
     "output_type": "stream",
     "text": [
      "\r",
      " 13%|██████████▎                                                                      | 70/550 [05:26<38:14,  4.78s/it]"
     ]
    },
    {
     "name": "stdout",
     "output_type": "stream",
     "text": [
      "(1, 23, 128, 128, 1)\n",
      "C:\\Users\\gural\\Desktop\\animals\\bull\\VID_20190327_184748Rotate40.mp4\n",
      "\n"
     ]
    },
    {
     "name": "stderr",
     "output_type": "stream",
     "text": [
      "\r",
      " 13%|██████████▍                                                                      | 71/550 [05:32<39:46,  4.98s/it]"
     ]
    },
    {
     "name": "stdout",
     "output_type": "stream",
     "text": [
      "(1, 23, 128, 128, 1)\n",
      "C:\\Users\\gural\\Desktop\\animals\\bull\\HorizontalFlipVID_20190327_184737Rotate.mp4\n",
      "\n"
     ]
    },
    {
     "name": "stderr",
     "output_type": "stream",
     "text": [
      "\r",
      " 13%|██████████▌                                                                      | 72/550 [05:36<37:39,  4.73s/it]"
     ]
    },
    {
     "name": "stdout",
     "output_type": "stream",
     "text": [
      "(1, 23, 128, 128, 1)\n",
      "C:\\Users\\gural\\Desktop\\animals\\mouse\\VID_20190515_184013Crop.mp4\n",
      "\n"
     ]
    },
    {
     "name": "stderr",
     "output_type": "stream",
     "text": [
      "\r",
      " 13%|██████████▊                                                                      | 73/550 [05:39<33:51,  4.26s/it]"
     ]
    },
    {
     "name": "stdout",
     "output_type": "stream",
     "text": [
      "(1, 23, 128, 128, 1)\n",
      "C:\\Users\\gural\\Desktop\\animals\\mouse\\HorizontalFlipVID_20190327_185139Rotate40.mp4\n",
      "\n"
     ]
    },
    {
     "name": "stderr",
     "output_type": "stream",
     "text": [
      "\r",
      " 13%|██████████▉                                                                      | 74/550 [05:44<34:37,  4.37s/it]"
     ]
    },
    {
     "name": "stdout",
     "output_type": "stream",
     "text": [
      "(1, 23, 128, 128, 1)\n",
      "C:\\Users\\gural\\Desktop\\animals\\alligator\\HorizontalFlipVID_20190327_184320.mp4\n",
      "\n"
     ]
    },
    {
     "name": "stderr",
     "output_type": "stream",
     "text": [
      "\r",
      " 14%|███████████                                                                      | 75/550 [05:49<36:41,  4.64s/it]"
     ]
    },
    {
     "name": "stdout",
     "output_type": "stream",
     "text": [
      "(1, 23, 128, 128, 1)\n",
      "C:\\Users\\gural\\Desktop\\animals\\alligator\\HorizontalFlipVID_20190327_184305Crop.mp4\n",
      "\n"
     ]
    },
    {
     "name": "stderr",
     "output_type": "stream",
     "text": [
      "\r",
      " 14%|███████████▏                                                                     | 76/550 [05:52<32:38,  4.13s/it]"
     ]
    },
    {
     "name": "stdout",
     "output_type": "stream",
     "text": [
      "(1, 23, 128, 128, 1)\n",
      "C:\\Users\\gural\\Desktop\\animals\\mouse\\VID_20190327_172833Rotate.mp4\n",
      "\n"
     ]
    },
    {
     "name": "stderr",
     "output_type": "stream",
     "text": [
      "\r",
      " 14%|███████████▎                                                                     | 77/550 [05:59<38:56,  4.94s/it]"
     ]
    },
    {
     "name": "stdout",
     "output_type": "stream",
     "text": [
      "(1, 23, 128, 128, 1)\n",
      "C:\\Users\\gural\\Desktop\\animals\\bull\\HorizontalFlipVID_20190515_183937Rotate.mp4\n",
      "\n"
     ]
    },
    {
     "name": "stderr",
     "output_type": "stream",
     "text": [
      "\r",
      " 14%|███████████▍                                                                     | 78/550 [06:07<46:16,  5.88s/it]"
     ]
    },
    {
     "name": "stdout",
     "output_type": "stream",
     "text": [
      "(1, 23, 128, 128, 1)\n",
      "C:\\Users\\gural\\Desktop\\animals\\alligator\\VID_20190515_183658Crop.mp4\n",
      "\n"
     ]
    },
    {
     "name": "stderr",
     "output_type": "stream",
     "text": [
      "\r",
      " 14%|███████████▋                                                                     | 79/550 [06:08<35:44,  4.55s/it]"
     ]
    },
    {
     "name": "stdout",
     "output_type": "stream",
     "text": [
      "(1, 23, 128, 128, 1)\n",
      "C:\\Users\\gural\\Desktop\\animals\\alligator\\VID_20190327_184457Rotate.mp4\n",
      "\n"
     ]
    },
    {
     "name": "stderr",
     "output_type": "stream",
     "text": [
      "\r",
      " 15%|███████████▊                                                                     | 80/550 [06:12<34:11,  4.37s/it]"
     ]
    },
    {
     "name": "stdout",
     "output_type": "stream",
     "text": [
      "(1, 23, 128, 128, 1)\n",
      "C:\\Users\\gural\\Desktop\\animals\\alligator\\HorizontalFlipVID_20190327_172003.mp4\n",
      "\n"
     ]
    },
    {
     "name": "stderr",
     "output_type": "stream",
     "text": [
      "\r",
      " 15%|███████████▉                                                                     | 81/550 [06:18<37:21,  4.78s/it]"
     ]
    },
    {
     "name": "stdout",
     "output_type": "stream",
     "text": [
      "(1, 23, 128, 128, 1)\n",
      "C:\\Users\\gural\\Desktop\\animals\\alligator\\VID_20190327_184510Crop.mp4\n",
      "\n"
     ]
    },
    {
     "name": "stderr",
     "output_type": "stream",
     "text": [
      "\r",
      " 15%|████████████                                                                     | 82/550 [06:21<33:10,  4.25s/it]"
     ]
    },
    {
     "name": "stdout",
     "output_type": "stream",
     "text": [
      "(1, 23, 128, 128, 1)\n",
      "C:\\Users\\gural\\Desktop\\animals\\alligator\\HorizontalFlipVID_20190327_184223Rotate40.mp4\n",
      "\n"
     ]
    },
    {
     "name": "stderr",
     "output_type": "stream",
     "text": [
      "\r",
      " 15%|████████████▏                                                                    | 83/550 [06:26<34:32,  4.44s/it]"
     ]
    },
    {
     "name": "stdout",
     "output_type": "stream",
     "text": [
      "(1, 23, 128, 128, 1)\n",
      "C:\\Users\\gural\\Desktop\\animals\\alligator\\VID_20190327_184300Crop.mp4\n",
      "\n"
     ]
    },
    {
     "name": "stderr",
     "output_type": "stream",
     "text": [
      "\r",
      " 15%|████████████▎                                                                    | 84/550 [06:29<30:39,  3.95s/it]"
     ]
    },
    {
     "name": "stdout",
     "output_type": "stream",
     "text": [
      "(1, 23, 128, 128, 1)\n",
      "C:\\Users\\gural\\Desktop\\animals\\alligator\\HorizontalFlipVID_20190515_183658translate.mp4\n",
      "\n"
     ]
    },
    {
     "name": "stderr",
     "output_type": "stream",
     "text": [
      "\r",
      " 15%|████████████▌                                                                    | 85/550 [06:31<27:01,  3.49s/it]"
     ]
    },
    {
     "name": "stdout",
     "output_type": "stream",
     "text": [
      "(1, 23, 128, 128, 1)\n",
      "C:\\Users\\gural\\Desktop\\animals\\alligator\\VID_20190327_184229Crop.mp4\n",
      "\n"
     ]
    },
    {
     "name": "stderr",
     "output_type": "stream",
     "text": [
      "\r",
      " 16%|████████████▋                                                                    | 86/550 [06:34<25:15,  3.27s/it]"
     ]
    },
    {
     "name": "stdout",
     "output_type": "stream",
     "text": [
      "(1, 23, 128, 128, 1)\n",
      "C:\\Users\\gural\\Desktop\\animals\\tiger\\VID_20190327_185447Rotate.mp4\n",
      "\n"
     ]
    },
    {
     "name": "stderr",
     "output_type": "stream",
     "text": [
      "\r",
      " 16%|████████████▊                                                                    | 87/550 [06:38<27:20,  3.54s/it]"
     ]
    },
    {
     "name": "stdout",
     "output_type": "stream",
     "text": [
      "(1, 23, 128, 128, 1)\n",
      "C:\\Users\\gural\\Desktop\\animals\\mouse\\VID_20190327_185153translate.mp4\n",
      "\n"
     ]
    },
    {
     "name": "stderr",
     "output_type": "stream",
     "text": [
      "\r",
      " 16%|████████████▉                                                                    | 88/550 [06:42<27:43,  3.60s/it]"
     ]
    },
    {
     "name": "stdout",
     "output_type": "stream",
     "text": [
      "(1, 23, 128, 128, 1)\n",
      "C:\\Users\\gural\\Desktop\\animals\\mouse\\VID_20190515_184018Crop.mp4\n",
      "\n"
     ]
    },
    {
     "name": "stderr",
     "output_type": "stream",
     "text": [
      "\r",
      " 16%|█████████████                                                                    | 89/550 [06:45<27:30,  3.58s/it]"
     ]
    },
    {
     "name": "stdout",
     "output_type": "stream",
     "text": [
      "(1, 23, 128, 128, 1)\n",
      "C:\\Users\\gural\\Desktop\\animals\\bull\\VID_20190327_184854.mp4\n",
      "\n"
     ]
    },
    {
     "name": "stderr",
     "output_type": "stream",
     "text": [
      "\r",
      " 16%|█████████████▎                                                                   | 90/550 [06:49<26:39,  3.48s/it]"
     ]
    },
    {
     "name": "stdout",
     "output_type": "stream",
     "text": [
      "(1, 23, 128, 128, 1)\n",
      "C:\\Users\\gural\\Desktop\\animals\\tiger\\HorizontalFlipVID_20190327_173032translate.mp4\n",
      "\n"
     ]
    },
    {
     "name": "stderr",
     "output_type": "stream",
     "text": [
      "\r",
      " 17%|█████████████▍                                                                   | 91/550 [06:56<36:20,  4.75s/it]"
     ]
    },
    {
     "name": "stdout",
     "output_type": "stream",
     "text": [
      "(1, 23, 128, 128, 1)\n",
      "C:\\Users\\gural\\Desktop\\animals\\mouse\\VID_20190327_185230Crop.mp4\n",
      "\n"
     ]
    },
    {
     "name": "stderr",
     "output_type": "stream",
     "text": [
      "\r",
      " 17%|█████████████▌                                                                   | 92/550 [06:59<31:22,  4.11s/it]"
     ]
    },
    {
     "name": "stdout",
     "output_type": "stream",
     "text": [
      "(1, 23, 128, 128, 1)\n",
      "C:\\Users\\gural\\Desktop\\animals\\tiger\\VID_20190327_173032Crop.mp4\n",
      "\n"
     ]
    },
    {
     "name": "stderr",
     "output_type": "stream",
     "text": [
      "\r",
      " 17%|█████████████▋                                                                   | 93/550 [07:03<32:04,  4.21s/it]"
     ]
    },
    {
     "name": "stdout",
     "output_type": "stream",
     "text": [
      "(1, 23, 128, 128, 1)\n",
      "C:\\Users\\gural\\Desktop\\animals\\tiger\\VID_20190327_185447.mp4\n",
      "\n"
     ]
    },
    {
     "name": "stderr",
     "output_type": "stream",
     "text": [
      "\r",
      " 17%|█████████████▊                                                                   | 94/550 [07:08<32:16,  4.25s/it]"
     ]
    },
    {
     "name": "stdout",
     "output_type": "stream",
     "text": [
      "(1, 23, 128, 128, 1)\n",
      "C:\\Users\\gural\\Desktop\\animals\\tiger\\HorizontalFlipVID_20190327_185427Rotate.mp4\n",
      "\n"
     ]
    },
    {
     "name": "stderr",
     "output_type": "stream",
     "text": [
      "\r",
      " 17%|█████████████▉                                                                   | 95/550 [07:15<38:14,  5.04s/it]"
     ]
    },
    {
     "name": "stdout",
     "output_type": "stream",
     "text": [
      "(1, 23, 128, 128, 1)\n",
      "C:\\Users\\gural\\Desktop\\animals\\tiger\\VID_20190327_185601Crop.mp4\n",
      "\n"
     ]
    },
    {
     "name": "stderr",
     "output_type": "stream",
     "text": [
      "\r",
      " 17%|██████████████▏                                                                  | 96/550 [07:17<32:23,  4.28s/it]"
     ]
    },
    {
     "name": "stdout",
     "output_type": "stream",
     "text": [
      "(1, 23, 128, 128, 1)\n",
      "C:\\Users\\gural\\Desktop\\animals\\tiger\\VID_20190327_173108translate.mp4\n",
      "\n"
     ]
    },
    {
     "name": "stderr",
     "output_type": "stream",
     "text": [
      "\r",
      " 18%|██████████████▎                                                                  | 97/550 [07:23<35:47,  4.74s/it]"
     ]
    },
    {
     "name": "stdout",
     "output_type": "stream",
     "text": [
      "(1, 23, 128, 128, 1)\n",
      "C:\\Users\\gural\\Desktop\\animals\\mouse\\HorizontalFlipVID_20190327_185153Rotate.mp4\n",
      "\n"
     ]
    },
    {
     "name": "stderr",
     "output_type": "stream",
     "text": [
      "\r",
      " 18%|██████████████▍                                                                  | 98/550 [07:27<33:29,  4.45s/it]"
     ]
    },
    {
     "name": "stdout",
     "output_type": "stream",
     "text": [
      "(1, 23, 128, 128, 1)\n",
      "C:\\Users\\gural\\Desktop\\animals\\bull\\VID_20190327_184849Rotate40.mp4\n",
      "\n"
     ]
    },
    {
     "name": "stderr",
     "output_type": "stream",
     "text": [
      "\r",
      " 18%|██████████████▌                                                                  | 99/550 [07:31<32:21,  4.30s/it]"
     ]
    },
    {
     "name": "stdout",
     "output_type": "stream",
     "text": [
      "(1, 23, 128, 128, 1)\n",
      "C:\\Users\\gural\\Desktop\\animals\\alligator\\HorizontalFlipVID_20190327_184502translate.mp4\n",
      "\n"
     ]
    },
    {
     "name": "stderr",
     "output_type": "stream",
     "text": [
      "\r",
      " 18%|██████████████▌                                                                 | 100/550 [07:36<34:17,  4.57s/it]"
     ]
    },
    {
     "name": "stdout",
     "output_type": "stream",
     "text": [
      "(1, 23, 128, 128, 1)\n",
      "C:\\Users\\gural\\Desktop\\animals\\tiger\\VID_20190327_172945Rotate40.mp4\n",
      "\n"
     ]
    },
    {
     "name": "stderr",
     "output_type": "stream",
     "text": [
      "\r",
      " 18%|██████████████▋                                                                 | 101/550 [07:41<36:11,  4.84s/it]"
     ]
    },
    {
     "name": "stdout",
     "output_type": "stream",
     "text": [
      "(1, 23, 128, 128, 1)\n",
      "C:\\Users\\gural\\Desktop\\animals\\bull\\VID_20190327_184935.mp4\n",
      "\n"
     ]
    },
    {
     "name": "stderr",
     "output_type": "stream",
     "text": [
      "\r",
      " 19%|██████████████▊                                                                 | 102/550 [07:45<33:38,  4.51s/it]"
     ]
    },
    {
     "name": "stdout",
     "output_type": "stream",
     "text": [
      "(1, 23, 128, 128, 1)\n",
      "C:\\Users\\gural\\Desktop\\animals\\bull\\VID_20190515_183937Rotate40.mp4\n",
      "\n"
     ]
    },
    {
     "name": "stderr",
     "output_type": "stream",
     "text": [
      "\r",
      " 19%|██████████████▉                                                                 | 103/550 [07:53<41:03,  5.51s/it]"
     ]
    },
    {
     "name": "stdout",
     "output_type": "stream",
     "text": [
      "(1, 23, 128, 128, 1)\n",
      "C:\\Users\\gural\\Desktop\\animals\\tiger\\HorizontalFlipVID_20190327_185554Rotate40.mp4\n",
      "\n"
     ]
    },
    {
     "name": "stderr",
     "output_type": "stream",
     "text": [
      "\r",
      " 19%|███████████████▏                                                                | 104/550 [07:57<38:18,  5.15s/it]"
     ]
    },
    {
     "name": "stdout",
     "output_type": "stream",
     "text": [
      "(1, 23, 128, 128, 1)\n",
      "C:\\Users\\gural\\Desktop\\animals\\alligator\\HorizontalFlipVID_20190327_184502Rotate40.mp4\n",
      "\n"
     ]
    },
    {
     "name": "stderr",
     "output_type": "stream",
     "text": [
      "\r",
      " 19%|███████████████▎                                                                | 105/550 [08:02<38:26,  5.18s/it]"
     ]
    },
    {
     "name": "stdout",
     "output_type": "stream",
     "text": [
      "(1, 23, 128, 128, 1)\n",
      "C:\\Users\\gural\\Desktop\\animals\\tiger\\VID_20190327_185440translate.mp4\n",
      "\n"
     ]
    },
    {
     "name": "stderr",
     "output_type": "stream",
     "text": [
      "\r",
      " 19%|███████████████▍                                                                | 106/550 [08:07<38:03,  5.14s/it]"
     ]
    },
    {
     "name": "stdout",
     "output_type": "stream",
     "text": [
      "(1, 23, 128, 128, 1)\n",
      "C:\\Users\\gural\\Desktop\\animals\\bull\\VID_20190327_184939Crop.mp4\n",
      "\n"
     ]
    },
    {
     "name": "stderr",
     "output_type": "stream",
     "text": [
      "\r",
      " 19%|███████████████▌                                                                | 107/550 [08:10<31:35,  4.28s/it]"
     ]
    },
    {
     "name": "stdout",
     "output_type": "stream",
     "text": [
      "(1, 23, 128, 128, 1)\n",
      "C:\\Users\\gural\\Desktop\\animals\\alligator\\VID_20190327_171910.mp4\n",
      "\n"
     ]
    },
    {
     "name": "stderr",
     "output_type": "stream",
     "text": [
      "\r",
      " 20%|███████████████▋                                                                | 108/550 [08:16<36:50,  5.00s/it]"
     ]
    },
    {
     "name": "stdout",
     "output_type": "stream",
     "text": [
      "(1, 23, 128, 128, 1)\n",
      "C:\\Users\\gural\\Desktop\\animals\\mouse\\VID_20190327_185144translate.mp4\n",
      "\n"
     ]
    },
    {
     "name": "stderr",
     "output_type": "stream",
     "text": [
      "\r",
      " 20%|███████████████▊                                                                | 109/550 [08:21<35:42,  4.86s/it]"
     ]
    },
    {
     "name": "stdout",
     "output_type": "stream",
     "text": [
      "(1, 23, 128, 128, 1)\n",
      "C:\\Users\\gural\\Desktop\\animals\\bull\\HorizontalFlipVID_20190515_183912translate.mp4\n",
      "\n"
     ]
    },
    {
     "name": "stderr",
     "output_type": "stream",
     "text": [
      "\r",
      " 20%|████████████████                                                                | 110/550 [08:27<37:54,  5.17s/it]"
     ]
    },
    {
     "name": "stdout",
     "output_type": "stream",
     "text": [
      "(1, 23, 128, 128, 1)\n",
      "C:\\Users\\gural\\Desktop\\animals\\bull\\HorizontalFlipVID_20190327_172501Crop.mp4\n",
      "\n"
     ]
    },
    {
     "name": "stderr",
     "output_type": "stream",
     "text": [
      "\r",
      " 20%|████████████████▏                                                               | 111/550 [08:29<31:13,  4.27s/it]"
     ]
    },
    {
     "name": "stdout",
     "output_type": "stream",
     "text": [
      "(1, 23, 128, 128, 1)\n",
      "C:\\Users\\gural\\Desktop\\animals\\bull\\HorizontalFlipVID_20190515_183928.mp4\n",
      "\n"
     ]
    },
    {
     "name": "stderr",
     "output_type": "stream",
     "text": [
      "\r",
      " 20%|████████████████▎                                                               | 112/550 [08:33<30:11,  4.14s/it]"
     ]
    },
    {
     "name": "stdout",
     "output_type": "stream",
     "text": [
      "(1, 23, 128, 128, 1)\n",
      "C:\\Users\\gural\\Desktop\\animals\\alligator\\VID_20190327_171826.mp4\n",
      "\n"
     ]
    },
    {
     "name": "stderr",
     "output_type": "stream",
     "text": [
      "\r",
      " 21%|████████████████▍                                                               | 113/550 [08:39<33:38,  4.62s/it]"
     ]
    },
    {
     "name": "stdout",
     "output_type": "stream",
     "text": [
      "(1, 23, 128, 128, 1)\n",
      "C:\\Users\\gural\\Desktop\\animals\\alligator\\HorizontalFlipVID_20190327_184510.mp4\n",
      "\n"
     ]
    },
    {
     "name": "stderr",
     "output_type": "stream",
     "text": [
      "\r",
      " 21%|████████████████▌                                                               | 114/550 [08:43<34:08,  4.70s/it]"
     ]
    },
    {
     "name": "stdout",
     "output_type": "stream",
     "text": [
      "(1, 23, 128, 128, 1)\n",
      "C:\\Users\\gural\\Desktop\\animals\\tiger\\HorizontalFlipVID_20190327_185548Crop.mp4\n",
      "\n"
     ]
    },
    {
     "name": "stderr",
     "output_type": "stream",
     "text": [
      "\r",
      " 21%|████████████████▋                                                               | 115/550 [08:46<29:29,  4.07s/it]"
     ]
    },
    {
     "name": "stdout",
     "output_type": "stream",
     "text": [
      "(1, 23, 128, 128, 1)\n",
      "C:\\Users\\gural\\Desktop\\animals\\tiger\\VID_20190327_185508Rotate40.mp4\n",
      "\n"
     ]
    },
    {
     "name": "stderr",
     "output_type": "stream",
     "text": [
      "\r",
      " 21%|████████████████▊                                                               | 116/550 [08:52<33:06,  4.58s/it]"
     ]
    },
    {
     "name": "stdout",
     "output_type": "stream",
     "text": [
      "(1, 23, 128, 128, 1)\n",
      "C:\\Users\\gural\\Desktop\\animals\\alligator\\HorizontalFlipVID_20190327_184223Crop.mp4\n",
      "\n"
     ]
    },
    {
     "name": "stderr",
     "output_type": "stream",
     "text": [
      "\r",
      " 21%|█████████████████                                                               | 117/550 [08:54<28:46,  3.99s/it]"
     ]
    },
    {
     "name": "stdout",
     "output_type": "stream",
     "text": [
      "(1, 23, 128, 128, 1)\n",
      "C:\\Users\\gural\\Desktop\\animals\\bull\\HorizontalFlipVID_20190327_184844Rotate40.mp4\n",
      "\n"
     ]
    },
    {
     "name": "stderr",
     "output_type": "stream",
     "text": [
      "\r",
      " 21%|█████████████████▏                                                              | 118/550 [08:59<30:00,  4.17s/it]"
     ]
    },
    {
     "name": "stdout",
     "output_type": "stream",
     "text": [
      "(1, 23, 128, 128, 1)\n",
      "C:\\Users\\gural\\Desktop\\animals\\tiger\\VID_20190327_185523Crop.mp4\n",
      "\n"
     ]
    },
    {
     "name": "stderr",
     "output_type": "stream",
     "text": [
      "\r",
      " 22%|█████████████████▎                                                              | 119/550 [09:01<26:03,  3.63s/it]"
     ]
    },
    {
     "name": "stdout",
     "output_type": "stream",
     "text": [
      "(1, 23, 128, 128, 1)\n",
      "C:\\Users\\gural\\Desktop\\animals\\bull\\VID_20190327_184748Crop.mp4\n",
      "\n"
     ]
    },
    {
     "name": "stderr",
     "output_type": "stream",
     "text": [
      "\r",
      " 22%|█████████████████▍                                                              | 120/550 [09:04<24:27,  3.41s/it]"
     ]
    },
    {
     "name": "stdout",
     "output_type": "stream",
     "text": [
      "(1, 23, 128, 128, 1)\n",
      "C:\\Users\\gural\\Desktop\\animals\\tiger\\HorizontalFlipVID_20190515_183731Rotate40.mp4\n",
      "\n"
     ]
    },
    {
     "name": "stderr",
     "output_type": "stream",
     "text": [
      "\r",
      " 22%|█████████████████▌                                                              | 121/550 [09:09<26:44,  3.74s/it]"
     ]
    },
    {
     "name": "stdout",
     "output_type": "stream",
     "text": [
      "(1, 23, 128, 128, 1)\n",
      "C:\\Users\\gural\\Desktop\\animals\\alligator\\HorizontalFlipVID_20190327_184332Rotate.mp4\n",
      "\n"
     ]
    },
    {
     "name": "stderr",
     "output_type": "stream",
     "text": [
      "\r",
      " 22%|█████████████████▋                                                              | 122/550 [09:14<28:44,  4.03s/it]"
     ]
    },
    {
     "name": "stdout",
     "output_type": "stream",
     "text": [
      "(1, 23, 128, 128, 1)\n",
      "C:\\Users\\gural\\Desktop\\animals\\bull\\HorizontalFlipVID_20190327_184854Crop.mp4\n",
      "\n"
     ]
    },
    {
     "name": "stderr",
     "output_type": "stream",
     "text": [
      "\r",
      " 22%|█████████████████▉                                                              | 123/550 [09:15<24:05,  3.38s/it]"
     ]
    },
    {
     "name": "stdout",
     "output_type": "stream",
     "text": [
      "(1, 23, 128, 128, 1)\n",
      "C:\\Users\\gural\\Desktop\\animals\\bull\\VID_20190327_184748Rotate.mp4\n",
      "\n"
     ]
    },
    {
     "name": "stderr",
     "output_type": "stream",
     "text": [
      "\r",
      " 23%|██████████████████                                                              | 124/550 [09:21<27:41,  3.90s/it]"
     ]
    },
    {
     "name": "stdout",
     "output_type": "stream",
     "text": [
      "(1, 23, 128, 128, 1)\n",
      "C:\\Users\\gural\\Desktop\\animals\\alligator\\HorizontalFlipVID_20190327_184223translate.mp4\n",
      "\n"
     ]
    },
    {
     "name": "stderr",
     "output_type": "stream",
     "text": [
      "\r",
      " 23%|██████████████████▏                                                             | 125/550 [09:25<29:27,  4.16s/it]"
     ]
    },
    {
     "name": "stdout",
     "output_type": "stream",
     "text": [
      "(1, 23, 128, 128, 1)\n",
      "C:\\Users\\gural\\Desktop\\animals\\bull\\HorizontalFlipVID_20190327_184939translate.mp4\n",
      "\n"
     ]
    },
    {
     "name": "stderr",
     "output_type": "stream",
     "text": [
      "\r",
      " 23%|██████████████████▎                                                             | 126/550 [09:29<28:58,  4.10s/it]"
     ]
    },
    {
     "name": "stdout",
     "output_type": "stream",
     "text": [
      "(1, 23, 128, 128, 1)\n",
      "C:\\Users\\gural\\Desktop\\animals\\mouse\\VID_20190327_172703Crop.mp4\n",
      "\n"
     ]
    },
    {
     "name": "stderr",
     "output_type": "stream",
     "text": [
      "\r",
      " 23%|██████████████████▍                                                             | 127/550 [09:33<29:12,  4.14s/it]"
     ]
    },
    {
     "name": "stdout",
     "output_type": "stream",
     "text": [
      "(1, 23, 128, 128, 1)\n",
      "C:\\Users\\gural\\Desktop\\animals\\alligator\\VID_20190327_184415Rotate40.mp4\n",
      "\n"
     ]
    },
    {
     "name": "stderr",
     "output_type": "stream",
     "text": [
      "\r",
      " 23%|██████████████████▌                                                             | 128/550 [09:38<30:04,  4.28s/it]"
     ]
    },
    {
     "name": "stdout",
     "output_type": "stream",
     "text": [
      "(1, 23, 128, 128, 1)\n",
      "C:\\Users\\gural\\Desktop\\animals\\tiger\\VID_20190327_185518Crop.mp4\n",
      "\n"
     ]
    },
    {
     "name": "stderr",
     "output_type": "stream",
     "text": [
      "\r",
      " 23%|██████████████████▊                                                             | 129/550 [09:41<26:16,  3.75s/it]"
     ]
    },
    {
     "name": "stdout",
     "output_type": "stream",
     "text": [
      "(1, 23, 128, 128, 1)\n",
      "C:\\Users\\gural\\Desktop\\animals\\bull\\VID_20190515_183912Rotate40.mp4\n",
      "\n"
     ]
    },
    {
     "name": "stderr",
     "output_type": "stream",
     "text": [
      "\r",
      " 24%|██████████████████▉                                                             | 130/550 [09:46<30:47,  4.40s/it]"
     ]
    },
    {
     "name": "stdout",
     "output_type": "stream",
     "text": [
      "(1, 23, 128, 128, 1)\n",
      "C:\\Users\\gural\\Desktop\\animals\\mouse\\VID_20190327_185324Crop.mp4\n",
      "\n"
     ]
    },
    {
     "name": "stderr",
     "output_type": "stream",
     "text": [
      "\r",
      " 24%|███████████████████                                                             | 131/550 [09:49<27:36,  3.95s/it]"
     ]
    },
    {
     "name": "stdout",
     "output_type": "stream",
     "text": [
      "(1, 23, 128, 128, 1)\n",
      "C:\\Users\\gural\\Desktop\\animals\\bull\\HorizontalFlipVID_20190327_184849translate.mp4\n",
      "\n"
     ]
    },
    {
     "name": "stderr",
     "output_type": "stream",
     "text": [
      "\r",
      " 24%|███████████████████▏                                                            | 132/550 [09:53<27:23,  3.93s/it]"
     ]
    },
    {
     "name": "stdout",
     "output_type": "stream",
     "text": [
      "(1, 23, 128, 128, 1)\n",
      "C:\\Users\\gural\\Desktop\\animals\\tiger\\HorizontalFlipVID_20190327_185518Crop.mp4\n",
      "\n"
     ]
    },
    {
     "name": "stderr",
     "output_type": "stream",
     "text": [
      "\r",
      " 24%|███████████████████▎                                                            | 133/550 [09:56<24:20,  3.50s/it]"
     ]
    },
    {
     "name": "stdout",
     "output_type": "stream",
     "text": [
      "(1, 23, 128, 128, 1)\n",
      "C:\\Users\\gural\\Desktop\\animals\\mouse\\VID_20190327_185236Rotate40.mp4\n",
      "\n"
     ]
    },
    {
     "name": "stderr",
     "output_type": "stream",
     "text": [
      "\r",
      " 24%|███████████████████▍                                                            | 134/550 [10:00<25:35,  3.69s/it]"
     ]
    },
    {
     "name": "stdout",
     "output_type": "stream",
     "text": [
      "(1, 23, 128, 128, 1)\n",
      "C:\\Users\\gural\\Desktop\\animals\\mouse\\HorizontalFlipVID_20190327_172833Crop.mp4\n",
      "\n"
     ]
    },
    {
     "name": "stderr",
     "output_type": "stream",
     "text": [
      "\r",
      " 25%|███████████████████▋                                                            | 135/550 [10:04<25:54,  3.75s/it]"
     ]
    },
    {
     "name": "stdout",
     "output_type": "stream",
     "text": [
      "(1, 23, 128, 128, 1)\n",
      "C:\\Users\\gural\\Desktop\\animals\\mouse\\VID_20190515_184028.mp4\n",
      "\n"
     ]
    },
    {
     "name": "stderr",
     "output_type": "stream",
     "text": [
      "\r",
      " 25%|███████████████████▊                                                            | 136/550 [10:14<39:01,  5.66s/it]"
     ]
    },
    {
     "name": "stdout",
     "output_type": "stream",
     "text": [
      "(1, 23, 128, 128, 1)\n",
      "C:\\Users\\gural\\Desktop\\animals\\tiger\\HorizontalFlipVID_20190327_173008.mp4\n",
      "\n"
     ]
    },
    {
     "name": "stderr",
     "output_type": "stream",
     "text": [
      "\r",
      " 25%|███████████████████▉                                                            | 137/550 [10:19<38:36,  5.61s/it]"
     ]
    },
    {
     "name": "stdout",
     "output_type": "stream",
     "text": [
      "(1, 23, 128, 128, 1)\n",
      "C:\\Users\\gural\\Desktop\\animals\\alligator\\HorizontalFlipVID_20190327_184332.mp4\n",
      "\n"
     ]
    },
    {
     "name": "stderr",
     "output_type": "stream",
     "text": [
      "\r",
      " 25%|████████████████████                                                            | 138/550 [10:24<36:37,  5.33s/it]"
     ]
    },
    {
     "name": "stdout",
     "output_type": "stream",
     "text": [
      "(1, 23, 128, 128, 1)\n",
      "C:\\Users\\gural\\Desktop\\animals\\tiger\\VID_20190327_185434Rotate40.mp4\n",
      "\n"
     ]
    },
    {
     "name": "stderr",
     "output_type": "stream",
     "text": [
      "\r",
      " 25%|████████████████████▏                                                           | 139/550 [10:29<36:25,  5.32s/it]"
     ]
    },
    {
     "name": "stdout",
     "output_type": "stream",
     "text": [
      "(1, 23, 128, 128, 1)\n",
      "C:\\Users\\gural\\Desktop\\animals\\mouse\\HorizontalFlipVID_20190327_185324Crop.mp4\n",
      "\n"
     ]
    },
    {
     "name": "stderr",
     "output_type": "stream",
     "text": [
      "\r",
      " 25%|████████████████████▎                                                           | 140/550 [10:32<31:40,  4.64s/it]"
     ]
    },
    {
     "name": "stdout",
     "output_type": "stream",
     "text": [
      "(1, 23, 128, 128, 1)\n",
      "C:\\Users\\gural\\Desktop\\animals\\tiger\\VID_20190327_185601Rotate40.mp4\n",
      "\n"
     ]
    },
    {
     "name": "stderr",
     "output_type": "stream",
     "text": [
      "\r",
      " 26%|████████████████████▌                                                           | 141/550 [10:37<30:52,  4.53s/it]"
     ]
    },
    {
     "name": "stdout",
     "output_type": "stream",
     "text": [
      "(1, 23, 128, 128, 1)\n",
      "C:\\Users\\gural\\Desktop\\animals\\mouse\\HorizontalFlipVID_20190327_185324Rotate.mp4\n",
      "\n"
     ]
    },
    {
     "name": "stderr",
     "output_type": "stream",
     "text": [
      "\r",
      " 26%|████████████████████▋                                                           | 142/550 [10:42<31:51,  4.68s/it]"
     ]
    },
    {
     "name": "stdout",
     "output_type": "stream",
     "text": [
      "(1, 23, 128, 128, 1)\n",
      "C:\\Users\\gural\\Desktop\\animals\\mouse\\VID_20190515_184023translate.mp4\n",
      "\n"
     ]
    },
    {
     "name": "stderr",
     "output_type": "stream",
     "text": [
      "\r",
      " 26%|████████████████████▊                                                           | 143/550 [10:47<33:04,  4.87s/it]"
     ]
    },
    {
     "name": "stdout",
     "output_type": "stream",
     "text": [
      "(1, 23, 128, 128, 1)\n",
      "C:\\Users\\gural\\Desktop\\animals\\bull\\VID_20190327_184957translate.mp4\n",
      "\n"
     ]
    },
    {
     "name": "stderr",
     "output_type": "stream",
     "text": [
      "\r",
      " 26%|████████████████████▉                                                           | 144/550 [10:51<31:10,  4.61s/it]"
     ]
    },
    {
     "name": "stdout",
     "output_type": "stream",
     "text": [
      "(1, 23, 128, 128, 1)\n",
      "C:\\Users\\gural\\Desktop\\animals\\mouse\\VID_20190327_172833.mp4\n",
      "\n"
     ]
    },
    {
     "name": "stderr",
     "output_type": "stream",
     "text": [
      "\r",
      " 26%|█████████████████████                                                           | 145/550 [10:58<35:51,  5.31s/it]"
     ]
    },
    {
     "name": "stdout",
     "output_type": "stream",
     "text": [
      "(1, 23, 128, 128, 1)\n",
      "C:\\Users\\gural\\Desktop\\animals\\mouse\\VID_20190327_172703Rotate.mp4\n",
      "\n"
     ]
    },
    {
     "name": "stderr",
     "output_type": "stream",
     "text": [
      "\r",
      " 27%|█████████████████████▏                                                          | 146/550 [11:06<40:48,  6.06s/it]"
     ]
    },
    {
     "name": "stdout",
     "output_type": "stream",
     "text": [
      "(1, 23, 128, 128, 1)\n",
      "C:\\Users\\gural\\Desktop\\animals\\alligator\\HorizontalFlipVID_20190327_184229translate.mp4\n",
      "\n"
     ]
    },
    {
     "name": "stderr",
     "output_type": "stream",
     "text": [
      "\r",
      " 27%|█████████████████████▍                                                          | 147/550 [11:11<38:32,  5.74s/it]"
     ]
    },
    {
     "name": "stdout",
     "output_type": "stream",
     "text": [
      "(1, 23, 128, 128, 1)\n",
      "C:\\Users\\gural\\Desktop\\animals\\alligator\\HorizontalFlipVID_20190327_184339.mp4\n",
      "\n"
     ]
    },
    {
     "name": "stderr",
     "output_type": "stream",
     "text": [
      "\r",
      " 27%|█████████████████████▌                                                          | 148/550 [11:16<37:38,  5.62s/it]"
     ]
    },
    {
     "name": "stdout",
     "output_type": "stream",
     "text": [
      "(1, 23, 128, 128, 1)\n",
      "C:\\Users\\gural\\Desktop\\animals\\mouse\\HorizontalFlipVID_20190327_185157Crop.mp4\n",
      "\n"
     ]
    },
    {
     "name": "stderr",
     "output_type": "stream",
     "text": [
      "\r",
      " 27%|█████████████████████▋                                                          | 149/550 [11:19<31:33,  4.72s/it]"
     ]
    },
    {
     "name": "stdout",
     "output_type": "stream",
     "text": [
      "(1, 23, 128, 128, 1)\n",
      "C:\\Users\\gural\\Desktop\\animals\\tiger\\HorizontalFlipVID_20190327_185606Crop.mp4\n",
      "\n"
     ]
    },
    {
     "name": "stderr",
     "output_type": "stream",
     "text": [
      "\r",
      " 27%|█████████████████████▊                                                          | 150/550 [11:22<27:34,  4.14s/it]"
     ]
    },
    {
     "name": "stdout",
     "output_type": "stream",
     "text": [
      "(1, 23, 128, 128, 1)\n",
      "C:\\Users\\gural\\Desktop\\animals\\bull\\VID_20190529_193347.mp4\n",
      "\n"
     ]
    },
    {
     "name": "stderr",
     "output_type": "stream",
     "text": [
      "\r",
      " 27%|█████████████████████▉                                                          | 151/550 [11:26<29:02,  4.37s/it]"
     ]
    },
    {
     "name": "stdout",
     "output_type": "stream",
     "text": [
      "(1, 23, 128, 128, 1)\n",
      "C:\\Users\\gural\\Desktop\\animals\\mouse\\HorizontalFlipVID_20190327_172914translate.mp4\n",
      "\n"
     ]
    },
    {
     "name": "stderr",
     "output_type": "stream",
     "text": [
      "\r",
      " 28%|██████████████████████                                                          | 152/550 [11:34<35:58,  5.42s/it]"
     ]
    },
    {
     "name": "stdout",
     "output_type": "stream",
     "text": [
      "(1, 23, 128, 128, 1)\n",
      "C:\\Users\\gural\\Desktop\\animals\\bull\\VID_20190327_184844Rotate.mp4\n",
      "\n"
     ]
    },
    {
     "name": "stderr",
     "output_type": "stream",
     "text": [
      "\r",
      " 28%|██████████████████████▎                                                         | 153/550 [11:39<34:26,  5.21s/it]"
     ]
    },
    {
     "name": "stdout",
     "output_type": "stream",
     "text": [
      "(1, 23, 128, 128, 1)\n",
      "C:\\Users\\gural\\Desktop\\animals\\alligator\\VID_20190327_171826translate.mp4\n",
      "\n"
     ]
    },
    {
     "name": "stderr",
     "output_type": "stream",
     "text": [
      "\r",
      " 28%|██████████████████████▍                                                         | 154/550 [11:45<35:50,  5.43s/it]"
     ]
    },
    {
     "name": "stdout",
     "output_type": "stream",
     "text": [
      "(1, 23, 128, 128, 1)\n",
      "C:\\Users\\gural\\Desktop\\animals\\tiger\\HorizontalFlipVID_20190327_185532translate.mp4\n",
      "\n"
     ]
    },
    {
     "name": "stderr",
     "output_type": "stream",
     "text": [
      "\r",
      " 28%|██████████████████████▌                                                         | 155/550 [11:49<33:52,  5.15s/it]"
     ]
    },
    {
     "name": "stdout",
     "output_type": "stream",
     "text": [
      "(1, 23, 128, 128, 1)\n",
      "C:\\Users\\gural\\Desktop\\animals\\bull\\VID_20190327_184939.mp4\n",
      "\n"
     ]
    },
    {
     "name": "stderr",
     "output_type": "stream",
     "text": [
      "\r",
      " 28%|██████████████████████▋                                                         | 156/550 [11:54<31:48,  4.85s/it]"
     ]
    },
    {
     "name": "stdout",
     "output_type": "stream",
     "text": [
      "(1, 23, 128, 128, 1)\n",
      "C:\\Users\\gural\\Desktop\\animals\\bull\\HorizontalFlipVID_20190515_183928Rotate40.mp4\n",
      "\n"
     ]
    },
    {
     "name": "stderr",
     "output_type": "stream",
     "text": [
      "\r",
      " 29%|██████████████████████▊                                                         | 157/550 [11:58<29:52,  4.56s/it]"
     ]
    },
    {
     "name": "stdout",
     "output_type": "stream",
     "text": [
      "(1, 23, 128, 128, 1)\n",
      "C:\\Users\\gural\\Desktop\\animals\\alligator\\VID_20190327_184332Crop.mp4\n",
      "\n"
     ]
    },
    {
     "name": "stderr",
     "output_type": "stream",
     "text": [
      "\r",
      " 29%|██████████████████████▉                                                         | 158/550 [12:00<26:12,  4.01s/it]"
     ]
    },
    {
     "name": "stdout",
     "output_type": "stream",
     "text": [
      "(1, 23, 128, 128, 1)\n",
      "C:\\Users\\gural\\Desktop\\animals\\alligator\\HorizontalFlipVID_20190327_184502Crop.mp4\n",
      "\n"
     ]
    },
    {
     "name": "stderr",
     "output_type": "stream",
     "text": [
      "\r",
      " 29%|███████████████████████▏                                                        | 159/550 [12:03<24:36,  3.78s/it]"
     ]
    },
    {
     "name": "stdout",
     "output_type": "stream",
     "text": [
      "(1, 23, 128, 128, 1)\n",
      "C:\\Users\\gural\\Desktop\\animals\\alligator\\VID_20190515_183658Rotate40.mp4\n",
      "\n"
     ]
    },
    {
     "name": "stderr",
     "output_type": "stream",
     "text": [
      "\r",
      " 29%|███████████████████████▎                                                        | 160/550 [12:06<22:13,  3.42s/it]"
     ]
    },
    {
     "name": "stdout",
     "output_type": "stream",
     "text": [
      "(1, 23, 128, 128, 1)\n",
      "C:\\Users\\gural\\Desktop\\animals\\tiger\\HorizontalFlipVID_20190515_183755Rotate40.mp4\n",
      "\n"
     ]
    },
    {
     "name": "stderr",
     "output_type": "stream",
     "text": [
      "\r",
      " 29%|███████████████████████▍                                                        | 161/550 [12:10<23:08,  3.57s/it]"
     ]
    },
    {
     "name": "stdout",
     "output_type": "stream",
     "text": [
      "(1, 23, 128, 128, 1)\n",
      "C:\\Users\\gural\\Desktop\\animals\\mouse\\HorizontalFlipVID_20190515_184018Crop.mp4\n",
      "\n"
     ]
    },
    {
     "name": "stderr",
     "output_type": "stream",
     "text": [
      "\r",
      " 29%|███████████████████████▌                                                        | 162/550 [12:14<23:33,  3.64s/it]"
     ]
    },
    {
     "name": "stdout",
     "output_type": "stream",
     "text": [
      "(1, 23, 128, 128, 1)\n",
      "C:\\Users\\gural\\Desktop\\animals\\alligator\\VID_20190529_193254.mp4\n",
      "\n"
     ]
    },
    {
     "name": "stderr",
     "output_type": "stream",
     "text": [
      "\r",
      " 30%|███████████████████████▋                                                        | 163/550 [12:20<28:21,  4.40s/it]"
     ]
    },
    {
     "name": "stdout",
     "output_type": "stream",
     "text": [
      "(1, 23, 128, 128, 1)\n",
      "C:\\Users\\gural\\Desktop\\animals\\bull\\HorizontalFlipVID_20190327_184854Rotate40.mp4\n",
      "\n"
     ]
    },
    {
     "name": "stderr",
     "output_type": "stream",
     "text": [
      "\r",
      " 30%|███████████████████████▊                                                        | 164/550 [12:23<26:24,  4.11s/it]"
     ]
    },
    {
     "name": "stdout",
     "output_type": "stream",
     "text": [
      "(1, 23, 128, 128, 1)\n",
      "C:\\Users\\gural\\Desktop\\animals\\mouse\\HorizontalFlipVID_20190515_184013.mp4\n",
      "\n"
     ]
    },
    {
     "name": "stderr",
     "output_type": "stream",
     "text": [
      "\r",
      " 30%|████████████████████████                                                        | 165/550 [12:29<29:17,  4.57s/it]"
     ]
    },
    {
     "name": "stdout",
     "output_type": "stream",
     "text": [
      "(1, 23, 128, 128, 1)\n",
      "C:\\Users\\gural\\Desktop\\animals\\bull\\HorizontalFlipVID_20190327_184935Rotate.mp4\n",
      "\n"
     ]
    },
    {
     "name": "stderr",
     "output_type": "stream",
     "text": [
      "\r",
      " 30%|████████████████████████▏                                                       | 166/550 [12:33<27:57,  4.37s/it]"
     ]
    },
    {
     "name": "stdout",
     "output_type": "stream",
     "text": [
      "(1, 23, 128, 128, 1)\n",
      "C:\\Users\\gural\\Desktop\\animals\\tiger\\HorizontalFlipVID_20190327_185548Rotate40.mp4\n",
      "\n"
     ]
    },
    {
     "name": "stderr",
     "output_type": "stream",
     "text": [
      "\r",
      " 30%|████████████████████████▎                                                       | 167/550 [12:38<28:43,  4.50s/it]"
     ]
    },
    {
     "name": "stdout",
     "output_type": "stream",
     "text": [
      "(1, 23, 128, 128, 1)\n",
      "C:\\Users\\gural\\Desktop\\animals\\mouse\\HorizontalFlipVID_20190515_184023Rotate.mp4\n",
      "\n"
     ]
    },
    {
     "name": "stderr",
     "output_type": "stream",
     "text": [
      "\r",
      " 31%|████████████████████████▍                                                       | 168/550 [12:43<30:50,  4.84s/it]"
     ]
    },
    {
     "name": "stdout",
     "output_type": "stream",
     "text": [
      "(1, 23, 128, 128, 1)\n",
      "C:\\Users\\gural\\Desktop\\animals\\mouse\\HorizontalFlipVID_20190327_185157Rotate.mp4\n",
      "\n"
     ]
    },
    {
     "name": "stderr",
     "output_type": "stream",
     "text": [
      "\r",
      " 31%|████████████████████████▌                                                       | 169/550 [12:48<30:12,  4.76s/it]"
     ]
    },
    {
     "name": "stdout",
     "output_type": "stream",
     "text": [
      "(1, 23, 128, 128, 1)\n",
      "C:\\Users\\gural\\Desktop\\animals\\mouse\\HorizontalFlipVID_20190327_185330translate.mp4\n",
      "\n"
     ]
    },
    {
     "name": "stderr",
     "output_type": "stream",
     "text": [
      "\r",
      " 31%|████████████████████████▋                                                       | 170/550 [12:53<31:07,  4.92s/it]"
     ]
    },
    {
     "name": "stdout",
     "output_type": "stream",
     "text": [
      "(1, 23, 128, 128, 1)\n",
      "C:\\Users\\gural\\Desktop\\animals\\tiger\\HorizontalFlipVID_20190327_173108translate.mp4\n",
      "\n"
     ]
    },
    {
     "name": "stderr",
     "output_type": "stream",
     "text": [
      "\r",
      " 31%|████████████████████████▊                                                       | 171/550 [12:59<33:02,  5.23s/it]"
     ]
    },
    {
     "name": "stdout",
     "output_type": "stream",
     "text": [
      "(1, 23, 128, 128, 1)\n",
      "C:\\Users\\gural\\Desktop\\animals\\bull\\HorizontalFlipVID_20190327_172536Rotate.mp4\n",
      "\n"
     ]
    },
    {
     "name": "stderr",
     "output_type": "stream",
     "text": [
      "\r",
      " 31%|█████████████████████████                                                       | 172/550 [13:06<36:27,  5.79s/it]"
     ]
    },
    {
     "name": "stdout",
     "output_type": "stream",
     "text": [
      "(1, 23, 128, 128, 1)\n",
      "C:\\Users\\gural\\Desktop\\animals\\alligator\\HorizontalFlipVID_20190327_184300translate.mp4\n",
      "\n"
     ]
    },
    {
     "name": "stderr",
     "output_type": "stream",
     "text": [
      "\r",
      " 31%|█████████████████████████▏                                                      | 173/550 [13:11<34:49,  5.54s/it]"
     ]
    },
    {
     "name": "stdout",
     "output_type": "stream",
     "text": [
      "(1, 23, 128, 128, 1)\n",
      "C:\\Users\\gural\\Desktop\\animals\\alligator\\HorizontalFlipVID_20190327_184300Rotate.mp4\n",
      "\n"
     ]
    },
    {
     "name": "stderr",
     "output_type": "stream",
     "text": [
      "\r",
      " 32%|█████████████████████████▎                                                      | 174/550 [13:16<33:49,  5.40s/it]"
     ]
    },
    {
     "name": "stdout",
     "output_type": "stream",
     "text": [
      "(1, 23, 128, 128, 1)\n",
      "C:\\Users\\gural\\Desktop\\animals\\bull\\HorizontalFlipVID_20190327_172412Rotate40.mp4\n",
      "\n"
     ]
    },
    {
     "name": "stderr",
     "output_type": "stream",
     "text": [
      "\r",
      " 32%|█████████████████████████▍                                                      | 175/550 [13:21<32:06,  5.14s/it]"
     ]
    },
    {
     "name": "stdout",
     "output_type": "stream",
     "text": [
      "(1, 23, 128, 128, 1)\n",
      "C:\\Users\\gural\\Desktop\\animals\\bull\\HorizontalFlipVID_20190327_184939.mp4\n",
      "\n"
     ]
    },
    {
     "name": "stderr",
     "output_type": "stream",
     "text": [
      "\r",
      " 32%|█████████████████████████▌                                                      | 176/550 [13:25<29:53,  4.80s/it]"
     ]
    },
    {
     "name": "stdout",
     "output_type": "stream",
     "text": [
      "(1, 23, 128, 128, 1)\n",
      "C:\\Users\\gural\\Desktop\\animals\\mouse\\VID_20190327_185230.mp4\n",
      "\n"
     ]
    },
    {
     "name": "stderr",
     "output_type": "stream",
     "text": [
      "\r",
      " 32%|█████████████████████████▋                                                      | 177/550 [13:30<29:52,  4.81s/it]"
     ]
    },
    {
     "name": "stdout",
     "output_type": "stream",
     "text": [
      "(1, 23, 128, 128, 1)\n",
      "C:\\Users\\gural\\Desktop\\animals\\mouse\\HorizontalFlipVID_20190515_184013Rotate40.mp4\n",
      "\n"
     ]
    },
    {
     "name": "stderr",
     "output_type": "stream",
     "text": [
      "\r",
      " 32%|█████████████████████████▉                                                      | 178/550 [13:35<31:31,  5.09s/it]"
     ]
    },
    {
     "name": "stdout",
     "output_type": "stream",
     "text": [
      "(1, 23, 128, 128, 1)\n",
      "C:\\Users\\gural\\Desktop\\animals\\mouse\\HorizontalFlipVID_20190327_185330.mp4\n",
      "\n"
     ]
    },
    {
     "name": "stderr",
     "output_type": "stream",
     "text": [
      "\r",
      " 33%|██████████████████████████                                                      | 179/550 [13:40<31:29,  5.09s/it]"
     ]
    },
    {
     "name": "stdout",
     "output_type": "stream",
     "text": [
      "(1, 23, 128, 128, 1)\n",
      "C:\\Users\\gural\\Desktop\\animals\\alligator\\VID_20190327_184234Rotate.mp4\n",
      "\n"
     ]
    },
    {
     "name": "stderr",
     "output_type": "stream",
     "text": [
      "\r",
      " 33%|██████████████████████████▏                                                     | 180/550 [13:48<35:57,  5.83s/it]"
     ]
    },
    {
     "name": "stdout",
     "output_type": "stream",
     "text": [
      "(1, 23, 128, 128, 1)\n",
      "C:\\Users\\gural\\Desktop\\animals\\tiger\\VID_20190327_185532translate.mp4\n",
      "\n"
     ]
    },
    {
     "name": "stderr",
     "output_type": "stream",
     "text": [
      "\r",
      " 33%|██████████████████████████▎                                                     | 181/550 [13:53<33:21,  5.42s/it]"
     ]
    },
    {
     "name": "stdout",
     "output_type": "stream",
     "text": [
      "(1, 23, 128, 128, 1)\n",
      "C:\\Users\\gural\\Desktop\\animals\\bull\\HorizontalFlipVID_20190327_184939Rotate.mp4\n",
      "\n"
     ]
    },
    {
     "name": "stderr",
     "output_type": "stream",
     "text": [
      "\r",
      " 33%|██████████████████████████▍                                                     | 182/550 [13:57<30:38,  5.00s/it]"
     ]
    },
    {
     "name": "stdout",
     "output_type": "stream",
     "text": [
      "(1, 23, 128, 128, 1)\n",
      "C:\\Users\\gural\\Desktop\\animals\\alligator\\HorizontalFlipVID_20190327_184339Rotate40.mp4\n",
      "\n"
     ]
    },
    {
     "name": "stderr",
     "output_type": "stream",
     "text": [
      "\r",
      " 33%|██████████████████████████▌                                                     | 183/550 [14:02<30:41,  5.02s/it]"
     ]
    },
    {
     "name": "stdout",
     "output_type": "stream",
     "text": [
      "(1, 23, 128, 128, 1)\n",
      "C:\\Users\\gural\\Desktop\\animals\\tiger\\VID_20190327_185601Rotate.mp4\n",
      "\n"
     ]
    },
    {
     "name": "stderr",
     "output_type": "stream",
     "text": [
      "\r",
      " 33%|██████████████████████████▊                                                     | 184/550 [14:06<29:38,  4.86s/it]"
     ]
    },
    {
     "name": "stdout",
     "output_type": "stream",
     "text": [
      "(1, 23, 128, 128, 1)\n",
      "C:\\Users\\gural\\Desktop\\animals\\alligator\\HorizontalFlipVID_20190327_184502.mp4\n",
      "\n"
     ]
    },
    {
     "name": "stderr",
     "output_type": "stream",
     "text": [
      "\r",
      " 34%|██████████████████████████▉                                                     | 185/550 [14:12<30:53,  5.08s/it]"
     ]
    },
    {
     "name": "stdout",
     "output_type": "stream",
     "text": [
      "(1, 23, 128, 128, 1)\n",
      "C:\\Users\\gural\\Desktop\\animals\\alligator\\VID_20190327_184320Rotate40.mp4\n",
      "\n"
     ]
    },
    {
     "name": "stderr",
     "output_type": "stream",
     "text": [
      "\r",
      " 34%|███████████████████████████                                                     | 186/550 [14:17<31:42,  5.23s/it]"
     ]
    },
    {
     "name": "stdout",
     "output_type": "stream",
     "text": [
      "(1, 23, 128, 128, 1)\n",
      "C:\\Users\\gural\\Desktop\\animals\\bull\\VID_20190327_184748translate.mp4\n",
      "\n"
     ]
    },
    {
     "name": "stderr",
     "output_type": "stream",
     "text": [
      "\r",
      " 34%|███████████████████████████▏                                                    | 187/550 [14:23<31:45,  5.25s/it]"
     ]
    },
    {
     "name": "stdout",
     "output_type": "stream",
     "text": [
      "(1, 23, 128, 128, 1)\n",
      "C:\\Users\\gural\\Desktop\\animals\\alligator\\HorizontalFlipVID_20190327_172003Crop.mp4\n",
      "\n"
     ]
    },
    {
     "name": "stderr",
     "output_type": "stream",
     "text": [
      "\r",
      " 34%|███████████████████████████▎                                                    | 188/550 [14:26<28:10,  4.67s/it]"
     ]
    },
    {
     "name": "stdout",
     "output_type": "stream",
     "text": [
      "(1, 23, 128, 128, 1)\n",
      "C:\\Users\\gural\\Desktop\\animals\\mouse\\VID_20190327_185153.mp4\n",
      "\n"
     ]
    },
    {
     "name": "stderr",
     "output_type": "stream",
     "text": [
      "\r",
      " 34%|███████████████████████████▍                                                    | 189/550 [14:30<26:49,  4.46s/it]"
     ]
    },
    {
     "name": "stdout",
     "output_type": "stream",
     "text": [
      "(1, 23, 128, 128, 1)\n",
      "C:\\Users\\gural\\Desktop\\animals\\mouse\\HorizontalFlipVID_20190327_185157translate.mp4\n",
      "\n"
     ]
    },
    {
     "name": "stderr",
     "output_type": "stream",
     "text": [
      "\r",
      " 35%|███████████████████████████▋                                                    | 190/550 [14:34<27:06,  4.52s/it]"
     ]
    },
    {
     "name": "stdout",
     "output_type": "stream",
     "text": [
      "(1, 23, 128, 128, 1)\n",
      "C:\\Users\\gural\\Desktop\\animals\\mouse\\VID_20190327_185236.mp4\n",
      "\n"
     ]
    },
    {
     "name": "stderr",
     "output_type": "stream",
     "text": [
      "\r",
      " 35%|███████████████████████████▊                                                    | 191/550 [14:39<26:48,  4.48s/it]"
     ]
    },
    {
     "name": "stdout",
     "output_type": "stream",
     "text": [
      "(1, 23, 128, 128, 1)\n",
      "C:\\Users\\gural\\Desktop\\animals\\alligator\\VID_20190327_172127Rotate40.mp4\n",
      "\n"
     ]
    },
    {
     "name": "stderr",
     "output_type": "stream",
     "text": [
      "\r",
      " 35%|███████████████████████████▉                                                    | 192/550 [14:46<32:18,  5.41s/it]"
     ]
    },
    {
     "name": "stdout",
     "output_type": "stream",
     "text": [
      "(1, 23, 128, 128, 1)\n",
      "C:\\Users\\gural\\Desktop\\animals\\bull\\VID_20190327_172316translate.mp4\n",
      "\n"
     ]
    },
    {
     "name": "stderr",
     "output_type": "stream",
     "text": [
      "\r",
      " 35%|████████████████████████████                                                    | 193/550 [14:50<29:39,  4.98s/it]"
     ]
    },
    {
     "name": "stdout",
     "output_type": "stream",
     "text": [
      "(1, 23, 128, 128, 1)\n",
      "C:\\Users\\gural\\Desktop\\animals\\tiger\\VID_20190327_185532Rotate.mp4\n",
      "\n"
     ]
    },
    {
     "name": "stderr",
     "output_type": "stream",
     "text": [
      "\r",
      " 35%|████████████████████████████▏                                                   | 194/550 [14:55<28:52,  4.87s/it]"
     ]
    },
    {
     "name": "stdout",
     "output_type": "stream",
     "text": [
      "(1, 23, 128, 128, 1)\n",
      "C:\\Users\\gural\\Desktop\\animals\\alligator\\HorizontalFlipVID_20190327_171826Rotate40.mp4\n",
      "\n"
     ]
    },
    {
     "name": "stderr",
     "output_type": "stream",
     "text": [
      "\r",
      " 35%|████████████████████████████▎                                                   | 195/550 [15:01<30:40,  5.18s/it]"
     ]
    },
    {
     "name": "stdout",
     "output_type": "stream",
     "text": [
      "(1, 23, 128, 128, 1)\n",
      "C:\\Users\\gural\\Desktop\\animals\\bull\\HorizontalFlipVID_20190327_184935translate.mp4\n",
      "\n"
     ]
    },
    {
     "name": "stderr",
     "output_type": "stream",
     "text": [
      "\r",
      " 36%|████████████████████████████▌                                                   | 196/550 [15:05<28:14,  4.79s/it]"
     ]
    },
    {
     "name": "stdout",
     "output_type": "stream",
     "text": [
      "(1, 23, 128, 128, 1)\n",
      "C:\\Users\\gural\\Desktop\\animals\\alligator\\VID_20190327_184404Rotate40.mp4\n",
      "\n"
     ]
    },
    {
     "name": "stderr",
     "output_type": "stream",
     "text": [
      "\r",
      " 36%|████████████████████████████▋                                                   | 197/550 [15:09<27:31,  4.68s/it]"
     ]
    },
    {
     "name": "stdout",
     "output_type": "stream",
     "text": [
      "(1, 23, 128, 128, 1)\n",
      "C:\\Users\\gural\\Desktop\\animals\\bull\\HorizontalFlipVID_20190327_184849.mp4\n",
      "\n"
     ]
    },
    {
     "name": "stderr",
     "output_type": "stream",
     "text": [
      "\r",
      " 36%|████████████████████████████▊                                                   | 198/550 [15:13<26:34,  4.53s/it]"
     ]
    },
    {
     "name": "stdout",
     "output_type": "stream",
     "text": [
      "(1, 23, 128, 128, 1)\n",
      "C:\\Users\\gural\\Desktop\\animals\\tiger\\HorizontalFlipVID_20190515_183731Rotate.mp4\n",
      "\n"
     ]
    },
    {
     "name": "stderr",
     "output_type": "stream",
     "text": [
      "\r",
      " 36%|████████████████████████████▉                                                   | 199/550 [15:18<26:54,  4.60s/it]"
     ]
    },
    {
     "name": "stdout",
     "output_type": "stream",
     "text": [
      "(1, 23, 128, 128, 1)\n",
      "C:\\Users\\gural\\Desktop\\animals\\tiger\\VID_20190327_185606translate.mp4\n",
      "\n"
     ]
    },
    {
     "name": "stderr",
     "output_type": "stream",
     "text": [
      "\r",
      " 36%|█████████████████████████████                                                   | 200/550 [15:23<26:58,  4.63s/it]"
     ]
    },
    {
     "name": "stdout",
     "output_type": "stream",
     "text": [
      "(1, 23, 128, 128, 1)\n",
      "C:\\Users\\gural\\Desktop\\animals\\bull\\VID_20190515_183928Rotate.mp4\n",
      "\n"
     ]
    },
    {
     "name": "stderr",
     "output_type": "stream",
     "text": [
      "\r",
      " 37%|█████████████████████████████▏                                                  | 201/550 [15:27<25:46,  4.43s/it]"
     ]
    },
    {
     "name": "stdout",
     "output_type": "stream",
     "text": [
      "(1, 23, 128, 128, 1)\n",
      "C:\\Users\\gural\\Desktop\\animals\\tiger\\HorizontalFlipVID_20190327_185513Rotate40.mp4\n",
      "\n"
     ]
    },
    {
     "name": "stderr",
     "output_type": "stream",
     "text": [
      "\r",
      " 37%|█████████████████████████████▍                                                  | 202/550 [15:32<26:21,  4.55s/it]"
     ]
    },
    {
     "name": "stdout",
     "output_type": "stream",
     "text": [
      "(1, 23, 128, 128, 1)\n",
      "C:\\Users\\gural\\Desktop\\animals\\tiger\\HorizontalFlipVID_20190327_185434.mp4\n",
      "\n"
     ]
    },
    {
     "name": "stderr",
     "output_type": "stream",
     "text": [
      "\r",
      " 37%|█████████████████████████████▌                                                  | 203/550 [15:37<27:51,  4.82s/it]"
     ]
    },
    {
     "name": "stdout",
     "output_type": "stream",
     "text": [
      "(1, 23, 128, 128, 1)\n",
      "C:\\Users\\gural\\Desktop\\animals\\bull\\VID_20190327_184957Rotate.mp4\n",
      "\n"
     ]
    },
    {
     "name": "stderr",
     "output_type": "stream",
     "text": [
      "\r",
      " 37%|█████████████████████████████▋                                                  | 204/550 [15:41<26:50,  4.66s/it]"
     ]
    },
    {
     "name": "stdout",
     "output_type": "stream",
     "text": [
      "(1, 23, 128, 128, 1)\n",
      "C:\\Users\\gural\\Desktop\\animals\\tiger\\VID_20190327_185554Rotate40.mp4\n",
      "\n"
     ]
    },
    {
     "name": "stderr",
     "output_type": "stream",
     "text": [
      "\r",
      " 37%|█████████████████████████████▊                                                  | 205/550 [15:46<26:29,  4.61s/it]"
     ]
    },
    {
     "name": "stdout",
     "output_type": "stream",
     "text": [
      "(1, 23, 128, 128, 1)\n",
      "C:\\Users\\gural\\Desktop\\animals\\mouse\\VID_20190327_185337Rotate.mp4\n",
      "\n"
     ]
    },
    {
     "name": "stderr",
     "output_type": "stream",
     "text": [
      "\r",
      " 37%|█████████████████████████████▉                                                  | 206/550 [15:50<25:28,  4.44s/it]"
     ]
    },
    {
     "name": "stdout",
     "output_type": "stream",
     "text": [
      "(1, 23, 128, 128, 1)\n",
      "C:\\Users\\gural\\Desktop\\animals\\bull\\VID_20190327_184737Rotate40.mp4\n",
      "\n"
     ]
    },
    {
     "name": "stderr",
     "output_type": "stream",
     "text": [
      "\r",
      " 38%|██████████████████████████████                                                  | 207/550 [15:54<25:20,  4.43s/it]"
     ]
    },
    {
     "name": "stdout",
     "output_type": "stream",
     "text": [
      "(1, 23, 128, 128, 1)\n",
      "C:\\Users\\gural\\Desktop\\animals\\mouse\\HorizontalFlipVID_20190515_184028Crop.mp4\n",
      "\n"
     ]
    },
    {
     "name": "stderr",
     "output_type": "stream",
     "text": [
      "\r",
      " 38%|██████████████████████████████▎                                                 | 208/550 [16:00<27:48,  4.88s/it]"
     ]
    },
    {
     "name": "stdout",
     "output_type": "stream",
     "text": [
      "(1, 23, 128, 128, 1)\n",
      "C:\\Users\\gural\\Desktop\\animals\\bull\\VID_20190327_172501.mp4\n",
      "\n"
     ]
    },
    {
     "name": "stderr",
     "output_type": "stream",
     "text": [
      "\r",
      " 38%|██████████████████████████████▍                                                 | 209/550 [16:04<26:26,  4.65s/it]"
     ]
    },
    {
     "name": "stdout",
     "output_type": "stream",
     "text": [
      "(1, 23, 128, 128, 1)\n",
      "C:\\Users\\gural\\Desktop\\animals\\tiger\\HorizontalFlipVID_20190327_173108Crop.mp4\n",
      "\n"
     ]
    },
    {
     "name": "stderr",
     "output_type": "stream",
     "text": [
      "\r",
      " 38%|██████████████████████████████▌                                                 | 210/550 [16:08<24:30,  4.32s/it]"
     ]
    },
    {
     "name": "stdout",
     "output_type": "stream",
     "text": [
      "(1, 23, 128, 128, 1)\n",
      "C:\\Users\\gural\\Desktop\\animals\\alligator\\VID_20190327_184234Crop.mp4\n",
      "\n"
     ]
    },
    {
     "name": "stderr",
     "output_type": "stream",
     "text": [
      "\r",
      " 38%|██████████████████████████████▋                                                 | 211/550 [16:12<24:41,  4.37s/it]"
     ]
    },
    {
     "name": "stdout",
     "output_type": "stream",
     "text": [
      "(1, 23, 128, 128, 1)\n",
      "C:\\Users\\gural\\Desktop\\animals\\tiger\\HorizontalFlipVID_20190515_183755.mp4\n",
      "\n"
     ]
    },
    {
     "name": "stderr",
     "output_type": "stream",
     "text": [
      "\r",
      " 39%|██████████████████████████████▊                                                 | 212/550 [16:16<24:02,  4.27s/it]"
     ]
    },
    {
     "name": "stdout",
     "output_type": "stream",
     "text": [
      "(1, 23, 128, 128, 1)\n",
      "C:\\Users\\gural\\Desktop\\animals\\mouse\\VID_20190327_172736Rotate40.mp4\n",
      "\n"
     ]
    },
    {
     "name": "stderr",
     "output_type": "stream",
     "text": [
      "\r",
      " 39%|██████████████████████████████▉                                                 | 213/550 [16:23<28:25,  5.06s/it]"
     ]
    },
    {
     "name": "stdout",
     "output_type": "stream",
     "text": [
      "(1, 23, 128, 128, 1)\n",
      "C:\\Users\\gural\\Desktop\\animals\\alligator\\VID_20190327_184223Rotate40.mp4\n",
      "\n"
     ]
    },
    {
     "name": "stderr",
     "output_type": "stream",
     "text": [
      "\r",
      " 39%|███████████████████████████████▏                                                | 214/550 [16:28<27:48,  4.96s/it]"
     ]
    },
    {
     "name": "stdout",
     "output_type": "stream",
     "text": [
      "(1, 23, 128, 128, 1)\n",
      "C:\\Users\\gural\\Desktop\\animals\\tiger\\HorizontalFlipVID_20190327_185508Crop.mp4\n",
      "\n"
     ]
    },
    {
     "name": "stderr",
     "output_type": "stream",
     "text": [
      "\r",
      " 39%|███████████████████████████████▎                                                | 215/550 [16:32<25:21,  4.54s/it]"
     ]
    },
    {
     "name": "stdout",
     "output_type": "stream",
     "text": [
      "(1, 23, 128, 128, 1)\n",
      "C:\\Users\\gural\\Desktop\\animals\\tiger\\VID_20190327_185532.mp4\n",
      "\n"
     ]
    },
    {
     "name": "stderr",
     "output_type": "stream",
     "text": [
      "\r",
      " 39%|███████████████████████████████▍                                                | 216/550 [16:36<25:30,  4.58s/it]"
     ]
    },
    {
     "name": "stdout",
     "output_type": "stream",
     "text": [
      "(1, 23, 128, 128, 1)\n",
      "C:\\Users\\gural\\Desktop\\animals\\tiger\\VID_20190327_185554Crop.mp4\n",
      "\n"
     ]
    },
    {
     "name": "stderr",
     "output_type": "stream",
     "text": [
      "\r",
      " 39%|███████████████████████████████▌                                                | 217/550 [16:39<22:09,  3.99s/it]"
     ]
    },
    {
     "name": "stdout",
     "output_type": "stream",
     "text": [
      "(1, 23, 128, 128, 1)\n",
      "C:\\Users\\gural\\Desktop\\animals\\alligator\\VID_20190327_184510Rotate40.mp4\n",
      "\n"
     ]
    },
    {
     "name": "stderr",
     "output_type": "stream",
     "text": [
      "\r",
      " 40%|███████████████████████████████▋                                                | 218/550 [16:44<24:24,  4.41s/it]"
     ]
    },
    {
     "name": "stdout",
     "output_type": "stream",
     "text": [
      "(1, 23, 128, 128, 1)\n",
      "C:\\Users\\gural\\Desktop\\animals\\alligator\\HorizontalFlipVID_20190327_184452Crop.mp4\n",
      "\n"
     ]
    },
    {
     "name": "stderr",
     "output_type": "stream",
     "text": [
      "\r",
      " 40%|███████████████████████████████▊                                                | 219/550 [16:47<21:46,  3.95s/it]"
     ]
    },
    {
     "name": "stdout",
     "output_type": "stream",
     "text": [
      "(1, 23, 128, 128, 1)\n",
      "C:\\Users\\gural\\Desktop\\animals\\alligator\\HorizontalFlipVID_20190327_184325translate.mp4\n",
      "\n"
     ]
    },
    {
     "name": "stderr",
     "output_type": "stream",
     "text": [
      "\r",
      " 40%|████████████████████████████████                                                | 220/550 [16:52<23:14,  4.23s/it]"
     ]
    },
    {
     "name": "stdout",
     "output_type": "stream",
     "text": [
      "(1, 23, 128, 128, 1)\n",
      "C:\\Users\\gural\\Desktop\\animals\\alligator\\VID_20190327_184452Crop.mp4\n",
      "\n"
     ]
    },
    {
     "name": "stderr",
     "output_type": "stream",
     "text": [
      "\r",
      " 40%|████████████████████████████████▏                                               | 221/550 [16:55<21:00,  3.83s/it]"
     ]
    },
    {
     "name": "stdout",
     "output_type": "stream",
     "text": [
      "(1, 23, 128, 128, 1)\n",
      "C:\\Users\\gural\\Desktop\\animals\\mouse\\VID_20190515_184023Crop.mp4\n",
      "\n"
     ]
    },
    {
     "name": "stderr",
     "output_type": "stream",
     "text": [
      "\r",
      " 40%|████████████████████████████████▎                                               | 222/550 [16:58<20:03,  3.67s/it]"
     ]
    },
    {
     "name": "stdout",
     "output_type": "stream",
     "text": [
      "(1, 23, 128, 128, 1)\n",
      "C:\\Users\\gural\\Desktop\\animals\\tiger\\VID_20190327_185606.mp4\n",
      "\n"
     ]
    },
    {
     "name": "stderr",
     "output_type": "stream",
     "text": [
      "\r",
      " 41%|████████████████████████████████▍                                               | 223/550 [17:03<22:19,  4.10s/it]"
     ]
    },
    {
     "name": "stdout",
     "output_type": "stream",
     "text": [
      "(1, 23, 128, 128, 1)\n",
      "C:\\Users\\gural\\Desktop\\animals\\mouse\\VID_20190327_185144Rotate.mp4\n",
      "\n"
     ]
    },
    {
     "name": "stderr",
     "output_type": "stream",
     "text": [
      "\r",
      " 41%|████████████████████████████████▌                                               | 224/550 [17:08<23:26,  4.32s/it]"
     ]
    },
    {
     "name": "stdout",
     "output_type": "stream",
     "text": [
      "(1, 23, 128, 128, 1)\n",
      "C:\\Users\\gural\\Desktop\\animals\\alligator\\HorizontalFlipVID_20190327_172127translate.mp4\n",
      "\n"
     ]
    },
    {
     "name": "stderr",
     "output_type": "stream",
     "text": [
      "\r",
      " 41%|████████████████████████████████▋                                               | 225/550 [17:16<29:00,  5.35s/it]"
     ]
    },
    {
     "name": "stdout",
     "output_type": "stream",
     "text": [
      "(1, 23, 128, 128, 1)\n",
      "C:\\Users\\gural\\Desktop\\animals\\bull\\VID_20190327_172501translate.mp4\n",
      "\n"
     ]
    },
    {
     "name": "stderr",
     "output_type": "stream",
     "text": [
      "\r",
      " 41%|████████████████████████████████▊                                               | 226/550 [17:20<26:51,  4.98s/it]"
     ]
    },
    {
     "name": "stdout",
     "output_type": "stream",
     "text": [
      "(1, 23, 128, 128, 1)\n",
      "C:\\Users\\gural\\Desktop\\animals\\mouse\\HorizontalFlipVID_20190327_185230Crop.mp4\n",
      "\n"
     ]
    },
    {
     "name": "stderr",
     "output_type": "stream",
     "text": [
      "\r",
      " 41%|█████████████████████████████████                                               | 227/550 [17:23<23:20,  4.34s/it]"
     ]
    },
    {
     "name": "stdout",
     "output_type": "stream",
     "text": [
      "(1, 23, 128, 128, 1)\n",
      "C:\\Users\\gural\\Desktop\\animals\\mouse\\HorizontalFlipVID_20190327_185223translate.mp4\n",
      "\n"
     ]
    },
    {
     "name": "stderr",
     "output_type": "stream",
     "text": [
      "\r",
      " 41%|█████████████████████████████████▏                                              | 228/550 [17:28<23:38,  4.41s/it]"
     ]
    },
    {
     "name": "stdout",
     "output_type": "stream",
     "text": [
      "(1, 23, 128, 128, 1)\n",
      "C:\\Users\\gural\\Desktop\\animals\\mouse\\HorizontalFlipVID_20190515_184013Rotate.mp4\n",
      "\n"
     ]
    },
    {
     "name": "stderr",
     "output_type": "stream",
     "text": [
      "\r",
      " 42%|█████████████████████████████████▎                                              | 229/550 [17:34<26:26,  4.94s/it]"
     ]
    },
    {
     "name": "stdout",
     "output_type": "stream",
     "text": [
      "(1, 23, 128, 128, 1)\n",
      "C:\\Users\\gural\\Desktop\\animals\\alligator\\HorizontalFlipVID_20190327_184452translate.mp4\n",
      "\n"
     ]
    },
    {
     "name": "stderr",
     "output_type": "stream",
     "text": [
      "\r",
      " 42%|█████████████████████████████████▍                                              | 230/550 [17:39<26:11,  4.91s/it]"
     ]
    },
    {
     "name": "stdout",
     "output_type": "stream",
     "text": [
      "(1, 23, 128, 128, 1)\n",
      "C:\\Users\\gural\\Desktop\\animals\\alligator\\HorizontalFlipVID_20190327_184353.mp4\n",
      "\n"
     ]
    },
    {
     "name": "stderr",
     "output_type": "stream",
     "text": [
      "\r",
      " 42%|█████████████████████████████████▌                                              | 231/550 [17:43<25:30,  4.80s/it]"
     ]
    },
    {
     "name": "stdout",
     "output_type": "stream",
     "text": [
      "(1, 23, 128, 128, 1)\n",
      "C:\\Users\\gural\\Desktop\\animals\\mouse\\VID_20190327_185330translate.mp4\n",
      "\n"
     ]
    },
    {
     "name": "stderr",
     "output_type": "stream",
     "text": [
      "\r",
      " 42%|█████████████████████████████████▋                                              | 232/550 [17:48<26:11,  4.94s/it]"
     ]
    },
    {
     "name": "stdout",
     "output_type": "stream",
     "text": [
      "(1, 23, 128, 128, 1)\n",
      "C:\\Users\\gural\\Desktop\\animals\\bull\\VID_20190327_184935translate.mp4\n",
      "\n"
     ]
    },
    {
     "name": "stderr",
     "output_type": "stream",
     "text": [
      "\r",
      " 42%|█████████████████████████████████▉                                              | 233/550 [17:52<24:29,  4.63s/it]"
     ]
    },
    {
     "name": "stdout",
     "output_type": "stream",
     "text": [
      "(1, 23, 128, 128, 1)\n",
      "C:\\Users\\gural\\Desktop\\animals\\alligator\\HorizontalFlipVID_20190327_184332Rotate40.mp4\n",
      "\n"
     ]
    },
    {
     "name": "stderr",
     "output_type": "stream",
     "text": [
      "\r",
      " 43%|██████████████████████████████████                                              | 234/550 [17:57<24:54,  4.73s/it]"
     ]
    },
    {
     "name": "stdout",
     "output_type": "stream",
     "text": [
      "(1, 23, 128, 128, 1)\n",
      "C:\\Users\\gural\\Desktop\\animals\\alligator\\HorizontalFlipVID_20190327_184415Rotate40.mp4\n",
      "\n"
     ]
    },
    {
     "name": "stderr",
     "output_type": "stream",
     "text": [
      "\r",
      " 43%|██████████████████████████████████▏                                             | 235/550 [18:02<25:07,  4.79s/it]"
     ]
    },
    {
     "name": "stdout",
     "output_type": "stream",
     "text": [
      "(1, 23, 128, 128, 1)\n",
      "C:\\Users\\gural\\Desktop\\animals\\alligator\\VID_20190327_171826Crop.mp4\n",
      "\n"
     ]
    },
    {
     "name": "stderr",
     "output_type": "stream",
     "text": [
      "\r",
      " 43%|██████████████████████████████████▎                                             | 236/550 [18:06<23:07,  4.42s/it]"
     ]
    },
    {
     "name": "stdout",
     "output_type": "stream",
     "text": [
      "(1, 23, 128, 128, 1)\n",
      "C:\\Users\\gural\\Desktop\\animals\\bull\\VID_20190327_172412Rotate40.mp4\n",
      "\n"
     ]
    },
    {
     "name": "stderr",
     "output_type": "stream",
     "text": [
      "\r",
      " 43%|██████████████████████████████████▍                                             | 237/550 [18:10<23:29,  4.50s/it]"
     ]
    },
    {
     "name": "stdout",
     "output_type": "stream",
     "text": [
      "(1, 23, 128, 128, 1)\n",
      "C:\\Users\\gural\\Desktop\\animals\\bull\\HorizontalFlipVID_20190327_172627Rotate.mp4\n",
      "\n"
     ]
    },
    {
     "name": "stderr",
     "output_type": "stream",
     "text": [
      "\r",
      " 43%|██████████████████████████████████▌                                             | 238/550 [18:18<27:48,  5.35s/it]"
     ]
    },
    {
     "name": "stdout",
     "output_type": "stream",
     "text": [
      "(1, 23, 128, 128, 1)\n",
      "C:\\Users\\gural\\Desktop\\animals\\bull\\HorizontalFlipVID_20190327_184849Rotate.mp4\n",
      "\n"
     ]
    },
    {
     "name": "stderr",
     "output_type": "stream",
     "text": [
      "\r",
      " 43%|██████████████████████████████████▊                                             | 239/550 [18:22<25:51,  4.99s/it]"
     ]
    },
    {
     "name": "stdout",
     "output_type": "stream",
     "text": [
      "(1, 23, 128, 128, 1)\n",
      "C:\\Users\\gural\\Desktop\\animals\\mouse\\HorizontalFlipVID_20190327_172703.mp4\n",
      "\n"
     ]
    },
    {
     "name": "stderr",
     "output_type": "stream",
     "text": [
      "\r",
      " 44%|██████████████████████████████████▉                                             | 240/550 [18:30<30:16,  5.86s/it]"
     ]
    },
    {
     "name": "stdout",
     "output_type": "stream",
     "text": [
      "(1, 23, 128, 128, 1)\n",
      "C:\\Users\\gural\\Desktop\\animals\\bull\\VID_20190327_172316Rotate40.mp4\n",
      "\n"
     ]
    },
    {
     "name": "stderr",
     "output_type": "stream",
     "text": [
      "\r",
      " 44%|███████████████████████████████████                                             | 241/550 [18:34<27:42,  5.38s/it]"
     ]
    },
    {
     "name": "stdout",
     "output_type": "stream",
     "text": [
      "(1, 23, 128, 128, 1)\n",
      "C:\\Users\\gural\\Desktop\\animals\\bull\\HorizontalFlipVID_20190327_184820Rotate40.mp4\n",
      "\n"
     ]
    },
    {
     "name": "stderr",
     "output_type": "stream",
     "text": [
      "\r",
      " 44%|███████████████████████████████████▏                                            | 242/550 [18:38<26:02,  5.07s/it]"
     ]
    },
    {
     "name": "stdout",
     "output_type": "stream",
     "text": [
      "(1, 23, 128, 128, 1)\n",
      "C:\\Users\\gural\\Desktop\\animals\\bull\\HorizontalFlipVID_20190327_172412Crop.mp4\n",
      "\n"
     ]
    },
    {
     "name": "stderr",
     "output_type": "stream",
     "text": [
      "\r",
      " 44%|███████████████████████████████████▎                                            | 243/550 [18:41<22:18,  4.36s/it]"
     ]
    },
    {
     "name": "stdout",
     "output_type": "stream",
     "text": [
      "(1, 23, 128, 128, 1)\n",
      "C:\\Users\\gural\\Desktop\\animals\\bull\\HorizontalFlipVID_20190327_185003translate.mp4\n",
      "\n"
     ]
    },
    {
     "name": "stderr",
     "output_type": "stream",
     "text": [
      "\r",
      " 44%|███████████████████████████████████▍                                            | 244/550 [18:46<22:56,  4.50s/it]"
     ]
    },
    {
     "name": "stdout",
     "output_type": "stream",
     "text": [
      "(1, 23, 128, 128, 1)\n",
      "C:\\Users\\gural\\Desktop\\animals\\mouse\\HorizontalFlipVID_20190327_185153translate.mp4\n",
      "\n"
     ]
    },
    {
     "name": "stderr",
     "output_type": "stream",
     "text": [
      "\r",
      " 45%|███████████████████████████████████▋                                            | 245/550 [18:50<21:59,  4.33s/it]"
     ]
    },
    {
     "name": "stdout",
     "output_type": "stream",
     "text": [
      "(1, 23, 128, 128, 1)\n",
      "C:\\Users\\gural\\Desktop\\animals\\tiger\\VID_20190327_185440Rotate40.mp4\n",
      "\n"
     ]
    },
    {
     "name": "stderr",
     "output_type": "stream",
     "text": [
      "\r",
      " 45%|███████████████████████████████████▊                                            | 246/550 [18:55<23:28,  4.63s/it]"
     ]
    },
    {
     "name": "stdout",
     "output_type": "stream",
     "text": [
      "(1, 23, 128, 128, 1)\n",
      "C:\\Users\\gural\\Desktop\\animals\\tiger\\VID_20190327_173008Rotate40.mp4\n",
      "\n"
     ]
    },
    {
     "name": "stderr",
     "output_type": "stream",
     "text": [
      "\r",
      " 45%|███████████████████████████████████▉                                            | 247/550 [19:01<25:22,  5.03s/it]"
     ]
    },
    {
     "name": "stdout",
     "output_type": "stream",
     "text": [
      "(1, 23, 128, 128, 1)\n",
      "C:\\Users\\gural\\Desktop\\animals\\bull\\HorizontalFlipVID_20190327_172501Rotate.mp4\n",
      "\n"
     ]
    },
    {
     "name": "stderr",
     "output_type": "stream",
     "text": [
      "\r",
      " 45%|████████████████████████████████████                                            | 248/550 [19:05<23:46,  4.72s/it]"
     ]
    },
    {
     "name": "stdout",
     "output_type": "stream",
     "text": [
      "(1, 23, 128, 128, 1)\n",
      "C:\\Users\\gural\\Desktop\\animals\\mouse\\VID_20190327_172736Rotate.mp4\n",
      "\n"
     ]
    },
    {
     "name": "stderr",
     "output_type": "stream",
     "text": [
      "\r",
      " 45%|████████████████████████████████████▏                                           | 249/550 [19:12<27:00,  5.38s/it]"
     ]
    },
    {
     "name": "stdout",
     "output_type": "stream",
     "text": [
      "(1, 23, 128, 128, 1)\n",
      "C:\\Users\\gural\\Desktop\\animals\\alligator\\HorizontalFlipVID_20190327_184320Rotate.mp4\n",
      "\n"
     ]
    },
    {
     "name": "stderr",
     "output_type": "stream",
     "text": [
      "\r",
      " 45%|████████████████████████████████████▎                                           | 250/550 [19:18<27:32,  5.51s/it]"
     ]
    },
    {
     "name": "stdout",
     "output_type": "stream",
     "text": [
      "(1, 23, 128, 128, 1)\n",
      "C:\\Users\\gural\\Desktop\\animals\\alligator\\VID_20190327_184353Crop.mp4\n",
      "\n"
     ]
    },
    {
     "name": "stderr",
     "output_type": "stream",
     "text": [
      "\r",
      " 46%|████████████████████████████████████▌                                           | 251/550 [19:20<23:07,  4.64s/it]"
     ]
    },
    {
     "name": "stdout",
     "output_type": "stream",
     "text": [
      "(1, 23, 128, 128, 1)\n",
      "C:\\Users\\gural\\Desktop\\animals\\bull\\VID_20190327_184737Crop.mp4\n",
      "\n"
     ]
    },
    {
     "name": "stderr",
     "output_type": "stream",
     "text": [
      "\r",
      " 46%|████████████████████████████████████▋                                           | 252/550 [19:23<20:03,  4.04s/it]"
     ]
    },
    {
     "name": "stdout",
     "output_type": "stream",
     "text": [
      "(1, 23, 128, 128, 1)\n",
      "C:\\Users\\gural\\Desktop\\animals\\mouse\\HorizontalFlipVID_20190327_185153.mp4\n",
      "\n"
     ]
    },
    {
     "name": "stderr",
     "output_type": "stream",
     "text": [
      "\r",
      " 46%|████████████████████████████████████▊                                           | 253/550 [19:27<20:08,  4.07s/it]"
     ]
    },
    {
     "name": "stdout",
     "output_type": "stream",
     "text": [
      "(1, 23, 128, 128, 1)\n",
      "C:\\Users\\gural\\Desktop\\animals\\mouse\\VID_20190327_185324translate.mp4\n",
      "\n"
     ]
    },
    {
     "name": "stderr",
     "output_type": "stream",
     "text": [
      "\r",
      " 46%|████████████████████████████████████▉                                           | 254/550 [19:33<22:39,  4.59s/it]"
     ]
    },
    {
     "name": "stdout",
     "output_type": "stream",
     "text": [
      "(1, 23, 128, 128, 1)\n",
      "C:\\Users\\gural\\Desktop\\animals\\alligator\\VID_20190327_184325translate.mp4\n",
      "\n"
     ]
    },
    {
     "name": "stderr",
     "output_type": "stream",
     "text": [
      "\r",
      " 46%|█████████████████████████████████████                                           | 255/550 [19:38<23:24,  4.76s/it]"
     ]
    },
    {
     "name": "stdout",
     "output_type": "stream",
     "text": [
      "(1, 23, 128, 128, 1)\n",
      "C:\\Users\\gural\\Desktop\\animals\\mouse\\HorizontalFlipVID_20190327_185157.mp4\n",
      "\n"
     ]
    },
    {
     "name": "stderr",
     "output_type": "stream",
     "text": [
      "\r",
      " 47%|█████████████████████████████████████▏                                          | 256/550 [19:43<23:40,  4.83s/it]"
     ]
    },
    {
     "name": "stdout",
     "output_type": "stream",
     "text": [
      "(1, 23, 128, 128, 1)\n",
      "C:\\Users\\gural\\Desktop\\animals\\mouse\\HorizontalFlipVID_20190327_185330Rotate.mp4\n",
      "\n"
     ]
    },
    {
     "name": "stderr",
     "output_type": "stream",
     "text": [
      "\r",
      " 47%|█████████████████████████████████████▍                                          | 257/550 [19:49<24:30,  5.02s/it]"
     ]
    },
    {
     "name": "stdout",
     "output_type": "stream",
     "text": [
      "(1, 23, 128, 128, 1)\n",
      "C:\\Users\\gural\\Desktop\\animals\\bull\\VID_20190327_184748.mp4\n",
      "\n"
     ]
    },
    {
     "name": "stderr",
     "output_type": "stream",
     "text": [
      "\r",
      " 47%|█████████████████████████████████████▌                                          | 258/550 [19:54<25:18,  5.20s/it]"
     ]
    },
    {
     "name": "stdout",
     "output_type": "stream",
     "text": [
      "(1, 23, 128, 128, 1)\n",
      "C:\\Users\\gural\\Desktop\\animals\\alligator\\HorizontalFlipVID_20190327_184415.mp4\n",
      "\n"
     ]
    },
    {
     "name": "stderr",
     "output_type": "stream",
     "text": [
      "\r",
      " 47%|█████████████████████████████████████▋                                          | 259/550 [19:59<24:53,  5.13s/it]"
     ]
    },
    {
     "name": "stdout",
     "output_type": "stream",
     "text": [
      "(1, 23, 128, 128, 1)\n",
      "C:\\Users\\gural\\Desktop\\animals\\mouse\\VID_20190327_185139translate.mp4\n",
      "\n"
     ]
    },
    {
     "name": "stderr",
     "output_type": "stream",
     "text": [
      "\r",
      " 47%|█████████████████████████████████████▊                                          | 260/550 [20:04<24:48,  5.13s/it]"
     ]
    },
    {
     "name": "stdout",
     "output_type": "stream",
     "text": [
      "(1, 23, 128, 128, 1)\n",
      "C:\\Users\\gural\\Desktop\\animals\\bull\\HorizontalFlipVID_20190327_184737Crop.mp4\n",
      "\n"
     ]
    },
    {
     "name": "stderr",
     "output_type": "stream",
     "text": [
      "\r",
      " 47%|█████████████████████████████████████▉                                          | 261/550 [20:07<21:00,  4.36s/it]"
     ]
    },
    {
     "name": "stdout",
     "output_type": "stream",
     "text": [
      "(1, 23, 128, 128, 1)\n",
      "C:\\Users\\gural\\Desktop\\animals\\mouse\\HorizontalFlipVID_20190327_172914.mp4\n",
      "\n"
     ]
    },
    {
     "name": "stderr",
     "output_type": "stream",
     "text": [
      "\r",
      " 48%|██████████████████████████████████████                                          | 262/550 [20:15<26:20,  5.49s/it]"
     ]
    },
    {
     "name": "stdout",
     "output_type": "stream",
     "text": [
      "(1, 23, 128, 128, 1)\n",
      "C:\\Users\\gural\\Desktop\\animals\\tiger\\VID_20190327_185434Rotate.mp4\n",
      "\n"
     ]
    },
    {
     "name": "stderr",
     "output_type": "stream",
     "text": [
      "\r",
      " 48%|██████████████████████████████████████▎                                         | 263/550 [20:21<27:10,  5.68s/it]"
     ]
    },
    {
     "name": "stdout",
     "output_type": "stream",
     "text": [
      "(1, 23, 128, 128, 1)\n",
      "C:\\Users\\gural\\Desktop\\animals\\alligator\\VID_20190327_184223translate.mp4\n",
      "\n"
     ]
    },
    {
     "name": "stderr",
     "output_type": "stream",
     "text": [
      "\r",
      " 48%|██████████████████████████████████████▍                                         | 264/550 [20:26<26:07,  5.48s/it]"
     ]
    },
    {
     "name": "stdout",
     "output_type": "stream",
     "text": [
      "(1, 23, 128, 128, 1)\n",
      "C:\\Users\\gural\\Desktop\\animals\\mouse\\HorizontalFlipVID_20190327_185139.mp4\n",
      "\n"
     ]
    },
    {
     "name": "stderr",
     "output_type": "stream",
     "text": [
      "\r",
      " 48%|██████████████████████████████████████▌                                         | 265/550 [20:31<25:29,  5.37s/it]"
     ]
    },
    {
     "name": "stdout",
     "output_type": "stream",
     "text": [
      "(1, 23, 128, 128, 1)\n",
      "C:\\Users\\gural\\Desktop\\animals\\alligator\\HorizontalFlipVID_20190327_184415Rotate.mp4\n",
      "\n"
     ]
    },
    {
     "name": "stderr",
     "output_type": "stream",
     "text": [
      "\r",
      " 48%|██████████████████████████████████████▋                                         | 266/550 [20:37<25:15,  5.34s/it]"
     ]
    },
    {
     "name": "stdout",
     "output_type": "stream",
     "text": [
      "(1, 23, 128, 128, 1)\n",
      "C:\\Users\\gural\\Desktop\\animals\\mouse\\HorizontalFlipVID_20190327_172914Rotate.mp4\n",
      "\n"
     ]
    },
    {
     "name": "stderr",
     "output_type": "stream",
     "text": [
      "\r",
      " 49%|██████████████████████████████████████▊                                         | 267/550 [20:44<28:36,  6.07s/it]"
     ]
    },
    {
     "name": "stdout",
     "output_type": "stream",
     "text": [
      "(1, 23, 128, 128, 1)\n",
      "C:\\Users\\gural\\Desktop\\animals\\mouse\\HorizontalFlipVID_20190327_172736translate.mp4\n",
      "\n"
     ]
    },
    {
     "name": "stderr",
     "output_type": "stream",
     "text": [
      "\r",
      " 49%|██████████████████████████████████████▉                                         | 268/550 [20:52<30:19,  6.45s/it]"
     ]
    },
    {
     "name": "stdout",
     "output_type": "stream",
     "text": [
      "(1, 23, 128, 128, 1)\n",
      "C:\\Users\\gural\\Desktop\\animals\\alligator\\HorizontalFlipVID_20190327_184457Rotate40.mp4\n",
      "\n"
     ]
    },
    {
     "name": "stderr",
     "output_type": "stream",
     "text": [
      "\r",
      " 49%|███████████████████████████████████████▏                                        | 269/550 [20:56<27:21,  5.84s/it]"
     ]
    },
    {
     "name": "stdout",
     "output_type": "stream",
     "text": [
      "(1, 23, 128, 128, 1)\n",
      "C:\\Users\\gural\\Desktop\\animals\\alligator\\VID_20190327_184223Crop.mp4\n",
      "\n"
     ]
    },
    {
     "name": "stderr",
     "output_type": "stream",
     "text": [
      "\r",
      " 49%|███████████████████████████████████████▎                                        | 270/550 [20:59<23:14,  4.98s/it]"
     ]
    },
    {
     "name": "stdout",
     "output_type": "stream",
     "text": [
      "(1, 23, 128, 128, 1)\n",
      "C:\\Users\\gural\\Desktop\\animals\\bull\\VID_20190515_183912Rotate.mp4\n",
      "\n"
     ]
    },
    {
     "name": "stderr",
     "output_type": "stream",
     "text": [
      "\r",
      " 49%|███████████████████████████████████████▍                                        | 271/550 [21:06<25:08,  5.41s/it]"
     ]
    },
    {
     "name": "stdout",
     "output_type": "stream",
     "text": [
      "(1, 23, 128, 128, 1)\n",
      "C:\\Users\\gural\\Desktop\\animals\\mouse\\VID_20190327_185153Rotate40.mp4\n",
      "\n"
     ]
    },
    {
     "name": "stderr",
     "output_type": "stream",
     "text": [
      "\r",
      " 49%|███████████████████████████████████████▌                                        | 272/550 [21:09<23:02,  4.97s/it]"
     ]
    },
    {
     "name": "stdout",
     "output_type": "stream",
     "text": [
      "(1, 23, 128, 128, 1)\n",
      "C:\\Users\\gural\\Desktop\\animals\\alligator\\VID_20190327_184415Rotate.mp4\n",
      "\n"
     ]
    },
    {
     "name": "stderr",
     "output_type": "stream",
     "text": [
      "\r",
      " 50%|███████████████████████████████████████▋                                        | 273/550 [21:14<22:56,  4.97s/it]"
     ]
    },
    {
     "name": "stdout",
     "output_type": "stream",
     "text": [
      "(1, 23, 128, 128, 1)\n",
      "C:\\Users\\gural\\Desktop\\animals\\alligator\\HorizontalFlipVID_20190327_171910.mp4\n",
      "\n"
     ]
    },
    {
     "name": "stderr",
     "output_type": "stream",
     "text": [
      "\r",
      " 50%|███████████████████████████████████████▊                                        | 274/550 [21:21<25:21,  5.51s/it]"
     ]
    },
    {
     "name": "stdout",
     "output_type": "stream",
     "text": [
      "(1, 23, 128, 128, 1)\n",
      "C:\\Users\\gural\\Desktop\\animals\\bull\\HorizontalFlipVID_20190327_172412Rotate.mp4\n",
      "\n"
     ]
    },
    {
     "name": "stderr",
     "output_type": "stream",
     "text": [
      "\r",
      " 50%|████████████████████████████████████████                                        | 275/550 [21:26<24:14,  5.29s/it]"
     ]
    },
    {
     "name": "stdout",
     "output_type": "stream",
     "text": [
      "(1, 23, 128, 128, 1)\n",
      "C:\\Users\\gural\\Desktop\\animals\\alligator\\HorizontalFlipVID_20190327_184300.mp4\n",
      "\n"
     ]
    },
    {
     "name": "stderr",
     "output_type": "stream",
     "text": [
      "\r",
      " 50%|████████████████████████████████████████▏                                       | 276/550 [21:31<23:58,  5.25s/it]"
     ]
    },
    {
     "name": "stdout",
     "output_type": "stream",
     "text": [
      "(1, 23, 128, 128, 1)\n",
      "C:\\Users\\gural\\Desktop\\animals\\tiger\\VID_20190529_193657.mp4\n",
      "\n"
     ]
    },
    {
     "name": "stderr",
     "output_type": "stream",
     "text": [
      "\r",
      " 50%|████████████████████████████████████████▎                                       | 277/550 [21:37<24:39,  5.42s/it]"
     ]
    },
    {
     "name": "stdout",
     "output_type": "stream",
     "text": [
      "(1, 23, 128, 128, 1)\n",
      "C:\\Users\\gural\\Desktop\\animals\\bull\\VID_20190327_172536Crop.mp4\n",
      "\n"
     ]
    },
    {
     "name": "stderr",
     "output_type": "stream",
     "text": [
      "\r",
      " 51%|████████████████████████████████████████▍                                       | 278/550 [21:41<22:43,  5.01s/it]"
     ]
    },
    {
     "name": "stdout",
     "output_type": "stream",
     "text": [
      "(1, 23, 128, 128, 1)\n",
      "C:\\Users\\gural\\Desktop\\animals\\mouse\\HorizontalFlipVID_20190327_185144translate.mp4\n",
      "\n"
     ]
    },
    {
     "name": "stderr",
     "output_type": "stream",
     "text": [
      "\r",
      " 51%|████████████████████████████████████████▌                                       | 279/550 [21:46<22:27,  4.97s/it]"
     ]
    },
    {
     "name": "stdout",
     "output_type": "stream",
     "text": [
      "(1, 23, 128, 128, 1)\n",
      "C:\\Users\\gural\\Desktop\\animals\\tiger\\VID_20190327_173008Rotate.mp4\n",
      "\n"
     ]
    },
    {
     "name": "stderr",
     "output_type": "stream",
     "text": [
      "\r",
      " 51%|████████████████████████████████████████▋                                       | 280/550 [21:52<23:40,  5.26s/it]"
     ]
    },
    {
     "name": "stdout",
     "output_type": "stream",
     "text": [
      "(1, 23, 128, 128, 1)\n",
      "C:\\Users\\gural\\Desktop\\animals\\bull\\VID_20190327_172501Rotate.mp4\n",
      "\n"
     ]
    },
    {
     "name": "stderr",
     "output_type": "stream",
     "text": [
      "\r",
      " 51%|████████████████████████████████████████▊                                       | 281/550 [21:56<21:54,  4.89s/it]"
     ]
    },
    {
     "name": "stdout",
     "output_type": "stream",
     "text": [
      "(1, 23, 128, 128, 1)\n",
      "C:\\Users\\gural\\Desktop\\animals\\bull\\VID_20190327_184935Crop.mp4\n",
      "\n"
     ]
    },
    {
     "name": "stderr",
     "output_type": "stream",
     "text": [
      "\r",
      " 51%|█████████████████████████████████████████                                       | 282/550 [21:58<18:19,  4.10s/it]"
     ]
    },
    {
     "name": "stdout",
     "output_type": "stream",
     "text": [
      "(1, 23, 128, 128, 1)\n",
      "C:\\Users\\gural\\Desktop\\animals\\bull\\VID_20190327_184737.mp4\n",
      "\n"
     ]
    },
    {
     "name": "stderr",
     "output_type": "stream",
     "text": [
      "\r",
      " 51%|█████████████████████████████████████████▏                                      | 283/550 [22:03<18:48,  4.23s/it]"
     ]
    },
    {
     "name": "stdout",
     "output_type": "stream",
     "text": [
      "(1, 23, 128, 128, 1)\n",
      "C:\\Users\\gural\\Desktop\\animals\\mouse\\HorizontalFlipVID_20190327_185236Rotate40.mp4\n",
      "\n"
     ]
    },
    {
     "name": "stderr",
     "output_type": "stream",
     "text": [
      "\r",
      " 52%|█████████████████████████████████████████▎                                      | 284/550 [22:07<18:57,  4.27s/it]"
     ]
    },
    {
     "name": "stdout",
     "output_type": "stream",
     "text": [
      "(1, 23, 128, 128, 1)\n",
      "C:\\Users\\gural\\Desktop\\animals\\alligator\\HorizontalFlipVID_20190515_183658.mp4\n",
      "\n"
     ]
    },
    {
     "name": "stderr",
     "output_type": "stream",
     "text": [
      "\r",
      " 52%|█████████████████████████████████████████▍                                      | 285/550 [22:10<16:41,  3.78s/it]"
     ]
    },
    {
     "name": "stdout",
     "output_type": "stream",
     "text": [
      "(1, 23, 128, 128, 1)\n",
      "C:\\Users\\gural\\Desktop\\animals\\mouse\\HorizontalFlipVID_20190327_172914Crop.mp4\n",
      "\n"
     ]
    },
    {
     "name": "stderr",
     "output_type": "stream",
     "text": [
      "\r",
      " 52%|█████████████████████████████████████████▌                                      | 286/550 [22:14<17:26,  3.96s/it]"
     ]
    },
    {
     "name": "stdout",
     "output_type": "stream",
     "text": [
      "(1, 23, 128, 128, 1)\n",
      "C:\\Users\\gural\\Desktop\\animals\\mouse\\HorizontalFlipVID_20190327_172833Rotate.mp4\n",
      "\n"
     ]
    },
    {
     "name": "stderr",
     "output_type": "stream",
     "text": [
      "\r",
      " 52%|█████████████████████████████████████████▋                                      | 287/550 [22:21<21:32,  4.91s/it]"
     ]
    },
    {
     "name": "stdout",
     "output_type": "stream",
     "text": [
      "(1, 23, 128, 128, 1)\n",
      "C:\\Users\\gural\\Desktop\\animals\\alligator\\VID_20190327_184353.mp4\n",
      "\n"
     ]
    },
    {
     "name": "stderr",
     "output_type": "stream",
     "text": [
      "\r",
      " 52%|█████████████████████████████████████████▉                                      | 288/550 [22:26<20:50,  4.77s/it]"
     ]
    },
    {
     "name": "stdout",
     "output_type": "stream",
     "text": [
      "(1, 23, 128, 128, 1)\n",
      "C:\\Users\\gural\\Desktop\\animals\\tiger\\VID_20190515_183740Rotate.mp4\n",
      "\n"
     ]
    },
    {
     "name": "stderr",
     "output_type": "stream",
     "text": [
      "\r",
      " 53%|██████████████████████████████████████████                                      | 289/550 [22:30<20:33,  4.73s/it]"
     ]
    },
    {
     "name": "stdout",
     "output_type": "stream",
     "text": [
      "(1, 23, 128, 128, 1)\n",
      "C:\\Users\\gural\\Desktop\\animals\\bull\\VID_20190515_183943.mp4\n",
      "\n"
     ]
    },
    {
     "name": "stderr",
     "output_type": "stream",
     "text": [
      "\r",
      " 53%|██████████████████████████████████████████▏                                     | 290/550 [22:37<23:42,  5.47s/it]"
     ]
    },
    {
     "name": "stdout",
     "output_type": "stream",
     "text": [
      "(1, 23, 128, 128, 1)\n",
      "C:\\Users\\gural\\Desktop\\animals\\bull\\HorizontalFlipVID_20190327_184957translate.mp4\n",
      "\n"
     ]
    },
    {
     "name": "stderr",
     "output_type": "stream",
     "text": [
      "\r",
      " 53%|██████████████████████████████████████████▎                                     | 291/550 [22:42<22:02,  5.11s/it]"
     ]
    },
    {
     "name": "stdout",
     "output_type": "stream",
     "text": [
      "(1, 23, 128, 128, 1)\n",
      "C:\\Users\\gural\\Desktop\\animals\\bull\\VID_20190327_184849Crop.mp4\n",
      "\n"
     ]
    },
    {
     "name": "stderr",
     "output_type": "stream",
     "text": [
      "\r",
      " 53%|██████████████████████████████████████████▍                                     | 292/550 [22:44<18:36,  4.33s/it]"
     ]
    },
    {
     "name": "stdout",
     "output_type": "stream",
     "text": [
      "(1, 23, 128, 128, 1)\n",
      "C:\\Users\\gural\\Desktop\\animals\\alligator\\HorizontalFlipVID_20190327_184325Crop.mp4\n",
      "\n"
     ]
    },
    {
     "name": "stderr",
     "output_type": "stream",
     "text": [
      "\r",
      " 53%|██████████████████████████████████████████▌                                     | 293/550 [22:47<16:34,  3.87s/it]"
     ]
    },
    {
     "name": "stdout",
     "output_type": "stream",
     "text": [
      "(1, 23, 128, 128, 1)\n",
      "C:\\Users\\gural\\Desktop\\animals\\mouse\\VID_20190327_172833Rotate40.mp4\n",
      "\n"
     ]
    },
    {
     "name": "stderr",
     "output_type": "stream",
     "text": [
      "\r",
      " 53%|██████████████████████████████████████████▊                                     | 294/550 [22:54<20:54,  4.90s/it]"
     ]
    },
    {
     "name": "stdout",
     "output_type": "stream",
     "text": [
      "(1, 23, 128, 128, 1)\n",
      "C:\\Users\\gural\\Desktop\\animals\\alligator\\VID_20190327_184229Rotate40.mp4\n",
      "\n"
     ]
    },
    {
     "name": "stderr",
     "output_type": "stream",
     "text": [
      "\r",
      " 54%|██████████████████████████████████████████▉                                     | 295/550 [22:59<20:59,  4.94s/it]"
     ]
    },
    {
     "name": "stdout",
     "output_type": "stream",
     "text": [
      "(1, 23, 128, 128, 1)\n",
      "C:\\Users\\gural\\Desktop\\animals\\bull\\HorizontalFlipVID_20190327_184844translate.mp4\n",
      "\n"
     ]
    },
    {
     "name": "stderr",
     "output_type": "stream",
     "text": [
      "\r",
      " 54%|███████████████████████████████████████████                                     | 296/550 [23:04<20:53,  4.94s/it]"
     ]
    },
    {
     "name": "stdout",
     "output_type": "stream",
     "text": [
      "(1, 23, 128, 128, 1)\n",
      "C:\\Users\\gural\\Desktop\\animals\\tiger\\VID_20190515_183755Rotate.mp4\n",
      "\n"
     ]
    },
    {
     "name": "stderr",
     "output_type": "stream",
     "text": [
      "\r",
      " 54%|███████████████████████████████████████████▏                                    | 297/550 [23:08<19:27,  4.62s/it]"
     ]
    },
    {
     "name": "stdout",
     "output_type": "stream",
     "text": [
      "(1, 23, 128, 128, 1)\n",
      "C:\\Users\\gural\\Desktop\\animals\\mouse\\VID_20190327_172703translate.mp4\n",
      "\n"
     ]
    },
    {
     "name": "stderr",
     "output_type": "stream",
     "text": [
      "\r",
      " 54%|███████████████████████████████████████████▎                                    | 298/550 [23:16<23:48,  5.67s/it]"
     ]
    },
    {
     "name": "stdout",
     "output_type": "stream",
     "text": [
      "(1, 23, 128, 128, 1)\n",
      "C:\\Users\\gural\\Desktop\\animals\\tiger\\HorizontalFlipVID_20190327_173008Crop.mp4\n",
      "\n"
     ]
    },
    {
     "name": "stderr",
     "output_type": "stream",
     "text": [
      "\r",
      " 54%|███████████████████████████████████████████▍                                    | 299/550 [23:20<20:50,  4.98s/it]"
     ]
    },
    {
     "name": "stdout",
     "output_type": "stream",
     "text": [
      "(1, 23, 128, 128, 1)\n",
      "C:\\Users\\gural\\Desktop\\animals\\tiger\\VID_20190327_185427Rotate.mp4\n",
      "\n"
     ]
    },
    {
     "name": "stderr",
     "output_type": "stream",
     "text": [
      "\r",
      " 55%|███████████████████████████████████████████▋                                    | 300/550 [23:27<23:25,  5.62s/it]"
     ]
    },
    {
     "name": "stdout",
     "output_type": "stream",
     "text": [
      "(1, 23, 128, 128, 1)\n",
      "C:\\Users\\gural\\Desktop\\animals\\alligator\\VID_20190327_184229Rotate.mp4\n",
      "\n"
     ]
    },
    {
     "name": "stderr",
     "output_type": "stream",
     "text": [
      "\r",
      " 55%|███████████████████████████████████████████▊                                    | 301/550 [23:32<22:44,  5.48s/it]"
     ]
    },
    {
     "name": "stdout",
     "output_type": "stream",
     "text": [
      "(1, 23, 128, 128, 1)\n",
      "C:\\Users\\gural\\Desktop\\animals\\tiger\\VID_20190515_183731translate.mp4\n",
      "\n"
     ]
    },
    {
     "name": "stderr",
     "output_type": "stream",
     "text": [
      "\r",
      " 55%|███████████████████████████████████████████▉                                    | 302/550 [23:37<21:58,  5.32s/it]"
     ]
    },
    {
     "name": "stdout",
     "output_type": "stream",
     "text": [
      "(1, 23, 128, 128, 1)\n",
      "C:\\Users\\gural\\Desktop\\animals\\mouse\\HorizontalFlipVID_20190327_185343Crop.mp4\n",
      "\n"
     ]
    },
    {
     "name": "stderr",
     "output_type": "stream",
     "text": [
      "\r",
      " 55%|████████████████████████████████████████████                                    | 303/550 [23:40<18:55,  4.60s/it]"
     ]
    },
    {
     "name": "stdout",
     "output_type": "stream",
     "text": [
      "(1, 23, 128, 128, 1)\n",
      "C:\\Users\\gural\\Desktop\\animals\\bull\\HorizontalFlipVID_20190327_172501.mp4\n",
      "\n"
     ]
    },
    {
     "name": "stderr",
     "output_type": "stream",
     "text": [
      "\r",
      " 55%|████████████████████████████████████████████▏                                   | 304/550 [23:44<18:28,  4.51s/it]"
     ]
    },
    {
     "name": "stdout",
     "output_type": "stream",
     "text": [
      "(1, 23, 128, 128, 1)\n",
      "C:\\Users\\gural\\Desktop\\animals\\alligator\\VID_20190327_184502Crop.mp4\n",
      "\n"
     ]
    },
    {
     "name": "stderr",
     "output_type": "stream",
     "text": [
      "\r",
      " 55%|████████████████████████████████████████████▎                                   | 305/550 [23:47<16:52,  4.13s/it]"
     ]
    },
    {
     "name": "stdout",
     "output_type": "stream",
     "text": [
      "(1, 23, 128, 128, 1)\n",
      "C:\\Users\\gural\\Desktop\\animals\\bull\\VID_20190327_172627Rotate40.mp4\n",
      "\n"
     ]
    },
    {
     "name": "stderr",
     "output_type": "stream",
     "text": [
      "\r",
      " 56%|████████████████████████████████████████████▌                                   | 306/550 [23:55<21:23,  5.26s/it]"
     ]
    },
    {
     "name": "stdout",
     "output_type": "stream",
     "text": [
      "(1, 23, 128, 128, 1)\n",
      "C:\\Users\\gural\\Desktop\\animals\\mouse\\HorizontalFlipVID_20190327_185337.mp4\n",
      "\n"
     ]
    },
    {
     "name": "stderr",
     "output_type": "stream",
     "text": [
      "\r",
      " 56%|████████████████████████████████████████████▋                                   | 307/550 [24:00<20:35,  5.08s/it]"
     ]
    },
    {
     "name": "stdout",
     "output_type": "stream",
     "text": [
      "(1, 23, 128, 128, 1)\n",
      "C:\\Users\\gural\\Desktop\\animals\\bull\\HorizontalFlipVID_20190327_172412translate.mp4\n",
      "\n"
     ]
    },
    {
     "name": "stderr",
     "output_type": "stream",
     "text": [
      "\r",
      " 56%|████████████████████████████████████████████▊                                   | 308/550 [24:05<20:15,  5.02s/it]"
     ]
    },
    {
     "name": "stdout",
     "output_type": "stream",
     "text": [
      "(1, 23, 128, 128, 1)\n",
      "C:\\Users\\gural\\Desktop\\animals\\tiger\\HorizontalFlipVID_20190327_185434Rotate40.mp4\n",
      "\n"
     ]
    },
    {
     "name": "stderr",
     "output_type": "stream",
     "text": [
      "\r",
      " 56%|████████████████████████████████████████████▉                                   | 309/550 [24:10<21:02,  5.24s/it]"
     ]
    },
    {
     "name": "stdout",
     "output_type": "stream",
     "text": [
      "(1, 23, 128, 128, 1)\n",
      "C:\\Users\\gural\\Desktop\\animals\\mouse\\HorizontalFlipVID_20190327_185324translate.mp4\n",
      "\n"
     ]
    },
    {
     "name": "stderr",
     "output_type": "stream",
     "text": [
      "\r",
      " 56%|█████████████████████████████████████████████                                   | 310/550 [24:16<21:23,  5.35s/it]"
     ]
    },
    {
     "name": "stdout",
     "output_type": "stream",
     "text": [
      "(1, 23, 128, 128, 1)\n",
      "C:\\Users\\gural\\Desktop\\animals\\bull\\HorizontalFlipVID_20190515_183943Rotate.mp4\n",
      "\n"
     ]
    },
    {
     "name": "stderr",
     "output_type": "stream",
     "text": [
      "\r",
      " 57%|█████████████████████████████████████████████▏                                  | 311/550 [24:23<23:19,  5.86s/it]"
     ]
    },
    {
     "name": "stdout",
     "output_type": "stream",
     "text": [
      "(1, 23, 128, 128, 1)\n",
      "C:\\Users\\gural\\Desktop\\animals\\tiger\\HorizontalFlipVID_20190515_183731Crop.mp4\n",
      "\n"
     ]
    },
    {
     "name": "stderr",
     "output_type": "stream",
     "text": [
      "\r",
      " 57%|█████████████████████████████████████████████▍                                  | 312/550 [24:26<19:37,  4.95s/it]"
     ]
    },
    {
     "name": "stdout",
     "output_type": "stream",
     "text": [
      "(1, 23, 128, 128, 1)\n",
      "C:\\Users\\gural\\Desktop\\animals\\alligator\\VID_20190529_193248.mp4\n",
      "\n"
     ]
    },
    {
     "name": "stderr",
     "output_type": "stream",
     "text": [
      "\r",
      " 57%|█████████████████████████████████████████████▌                                  | 313/550 [24:31<19:20,  4.89s/it]"
     ]
    },
    {
     "name": "stdout",
     "output_type": "stream",
     "text": [
      "(1, 23, 128, 128, 1)\n",
      "C:\\Users\\gural\\Desktop\\animals\\mouse\\HorizontalFlipVID_20190327_185223Rotate40.mp4\n",
      "\n"
     ]
    },
    {
     "name": "stderr",
     "output_type": "stream",
     "text": [
      "\r",
      " 57%|█████████████████████████████████████████████▋                                  | 314/550 [24:36<19:52,  5.05s/it]"
     ]
    },
    {
     "name": "stdout",
     "output_type": "stream",
     "text": [
      "(1, 23, 128, 128, 1)\n",
      "C:\\Users\\gural\\Desktop\\animals\\bull\\HorizontalFlipVID_20190327_184748translate.mp4\n",
      "\n"
     ]
    },
    {
     "name": "stderr",
     "output_type": "stream",
     "text": [
      "\r",
      " 57%|█████████████████████████████████████████████▊                                  | 315/550 [24:42<20:21,  5.20s/it]"
     ]
    },
    {
     "name": "stdout",
     "output_type": "stream",
     "text": [
      "(1, 23, 128, 128, 1)\n",
      "C:\\Users\\gural\\Desktop\\animals\\alligator\\VID_20190515_183658.mp4\n",
      "\n"
     ]
    },
    {
     "name": "stderr",
     "output_type": "stream",
     "text": [
      "\r",
      " 57%|█████████████████████████████████████████████▉                                  | 316/550 [24:45<17:31,  4.49s/it]"
     ]
    },
    {
     "name": "stdout",
     "output_type": "stream",
     "text": [
      "(1, 23, 128, 128, 1)\n",
      "C:\\Users\\gural\\Desktop\\animals\\tiger\\VID_20190327_173108Rotate40.mp4\n",
      "\n"
     ]
    },
    {
     "name": "stderr",
     "output_type": "stream",
     "text": [
      "\r",
      " 58%|██████████████████████████████████████████████                                  | 317/550 [24:51<19:34,  5.04s/it]"
     ]
    },
    {
     "name": "stdout",
     "output_type": "stream",
     "text": [
      "(1, 23, 128, 128, 1)\n",
      "C:\\Users\\gural\\Desktop\\animals\\alligator\\HorizontalFlipVID_20190327_184234Rotate40.mp4\n",
      "\n"
     ]
    },
    {
     "name": "stderr",
     "output_type": "stream",
     "text": [
      "\r",
      " 58%|██████████████████████████████████████████████▎                                 | 318/550 [24:59<22:38,  5.86s/it]"
     ]
    },
    {
     "name": "stdout",
     "output_type": "stream",
     "text": [
      "(1, 23, 128, 128, 1)\n",
      "C:\\Users\\gural\\Desktop\\animals\\mouse\\HorizontalFlipVID_20190515_184018Rotate.mp4\n",
      "\n"
     ]
    },
    {
     "name": "stderr",
     "output_type": "stream",
     "text": [
      "\r",
      " 58%|██████████████████████████████████████████████▍                                 | 319/550 [25:05<23:34,  6.12s/it]"
     ]
    },
    {
     "name": "stdout",
     "output_type": "stream",
     "text": [
      "(1, 23, 128, 128, 1)\n",
      "C:\\Users\\gural\\Desktop\\animals\\bull\\VID_20190327_184957.mp4\n",
      "\n"
     ]
    },
    {
     "name": "stderr",
     "output_type": "stream",
     "text": [
      "\r",
      " 58%|██████████████████████████████████████████████▌                                 | 320/550 [25:10<21:51,  5.70s/it]"
     ]
    },
    {
     "name": "stdout",
     "output_type": "stream",
     "text": [
      "(1, 23, 128, 128, 1)\n",
      "C:\\Users\\gural\\Desktop\\animals\\tiger\\HorizontalFlipVID_20190327_185518.mp4\n",
      "\n"
     ]
    },
    {
     "name": "stderr",
     "output_type": "stream",
     "text": [
      "\r",
      " 58%|██████████████████████████████████████████████▋                                 | 321/550 [25:15<20:40,  5.42s/it]"
     ]
    },
    {
     "name": "stdout",
     "output_type": "stream",
     "text": [
      "(1, 23, 128, 128, 1)\n",
      "C:\\Users\\gural\\Desktop\\animals\\mouse\\HorizontalFlipVID_20190327_185153Rotate40.mp4\n",
      "\n"
     ]
    },
    {
     "name": "stderr",
     "output_type": "stream",
     "text": [
      "\r",
      " 59%|██████████████████████████████████████████████▊                                 | 322/550 [25:19<19:05,  5.03s/it]"
     ]
    },
    {
     "name": "stdout",
     "output_type": "stream",
     "text": [
      "(1, 23, 128, 128, 1)\n",
      "C:\\Users\\gural\\Desktop\\animals\\bull\\VID_20190327_184849translate.mp4\n",
      "\n"
     ]
    },
    {
     "name": "stderr",
     "output_type": "stream",
     "text": [
      "\r",
      " 59%|██████████████████████████████████████████████▉                                 | 323/550 [25:23<18:04,  4.78s/it]"
     ]
    },
    {
     "name": "stdout",
     "output_type": "stream",
     "text": [
      "(1, 23, 128, 128, 1)\n",
      "C:\\Users\\gural\\Desktop\\animals\\tiger\\HorizontalFlipVID_20190327_185447Crop.mp4\n",
      "\n"
     ]
    },
    {
     "name": "stderr",
     "output_type": "stream",
     "text": [
      "\r",
      " 59%|███████████████████████████████████████████████▏                                | 324/550 [25:26<15:34,  4.13s/it]"
     ]
    },
    {
     "name": "stdout",
     "output_type": "stream",
     "text": [
      "(1, 23, 128, 128, 1)\n",
      "C:\\Users\\gural\\Desktop\\animals\\tiger\\HorizontalFlipVID_20190327_172945Rotate40.mp4\n",
      "\n"
     ]
    },
    {
     "name": "stderr",
     "output_type": "stream",
     "text": [
      "\r",
      " 59%|███████████████████████████████████████████████▎                                | 325/550 [25:32<17:23,  4.64s/it]"
     ]
    },
    {
     "name": "stdout",
     "output_type": "stream",
     "text": [
      "(1, 23, 128, 128, 1)\n",
      "C:\\Users\\gural\\Desktop\\animals\\mouse\\VID_20190515_184018Rotate40.mp4\n",
      "\n"
     ]
    },
    {
     "name": "stderr",
     "output_type": "stream",
     "text": [
      "\r",
      " 59%|███████████████████████████████████████████████▍                                | 326/550 [25:38<19:38,  5.26s/it]"
     ]
    },
    {
     "name": "stdout",
     "output_type": "stream",
     "text": [
      "(1, 23, 128, 128, 1)\n",
      "C:\\Users\\gural\\Desktop\\animals\\alligator\\VID_20190327_172127Rotate.mp4\n",
      "\n"
     ]
    },
    {
     "name": "stderr",
     "output_type": "stream",
     "text": [
      "\r",
      " 59%|███████████████████████████████████████████████▌                                | 327/550 [25:46<22:18,  6.00s/it]"
     ]
    },
    {
     "name": "stdout",
     "output_type": "stream",
     "text": [
      "(1, 23, 128, 128, 1)\n",
      "C:\\Users\\gural\\Desktop\\animals\\alligator\\VID_20190327_184332Rotate40.mp4\n",
      "\n"
     ]
    },
    {
     "name": "stderr",
     "output_type": "stream",
     "text": [
      "\r",
      " 60%|███████████████████████████████████████████████▋                                | 328/550 [25:51<21:04,  5.69s/it]"
     ]
    },
    {
     "name": "stdout",
     "output_type": "stream",
     "text": [
      "(1, 23, 128, 128, 1)\n",
      "C:\\Users\\gural\\Desktop\\animals\\mouse\\HorizontalFlipVID_20190327_185223Rotate.mp4\n",
      "\n"
     ]
    },
    {
     "name": "stderr",
     "output_type": "stream",
     "text": [
      "\r",
      " 60%|███████████████████████████████████████████████▊                                | 329/550 [25:56<19:45,  5.36s/it]"
     ]
    },
    {
     "name": "stdout",
     "output_type": "stream",
     "text": [
      "(1, 23, 128, 128, 1)\n",
      "C:\\Users\\gural\\Desktop\\animals\\tiger\\VID_20190327_185447Rotate40.mp4\n",
      "\n"
     ]
    },
    {
     "name": "stderr",
     "output_type": "stream",
     "text": [
      "\r",
      " 60%|████████████████████████████████████████████████                                | 330/550 [26:00<18:37,  5.08s/it]"
     ]
    },
    {
     "name": "stdout",
     "output_type": "stream",
     "text": [
      "(1, 23, 128, 128, 1)\n",
      "C:\\Users\\gural\\Desktop\\animals\\mouse\\VID_20190327_185343Rotate.mp4\n",
      "\n"
     ]
    },
    {
     "name": "stderr",
     "output_type": "stream",
     "text": [
      "\r",
      " 60%|████████████████████████████████████████████████▏                               | 331/550 [26:05<18:37,  5.10s/it]"
     ]
    },
    {
     "name": "stdout",
     "output_type": "stream",
     "text": [
      "(1, 23, 128, 128, 1)\n",
      "C:\\Users\\gural\\Desktop\\animals\\bull\\VID_20190327_184838Crop.mp4\n",
      "\n"
     ]
    },
    {
     "name": "stderr",
     "output_type": "stream",
     "text": [
      "\r",
      " 60%|████████████████████████████████████████████████▎                               | 332/550 [26:08<15:49,  4.35s/it]"
     ]
    },
    {
     "name": "stdout",
     "output_type": "stream",
     "text": [
      "(1, 23, 128, 128, 1)\n",
      "C:\\Users\\gural\\Desktop\\animals\\bull\\VID_20190327_185003Rotate40.mp4\n",
      "\n"
     ]
    },
    {
     "name": "stderr",
     "output_type": "stream",
     "text": [
      "\r",
      " 61%|████████████████████████████████████████████████▍                               | 333/550 [26:13<16:23,  4.53s/it]"
     ]
    },
    {
     "name": "stdout",
     "output_type": "stream",
     "text": [
      "(1, 23, 128, 128, 1)\n",
      "C:\\Users\\gural\\Desktop\\animals\\tiger\\HorizontalFlipVID_20190327_173032.mp4\n",
      "\n"
     ]
    },
    {
     "name": "stderr",
     "output_type": "stream",
     "text": [
      "\r",
      " 61%|████████████████████████████████████████████████▌                               | 334/550 [26:21<20:16,  5.63s/it]"
     ]
    },
    {
     "name": "stdout",
     "output_type": "stream",
     "text": [
      "(1, 23, 128, 128, 1)\n",
      "C:\\Users\\gural\\Desktop\\animals\\alligator\\VID_20190327_184229translate.mp4\n",
      "\n"
     ]
    },
    {
     "name": "stderr",
     "output_type": "stream",
     "text": [
      "\r",
      " 61%|████████████████████████████████████████████████▋                               | 335/550 [26:26<19:37,  5.48s/it]"
     ]
    },
    {
     "name": "stdout",
     "output_type": "stream",
     "text": [
      "(1, 23, 128, 128, 1)\n",
      "C:\\Users\\gural\\Desktop\\animals\\tiger\\HorizontalFlipVID_20190327_173108Rotate40.mp4\n",
      "\n"
     ]
    },
    {
     "name": "stderr",
     "output_type": "stream",
     "text": [
      "\r",
      " 61%|████████████████████████████████████████████████▊                               | 336/550 [26:32<20:12,  5.67s/it]"
     ]
    },
    {
     "name": "stdout",
     "output_type": "stream",
     "text": [
      "(1, 23, 128, 128, 1)\n",
      "C:\\Users\\gural\\Desktop\\animals\\tiger\\VID_20190327_173008Crop.mp4\n",
      "\n"
     ]
    },
    {
     "name": "stderr",
     "output_type": "stream",
     "text": [
      "\r",
      " 61%|█████████████████████████████████████████████████                               | 337/550 [26:36<17:44,  5.00s/it]"
     ]
    },
    {
     "name": "stdout",
     "output_type": "stream",
     "text": [
      "(1, 23, 128, 128, 1)\n",
      "C:\\Users\\gural\\Desktop\\animals\\bull\\HorizontalFlipVID_20190327_172412.mp4\n",
      "\n"
     ]
    },
    {
     "name": "stderr",
     "output_type": "stream",
     "text": [
      "\r",
      " 61%|█████████████████████████████████████████████████▏                              | 338/550 [26:40<17:21,  4.91s/it]"
     ]
    },
    {
     "name": "stdout",
     "output_type": "stream",
     "text": [
      "(1, 23, 128, 128, 1)\n",
      "C:\\Users\\gural\\Desktop\\animals\\bull\\HorizontalFlipVID_20190327_184939Rotate40.mp4\n",
      "\n"
     ]
    },
    {
     "name": "stderr",
     "output_type": "stream",
     "text": [
      "\r",
      " 62%|█████████████████████████████████████████████████▎                              | 339/550 [26:44<16:27,  4.68s/it]"
     ]
    },
    {
     "name": "stdout",
     "output_type": "stream",
     "text": [
      "(1, 23, 128, 128, 1)\n",
      "C:\\Users\\gural\\Desktop\\animals\\mouse\\VID_20190515_184018.mp4\n",
      "\n"
     ]
    },
    {
     "name": "stderr",
     "output_type": "stream",
     "text": [
      "\r",
      " 62%|█████████████████████████████████████████████████▍                              | 340/550 [26:51<18:44,  5.35s/it]"
     ]
    },
    {
     "name": "stdout",
     "output_type": "stream",
     "text": [
      "(1, 23, 128, 128, 1)\n",
      "C:\\Users\\gural\\Desktop\\animals\\mouse\\VID_20190327_185248Crop.mp4\n",
      "\n"
     ]
    },
    {
     "name": "stderr",
     "output_type": "stream",
     "text": [
      "\r",
      " 62%|█████████████████████████████████████████████████▌                              | 341/550 [26:54<15:28,  4.44s/it]"
     ]
    },
    {
     "name": "stdout",
     "output_type": "stream",
     "text": [
      "(1, 23, 128, 128, 1)\n",
      "C:\\Users\\gural\\Desktop\\animals\\tiger\\VID_20190327_185606Crop.mp4\n",
      "\n"
     ]
    },
    {
     "name": "stderr",
     "output_type": "stream",
     "text": [
      "\r",
      " 62%|█████████████████████████████████████████████████▋                              | 342/550 [26:56<13:38,  3.94s/it]"
     ]
    },
    {
     "name": "stdout",
     "output_type": "stream",
     "text": [
      "(1, 23, 128, 128, 1)\n",
      "C:\\Users\\gural\\Desktop\\animals\\mouse\\HorizontalFlipVID_20190327_185223.mp4\n",
      "\n"
     ]
    },
    {
     "name": "stderr",
     "output_type": "stream",
     "text": [
      "\r",
      " 62%|█████████████████████████████████████████████████▉                              | 343/550 [27:01<14:16,  4.14s/it]"
     ]
    },
    {
     "name": "stdout",
     "output_type": "stream",
     "text": [
      "(1, 23, 128, 128, 1)\n",
      "C:\\Users\\gural\\Desktop\\animals\\bull\\VID_20190327_184844translate.mp4\n",
      "\n"
     ]
    },
    {
     "name": "stderr",
     "output_type": "stream",
     "text": [
      "\r",
      " 63%|██████████████████████████████████████████████████                              | 344/550 [27:06<15:02,  4.38s/it]"
     ]
    },
    {
     "name": "stdout",
     "output_type": "stream",
     "text": [
      "(1, 23, 128, 128, 1)\n",
      "C:\\Users\\gural\\Desktop\\animals\\bull\\HorizontalFlipVID_20190327_184838translate.mp4\n",
      "\n"
     ]
    },
    {
     "name": "stderr",
     "output_type": "stream",
     "text": [
      "\r",
      " 63%|██████████████████████████████████████████████████▏                             | 345/550 [27:11<15:12,  4.45s/it]"
     ]
    },
    {
     "name": "stdout",
     "output_type": "stream",
     "text": [
      "(1, 23, 128, 128, 1)\n",
      "C:\\Users\\gural\\Desktop\\animals\\mouse\\VID_20190327_185236Crop.mp4\n",
      "\n"
     ]
    },
    {
     "name": "stderr",
     "output_type": "stream",
     "text": [
      "\r",
      " 63%|██████████████████████████████████████████████████▎                             | 346/550 [27:13<13:17,  3.91s/it]"
     ]
    },
    {
     "name": "stdout",
     "output_type": "stream",
     "text": [
      "(1, 23, 128, 128, 1)\n",
      "C:\\Users\\gural\\Desktop\\animals\\bull\\HorizontalFlipVID_20190327_172627Crop.mp4\n",
      "\n"
     ]
    },
    {
     "name": "stderr",
     "output_type": "stream",
     "text": [
      "\r",
      " 63%|██████████████████████████████████████████████████▍                             | 347/550 [27:18<13:40,  4.04s/it]"
     ]
    },
    {
     "name": "stdout",
     "output_type": "stream",
     "text": [
      "(1, 23, 128, 128, 1)\n",
      "C:\\Users\\gural\\Desktop\\animals\\mouse\\HorizontalFlipVID_20190515_184028Rotate.mp4\n",
      "\n"
     ]
    },
    {
     "name": "stderr",
     "output_type": "stream",
     "text": [
      "\r",
      " 63%|██████████████████████████████████████████████████▌                             | 348/550 [27:29<20:36,  6.12s/it]"
     ]
    },
    {
     "name": "stdout",
     "output_type": "stream",
     "text": [
      "(1, 23, 128, 128, 1)\n",
      "C:\\Users\\gural\\Desktop\\animals\\tiger\\VID_20190327_185554Rotate.mp4\n",
      "\n"
     ]
    },
    {
     "name": "stderr",
     "output_type": "stream",
     "text": [
      "\r",
      " 63%|██████████████████████████████████████████████████▊                             | 349/550 [27:33<19:12,  5.73s/it]"
     ]
    },
    {
     "name": "stdout",
     "output_type": "stream",
     "text": [
      "(1, 23, 128, 128, 1)\n",
      "C:\\Users\\gural\\Desktop\\animals\\tiger\\HorizontalFlipVID_20190327_185548Rotate.mp4\n",
      "\n"
     ]
    },
    {
     "name": "stderr",
     "output_type": "stream",
     "text": [
      "\r",
      " 64%|██████████████████████████████████████████████████▉                             | 350/550 [27:38<18:13,  5.47s/it]"
     ]
    },
    {
     "name": "stdout",
     "output_type": "stream",
     "text": [
      "(1, 23, 128, 128, 1)\n",
      "C:\\Users\\gural\\Desktop\\animals\\alligator\\VID_20190327_184229.mp4\n",
      "\n"
     ]
    },
    {
     "name": "stderr",
     "output_type": "stream",
     "text": [
      "\r",
      " 64%|███████████████████████████████████████████████████                             | 351/550 [27:44<18:06,  5.46s/it]"
     ]
    },
    {
     "name": "stdout",
     "output_type": "stream",
     "text": [
      "(1, 23, 128, 128, 1)\n",
      "C:\\Users\\gural\\Desktop\\animals\\tiger\\HorizontalFlipVID_20190327_185601Rotate.mp4\n",
      "\n"
     ]
    },
    {
     "name": "stderr",
     "output_type": "stream",
     "text": [
      "\r",
      " 64%|███████████████████████████████████████████████████▏                            | 352/550 [27:48<17:15,  5.23s/it]"
     ]
    },
    {
     "name": "stdout",
     "output_type": "stream",
     "text": [
      "(1, 23, 128, 128, 1)\n",
      "C:\\Users\\gural\\Desktop\\animals\\bull\\VID_20190515_183937Rotate.mp4\n",
      "\n"
     ]
    },
    {
     "name": "stderr",
     "output_type": "stream",
     "text": [
      "\r",
      " 64%|███████████████████████████████████████████████████▎                            | 353/550 [27:57<20:32,  6.25s/it]"
     ]
    },
    {
     "name": "stdout",
     "output_type": "stream",
     "text": [
      "(1, 23, 128, 128, 1)\n",
      "C:\\Users\\gural\\Desktop\\animals\\alligator\\HorizontalFlipVID_20190327_172127Crop.mp4\n",
      "\n"
     ]
    },
    {
     "name": "stderr",
     "output_type": "stream",
     "text": [
      "\r",
      " 64%|███████████████████████████████████████████████████▍                            | 354/550 [28:02<18:46,  5.75s/it]"
     ]
    },
    {
     "name": "stdout",
     "output_type": "stream",
     "text": [
      "(1, 23, 128, 128, 1)\n",
      "C:\\Users\\gural\\Desktop\\animals\\alligator\\HorizontalFlipVID_20190515_183710Rotate.mp4\n",
      "\n"
     ]
    },
    {
     "name": "stderr",
     "output_type": "stream",
     "text": [
      "\r",
      " 65%|███████████████████████████████████████████████████▋                            | 355/550 [28:07<18:19,  5.64s/it]"
     ]
    },
    {
     "name": "stdout",
     "output_type": "stream",
     "text": [
      "(1, 23, 128, 128, 1)\n",
      "C:\\Users\\gural\\Desktop\\animals\\bull\\HorizontalFlipVID_20190327_172536.mp4\n",
      "\n"
     ]
    },
    {
     "name": "stderr",
     "output_type": "stream",
     "text": [
      "\r",
      " 65%|███████████████████████████████████████████████████▊                            | 356/550 [28:14<20:00,  6.19s/it]"
     ]
    },
    {
     "name": "stdout",
     "output_type": "stream",
     "text": [
      "(1, 23, 128, 128, 1)\n",
      "C:\\Users\\gural\\Desktop\\animals\\tiger\\VID_20190327_173108Rotate.mp4\n",
      "\n"
     ]
    },
    {
     "name": "stderr",
     "output_type": "stream",
     "text": [
      "\r",
      " 65%|███████████████████████████████████████████████████▉                            | 357/550 [28:21<20:02,  6.23s/it]"
     ]
    },
    {
     "name": "stdout",
     "output_type": "stream",
     "text": [
      "(1, 23, 128, 128, 1)\n",
      "C:\\Users\\gural\\Desktop\\animals\\alligator\\VID_20190327_184358.mp4\n",
      "\n"
     ]
    },
    {
     "name": "stderr",
     "output_type": "stream",
     "text": [
      "\r",
      " 65%|████████████████████████████████████████████████████                            | 358/550 [28:27<20:17,  6.34s/it]"
     ]
    },
    {
     "name": "stdout",
     "output_type": "stream",
     "text": [
      "(1, 23, 128, 128, 1)\n",
      "C:\\Users\\gural\\Desktop\\animals\\bull\\HorizontalFlipVID_20190327_184748.mp4\n",
      "\n"
     ]
    },
    {
     "name": "stderr",
     "output_type": "stream",
     "text": [
      "\r",
      " 65%|████████████████████████████████████████████████████▏                           | 359/550 [28:34<20:10,  6.34s/it]"
     ]
    },
    {
     "name": "stdout",
     "output_type": "stream",
     "text": [
      "(1, 23, 128, 128, 1)\n",
      "C:\\Users\\gural\\Desktop\\animals\\bull\\VID_20190327_184939translate.mp4\n",
      "\n"
     ]
    },
    {
     "name": "stderr",
     "output_type": "stream",
     "text": [
      "\r",
      " 65%|████████████████████████████████████████████████████▎                           | 360/550 [28:38<17:51,  5.64s/it]"
     ]
    },
    {
     "name": "stdout",
     "output_type": "stream",
     "text": [
      "(1, 23, 128, 128, 1)\n",
      "C:\\Users\\gural\\Desktop\\animals\\mouse\\HorizontalFlipVID_20190515_184023Rotate40.mp4\n",
      "\n"
     ]
    },
    {
     "name": "stderr",
     "output_type": "stream",
     "text": [
      "\r",
      " 66%|████████████████████████████████████████████████████▌                           | 361/550 [28:43<17:39,  5.61s/it]"
     ]
    },
    {
     "name": "stdout",
     "output_type": "stream",
     "text": [
      "(1, 23, 128, 128, 1)\n",
      "C:\\Users\\gural\\Desktop\\animals\\mouse\\VID_20190327_185248.mp4\n",
      "\n"
     ]
    },
    {
     "name": "stderr",
     "output_type": "stream",
     "text": [
      "\r",
      " 66%|████████████████████████████████████████████████████▋                           | 362/550 [28:47<15:57,  5.10s/it]"
     ]
    },
    {
     "name": "stdout",
     "output_type": "stream",
     "text": [
      "(1, 23, 128, 128, 1)\n",
      "C:\\Users\\gural\\Desktop\\animals\\tiger\\VID_20190327_185554.mp4\n",
      "\n"
     ]
    },
    {
     "name": "stderr",
     "output_type": "stream",
     "text": [
      "\r",
      " 66%|████████████████████████████████████████████████████▊                           | 363/550 [28:52<15:20,  4.92s/it]"
     ]
    },
    {
     "name": "stdout",
     "output_type": "stream",
     "text": [
      "(1, 23, 128, 128, 1)\n",
      "C:\\Users\\gural\\Desktop\\animals\\alligator\\VID_20190327_184452.mp4\n",
      "\n"
     ]
    },
    {
     "name": "stderr",
     "output_type": "stream",
     "text": [
      "\r",
      " 66%|████████████████████████████████████████████████████▉                           | 364/550 [28:56<15:07,  4.88s/it]"
     ]
    },
    {
     "name": "stdout",
     "output_type": "stream",
     "text": [
      "(1, 23, 128, 128, 1)\n",
      "C:\\Users\\gural\\Desktop\\animals\\alligator\\HorizontalFlipVID_20190327_184404Rotate.mp4\n",
      "\n"
     ]
    },
    {
     "name": "stderr",
     "output_type": "stream",
     "text": [
      "\r",
      " 66%|█████████████████████████████████████████████████████                           | 365/550 [29:01<14:30,  4.71s/it]"
     ]
    },
    {
     "name": "stdout",
     "output_type": "stream",
     "text": [
      "(1, 23, 128, 128, 1)\n",
      "C:\\Users\\gural\\Desktop\\animals\\alligator\\HorizontalFlipVID_20190327_184339Rotate.mp4\n",
      "\n"
     ]
    },
    {
     "name": "stderr",
     "output_type": "stream",
     "text": [
      "\r",
      " 67%|█████████████████████████████████████████████████████▏                          | 366/550 [29:06<14:56,  4.87s/it]"
     ]
    },
    {
     "name": "stdout",
     "output_type": "stream",
     "text": [
      "(1, 23, 128, 128, 1)\n",
      "C:\\Users\\gural\\Desktop\\animals\\tiger\\HorizontalFlipVID_20190327_172945Rotate.mp4\n",
      "\n"
     ]
    },
    {
     "name": "stderr",
     "output_type": "stream",
     "text": [
      "\r",
      " 67%|█████████████████████████████████████████████████████▍                          | 367/550 [29:12<15:27,  5.07s/it]"
     ]
    },
    {
     "name": "stdout",
     "output_type": "stream",
     "text": [
      "(1, 23, 128, 128, 1)\n",
      "C:\\Users\\gural\\Desktop\\animals\\tiger\\VID_20190515_183755.mp4\n",
      "\n"
     ]
    },
    {
     "name": "stderr",
     "output_type": "stream",
     "text": [
      "\r",
      " 67%|█████████████████████████████████████████████████████▌                          | 368/550 [29:15<14:19,  4.72s/it]"
     ]
    },
    {
     "name": "stdout",
     "output_type": "stream",
     "text": [
      "(1, 23, 128, 128, 1)\n",
      "C:\\Users\\gural\\Desktop\\animals\\alligator\\VID_20190327_184325Rotate40.mp4\n",
      "\n"
     ]
    },
    {
     "name": "stderr",
     "output_type": "stream",
     "text": [
      "\r",
      " 67%|█████████████████████████████████████████████████████▋                          | 369/550 [29:20<14:03,  4.66s/it]"
     ]
    },
    {
     "name": "stdout",
     "output_type": "stream",
     "text": [
      "(1, 23, 128, 128, 1)\n",
      "C:\\Users\\gural\\Desktop\\animals\\alligator\\HorizontalFlipVID_20190327_184305Rotate40.mp4\n",
      "\n"
     ]
    },
    {
     "name": "stderr",
     "output_type": "stream",
     "text": [
      "\r",
      " 67%|█████████████████████████████████████████████████████▊                          | 370/550 [29:25<14:25,  4.81s/it]"
     ]
    },
    {
     "name": "stdout",
     "output_type": "stream",
     "text": [
      "(1, 23, 128, 128, 1)\n",
      "C:\\Users\\gural\\Desktop\\animals\\bull\\VID_20190515_183937.mp4\n",
      "\n"
     ]
    },
    {
     "name": "stderr",
     "output_type": "stream",
     "text": [
      "\r",
      " 67%|█████████████████████████████████████████████████████▉                          | 371/550 [29:33<17:21,  5.82s/it]"
     ]
    },
    {
     "name": "stdout",
     "output_type": "stream",
     "text": [
      "(1, 23, 128, 128, 1)\n",
      "C:\\Users\\gural\\Desktop\\animals\\tiger\\HorizontalFlipVID_20190327_185447translate.mp4\n",
      "\n"
     ]
    },
    {
     "name": "stderr",
     "output_type": "stream",
     "text": [
      "\r",
      " 68%|██████████████████████████████████████████████████████                          | 372/550 [29:38<15:53,  5.36s/it]"
     ]
    },
    {
     "name": "stdout",
     "output_type": "stream",
     "text": [
      "(1, 23, 128, 128, 1)\n",
      "C:\\Users\\gural\\Desktop\\animals\\bull\\HorizontalFlipVID_20190327_185003Rotate40.mp4\n",
      "\n"
     ]
    },
    {
     "name": "stderr",
     "output_type": "stream",
     "text": [
      "\r",
      " 68%|██████████████████████████████████████████████████████▎                         | 373/550 [29:42<15:11,  5.15s/it]"
     ]
    },
    {
     "name": "stdout",
     "output_type": "stream",
     "text": [
      "(1, 23, 128, 128, 1)\n",
      "C:\\Users\\gural\\Desktop\\animals\\bull\\HorizontalFlipVID_20190327_172316Crop.mp4\n",
      "\n"
     ]
    },
    {
     "name": "stderr",
     "output_type": "stream",
     "text": [
      "\r",
      " 68%|██████████████████████████████████████████████████████▍                         | 374/550 [29:45<12:35,  4.29s/it]"
     ]
    },
    {
     "name": "stdout",
     "output_type": "stream",
     "text": [
      "(1, 23, 128, 128, 1)\n",
      "C:\\Users\\gural\\Desktop\\animals\\tiger\\HorizontalFlipVID_20190327_185434Rotate.mp4\n",
      "\n"
     ]
    },
    {
     "name": "stderr",
     "output_type": "stream",
     "text": [
      "\r",
      " 68%|██████████████████████████████████████████████████████▌                         | 375/550 [29:50<13:25,  4.60s/it]"
     ]
    },
    {
     "name": "stdout",
     "output_type": "stream",
     "text": [
      "(1, 23, 128, 128, 1)\n",
      "C:\\Users\\gural\\Desktop\\animals\\alligator\\HorizontalFlipVID_20190327_184320Crop.mp4\n",
      "\n"
     ]
    },
    {
     "name": "stderr",
     "output_type": "stream",
     "text": [
      "\r",
      " 68%|██████████████████████████████████████████████████████▋                         | 376/550 [29:53<12:02,  4.15s/it]"
     ]
    },
    {
     "name": "stdout",
     "output_type": "stream",
     "text": [
      "(1, 23, 128, 128, 1)\n",
      "C:\\Users\\gural\\Desktop\\animals\\alligator\\HorizontalFlipVID_20190327_184325.mp4\n",
      "\n"
     ]
    },
    {
     "name": "stderr",
     "output_type": "stream",
     "text": [
      "\r",
      " 69%|██████████████████████████████████████████████████████▊                         | 377/550 [29:58<12:20,  4.28s/it]"
     ]
    },
    {
     "name": "stdout",
     "output_type": "stream",
     "text": [
      "(1, 23, 128, 128, 1)\n",
      "C:\\Users\\gural\\Desktop\\animals\\mouse\\VID_20190327_172736translate.mp4\n",
      "\n"
     ]
    },
    {
     "name": "stderr",
     "output_type": "stream",
     "text": [
      "\r",
      " 69%|██████████████████████████████████████████████████████▉                         | 378/550 [30:04<14:14,  4.97s/it]"
     ]
    },
    {
     "name": "stdout",
     "output_type": "stream",
     "text": [
      "(1, 23, 128, 128, 1)\n",
      "C:\\Users\\gural\\Desktop\\animals\\alligator\\VID_20190327_184305Crop.mp4\n",
      "\n"
     ]
    },
    {
     "name": "stderr",
     "output_type": "stream",
     "text": [
      "\r",
      " 69%|███████████████████████████████████████████████████████▏                        | 379/550 [30:07<12:31,  4.39s/it]"
     ]
    },
    {
     "name": "stdout",
     "output_type": "stream",
     "text": [
      "(1, 23, 128, 128, 1)\n",
      "C:\\Users\\gural\\Desktop\\animals\\alligator\\HorizontalFlipVID_20190327_171910Crop.mp4\n",
      "\n"
     ]
    },
    {
     "name": "stderr",
     "output_type": "stream",
     "text": [
      "\r",
      " 69%|███████████████████████████████████████████████████████▎                        | 380/550 [30:11<12:08,  4.29s/it]"
     ]
    },
    {
     "name": "stdout",
     "output_type": "stream",
     "text": [
      "(1, 23, 128, 128, 1)\n",
      "C:\\Users\\gural\\Desktop\\animals\\alligator\\VID_20190327_184339Rotate.mp4\n",
      "\n"
     ]
    },
    {
     "name": "stderr",
     "output_type": "stream",
     "text": [
      "\r",
      " 69%|███████████████████████████████████████████████████████▍                        | 381/550 [30:18<13:46,  4.89s/it]"
     ]
    },
    {
     "name": "stdout",
     "output_type": "stream",
     "text": [
      "(1, 23, 128, 128, 1)\n",
      "C:\\Users\\gural\\Desktop\\animals\\mouse\\VID_20190327_185324.mp4\n",
      "\n"
     ]
    },
    {
     "name": "stderr",
     "output_type": "stream",
     "text": [
      "\r",
      " 69%|███████████████████████████████████████████████████████▌                        | 382/550 [30:23<14:15,  5.09s/it]"
     ]
    },
    {
     "name": "stdout",
     "output_type": "stream",
     "text": [
      "(1, 23, 128, 128, 1)\n",
      "C:\\Users\\gural\\Desktop\\animals\\mouse\\VID_20190327_172736Crop.mp4\n",
      "\n"
     ]
    },
    {
     "name": "stderr",
     "output_type": "stream",
     "text": [
      "\r",
      " 70%|███████████████████████████████████████████████████████▋                        | 383/550 [30:27<13:15,  4.76s/it]"
     ]
    },
    {
     "name": "stdout",
     "output_type": "stream",
     "text": [
      "(1, 23, 128, 128, 1)\n",
      "C:\\Users\\gural\\Desktop\\animals\\bull\\VID_20190529_193352.mp4\n",
      "\n"
     ]
    },
    {
     "name": "stderr",
     "output_type": "stream",
     "text": [
      "\r",
      " 70%|███████████████████████████████████████████████████████▊                        | 384/550 [30:34<14:49,  5.36s/it]"
     ]
    },
    {
     "name": "stdout",
     "output_type": "stream",
     "text": [
      "(1, 23, 128, 128, 1)\n",
      "C:\\Users\\gural\\Desktop\\animals\\bull\\VID_20190327_172627Crop.mp4\n",
      "\n"
     ]
    },
    {
     "name": "stderr",
     "output_type": "stream",
     "text": [
      "\r",
      " 70%|████████████████████████████████████████████████████████                        | 385/550 [30:38<13:49,  5.03s/it]"
     ]
    },
    {
     "name": "stdout",
     "output_type": "stream",
     "text": [
      "(1, 23, 128, 128, 1)\n",
      "C:\\Users\\gural\\Desktop\\animals\\mouse\\VID_20190515_184013Rotate.mp4\n",
      "\n"
     ]
    },
    {
     "name": "stderr",
     "output_type": "stream",
     "text": [
      "\r",
      " 70%|████████████████████████████████████████████████████████▏                       | 386/550 [30:44<14:27,  5.29s/it]"
     ]
    },
    {
     "name": "stdout",
     "output_type": "stream",
     "text": [
      "(1, 23, 128, 128, 1)\n",
      "C:\\Users\\gural\\Desktop\\animals\\mouse\\HorizontalFlipVID_20190327_185236.mp4\n",
      "\n"
     ]
    },
    {
     "name": "stderr",
     "output_type": "stream",
     "text": [
      "\r",
      " 70%|████████████████████████████████████████████████████████▎                       | 387/550 [30:48<13:40,  5.03s/it]"
     ]
    },
    {
     "name": "stdout",
     "output_type": "stream",
     "text": [
      "(1, 23, 128, 128, 1)\n",
      "C:\\Users\\gural\\Desktop\\animals\\alligator\\HorizontalFlipVID_20190327_184332translate.mp4\n",
      "\n"
     ]
    },
    {
     "name": "stderr",
     "output_type": "stream",
     "text": [
      "\r",
      " 71%|████████████████████████████████████████████████████████▍                       | 388/550 [30:54<13:38,  5.05s/it]"
     ]
    },
    {
     "name": "stdout",
     "output_type": "stream",
     "text": [
      "(1, 23, 128, 128, 1)\n",
      "C:\\Users\\gural\\Desktop\\animals\\alligator\\HorizontalFlipVID_20190327_171826.mp4\n",
      "\n"
     ]
    },
    {
     "name": "stderr",
     "output_type": "stream",
     "text": [
      "\r",
      " 71%|████████████████████████████████████████████████████████▌                       | 389/550 [31:00<14:20,  5.35s/it]"
     ]
    },
    {
     "name": "stdout",
     "output_type": "stream",
     "text": [
      "(1, 23, 128, 128, 1)\n",
      "C:\\Users\\gural\\Desktop\\animals\\mouse\\HorizontalFlipVID_20190327_185343.mp4\n",
      "\n"
     ]
    },
    {
     "name": "stderr",
     "output_type": "stream",
     "text": [
      "\r",
      " 71%|████████████████████████████████████████████████████████▋                       | 390/550 [31:05<14:09,  5.31s/it]"
     ]
    },
    {
     "name": "stdout",
     "output_type": "stream",
     "text": [
      "(1, 23, 128, 128, 1)\n",
      "C:\\Users\\gural\\Desktop\\animals\\bull\\VID_20190327_184737Rotate.mp4\n",
      "\n"
     ]
    },
    {
     "name": "stderr",
     "output_type": "stream",
     "text": [
      "\r",
      " 71%|████████████████████████████████████████████████████████▊                       | 391/550 [31:09<13:22,  5.05s/it]"
     ]
    },
    {
     "name": "stdout",
     "output_type": "stream",
     "text": [
      "(1, 23, 128, 128, 1)\n",
      "C:\\Users\\gural\\Desktop\\animals\\alligator\\HorizontalFlipVID_20190327_184457.mp4\n",
      "\n"
     ]
    },
    {
     "name": "stderr",
     "output_type": "stream",
     "text": [
      "\r",
      " 71%|█████████████████████████████████████████████████████████                       | 392/550 [31:13<12:38,  4.80s/it]"
     ]
    },
    {
     "name": "stdout",
     "output_type": "stream",
     "text": [
      "(1, 23, 128, 128, 1)\n",
      "C:\\Users\\gural\\Desktop\\animals\\alligator\\VID_20190327_184404Rotate.mp4\n",
      "\n"
     ]
    },
    {
     "name": "stderr",
     "output_type": "stream",
     "text": [
      "\r",
      " 71%|█████████████████████████████████████████████████████████▏                      | 393/550 [31:18<12:22,  4.73s/it]"
     ]
    },
    {
     "name": "stdout",
     "output_type": "stream",
     "text": [
      "(1, 23, 128, 128, 1)\n",
      "C:\\Users\\gural\\Desktop\\animals\\alligator\\HorizontalFlipVID_20190327_172003Rotate40.mp4\n",
      "\n"
     ]
    },
    {
     "name": "stderr",
     "output_type": "stream",
     "text": [
      "\r",
      " 72%|█████████████████████████████████████████████████████████▎                      | 394/550 [31:24<13:17,  5.11s/it]"
     ]
    },
    {
     "name": "stdout",
     "output_type": "stream",
     "text": [
      "(1, 23, 128, 128, 1)\n",
      "C:\\Users\\gural\\Desktop\\animals\\tiger\\HorizontalFlipVID_20190327_185532Rotate.mp4\n",
      "\n"
     ]
    },
    {
     "name": "stderr",
     "output_type": "stream",
     "text": [
      "\r",
      " 72%|█████████████████████████████████████████████████████████▍                      | 395/550 [31:29<12:58,  5.03s/it]"
     ]
    },
    {
     "name": "stdout",
     "output_type": "stream",
     "text": [
      "(1, 23, 128, 128, 1)\n",
      "C:\\Users\\gural\\Desktop\\animals\\mouse\\VID_20190327_185324Rotate40.mp4\n",
      "\n"
     ]
    },
    {
     "name": "stderr",
     "output_type": "stream",
     "text": [
      "\r",
      " 72%|█████████████████████████████████████████████████████████▌                      | 396/550 [31:35<13:30,  5.27s/it]"
     ]
    },
    {
     "name": "stdout",
     "output_type": "stream",
     "text": [
      "(1, 23, 128, 128, 1)\n",
      "C:\\Users\\gural\\Desktop\\animals\\bull\\VID_20190327_184957Rotate40.mp4\n",
      "\n"
     ]
    },
    {
     "name": "stderr",
     "output_type": "stream",
     "text": [
      "\r",
      " 72%|█████████████████████████████████████████████████████████▋                      | 397/550 [31:39<12:40,  4.97s/it]"
     ]
    },
    {
     "name": "stdout",
     "output_type": "stream",
     "text": [
      "(1, 23, 128, 128, 1)\n",
      "C:\\Users\\gural\\Desktop\\animals\\alligator\\VID_20190327_184300Rotate40.mp4\n",
      "\n"
     ]
    },
    {
     "name": "stderr",
     "output_type": "stream",
     "text": [
      "\r",
      " 72%|█████████████████████████████████████████████████████████▉                      | 398/550 [31:44<12:43,  5.02s/it]"
     ]
    },
    {
     "name": "stdout",
     "output_type": "stream",
     "text": [
      "(1, 23, 128, 128, 1)\n",
      "C:\\Users\\gural\\Desktop\\animals\\bull\\HorizontalFlipVID_20190327_172316Rotate.mp4\n",
      "\n"
     ]
    },
    {
     "name": "stderr",
     "output_type": "stream",
     "text": [
      "\r",
      " 73%|██████████████████████████████████████████████████████████                      | 399/550 [31:48<12:00,  4.77s/it]"
     ]
    },
    {
     "name": "stdout",
     "output_type": "stream",
     "text": [
      "(1, 23, 128, 128, 1)\n",
      "C:\\Users\\gural\\Desktop\\animals\\bull\\VID_20190327_184849Rotate.mp4\n",
      "\n"
     ]
    },
    {
     "name": "stderr",
     "output_type": "stream",
     "text": [
      "\r",
      " 73%|██████████████████████████████████████████████████████████▏                     | 400/550 [31:53<11:33,  4.62s/it]"
     ]
    },
    {
     "name": "stdout",
     "output_type": "stream",
     "text": [
      "(1, 23, 128, 128, 1)\n",
      "C:\\Users\\gural\\Desktop\\animals\\tiger\\HorizontalFlipVID_20190327_185554.mp4\n",
      "\n"
     ]
    },
    {
     "name": "stderr",
     "output_type": "stream",
     "text": [
      "\r",
      " 73%|██████████████████████████████████████████████████████████▎                     | 401/550 [31:57<11:24,  4.59s/it]"
     ]
    },
    {
     "name": "stdout",
     "output_type": "stream",
     "text": [
      "(1, 23, 128, 128, 1)\n",
      "C:\\Users\\gural\\Desktop\\animals\\alligator\\HorizontalFlipVID_20190327_184404translate.mp4\n",
      "\n"
     ]
    },
    {
     "name": "stderr",
     "output_type": "stream",
     "text": [
      "\r",
      " 73%|██████████████████████████████████████████████████████████▍                     | 402/550 [32:02<11:19,  4.59s/it]"
     ]
    },
    {
     "name": "stdout",
     "output_type": "stream",
     "text": [
      "(1, 23, 128, 128, 1)\n",
      "C:\\Users\\gural\\Desktop\\animals\\mouse\\HorizontalFlipVID_20190327_172833Rotate40.mp4\n",
      "\n"
     ]
    },
    {
     "name": "stderr",
     "output_type": "stream",
     "text": [
      "\r",
      " 73%|██████████████████████████████████████████████████████████▌                     | 403/550 [32:09<13:14,  5.41s/it]"
     ]
    },
    {
     "name": "stdout",
     "output_type": "stream",
     "text": [
      "(1, 23, 128, 128, 1)\n",
      "C:\\Users\\gural\\Desktop\\animals\\alligator\\VID_20190327_184339.mp4\n",
      "\n"
     ]
    },
    {
     "name": "stderr",
     "output_type": "stream",
     "text": [
      "\r",
      " 73%|██████████████████████████████████████████████████████████▊                     | 404/550 [32:14<13:11,  5.42s/it]"
     ]
    },
    {
     "name": "stdout",
     "output_type": "stream",
     "text": [
      "(1, 23, 128, 128, 1)\n",
      "C:\\Users\\gural\\Desktop\\animals\\tiger\\VID_20190327_185601.mp4\n",
      "\n"
     ]
    },
    {
     "name": "stderr",
     "output_type": "stream",
     "text": [
      "\r",
      " 74%|██████████████████████████████████████████████████████████▉                     | 405/550 [32:19<12:34,  5.21s/it]"
     ]
    },
    {
     "name": "stdout",
     "output_type": "stream",
     "text": [
      "(1, 23, 128, 128, 1)\n",
      "C:\\Users\\gural\\Desktop\\animals\\alligator\\VID_20190327_184502.mp4\n",
      "\n"
     ]
    },
    {
     "name": "stderr",
     "output_type": "stream",
     "text": [
      "\r",
      " 74%|███████████████████████████████████████████████████████████                     | 406/550 [32:25<12:56,  5.39s/it]"
     ]
    },
    {
     "name": "stdout",
     "output_type": "stream",
     "text": [
      "(1, 23, 128, 128, 1)\n",
      "C:\\Users\\gural\\Desktop\\animals\\alligator\\HorizontalFlipVID_20190327_184320Rotate40.mp4\n",
      "\n"
     ]
    },
    {
     "name": "stderr",
     "output_type": "stream",
     "text": [
      "\r",
      " 74%|███████████████████████████████████████████████████████████▏                    | 407/550 [32:31<12:57,  5.44s/it]"
     ]
    },
    {
     "name": "stdout",
     "output_type": "stream",
     "text": [
      "(1, 23, 128, 128, 1)\n",
      "C:\\Users\\gural\\Desktop\\animals\\mouse\\HorizontalFlipVID_20190327_185144.mp4\n",
      "\n"
     ]
    },
    {
     "name": "stderr",
     "output_type": "stream",
     "text": [
      "\r",
      " 74%|███████████████████████████████████████████████████████████▎                    | 408/550 [32:35<12:26,  5.26s/it]"
     ]
    },
    {
     "name": "stdout",
     "output_type": "stream",
     "text": [
      "(1, 23, 128, 128, 1)\n",
      "C:\\Users\\gural\\Desktop\\animals\\alligator\\VID_20190515_183710Crop.mp4\n",
      "\n"
     ]
    },
    {
     "name": "stderr",
     "output_type": "stream",
     "text": [
      "\r",
      " 74%|███████████████████████████████████████████████████████████▍                    | 409/550 [32:38<10:43,  4.56s/it]"
     ]
    },
    {
     "name": "stdout",
     "output_type": "stream",
     "text": [
      "(1, 23, 128, 128, 1)\n",
      "C:\\Users\\gural\\Desktop\\animals\\mouse\\HorizontalFlipVID_20190327_185343translate.mp4\n",
      "\n"
     ]
    },
    {
     "name": "stderr",
     "output_type": "stream",
     "text": [
      "\r",
      " 75%|███████████████████████████████████████████████████████████▋                    | 410/550 [32:43<11:01,  4.72s/it]"
     ]
    },
    {
     "name": "stdout",
     "output_type": "stream",
     "text": [
      "(1, 23, 128, 128, 1)\n",
      "C:\\Users\\gural\\Desktop\\animals\\tiger\\VID_20190327_173032Rotate40.mp4\n",
      "\n"
     ]
    },
    {
     "name": "stderr",
     "output_type": "stream",
     "text": [
      "\r",
      " 75%|███████████████████████████████████████████████████████████▊                    | 411/550 [32:52<13:26,  5.80s/it]"
     ]
    },
    {
     "name": "stdout",
     "output_type": "stream",
     "text": [
      "(1, 23, 128, 128, 1)\n",
      "C:\\Users\\gural\\Desktop\\animals\\bull\\HorizontalFlipVID_20190327_172536Rotate40.mp4\n",
      "\n"
     ]
    },
    {
     "name": "stderr",
     "output_type": "stream",
     "text": [
      "\r",
      " 75%|███████████████████████████████████████████████████████████▉                    | 412/550 [33:00<15:01,  6.53s/it]"
     ]
    },
    {
     "name": "stdout",
     "output_type": "stream",
     "text": [
      "(1, 23, 128, 128, 1)\n",
      "C:\\Users\\gural\\Desktop\\animals\\alligator\\HorizontalFlipVID_20190327_184339Crop.mp4\n",
      "\n"
     ]
    },
    {
     "name": "stderr",
     "output_type": "stream",
     "text": [
      "\r",
      " 75%|████████████████████████████████████████████████████████████                    | 413/550 [33:03<12:25,  5.44s/it]"
     ]
    },
    {
     "name": "stdout",
     "output_type": "stream",
     "text": [
      "(1, 23, 128, 128, 1)\n",
      "C:\\Users\\gural\\Desktop\\animals\\tiger\\HorizontalFlipVID_20190327_185523Crop.mp4\n",
      "\n"
     ]
    },
    {
     "name": "stderr",
     "output_type": "stream",
     "text": [
      "\r",
      " 75%|████████████████████████████████████████████████████████████▏                   | 414/550 [33:05<10:16,  4.53s/it]"
     ]
    },
    {
     "name": "stdout",
     "output_type": "stream",
     "text": [
      "(1, 23, 128, 128, 1)\n",
      "C:\\Users\\gural\\Desktop\\animals\\alligator\\HorizontalFlipVID_20190327_184502Rotate.mp4\n",
      "\n"
     ]
    },
    {
     "name": "stderr",
     "output_type": "stream",
     "text": [
      "\r",
      " 75%|████████████████████████████████████████████████████████████▎                   | 415/550 [33:11<10:44,  4.78s/it]"
     ]
    },
    {
     "name": "stdout",
     "output_type": "stream",
     "text": [
      "(1, 23, 128, 128, 1)\n",
      "C:\\Users\\gural\\Desktop\\animals\\tiger\\HorizontalFlipVID_20190327_185447Rotate40.mp4\n",
      "\n"
     ]
    },
    {
     "name": "stderr",
     "output_type": "stream",
     "text": [
      "\r",
      " 76%|████████████████████████████████████████████████████████████▌                   | 416/550 [33:15<10:22,  4.65s/it]"
     ]
    },
    {
     "name": "stdout",
     "output_type": "stream",
     "text": [
      "(1, 23, 128, 128, 1)\n",
      "C:\\Users\\gural\\Desktop\\animals\\mouse\\VID_20190327_185230translate.mp4\n",
      "\n"
     ]
    },
    {
     "name": "stderr",
     "output_type": "stream",
     "text": [
      "\r",
      " 76%|████████████████████████████████████████████████████████████▋                   | 417/550 [33:20<10:17,  4.64s/it]"
     ]
    },
    {
     "name": "stdout",
     "output_type": "stream",
     "text": [
      "(1, 23, 128, 128, 1)\n",
      "C:\\Users\\gural\\Desktop\\animals\\tiger\\VID_20190327_185513translate.mp4\n",
      "\n"
     ]
    },
    {
     "name": "stderr",
     "output_type": "stream",
     "text": [
      "\r",
      " 76%|████████████████████████████████████████████████████████████▊                   | 418/550 [33:24<10:10,  4.63s/it]"
     ]
    },
    {
     "name": "stdout",
     "output_type": "stream",
     "text": [
      "(1, 23, 128, 128, 1)\n",
      "C:\\Users\\gural\\Desktop\\animals\\bull\\HorizontalFlipVID_20190515_183937translate.mp4\n",
      "\n"
     ]
    },
    {
     "name": "stderr",
     "output_type": "stream",
     "text": [
      "\r",
      " 76%|████████████████████████████████████████████████████████████▉                   | 419/550 [33:32<12:24,  5.68s/it]"
     ]
    },
    {
     "name": "stdout",
     "output_type": "stream",
     "text": [
      "(1, 23, 128, 128, 1)\n",
      "C:\\Users\\gural\\Desktop\\animals\\alligator\\HorizontalFlipVID_20190327_184353translate.mp4\n",
      "\n"
     ]
    },
    {
     "name": "stderr",
     "output_type": "stream",
     "text": [
      "\r",
      " 76%|█████████████████████████████████████████████████████████████                   | 420/550 [33:36<11:20,  5.23s/it]"
     ]
    },
    {
     "name": "stdout",
     "output_type": "stream",
     "text": [
      "(1, 23, 128, 128, 1)\n",
      "C:\\Users\\gural\\Desktop\\animals\\tiger\\HorizontalFlipVID_20190327_185606.mp4\n",
      "\n"
     ]
    },
    {
     "name": "stderr",
     "output_type": "stream",
     "text": [
      "\r",
      " 77%|█████████████████████████████████████████████████████████████▏                  | 421/550 [33:41<10:49,  5.03s/it]"
     ]
    },
    {
     "name": "stdout",
     "output_type": "stream",
     "text": [
      "(1, 23, 128, 128, 1)\n",
      "C:\\Users\\gural\\Desktop\\animals\\tiger\\HorizontalFlipVID_20190327_185554Crop.mp4\n",
      "\n"
     ]
    },
    {
     "name": "stderr",
     "output_type": "stream",
     "text": [
      "\r",
      " 77%|█████████████████████████████████████████████████████████████▍                  | 422/550 [33:44<09:09,  4.29s/it]"
     ]
    },
    {
     "name": "stdout",
     "output_type": "stream",
     "text": [
      "(1, 23, 128, 128, 1)\n",
      "C:\\Users\\gural\\Desktop\\animals\\alligator\\VID_20190327_172127.mp4\n",
      "\n"
     ]
    },
    {
     "name": "stderr",
     "output_type": "stream",
     "text": [
      "\r",
      " 77%|█████████████████████████████████████████████████████████████▌                  | 423/550 [33:51<11:15,  5.32s/it]"
     ]
    },
    {
     "name": "stdout",
     "output_type": "stream",
     "text": [
      "(1, 23, 128, 128, 1)\n",
      "C:\\Users\\gural\\Desktop\\animals\\alligator\\VID_20190327_184457Crop.mp4\n",
      "\n"
     ]
    },
    {
     "name": "stderr",
     "output_type": "stream",
     "text": [
      "\r",
      " 77%|█████████████████████████████████████████████████████████████▋                  | 424/550 [33:54<09:17,  4.42s/it]"
     ]
    },
    {
     "name": "stdout",
     "output_type": "stream",
     "text": [
      "(1, 23, 128, 128, 1)\n",
      "C:\\Users\\gural\\Desktop\\animals\\alligator\\VID_20190327_184358Rotate40.mp4\n",
      "\n"
     ]
    },
    {
     "name": "stderr",
     "output_type": "stream",
     "text": [
      "\r",
      " 77%|█████████████████████████████████████████████████████████████▊                  | 425/550 [34:00<10:13,  4.91s/it]"
     ]
    },
    {
     "name": "stdout",
     "output_type": "stream",
     "text": [
      "(1, 23, 128, 128, 1)\n",
      "C:\\Users\\gural\\Desktop\\animals\\tiger\\VID_20190327_185523.mp4\n",
      "\n"
     ]
    },
    {
     "name": "stderr",
     "output_type": "stream",
     "text": [
      "\r",
      " 77%|█████████████████████████████████████████████████████████████▉                  | 426/550 [34:04<09:41,  4.69s/it]"
     ]
    },
    {
     "name": "stdout",
     "output_type": "stream",
     "text": [
      "(1, 23, 128, 128, 1)\n",
      "C:\\Users\\gural\\Desktop\\animals\\bull\\HorizontalFlipVID_20190327_184957Crop.mp4\n",
      "\n"
     ]
    },
    {
     "name": "stderr",
     "output_type": "stream",
     "text": [
      "\r",
      " 78%|██████████████████████████████████████████████████████████████                  | 427/550 [34:06<08:11,  3.99s/it]"
     ]
    },
    {
     "name": "stdout",
     "output_type": "stream",
     "text": [
      "(1, 23, 128, 128, 1)\n",
      "C:\\Users\\gural\\Desktop\\animals\\bull\\VID_20190327_184838.mp4\n",
      "\n"
     ]
    },
    {
     "name": "stderr",
     "output_type": "stream",
     "text": [
      "\r",
      " 78%|██████████████████████████████████████████████████████████████▎                 | 428/550 [34:11<08:16,  4.07s/it]"
     ]
    },
    {
     "name": "stdout",
     "output_type": "stream",
     "text": [
      "(1, 23, 128, 128, 1)\n",
      "C:\\Users\\gural\\Desktop\\animals\\mouse\\VID_20190327_172703Rotate40.mp4\n",
      "\n"
     ]
    },
    {
     "name": "stderr",
     "output_type": "stream",
     "text": [
      "\r",
      " 78%|██████████████████████████████████████████████████████████████▍                 | 429/550 [34:18<10:19,  5.12s/it]"
     ]
    },
    {
     "name": "stdout",
     "output_type": "stream",
     "text": [
      "(1, 23, 128, 128, 1)\n",
      "C:\\Users\\gural\\Desktop\\animals\\bull\\VID_20190515_183912translate.mp4\n",
      "\n"
     ]
    },
    {
     "name": "stderr",
     "output_type": "stream",
     "text": [
      "\r",
      " 78%|██████████████████████████████████████████████████████████████▌                 | 430/550 [34:24<10:48,  5.40s/it]"
     ]
    },
    {
     "name": "stdout",
     "output_type": "stream",
     "text": [
      "(1, 23, 128, 128, 1)\n",
      "C:\\Users\\gural\\Desktop\\animals\\tiger\\VID_20190327_173032Rotate.mp4\n",
      "\n"
     ]
    },
    {
     "name": "stderr",
     "output_type": "stream",
     "text": [
      "\r",
      " 78%|██████████████████████████████████████████████████████████████▋                 | 431/550 [34:32<12:16,  6.19s/it]"
     ]
    },
    {
     "name": "stdout",
     "output_type": "stream",
     "text": [
      "(1, 23, 128, 128, 1)\n",
      "C:\\Users\\gural\\Desktop\\animals\\alligator\\HorizontalFlipVID_20190327_184457Crop.mp4\n",
      "\n"
     ]
    },
    {
     "name": "stderr",
     "output_type": "stream",
     "text": [
      "\r",
      " 79%|██████████████████████████████████████████████████████████████▊                 | 432/550 [34:35<09:59,  5.08s/it]"
     ]
    },
    {
     "name": "stdout",
     "output_type": "stream",
     "text": [
      "(1, 23, 128, 128, 1)\n",
      "C:\\Users\\gural\\Desktop\\animals\\bull\\HorizontalFlipVID_20190515_183912.mp4\n",
      "\n"
     ]
    },
    {
     "name": "stderr",
     "output_type": "stream",
     "text": [
      "\r",
      " 79%|██████████████████████████████████████████████████████████████▉                 | 433/550 [34:41<10:28,  5.37s/it]"
     ]
    },
    {
     "name": "stdout",
     "output_type": "stream",
     "text": [
      "(1, 23, 128, 128, 1)\n",
      "C:\\Users\\gural\\Desktop\\animals\\bull\\VID_20190529_193333.mp4\n",
      "\n"
     ]
    },
    {
     "name": "stderr",
     "output_type": "stream",
     "text": [
      "\r",
      " 79%|███████████████████████████████████████████████████████████████▏                | 434/550 [34:46<10:33,  5.46s/it]"
     ]
    },
    {
     "name": "stdout",
     "output_type": "stream",
     "text": [
      "(1, 23, 128, 128, 1)\n",
      "C:\\Users\\gural\\Desktop\\animals\\mouse\\HorizontalFlipVID_20190515_184018translate.mp4\n",
      "\n"
     ]
    },
    {
     "name": "stderr",
     "output_type": "stream",
     "text": [
      "\r",
      " 79%|███████████████████████████████████████████████████████████████▎                | 435/550 [34:52<10:50,  5.65s/it]"
     ]
    },
    {
     "name": "stdout",
     "output_type": "stream",
     "text": [
      "(1, 23, 128, 128, 1)\n",
      "C:\\Users\\gural\\Desktop\\animals\\tiger\\HorizontalFlipVID_20190515_183740translate.mp4\n",
      "\n"
     ]
    },
    {
     "name": "stderr",
     "output_type": "stream",
     "text": [
      "\r",
      " 79%|███████████████████████████████████████████████████████████████▍                | 436/550 [34:57<09:59,  5.26s/it]"
     ]
    },
    {
     "name": "stdout",
     "output_type": "stream",
     "text": [
      "(1, 23, 128, 128, 1)\n",
      "C:\\Users\\gural\\Desktop\\animals\\alligator\\VID_20190529_193301.mp4\n",
      "\n"
     ]
    },
    {
     "name": "stderr",
     "output_type": "stream",
     "text": [
      "\r",
      " 79%|███████████████████████████████████████████████████████████████▌                | 437/550 [35:04<10:46,  5.72s/it]"
     ]
    },
    {
     "name": "stdout",
     "output_type": "stream",
     "text": [
      "(1, 23, 128, 128, 1)\n",
      "C:\\Users\\gural\\Desktop\\animals\\tiger\\VID_20190327_185508Crop.mp4\n",
      "\n"
     ]
    },
    {
     "name": "stderr",
     "output_type": "stream",
     "text": [
      "\r",
      " 80%|███████████████████████████████████████████████████████████████▋                | 438/550 [35:07<09:23,  5.03s/it]"
     ]
    },
    {
     "name": "stdout",
     "output_type": "stream",
     "text": [
      "(1, 23, 128, 128, 1)\n",
      "C:\\Users\\gural\\Desktop\\animals\\tiger\\VID_20190515_183740Rotate40.mp4\n",
      "\n"
     ]
    },
    {
     "name": "stderr",
     "output_type": "stream",
     "text": [
      "\r",
      " 80%|███████████████████████████████████████████████████████████████▊                | 439/550 [35:11<08:55,  4.83s/it]"
     ]
    },
    {
     "name": "stdout",
     "output_type": "stream",
     "text": [
      "(1, 23, 128, 128, 1)\n",
      "C:\\Users\\gural\\Desktop\\animals\\tiger\\VID_20190327_173032.mp4\n",
      "\n"
     ]
    },
    {
     "name": "stderr",
     "output_type": "stream",
     "text": [
      "\r",
      " 80%|████████████████████████████████████████████████████████████████                | 440/550 [35:19<10:35,  5.78s/it]"
     ]
    },
    {
     "name": "stdout",
     "output_type": "stream",
     "text": [
      "(1, 23, 128, 128, 1)\n",
      "C:\\Users\\gural\\Desktop\\animals\\bull\\HorizontalFlipVID_20190327_172627translate.mp4\n",
      "\n"
     ]
    },
    {
     "name": "stderr",
     "output_type": "stream",
     "text": [
      "\r",
      " 80%|████████████████████████████████████████████████████████████████▏               | 441/550 [35:26<11:09,  6.14s/it]"
     ]
    },
    {
     "name": "stdout",
     "output_type": "stream",
     "text": [
      "(1, 23, 128, 128, 1)\n",
      "C:\\Users\\gural\\Desktop\\animals\\mouse\\VID_20190515_184018Rotate.mp4\n",
      "\n"
     ]
    },
    {
     "name": "stderr",
     "output_type": "stream",
     "text": [
      "\r",
      " 80%|████████████████████████████████████████████████████████████████▎               | 442/550 [35:33<11:08,  6.19s/it]"
     ]
    },
    {
     "name": "stdout",
     "output_type": "stream",
     "text": [
      "(1, 23, 128, 128, 1)\n",
      "C:\\Users\\gural\\Desktop\\animals\\tiger\\HorizontalFlipVID_20190327_185606translate.mp4\n",
      "\n"
     ]
    },
    {
     "name": "stderr",
     "output_type": "stream",
     "text": [
      "\r",
      " 81%|████████████████████████████████████████████████████████████████▍               | 443/550 [35:37<10:13,  5.74s/it]"
     ]
    },
    {
     "name": "stdout",
     "output_type": "stream",
     "text": [
      "(1, 23, 128, 128, 1)\n",
      "C:\\Users\\gural\\Desktop\\animals\\alligator\\VID_20190327_184305Rotate.mp4\n",
      "\n"
     ]
    },
    {
     "name": "stderr",
     "output_type": "stream",
     "text": [
      "\r",
      " 81%|████████████████████████████████████████████████████████████████▌               | 444/550 [35:43<09:55,  5.62s/it]"
     ]
    },
    {
     "name": "stdout",
     "output_type": "stream",
     "text": [
      "(1, 23, 128, 128, 1)\n",
      "C:\\Users\\gural\\Desktop\\animals\\tiger\\VID_20190327_185508translate.mp4\n",
      "\n"
     ]
    },
    {
     "name": "stderr",
     "output_type": "stream",
     "text": [
      "\r",
      " 81%|████████████████████████████████████████████████████████████████▋               | 445/550 [35:49<09:58,  5.70s/it]"
     ]
    },
    {
     "name": "stdout",
     "output_type": "stream",
     "text": [
      "(1, 23, 128, 128, 1)\n",
      "C:\\Users\\gural\\Desktop\\animals\\mouse\\HorizontalFlipVID_20190327_172703Rotate40.mp4\n",
      "\n"
     ]
    },
    {
     "name": "stderr",
     "output_type": "stream",
     "text": [
      "\r",
      " 81%|████████████████████████████████████████████████████████████████▊               | 446/550 [35:56<10:49,  6.24s/it]"
     ]
    },
    {
     "name": "stdout",
     "output_type": "stream",
     "text": [
      "(1, 23, 128, 128, 1)\n",
      "C:\\Users\\gural\\Desktop\\animals\\alligator\\HorizontalFlipVID_20190515_183658Rotate.mp4\n",
      "\n"
     ]
    },
    {
     "name": "stderr",
     "output_type": "stream",
     "text": [
      "\r",
      " 81%|█████████████████████████████████████████████████████████████████               | 447/550 [35:59<08:46,  5.12s/it]"
     ]
    },
    {
     "name": "stdout",
     "output_type": "stream",
     "text": [
      "(1, 23, 128, 128, 1)\n",
      "C:\\Users\\gural\\Desktop\\animals\\mouse\\HorizontalFlipVID_20190327_185157Rotate40.mp4\n",
      "\n"
     ]
    },
    {
     "name": "stderr",
     "output_type": "stream",
     "text": [
      "\r",
      " 81%|█████████████████████████████████████████████████████████████████▏              | 448/550 [36:03<08:24,  4.94s/it]"
     ]
    },
    {
     "name": "stdout",
     "output_type": "stream",
     "text": [
      "(1, 23, 128, 128, 1)\n",
      "C:\\Users\\gural\\Desktop\\animals\\bull\\VID_20190327_172316.mp4\n",
      "\n"
     ]
    },
    {
     "name": "stderr",
     "output_type": "stream",
     "text": [
      "\r",
      " 82%|█████████████████████████████████████████████████████████████████▎              | 449/550 [36:07<07:50,  4.66s/it]"
     ]
    },
    {
     "name": "stdout",
     "output_type": "stream",
     "text": [
      "(1, 23, 128, 128, 1)\n",
      "C:\\Users\\gural\\Desktop\\animals\\tiger\\HorizontalFlipVID_20190327_185513Crop.mp4\n",
      "\n"
     ]
    },
    {
     "name": "stderr",
     "output_type": "stream",
     "text": [
      "\r",
      " 82%|█████████████████████████████████████████████████████████████████▍              | 450/550 [36:10<06:46,  4.06s/it]"
     ]
    },
    {
     "name": "stdout",
     "output_type": "stream",
     "text": [
      "(1, 23, 128, 128, 1)\n",
      "C:\\Users\\gural\\Desktop\\animals\\tiger\\VID_20190327_185518Rotate.mp4\n",
      "\n"
     ]
    },
    {
     "name": "stderr",
     "output_type": "stream",
     "text": [
      "\r",
      " 82%|█████████████████████████████████████████████████████████████████▌              | 451/550 [36:14<06:51,  4.16s/it]"
     ]
    },
    {
     "name": "stdout",
     "output_type": "stream",
     "text": [
      "(1, 23, 128, 128, 1)\n",
      "C:\\Users\\gural\\Desktop\\animals\\mouse\\VID_20190327_185223Rotate40.mp4\n",
      "\n"
     ]
    },
    {
     "name": "stderr",
     "output_type": "stream",
     "text": [
      "\r",
      " 82%|█████████████████████████████████████████████████████████████████▋              | 452/550 [36:19<06:54,  4.22s/it]"
     ]
    },
    {
     "name": "stdout",
     "output_type": "stream",
     "text": [
      "(1, 23, 128, 128, 1)\n",
      "C:\\Users\\gural\\Desktop\\animals\\alligator\\VID_20190327_184320Rotate.mp4\n",
      "\n"
     ]
    },
    {
     "name": "stderr",
     "output_type": "stream",
     "text": [
      "\r",
      " 82%|█████████████████████████████████████████████████████████████████▉              | 453/550 [36:24<07:22,  4.56s/it]"
     ]
    },
    {
     "name": "stdout",
     "output_type": "stream",
     "text": [
      "(1, 23, 128, 128, 1)\n",
      "C:\\Users\\gural\\Desktop\\animals\\alligator\\HorizontalFlipVID_20190327_172003Rotate.mp4\n",
      "\n"
     ]
    },
    {
     "name": "stderr",
     "output_type": "stream",
     "text": [
      "\r",
      " 83%|██████████████████████████████████████████████████████████████████              | 454/550 [36:28<07:04,  4.42s/it]"
     ]
    },
    {
     "name": "stdout",
     "output_type": "stream",
     "text": [
      "(1, 23, 128, 128, 1)\n",
      "C:\\Users\\gural\\Desktop\\animals\\tiger\\VID_20190515_183755translate.mp4\n",
      "\n"
     ]
    },
    {
     "name": "stderr",
     "output_type": "stream",
     "text": [
      "\r",
      " 83%|██████████████████████████████████████████████████████████████████▏             | 455/550 [36:32<06:39,  4.20s/it]"
     ]
    },
    {
     "name": "stdout",
     "output_type": "stream",
     "text": [
      "(1, 23, 128, 128, 1)\n",
      "C:\\Users\\gural\\Desktop\\animals\\mouse\\VID_20190327_185223translate.mp4\n",
      "\n"
     ]
    },
    {
     "name": "stderr",
     "output_type": "stream",
     "text": [
      "\r",
      " 83%|██████████████████████████████████████████████████████████████████▎             | 456/550 [36:36<06:39,  4.25s/it]"
     ]
    },
    {
     "name": "stdout",
     "output_type": "stream",
     "text": [
      "(1, 23, 128, 128, 1)\n",
      "C:\\Users\\gural\\Desktop\\animals\\bull\\HorizontalFlipVID_20190327_172316translate.mp4\n",
      "\n"
     ]
    },
    {
     "name": "stderr",
     "output_type": "stream",
     "text": [
      "\r",
      " 83%|██████████████████████████████████████████████████████████████████▍             | 457/550 [36:40<06:25,  4.14s/it]"
     ]
    },
    {
     "name": "stdout",
     "output_type": "stream",
     "text": [
      "(1, 23, 128, 128, 1)\n",
      "C:\\Users\\gural\\Desktop\\animals\\tiger\\HorizontalFlipVID_20190327_185440.mp4\n",
      "\n"
     ]
    },
    {
     "name": "stderr",
     "output_type": "stream",
     "text": [
      "\r",
      " 83%|██████████████████████████████████████████████████████████████████▌             | 458/550 [36:45<06:58,  4.55s/it]"
     ]
    },
    {
     "name": "stdout",
     "output_type": "stream",
     "text": [
      "(1, 23, 128, 128, 1)\n",
      "C:\\Users\\gural\\Desktop\\animals\\alligator\\HorizontalFlipVID_20190327_172127.mp4\n",
      "\n"
     ]
    },
    {
     "name": "stderr",
     "output_type": "stream",
     "text": [
      "\r",
      " 83%|██████████████████████████████████████████████████████████████████▊             | 459/550 [36:53<08:11,  5.40s/it]"
     ]
    },
    {
     "name": "stdout",
     "output_type": "stream",
     "text": [
      "(1, 23, 128, 128, 1)\n",
      "C:\\Users\\gural\\Desktop\\animals\\bull\\HorizontalFlipVID_20190515_183943translate.mp4\n",
      "\n"
     ]
    },
    {
     "name": "stderr",
     "output_type": "stream",
     "text": [
      "\r",
      " 84%|██████████████████████████████████████████████████████████████████▉             | 460/550 [36:59<08:38,  5.76s/it]"
     ]
    },
    {
     "name": "stdout",
     "output_type": "stream",
     "text": [
      "(1, 23, 128, 128, 1)\n",
      "C:\\Users\\gural\\Desktop\\animals\\bull\\HorizontalFlipVID_20190327_185003Rotate.mp4\n",
      "\n"
     ]
    },
    {
     "name": "stderr",
     "output_type": "stream",
     "text": [
      "\r",
      " 84%|███████████████████████████████████████████████████████████████████             | 461/550 [37:04<08:02,  5.43s/it]"
     ]
    },
    {
     "name": "stdout",
     "output_type": "stream",
     "text": [
      "(1, 23, 128, 128, 1)\n",
      "C:\\Users\\gural\\Desktop\\animals\\bull\\VID_20190327_184935Rotate.mp4\n",
      "\n"
     ]
    },
    {
     "name": "stderr",
     "output_type": "stream",
     "text": [
      "\r",
      " 84%|███████████████████████████████████████████████████████████████████▏            | 462/550 [37:08<07:12,  4.91s/it]"
     ]
    },
    {
     "name": "stdout",
     "output_type": "stream",
     "text": [
      "(1, 23, 128, 128, 1)\n",
      "C:\\Users\\gural\\Desktop\\animals\\tiger\\HorizontalFlipVID_20190327_185513.mp4\n",
      "\n"
     ]
    },
    {
     "name": "stderr",
     "output_type": "stream",
     "text": [
      "\r",
      " 84%|███████████████████████████████████████████████████████████████████▎            | 463/550 [37:12<06:58,  4.82s/it]"
     ]
    },
    {
     "name": "stdout",
     "output_type": "stream",
     "text": [
      "(1, 23, 128, 128, 1)\n",
      "C:\\Users\\gural\\Desktop\\animals\\tiger\\VID_20190327_173008.mp4\n",
      "\n"
     ]
    },
    {
     "name": "stderr",
     "output_type": "stream",
     "text": [
      "\r",
      " 84%|███████████████████████████████████████████████████████████████████▍            | 464/550 [37:18<07:17,  5.09s/it]"
     ]
    },
    {
     "name": "stdout",
     "output_type": "stream",
     "text": [
      "(1, 23, 128, 128, 1)\n",
      "C:\\Users\\gural\\Desktop\\animals\\mouse\\VID_20190327_185337Crop.mp4\n",
      "\n"
     ]
    },
    {
     "name": "stderr",
     "output_type": "stream",
     "text": [
      "\r",
      " 85%|███████████████████████████████████████████████████████████████████▋            | 465/550 [37:20<06:02,  4.26s/it]"
     ]
    },
    {
     "name": "stdout",
     "output_type": "stream",
     "text": [
      "(1, 23, 128, 128, 1)\n",
      "C:\\Users\\gural\\Desktop\\animals\\bull\\VID_20190515_183943Rotate40.mp4\n",
      "\n"
     ]
    },
    {
     "name": "stderr",
     "output_type": "stream",
     "text": [
      "\r",
      " 85%|███████████████████████████████████████████████████████████████████▊            | 466/550 [37:27<06:59,  4.99s/it]"
     ]
    },
    {
     "name": "stdout",
     "output_type": "stream",
     "text": [
      "(1, 23, 128, 128, 1)\n",
      "C:\\Users\\gural\\Desktop\\animals\\mouse\\VID_20190515_184023Rotate.mp4\n",
      "\n"
     ]
    },
    {
     "name": "stderr",
     "output_type": "stream",
     "text": [
      "\r",
      " 85%|███████████████████████████████████████████████████████████████████▉            | 467/550 [37:33<07:06,  5.14s/it]"
     ]
    },
    {
     "name": "stdout",
     "output_type": "stream",
     "text": [
      "(1, 23, 128, 128, 1)\n",
      "C:\\Users\\gural\\Desktop\\animals\\alligator\\HorizontalFlipVID_20190327_184457translate.mp4\n",
      "\n"
     ]
    },
    {
     "name": "stderr",
     "output_type": "stream",
     "text": [
      "\r",
      " 85%|████████████████████████████████████████████████████████████████████            | 468/550 [37:37<06:33,  4.79s/it]"
     ]
    },
    {
     "name": "stdout",
     "output_type": "stream",
     "text": [
      "(1, 23, 128, 128, 1)\n",
      "C:\\Users\\gural\\Desktop\\animals\\tiger\\HorizontalFlipVID_20190327_185523Rotate40.mp4\n",
      "\n"
     ]
    },
    {
     "name": "stderr",
     "output_type": "stream",
     "text": [
      "\r",
      " 85%|████████████████████████████████████████████████████████████████████▏           | 469/550 [37:41<06:12,  4.59s/it]"
     ]
    },
    {
     "name": "stdout",
     "output_type": "stream",
     "text": [
      "(1, 23, 128, 128, 1)\n",
      "C:\\Users\\gural\\Desktop\\animals\\alligator\\HorizontalFlipVID_20190327_184353Crop.mp4\n",
      "\n"
     ]
    },
    {
     "name": "stderr",
     "output_type": "stream",
     "text": [
      "\r",
      " 85%|████████████████████████████████████████████████████████████████████▎           | 470/550 [37:43<05:15,  3.95s/it]"
     ]
    },
    {
     "name": "stdout",
     "output_type": "stream",
     "text": [
      "(1, 23, 128, 128, 1)\n",
      "C:\\Users\\gural\\Desktop\\animals\\bull\\HorizontalFlipVID_20190327_184820Rotate.mp4\n",
      "\n"
     ]
    },
    {
     "name": "stderr",
     "output_type": "stream",
     "text": [
      "\r",
      " 86%|████████████████████████████████████████████████████████████████████▌           | 471/550 [37:47<05:17,  4.01s/it]"
     ]
    },
    {
     "name": "stdout",
     "output_type": "stream",
     "text": [
      "(1, 23, 128, 128, 1)\n",
      "C:\\Users\\gural\\Desktop\\animals\\tiger\\VID_20190327_185518Rotate40.mp4\n",
      "\n"
     ]
    },
    {
     "name": "stderr",
     "output_type": "stream",
     "text": [
      "\r",
      " 86%|████████████████████████████████████████████████████████████████████▋           | 472/550 [37:52<05:24,  4.16s/it]"
     ]
    },
    {
     "name": "stdout",
     "output_type": "stream",
     "text": [
      "(1, 23, 128, 128, 1)\n",
      "C:\\Users\\gural\\Desktop\\animals\\tiger\\HorizontalFlipVID_20190327_185508Rotate40.mp4\n",
      "\n"
     ]
    },
    {
     "name": "stderr",
     "output_type": "stream",
     "text": [
      "\r",
      " 86%|████████████████████████████████████████████████████████████████████▊           | 473/550 [37:58<06:05,  4.75s/it]"
     ]
    },
    {
     "name": "stdout",
     "output_type": "stream",
     "text": [
      "(1, 23, 128, 128, 1)\n",
      "C:\\Users\\gural\\Desktop\\animals\\alligator\\HorizontalFlipVID_20190515_183710Rotate40.mp4\n",
      "\n"
     ]
    },
    {
     "name": "stderr",
     "output_type": "stream",
     "text": [
      "\r",
      " 86%|████████████████████████████████████████████████████████████████████▉           | 474/550 [38:03<06:04,  4.80s/it]"
     ]
    },
    {
     "name": "stdout",
     "output_type": "stream",
     "text": [
      "(1, 23, 128, 128, 1)\n",
      "C:\\Users\\gural\\Desktop\\animals\\tiger\\HorizontalFlipVID_20190327_173008translate.mp4\n",
      "\n"
     ]
    },
    {
     "name": "stderr",
     "output_type": "stream",
     "text": [
      "\r",
      " 86%|█████████████████████████████████████████████████████████████████████           | 475/550 [38:08<06:17,  5.04s/it]"
     ]
    },
    {
     "name": "stdout",
     "output_type": "stream",
     "text": [
      "(1, 23, 128, 128, 1)\n",
      "C:\\Users\\gural\\Desktop\\animals\\alligator\\VID_20190327_184502Rotate.mp4\n",
      "\n"
     ]
    },
    {
     "name": "stderr",
     "output_type": "stream",
     "text": [
      "\r",
      " 87%|█████████████████████████████████████████████████████████████████████▏          | 476/550 [38:14<06:21,  5.16s/it]"
     ]
    },
    {
     "name": "stdout",
     "output_type": "stream",
     "text": [
      "(1, 23, 128, 128, 1)\n",
      "C:\\Users\\gural\\Desktop\\animals\\alligator\\HorizontalFlipVID_20190327_184457Rotate.mp4\n",
      "\n"
     ]
    },
    {
     "name": "stderr",
     "output_type": "stream",
     "text": [
      "\r",
      " 87%|█████████████████████████████████████████████████████████████████████▍          | 477/550 [38:18<05:51,  4.81s/it]"
     ]
    },
    {
     "name": "stdout",
     "output_type": "stream",
     "text": [
      "(1, 23, 128, 128, 1)\n",
      "C:\\Users\\gural\\Desktop\\animals\\bull\\HorizontalFlipVID_20190327_184838.mp4\n",
      "\n"
     ]
    },
    {
     "name": "stderr",
     "output_type": "stream",
     "text": [
      "\r",
      " 87%|█████████████████████████████████████████████████████████████████████▌          | 478/550 [38:22<05:32,  4.62s/it]"
     ]
    },
    {
     "name": "stdout",
     "output_type": "stream",
     "text": [
      "(1, 23, 128, 128, 1)\n",
      "C:\\Users\\gural\\Desktop\\animals\\tiger\\VID_20190515_183731Crop.mp4\n",
      "\n"
     ]
    },
    {
     "name": "stderr",
     "output_type": "stream",
     "text": [
      "\r",
      " 87%|█████████████████████████████████████████████████████████████████████▋          | 479/550 [38:25<04:46,  4.03s/it]"
     ]
    },
    {
     "name": "stdout",
     "output_type": "stream",
     "text": [
      "(1, 23, 128, 128, 1)\n",
      "C:\\Users\\gural\\Desktop\\animals\\bull\\HorizontalFlipVID_20190327_184844.mp4\n",
      "\n"
     ]
    },
    {
     "name": "stderr",
     "output_type": "stream",
     "text": [
      "\r",
      " 87%|█████████████████████████████████████████████████████████████████████▊          | 480/550 [38:29<04:55,  4.22s/it]"
     ]
    },
    {
     "name": "stdout",
     "output_type": "stream",
     "text": [
      "(1, 23, 128, 128, 1)\n",
      "C:\\Users\\gural\\Desktop\\animals\\tiger\\HorizontalFlipVID_20190327_185447.mp4\n",
      "\n"
     ]
    },
    {
     "name": "stderr",
     "output_type": "stream",
     "text": [
      "\r",
      " 87%|█████████████████████████████████████████████████████████████████████▉          | 481/550 [38:34<04:52,  4.24s/it]"
     ]
    },
    {
     "name": "stdout",
     "output_type": "stream",
     "text": [
      "(1, 23, 128, 128, 1)\n",
      "C:\\Users\\gural\\Desktop\\animals\\bull\\VID_20190327_172501Rotate40.mp4\n",
      "\n"
     ]
    },
    {
     "name": "stderr",
     "output_type": "stream",
     "text": [
      "\r",
      " 88%|██████████████████████████████████████████████████████████████████████          | 482/550 [38:37<04:38,  4.10s/it]"
     ]
    },
    {
     "name": "stdout",
     "output_type": "stream",
     "text": [
      "(1, 23, 128, 128, 1)\n",
      "C:\\Users\\gural\\Desktop\\animals\\bull\\VID_20190515_183937translate.mp4\n",
      "\n"
     ]
    },
    {
     "name": "stderr",
     "output_type": "stream",
     "text": [
      "\r",
      " 88%|██████████████████████████████████████████████████████████████████████▎         | 483/550 [38:45<05:49,  5.21s/it]"
     ]
    },
    {
     "name": "stdout",
     "output_type": "stream",
     "text": [
      "(1, 23, 128, 128, 1)\n",
      "C:\\Users\\gural\\Desktop\\animals\\bull\\VID_20190327_184854Crop.mp4\n",
      "\n"
     ]
    },
    {
     "name": "stderr",
     "output_type": "stream",
     "text": [
      "\r",
      " 88%|██████████████████████████████████████████████████████████████████████▍         | 484/550 [38:47<04:38,  4.22s/it]"
     ]
    },
    {
     "name": "stdout",
     "output_type": "stream",
     "text": [
      "(1, 23, 128, 128, 1)\n",
      "C:\\Users\\gural\\Desktop\\animals\\mouse\\HorizontalFlipVID_20190515_184023Crop.mp4\n",
      "\n"
     ]
    },
    {
     "name": "stderr",
     "output_type": "stream",
     "text": [
      "\r",
      " 88%|██████████████████████████████████████████████████████████████████████▌         | 485/550 [38:50<04:13,  3.90s/it]"
     ]
    },
    {
     "name": "stdout",
     "output_type": "stream",
     "text": [
      "(1, 23, 128, 128, 1)\n",
      "C:\\Users\\gural\\Desktop\\animals\\mouse\\HorizontalFlipVID_20190327_185248.mp4\n",
      "\n"
     ]
    },
    {
     "name": "stderr",
     "output_type": "stream",
     "text": [
      "\r",
      " 88%|██████████████████████████████████████████████████████████████████████▋         | 486/550 [38:54<04:09,  3.90s/it]"
     ]
    },
    {
     "name": "stdout",
     "output_type": "stream",
     "text": [
      "(1, 23, 128, 128, 1)\n",
      "C:\\Users\\gural\\Desktop\\animals\\mouse\\VID_20190327_185230Rotate.mp4\n",
      "\n"
     ]
    },
    {
     "name": "stderr",
     "output_type": "stream",
     "text": [
      "\r",
      " 89%|██████████████████████████████████████████████████████████████████████▊         | 487/550 [38:59<04:20,  4.14s/it]"
     ]
    },
    {
     "name": "stdout",
     "output_type": "stream",
     "text": [
      "(1, 23, 128, 128, 1)\n",
      "C:\\Users\\gural\\Desktop\\animals\\alligator\\VID_20190327_184353translate.mp4\n",
      "\n"
     ]
    },
    {
     "name": "stderr",
     "output_type": "stream",
     "text": [
      "\r",
      " 89%|██████████████████████████████████████████████████████████████████████▉         | 488/550 [39:03<04:20,  4.20s/it]"
     ]
    },
    {
     "name": "stdout",
     "output_type": "stream",
     "text": [
      "(1, 23, 128, 128, 1)\n",
      "C:\\Users\\gural\\Desktop\\animals\\alligator\\HorizontalFlipVID_20190327_184510Crop.mp4\n",
      "\n"
     ]
    },
    {
     "name": "stderr",
     "output_type": "stream",
     "text": [
      "\r",
      " 89%|███████████████████████████████████████████████████████████████████████▏        | 489/550 [39:06<03:51,  3.80s/it]"
     ]
    },
    {
     "name": "stdout",
     "output_type": "stream",
     "text": [
      "(1, 23, 128, 128, 1)\n",
      "C:\\Users\\gural\\Desktop\\animals\\alligator\\HorizontalFlipVID_20190327_184452Rotate.mp4\n",
      "\n"
     ]
    },
    {
     "name": "stderr",
     "output_type": "stream",
     "text": [
      "\r",
      " 89%|███████████████████████████████████████████████████████████████████████▎        | 490/550 [39:11<04:03,  4.06s/it]"
     ]
    },
    {
     "name": "stdout",
     "output_type": "stream",
     "text": [
      "(1, 23, 128, 128, 1)\n",
      "C:\\Users\\gural\\Desktop\\animals\\mouse\\VID_20190529_193512.mp4\n",
      "\n"
     ]
    },
    {
     "name": "stderr",
     "output_type": "stream",
     "text": [
      "\r",
      " 89%|███████████████████████████████████████████████████████████████████████▍        | 491/550 [39:16<04:16,  4.34s/it]"
     ]
    },
    {
     "name": "stdout",
     "output_type": "stream",
     "text": [
      "(1, 23, 128, 128, 1)\n",
      "C:\\Users\\gural\\Desktop\\animals\\bull\\VID_20190327_184939Rotate.mp4\n",
      "\n"
     ]
    },
    {
     "name": "stderr",
     "output_type": "stream",
     "text": [
      "\r",
      " 89%|███████████████████████████████████████████████████████████████████████▌        | 492/550 [39:20<04:12,  4.35s/it]"
     ]
    },
    {
     "name": "stdout",
     "output_type": "stream",
     "text": [
      "(1, 23, 128, 128, 1)\n",
      "C:\\Users\\gural\\Desktop\\animals\\tiger\\HorizontalFlipVID_20190327_185440Rotate40.mp4\n",
      "\n"
     ]
    },
    {
     "name": "stderr",
     "output_type": "stream",
     "text": [
      "\r",
      " 90%|███████████████████████████████████████████████████████████████████████▋        | 493/550 [39:25<04:22,  4.61s/it]"
     ]
    },
    {
     "name": "stdout",
     "output_type": "stream",
     "text": [
      "(1, 23, 128, 128, 1)\n",
      "C:\\Users\\gural\\Desktop\\animals\\bull\\VID_20190327_172536Rotate.mp4\n",
      "\n"
     ]
    },
    {
     "name": "stderr",
     "output_type": "stream",
     "text": [
      "\r",
      " 90%|███████████████████████████████████████████████████████████████████████▊        | 494/550 [39:32<04:59,  5.35s/it]"
     ]
    },
    {
     "name": "stdout",
     "output_type": "stream",
     "text": [
      "(1, 23, 128, 128, 1)\n",
      "C:\\Users\\gural\\Desktop\\animals\\bull\\HorizontalFlipVID_20190327_184838Rotate40.mp4\n",
      "\n"
     ]
    },
    {
     "name": "stderr",
     "output_type": "stream",
     "text": [
      "\r",
      " 90%|████████████████████████████████████████████████████████████████████████        | 495/550 [39:37<04:35,  5.00s/it]"
     ]
    },
    {
     "name": "stdout",
     "output_type": "stream",
     "text": [
      "(1, 23, 128, 128, 1)\n",
      "C:\\Users\\gural\\Desktop\\animals\\mouse\\VID_20190327_172914Rotate40.mp4\n",
      "\n"
     ]
    },
    {
     "name": "stderr",
     "output_type": "stream",
     "text": [
      "\r",
      " 90%|████████████████████████████████████████████████████████████████████████▏       | 496/550 [39:44<05:04,  5.65s/it]"
     ]
    },
    {
     "name": "stdout",
     "output_type": "stream",
     "text": [
      "(1, 23, 128, 128, 1)\n",
      "C:\\Users\\gural\\Desktop\\animals\\tiger\\VID_20190327_185513Rotate.mp4\n",
      "\n"
     ]
    },
    {
     "name": "stderr",
     "output_type": "stream",
     "text": [
      "\r",
      " 90%|████████████████████████████████████████████████████████████████████████▎       | 497/550 [39:48<04:41,  5.32s/it]"
     ]
    },
    {
     "name": "stdout",
     "output_type": "stream",
     "text": [
      "(1, 23, 128, 128, 1)\n",
      "C:\\Users\\gural\\Desktop\\animals\\bull\\HorizontalFlipVID_20190327_184854.mp4\n",
      "\n"
     ]
    },
    {
     "name": "stderr",
     "output_type": "stream",
     "text": [
      "\r",
      " 91%|████████████████████████████████████████████████████████████████████████▍       | 498/550 [39:52<04:03,  4.68s/it]"
     ]
    },
    {
     "name": "stdout",
     "output_type": "stream",
     "text": [
      "(1, 23, 128, 128, 1)\n",
      "C:\\Users\\gural\\Desktop\\animals\\mouse\\HorizontalFlipVID_20190327_185144Rotate40.mp4\n",
      "\n"
     ]
    },
    {
     "name": "stderr",
     "output_type": "stream",
     "text": [
      "\r",
      " 91%|████████████████████████████████████████████████████████████████████████▌       | 499/550 [39:56<03:58,  4.67s/it]"
     ]
    },
    {
     "name": "stdout",
     "output_type": "stream",
     "text": [
      "(1, 23, 128, 128, 1)\n",
      "C:\\Users\\gural\\Desktop\\animals\\tiger\\VID_20190327_185513Rotate40.mp4\n",
      "\n"
     ]
    },
    {
     "name": "stderr",
     "output_type": "stream",
     "text": [
      "\r",
      " 91%|████████████████████████████████████████████████████████████████████████▋       | 500/550 [40:01<03:51,  4.64s/it]"
     ]
    },
    {
     "name": "stdout",
     "output_type": "stream",
     "text": [
      "(1, 23, 128, 128, 1)\n",
      "C:\\Users\\gural\\Desktop\\animals\\mouse\\HorizontalFlipVID_20190327_172736Crop.mp4\n",
      "\n"
     ]
    },
    {
     "name": "stderr",
     "output_type": "stream",
     "text": [
      "\r",
      " 91%|████████████████████████████████████████████████████████████████████████▊       | 501/550 [40:05<03:37,  4.44s/it]"
     ]
    },
    {
     "name": "stdout",
     "output_type": "stream",
     "text": [
      "(1, 23, 128, 128, 1)\n",
      "C:\\Users\\gural\\Desktop\\animals\\alligator\\HorizontalFlipVID_20190327_184510translate.mp4\n",
      "\n"
     ]
    },
    {
     "name": "stderr",
     "output_type": "stream",
     "text": [
      "\r",
      " 91%|█████████████████████████████████████████████████████████████████████████       | 502/550 [40:10<03:41,  4.62s/it]"
     ]
    },
    {
     "name": "stdout",
     "output_type": "stream",
     "text": [
      "(1, 23, 128, 128, 1)\n",
      "C:\\Users\\gural\\Desktop\\animals\\mouse\\HorizontalFlipVID_20190327_185248Rotate40.mp4\n",
      "\n"
     ]
    },
    {
     "name": "stderr",
     "output_type": "stream",
     "text": [
      "\r",
      " 91%|█████████████████████████████████████████████████████████████████████████▏      | 503/550 [40:14<03:25,  4.37s/it]"
     ]
    },
    {
     "name": "stdout",
     "output_type": "stream",
     "text": [
      "(1, 23, 128, 128, 1)\n",
      "C:\\Users\\gural\\Desktop\\animals\\bull\\HorizontalFlipVID_20190327_172501translate.mp4\n",
      "\n"
     ]
    },
    {
     "name": "stderr",
     "output_type": "stream",
     "text": [
      "\r",
      " 92%|█████████████████████████████████████████████████████████████████████████▎      | 504/550 [40:17<03:13,  4.21s/it]"
     ]
    },
    {
     "name": "stdout",
     "output_type": "stream",
     "text": [
      "(1, 23, 128, 128, 1)\n",
      "C:\\Users\\gural\\Desktop\\animals\\alligator\\VID_20190327_184300.mp4\n",
      "\n"
     ]
    },
    {
     "name": "stderr",
     "output_type": "stream",
     "text": [
      "\r",
      " 92%|█████████████████████████████████████████████████████████████████████████▍      | 505/550 [40:22<03:20,  4.45s/it]"
     ]
    },
    {
     "name": "stdout",
     "output_type": "stream",
     "text": [
      "(1, 23, 128, 128, 1)\n",
      "C:\\Users\\gural\\Desktop\\animals\\alligator\\VID_20190327_172127Crop.mp4\n",
      "\n"
     ]
    },
    {
     "name": "stderr",
     "output_type": "stream",
     "text": [
      "\r",
      " 92%|█████████████████████████████████████████████████████████████████████████▌      | 506/550 [40:27<03:12,  4.38s/it]"
     ]
    },
    {
     "name": "stdout",
     "output_type": "stream",
     "text": [
      "(1, 23, 128, 128, 1)\n",
      "C:\\Users\\gural\\Desktop\\animals\\alligator\\HorizontalFlipVID_20190327_184234.mp4\n",
      "\n"
     ]
    },
    {
     "name": "stderr",
     "output_type": "stream",
     "text": [
      "\r",
      " 92%|█████████████████████████████████████████████████████████████████████████▋      | 507/550 [40:34<03:46,  5.27s/it]"
     ]
    },
    {
     "name": "stdout",
     "output_type": "stream",
     "text": [
      "(1, 23, 128, 128, 1)\n",
      "C:\\Users\\gural\\Desktop\\animals\\bull\\HorizontalFlipVID_20190327_184939Crop.mp4\n",
      "\n"
     ]
    },
    {
     "name": "stderr",
     "output_type": "stream",
     "text": [
      "\r",
      " 92%|█████████████████████████████████████████████████████████████████████████▉      | 508/550 [40:36<03:03,  4.37s/it]"
     ]
    },
    {
     "name": "stdout",
     "output_type": "stream",
     "text": [
      "(1, 23, 128, 128, 1)\n",
      "C:\\Users\\gural\\Desktop\\animals\\bull\\VID_20190327_172627translate.mp4\n",
      "\n"
     ]
    },
    {
     "name": "stderr",
     "output_type": "stream",
     "text": [
      "\r",
      " 93%|██████████████████████████████████████████████████████████████████████████      | 509/550 [40:43<03:30,  5.14s/it]"
     ]
    },
    {
     "name": "stdout",
     "output_type": "stream",
     "text": [
      "(1, 23, 128, 128, 1)\n",
      "C:\\Users\\gural\\Desktop\\animals\\mouse\\HorizontalFlipVID_20190327_172736.mp4\n",
      "\n"
     ]
    },
    {
     "name": "stderr",
     "output_type": "stream",
     "text": [
      "\r",
      " 93%|██████████████████████████████████████████████████████████████████████████▏     | 510/550 [40:50<03:42,  5.56s/it]"
     ]
    },
    {
     "name": "stdout",
     "output_type": "stream",
     "text": [
      "(1, 23, 128, 128, 1)\n",
      "C:\\Users\\gural\\Desktop\\animals\\tiger\\HorizontalFlipVID_20190327_185532.mp4\n",
      "\n"
     ]
    },
    {
     "name": "stderr",
     "output_type": "stream",
     "text": [
      "\r",
      " 93%|██████████████████████████████████████████████████████████████████████████▎     | 511/550 [40:54<03:23,  5.21s/it]"
     ]
    },
    {
     "name": "stdout",
     "output_type": "stream",
     "text": [
      "(1, 23, 128, 128, 1)\n",
      "C:\\Users\\gural\\Desktop\\animals\\bull\\HorizontalFlipVID_20190327_184748Crop.mp4\n",
      "\n"
     ]
    },
    {
     "name": "stderr",
     "output_type": "stream",
     "text": [
      "\r",
      " 93%|██████████████████████████████████████████████████████████████████████████▍     | 512/550 [40:57<02:52,  4.54s/it]"
     ]
    },
    {
     "name": "stdout",
     "output_type": "stream",
     "text": [
      "(1, 23, 128, 128, 1)\n",
      "C:\\Users\\gural\\Desktop\\animals\\mouse\\HorizontalFlipVID_20190327_172703Rotate.mp4\n",
      "\n"
     ]
    },
    {
     "name": "stderr",
     "output_type": "stream",
     "text": [
      "\r",
      " 93%|██████████████████████████████████████████████████████████████████████████▌     | 513/550 [41:05<03:20,  5.43s/it]"
     ]
    },
    {
     "name": "stdout",
     "output_type": "stream",
     "text": [
      "(1, 23, 128, 128, 1)\n",
      "C:\\Users\\gural\\Desktop\\animals\\mouse\\VID_20190327_185139.mp4\n",
      "\n"
     ]
    },
    {
     "name": "stderr",
     "output_type": "stream",
     "text": [
      "\r",
      " 93%|██████████████████████████████████████████████████████████████████████████▊     | 514/550 [41:09<03:08,  5.23s/it]"
     ]
    },
    {
     "name": "stdout",
     "output_type": "stream",
     "text": [
      "(1, 23, 128, 128, 1)\n",
      "C:\\Users\\gural\\Desktop\\animals\\tiger\\HorizontalFlipVID_20190327_185606Rotate.mp4\n",
      "\n"
     ]
    },
    {
     "name": "stderr",
     "output_type": "stream",
     "text": [
      "\r",
      " 94%|██████████████████████████████████████████████████████████████████████████▉     | 515/550 [41:14<02:58,  5.09s/it]"
     ]
    },
    {
     "name": "stdout",
     "output_type": "stream",
     "text": [
      "(1, 23, 128, 128, 1)\n",
      "C:\\Users\\gural\\Desktop\\animals\\bull\\VID_20190327_172627Rotate.mp4\n",
      "\n"
     ]
    },
    {
     "name": "stderr",
     "output_type": "stream",
     "text": [
      "\r",
      " 94%|███████████████████████████████████████████████████████████████████████████     | 516/550 [41:21<03:13,  5.69s/it]"
     ]
    },
    {
     "name": "stdout",
     "output_type": "stream",
     "text": [
      "(1, 23, 128, 128, 1)\n",
      "C:\\Users\\gural\\Desktop\\animals\\mouse\\HorizontalFlipVID_20190327_185230Rotate.mp4\n",
      "\n"
     ]
    },
    {
     "name": "stderr",
     "output_type": "stream",
     "text": [
      "\r",
      " 94%|███████████████████████████████████████████████████████████████████████████▏    | 517/550 [41:26<02:56,  5.35s/it]"
     ]
    },
    {
     "name": "stdout",
     "output_type": "stream",
     "text": [
      "(1, 23, 128, 128, 1)\n",
      "C:\\Users\\gural\\Desktop\\animals\\tiger\\HorizontalFlipVID_20190327_185518Rotate40.mp4\n",
      "\n"
     ]
    },
    {
     "name": "stderr",
     "output_type": "stream",
     "text": [
      "\r",
      " 94%|███████████████████████████████████████████████████████████████████████████▎    | 518/550 [41:30<02:43,  5.11s/it]"
     ]
    },
    {
     "name": "stdout",
     "output_type": "stream",
     "text": [
      "(1, 23, 128, 128, 1)\n",
      "C:\\Users\\gural\\Desktop\\animals\\mouse\\VID_20190515_184028Rotate.mp4\n",
      "\n"
     ]
    },
    {
     "name": "stderr",
     "output_type": "stream",
     "text": [
      "\r",
      " 94%|███████████████████████████████████████████████████████████████████████████▍    | 519/550 [41:40<03:24,  6.60s/it]"
     ]
    },
    {
     "name": "stdout",
     "output_type": "stream",
     "text": [
      "(1, 23, 128, 128, 1)\n",
      "C:\\Users\\gural\\Desktop\\animals\\tiger\\VID_20190327_185606Rotate40.mp4\n",
      "\n"
     ]
    },
    {
     "name": "stderr",
     "output_type": "stream",
     "text": [
      "\r",
      " 95%|███████████████████████████████████████████████████████████████████████████▋    | 520/550 [41:45<03:00,  6.01s/it]"
     ]
    },
    {
     "name": "stdout",
     "output_type": "stream",
     "text": [
      "(1, 23, 128, 128, 1)\n",
      "C:\\Users\\gural\\Desktop\\animals\\tiger\\HorizontalFlipVID_20190327_173108.mp4\n",
      "\n"
     ]
    },
    {
     "name": "stderr",
     "output_type": "stream",
     "text": [
      "\r",
      " 95%|███████████████████████████████████████████████████████████████████████████▊    | 521/550 [41:51<02:54,  6.00s/it]"
     ]
    },
    {
     "name": "stdout",
     "output_type": "stream",
     "text": [
      "(1, 23, 128, 128, 1)\n",
      "C:\\Users\\gural\\Desktop\\animals\\mouse\\VID_20190515_184023Rotate40.mp4\n",
      "\n"
     ]
    },
    {
     "name": "stderr",
     "output_type": "stream",
     "text": [
      "\r",
      " 95%|███████████████████████████████████████████████████████████████████████████▉    | 522/550 [41:57<02:44,  5.86s/it]"
     ]
    },
    {
     "name": "stdout",
     "output_type": "stream",
     "text": [
      "(1, 23, 128, 128, 1)\n",
      "C:\\Users\\gural\\Desktop\\animals\\bull\\VID_20190529_193340.mp4\n",
      "\n"
     ]
    },
    {
     "name": "stderr",
     "output_type": "stream",
     "text": [
      "\r",
      " 95%|████████████████████████████████████████████████████████████████████████████    | 523/550 [42:03<02:45,  6.14s/it]"
     ]
    },
    {
     "name": "stdout",
     "output_type": "stream",
     "text": [
      "(1, 23, 128, 128, 1)\n",
      "C:\\Users\\gural\\Desktop\\animals\\tiger\\VID_20190529_193651.mp4\n",
      "\n"
     ]
    },
    {
     "name": "stderr",
     "output_type": "stream",
     "text": [
      "\r",
      " 95%|████████████████████████████████████████████████████████████████████████████▏   | 524/550 [42:09<02:36,  6.04s/it]"
     ]
    },
    {
     "name": "stdout",
     "output_type": "stream",
     "text": [
      "(1, 23, 128, 128, 1)\n",
      "C:\\Users\\gural\\Desktop\\animals\\tiger\\VID_20190327_185532Crop.mp4\n",
      "\n"
     ]
    },
    {
     "name": "stderr",
     "output_type": "stream",
     "text": [
      "\r",
      " 95%|████████████████████████████████████████████████████████████████████████████▎   | 525/550 [42:12<02:05,  5.01s/it]"
     ]
    },
    {
     "name": "stdout",
     "output_type": "stream",
     "text": [
      "(1, 23, 128, 128, 1)\n",
      "C:\\Users\\gural\\Desktop\\animals\\tiger\\HorizontalFlipVID_20190515_183740Crop.mp4\n",
      "\n"
     ]
    },
    {
     "name": "stderr",
     "output_type": "stream",
     "text": [
      "\r",
      " 96%|████████████████████████████████████████████████████████████████████████████▌   | 526/550 [42:14<01:42,  4.26s/it]"
     ]
    },
    {
     "name": "stdout",
     "output_type": "stream",
     "text": [
      "(1, 23, 128, 128, 1)\n",
      "C:\\Users\\gural\\Desktop\\animals\\tiger\\VID_20190327_173008translate.mp4\n",
      "\n"
     ]
    },
    {
     "name": "stderr",
     "output_type": "stream",
     "text": [
      "\r",
      " 96%|████████████████████████████████████████████████████████████████████████████▋   | 527/550 [42:20<01:48,  4.71s/it]"
     ]
    },
    {
     "name": "stdout",
     "output_type": "stream",
     "text": [
      "(1, 23, 128, 128, 1)\n",
      "C:\\Users\\gural\\Desktop\\animals\\tiger\\VID_20190327_185440Rotate.mp4\n",
      "\n"
     ]
    },
    {
     "name": "stderr",
     "output_type": "stream",
     "text": [
      "\r",
      " 96%|████████████████████████████████████████████████████████████████████████████▊   | 528/550 [42:25<01:48,  4.92s/it]"
     ]
    },
    {
     "name": "stdout",
     "output_type": "stream",
     "text": [
      "(1, 23, 128, 128, 1)\n",
      "C:\\Users\\gural\\Desktop\\animals\\mouse\\HorizontalFlipVID_20190327_185324Rotate40.mp4\n",
      "\n"
     ]
    },
    {
     "name": "stderr",
     "output_type": "stream",
     "text": [
      "\r",
      " 96%|████████████████████████████████████████████████████████████████████████████▉   | 529/550 [42:31<01:44,  4.98s/it]"
     ]
    },
    {
     "name": "stdout",
     "output_type": "stream",
     "text": [
      "(1, 23, 128, 128, 1)\n",
      "C:\\Users\\gural\\Desktop\\animals\\bull\\VID_20190327_184838Rotate.mp4\n",
      "\n"
     ]
    },
    {
     "name": "stderr",
     "output_type": "stream",
     "text": [
      "\r",
      " 96%|█████████████████████████████████████████████████████████████████████████████   | 530/550 [42:35<01:34,  4.75s/it]"
     ]
    },
    {
     "name": "stdout",
     "output_type": "stream",
     "text": [
      "(1, 23, 128, 128, 1)\n",
      "C:\\Users\\gural\\Desktop\\animals\\bull\\HorizontalFlipVID_20190327_172536Crop.mp4\n",
      "\n"
     ]
    },
    {
     "name": "stderr",
     "output_type": "stream",
     "text": [
      "\r",
      " 97%|█████████████████████████████████████████████████████████████████████████████▏  | 531/550 [42:39<01:25,  4.51s/it]"
     ]
    },
    {
     "name": "stdout",
     "output_type": "stream",
     "text": [
      "(1, 23, 128, 128, 1)\n",
      "C:\\Users\\gural\\Desktop\\animals\\tiger\\VID_20190327_185523Rotate.mp4\n",
      "\n"
     ]
    },
    {
     "name": "stderr",
     "output_type": "stream",
     "text": [
      "\r",
      " 97%|█████████████████████████████████████████████████████████████████████████████▍  | 532/550 [42:43<01:18,  4.38s/it]"
     ]
    },
    {
     "name": "stdout",
     "output_type": "stream",
     "text": [
      "(1, 23, 128, 128, 1)\n",
      "C:\\Users\\gural\\Desktop\\animals\\alligator\\VID_20190327_184404translate.mp4\n",
      "\n"
     ]
    },
    {
     "name": "stderr",
     "output_type": "stream",
     "text": [
      "\r",
      " 97%|█████████████████████████████████████████████████████████████████████████████▌  | 533/550 [42:47<01:13,  4.34s/it]"
     ]
    },
    {
     "name": "stdout",
     "output_type": "stream",
     "text": [
      "(1, 23, 128, 128, 1)\n",
      "C:\\Users\\gural\\Desktop\\animals\\tiger\\HorizontalFlipVID_20190327_185513translate.mp4\n",
      "\n"
     ]
    },
    {
     "name": "stderr",
     "output_type": "stream",
     "text": [
      "\r",
      " 97%|█████████████████████████████████████████████████████████████████████████████▋  | 534/550 [42:52<01:10,  4.41s/it]"
     ]
    },
    {
     "name": "stdout",
     "output_type": "stream",
     "text": [
      "(1, 23, 128, 128, 1)\n",
      "C:\\Users\\gural\\Desktop\\animals\\tiger\\HorizontalFlipVID_20190327_185508translate.mp4\n",
      "\n"
     ]
    },
    {
     "name": "stderr",
     "output_type": "stream",
     "text": [
      "\r",
      " 97%|█████████████████████████████████████████████████████████████████████████████▊  | 535/550 [42:58<01:12,  4.86s/it]"
     ]
    },
    {
     "name": "stdout",
     "output_type": "stream",
     "text": [
      "(1, 23, 128, 128, 1)\n",
      "C:\\Users\\gural\\Desktop\\animals\\alligator\\HorizontalFlipVID_20190327_184358Rotate40.mp4\n",
      "\n"
     ]
    },
    {
     "name": "stderr",
     "output_type": "stream",
     "text": [
      "\r",
      " 97%|█████████████████████████████████████████████████████████████████████████████▉  | 536/550 [43:04<01:12,  5.20s/it]"
     ]
    },
    {
     "name": "stdout",
     "output_type": "stream",
     "text": [
      "(1, 23, 128, 128, 1)\n",
      "C:\\Users\\gural\\Desktop\\animals\\tiger\\VID_20190327_173108.mp4\n",
      "\n"
     ]
    },
    {
     "name": "stderr",
     "output_type": "stream",
     "text": [
      "\r",
      " 98%|██████████████████████████████████████████████████████████████████████████████  | 537/550 [43:10<01:10,  5.45s/it]"
     ]
    },
    {
     "name": "stdout",
     "output_type": "stream",
     "text": [
      "(1, 23, 128, 128, 1)\n",
      "C:\\Users\\gural\\Desktop\\animals\\bull\\HorizontalFlipVID_20190327_184935Crop.mp4\n",
      "\n"
     ]
    },
    {
     "name": "stderr",
     "output_type": "stream",
     "text": [
      "\r",
      " 98%|██████████████████████████████████████████████████████████████████████████████▎ | 538/550 [43:12<00:53,  4.46s/it]"
     ]
    },
    {
     "name": "stdout",
     "output_type": "stream",
     "text": [
      "(1, 23, 128, 128, 1)\n",
      "C:\\Users\\gural\\Desktop\\animals\\tiger\\HorizontalFlipVID_20190327_185523.mp4\n",
      "\n"
     ]
    },
    {
     "name": "stderr",
     "output_type": "stream",
     "text": [
      "\r",
      " 98%|██████████████████████████████████████████████████████████████████████████████▍ | 539/550 [43:16<00:47,  4.36s/it]"
     ]
    },
    {
     "name": "stdout",
     "output_type": "stream",
     "text": [
      "(1, 23, 128, 128, 1)\n",
      "C:\\Users\\gural\\Desktop\\animals\\bull\\HorizontalFlipVID_20190515_183937.mp4\n",
      "\n"
     ]
    },
    {
     "name": "stderr",
     "output_type": "stream",
     "text": [
      "\r",
      " 98%|██████████████████████████████████████████████████████████████████████████████▌ | 540/550 [43:24<00:54,  5.41s/it]"
     ]
    },
    {
     "name": "stdout",
     "output_type": "stream",
     "text": [
      "(1, 23, 128, 128, 1)\n",
      "C:\\Users\\gural\\Desktop\\animals\\tiger\\VID_20190327_185548.mp4\n",
      "\n"
     ]
    },
    {
     "name": "stderr",
     "output_type": "stream",
     "text": [
      "\r",
      " 98%|██████████████████████████████████████████████████████████████████████████████▋ | 541/550 [43:29<00:47,  5.28s/it]"
     ]
    },
    {
     "name": "stdout",
     "output_type": "stream",
     "text": [
      "(1, 23, 128, 128, 1)\n",
      "C:\\Users\\gural\\Desktop\\animals\\bull\\VID_20190327_172316Rotate.mp4\n",
      "\n"
     ]
    },
    {
     "name": "stderr",
     "output_type": "stream",
     "text": [
      "\r",
      " 99%|██████████████████████████████████████████████████████████████████████████████▊ | 542/550 [43:33<00:39,  4.92s/it]"
     ]
    },
    {
     "name": "stdout",
     "output_type": "stream",
     "text": [
      "(1, 23, 128, 128, 1)\n",
      "C:\\Users\\gural\\Desktop\\animals\\alligator\\HorizontalFlipVID_20190327_172003translate.mp4\n",
      "\n"
     ]
    },
    {
     "name": "stderr",
     "output_type": "stream",
     "text": [
      "\r",
      " 99%|██████████████████████████████████████████████████████████████████████████████▉ | 543/550 [43:38<00:35,  5.13s/it]"
     ]
    },
    {
     "name": "stdout",
     "output_type": "stream",
     "text": [
      "(1, 23, 128, 128, 1)\n",
      "C:\\Users\\gural\\Desktop\\animals\\bull\\VID_20190327_172501Crop.mp4\n",
      "\n"
     ]
    },
    {
     "name": "stderr",
     "output_type": "stream",
     "text": [
      "\r",
      " 99%|███████████████████████████████████████████████████████████████████████████████▏| 544/550 [43:41<00:25,  4.26s/it]"
     ]
    },
    {
     "name": "stdout",
     "output_type": "stream",
     "text": [
      "(1, 23, 128, 128, 1)\n",
      "C:\\Users\\gural\\Desktop\\animals\\mouse\\HorizontalFlipVID_20190327_185230.mp4\n",
      "\n"
     ]
    },
    {
     "name": "stderr",
     "output_type": "stream",
     "text": [
      "\r",
      " 99%|███████████████████████████████████████████████████████████████████████████████▎| 545/550 [43:45<00:21,  4.37s/it]"
     ]
    },
    {
     "name": "stdout",
     "output_type": "stream",
     "text": [
      "(1, 23, 128, 128, 1)\n",
      "C:\\Users\\gural\\Desktop\\animals\\alligator\\VID_20190515_183658translate.mp4\n",
      "\n"
     ]
    },
    {
     "name": "stderr",
     "output_type": "stream",
     "text": [
      "\r",
      " 99%|███████████████████████████████████████████████████████████████████████████████▍| 546/550 [43:48<00:15,  3.80s/it]"
     ]
    },
    {
     "name": "stdout",
     "output_type": "stream",
     "text": [
      "(1, 23, 128, 128, 1)\n",
      "C:\\Users\\gural\\Desktop\\animals\\mouse\\HorizontalFlipVID_20190327_185337Rotate40.mp4\n",
      "\n"
     ]
    },
    {
     "name": "stderr",
     "output_type": "stream",
     "text": [
      "\r",
      " 99%|███████████████████████████████████████████████████████████████████████████████▌| 547/550 [43:52<00:11,  3.86s/it]"
     ]
    },
    {
     "name": "stdout",
     "output_type": "stream",
     "text": [
      "(1, 23, 128, 128, 1)\n",
      "C:\\Users\\gural\\Desktop\\animals\\alligator\\HorizontalFlipVID_20190327_184305translate.mp4\n",
      "\n"
     ]
    },
    {
     "name": "stderr",
     "output_type": "stream",
     "text": [
      "\r",
      "100%|███████████████████████████████████████████████████████████████████████████████▋| 548/550 [43:57<00:08,  4.25s/it]"
     ]
    },
    {
     "name": "stdout",
     "output_type": "stream",
     "text": [
      "(1, 23, 128, 128, 1)\n",
      "C:\\Users\\gural\\Desktop\\animals\\alligator\\HorizontalFlipVID_20190327_184415translate.mp4\n",
      "\n"
     ]
    },
    {
     "name": "stderr",
     "output_type": "stream",
     "text": [
      "\r",
      "100%|███████████████████████████████████████████████████████████████████████████████▊| 549/550 [44:02<00:04,  4.38s/it]"
     ]
    },
    {
     "name": "stdout",
     "output_type": "stream",
     "text": [
      "(1, 23, 128, 128, 1)\n",
      "C:\\Users\\gural\\Desktop\\animals\\bull\\VID_20190327_185003Crop.mp4\n",
      "\n"
     ]
    },
    {
     "name": "stderr",
     "output_type": "stream",
     "text": [
      "100%|████████████████████████████████████████████████████████████████████████████████| 550/550 [44:04<00:00,  3.89s/it]\n"
     ]
    },
    {
     "name": "stdout",
     "output_type": "stream",
     "text": [
      "(1, 23, 128, 128, 1)\n",
      "(1, 23, 128, 128, 1)\n",
      "(1, 23, 128, 128, 1)\n",
      "(1, 23, 128, 128, 1)\n",
      "(1, 23, 128, 128, 1)\n",
      "(1, 23, 128, 128, 1)\n",
      "(1, 23, 128, 128, 1)\n",
      "(1, 23, 128, 128, 1)\n",
      "(1, 23, 128, 128, 1)\n",
      "(1, 23, 128, 128, 1)\n",
      "(1, 23, 128, 128, 1)\n",
      "(1, 23, 128, 128, 1)\n",
      "(1, 23, 128, 128, 1)\n",
      "(1, 23, 128, 128, 1)\n",
      "(1, 23, 128, 128, 1)\n",
      "(1, 23, 128, 128, 1)\n",
      "(1, 23, 128, 128, 1)\n",
      "(1, 23, 128, 128, 1)\n",
      "(1, 23, 128, 128, 1)\n",
      "(1, 23, 128, 128, 1)\n",
      "(1, 23, 128, 128, 1)\n",
      "(1, 23, 128, 128, 1)\n",
      "(1, 23, 128, 128, 1)\n",
      "(1, 23, 128, 128, 1)\n",
      "(1, 23, 128, 128, 1)\n",
      "(1, 23, 128, 128, 1)\n",
      "(1, 23, 128, 128, 1)\n",
      "(1, 23, 128, 128, 1)\n",
      "(1, 23, 128, 128, 1)\n",
      "(1, 23, 128, 128, 1)\n",
      "(1, 23, 128, 128, 1)\n",
      "(1, 23, 128, 128, 1)\n",
      "(1, 23, 128, 128, 1)\n",
      "(1, 23, 128, 128, 1)\n",
      "(1, 23, 128, 128, 1)\n",
      "(1, 23, 128, 128, 1)\n",
      "(1, 23, 128, 128, 1)\n",
      "(1, 23, 128, 128, 1)\n",
      "(1, 23, 128, 128, 1)\n",
      "(1, 23, 128, 128, 1)\n",
      "(1, 23, 128, 128, 1)\n",
      "(1, 23, 128, 128, 1)\n",
      "(1, 23, 128, 128, 1)\n",
      "(1, 23, 128, 128, 1)\n",
      "(1, 23, 128, 128, 1)\n",
      "(1, 23, 128, 128, 1)\n",
      "(1, 23, 128, 128, 1)\n",
      "(1, 23, 128, 128, 1)\n",
      "(1, 23, 128, 128, 1)\n",
      "(1, 23, 128, 128, 1)\n",
      "(1, 23, 128, 128, 1)\n",
      "(1, 23, 128, 128, 1)\n",
      "(1, 23, 128, 128, 1)\n",
      "(1, 23, 128, 128, 1)\n",
      "(1, 23, 128, 128, 1)\n",
      "(1, 23, 128, 128, 1)\n",
      "(1, 23, 128, 128, 1)\n",
      "(1, 23, 128, 128, 1)\n",
      "(1, 23, 128, 128, 1)\n",
      "(1, 23, 128, 128, 1)\n",
      "(1, 23, 128, 128, 1)\n",
      "(1, 23, 128, 128, 1)\n",
      "(1, 23, 128, 128, 1)\n",
      "(1, 23, 128, 128, 1)\n",
      "(1, 23, 128, 128, 1)\n",
      "(1, 23, 128, 128, 1)\n",
      "(1, 23, 128, 128, 1)\n",
      "(1, 23, 128, 128, 1)\n",
      "(1, 23, 128, 128, 1)\n",
      "(1, 23, 128, 128, 1)\n",
      "(1, 23, 128, 128, 1)\n",
      "(1, 23, 128, 128, 1)\n",
      "(1, 23, 128, 128, 1)\n",
      "(1, 23, 128, 128, 1)\n",
      "(1, 23, 128, 128, 1)\n",
      "(1, 23, 128, 128, 1)\n",
      "(1, 23, 128, 128, 1)\n",
      "(1, 23, 128, 128, 1)\n",
      "(1, 23, 128, 128, 1)\n",
      "(1, 23, 128, 128, 1)\n",
      "(1, 23, 128, 128, 1)\n",
      "(1, 23, 128, 128, 1)\n",
      "(1, 23, 128, 128, 1)\n",
      "(1, 23, 128, 128, 1)\n",
      "(1, 23, 128, 128, 1)\n",
      "(1, 23, 128, 128, 1)\n",
      "(1, 23, 128, 128, 1)\n",
      "(1, 23, 128, 128, 1)\n",
      "(1, 23, 128, 128, 1)\n",
      "(1, 23, 128, 128, 1)\n",
      "(1, 23, 128, 128, 1)\n",
      "(1, 23, 128, 128, 1)\n",
      "(1, 23, 128, 128, 1)\n",
      "(1, 23, 128, 128, 1)\n",
      "(1, 23, 128, 128, 1)\n",
      "(1, 23, 128, 128, 1)\n",
      "(1, 23, 128, 128, 1)\n",
      "(1, 23, 128, 128, 1)\n",
      "(1, 23, 128, 128, 1)\n",
      "(1, 23, 128, 128, 1)\n",
      "(1, 23, 128, 128, 1)\n",
      "(1, 23, 128, 128, 1)\n",
      "(1, 23, 128, 128, 1)\n",
      "(1, 23, 128, 128, 1)\n",
      "(1, 23, 128, 128, 1)\n",
      "(1, 23, 128, 128, 1)\n",
      "(1, 23, 128, 128, 1)\n",
      "(1, 23, 128, 128, 1)\n",
      "(1, 23, 128, 128, 1)\n",
      "(1, 23, 128, 128, 1)\n",
      "(1, 23, 128, 128, 1)\n",
      "(1, 23, 128, 128, 1)\n",
      "(1, 23, 128, 128, 1)\n",
      "(1, 23, 128, 128, 1)\n",
      "(1, 23, 128, 128, 1)\n",
      "(1, 23, 128, 128, 1)\n",
      "(1, 23, 128, 128, 1)\n",
      "(1, 23, 128, 128, 1)\n",
      "(1, 23, 128, 128, 1)\n",
      "(1, 23, 128, 128, 1)\n",
      "(1, 23, 128, 128, 1)\n",
      "(1, 23, 128, 128, 1)\n",
      "(1, 23, 128, 128, 1)\n",
      "(1, 23, 128, 128, 1)\n",
      "(1, 23, 128, 128, 1)\n",
      "(1, 23, 128, 128, 1)\n",
      "(1, 23, 128, 128, 1)\n",
      "(1, 23, 128, 128, 1)\n",
      "(1, 23, 128, 128, 1)\n",
      "(1, 23, 128, 128, 1)\n",
      "(1, 23, 128, 128, 1)\n",
      "(1, 23, 128, 128, 1)\n",
      "(1, 23, 128, 128, 1)\n",
      "(1, 23, 128, 128, 1)\n",
      "(1, 23, 128, 128, 1)\n",
      "(1, 23, 128, 128, 1)\n",
      "(1, 23, 128, 128, 1)\n",
      "(1, 23, 128, 128, 1)\n",
      "(1, 23, 128, 128, 1)\n",
      "(1, 23, 128, 128, 1)\n",
      "(1, 23, 128, 128, 1)\n",
      "(1, 23, 128, 128, 1)\n",
      "(1, 23, 128, 128, 1)\n",
      "(1, 23, 128, 128, 1)\n",
      "(1, 23, 128, 128, 1)\n",
      "(1, 23, 128, 128, 1)\n",
      "(1, 23, 128, 128, 1)\n",
      "(1, 23, 128, 128, 1)\n",
      "(1, 23, 128, 128, 1)\n",
      "(1, 23, 128, 128, 1)\n",
      "(1, 23, 128, 128, 1)\n",
      "(1, 23, 128, 128, 1)\n",
      "(1, 23, 128, 128, 1)\n",
      "(1, 23, 128, 128, 1)\n",
      "(1, 23, 128, 128, 1)\n",
      "(1, 23, 128, 128, 1)\n",
      "(1, 23, 128, 128, 1)\n",
      "(1, 23, 128, 128, 1)\n",
      "(1, 23, 128, 128, 1)\n",
      "(1, 23, 128, 128, 1)\n",
      "(1, 23, 128, 128, 1)\n",
      "(1, 23, 128, 128, 1)\n",
      "(1, 23, 128, 128, 1)\n",
      "(1, 23, 128, 128, 1)\n",
      "(1, 23, 128, 128, 1)\n",
      "(1, 23, 128, 128, 1)\n",
      "(1, 23, 128, 128, 1)\n",
      "(1, 23, 128, 128, 1)\n",
      "(1, 23, 128, 128, 1)\n",
      "(1, 23, 128, 128, 1)\n",
      "(1, 23, 128, 128, 1)\n",
      "(1, 23, 128, 128, 1)\n",
      "(1, 23, 128, 128, 1)\n",
      "(1, 23, 128, 128, 1)\n",
      "(1, 23, 128, 128, 1)\n",
      "(1, 23, 128, 128, 1)\n",
      "(1, 23, 128, 128, 1)\n",
      "(1, 23, 128, 128, 1)\n",
      "(1, 23, 128, 128, 1)\n",
      "(1, 23, 128, 128, 1)\n",
      "(1, 23, 128, 128, 1)\n",
      "(1, 23, 128, 128, 1)\n",
      "(1, 23, 128, 128, 1)\n",
      "(1, 23, 128, 128, 1)\n",
      "(1, 23, 128, 128, 1)\n",
      "(1, 23, 128, 128, 1)\n",
      "(1, 23, 128, 128, 1)\n",
      "(1, 23, 128, 128, 1)\n",
      "(1, 23, 128, 128, 1)\n",
      "(1, 23, 128, 128, 1)\n",
      "(1, 23, 128, 128, 1)\n",
      "(1, 23, 128, 128, 1)\n",
      "(1, 23, 128, 128, 1)\n",
      "(1, 23, 128, 128, 1)\n",
      "(1, 23, 128, 128, 1)\n",
      "(1, 23, 128, 128, 1)\n",
      "(1, 23, 128, 128, 1)\n",
      "(1, 23, 128, 128, 1)\n",
      "(1, 23, 128, 128, 1)\n",
      "(1, 23, 128, 128, 1)\n",
      "(1, 23, 128, 128, 1)\n",
      "(1, 23, 128, 128, 1)\n",
      "(1, 23, 128, 128, 1)\n",
      "(1, 23, 128, 128, 1)\n",
      "(1, 23, 128, 128, 1)\n",
      "(1, 23, 128, 128, 1)\n",
      "(1, 23, 128, 128, 1)\n",
      "(1, 23, 128, 128, 1)\n",
      "(1, 23, 128, 128, 1)\n",
      "(1, 23, 128, 128, 1)\n",
      "(1, 23, 128, 128, 1)\n",
      "(1, 23, 128, 128, 1)\n",
      "(1, 23, 128, 128, 1)\n",
      "(1, 23, 128, 128, 1)\n",
      "(1, 23, 128, 128, 1)\n",
      "(1, 23, 128, 128, 1)\n",
      "(1, 23, 128, 128, 1)\n",
      "(1, 23, 128, 128, 1)\n",
      "(1, 23, 128, 128, 1)\n",
      "(1, 23, 128, 128, 1)\n",
      "(1, 23, 128, 128, 1)\n",
      "(1, 23, 128, 128, 1)\n",
      "(1, 23, 128, 128, 1)\n",
      "(1, 23, 128, 128, 1)\n",
      "(1, 23, 128, 128, 1)\n",
      "(1, 23, 128, 128, 1)\n",
      "(1, 23, 128, 128, 1)\n",
      "(1, 23, 128, 128, 1)\n",
      "(1, 23, 128, 128, 1)\n",
      "(1, 23, 128, 128, 1)\n",
      "(1, 23, 128, 128, 1)\n",
      "(1, 23, 128, 128, 1)\n",
      "(1, 23, 128, 128, 1)\n",
      "(1, 23, 128, 128, 1)\n",
      "(1, 23, 128, 128, 1)\n",
      "(1, 23, 128, 128, 1)\n",
      "(1, 23, 128, 128, 1)\n",
      "(1, 23, 128, 128, 1)\n",
      "(1, 23, 128, 128, 1)\n",
      "(1, 23, 128, 128, 1)\n",
      "(1, 23, 128, 128, 1)\n",
      "(1, 23, 128, 128, 1)\n",
      "(1, 23, 128, 128, 1)\n",
      "(1, 23, 128, 128, 1)\n",
      "(1, 23, 128, 128, 1)\n",
      "(1, 23, 128, 128, 1)\n",
      "(1, 23, 128, 128, 1)\n",
      "(1, 23, 128, 128, 1)\n",
      "(1, 23, 128, 128, 1)\n",
      "(1, 23, 128, 128, 1)\n",
      "(1, 23, 128, 128, 1)\n",
      "(1, 23, 128, 128, 1)\n",
      "(1, 23, 128, 128, 1)\n",
      "(1, 23, 128, 128, 1)\n",
      "(1, 23, 128, 128, 1)\n",
      "(1, 23, 128, 128, 1)\n",
      "(1, 23, 128, 128, 1)\n",
      "(1, 23, 128, 128, 1)\n",
      "(1, 23, 128, 128, 1)\n",
      "(1, 23, 128, 128, 1)\n",
      "(1, 23, 128, 128, 1)\n",
      "(1, 23, 128, 128, 1)\n",
      "(1, 23, 128, 128, 1)\n",
      "(1, 23, 128, 128, 1)\n",
      "(1, 23, 128, 128, 1)\n",
      "(1, 23, 128, 128, 1)\n",
      "(1, 23, 128, 128, 1)\n",
      "(1, 23, 128, 128, 1)\n",
      "(1, 23, 128, 128, 1)\n",
      "(1, 23, 128, 128, 1)\n",
      "(1, 23, 128, 128, 1)\n",
      "(1, 23, 128, 128, 1)\n",
      "(1, 23, 128, 128, 1)\n",
      "(1, 23, 128, 128, 1)\n",
      "(1, 23, 128, 128, 1)\n",
      "(1, 23, 128, 128, 1)\n",
      "(1, 23, 128, 128, 1)\n",
      "(1, 23, 128, 128, 1)\n",
      "(1, 23, 128, 128, 1)\n",
      "(1, 23, 128, 128, 1)\n",
      "(1, 23, 128, 128, 1)\n",
      "(1, 23, 128, 128, 1)\n",
      "(1, 23, 128, 128, 1)\n",
      "(1, 23, 128, 128, 1)\n",
      "(1, 23, 128, 128, 1)\n",
      "(1, 23, 128, 128, 1)\n",
      "(1, 23, 128, 128, 1)\n",
      "(1, 23, 128, 128, 1)\n",
      "(1, 23, 128, 128, 1)\n",
      "(1, 23, 128, 128, 1)\n",
      "(1, 23, 128, 128, 1)\n",
      "(1, 23, 128, 128, 1)\n",
      "(1, 23, 128, 128, 1)\n",
      "(1, 23, 128, 128, 1)\n",
      "(1, 23, 128, 128, 1)\n",
      "(1, 23, 128, 128, 1)\n",
      "(1, 23, 128, 128, 1)\n",
      "(1, 23, 128, 128, 1)\n",
      "(1, 23, 128, 128, 1)\n",
      "(1, 23, 128, 128, 1)\n",
      "(1, 23, 128, 128, 1)\n",
      "(1, 23, 128, 128, 1)\n",
      "(1, 23, 128, 128, 1)\n",
      "(1, 23, 128, 128, 1)\n",
      "(1, 23, 128, 128, 1)\n",
      "(1, 23, 128, 128, 1)\n",
      "(1, 23, 128, 128, 1)\n",
      "(1, 23, 128, 128, 1)\n",
      "(1, 23, 128, 128, 1)\n",
      "(1, 23, 128, 128, 1)\n",
      "(1, 23, 128, 128, 1)\n",
      "(1, 23, 128, 128, 1)\n",
      "(1, 23, 128, 128, 1)\n",
      "(1, 23, 128, 128, 1)\n",
      "(1, 23, 128, 128, 1)\n",
      "(1, 23, 128, 128, 1)\n",
      "(1, 23, 128, 128, 1)\n",
      "(1, 23, 128, 128, 1)\n",
      "(1, 23, 128, 128, 1)\n",
      "(1, 23, 128, 128, 1)\n",
      "(1, 23, 128, 128, 1)\n",
      "(1, 23, 128, 128, 1)\n",
      "(1, 23, 128, 128, 1)\n",
      "(1, 23, 128, 128, 1)\n",
      "(1, 23, 128, 128, 1)\n",
      "(1, 23, 128, 128, 1)\n",
      "(1, 23, 128, 128, 1)\n",
      "(1, 23, 128, 128, 1)\n",
      "(1, 23, 128, 128, 1)\n",
      "(1, 23, 128, 128, 1)\n",
      "(1, 23, 128, 128, 1)\n",
      "(1, 23, 128, 128, 1)\n",
      "(1, 23, 128, 128, 1)\n",
      "(1, 23, 128, 128, 1)\n",
      "(1, 23, 128, 128, 1)\n",
      "(1, 23, 128, 128, 1)\n",
      "(1, 23, 128, 128, 1)\n",
      "(1, 23, 128, 128, 1)\n",
      "(1, 23, 128, 128, 1)\n",
      "(1, 23, 128, 128, 1)\n",
      "(1, 23, 128, 128, 1)\n",
      "(1, 23, 128, 128, 1)\n",
      "(1, 23, 128, 128, 1)\n",
      "(1, 23, 128, 128, 1)\n",
      "(1, 23, 128, 128, 1)\n",
      "(1, 23, 128, 128, 1)\n",
      "(1, 23, 128, 128, 1)\n",
      "(1, 23, 128, 128, 1)\n",
      "(1, 23, 128, 128, 1)\n",
      "(1, 23, 128, 128, 1)\n",
      "(1, 23, 128, 128, 1)\n",
      "(1, 23, 128, 128, 1)\n",
      "(1, 23, 128, 128, 1)\n",
      "(1, 23, 128, 128, 1)\n",
      "(1, 23, 128, 128, 1)\n",
      "(1, 23, 128, 128, 1)\n",
      "(1, 23, 128, 128, 1)\n",
      "(1, 23, 128, 128, 1)\n",
      "(1, 23, 128, 128, 1)\n",
      "(1, 23, 128, 128, 1)\n",
      "(1, 23, 128, 128, 1)\n",
      "(1, 23, 128, 128, 1)\n",
      "(1, 23, 128, 128, 1)\n",
      "(1, 23, 128, 128, 1)\n",
      "(1, 23, 128, 128, 1)\n",
      "(1, 23, 128, 128, 1)\n",
      "(1, 23, 128, 128, 1)\n",
      "(1, 23, 128, 128, 1)\n",
      "(1, 23, 128, 128, 1)\n",
      "(1, 23, 128, 128, 1)\n",
      "(1, 23, 128, 128, 1)\n",
      "(1, 23, 128, 128, 1)\n",
      "(1, 23, 128, 128, 1)\n",
      "(1, 23, 128, 128, 1)\n",
      "(1, 23, 128, 128, 1)\n",
      "(1, 23, 128, 128, 1)\n",
      "(1, 23, 128, 128, 1)\n",
      "(1, 23, 128, 128, 1)\n",
      "(1, 23, 128, 128, 1)\n",
      "(1, 23, 128, 128, 1)\n",
      "(1, 23, 128, 128, 1)\n",
      "(1, 23, 128, 128, 1)\n",
      "(1, 23, 128, 128, 1)\n",
      "(1, 23, 128, 128, 1)\n",
      "(1, 23, 128, 128, 1)\n",
      "(1, 23, 128, 128, 1)\n",
      "(1, 23, 128, 128, 1)\n",
      "(1, 23, 128, 128, 1)\n",
      "(1, 23, 128, 128, 1)\n",
      "(1, 23, 128, 128, 1)\n"
     ]
    },
    {
     "name": "stdout",
     "output_type": "stream",
     "text": [
      "(1, 23, 128, 128, 1)\n",
      "(1, 23, 128, 128, 1)\n",
      "(1, 23, 128, 128, 1)\n",
      "(1, 23, 128, 128, 1)\n",
      "(1, 23, 128, 128, 1)\n",
      "(1, 23, 128, 128, 1)\n",
      "(1, 23, 128, 128, 1)\n",
      "(1, 23, 128, 128, 1)\n",
      "(1, 23, 128, 128, 1)\n",
      "(1, 23, 128, 128, 1)\n",
      "(1, 23, 128, 128, 1)\n",
      "(1, 23, 128, 128, 1)\n",
      "(1, 23, 128, 128, 1)\n",
      "(1, 23, 128, 128, 1)\n",
      "(1, 23, 128, 128, 1)\n",
      "(1, 23, 128, 128, 1)\n",
      "(1, 23, 128, 128, 1)\n",
      "(1, 23, 128, 128, 1)\n",
      "(1, 23, 128, 128, 1)\n",
      "(1, 23, 128, 128, 1)\n",
      "(1, 23, 128, 128, 1)\n",
      "(1, 23, 128, 128, 1)\n",
      "(1, 23, 128, 128, 1)\n",
      "(1, 23, 128, 128, 1)\n",
      "(1, 23, 128, 128, 1)\n",
      "(1, 23, 128, 128, 1)\n",
      "(1, 23, 128, 128, 1)\n",
      "(1, 23, 128, 128, 1)\n",
      "(1, 23, 128, 128, 1)\n",
      "(1, 23, 128, 128, 1)\n",
      "(1, 23, 128, 128, 1)\n",
      "(1, 23, 128, 128, 1)\n",
      "(1, 23, 128, 128, 1)\n",
      "(1, 23, 128, 128, 1)\n",
      "(1, 23, 128, 128, 1)\n",
      "(1, 23, 128, 128, 1)\n",
      "(1, 23, 128, 128, 1)\n",
      "(1, 23, 128, 128, 1)\n",
      "(1, 23, 128, 128, 1)\n",
      "(1, 23, 128, 128, 1)\n",
      "(1, 23, 128, 128, 1)\n",
      "(1, 23, 128, 128, 1)\n",
      "(1, 23, 128, 128, 1)\n",
      "(1, 23, 128, 128, 1)\n",
      "(1, 23, 128, 128, 1)\n",
      "(1, 23, 128, 128, 1)\n",
      "(1, 23, 128, 128, 1)\n",
      "(1, 23, 128, 128, 1)\n",
      "(1, 23, 128, 128, 1)\n",
      "(1, 23, 128, 128, 1)\n",
      "(1, 23, 128, 128, 1)\n",
      "(1, 23, 128, 128, 1)\n",
      "(1, 23, 128, 128, 1)\n",
      "(1, 23, 128, 128, 1)\n",
      "(1, 23, 128, 128, 1)\n",
      "(1, 23, 128, 128, 1)\n",
      "(1, 23, 128, 128, 1)\n",
      "(1, 23, 128, 128, 1)\n",
      "(1, 23, 128, 128, 1)\n",
      "(1, 23, 128, 128, 1)\n",
      "(1, 23, 128, 128, 1)\n",
      "(1, 23, 128, 128, 1)\n",
      "(1, 23, 128, 128, 1)\n",
      "(1, 23, 128, 128, 1)\n",
      "(1, 23, 128, 128, 1)\n",
      "(1, 23, 128, 128, 1)\n",
      "(1, 23, 128, 128, 1)\n",
      "(1, 23, 128, 128, 1)\n",
      "(1, 23, 128, 128, 1)\n",
      "(1, 23, 128, 128, 1)\n",
      "(1, 23, 128, 128, 1)\n",
      "(1, 23, 128, 128, 1)\n",
      "(1, 23, 128, 128, 1)\n",
      "(1, 23, 128, 128, 1)\n",
      "(1, 23, 128, 128, 1)\n",
      "(1, 23, 128, 128, 1)\n",
      "(1, 23, 128, 128, 1)\n",
      "(1, 23, 128, 128, 1)\n",
      "(1, 23, 128, 128, 1)\n",
      "(1, 23, 128, 128, 1)\n",
      "(1, 23, 128, 128, 1)\n",
      "(1, 23, 128, 128, 1)\n",
      "(1, 23, 128, 128, 1)\n",
      "(1, 23, 128, 128, 1)\n",
      "(1, 23, 128, 128, 1)\n",
      "(1, 23, 128, 128, 1)\n",
      "(1, 23, 128, 128, 1)\n",
      "(1, 23, 128, 128, 1)\n",
      "(1, 23, 128, 128, 1)\n",
      "(1, 23, 128, 128, 1)\n",
      "(1, 23, 128, 128, 1)\n",
      "(1, 23, 128, 128, 1)\n",
      "(1, 23, 128, 128, 1)\n",
      "(1, 23, 128, 128, 1)\n",
      "(1, 23, 128, 128, 1)\n",
      "(1, 23, 128, 128, 1)\n",
      "(1, 23, 128, 128, 1)\n",
      "(1, 23, 128, 128, 1)\n",
      "(1, 23, 128, 128, 1)\n",
      "(1, 23, 128, 128, 1)\n",
      "(1, 23, 128, 128, 1)\n",
      "(1, 23, 128, 128, 1)\n",
      "(1, 23, 128, 128, 1)\n",
      "(1, 23, 128, 128, 1)\n",
      "(1, 23, 128, 128, 1)\n",
      "(1, 23, 128, 128, 1)\n",
      "(1, 23, 128, 128, 1)\n",
      "(1, 23, 128, 128, 1)\n",
      "(1, 23, 128, 128, 1)\n",
      "(1, 23, 128, 128, 1)\n",
      "(1, 23, 128, 128, 1)\n",
      "(1, 23, 128, 128, 1)\n",
      "(1, 23, 128, 128, 1)\n",
      "(1, 23, 128, 128, 1)\n",
      "(1, 23, 128, 128, 1)\n",
      "(1, 23, 128, 128, 1)\n",
      "(1, 23, 128, 128, 1)\n",
      "(1, 23, 128, 128, 1)\n",
      "(1, 23, 128, 128, 1)\n",
      "(1, 23, 128, 128, 1)\n",
      "(1, 23, 128, 128, 1)\n",
      "(1, 23, 128, 128, 1)\n",
      "(1, 23, 128, 128, 1)\n",
      "(1, 23, 128, 128, 1)\n",
      "(1, 23, 128, 128, 1)\n",
      "(1, 23, 128, 128, 1)\n",
      "(1, 23, 128, 128, 1)\n",
      "(1, 23, 128, 128, 1)\n",
      "(1, 23, 128, 128, 1)\n",
      "(1, 23, 128, 128, 1)\n",
      "(1, 23, 128, 128, 1)\n",
      "(1, 23, 128, 128, 1)\n",
      "(1, 23, 128, 128, 1)\n",
      "(1, 23, 128, 128, 1)\n",
      "(1, 23, 128, 128, 1)\n",
      "(1, 23, 128, 128, 1)\n",
      "(1, 23, 128, 128, 1)\n",
      "(1, 23, 128, 128, 1)\n",
      "(1, 23, 128, 128, 1)\n",
      "(1, 23, 128, 128, 1)\n",
      "(1, 23, 128, 128, 1)\n",
      "(1, 23, 128, 128, 1)\n",
      "(1, 23, 128, 128, 1)\n",
      "(1, 23, 128, 128, 1)\n",
      "(1, 23, 128, 128, 1)\n",
      "(1, 23, 128, 128, 1)\n",
      "(1, 23, 128, 128, 1)\n",
      "(1, 23, 128, 128, 1)\n",
      "(1, 23, 128, 128, 1)\n",
      "(1, 23, 128, 128, 1)\n",
      "(1, 23, 128, 128, 1)\n",
      "(1, 23, 128, 128, 1)\n",
      "(1, 23, 128, 128, 1)\n",
      "(1, 23, 128, 128, 1)\n",
      "(1, 23, 128, 128, 1)\n",
      "(1, 23, 128, 128, 1)\n",
      "(1, 23, 128, 128, 1)\n",
      "(1, 23, 128, 128, 1)\n",
      "(1, 23, 128, 128, 1)\n",
      "(1, 23, 128, 128, 1)\n",
      "Shape of training data: (550, 23, 128, 128, 1)\n",
      "Shape of training labels: (550, 4)\n"
     ]
    }
   ],
   "source": [
    "# Reading training videos and one-hot encoding the training labels\n",
    "X_train = reader.read_videos(train_files)\n",
    "y_train = to_categorical(train_targets, num_classes=4)\n",
    "print('Shape of training data:', X_train.shape)\n",
    "print('Shape of training labels:', y_train.shape)"
   ]
  },
  {
   "cell_type": "code",
   "execution_count": 9,
   "metadata": {},
   "outputs": [
    {
     "name": "stderr",
     "output_type": "stream",
     "text": [
      "\r",
      "  0%|                                                                                          | 0/146 [00:00<?, ?it/s]"
     ]
    },
    {
     "name": "stdout",
     "output_type": "stream",
     "text": [
      "(1, 23, 128, 128, 1)\n",
      "C:\\Users\\gural\\Desktop\\animals\\tiger\\HorizontalFlipVID_20190327_185427translate.mp4\n",
      "\n"
     ]
    },
    {
     "name": "stderr",
     "output_type": "stream",
     "text": [
      "\r",
      "  1%|▌                                                                                 | 1/146 [00:07<18:30,  7.66s/it]"
     ]
    },
    {
     "name": "stdout",
     "output_type": "stream",
     "text": [
      "(1, 23, 128, 128, 1)\n",
      "C:\\Users\\gural\\Desktop\\animals\\tiger\\HorizontalFlipVID_20190327_185548translate.mp4\n",
      "\n"
     ]
    },
    {
     "name": "stderr",
     "output_type": "stream",
     "text": [
      "\r",
      "  1%|█                                                                                 | 2/146 [00:12<16:10,  6.74s/it]"
     ]
    },
    {
     "name": "stdout",
     "output_type": "stream",
     "text": [
      "(1, 23, 128, 128, 1)\n",
      "C:\\Users\\gural\\Desktop\\animals\\tiger\\HorizontalFlipVID_20190327_185440translate.mp4\n",
      "\n"
     ]
    },
    {
     "name": "stderr",
     "output_type": "stream",
     "text": [
      "\r",
      "  2%|█▋                                                                                | 3/146 [00:17<14:58,  6.28s/it]"
     ]
    },
    {
     "name": "stdout",
     "output_type": "stream",
     "text": [
      "(1, 23, 128, 128, 1)\n",
      "C:\\Users\\gural\\Desktop\\animals\\bull\\HorizontalFlipVID_20190327_184838Crop.mp4\n",
      "\n"
     ]
    },
    {
     "name": "stderr",
     "output_type": "stream",
     "text": [
      "\r",
      "  3%|██▏                                                                               | 4/146 [00:19<12:11,  5.15s/it]"
     ]
    },
    {
     "name": "stdout",
     "output_type": "stream",
     "text": [
      "(1, 23, 128, 128, 1)\n",
      "C:\\Users\\gural\\Desktop\\animals\\tiger\\HorizontalFlipVID_20190327_185513Rotate.mp4\n",
      "\n"
     ]
    },
    {
     "name": "stderr",
     "output_type": "stream",
     "text": [
      "\r",
      "  3%|██▊                                                                               | 5/146 [00:24<11:47,  5.02s/it]"
     ]
    },
    {
     "name": "stdout",
     "output_type": "stream",
     "text": [
      "(1, 23, 128, 128, 1)\n",
      "C:\\Users\\gural\\Desktop\\animals\\alligator\\VID_20190327_184404.mp4\n",
      "\n"
     ]
    },
    {
     "name": "stderr",
     "output_type": "stream",
     "text": [
      "\r",
      "  4%|███▎                                                                              | 6/146 [00:29<11:18,  4.85s/it]"
     ]
    },
    {
     "name": "stdout",
     "output_type": "stream",
     "text": [
      "(1, 23, 128, 128, 1)\n",
      "C:\\Users\\gural\\Desktop\\animals\\tiger\\HorizontalFlipVID_20190327_185606Rotate40.mp4\n",
      "\n"
     ]
    },
    {
     "name": "stderr",
     "output_type": "stream",
     "text": [
      "\r",
      "  5%|███▉                                                                              | 7/146 [00:33<11:05,  4.79s/it]"
     ]
    },
    {
     "name": "stdout",
     "output_type": "stream",
     "text": [
      "(1, 23, 128, 128, 1)\n",
      "C:\\Users\\gural\\Desktop\\animals\\mouse\\VID_20190515_184028translate.mp4\n",
      "\n"
     ]
    },
    {
     "name": "stderr",
     "output_type": "stream",
     "text": [
      "\r",
      "  5%|████▍                                                                             | 8/146 [00:43<14:42,  6.39s/it]"
     ]
    },
    {
     "name": "stdout",
     "output_type": "stream",
     "text": [
      "(1, 23, 128, 128, 1)\n",
      "C:\\Users\\gural\\Desktop\\animals\\alligator\\VID_20190327_184415translate.mp4\n",
      "\n"
     ]
    },
    {
     "name": "stderr",
     "output_type": "stream",
     "text": [
      "\r",
      "  6%|█████                                                                             | 9/146 [00:48<13:26,  5.89s/it]"
     ]
    },
    {
     "name": "stdout",
     "output_type": "stream",
     "text": [
      "(1, 23, 128, 128, 1)\n",
      "C:\\Users\\gural\\Desktop\\animals\\tiger\\VID_20190327_185440.mp4\n",
      "\n"
     ]
    },
    {
     "name": "stderr",
     "output_type": "stream",
     "text": [
      "\r",
      "  7%|█████▌                                                                           | 10/146 [00:54<13:10,  5.81s/it]"
     ]
    },
    {
     "name": "stdout",
     "output_type": "stream",
     "text": [
      "(1, 23, 128, 128, 1)\n",
      "C:\\Users\\gural\\Desktop\\animals\\alligator\\HorizontalFlipVID_20190327_184452.mp4\n",
      "\n"
     ]
    },
    {
     "name": "stderr",
     "output_type": "stream",
     "text": [
      "\r",
      "  8%|██████                                                                           | 11/146 [00:58<12:19,  5.48s/it]"
     ]
    },
    {
     "name": "stdout",
     "output_type": "stream",
     "text": [
      "(1, 23, 128, 128, 1)\n",
      "C:\\Users\\gural\\Desktop\\animals\\bull\\VID_20190327_184838Rotate40.mp4\n",
      "\n"
     ]
    },
    {
     "name": "stderr",
     "output_type": "stream",
     "text": [
      "\r",
      "  8%|██████▋                                                                          | 12/146 [01:03<11:32,  5.17s/it]"
     ]
    },
    {
     "name": "stdout",
     "output_type": "stream",
     "text": [
      "(1, 23, 128, 128, 1)\n",
      "C:\\Users\\gural\\Desktop\\animals\\mouse\\VID_20190327_185223Rotate.mp4\n",
      "\n"
     ]
    },
    {
     "name": "stderr",
     "output_type": "stream",
     "text": [
      "\r",
      "  9%|███████▏                                                                         | 13/146 [01:07<11:00,  4.96s/it]"
     ]
    },
    {
     "name": "stdout",
     "output_type": "stream",
     "text": [
      "(1, 23, 128, 128, 1)\n",
      "C:\\Users\\gural\\Desktop\\animals\\tiger\\HorizontalFlipVID_20190327_185518translate.mp4\n",
      "\n"
     ]
    },
    {
     "name": "stderr",
     "output_type": "stream",
     "text": [
      "\r",
      " 10%|███████▊                                                                         | 14/146 [01:12<10:32,  4.79s/it]"
     ]
    },
    {
     "name": "stdout",
     "output_type": "stream",
     "text": [
      "(1, 23, 128, 128, 1)\n",
      "C:\\Users\\gural\\Desktop\\animals\\bull\\HorizontalFlipVID_20190327_184854Rotate.mp4\n",
      "\n"
     ]
    },
    {
     "name": "stderr",
     "output_type": "stream",
     "text": [
      "\r",
      " 10%|████████▎                                                                        | 15/146 [01:15<09:27,  4.33s/it]"
     ]
    },
    {
     "name": "stdout",
     "output_type": "stream",
     "text": [
      "(1, 23, 128, 128, 1)\n",
      "C:\\Users\\gural\\Desktop\\animals\\tiger\\VID_20190327_185548Rotate40.mp4\n",
      "\n"
     ]
    },
    {
     "name": "stderr",
     "output_type": "stream",
     "text": [
      "\r",
      " 11%|████████▉                                                                        | 16/146 [01:20<09:33,  4.41s/it]"
     ]
    },
    {
     "name": "stdout",
     "output_type": "stream",
     "text": [
      "(1, 23, 128, 128, 1)\n",
      "C:\\Users\\gural\\Desktop\\animals\\bull\\VID_20190327_172412translate.mp4\n",
      "\n"
     ]
    },
    {
     "name": "stderr",
     "output_type": "stream",
     "text": [
      "\r",
      " 12%|█████████▍                                                                       | 17/146 [01:24<09:32,  4.44s/it]"
     ]
    },
    {
     "name": "stdout",
     "output_type": "stream",
     "text": [
      "(1, 23, 128, 128, 1)\n",
      "C:\\Users\\gural\\Desktop\\animals\\alligator\\HorizontalFlipVID_20190327_184305Rotate.mp4\n",
      "\n"
     ]
    },
    {
     "name": "stderr",
     "output_type": "stream",
     "text": [
      "\r",
      " 12%|█████████▉                                                                       | 18/146 [01:29<09:59,  4.68s/it]"
     ]
    },
    {
     "name": "stdout",
     "output_type": "stream",
     "text": [
      "(1, 23, 128, 128, 1)\n",
      "C:\\Users\\gural\\Desktop\\animals\\alligator\\VID_20190327_184339Crop.mp4\n",
      "\n"
     ]
    },
    {
     "name": "stderr",
     "output_type": "stream",
     "text": [
      "\r",
      " 13%|██████████▌                                                                      | 19/146 [01:32<08:46,  4.14s/it]"
     ]
    },
    {
     "name": "stdout",
     "output_type": "stream",
     "text": [
      "(1, 23, 128, 128, 1)\n",
      "C:\\Users\\gural\\Desktop\\animals\\mouse\\HorizontalFlipVID_20190327_185343Rotate40.mp4\n",
      "\n"
     ]
    },
    {
     "name": "stderr",
     "output_type": "stream",
     "text": [
      "\r",
      " 14%|███████████                                                                      | 20/146 [01:37<09:11,  4.38s/it]"
     ]
    },
    {
     "name": "stdout",
     "output_type": "stream",
     "text": [
      "(1, 23, 128, 128, 1)\n",
      "C:\\Users\\gural\\Desktop\\animals\\mouse\\HorizontalFlipVID_20190327_185144Rotate.mp4\n",
      "\n"
     ]
    },
    {
     "name": "stderr",
     "output_type": "stream",
     "text": [
      "\r",
      " 14%|███████████▋                                                                     | 21/146 [01:42<09:17,  4.46s/it]"
     ]
    },
    {
     "name": "stdout",
     "output_type": "stream",
     "text": [
      "(1, 23, 128, 128, 1)\n",
      "C:\\Users\\gural\\Desktop\\animals\\alligator\\HorizontalFlipVID_20190327_171910Rotate40.mp4\n",
      "\n"
     ]
    },
    {
     "name": "stderr",
     "output_type": "stream",
     "text": [
      "\r",
      " 15%|████████████▏                                                                    | 22/146 [01:48<10:30,  5.08s/it]"
     ]
    },
    {
     "name": "stdout",
     "output_type": "stream",
     "text": [
      "(1, 23, 128, 128, 1)\n",
      "C:\\Users\\gural\\Desktop\\animals\\mouse\\HorizontalFlipVID_20190327_185139Crop.mp4\n",
      "\n"
     ]
    },
    {
     "name": "stderr",
     "output_type": "stream",
     "text": [
      "\r",
      " 16%|████████████▊                                                                    | 23/146 [01:51<09:05,  4.43s/it]"
     ]
    },
    {
     "name": "stdout",
     "output_type": "stream",
     "text": [
      "(1, 23, 128, 128, 1)\n",
      "C:\\Users\\gural\\Desktop\\animals\\tiger\\HorizontalFlipVID_20190327_185548.mp4\n",
      "\n"
     ]
    },
    {
     "name": "stderr",
     "output_type": "stream",
     "text": [
      "\r",
      " 16%|█████████████▎                                                                   | 24/146 [01:56<09:16,  4.56s/it]"
     ]
    },
    {
     "name": "stdout",
     "output_type": "stream",
     "text": [
      "(1, 23, 128, 128, 1)\n",
      "C:\\Users\\gural\\Desktop\\animals\\bull\\HorizontalFlipVID_20190515_183937Rotate40.mp4\n",
      "\n"
     ]
    },
    {
     "name": "stderr",
     "output_type": "stream",
     "text": [
      "\r",
      " 17%|█████████████▊                                                                   | 25/146 [02:04<11:14,  5.57s/it]"
     ]
    },
    {
     "name": "stdout",
     "output_type": "stream",
     "text": [
      "(1, 23, 128, 128, 1)\n",
      "C:\\Users\\gural\\Desktop\\animals\\alligator\\VID_20190327_171910Rotate40.mp4\n",
      "\n"
     ]
    },
    {
     "name": "stderr",
     "output_type": "stream",
     "text": [
      "\r",
      " 18%|██████████████▍                                                                  | 26/146 [02:11<11:59,  5.99s/it]"
     ]
    },
    {
     "name": "stdout",
     "output_type": "stream",
     "text": [
      "(1, 23, 128, 128, 1)\n",
      "C:\\Users\\gural\\Desktop\\animals\\alligator\\HorizontalFlipVID_20190327_184358translate.mp4\n",
      "\n"
     ]
    },
    {
     "name": "stderr",
     "output_type": "stream",
     "text": [
      "\r",
      " 18%|██████████████▉                                                                  | 27/146 [02:17<11:53,  6.00s/it]"
     ]
    },
    {
     "name": "stdout",
     "output_type": "stream",
     "text": [
      "(1, 23, 128, 128, 1)\n",
      "C:\\Users\\gural\\Desktop\\animals\\mouse\\HorizontalFlipVID_20190515_184018Rotate40.mp4\n",
      "\n"
     ]
    },
    {
     "name": "stderr",
     "output_type": "stream",
     "text": [
      "\r",
      " 19%|███████████████▌                                                                 | 28/146 [02:23<11:54,  6.06s/it]"
     ]
    },
    {
     "name": "stdout",
     "output_type": "stream",
     "text": [
      "(1, 23, 128, 128, 1)\n",
      "C:\\Users\\gural\\Desktop\\animals\\mouse\\HorizontalFlipVID_20190327_185337Rotate.mp4\n",
      "\n"
     ]
    },
    {
     "name": "stderr",
     "output_type": "stream",
     "text": [
      "\r",
      " 20%|████████████████                                                                 | 29/146 [02:27<10:37,  5.45s/it]"
     ]
    },
    {
     "name": "stdout",
     "output_type": "stream",
     "text": [
      "(1, 23, 128, 128, 1)\n",
      "C:\\Users\\gural\\Desktop\\animals\\bull\\HorizontalFlipVID_20190515_183912Rotate.mp4\n",
      "\n"
     ]
    },
    {
     "name": "stderr",
     "output_type": "stream",
     "text": [
      "\r",
      " 21%|████████████████▋                                                                | 30/146 [02:33<10:52,  5.63s/it]"
     ]
    },
    {
     "name": "stdout",
     "output_type": "stream",
     "text": [
      "(1, 23, 128, 128, 1)\n",
      "C:\\Users\\gural\\Desktop\\animals\\mouse\\VID_20190515_184028Rotate40.mp4\n",
      "\n"
     ]
    },
    {
     "name": "stderr",
     "output_type": "stream",
     "text": [
      "\r",
      " 21%|█████████████████▏                                                               | 31/146 [02:43<13:23,  6.98s/it]"
     ]
    },
    {
     "name": "stdout",
     "output_type": "stream",
     "text": [
      "(1, 23, 128, 128, 1)\n",
      "C:\\Users\\gural\\Desktop\\animals\\alligator\\VID_20190327_172003.mp4\n",
      "\n"
     ]
    },
    {
     "name": "stderr",
     "output_type": "stream",
     "text": [
      "\r",
      " 22%|█████████████████▊                                                               | 32/146 [02:49<12:38,  6.65s/it]"
     ]
    },
    {
     "name": "stdout",
     "output_type": "stream",
     "text": [
      "(1, 23, 128, 128, 1)\n",
      "C:\\Users\\gural\\Desktop\\animals\\mouse\\HorizontalFlipVID_20190327_172703translate.mp4\n",
      "\n"
     ]
    },
    {
     "name": "stderr",
     "output_type": "stream",
     "text": [
      "\r",
      " 23%|██████████████████▎                                                              | 33/146 [02:57<13:03,  6.93s/it]"
     ]
    },
    {
     "name": "stdout",
     "output_type": "stream",
     "text": [
      "(1, 23, 128, 128, 1)\n",
      "C:\\Users\\gural\\Desktop\\animals\\mouse\\VID_20190327_185157Crop.mp4\n",
      "\n"
     ]
    },
    {
     "name": "stderr",
     "output_type": "stream",
     "text": [
      "\r",
      " 23%|██████████████████▊                                                              | 34/146 [03:00<10:32,  5.65s/it]"
     ]
    },
    {
     "name": "stdout",
     "output_type": "stream",
     "text": [
      "(1, 23, 128, 128, 1)\n",
      "C:\\Users\\gural\\Desktop\\animals\\bull\\HorizontalFlipVID_20190327_172627Rotate40.mp4\n",
      "\n"
     ]
    },
    {
     "name": "stderr",
     "output_type": "stream",
     "text": [
      "\r",
      " 24%|███████████████████▍                                                             | 35/146 [03:07<11:14,  6.08s/it]"
     ]
    },
    {
     "name": "stdout",
     "output_type": "stream",
     "text": [
      "(1, 23, 128, 128, 1)\n",
      "C:\\Users\\gural\\Desktop\\animals\\tiger\\VID_20190515_183731.mp4\n",
      "\n"
     ]
    },
    {
     "name": "stderr",
     "output_type": "stream",
     "text": [
      "\r",
      " 25%|███████████████████▉                                                             | 36/146 [03:12<10:30,  5.73s/it]"
     ]
    },
    {
     "name": "stdout",
     "output_type": "stream",
     "text": [
      "(1, 23, 128, 128, 1)\n",
      "C:\\Users\\gural\\Desktop\\animals\\alligator\\HorizontalFlipVID_20190327_184510Rotate40.mp4\n",
      "\n"
     ]
    },
    {
     "name": "stderr",
     "output_type": "stream",
     "text": [
      "\r",
      " 25%|████████████████████▌                                                            | 37/146 [03:17<10:05,  5.55s/it]"
     ]
    },
    {
     "name": "stdout",
     "output_type": "stream",
     "text": [
      "(1, 23, 128, 128, 1)\n",
      "C:\\Users\\gural\\Desktop\\animals\\tiger\\HorizontalFlipVID_20190327_185601Rotate40.mp4\n",
      "\n"
     ]
    },
    {
     "name": "stderr",
     "output_type": "stream",
     "text": [
      "\r",
      " 26%|█████████████████████                                                            | 38/146 [03:21<09:23,  5.22s/it]"
     ]
    },
    {
     "name": "stdout",
     "output_type": "stream",
     "text": [
      "(1, 23, 128, 128, 1)\n",
      "C:\\Users\\gural\\Desktop\\animals\\alligator\\VID_20190327_184332.mp4\n",
      "\n"
     ]
    },
    {
     "name": "stderr",
     "output_type": "stream",
     "text": [
      "\r",
      " 27%|█████████████████████▋                                                           | 39/146 [03:26<09:09,  5.14s/it]"
     ]
    },
    {
     "name": "stdout",
     "output_type": "stream",
     "text": [
      "(1, 23, 128, 128, 1)\n",
      "C:\\Users\\gural\\Desktop\\animals\\tiger\\HorizontalFlipVID_20190327_185601.mp4\n",
      "\n"
     ]
    },
    {
     "name": "stderr",
     "output_type": "stream",
     "text": [
      "\r",
      " 27%|██████████████████████▏                                                          | 40/146 [03:31<08:40,  4.91s/it]"
     ]
    },
    {
     "name": "stdout",
     "output_type": "stream",
     "text": [
      "(1, 23, 128, 128, 1)\n",
      "C:\\Users\\gural\\Desktop\\animals\\bull\\VID_20190327_184854Rotate.mp4\n",
      "\n"
     ]
    },
    {
     "name": "stderr",
     "output_type": "stream",
     "text": [
      "\r",
      " 28%|██████████████████████▋                                                          | 41/146 [03:34<07:43,  4.41s/it]"
     ]
    },
    {
     "name": "stdout",
     "output_type": "stream",
     "text": [
      "(1, 23, 128, 128, 1)\n",
      "C:\\Users\\gural\\Desktop\\animals\\mouse\\VID_20190327_185157Rotate.mp4\n",
      "\n"
     ]
    },
    {
     "name": "stderr",
     "output_type": "stream",
     "text": [
      "\r",
      " 29%|███████████████████████▎                                                         | 42/146 [03:38<07:44,  4.47s/it]"
     ]
    },
    {
     "name": "stdout",
     "output_type": "stream",
     "text": [
      "(1, 23, 128, 128, 1)\n",
      "C:\\Users\\gural\\Desktop\\animals\\bull\\VID_20190515_183943Crop.mp4\n",
      "\n"
     ]
    },
    {
     "name": "stderr",
     "output_type": "stream",
     "text": [
      "\r",
      " 29%|███████████████████████▊                                                         | 43/146 [03:42<07:21,  4.29s/it]"
     ]
    },
    {
     "name": "stdout",
     "output_type": "stream",
     "text": [
      "(1, 23, 128, 128, 1)\n",
      "C:\\Users\\gural\\Desktop\\animals\\alligator\\VID_20190327_184452Rotate40.mp4\n",
      "\n"
     ]
    },
    {
     "name": "stderr",
     "output_type": "stream",
     "text": [
      "\r",
      " 30%|████████████████████████▍                                                        | 44/146 [03:47<07:29,  4.40s/it]"
     ]
    },
    {
     "name": "stdout",
     "output_type": "stream",
     "text": [
      "(1, 23, 128, 128, 1)\n",
      "C:\\Users\\gural\\Desktop\\animals\\tiger\\HorizontalFlipVID_20190327_172945Crop.mp4\n",
      "\n"
     ]
    },
    {
     "name": "stderr",
     "output_type": "stream",
     "text": [
      "\r",
      " 31%|████████████████████████▉                                                        | 45/146 [03:50<06:48,  4.05s/it]"
     ]
    },
    {
     "name": "stdout",
     "output_type": "stream",
     "text": [
      "(1, 23, 128, 128, 1)\n",
      "C:\\Users\\gural\\Desktop\\animals\\alligator\\VID_20190327_184234Rotate40.mp4\n",
      "\n"
     ]
    },
    {
     "name": "stderr",
     "output_type": "stream",
     "text": [
      "\r",
      " 32%|█████████████████████████▌                                                       | 46/146 [03:58<08:25,  5.06s/it]"
     ]
    },
    {
     "name": "stdout",
     "output_type": "stream",
     "text": [
      "(1, 23, 128, 128, 1)\n",
      "C:\\Users\\gural\\Desktop\\animals\\alligator\\HorizontalFlipVID_20190327_184300Crop.mp4\n",
      "\n"
     ]
    },
    {
     "name": "stderr",
     "output_type": "stream",
     "text": [
      "\r",
      " 32%|██████████████████████████                                                       | 47/146 [04:00<07:15,  4.40s/it]"
     ]
    },
    {
     "name": "stdout",
     "output_type": "stream",
     "text": [
      "(1, 23, 128, 128, 1)\n",
      "C:\\Users\\gural\\Desktop\\animals\\mouse\\VID_20190327_185343Rotate40.mp4\n",
      "\n"
     ]
    },
    {
     "name": "stderr",
     "output_type": "stream",
     "text": [
      "\r",
      " 33%|██████████████████████████▋                                                      | 48/146 [04:05<07:25,  4.54s/it]"
     ]
    },
    {
     "name": "stdout",
     "output_type": "stream",
     "text": [
      "(1, 23, 128, 128, 1)\n",
      "C:\\Users\\gural\\Desktop\\animals\\mouse\\HorizontalFlipVID_20190327_185230Rotate40.mp4\n",
      "\n"
     ]
    },
    {
     "name": "stderr",
     "output_type": "stream",
     "text": [
      "\r",
      " 34%|███████████████████████████▏                                                     | 49/146 [04:10<07:24,  4.59s/it]"
     ]
    },
    {
     "name": "stdout",
     "output_type": "stream",
     "text": [
      "(1, 23, 128, 128, 1)\n",
      "C:\\Users\\gural\\Desktop\\animals\\alligator\\HorizontalFlipVID_20190327_184332Crop.mp4\n",
      "\n"
     ]
    },
    {
     "name": "stderr",
     "output_type": "stream",
     "text": [
      "\r",
      " 34%|███████████████████████████▋                                                     | 50/146 [04:13<06:29,  4.06s/it]"
     ]
    },
    {
     "name": "stdout",
     "output_type": "stream",
     "text": [
      "(1, 23, 128, 128, 1)\n",
      "C:\\Users\\gural\\Desktop\\animals\\tiger\\HorizontalFlipVID_20190327_173108Rotate.mp4\n",
      "\n"
     ]
    },
    {
     "name": "stderr",
     "output_type": "stream",
     "text": [
      "\r",
      " 35%|████████████████████████████▎                                                    | 51/146 [04:19<07:23,  4.67s/it]"
     ]
    },
    {
     "name": "stdout",
     "output_type": "stream",
     "text": [
      "(1, 23, 128, 128, 1)\n",
      "C:\\Users\\gural\\Desktop\\animals\\alligator\\HorizontalFlipVID_20190327_184358.mp4\n",
      "\n"
     ]
    },
    {
     "name": "stderr",
     "output_type": "stream",
     "text": [
      "\r",
      " 36%|████████████████████████████▊                                                    | 52/146 [04:25<08:02,  5.13s/it]"
     ]
    },
    {
     "name": "stdout",
     "output_type": "stream",
     "text": [
      "(1, 23, 128, 128, 1)\n",
      "C:\\Users\\gural\\Desktop\\animals\\mouse\\VID_20190327_185153Crop.mp4\n",
      "\n"
     ]
    },
    {
     "name": "stderr",
     "output_type": "stream",
     "text": [
      "\r",
      " 36%|█████████████████████████████▍                                                   | 53/146 [04:27<06:35,  4.26s/it]"
     ]
    },
    {
     "name": "stdout",
     "output_type": "stream",
     "text": [
      "(1, 23, 128, 128, 1)\n",
      "C:\\Users\\gural\\Desktop\\animals\\alligator\\VID_20190327_172003translate.mp4\n",
      "\n"
     ]
    },
    {
     "name": "stderr",
     "output_type": "stream",
     "text": [
      "\r",
      " 37%|█████████████████████████████▉                                                   | 54/146 [04:33<07:10,  4.68s/it]"
     ]
    },
    {
     "name": "stdout",
     "output_type": "stream",
     "text": [
      "(1, 23, 128, 128, 1)\n",
      "C:\\Users\\gural\\Desktop\\animals\\alligator\\VID_20190327_184305.mp4\n",
      "\n"
     ]
    },
    {
     "name": "stderr",
     "output_type": "stream",
     "text": [
      "\r",
      " 38%|██████████████████████████████▌                                                  | 55/146 [04:38<07:25,  4.89s/it]"
     ]
    },
    {
     "name": "stdout",
     "output_type": "stream",
     "text": [
      "(1, 23, 128, 128, 1)\n",
      "C:\\Users\\gural\\Desktop\\animals\\mouse\\VID_20190515_184023.mp4\n",
      "\n"
     ]
    },
    {
     "name": "stderr",
     "output_type": "stream",
     "text": [
      "\r",
      " 38%|███████████████████████████████                                                  | 56/146 [04:44<07:42,  5.14s/it]"
     ]
    },
    {
     "name": "stdout",
     "output_type": "stream",
     "text": [
      "(1, 23, 128, 128, 1)\n",
      "C:\\Users\\gural\\Desktop\\animals\\alligator\\VID_20190515_183710Rotate40.mp4\n",
      "\n"
     ]
    },
    {
     "name": "stderr",
     "output_type": "stream",
     "text": [
      "\r",
      " 39%|███████████████████████████████▌                                                 | 57/146 [04:49<07:33,  5.09s/it]"
     ]
    },
    {
     "name": "stdout",
     "output_type": "stream",
     "text": [
      "(1, 23, 128, 128, 1)\n",
      "C:\\Users\\gural\\Desktop\\animals\\mouse\\HorizontalFlipVID_20190515_184028translate.mp4\n",
      "\n"
     ]
    },
    {
     "name": "stderr",
     "output_type": "stream",
     "text": [
      "\r",
      " 40%|████████████████████████████████▏                                                | 58/146 [04:59<09:42,  6.62s/it]"
     ]
    },
    {
     "name": "stdout",
     "output_type": "stream",
     "text": [
      "(1, 23, 128, 128, 1)\n",
      "C:\\Users\\gural\\Desktop\\animals\\alligator\\VID_20190327_184510translate.mp4\n",
      "\n"
     ]
    },
    {
     "name": "stderr",
     "output_type": "stream",
     "text": [
      "\r",
      " 40%|████████████████████████████████▋                                                | 59/146 [05:04<08:52,  6.13s/it]"
     ]
    },
    {
     "name": "stdout",
     "output_type": "stream",
     "text": [
      "(1, 23, 128, 128, 1)\n",
      "C:\\Users\\gural\\Desktop\\animals\\tiger\\VID_20190327_185513.mp4\n",
      "\n"
     ]
    },
    {
     "name": "stderr",
     "output_type": "stream",
     "text": [
      "\r",
      " 41%|█████████████████████████████████▎                                               | 60/146 [05:09<08:11,  5.71s/it]"
     ]
    },
    {
     "name": "stdout",
     "output_type": "stream",
     "text": [
      "(1, 23, 128, 128, 1)\n",
      "C:\\Users\\gural\\Desktop\\animals\\bull\\VID_20190327_185003translate.mp4\n",
      "\n"
     ]
    },
    {
     "name": "stderr",
     "output_type": "stream",
     "text": [
      "\r",
      " 42%|█████████████████████████████████▊                                               | 61/146 [05:14<07:39,  5.40s/it]"
     ]
    },
    {
     "name": "stdout",
     "output_type": "stream",
     "text": [
      "(1, 23, 128, 128, 1)\n",
      "C:\\Users\\gural\\Desktop\\animals\\tiger\\HorizontalFlipVID_20190327_173032Crop.mp4\n",
      "\n"
     ]
    },
    {
     "name": "stderr",
     "output_type": "stream",
     "text": [
      "\r",
      " 42%|██████████████████████████████████▍                                              | 62/146 [05:18<07:12,  5.15s/it]"
     ]
    },
    {
     "name": "stdout",
     "output_type": "stream",
     "text": [
      "(1, 23, 128, 128, 1)\n",
      "C:\\Users\\gural\\Desktop\\animals\\bull\\HorizontalFlipVID_20190327_172316.mp4\n",
      "\n"
     ]
    },
    {
     "name": "stderr",
     "output_type": "stream",
     "text": [
      "\r",
      " 43%|██████████████████████████████████▉                                              | 63/146 [05:22<06:36,  4.78s/it]"
     ]
    },
    {
     "name": "stdout",
     "output_type": "stream",
     "text": [
      "(1, 23, 128, 128, 1)\n",
      "C:\\Users\\gural\\Desktop\\animals\\bull\\HorizontalFlipVID_20190327_185003.mp4\n",
      "\n"
     ]
    },
    {
     "name": "stderr",
     "output_type": "stream",
     "text": [
      "\r",
      " 44%|███████████████████████████████████▌                                             | 64/146 [05:27<06:36,  4.84s/it]"
     ]
    },
    {
     "name": "stdout",
     "output_type": "stream",
     "text": [
      "(1, 23, 128, 128, 1)\n",
      "C:\\Users\\gural\\Desktop\\animals\\alligator\\VID_20190327_184358Crop.mp4\n",
      "\n"
     ]
    },
    {
     "name": "stderr",
     "output_type": "stream",
     "text": [
      "\r",
      " 45%|████████████████████████████████████                                             | 65/146 [05:31<05:59,  4.44s/it]"
     ]
    },
    {
     "name": "stdout",
     "output_type": "stream",
     "text": [
      "(1, 23, 128, 128, 1)\n",
      "C:\\Users\\gural\\Desktop\\animals\\bull\\VID_20190515_183928translate.mp4\n",
      "\n"
     ]
    },
    {
     "name": "stderr",
     "output_type": "stream",
     "text": [
      "\r",
      " 45%|████████████████████████████████████▌                                            | 66/146 [05:34<05:40,  4.26s/it]"
     ]
    },
    {
     "name": "stdout",
     "output_type": "stream",
     "text": [
      "(1, 23, 128, 128, 1)\n",
      "C:\\Users\\gural\\Desktop\\animals\\tiger\\VID_20190327_185427Crop.mp4\n",
      "\n"
     ]
    },
    {
     "name": "stderr",
     "output_type": "stream",
     "text": [
      "\r",
      " 46%|█████████████████████████████████████▏                                           | 67/146 [05:38<05:27,  4.14s/it]"
     ]
    },
    {
     "name": "stdout",
     "output_type": "stream",
     "text": [
      "(1, 23, 128, 128, 1)\n",
      "C:\\Users\\gural\\Desktop\\animals\\mouse\\HorizontalFlipVID_20190327_185144Crop.mp4\n",
      "\n"
     ]
    },
    {
     "name": "stderr",
     "output_type": "stream",
     "text": [
      "\r",
      " 47%|█████████████████████████████████████▋                                           | 68/146 [05:41<04:48,  3.70s/it]"
     ]
    },
    {
     "name": "stdout",
     "output_type": "stream",
     "text": [
      "(1, 23, 128, 128, 1)\n",
      "C:\\Users\\gural\\Desktop\\animals\\tiger\\VID_20190327_172945translate.mp4\n",
      "\n"
     ]
    },
    {
     "name": "stderr",
     "output_type": "stream",
     "text": [
      "\r",
      " 47%|██████████████████████████████████████▎                                          | 69/146 [05:46<05:27,  4.25s/it]"
     ]
    },
    {
     "name": "stdout",
     "output_type": "stream",
     "text": [
      "(1, 23, 128, 128, 1)\n",
      "C:\\Users\\gural\\Desktop\\animals\\alligator\\VID_20190327_171826Rotate.mp4\n",
      "\n"
     ]
    },
    {
     "name": "stderr",
     "output_type": "stream",
     "text": [
      "\r",
      " 48%|██████████████████████████████████████▊                                          | 70/146 [05:52<05:57,  4.70s/it]"
     ]
    },
    {
     "name": "stdout",
     "output_type": "stream",
     "text": [
      "(1, 23, 128, 128, 1)\n",
      "C:\\Users\\gural\\Desktop\\animals\\mouse\\VID_20190327_172736.mp4\n",
      "\n"
     ]
    },
    {
     "name": "stderr",
     "output_type": "stream",
     "text": [
      "\r",
      " 49%|███████████████████████████████████████▍                                         | 71/146 [05:59<06:38,  5.31s/it]"
     ]
    },
    {
     "name": "stdout",
     "output_type": "stream",
     "text": [
      "(1, 23, 128, 128, 1)\n",
      "C:\\Users\\gural\\Desktop\\animals\\alligator\\VID_20190327_171910Crop.mp4\n",
      "\n"
     ]
    },
    {
     "name": "stderr",
     "output_type": "stream",
     "text": [
      "\r",
      " 49%|███████████████████████████████████████▉                                         | 72/146 [06:03<05:58,  4.84s/it]"
     ]
    },
    {
     "name": "stdout",
     "output_type": "stream",
     "text": [
      "(1, 23, 128, 128, 1)\n",
      "C:\\Users\\gural\\Desktop\\animals\\mouse\\VID_20190515_184028Crop.mp4\n",
      "\n"
     ]
    },
    {
     "name": "stderr",
     "output_type": "stream",
     "text": [
      "\r",
      " 50%|████████████████████████████████████████▌                                        | 73/146 [06:09<06:15,  5.15s/it]"
     ]
    },
    {
     "name": "stdout",
     "output_type": "stream",
     "text": [
      "(1, 23, 128, 128, 1)\n",
      "C:\\Users\\gural\\Desktop\\animals\\tiger\\VID_20190327_185513Crop.mp4\n",
      "\n"
     ]
    },
    {
     "name": "stderr",
     "output_type": "stream",
     "text": [
      "\r",
      " 51%|█████████████████████████████████████████                                        | 74/146 [06:11<05:17,  4.40s/it]"
     ]
    },
    {
     "name": "stdout",
     "output_type": "stream",
     "text": [
      "(1, 23, 128, 128, 1)\n",
      "C:\\Users\\gural\\Desktop\\animals\\alligator\\VID_20190327_184415.mp4\n",
      "\n"
     ]
    },
    {
     "name": "stderr",
     "output_type": "stream",
     "text": [
      "\r",
      " 51%|█████████████████████████████████████████▌                                       | 75/146 [06:16<05:20,  4.52s/it]"
     ]
    },
    {
     "name": "stdout",
     "output_type": "stream",
     "text": [
      "(1, 23, 128, 128, 1)\n",
      "C:\\Users\\gural\\Desktop\\animals\\tiger\\HorizontalFlipVID_20190327_185523Rotate.mp4\n",
      "\n"
     ]
    },
    {
     "name": "stderr",
     "output_type": "stream",
     "text": [
      "\r",
      " 52%|██████████████████████████████████████████▏                                      | 76/146 [06:20<05:08,  4.41s/it]"
     ]
    },
    {
     "name": "stdout",
     "output_type": "stream",
     "text": [
      "(1, 23, 128, 128, 1)\n",
      "C:\\Users\\gural\\Desktop\\animals\\alligator\\HorizontalFlipVID_20190327_184415Crop.mp4\n",
      "\n"
     ]
    },
    {
     "name": "stderr",
     "output_type": "stream",
     "text": [
      "\r",
      " 53%|██████████████████████████████████████████▋                                      | 77/146 [06:23<04:31,  3.93s/it]"
     ]
    },
    {
     "name": "stdout",
     "output_type": "stream",
     "text": [
      "(1, 23, 128, 128, 1)\n",
      "C:\\Users\\gural\\Desktop\\animals\\alligator\\HorizontalFlipVID_20190327_184305.mp4\n",
      "\n"
     ]
    },
    {
     "name": "stderr",
     "output_type": "stream",
     "text": [
      "\r",
      " 53%|███████████████████████████████████████████▎                                     | 78/146 [06:28<04:54,  4.33s/it]"
     ]
    },
    {
     "name": "stdout",
     "output_type": "stream",
     "text": [
      "(1, 23, 128, 128, 1)\n",
      "C:\\Users\\gural\\Desktop\\animals\\alligator\\HorizontalFlipVID_20190327_184353Rotate.mp4\n",
      "\n"
     ]
    },
    {
     "name": "stderr",
     "output_type": "stream",
     "text": [
      "\r",
      " 54%|███████████████████████████████████████████▊                                     | 79/146 [06:33<04:53,  4.39s/it]"
     ]
    },
    {
     "name": "stdout",
     "output_type": "stream",
     "text": [
      "(1, 23, 128, 128, 1)\n",
      "C:\\Users\\gural\\Desktop\\animals\\mouse\\HorizontalFlipVID_20190327_185248Crop.mp4\n",
      "\n"
     ]
    },
    {
     "name": "stderr",
     "output_type": "stream",
     "text": [
      "\r",
      " 55%|████████████████████████████████████████████▍                                    | 80/146 [06:35<04:06,  3.74s/it]"
     ]
    },
    {
     "name": "stdout",
     "output_type": "stream",
     "text": [
      "(1, 23, 128, 128, 1)\n",
      "C:\\Users\\gural\\Desktop\\animals\\tiger\\VID_20190327_172945Rotate.mp4\n",
      "\n"
     ]
    },
    {
     "name": "stderr",
     "output_type": "stream",
     "text": [
      "\r",
      " 55%|████████████████████████████████████████████▉                                    | 81/146 [06:41<04:38,  4.29s/it]"
     ]
    },
    {
     "name": "stdout",
     "output_type": "stream",
     "text": [
      "(1, 23, 128, 128, 1)\n",
      "C:\\Users\\gural\\Desktop\\animals\\alligator\\VID_20190327_184452translate.mp4\n",
      "\n"
     ]
    },
    {
     "name": "stderr",
     "output_type": "stream",
     "text": [
      "\r",
      " 56%|█████████████████████████████████████████████▍                                   | 82/146 [06:45<04:41,  4.41s/it]"
     ]
    },
    {
     "name": "stdout",
     "output_type": "stream",
     "text": [
      "(1, 23, 128, 128, 1)\n",
      "C:\\Users\\gural\\Desktop\\animals\\bull\\HorizontalFlipVID_20190515_183928translate.mp4\n",
      "\n"
     ]
    },
    {
     "name": "stderr",
     "output_type": "stream",
     "text": [
      "\r",
      " 57%|██████████████████████████████████████████████                                   | 83/146 [06:49<04:28,  4.26s/it]"
     ]
    },
    {
     "name": "stdout",
     "output_type": "stream",
     "text": [
      "(1, 23, 128, 128, 1)\n",
      "C:\\Users\\gural\\Desktop\\animals\\bull\\HorizontalFlipVID_20190327_184935.mp4\n",
      "\n"
     ]
    },
    {
     "name": "stderr",
     "output_type": "stream",
     "text": [
      "\r",
      " 58%|██████████████████████████████████████████████▌                                  | 84/146 [06:53<04:19,  4.18s/it]"
     ]
    },
    {
     "name": "stdout",
     "output_type": "stream",
     "text": [
      "(1, 23, 128, 128, 1)\n",
      "C:\\Users\\gural\\Desktop\\animals\\bull\\HorizontalFlipVID_20190515_183928Rotate.mp4\n",
      "\n"
     ]
    },
    {
     "name": "stderr",
     "output_type": "stream",
     "text": [
      "\r",
      " 58%|███████████████████████████████████████████████▏                                 | 85/146 [06:57<04:09,  4.10s/it]"
     ]
    },
    {
     "name": "stdout",
     "output_type": "stream",
     "text": [
      "(1, 23, 128, 128, 1)\n",
      "C:\\Users\\gural\\Desktop\\animals\\alligator\\VID_20190327_184325Rotate.mp4\n",
      "\n"
     ]
    },
    {
     "name": "stderr",
     "output_type": "stream",
     "text": [
      "\r",
      " 59%|███████████████████████████████████████████████▋                                 | 86/146 [07:02<04:15,  4.25s/it]"
     ]
    },
    {
     "name": "stdout",
     "output_type": "stream",
     "text": [
      "(1, 23, 128, 128, 1)\n",
      "C:\\Users\\gural\\Desktop\\animals\\alligator\\VID_20190327_184300Rotate.mp4\n",
      "\n"
     ]
    },
    {
     "name": "stderr",
     "output_type": "stream",
     "text": [
      "\r",
      " 60%|████████████████████████████████████████████████▎                                | 87/146 [07:07<04:22,  4.45s/it]"
     ]
    },
    {
     "name": "stdout",
     "output_type": "stream",
     "text": [
      "(1, 23, 128, 128, 1)\n",
      "C:\\Users\\gural\\Desktop\\animals\\mouse\\VID_20190327_185343translate.mp4\n",
      "\n"
     ]
    },
    {
     "name": "stderr",
     "output_type": "stream",
     "text": [
      "\r",
      " 60%|████████████████████████████████████████████████▊                                | 88/146 [07:12<04:26,  4.59s/it]"
     ]
    },
    {
     "name": "stdout",
     "output_type": "stream",
     "text": [
      "(1, 23, 128, 128, 1)\n",
      "C:\\Users\\gural\\Desktop\\animals\\bull\\VID_20190515_183912.mp4\n",
      "\n"
     ]
    },
    {
     "name": "stderr",
     "output_type": "stream",
     "text": [
      "\r",
      " 61%|█████████████████████████████████████████████████▍                               | 89/146 [07:18<04:50,  5.09s/it]"
     ]
    },
    {
     "name": "stdout",
     "output_type": "stream",
     "text": [
      "(1, 23, 128, 128, 1)\n",
      "C:\\Users\\gural\\Desktop\\animals\\tiger\\VID_20190327_185532Rotate40.mp4\n",
      "\n"
     ]
    },
    {
     "name": "stderr",
     "output_type": "stream",
     "text": [
      "\r",
      " 62%|█████████████████████████████████████████████████▉                               | 90/146 [07:22<04:34,  4.89s/it]"
     ]
    },
    {
     "name": "stdout",
     "output_type": "stream",
     "text": [
      "(1, 23, 128, 128, 1)\n",
      "C:\\Users\\gural\\Desktop\\animals\\tiger\\HorizontalFlipVID_20190327_185427Crop.mp4\n",
      "\n"
     ]
    },
    {
     "name": "stderr",
     "output_type": "stream",
     "text": [
      "\r",
      " 62%|██████████████████████████████████████████████████▍                              | 91/146 [07:26<04:12,  4.59s/it]"
     ]
    },
    {
     "name": "stdout",
     "output_type": "stream",
     "text": [
      "(1, 23, 128, 128, 1)\n",
      "C:\\Users\\gural\\Desktop\\animals\\mouse\\HorizontalFlipVID_20190327_185236Crop.mp4\n",
      "\n"
     ]
    },
    {
     "name": "stderr",
     "output_type": "stream",
     "text": [
      "\r",
      " 63%|███████████████████████████████████████████████████                              | 92/146 [07:29<03:33,  3.95s/it]"
     ]
    },
    {
     "name": "stdout",
     "output_type": "stream",
     "text": [
      "(1, 23, 128, 128, 1)\n",
      "C:\\Users\\gural\\Desktop\\animals\\mouse\\HorizontalFlipVID_20190327_172833.mp4\n",
      "\n"
     ]
    },
    {
     "name": "stderr",
     "output_type": "stream",
     "text": [
      "\r",
      " 64%|███████████████████████████████████████████████████▌                             | 93/146 [07:36<04:18,  4.89s/it]"
     ]
    },
    {
     "name": "stdout",
     "output_type": "stream",
     "text": [
      "(1, 23, 128, 128, 1)\n",
      "C:\\Users\\gural\\Desktop\\animals\\tiger\\VID_20190515_183731Rotate.mp4\n",
      "\n"
     ]
    },
    {
     "name": "stderr",
     "output_type": "stream",
     "text": [
      "\r",
      " 64%|████████████████████████████████████████████████████▏                            | 94/146 [07:40<04:11,  4.84s/it]"
     ]
    },
    {
     "name": "stdout",
     "output_type": "stream",
     "text": [
      "(1, 23, 128, 128, 1)\n",
      "C:\\Users\\gural\\Desktop\\animals\\tiger\\VID_20190327_185523Rotate40.mp4\n",
      "\n"
     ]
    },
    {
     "name": "stderr",
     "output_type": "stream",
     "text": [
      "\r",
      " 65%|████████████████████████████████████████████████████▋                            | 95/146 [07:44<03:55,  4.62s/it]"
     ]
    },
    {
     "name": "stdout",
     "output_type": "stream",
     "text": [
      "(1, 23, 128, 128, 1)\n",
      "C:\\Users\\gural\\Desktop\\animals\\mouse\\HorizontalFlipVID_20190515_184013translate.mp4\n",
      "\n"
     ]
    },
    {
     "name": "stderr",
     "output_type": "stream",
     "text": [
      "\r",
      " 66%|█████████████████████████████████████████████████████▎                           | 96/146 [07:50<04:05,  4.90s/it]"
     ]
    },
    {
     "name": "stdout",
     "output_type": "stream",
     "text": [
      "(1, 23, 128, 128, 1)\n",
      "C:\\Users\\gural\\Desktop\\animals\\mouse\\HorizontalFlipVID_20190327_172736Rotate.mp4\n",
      "\n"
     ]
    },
    {
     "name": "stderr",
     "output_type": "stream",
     "text": [
      "\r",
      " 66%|█████████████████████████████████████████████████████▊                           | 97/146 [07:57<04:25,  5.42s/it]"
     ]
    },
    {
     "name": "stdout",
     "output_type": "stream",
     "text": [
      "(1, 23, 128, 128, 1)\n",
      "C:\\Users\\gural\\Desktop\\animals\\alligator\\VID_20190327_184358translate.mp4\n",
      "\n"
     ]
    },
    {
     "name": "stderr",
     "output_type": "stream",
     "text": [
      "\r",
      " 67%|██████████████████████████████████████████████████████▎                          | 98/146 [08:03<04:29,  5.62s/it]"
     ]
    },
    {
     "name": "stdout",
     "output_type": "stream",
     "text": [
      "(1, 23, 128, 128, 1)\n",
      "C:\\Users\\gural\\Desktop\\animals\\mouse\\VID_20190327_172914Crop.mp4\n",
      "\n"
     ]
    },
    {
     "name": "stderr",
     "output_type": "stream",
     "text": [
      "\r",
      " 68%|██████████████████████████████████████████████████████▉                          | 99/146 [08:07<04:03,  5.18s/it]"
     ]
    },
    {
     "name": "stdout",
     "output_type": "stream",
     "text": [
      "(1, 23, 128, 128, 1)\n",
      "C:\\Users\\gural\\Desktop\\animals\\bull\\VID_20190327_172412.mp4\n",
      "\n"
     ]
    },
    {
     "name": "stderr",
     "output_type": "stream",
     "text": [
      "\r",
      " 68%|██████████████████████████████████████████████████████▊                         | 100/146 [08:11<03:50,  5.00s/it]"
     ]
    },
    {
     "name": "stdout",
     "output_type": "stream",
     "text": [
      "(1, 23, 128, 128, 1)\n",
      "C:\\Users\\gural\\Desktop\\animals\\alligator\\HorizontalFlipVID_20190515_183658Rotate40.mp4\n",
      "\n"
     ]
    },
    {
     "name": "stderr",
     "output_type": "stream",
     "text": [
      "\r",
      " 69%|███████████████████████████████████████████████████████▎                        | 101/146 [08:14<03:10,  4.24s/it]"
     ]
    },
    {
     "name": "stdout",
     "output_type": "stream",
     "text": [
      "(1, 23, 128, 128, 1)\n",
      "C:\\Users\\gural\\Desktop\\animals\\bull\\VID_20190327_184737translate.mp4\n",
      "\n"
     ]
    },
    {
     "name": "stderr",
     "output_type": "stream",
     "text": [
      "\r",
      " 70%|███████████████████████████████████████████████████████▉                        | 102/146 [08:18<03:05,  4.23s/it]"
     ]
    },
    {
     "name": "stdout",
     "output_type": "stream",
     "text": [
      "(1, 23, 128, 128, 1)\n",
      "C:\\Users\\gural\\Desktop\\animals\\alligator\\HorizontalFlipVID_20190327_184339translate.mp4\n",
      "\n"
     ]
    },
    {
     "name": "stderr",
     "output_type": "stream",
     "text": [
      "\r",
      " 71%|████████████████████████████████████████████████████████▍                       | 103/146 [08:23<03:11,  4.45s/it]"
     ]
    },
    {
     "name": "stdout",
     "output_type": "stream",
     "text": [
      "(1, 23, 128, 128, 1)\n",
      "C:\\Users\\gural\\Desktop\\animals\\alligator\\HorizontalFlipVID_20190515_183710Crop.mp4\n",
      "\n"
     ]
    },
    {
     "name": "stderr",
     "output_type": "stream",
     "text": [
      "\r",
      " 71%|████████████████████████████████████████████████████████▉                       | 104/146 [08:26<02:46,  3.97s/it]"
     ]
    },
    {
     "name": "stdout",
     "output_type": "stream",
     "text": [
      "(1, 23, 128, 128, 1)\n",
      "C:\\Users\\gural\\Desktop\\animals\\bull\\VID_20190327_184844.mp4\n",
      "\n"
     ]
    },
    {
     "name": "stderr",
     "output_type": "stream",
     "text": [
      "\r",
      " 72%|█████████████████████████████████████████████████████████▌                      | 105/146 [08:31<02:52,  4.22s/it]"
     ]
    },
    {
     "name": "stdout",
     "output_type": "stream",
     "text": [
      "(1, 23, 128, 128, 1)\n",
      "C:\\Users\\gural\\Desktop\\animals\\tiger\\VID_20190327_185508Rotate.mp4\n",
      "\n"
     ]
    },
    {
     "name": "stderr",
     "output_type": "stream",
     "text": [
      "\r",
      " 73%|██████████████████████████████████████████████████████████                      | 106/146 [08:37<03:10,  4.75s/it]"
     ]
    },
    {
     "name": "stdout",
     "output_type": "stream",
     "text": [
      "(1, 23, 128, 128, 1)\n",
      "C:\\Users\\gural\\Desktop\\animals\\tiger\\HorizontalFlipVID_20190327_173008Rotate40.mp4\n",
      "\n"
     ]
    },
    {
     "name": "stderr",
     "output_type": "stream",
     "text": [
      "\r",
      " 73%|██████████████████████████████████████████████████████████▋                     | 107/146 [08:43<03:18,  5.09s/it]"
     ]
    },
    {
     "name": "stdout",
     "output_type": "stream",
     "text": [
      "(1, 23, 128, 128, 1)\n",
      "C:\\Users\\gural\\Desktop\\animals\\tiger\\VID_20190515_183740translate.mp4\n",
      "\n"
     ]
    },
    {
     "name": "stderr",
     "output_type": "stream",
     "text": [
      "\r",
      " 74%|███████████████████████████████████████████████████████████▏                    | 108/146 [08:47<03:05,  4.88s/it]"
     ]
    },
    {
     "name": "stdout",
     "output_type": "stream",
     "text": [
      "(1, 23, 128, 128, 1)\n",
      "C:\\Users\\gural\\Desktop\\animals\\alligator\\VID_20190327_184320Crop.mp4\n",
      "\n"
     ]
    },
    {
     "name": "stderr",
     "output_type": "stream",
     "text": [
      "\r",
      " 75%|███████████████████████████████████████████████████████████▋                    | 109/146 [08:50<02:42,  4.39s/it]"
     ]
    },
    {
     "name": "stdout",
     "output_type": "stream",
     "text": [
      "(1, 23, 128, 128, 1)\n",
      "C:\\Users\\gural\\Desktop\\animals\\mouse\\VID_20190327_185144.mp4\n",
      "\n"
     ]
    },
    {
     "name": "stderr",
     "output_type": "stream",
     "text": [
      "\r",
      " 75%|████████████████████████████████████████████████████████████▎                   | 110/146 [08:55<02:41,  4.48s/it]"
     ]
    },
    {
     "name": "stdout",
     "output_type": "stream",
     "text": [
      "(1, 23, 128, 128, 1)\n",
      "C:\\Users\\gural\\Desktop\\animals\\mouse\\HorizontalFlipVID_20190327_185236Rotate.mp4\n",
      "\n"
     ]
    },
    {
     "name": "stderr",
     "output_type": "stream",
     "text": [
      "\r",
      " 76%|████████████████████████████████████████████████████████████▊                   | 111/146 [08:59<02:33,  4.39s/it]"
     ]
    },
    {
     "name": "stdout",
     "output_type": "stream",
     "text": [
      "(1, 23, 128, 128, 1)\n",
      "C:\\Users\\gural\\Desktop\\animals\\bull\\VID_20190327_184957Crop.mp4\n",
      "\n"
     ]
    },
    {
     "name": "stderr",
     "output_type": "stream",
     "text": [
      "\r",
      " 77%|█████████████████████████████████████████████████████████████▎                  | 112/146 [09:02<02:08,  3.79s/it]"
     ]
    },
    {
     "name": "stdout",
     "output_type": "stream",
     "text": [
      "(1, 23, 128, 128, 1)\n",
      "C:\\Users\\gural\\Desktop\\animals\\bull\\VID_20190327_184854translate.mp4\n",
      "\n"
     ]
    },
    {
     "name": "stderr",
     "output_type": "stream",
     "text": [
      "\r",
      " 77%|█████████████████████████████████████████████████████████████▉                  | 113/146 [09:05<01:59,  3.63s/it]"
     ]
    },
    {
     "name": "stdout",
     "output_type": "stream",
     "text": [
      "(1, 23, 128, 128, 1)\n",
      "C:\\Users\\gural\\Desktop\\animals\\mouse\\HorizontalFlipVID_20190515_184028Rotate40.mp4\n",
      "\n"
     ]
    },
    {
     "name": "stderr",
     "output_type": "stream",
     "text": [
      "\r",
      " 78%|██████████████████████████████████████████████████████████████▍                 | 114/146 [09:15<02:57,  5.55s/it]"
     ]
    },
    {
     "name": "stdout",
     "output_type": "stream",
     "text": [
      "(1, 23, 128, 128, 1)\n",
      "C:\\Users\\gural\\Desktop\\animals\\alligator\\HorizontalFlipVID_20190327_184510Rotate.mp4\n",
      "\n"
     ]
    },
    {
     "name": "stderr",
     "output_type": "stream",
     "text": [
      "\r",
      " 79%|███████████████████████████████████████████████████████████████                 | 115/146 [09:20<02:46,  5.39s/it]"
     ]
    },
    {
     "name": "stdout",
     "output_type": "stream",
     "text": [
      "(1, 23, 128, 128, 1)\n",
      "C:\\Users\\gural\\Desktop\\animals\\mouse\\VID_20190327_185157translate.mp4\n",
      "\n"
     ]
    },
    {
     "name": "stderr",
     "output_type": "stream",
     "text": [
      "\r",
      " 79%|███████████████████████████████████████████████████████████████▌                | 116/146 [09:24<02:33,  5.11s/it]"
     ]
    },
    {
     "name": "stdout",
     "output_type": "stream",
     "text": [
      "(1, 23, 128, 128, 1)\n",
      "C:\\Users\\gural\\Desktop\\animals\\tiger\\HorizontalFlipVID_20190327_185434Crop.mp4\n",
      "\n"
     ]
    },
    {
     "name": "stderr",
     "output_type": "stream",
     "text": [
      "\r",
      " 80%|████████████████████████████████████████████████████████████████                | 117/146 [09:27<02:10,  4.49s/it]"
     ]
    },
    {
     "name": "stdout",
     "output_type": "stream",
     "text": [
      "(1, 23, 128, 128, 1)\n",
      "C:\\Users\\gural\\Desktop\\animals\\alligator\\VID_20190327_171910translate.mp4\n",
      "\n"
     ]
    },
    {
     "name": "stderr",
     "output_type": "stream",
     "text": [
      "\r",
      " 81%|████████████████████████████████████████████████████████████████▋               | 118/146 [09:34<02:22,  5.10s/it]"
     ]
    },
    {
     "name": "stdout",
     "output_type": "stream",
     "text": [
      "(1, 23, 128, 128, 1)\n",
      "C:\\Users\\gural\\Desktop\\animals\\tiger\\VID_20190327_173108Crop.mp4\n",
      "\n"
     ]
    },
    {
     "name": "stderr",
     "output_type": "stream",
     "text": [
      "\r",
      " 82%|█████████████████████████████████████████████████████████████████▏              | 119/146 [09:37<02:04,  4.60s/it]"
     ]
    },
    {
     "name": "stdout",
     "output_type": "stream",
     "text": [
      "(1, 23, 128, 128, 1)\n",
      "C:\\Users\\gural\\Desktop\\animals\\bull\\VID_20190515_183928Rotate40.mp4\n",
      "\n"
     ]
    },
    {
     "name": "stderr",
     "output_type": "stream",
     "text": [
      "\r",
      " 82%|█████████████████████████████████████████████████████████████████▊              | 120/146 [09:41<01:54,  4.39s/it]"
     ]
    },
    {
     "name": "stdout",
     "output_type": "stream",
     "text": [
      "(1, 23, 128, 128, 1)\n",
      "C:\\Users\\gural\\Desktop\\animals\\mouse\\HorizontalFlipVID_20190327_185337Crop.mp4\n",
      "\n"
     ]
    },
    {
     "name": "stderr",
     "output_type": "stream",
     "text": [
      "\r",
      " 83%|██████████████████████████████████████████████████████████████████▎             | 121/146 [09:44<01:34,  3.78s/it]"
     ]
    },
    {
     "name": "stdout",
     "output_type": "stream",
     "text": [
      "(1, 23, 128, 128, 1)\n",
      "C:\\Users\\gural\\Desktop\\animals\\tiger\\VID_20190515_183740Crop.mp4\n",
      "\n"
     ]
    },
    {
     "name": "stderr",
     "output_type": "stream",
     "text": [
      "\r",
      " 84%|██████████████████████████████████████████████████████████████████▊             | 122/146 [09:46<01:22,  3.43s/it]"
     ]
    },
    {
     "name": "stdout",
     "output_type": "stream",
     "text": [
      "(1, 23, 128, 128, 1)\n",
      "C:\\Users\\gural\\Desktop\\animals\\tiger\\VID_20190515_183731Rotate40.mp4\n",
      "\n"
     ]
    },
    {
     "name": "stderr",
     "output_type": "stream",
     "text": [
      "\r",
      " 84%|███████████████████████████████████████████████████████████████████▍            | 123/146 [09:51<01:28,  3.84s/it]"
     ]
    },
    {
     "name": "stdout",
     "output_type": "stream",
     "text": [
      "(1, 23, 128, 128, 1)\n",
      "C:\\Users\\gural\\Desktop\\animals\\bull\\VID_20190327_184935Rotate40.mp4\n",
      "\n"
     ]
    },
    {
     "name": "stderr",
     "output_type": "stream",
     "text": [
      "\r",
      " 85%|███████████████████████████████████████████████████████████████████▉            | 124/146 [09:55<01:23,  3.81s/it]"
     ]
    },
    {
     "name": "stdout",
     "output_type": "stream",
     "text": [
      "(1, 23, 128, 128, 1)\n",
      "C:\\Users\\gural\\Desktop\\animals\\alligator\\VID_20190327_184339Rotate40.mp4\n",
      "\n"
     ]
    },
    {
     "name": "stderr",
     "output_type": "stream",
     "text": [
      "\r",
      " 86%|████████████████████████████████████████████████████████████████████▍           | 125/146 [10:00<01:27,  4.16s/it]"
     ]
    },
    {
     "name": "stdout",
     "output_type": "stream",
     "text": [
      "(1, 23, 128, 128, 1)\n",
      "C:\\Users\\gural\\Desktop\\animals\\tiger\\HorizontalFlipVID_20190327_173008Rotate.mp4\n",
      "\n"
     ]
    },
    {
     "name": "stderr",
     "output_type": "stream",
     "text": [
      "\r",
      " 86%|█████████████████████████████████████████████████████████████████████           | 126/146 [10:05<01:32,  4.60s/it]"
     ]
    },
    {
     "name": "stdout",
     "output_type": "stream",
     "text": [
      "(1, 23, 128, 128, 1)\n",
      "C:\\Users\\gural\\Desktop\\animals\\bull\\VID_20190327_185003Rotate.mp4\n",
      "\n"
     ]
    },
    {
     "name": "stderr",
     "output_type": "stream",
     "text": [
      "\r",
      " 87%|█████████████████████████████████████████████████████████████████████▌          | 127/146 [10:10<01:28,  4.64s/it]"
     ]
    },
    {
     "name": "stdout",
     "output_type": "stream",
     "text": [
      "(1, 23, 128, 128, 1)\n",
      "C:\\Users\\gural\\Desktop\\animals\\tiger\\HorizontalFlipVID_20190327_185518Rotate.mp4\n",
      "\n"
     ]
    },
    {
     "name": "stderr",
     "output_type": "stream",
     "text": [
      "\r",
      " 88%|██████████████████████████████████████████████████████████████████████▏         | 128/146 [10:14<01:22,  4.57s/it]"
     ]
    },
    {
     "name": "stdout",
     "output_type": "stream",
     "text": [
      "(1, 23, 128, 128, 1)\n",
      "C:\\Users\\gural\\Desktop\\animals\\mouse\\HorizontalFlipVID_20190327_185139Rotate.mp4\n",
      "\n"
     ]
    },
    {
     "name": "stderr",
     "output_type": "stream",
     "text": [
      "\r",
      " 88%|██████████████████████████████████████████████████████████████████████▋         | 129/146 [10:19<01:18,  4.59s/it]"
     ]
    },
    {
     "name": "stdout",
     "output_type": "stream",
     "text": [
      "(1, 23, 128, 128, 1)\n",
      "C:\\Users\\gural\\Desktop\\animals\\alligator\\HorizontalFlipVID_20190327_184234Rotate.mp4\n",
      "\n"
     ]
    },
    {
     "name": "stderr",
     "output_type": "stream",
     "text": [
      "\r",
      " 89%|███████████████████████████████████████████████████████████████████████▏        | 130/146 [10:26<01:26,  5.44s/it]"
     ]
    },
    {
     "name": "stdout",
     "output_type": "stream",
     "text": [
      "(1, 23, 128, 128, 1)\n",
      "C:\\Users\\gural\\Desktop\\animals\\alligator\\VID_20190515_183658Rotate.mp4\n",
      "\n"
     ]
    },
    {
     "name": "stderr",
     "output_type": "stream",
     "text": [
      "\r",
      " 90%|███████████████████████████████████████████████████████████████████████▊        | 131/146 [10:29<01:08,  4.55s/it]"
     ]
    },
    {
     "name": "stdout",
     "output_type": "stream",
     "text": [
      "(1, 23, 128, 128, 1)\n",
      "C:\\Users\\gural\\Desktop\\animals\\bull\\HorizontalFlipVID_20190327_184748Rotate.mp4\n",
      "\n"
     ]
    },
    {
     "name": "stderr",
     "output_type": "stream",
     "text": [
      "\r",
      " 90%|████████████████████████████████████████████████████████████████████████▎       | 132/146 [10:34<01:06,  4.74s/it]"
     ]
    },
    {
     "name": "stdout",
     "output_type": "stream",
     "text": [
      "(1, 23, 128, 128, 1)\n",
      "C:\\Users\\gural\\Desktop\\animals\\alligator\\VID_20190327_184415Crop.mp4\n",
      "\n"
     ]
    },
    {
     "name": "stderr",
     "output_type": "stream",
     "text": [
      "\r",
      " 91%|████████████████████████████████████████████████████████████████████████▉       | 133/146 [10:37<00:53,  4.13s/it]"
     ]
    },
    {
     "name": "stdout",
     "output_type": "stream",
     "text": [
      "(1, 23, 128, 128, 1)\n",
      "C:\\Users\\gural\\Desktop\\animals\\alligator\\VID_20190515_183710translate.mp4\n",
      "\n"
     ]
    },
    {
     "name": "stderr",
     "output_type": "stream",
     "text": [
      "\r",
      " 92%|█████████████████████████████████████████████████████████████████████████▍      | 134/146 [10:42<00:52,  4.37s/it]"
     ]
    },
    {
     "name": "stdout",
     "output_type": "stream",
     "text": [
      "(1, 23, 128, 128, 1)\n",
      "C:\\Users\\gural\\Desktop\\animals\\tiger\\HorizontalFlipVID_20190327_185427Rotate40.mp4\n",
      "\n"
     ]
    },
    {
     "name": "stderr",
     "output_type": "stream",
     "text": [
      "\r",
      " 92%|█████████████████████████████████████████████████████████████████████████▉      | 135/146 [10:49<00:56,  5.11s/it]"
     ]
    },
    {
     "name": "stdout",
     "output_type": "stream",
     "text": [
      "(1, 23, 128, 128, 1)\n",
      "C:\\Users\\gural\\Desktop\\animals\\alligator\\HorizontalFlipVID_20190327_184223Rotate.mp4\n",
      "\n"
     ]
    },
    {
     "name": "stderr",
     "output_type": "stream",
     "text": [
      "\r",
      " 93%|██████████████████████████████████████████████████████████████████████████▌     | 136/146 [10:54<00:50,  5.07s/it]"
     ]
    },
    {
     "name": "stdout",
     "output_type": "stream",
     "text": [
      "(1, 23, 128, 128, 1)\n",
      "C:\\Users\\gural\\Desktop\\animals\\bull\\VID_20190515_183928.mp4\n",
      "\n"
     ]
    },
    {
     "name": "stderr",
     "output_type": "stream",
     "text": [
      "\r",
      " 94%|███████████████████████████████████████████████████████████████████████████     | 137/146 [10:58<00:42,  4.78s/it]"
     ]
    },
    {
     "name": "stdout",
     "output_type": "stream",
     "text": [
      "(1, 23, 128, 128, 1)\n",
      "C:\\Users\\gural\\Desktop\\animals\\mouse\\VID_20190327_185157.mp4\n",
      "\n"
     ]
    },
    {
     "name": "stderr",
     "output_type": "stream",
     "text": [
      "\r",
      " 95%|███████████████████████████████████████████████████████████████████████████▌    | 138/146 [11:02<00:37,  4.74s/it]"
     ]
    },
    {
     "name": "stdout",
     "output_type": "stream",
     "text": [
      "(1, 23, 128, 128, 1)\n",
      "C:\\Users\\gural\\Desktop\\animals\\mouse\\HorizontalFlipVID_20190327_172736Rotate40.mp4\n",
      "\n"
     ]
    },
    {
     "name": "stderr",
     "output_type": "stream",
     "text": [
      "\r",
      " 95%|████████████████████████████████████████████████████████████████████████████▏   | 139/146 [11:09<00:37,  5.32s/it]"
     ]
    },
    {
     "name": "stdout",
     "output_type": "stream",
     "text": [
      "(1, 23, 128, 128, 1)\n",
      "C:\\Users\\gural\\Desktop\\animals\\tiger\\VID_20190327_185518.mp4\n",
      "\n"
     ]
    },
    {
     "name": "stderr",
     "output_type": "stream",
     "text": [
      "\r",
      " 96%|████████████████████████████████████████████████████████████████████████████▋   | 140/146 [11:14<00:30,  5.08s/it]"
     ]
    },
    {
     "name": "stdout",
     "output_type": "stream",
     "text": [
      "(1, 23, 128, 128, 1)\n",
      "C:\\Users\\gural\\Desktop\\animals\\bull\\HorizontalFlipVID_20190515_183943.mp4\n",
      "\n"
     ]
    },
    {
     "name": "stderr",
     "output_type": "stream",
     "text": [
      "\r",
      " 97%|█████████████████████████████████████████████████████████████████████████████▎  | 141/146 [11:20<00:27,  5.55s/it]"
     ]
    },
    {
     "name": "stdout",
     "output_type": "stream",
     "text": [
      "(1, 23, 128, 128, 1)\n",
      "C:\\Users\\gural\\Desktop\\animals\\mouse\\VID_20190327_185343.mp4\n",
      "\n"
     ]
    },
    {
     "name": "stderr",
     "output_type": "stream",
     "text": [
      "\r",
      " 97%|█████████████████████████████████████████████████████████████████████████████▊  | 142/146 [11:25<00:21,  5.39s/it]"
     ]
    },
    {
     "name": "stdout",
     "output_type": "stream",
     "text": [
      "(1, 23, 128, 128, 1)\n",
      "C:\\Users\\gural\\Desktop\\animals\\mouse\\HorizontalFlipVID_20190515_184018.mp4\n",
      "\n"
     ]
    },
    {
     "name": "stderr",
     "output_type": "stream",
     "text": [
      "\r",
      " 98%|██████████████████████████████████████████████████████████████████████████████▎ | 143/146 [11:31<00:16,  5.62s/it]"
     ]
    },
    {
     "name": "stdout",
     "output_type": "stream",
     "text": [
      "(1, 23, 128, 128, 1)\n",
      "C:\\Users\\gural\\Desktop\\animals\\bull\\HorizontalFlipVID_20190515_183943Rotate40.mp4\n",
      "\n"
     ]
    },
    {
     "name": "stderr",
     "output_type": "stream",
     "text": [
      "\r",
      " 99%|██████████████████████████████████████████████████████████████████████████████▉ | 144/146 [11:38<00:11,  5.91s/it]"
     ]
    },
    {
     "name": "stdout",
     "output_type": "stream",
     "text": [
      "(1, 23, 128, 128, 1)\n",
      "C:\\Users\\gural\\Desktop\\animals\\alligator\\VID_20190327_172003Crop.mp4\n",
      "\n"
     ]
    },
    {
     "name": "stderr",
     "output_type": "stream",
     "text": [
      "\r",
      " 99%|███████████████████████████████████████████████████████████████████████████████▍| 145/146 [11:41<00:05,  5.12s/it]"
     ]
    },
    {
     "name": "stdout",
     "output_type": "stream",
     "text": [
      "(1, 23, 128, 128, 1)\n",
      "C:\\Users\\gural\\Desktop\\animals\\alligator\\HorizontalFlipVID_20190327_171826translate.mp4\n",
      "\n"
     ]
    },
    {
     "name": "stderr",
     "output_type": "stream",
     "text": [
      "100%|████████████████████████████████████████████████████████████████████████████████| 146/146 [11:47<00:00,  5.30s/it]\n"
     ]
    },
    {
     "name": "stdout",
     "output_type": "stream",
     "text": [
      "(1, 23, 128, 128, 1)\n",
      "(1, 23, 128, 128, 1)\n",
      "(1, 23, 128, 128, 1)\n",
      "(1, 23, 128, 128, 1)\n",
      "(1, 23, 128, 128, 1)\n",
      "(1, 23, 128, 128, 1)\n",
      "(1, 23, 128, 128, 1)\n",
      "(1, 23, 128, 128, 1)\n",
      "(1, 23, 128, 128, 1)\n",
      "(1, 23, 128, 128, 1)\n",
      "(1, 23, 128, 128, 1)\n",
      "(1, 23, 128, 128, 1)\n",
      "(1, 23, 128, 128, 1)\n",
      "(1, 23, 128, 128, 1)\n",
      "(1, 23, 128, 128, 1)\n",
      "(1, 23, 128, 128, 1)\n",
      "(1, 23, 128, 128, 1)\n",
      "(1, 23, 128, 128, 1)\n",
      "(1, 23, 128, 128, 1)\n",
      "(1, 23, 128, 128, 1)\n",
      "(1, 23, 128, 128, 1)\n",
      "(1, 23, 128, 128, 1)\n",
      "(1, 23, 128, 128, 1)\n",
      "(1, 23, 128, 128, 1)\n",
      "(1, 23, 128, 128, 1)\n",
      "(1, 23, 128, 128, 1)\n",
      "(1, 23, 128, 128, 1)\n",
      "(1, 23, 128, 128, 1)\n",
      "(1, 23, 128, 128, 1)\n",
      "(1, 23, 128, 128, 1)\n",
      "(1, 23, 128, 128, 1)\n",
      "(1, 23, 128, 128, 1)\n",
      "(1, 23, 128, 128, 1)\n",
      "(1, 23, 128, 128, 1)\n",
      "(1, 23, 128, 128, 1)\n",
      "(1, 23, 128, 128, 1)\n",
      "(1, 23, 128, 128, 1)\n",
      "(1, 23, 128, 128, 1)\n",
      "(1, 23, 128, 128, 1)\n",
      "(1, 23, 128, 128, 1)\n",
      "(1, 23, 128, 128, 1)\n",
      "(1, 23, 128, 128, 1)\n",
      "(1, 23, 128, 128, 1)\n",
      "(1, 23, 128, 128, 1)\n",
      "(1, 23, 128, 128, 1)\n",
      "(1, 23, 128, 128, 1)\n",
      "(1, 23, 128, 128, 1)\n",
      "(1, 23, 128, 128, 1)\n",
      "(1, 23, 128, 128, 1)\n",
      "(1, 23, 128, 128, 1)\n",
      "(1, 23, 128, 128, 1)\n",
      "(1, 23, 128, 128, 1)\n",
      "(1, 23, 128, 128, 1)\n",
      "(1, 23, 128, 128, 1)\n",
      "(1, 23, 128, 128, 1)\n",
      "(1, 23, 128, 128, 1)\n",
      "(1, 23, 128, 128, 1)\n",
      "(1, 23, 128, 128, 1)\n",
      "(1, 23, 128, 128, 1)\n",
      "(1, 23, 128, 128, 1)\n",
      "(1, 23, 128, 128, 1)\n",
      "(1, 23, 128, 128, 1)\n",
      "(1, 23, 128, 128, 1)\n",
      "(1, 23, 128, 128, 1)\n",
      "(1, 23, 128, 128, 1)\n",
      "(1, 23, 128, 128, 1)\n",
      "(1, 23, 128, 128, 1)\n",
      "(1, 23, 128, 128, 1)\n",
      "(1, 23, 128, 128, 1)\n",
      "(1, 23, 128, 128, 1)\n",
      "(1, 23, 128, 128, 1)\n",
      "(1, 23, 128, 128, 1)\n",
      "(1, 23, 128, 128, 1)\n",
      "(1, 23, 128, 128, 1)\n",
      "(1, 23, 128, 128, 1)\n",
      "(1, 23, 128, 128, 1)\n",
      "(1, 23, 128, 128, 1)\n",
      "(1, 23, 128, 128, 1)\n",
      "(1, 23, 128, 128, 1)\n",
      "(1, 23, 128, 128, 1)\n",
      "(1, 23, 128, 128, 1)\n",
      "(1, 23, 128, 128, 1)\n",
      "(1, 23, 128, 128, 1)\n",
      "(1, 23, 128, 128, 1)\n",
      "(1, 23, 128, 128, 1)\n",
      "(1, 23, 128, 128, 1)\n",
      "(1, 23, 128, 128, 1)\n",
      "(1, 23, 128, 128, 1)\n",
      "(1, 23, 128, 128, 1)\n",
      "(1, 23, 128, 128, 1)\n",
      "(1, 23, 128, 128, 1)\n",
      "(1, 23, 128, 128, 1)\n",
      "(1, 23, 128, 128, 1)\n",
      "(1, 23, 128, 128, 1)\n",
      "(1, 23, 128, 128, 1)\n",
      "(1, 23, 128, 128, 1)\n",
      "(1, 23, 128, 128, 1)\n",
      "(1, 23, 128, 128, 1)\n",
      "(1, 23, 128, 128, 1)\n",
      "(1, 23, 128, 128, 1)\n",
      "(1, 23, 128, 128, 1)\n",
      "(1, 23, 128, 128, 1)\n",
      "(1, 23, 128, 128, 1)\n",
      "(1, 23, 128, 128, 1)\n",
      "(1, 23, 128, 128, 1)\n",
      "(1, 23, 128, 128, 1)\n",
      "(1, 23, 128, 128, 1)\n",
      "(1, 23, 128, 128, 1)\n",
      "(1, 23, 128, 128, 1)\n",
      "(1, 23, 128, 128, 1)\n",
      "(1, 23, 128, 128, 1)\n",
      "(1, 23, 128, 128, 1)\n",
      "(1, 23, 128, 128, 1)\n",
      "(1, 23, 128, 128, 1)\n",
      "(1, 23, 128, 128, 1)\n",
      "(1, 23, 128, 128, 1)\n",
      "(1, 23, 128, 128, 1)\n",
      "(1, 23, 128, 128, 1)\n",
      "(1, 23, 128, 128, 1)\n",
      "(1, 23, 128, 128, 1)\n",
      "(1, 23, 128, 128, 1)\n",
      "(1, 23, 128, 128, 1)\n",
      "(1, 23, 128, 128, 1)\n",
      "(1, 23, 128, 128, 1)\n",
      "(1, 23, 128, 128, 1)\n",
      "(1, 23, 128, 128, 1)\n",
      "(1, 23, 128, 128, 1)\n",
      "(1, 23, 128, 128, 1)\n",
      "(1, 23, 128, 128, 1)\n",
      "(1, 23, 128, 128, 1)\n",
      "(1, 23, 128, 128, 1)\n",
      "(1, 23, 128, 128, 1)\n",
      "(1, 23, 128, 128, 1)\n",
      "(1, 23, 128, 128, 1)\n",
      "(1, 23, 128, 128, 1)\n",
      "(1, 23, 128, 128, 1)\n",
      "(1, 23, 128, 128, 1)\n",
      "(1, 23, 128, 128, 1)\n",
      "(1, 23, 128, 128, 1)\n",
      "(1, 23, 128, 128, 1)\n",
      "(1, 23, 128, 128, 1)\n",
      "(1, 23, 128, 128, 1)\n",
      "(1, 23, 128, 128, 1)\n",
      "(1, 23, 128, 128, 1)\n",
      "(1, 23, 128, 128, 1)\n",
      "(1, 23, 128, 128, 1)\n",
      "Shape of validation data: (146, 23, 128, 128, 1)\n",
      "Shape of validation labels: (146, 4)\n"
     ]
    }
   ],
   "source": [
    "# Reading validation videos and one-hot encoding the validation labels\n",
    "X_valid = reader.read_videos(valid_files)\n",
    "y_valid = to_categorical(valid_targets, num_classes=4)\n",
    "print('Shape of validation data:', X_valid.shape)\n",
    "print('Shape of validation labels:', y_valid.shape)"
   ]
  },
  {
   "cell_type": "code",
   "execution_count": 10,
   "metadata": {},
   "outputs": [
    {
     "name": "stderr",
     "output_type": "stream",
     "text": [
      "\r",
      "  0%|                                                                                          | 0/140 [00:00<?, ?it/s]"
     ]
    },
    {
     "name": "stdout",
     "output_type": "stream",
     "text": [
      "(1, 23, 128, 128, 1)\n",
      "C:\\Users\\gural\\Desktop\\animals\\mouse\\VID_20190327_185330.mp4\n",
      "\n"
     ]
    },
    {
     "name": "stderr",
     "output_type": "stream",
     "text": [
      "\r",
      "  1%|▌                                                                                 | 1/140 [00:05<12:30,  5.40s/it]"
     ]
    },
    {
     "name": "stdout",
     "output_type": "stream",
     "text": [
      "(1, 23, 128, 128, 1)\n",
      "C:\\Users\\gural\\Desktop\\animals\\tiger\\HorizontalFlipVID_20190327_185447Rotate.mp4\n",
      "\n"
     ]
    },
    {
     "name": "stderr",
     "output_type": "stream",
     "text": [
      "\r",
      "  1%|█▏                                                                                | 2/140 [00:09<11:50,  5.15s/it]"
     ]
    },
    {
     "name": "stdout",
     "output_type": "stream",
     "text": [
      "(1, 23, 128, 128, 1)\n",
      "C:\\Users\\gural\\Desktop\\animals\\tiger\\HorizontalFlipVID_20190515_183731translate.mp4\n",
      "\n"
     ]
    },
    {
     "name": "stderr",
     "output_type": "stream",
     "text": [
      "\r",
      "  2%|█▊                                                                                | 3/140 [00:14<11:23,  4.99s/it]"
     ]
    },
    {
     "name": "stdout",
     "output_type": "stream",
     "text": [
      "(1, 23, 128, 128, 1)\n",
      "C:\\Users\\gural\\Desktop\\animals\\mouse\\VID_20190327_172833translate.mp4\n",
      "\n"
     ]
    },
    {
     "name": "stderr",
     "output_type": "stream",
     "text": [
      "\r",
      "  3%|██▎                                                                               | 4/140 [00:21<12:34,  5.55s/it]"
     ]
    },
    {
     "name": "stdout",
     "output_type": "stream",
     "text": [
      "(1, 23, 128, 128, 1)\n",
      "C:\\Users\\gural\\Desktop\\animals\\alligator\\HorizontalFlipVID_20190327_184325Rotate.mp4\n",
      "\n"
     ]
    },
    {
     "name": "stderr",
     "output_type": "stream",
     "text": [
      "\r",
      "  4%|██▉                                                                               | 5/140 [00:26<11:49,  5.26s/it]"
     ]
    },
    {
     "name": "stdout",
     "output_type": "stream",
     "text": [
      "(1, 23, 128, 128, 1)\n",
      "C:\\Users\\gural\\Desktop\\animals\\alligator\\VID_20190327_184305Rotate40.mp4\n",
      "\n"
     ]
    },
    {
     "name": "stderr",
     "output_type": "stream",
     "text": [
      "\r",
      "  4%|███▌                                                                              | 6/140 [00:31<11:41,  5.23s/it]"
     ]
    },
    {
     "name": "stdout",
     "output_type": "stream",
     "text": [
      "(1, 23, 128, 128, 1)\n",
      "C:\\Users\\gural\\Desktop\\animals\\tiger\\VID_20190327_185434Crop.mp4\n",
      "\n"
     ]
    },
    {
     "name": "stderr",
     "output_type": "stream",
     "text": [
      "\r",
      "  5%|████                                                                              | 7/140 [00:34<10:09,  4.58s/it]"
     ]
    },
    {
     "name": "stdout",
     "output_type": "stream",
     "text": [
      "(1, 23, 128, 128, 1)\n",
      "C:\\Users\\gural\\Desktop\\animals\\alligator\\VID_20190327_184457.mp4\n",
      "\n"
     ]
    },
    {
     "name": "stderr",
     "output_type": "stream",
     "text": [
      "\r",
      "  6%|████▋                                                                             | 8/140 [00:38<09:46,  4.44s/it]"
     ]
    },
    {
     "name": "stdout",
     "output_type": "stream",
     "text": [
      "(1, 23, 128, 128, 1)\n",
      "C:\\Users\\gural\\Desktop\\animals\\bull\\HorizontalFlipVID_20190327_172316Rotate40.mp4\n",
      "\n"
     ]
    },
    {
     "name": "stderr",
     "output_type": "stream",
     "text": [
      "\r",
      "  6%|█████▎                                                                            | 9/140 [00:42<09:20,  4.28s/it]"
     ]
    },
    {
     "name": "stdout",
     "output_type": "stream",
     "text": [
      "(1, 23, 128, 128, 1)\n",
      "C:\\Users\\gural\\Desktop\\animals\\alligator\\VID_20190327_184305translate.mp4\n",
      "\n"
     ]
    },
    {
     "name": "stderr",
     "output_type": "stream",
     "text": [
      "\r",
      "  7%|█████▊                                                                           | 10/140 [00:47<09:50,  4.54s/it]"
     ]
    },
    {
     "name": "stdout",
     "output_type": "stream",
     "text": [
      "(1, 23, 128, 128, 1)\n",
      "C:\\Users\\gural\\Desktop\\animals\\alligator\\HorizontalFlipVID_20190327_171826Rotate.mp4\n",
      "\n"
     ]
    },
    {
     "name": "stderr",
     "output_type": "stream",
     "text": [
      "\r",
      "  8%|██████▎                                                                          | 11/140 [00:53<10:31,  4.90s/it]"
     ]
    },
    {
     "name": "stdout",
     "output_type": "stream",
     "text": [
      "(1, 23, 128, 128, 1)\n",
      "C:\\Users\\gural\\Desktop\\animals\\mouse\\VID_20190327_185248translate.mp4\n",
      "\n"
     ]
    },
    {
     "name": "stderr",
     "output_type": "stream",
     "text": [
      "\r",
      "  9%|██████▉                                                                          | 12/140 [00:56<09:44,  4.56s/it]"
     ]
    },
    {
     "name": "stdout",
     "output_type": "stream",
     "text": [
      "(1, 23, 128, 128, 1)\n",
      "C:\\Users\\gural\\Desktop\\animals\\mouse\\VID_20190327_185144Crop.mp4\n",
      "\n"
     ]
    },
    {
     "name": "stderr",
     "output_type": "stream",
     "text": [
      "\r",
      "  9%|███████▌                                                                         | 13/140 [00:59<08:34,  4.05s/it]"
     ]
    },
    {
     "name": "stdout",
     "output_type": "stream",
     "text": [
      "(1, 23, 128, 128, 1)\n",
      "C:\\Users\\gural\\Desktop\\animals\\alligator\\VID_20190327_184457translate.mp4\n",
      "\n"
     ]
    },
    {
     "name": "stderr",
     "output_type": "stream",
     "text": [
      "\r",
      " 10%|████████                                                                         | 14/140 [01:03<08:30,  4.05s/it]"
     ]
    },
    {
     "name": "stdout",
     "output_type": "stream",
     "text": [
      "(1, 23, 128, 128, 1)\n",
      "C:\\Users\\gural\\Desktop\\animals\\tiger\\HorizontalFlipVID_20190327_185601translate.mp4\n",
      "\n"
     ]
    },
    {
     "name": "stderr",
     "output_type": "stream",
     "text": [
      "\r",
      " 11%|████████▋                                                                        | 15/140 [01:08<08:40,  4.17s/it]"
     ]
    },
    {
     "name": "stdout",
     "output_type": "stream",
     "text": [
      "(1, 23, 128, 128, 1)\n",
      "C:\\Users\\gural\\Desktop\\animals\\alligator\\VID_20190327_184353Rotate40.mp4\n",
      "\n"
     ]
    },
    {
     "name": "stderr",
     "output_type": "stream",
     "text": [
      "\r",
      " 11%|█████████▎                                                                       | 16/140 [01:12<08:44,  4.23s/it]"
     ]
    },
    {
     "name": "stdout",
     "output_type": "stream",
     "text": [
      "(1, 23, 128, 128, 1)\n",
      "C:\\Users\\gural\\Desktop\\animals\\tiger\\HorizontalFlipVID_20190327_185508Rotate.mp4\n",
      "\n"
     ]
    },
    {
     "name": "stderr",
     "output_type": "stream",
     "text": [
      "\r",
      " 12%|█████████▊                                                                       | 17/140 [01:18<09:47,  4.77s/it]"
     ]
    },
    {
     "name": "stdout",
     "output_type": "stream",
     "text": [
      "(1, 23, 128, 128, 1)\n",
      "C:\\Users\\gural\\Desktop\\animals\\alligator\\HorizontalFlipVID_20190327_171910translate.mp4\n",
      "\n"
     ]
    },
    {
     "name": "stderr",
     "output_type": "stream",
     "text": [
      "\r",
      " 13%|██████████▍                                                                      | 18/140 [01:25<10:45,  5.29s/it]"
     ]
    },
    {
     "name": "stdout",
     "output_type": "stream",
     "text": [
      "(1, 23, 128, 128, 1)\n",
      "C:\\Users\\gural\\Desktop\\animals\\alligator\\VID_20190327_184320.mp4\n",
      "\n"
     ]
    },
    {
     "name": "stderr",
     "output_type": "stream",
     "text": [
      "\r",
      " 14%|██████████▉                                                                      | 19/140 [01:30<10:46,  5.35s/it]"
     ]
    },
    {
     "name": "stdout",
     "output_type": "stream",
     "text": [
      "(1, 23, 128, 128, 1)\n",
      "C:\\Users\\gural\\Desktop\\animals\\tiger\\VID_20190327_185434.mp4\n",
      "\n"
     ]
    },
    {
     "name": "stderr",
     "output_type": "stream",
     "text": [
      "\r",
      " 14%|███████████▌                                                                     | 20/140 [01:36<10:42,  5.35s/it]"
     ]
    },
    {
     "name": "stdout",
     "output_type": "stream",
     "text": [
      "(1, 23, 128, 128, 1)\n",
      "C:\\Users\\gural\\Desktop\\animals\\mouse\\HorizontalFlipVID_20190327_185330Crop.mp4\n",
      "\n"
     ]
    },
    {
     "name": "stderr",
     "output_type": "stream",
     "text": [
      "\r",
      " 15%|████████████▏                                                                    | 21/140 [01:39<09:12,  4.64s/it]"
     ]
    },
    {
     "name": "stdout",
     "output_type": "stream",
     "text": [
      "(1, 23, 128, 128, 1)\n",
      "C:\\Users\\gural\\Desktop\\animals\\alligator\\VID_20190327_184510Rotate.mp4\n",
      "\n"
     ]
    },
    {
     "name": "stderr",
     "output_type": "stream",
     "text": [
      "\r",
      " 16%|████████████▋                                                                    | 22/140 [01:43<09:19,  4.74s/it]"
     ]
    },
    {
     "name": "stdout",
     "output_type": "stream",
     "text": [
      "(1, 23, 128, 128, 1)\n",
      "C:\\Users\\gural\\Desktop\\animals\\alligator\\HorizontalFlipVID_20190327_184358Crop.mp4\n",
      "\n"
     ]
    },
    {
     "name": "stderr",
     "output_type": "stream",
     "text": [
      "\r",
      " 16%|█████████████▎                                                                   | 23/140 [01:47<08:30,  4.36s/it]"
     ]
    },
    {
     "name": "stdout",
     "output_type": "stream",
     "text": [
      "(1, 23, 128, 128, 1)\n",
      "C:\\Users\\gural\\Desktop\\animals\\tiger\\VID_20190327_185440Crop.mp4\n",
      "\n"
     ]
    },
    {
     "name": "stderr",
     "output_type": "stream",
     "text": [
      "\r",
      " 17%|█████████████▉                                                                   | 24/140 [01:50<07:38,  3.95s/it]"
     ]
    },
    {
     "name": "stdout",
     "output_type": "stream",
     "text": [
      "(1, 23, 128, 128, 1)\n",
      "C:\\Users\\gural\\Desktop\\animals\\mouse\\HorizontalFlipVID_20190327_185139translate.mp4\n",
      "\n"
     ]
    },
    {
     "name": "stderr",
     "output_type": "stream",
     "text": [
      "\r",
      " 18%|██████████████▍                                                                  | 25/140 [01:55<07:58,  4.16s/it]"
     ]
    },
    {
     "name": "stdout",
     "output_type": "stream",
     "text": [
      "(1, 23, 128, 128, 1)\n",
      "C:\\Users\\gural\\Desktop\\animals\\mouse\\HorizontalFlipVID_20190327_185337translate.mp4\n",
      "\n"
     ]
    },
    {
     "name": "stderr",
     "output_type": "stream",
     "text": [
      "\r",
      " 19%|███████████████                                                                  | 26/140 [01:59<07:47,  4.11s/it]"
     ]
    },
    {
     "name": "stdout",
     "output_type": "stream",
     "text": [
      "(1, 23, 128, 128, 1)\n",
      "C:\\Users\\gural\\Desktop\\animals\\bull\\HorizontalFlipVID_20190327_184935Rotate40.mp4\n",
      "\n"
     ]
    },
    {
     "name": "stderr",
     "output_type": "stream",
     "text": [
      "\r",
      " 19%|███████████████▌                                                                 | 27/140 [02:02<07:30,  3.99s/it]"
     ]
    },
    {
     "name": "stdout",
     "output_type": "stream",
     "text": [
      "(1, 23, 128, 128, 1)\n",
      "C:\\Users\\gural\\Desktop\\animals\\alligator\\VID_20190327_172127translate.mp4\n",
      "\n"
     ]
    },
    {
     "name": "stderr",
     "output_type": "stream",
     "text": [
      "\r",
      " 20%|████████████████▏                                                                | 28/140 [02:10<09:21,  5.01s/it]"
     ]
    },
    {
     "name": "stdout",
     "output_type": "stream",
     "text": [
      "(1, 23, 128, 128, 1)\n",
      "C:\\Users\\gural\\Desktop\\animals\\tiger\\HorizontalFlipVID_20190515_183755Rotate.mp4\n",
      "\n"
     ]
    },
    {
     "name": "stderr",
     "output_type": "stream",
     "text": [
      "\r",
      " 21%|████████████████▊                                                                | 29/140 [02:13<08:35,  4.64s/it]"
     ]
    },
    {
     "name": "stdout",
     "output_type": "stream",
     "text": [
      "(1, 23, 128, 128, 1)\n",
      "C:\\Users\\gural\\Desktop\\animals\\mouse\\VID_20190515_184018translate.mp4\n",
      "\n"
     ]
    },
    {
     "name": "stderr",
     "output_type": "stream",
     "text": [
      "\r",
      " 21%|█████████████████▎                                                               | 30/140 [02:20<09:29,  5.18s/it]"
     ]
    },
    {
     "name": "stdout",
     "output_type": "stream",
     "text": [
      "(1, 23, 128, 128, 1)\n",
      "C:\\Users\\gural\\Desktop\\animals\\tiger\\HorizontalFlipVID_20190327_172945.mp4\n",
      "\n"
     ]
    },
    {
     "name": "stderr",
     "output_type": "stream",
     "text": [
      "\r",
      " 22%|█████████████████▉                                                               | 31/140 [02:26<09:40,  5.32s/it]"
     ]
    },
    {
     "name": "stdout",
     "output_type": "stream",
     "text": [
      "(1, 23, 128, 128, 1)\n",
      "C:\\Users\\gural\\Desktop\\animals\\mouse\\HorizontalFlipVID_20190327_172833translate.mp4\n",
      "\n"
     ]
    },
    {
     "name": "stderr",
     "output_type": "stream",
     "text": [
      "\r",
      " 23%|██████████████████▌                                                              | 32/140 [02:32<10:24,  5.79s/it]"
     ]
    },
    {
     "name": "stdout",
     "output_type": "stream",
     "text": [
      "(1, 23, 128, 128, 1)\n",
      "C:\\Users\\gural\\Desktop\\animals\\bull\\HorizontalFlipVID_20190327_184737.mp4\n",
      "\n"
     ]
    },
    {
     "name": "stderr",
     "output_type": "stream",
     "text": [
      "\r",
      " 24%|███████████████████                                                              | 33/140 [02:37<09:29,  5.32s/it]"
     ]
    },
    {
     "name": "stdout",
     "output_type": "stream",
     "text": [
      "(1, 23, 128, 128, 1)\n",
      "C:\\Users\\gural\\Desktop\\animals\\mouse\\VID_20190327_172914translate.mp4\n",
      "\n"
     ]
    },
    {
     "name": "stderr",
     "output_type": "stream",
     "text": [
      "\r",
      " 24%|███████████████████▋                                                             | 34/140 [02:44<10:22,  5.88s/it]"
     ]
    },
    {
     "name": "stdout",
     "output_type": "stream",
     "text": [
      "(1, 23, 128, 128, 1)\n",
      "C:\\Users\\gural\\Desktop\\animals\\bull\\VID_20190327_184820Rotate40.mp4\n",
      "\n"
     ]
    },
    {
     "name": "stderr",
     "output_type": "stream",
     "text": [
      "\r",
      " 25%|████████████████████▎                                                            | 35/140 [02:48<09:25,  5.38s/it]"
     ]
    },
    {
     "name": "stdout",
     "output_type": "stream",
     "text": [
      "(1, 23, 128, 128, 1)\n",
      "C:\\Users\\gural\\Desktop\\animals\\alligator\\HorizontalFlipVID_20190327_172127Rotate40.mp4\n",
      "\n"
     ]
    },
    {
     "name": "stderr",
     "output_type": "stream",
     "text": [
      "\r",
      " 26%|████████████████████▊                                                            | 36/140 [02:55<10:22,  5.99s/it]"
     ]
    },
    {
     "name": "stdout",
     "output_type": "stream",
     "text": [
      "(1, 23, 128, 128, 1)\n",
      "C:\\Users\\gural\\Desktop\\animals\\tiger\\VID_20190327_185434translate.mp4\n",
      "\n"
     ]
    },
    {
     "name": "stderr",
     "output_type": "stream",
     "text": [
      "\r",
      " 26%|█████████████████████▍                                                           | 37/140 [03:01<10:00,  5.83s/it]"
     ]
    },
    {
     "name": "stdout",
     "output_type": "stream",
     "text": [
      "(1, 23, 128, 128, 1)\n",
      "C:\\Users\\gural\\Desktop\\animals\\mouse\\HorizontalFlipVID_20190327_172914Rotate40.mp4\n",
      "\n"
     ]
    },
    {
     "name": "stderr",
     "output_type": "stream",
     "text": [
      "\r",
      " 27%|█████████████████████▉                                                           | 38/140 [03:08<10:35,  6.23s/it]"
     ]
    },
    {
     "name": "stdout",
     "output_type": "stream",
     "text": [
      "(1, 23, 128, 128, 1)\n",
      "C:\\Users\\gural\\Desktop\\animals\\tiger\\VID_20190327_185447Crop.mp4\n",
      "\n"
     ]
    },
    {
     "name": "stderr",
     "output_type": "stream",
     "text": [
      "\r",
      " 28%|██████████████████████▌                                                          | 39/140 [03:11<08:35,  5.11s/it]"
     ]
    },
    {
     "name": "stdout",
     "output_type": "stream",
     "text": [
      "(1, 23, 128, 128, 1)\n",
      "C:\\Users\\gural\\Desktop\\animals\\mouse\\HorizontalFlipVID_20190327_185324.mp4\n",
      "\n"
     ]
    },
    {
     "name": "stderr",
     "output_type": "stream",
     "text": [
      "\r",
      " 29%|███████████████████████▏                                                         | 40/140 [03:16<08:32,  5.12s/it]"
     ]
    },
    {
     "name": "stdout",
     "output_type": "stream",
     "text": [
      "(1, 23, 128, 128, 1)\n",
      "C:\\Users\\gural\\Desktop\\animals\\bull\\VID_20190327_184838translate.mp4\n",
      "\n"
     ]
    },
    {
     "name": "stderr",
     "output_type": "stream",
     "text": [
      "\r",
      " 29%|███████████████████████▋                                                         | 41/140 [03:20<08:00,  4.85s/it]"
     ]
    },
    {
     "name": "stdout",
     "output_type": "stream",
     "text": [
      "(1, 23, 128, 128, 1)\n",
      "C:\\Users\\gural\\Desktop\\animals\\bull\\HorizontalFlipVID_20190327_184820.mp4\n",
      "\n"
     ]
    },
    {
     "name": "stderr",
     "output_type": "stream",
     "text": [
      "\r",
      " 30%|████████████████████████▎                                                        | 42/140 [03:25<07:47,  4.77s/it]"
     ]
    },
    {
     "name": "stdout",
     "output_type": "stream",
     "text": [
      "(1, 23, 128, 128, 1)\n",
      "C:\\Users\\gural\\Desktop\\animals\\alligator\\VID_20190327_172003Rotate.mp4\n",
      "\n"
     ]
    },
    {
     "name": "stderr",
     "output_type": "stream",
     "text": [
      "\r",
      " 31%|████████████████████████▉                                                        | 43/140 [03:30<08:14,  5.10s/it]"
     ]
    },
    {
     "name": "stdout",
     "output_type": "stream",
     "text": [
      "(1, 23, 128, 128, 1)\n",
      "C:\\Users\\gural\\Desktop\\animals\\mouse\\VID_20190327_185343Crop.mp4\n",
      "\n"
     ]
    },
    {
     "name": "stderr",
     "output_type": "stream",
     "text": [
      "\r",
      " 31%|█████████████████████████▍                                                       | 44/140 [03:33<07:03,  4.41s/it]"
     ]
    },
    {
     "name": "stdout",
     "output_type": "stream",
     "text": [
      "(1, 23, 128, 128, 1)\n",
      "C:\\Users\\gural\\Desktop\\animals\\bull\\HorizontalFlipVID_20190327_184737translate.mp4\n",
      "\n"
     ]
    },
    {
     "name": "stderr",
     "output_type": "stream",
     "text": [
      "\r",
      " 32%|██████████████████████████                                                       | 45/140 [03:37<06:54,  4.36s/it]"
     ]
    },
    {
     "name": "stdout",
     "output_type": "stream",
     "text": [
      "(1, 23, 128, 128, 1)\n",
      "C:\\Users\\gural\\Desktop\\animals\\mouse\\VID_20190327_185157Rotate40.mp4\n",
      "\n"
     ]
    },
    {
     "name": "stderr",
     "output_type": "stream",
     "text": [
      "\r",
      " 33%|██████████████████████████▌                                                      | 46/140 [03:42<06:54,  4.41s/it]"
     ]
    },
    {
     "name": "stdout",
     "output_type": "stream",
     "text": [
      "(1, 23, 128, 128, 1)\n",
      "C:\\Users\\gural\\Desktop\\animals\\mouse\\HorizontalFlipVID_20190327_185248Rotate.mp4\n",
      "\n"
     ]
    },
    {
     "name": "stderr",
     "output_type": "stream",
     "text": [
      "\r",
      " 34%|███████████████████████████▏                                                     | 47/140 [03:46<06:33,  4.23s/it]"
     ]
    },
    {
     "name": "stdout",
     "output_type": "stream",
     "text": [
      "(1, 23, 128, 128, 1)\n",
      "C:\\Users\\gural\\Desktop\\animals\\alligator\\VID_20190327_184332Rotate.mp4\n",
      "\n"
     ]
    },
    {
     "name": "stderr",
     "output_type": "stream",
     "text": [
      "\r",
      " 34%|███████████████████████████▊                                                     | 48/140 [03:51<06:46,  4.42s/it]"
     ]
    },
    {
     "name": "stdout",
     "output_type": "stream",
     "text": [
      "(1, 23, 128, 128, 1)\n",
      "C:\\Users\\gural\\Desktop\\animals\\alligator\\VID_20190327_184300translate.mp4\n",
      "\n"
     ]
    },
    {
     "name": "stderr",
     "output_type": "stream",
     "text": [
      "\r",
      " 35%|████████████████████████████▎                                                    | 49/140 [03:56<06:54,  4.56s/it]"
     ]
    },
    {
     "name": "stdout",
     "output_type": "stream",
     "text": [
      "(1, 23, 128, 128, 1)\n",
      "C:\\Users\\gural\\Desktop\\animals\\alligator\\HorizontalFlipVID_20190327_184404.mp4\n",
      "\n"
     ]
    },
    {
     "name": "stderr",
     "output_type": "stream",
     "text": [
      "\r",
      " 36%|████████████████████████████▉                                                    | 50/140 [04:00<06:43,  4.48s/it]"
     ]
    },
    {
     "name": "stdout",
     "output_type": "stream",
     "text": [
      "(1, 23, 128, 128, 1)\n",
      "C:\\Users\\gural\\Desktop\\animals\\alligator\\VID_20190327_184502Rotate40.mp4\n",
      "\n"
     ]
    },
    {
     "name": "stderr",
     "output_type": "stream",
     "text": [
      "\r",
      " 36%|█████████████████████████████▌                                                   | 51/140 [04:05<07:01,  4.74s/it]"
     ]
    },
    {
     "name": "stdout",
     "output_type": "stream",
     "text": [
      "(1, 23, 128, 128, 1)\n",
      "C:\\Users\\gural\\Desktop\\animals\\bull\\HorizontalFlipVID_20190327_184820translate.mp4\n",
      "\n"
     ]
    },
    {
     "name": "stderr",
     "output_type": "stream",
     "text": [
      "\r",
      " 37%|██████████████████████████████                                                   | 52/140 [04:09<06:42,  4.58s/it]"
     ]
    },
    {
     "name": "stdout",
     "output_type": "stream",
     "text": [
      "(1, 23, 128, 128, 1)\n",
      "C:\\Users\\gural\\Desktop\\animals\\mouse\\VID_20190327_185248Rotate40.mp4\n",
      "\n"
     ]
    },
    {
     "name": "stderr",
     "output_type": "stream",
     "text": [
      "\r",
      " 38%|██████████████████████████████▋                                                  | 53/140 [04:13<06:19,  4.36s/it]"
     ]
    },
    {
     "name": "stdout",
     "output_type": "stream",
     "text": [
      "(1, 23, 128, 128, 1)\n",
      "C:\\Users\\gural\\Desktop\\animals\\tiger\\VID_20190327_173032translate.mp4\n",
      "\n"
     ]
    },
    {
     "name": "stderr",
     "output_type": "stream",
     "text": [
      "\r",
      " 39%|███████████████████████████████▏                                                 | 54/140 [04:21<07:45,  5.42s/it]"
     ]
    },
    {
     "name": "stdout",
     "output_type": "stream",
     "text": [
      "(1, 23, 128, 128, 1)\n",
      "C:\\Users\\gural\\Desktop\\animals\\mouse\\VID_20190327_185337Rotate40.mp4\n",
      "\n"
     ]
    },
    {
     "name": "stderr",
     "output_type": "stream",
     "text": [
      "\r",
      " 39%|███████████████████████████████▊                                                 | 55/140 [04:25<07:05,  5.00s/it]"
     ]
    },
    {
     "name": "stdout",
     "output_type": "stream",
     "text": [
      "(1, 23, 128, 128, 1)\n",
      "C:\\Users\\gural\\Desktop\\animals\\tiger\\VID_20190515_183755Crop.mp4\n",
      "\n"
     ]
    },
    {
     "name": "stderr",
     "output_type": "stream",
     "text": [
      "\r",
      " 40%|████████████████████████████████▍                                                | 56/140 [04:27<05:49,  4.16s/it]"
     ]
    },
    {
     "name": "stdout",
     "output_type": "stream",
     "text": [
      "(1, 23, 128, 128, 1)\n",
      "C:\\Users\\gural\\Desktop\\animals\\bull\\VID_20190327_172316Crop.mp4\n",
      "\n"
     ]
    },
    {
     "name": "stderr",
     "output_type": "stream",
     "text": [
      "\r",
      " 41%|████████████████████████████████▉                                                | 57/140 [04:30<05:04,  3.67s/it]"
     ]
    },
    {
     "name": "stdout",
     "output_type": "stream",
     "text": [
      "(1, 23, 128, 128, 1)\n",
      "C:\\Users\\gural\\Desktop\\animals\\tiger\\HorizontalFlipVID_20190327_173032Rotate40.mp4\n",
      "\n"
     ]
    },
    {
     "name": "stderr",
     "output_type": "stream",
     "text": [
      "\r",
      " 41%|█████████████████████████████████▌                                               | 58/140 [04:38<06:48,  4.98s/it]"
     ]
    },
    {
     "name": "stdout",
     "output_type": "stream",
     "text": [
      "(1, 23, 128, 128, 1)\n",
      "C:\\Users\\gural\\Desktop\\animals\\alligator\\HorizontalFlipVID_20190327_184404Rotate40.mp4\n",
      "\n"
     ]
    },
    {
     "name": "stderr",
     "output_type": "stream",
     "text": [
      "\r",
      " 42%|██████████████████████████████████▏                                              | 59/140 [04:42<06:27,  4.78s/it]"
     ]
    },
    {
     "name": "stdout",
     "output_type": "stream",
     "text": [
      "(1, 23, 128, 128, 1)\n",
      "C:\\Users\\gural\\Desktop\\animals\\bull\\VID_20190327_172627.mp4\n",
      "\n"
     ]
    },
    {
     "name": "stderr",
     "output_type": "stream",
     "text": [
      "\r",
      " 43%|██████████████████████████████████▋                                              | 60/140 [04:50<07:23,  5.55s/it]"
     ]
    },
    {
     "name": "stdout",
     "output_type": "stream",
     "text": [
      "(1, 23, 128, 128, 1)\n",
      "C:\\Users\\gural\\Desktop\\animals\\mouse\\HorizontalFlipVID_20190327_185230translate.mp4\n",
      "\n"
     ]
    },
    {
     "name": "stderr",
     "output_type": "stream",
     "text": [
      "\r",
      " 44%|███████████████████████████████████▎                                             | 61/140 [04:54<06:55,  5.26s/it]"
     ]
    },
    {
     "name": "stdout",
     "output_type": "stream",
     "text": [
      "(1, 23, 128, 128, 1)\n",
      "C:\\Users\\gural\\Desktop\\animals\\mouse\\VID_20190515_184013Rotate40.mp4\n",
      "\n"
     ]
    },
    {
     "name": "stderr",
     "output_type": "stream",
     "text": [
      "\r",
      " 44%|███████████████████████████████████▊                                             | 62/140 [05:00<07:00,  5.39s/it]"
     ]
    },
    {
     "name": "stdout",
     "output_type": "stream",
     "text": [
      "(1, 23, 128, 128, 1)\n",
      "C:\\Users\\gural\\Desktop\\animals\\alligator\\VID_20190327_184325.mp4\n",
      "\n"
     ]
    },
    {
     "name": "stderr",
     "output_type": "stream",
     "text": [
      "\r",
      " 45%|████████████████████████████████████▍                                            | 63/140 [05:05<06:40,  5.21s/it]"
     ]
    },
    {
     "name": "stdout",
     "output_type": "stream",
     "text": [
      "(1, 23, 128, 128, 1)\n",
      "C:\\Users\\gural\\Desktop\\animals\\alligator\\HorizontalFlipVID_20190327_184320translate.mp4\n",
      "\n"
     ]
    },
    {
     "name": "stderr",
     "output_type": "stream",
     "text": [
      "\r",
      " 46%|█████████████████████████████████████                                            | 64/140 [05:10<06:38,  5.25s/it]"
     ]
    },
    {
     "name": "stdout",
     "output_type": "stream",
     "text": [
      "(1, 23, 128, 128, 1)\n",
      "C:\\Users\\gural\\Desktop\\animals\\mouse\\VID_20190327_185236translate.mp4\n",
      "\n"
     ]
    },
    {
     "name": "stderr",
     "output_type": "stream",
     "text": [
      "\r",
      " 46%|█████████████████████████████████████▌                                           | 65/140 [05:14<06:09,  4.93s/it]"
     ]
    },
    {
     "name": "stdout",
     "output_type": "stream",
     "text": [
      "(1, 23, 128, 128, 1)\n",
      "C:\\Users\\gural\\Desktop\\animals\\mouse\\VID_20190327_185223Crop.mp4\n",
      "\n"
     ]
    },
    {
     "name": "stderr",
     "output_type": "stream",
     "text": [
      "\r",
      " 47%|██████████████████████████████████████▏                                          | 66/140 [05:17<05:11,  4.21s/it]"
     ]
    },
    {
     "name": "stdout",
     "output_type": "stream",
     "text": [
      "(1, 23, 128, 128, 1)\n",
      "C:\\Users\\gural\\Desktop\\animals\\mouse\\VID_20190327_172703.mp4\n",
      "\n"
     ]
    },
    {
     "name": "stderr",
     "output_type": "stream",
     "text": [
      "\r",
      " 48%|██████████████████████████████████████▊                                          | 67/140 [05:25<06:26,  5.29s/it]"
     ]
    },
    {
     "name": "stdout",
     "output_type": "stream",
     "text": [
      "(1, 23, 128, 128, 1)\n",
      "C:\\Users\\gural\\Desktop\\animals\\alligator\\VID_20190327_184404Crop.mp4\n",
      "\n"
     ]
    },
    {
     "name": "stderr",
     "output_type": "stream",
     "text": [
      "\r",
      " 49%|███████████████████████████████████████▎                                         | 68/140 [05:27<05:20,  4.45s/it]"
     ]
    },
    {
     "name": "stdout",
     "output_type": "stream",
     "text": [
      "(1, 23, 128, 128, 1)\n",
      "C:\\Users\\gural\\Desktop\\animals\\bull\\HorizontalFlipVID_20190327_184957Rotate40.mp4\n",
      "\n"
     ]
    },
    {
     "name": "stderr",
     "output_type": "stream",
     "text": [
      "\r",
      " 49%|███████████████████████████████████████▉                                         | 69/140 [05:31<05:09,  4.36s/it]"
     ]
    },
    {
     "name": "stdout",
     "output_type": "stream",
     "text": [
      "(1, 23, 128, 128, 1)\n",
      "C:\\Users\\gural\\Desktop\\animals\\tiger\\VID_20190327_185427.mp4\n",
      "\n"
     ]
    },
    {
     "name": "stderr",
     "output_type": "stream",
     "text": [
      "\r",
      " 50%|████████████████████████████████████████▌                                        | 70/140 [05:38<06:04,  5.21s/it]"
     ]
    },
    {
     "name": "stdout",
     "output_type": "stream",
     "text": [
      "(1, 23, 128, 128, 1)\n",
      "C:\\Users\\gural\\Desktop\\animals\\tiger\\HorizontalFlipVID_20190327_185554Rotate.mp4\n",
      "\n"
     ]
    },
    {
     "name": "stderr",
     "output_type": "stream",
     "text": [
      "\r",
      " 51%|█████████████████████████████████████████                                        | 71/140 [05:43<05:43,  4.97s/it]"
     ]
    },
    {
     "name": "stdout",
     "output_type": "stream",
     "text": [
      "(1, 23, 128, 128, 1)\n",
      "C:\\Users\\gural\\Desktop\\animals\\mouse\\VID_20190529_193603.mp4\n",
      "\n"
     ]
    },
    {
     "name": "stderr",
     "output_type": "stream",
     "text": [
      "\r",
      " 51%|█████████████████████████████████████████▋                                       | 72/140 [05:47<05:26,  4.80s/it]"
     ]
    },
    {
     "name": "stdout",
     "output_type": "stream",
     "text": [
      "(1, 23, 128, 128, 1)\n",
      "C:\\Users\\gural\\Desktop\\animals\\bull\\VID_20190327_184820.mp4\n",
      "\n"
     ]
    },
    {
     "name": "stderr",
     "output_type": "stream",
     "text": [
      "\r",
      " 52%|██████████████████████████████████████████▏                                      | 73/140 [05:51<05:12,  4.66s/it]"
     ]
    },
    {
     "name": "stdout",
     "output_type": "stream",
     "text": [
      "(1, 23, 128, 128, 1)\n",
      "C:\\Users\\gural\\Desktop\\animals\\mouse\\VID_20190327_172914.mp4\n",
      "\n"
     ]
    },
    {
     "name": "stderr",
     "output_type": "stream",
     "text": [
      "\r",
      " 53%|██████████████████████████████████████████▊                                      | 74/140 [05:59<06:00,  5.47s/it]"
     ]
    },
    {
     "name": "stdout",
     "output_type": "stream",
     "text": [
      "(1, 23, 128, 128, 1)\n",
      "C:\\Users\\gural\\Desktop\\animals\\alligator\\VID_20190327_184223.mp4\n",
      "\n"
     ]
    },
    {
     "name": "stderr",
     "output_type": "stream",
     "text": [
      "\r",
      " 54%|███████████████████████████████████████████▍                                     | 75/140 [06:04<05:40,  5.24s/it]"
     ]
    },
    {
     "name": "stdout",
     "output_type": "stream",
     "text": [
      "(1, 23, 128, 128, 1)\n",
      "C:\\Users\\gural\\Desktop\\animals\\alligator\\HorizontalFlipVID_20190327_184229.mp4\n",
      "\n"
     ]
    },
    {
     "name": "stderr",
     "output_type": "stream",
     "text": [
      "\r",
      " 54%|███████████████████████████████████████████▉                                     | 76/140 [06:08<05:28,  5.14s/it]"
     ]
    },
    {
     "name": "stdout",
     "output_type": "stream",
     "text": [
      "(1, 23, 128, 128, 1)\n",
      "C:\\Users\\gural\\Desktop\\animals\\tiger\\HorizontalFlipVID_20190327_173032Rotate.mp4\n",
      "\n"
     ]
    },
    {
     "name": "stderr",
     "output_type": "stream",
     "text": [
      "\r",
      " 55%|████████████████████████████████████████████▌                                    | 77/140 [06:16<06:15,  5.96s/it]"
     ]
    },
    {
     "name": "stdout",
     "output_type": "stream",
     "text": [
      "(1, 23, 128, 128, 1)\n",
      "C:\\Users\\gural\\Desktop\\animals\\tiger\\VID_20190327_185548Rotate.mp4\n",
      "\n"
     ]
    },
    {
     "name": "stderr",
     "output_type": "stream",
     "text": [
      "\r",
      " 56%|█████████████████████████████████████████████▏                                   | 78/140 [06:21<05:44,  5.55s/it]"
     ]
    },
    {
     "name": "stdout",
     "output_type": "stream",
     "text": [
      "(1, 23, 128, 128, 1)\n",
      "C:\\Users\\gural\\Desktop\\animals\\mouse\\VID_20190515_184013translate.mp4\n",
      "\n"
     ]
    },
    {
     "name": "stderr",
     "output_type": "stream",
     "text": [
      "\r",
      " 56%|█████████████████████████████████████████████▋                                   | 79/140 [06:26<05:38,  5.56s/it]"
     ]
    },
    {
     "name": "stdout",
     "output_type": "stream",
     "text": [
      "(1, 23, 128, 128, 1)\n",
      "C:\\Users\\gural\\Desktop\\animals\\mouse\\VID_20190327_185248Rotate.mp4\n",
      "\n"
     ]
    },
    {
     "name": "stderr",
     "output_type": "stream",
     "text": [
      "\r",
      " 57%|██████████████████████████████████████████████▎                                  | 80/140 [06:30<05:01,  5.03s/it]"
     ]
    },
    {
     "name": "stdout",
     "output_type": "stream",
     "text": [
      "(1, 23, 128, 128, 1)\n",
      "C:\\Users\\gural\\Desktop\\animals\\bull\\VID_20190327_184939Rotate40.mp4\n",
      "\n"
     ]
    },
    {
     "name": "stderr",
     "output_type": "stream",
     "text": [
      "\r",
      " 58%|██████████████████████████████████████████████▊                                  | 81/140 [06:34<04:37,  4.70s/it]"
     ]
    },
    {
     "name": "stdout",
     "output_type": "stream",
     "text": [
      "(1, 23, 128, 128, 1)\n",
      "C:\\Users\\gural\\Desktop\\animals\\alligator\\VID_20190327_172003Rotate40.mp4\n",
      "\n"
     ]
    },
    {
     "name": "stderr",
     "output_type": "stream",
     "text": [
      "\r",
      " 59%|███████████████████████████████████████████████▍                                 | 82/140 [06:40<04:51,  5.02s/it]"
     ]
    },
    {
     "name": "stdout",
     "output_type": "stream",
     "text": [
      "(1, 23, 128, 128, 1)\n",
      "C:\\Users\\gural\\Desktop\\animals\\tiger\\HorizontalFlipVID_20190327_185440Rotate.mp4\n",
      "\n"
     ]
    },
    {
     "name": "stderr",
     "output_type": "stream",
     "text": [
      "\r",
      " 59%|████████████████████████████████████████████████                                 | 83/140 [06:45<04:53,  5.16s/it]"
     ]
    },
    {
     "name": "stdout",
     "output_type": "stream",
     "text": [
      "(1, 23, 128, 128, 1)\n",
      "C:\\Users\\gural\\Desktop\\animals\\bull\\HorizontalFlipVID_20190327_172536translate.mp4\n",
      "\n"
     ]
    },
    {
     "name": "stderr",
     "output_type": "stream",
     "text": [
      "\r",
      " 60%|████████████████████████████████████████████████▌                                | 84/140 [06:52<05:18,  5.68s/it]"
     ]
    },
    {
     "name": "stdout",
     "output_type": "stream",
     "text": [
      "(1, 23, 128, 128, 1)\n",
      "C:\\Users\\gural\\Desktop\\animals\\mouse\\VID_20190327_185144Rotate40.mp4\n",
      "\n"
     ]
    },
    {
     "name": "stderr",
     "output_type": "stream",
     "text": [
      "\r",
      " 61%|█████████████████████████████████████████████████▏                               | 85/140 [06:57<04:54,  5.35s/it]"
     ]
    },
    {
     "name": "stdout",
     "output_type": "stream",
     "text": [
      "(1, 23, 128, 128, 1)\n",
      "C:\\Users\\gural\\Desktop\\animals\\tiger\\VID_20190515_183755Rotate40.mp4\n",
      "\n"
     ]
    },
    {
     "name": "stderr",
     "output_type": "stream",
     "text": [
      "\r",
      " 61%|█████████████████████████████████████████████████▊                               | 86/140 [07:01<04:26,  4.94s/it]"
     ]
    },
    {
     "name": "stdout",
     "output_type": "stream",
     "text": [
      "(1, 23, 128, 128, 1)\n",
      "C:\\Users\\gural\\Desktop\\animals\\bull\\HorizontalFlipVID_20190327_184849Crop.mp4\n",
      "\n"
     ]
    },
    {
     "name": "stderr",
     "output_type": "stream",
     "text": [
      "\r",
      " 62%|██████████████████████████████████████████████████▎                              | 87/140 [07:03<03:40,  4.16s/it]"
     ]
    },
    {
     "name": "stdout",
     "output_type": "stream",
     "text": [
      "(1, 23, 128, 128, 1)\n",
      "C:\\Users\\gural\\Desktop\\animals\\mouse\\VID_20190327_185139Rotate.mp4\n",
      "\n"
     ]
    },
    {
     "name": "stderr",
     "output_type": "stream",
     "text": [
      "\r",
      " 63%|██████████████████████████████████████████████████▉                              | 88/140 [07:08<03:43,  4.30s/it]"
     ]
    },
    {
     "name": "stdout",
     "output_type": "stream",
     "text": [
      "(1, 23, 128, 128, 1)\n",
      "C:\\Users\\gural\\Desktop\\animals\\mouse\\VID_20190529_193525.mp4\n",
      "\n"
     ]
    },
    {
     "name": "stderr",
     "output_type": "stream",
     "text": [
      "\r",
      " 64%|███████████████████████████████████████████████████▍                             | 89/140 [07:15<04:14,  4.99s/it]"
     ]
    },
    {
     "name": "stdout",
     "output_type": "stream",
     "text": [
      "(1, 23, 128, 128, 1)\n",
      "C:\\Users\\gural\\Desktop\\animals\\alligator\\HorizontalFlipVID_20190327_184223.mp4\n",
      "\n"
     ]
    },
    {
     "name": "stderr",
     "output_type": "stream",
     "text": [
      "\r",
      " 64%|████████████████████████████████████████████████████                             | 90/140 [07:19<04:03,  4.88s/it]"
     ]
    },
    {
     "name": "stdout",
     "output_type": "stream",
     "text": [
      "(1, 23, 128, 128, 1)\n",
      "C:\\Users\\gural\\Desktop\\animals\\tiger\\VID_20190327_185427Rotate40.mp4\n",
      "\n"
     ]
    },
    {
     "name": "stderr",
     "output_type": "stream",
     "text": [
      "\r",
      " 65%|████████████████████████████████████████████████████▋                            | 91/140 [07:26<04:26,  5.43s/it]"
     ]
    },
    {
     "name": "stdout",
     "output_type": "stream",
     "text": [
      "(1, 23, 128, 128, 1)\n",
      "C:\\Users\\gural\\Desktop\\animals\\bull\\HorizontalFlipVID_20190327_185003Crop.mp4\n",
      "\n"
     ]
    },
    {
     "name": "stderr",
     "output_type": "stream",
     "text": [
      "\r",
      " 66%|█████████████████████████████████████████████████████▏                           | 92/140 [07:29<03:41,  4.61s/it]"
     ]
    },
    {
     "name": "stdout",
     "output_type": "stream",
     "text": [
      "(1, 23, 128, 128, 1)\n",
      "C:\\Users\\gural\\Desktop\\animals\\mouse\\HorizontalFlipVID_20190327_185153Crop.mp4\n",
      "\n"
     ]
    },
    {
     "name": "stderr",
     "output_type": "stream",
     "text": [
      "\r",
      " 66%|█████████████████████████████████████████████████████▊                           | 93/140 [07:31<03:03,  3.90s/it]"
     ]
    },
    {
     "name": "stdout",
     "output_type": "stream",
     "text": [
      "(1, 23, 128, 128, 1)\n",
      "C:\\Users\\gural\\Desktop\\animals\\bull\\VID_20190327_184849.mp4\n",
      "\n"
     ]
    },
    {
     "name": "stderr",
     "output_type": "stream",
     "text": [
      "\r",
      " 67%|██████████████████████████████████████████████████████▍                          | 94/140 [07:35<03:02,  3.97s/it]"
     ]
    },
    {
     "name": "stdout",
     "output_type": "stream",
     "text": [
      "(1, 23, 128, 128, 1)\n",
      "C:\\Users\\gural\\Desktop\\animals\\tiger\\HorizontalFlipVID_20190515_183740Rotate.mp4\n",
      "\n"
     ]
    },
    {
     "name": "stderr",
     "output_type": "stream",
     "text": [
      "\r",
      " 68%|██████████████████████████████████████████████████████▉                          | 95/140 [07:39<03:03,  4.07s/it]"
     ]
    },
    {
     "name": "stdout",
     "output_type": "stream",
     "text": [
      "(1, 23, 128, 128, 1)\n",
      "C:\\Users\\gural\\Desktop\\animals\\mouse\\HorizontalFlipVID_20190515_184028.mp4\n",
      "\n"
     ]
    },
    {
     "name": "stderr",
     "output_type": "stream",
     "text": [
      "\r",
      " 69%|███████████████████████████████████████████████████████▌                         | 96/140 [07:50<04:24,  6.01s/it]"
     ]
    },
    {
     "name": "stdout",
     "output_type": "stream",
     "text": [
      "(1, 23, 128, 128, 1)\n",
      "C:\\Users\\gural\\Desktop\\animals\\mouse\\VID_20190327_185330Rotate.mp4\n",
      "\n"
     ]
    },
    {
     "name": "stderr",
     "output_type": "stream",
     "text": [
      "\r",
      " 69%|████████████████████████████████████████████████████████                         | 97/140 [07:55<04:06,  5.73s/it]"
     ]
    },
    {
     "name": "stdout",
     "output_type": "stream",
     "text": [
      "(1, 23, 128, 128, 1)\n",
      "C:\\Users\\gural\\Desktop\\animals\\bull\\VID_20190327_172536.mp4\n",
      "\n"
     ]
    },
    {
     "name": "stderr",
     "output_type": "stream",
     "text": [
      "\r",
      " 70%|████████████████████████████████████████████████████████▋                        | 98/140 [08:02<04:18,  6.15s/it]"
     ]
    },
    {
     "name": "stdout",
     "output_type": "stream",
     "text": [
      "(1, 23, 128, 128, 1)\n",
      "C:\\Users\\gural\\Desktop\\animals\\mouse\\VID_20190327_185236Rotate.mp4\n",
      "\n"
     ]
    },
    {
     "name": "stderr",
     "output_type": "stream",
     "text": [
      "\r",
      " 71%|█████████████████████████████████████████████████████████▎                       | 99/140 [08:06<03:47,  5.55s/it]"
     ]
    },
    {
     "name": "stdout",
     "output_type": "stream",
     "text": [
      "(1, 23, 128, 128, 1)\n",
      "C:\\Users\\gural\\Desktop\\animals\\alligator\\HorizontalFlipVID_20190327_184229Crop.mp4\n",
      "\n"
     ]
    },
    {
     "name": "stderr",
     "output_type": "stream",
     "text": [
      "\r",
      " 71%|█████████████████████████████████████████████████████████▏                      | 100/140 [08:09<03:09,  4.73s/it]"
     ]
    },
    {
     "name": "stdout",
     "output_type": "stream",
     "text": [
      "(1, 23, 128, 128, 1)\n",
      "C:\\Users\\gural\\Desktop\\animals\\mouse\\HorizontalFlipVID_20190515_184023translate.mp4\n",
      "\n"
     ]
    },
    {
     "name": "stderr",
     "output_type": "stream",
     "text": [
      "\r",
      " 72%|█████████████████████████████████████████████████████████▋                      | 101/140 [08:14<03:12,  4.95s/it]"
     ]
    },
    {
     "name": "stdout",
     "output_type": "stream",
     "text": [
      "(1, 23, 128, 128, 1)\n",
      "C:\\Users\\gural\\Desktop\\animals\\alligator\\VID_20190327_184339translate.mp4\n",
      "\n"
     ]
    },
    {
     "name": "stderr",
     "output_type": "stream",
     "text": [
      "\r",
      " 73%|██████████████████████████████████████████████████████████▎                     | 102/140 [08:19<03:07,  4.94s/it]"
     ]
    },
    {
     "name": "stdout",
     "output_type": "stream",
     "text": [
      "(1, 23, 128, 128, 1)\n",
      "C:\\Users\\gural\\Desktop\\animals\\bull\\VID_20190327_185003.mp4\n",
      "\n"
     ]
    },
    {
     "name": "stderr",
     "output_type": "stream",
     "text": [
      "\r",
      " 74%|██████████████████████████████████████████████████████████▊                     | 103/140 [08:24<03:01,  4.91s/it]"
     ]
    },
    {
     "name": "stdout",
     "output_type": "stream",
     "text": [
      "(1, 23, 128, 128, 1)\n",
      "C:\\Users\\gural\\Desktop\\animals\\bull\\HorizontalFlipVID_20190327_184849Rotate40.mp4\n",
      "\n"
     ]
    },
    {
     "name": "stderr",
     "output_type": "stream",
     "text": [
      "\r",
      " 74%|███████████████████████████████████████████████████████████▍                    | 104/140 [08:28<02:46,  4.63s/it]"
     ]
    },
    {
     "name": "stdout",
     "output_type": "stream",
     "text": [
      "(1, 23, 128, 128, 1)\n",
      "C:\\Users\\gural\\Desktop\\animals\\tiger\\HorizontalFlipVID_20190515_183755translate.mp4\n",
      "\n"
     ]
    },
    {
     "name": "stderr",
     "output_type": "stream",
     "text": [
      "\r",
      " 75%|████████████████████████████████████████████████████████████                    | 105/140 [08:32<02:32,  4.36s/it]"
     ]
    },
    {
     "name": "stdout",
     "output_type": "stream",
     "text": [
      "(1, 23, 128, 128, 1)\n",
      "C:\\Users\\gural\\Desktop\\animals\\tiger\\HorizontalFlipVID_20190327_185532Rotate40.mp4\n",
      "\n"
     ]
    },
    {
     "name": "stderr",
     "output_type": "stream",
     "text": [
      "\r",
      " 76%|████████████████████████████████████████████████████████████▌                   | 106/140 [08:36<02:28,  4.38s/it]"
     ]
    },
    {
     "name": "stdout",
     "output_type": "stream",
     "text": [
      "(1, 23, 128, 128, 1)\n",
      "C:\\Users\\gural\\Desktop\\animals\\bull\\VID_20190327_172412Rotate.mp4\n",
      "\n"
     ]
    },
    {
     "name": "stderr",
     "output_type": "stream",
     "text": [
      "\r",
      " 76%|█████████████████████████████████████████████████████████████▏                  | 107/140 [08:41<02:25,  4.40s/it]"
     ]
    },
    {
     "name": "stdout",
     "output_type": "stream",
     "text": [
      "(1, 23, 128, 128, 1)\n",
      "C:\\Users\\gural\\Desktop\\animals\\alligator\\HorizontalFlipVID_20190327_184358Rotate.mp4\n",
      "\n"
     ]
    },
    {
     "name": "stderr",
     "output_type": "stream",
     "text": [
      "\r",
      " 77%|█████████████████████████████████████████████████████████████▋                  | 108/140 [08:47<02:36,  4.89s/it]"
     ]
    },
    {
     "name": "stdout",
     "output_type": "stream",
     "text": [
      "(1, 23, 128, 128, 1)\n",
      "C:\\Users\\gural\\Desktop\\animals\\alligator\\VID_20190327_184332translate.mp4\n",
      "\n"
     ]
    },
    {
     "name": "stderr",
     "output_type": "stream",
     "text": [
      "\r",
      " 78%|██████████████████████████████████████████████████████████████▎                 | 109/140 [08:52<02:31,  4.89s/it]"
     ]
    },
    {
     "name": "stdout",
     "output_type": "stream",
     "text": [
      "(1, 23, 128, 128, 1)\n",
      "C:\\Users\\gural\\Desktop\\animals\\bull\\HorizontalFlipVID_20190327_184838Rotate.mp4\n",
      "\n"
     ]
    },
    {
     "name": "stderr",
     "output_type": "stream",
     "text": [
      "\r",
      " 79%|██████████████████████████████████████████████████████████████▊                 | 110/140 [08:56<02:22,  4.76s/it]"
     ]
    },
    {
     "name": "stdout",
     "output_type": "stream",
     "text": [
      "(1, 23, 128, 128, 1)\n",
      "C:\\Users\\gural\\Desktop\\animals\\mouse\\VID_20190327_185330Crop.mp4\n",
      "\n"
     ]
    },
    {
     "name": "stderr",
     "output_type": "stream",
     "text": [
      "\r",
      " 79%|███████████████████████████████████████████████████████████████▍                | 111/140 [08:59<02:03,  4.26s/it]"
     ]
    },
    {
     "name": "stdout",
     "output_type": "stream",
     "text": [
      "(1, 23, 128, 128, 1)\n",
      "C:\\Users\\gural\\Desktop\\animals\\alligator\\VID_20190327_184320translate.mp4\n",
      "\n"
     ]
    },
    {
     "name": "stderr",
     "output_type": "stream",
     "text": [
      "\r",
      " 80%|████████████████████████████████████████████████████████████████                | 112/140 [09:05<02:09,  4.61s/it]"
     ]
    },
    {
     "name": "stdout",
     "output_type": "stream",
     "text": [
      "(1, 23, 128, 128, 1)\n",
      "C:\\Users\\gural\\Desktop\\animals\\mouse\\VID_20190327_172833Crop.mp4\n",
      "\n"
     ]
    },
    {
     "name": "stderr",
     "output_type": "stream",
     "text": [
      "\r",
      " 81%|████████████████████████████████████████████████████████████████▌               | 113/140 [09:09<01:59,  4.41s/it]"
     ]
    },
    {
     "name": "stdout",
     "output_type": "stream",
     "text": [
      "(1, 23, 128, 128, 1)\n",
      "C:\\Users\\gural\\Desktop\\animals\\bull\\VID_20190327_172536translate.mp4\n",
      "\n"
     ]
    },
    {
     "name": "stderr",
     "output_type": "stream",
     "text": [
      "\r",
      " 81%|█████████████████████████████████████████████████████████████████▏              | 114/140 [09:15<02:14,  5.16s/it]"
     ]
    },
    {
     "name": "stdout",
     "output_type": "stream",
     "text": [
      "(1, 23, 128, 128, 1)\n",
      "C:\\Users\\gural\\Desktop\\animals\\alligator\\HorizontalFlipVID_20190327_184452Rotate40.mp4\n",
      "\n"
     ]
    },
    {
     "name": "stderr",
     "output_type": "stream",
     "text": [
      "\r",
      " 82%|█████████████████████████████████████████████████████████████████▋              | 115/140 [09:20<02:05,  5.03s/it]"
     ]
    },
    {
     "name": "stdout",
     "output_type": "stream",
     "text": [
      "(1, 23, 128, 128, 1)\n",
      "C:\\Users\\gural\\Desktop\\animals\\alligator\\VID_20190327_184457Rotate40.mp4\n",
      "\n"
     ]
    },
    {
     "name": "stderr",
     "output_type": "stream",
     "text": [
      "\r",
      " 83%|██████████████████████████████████████████████████████████████████▎             | 116/140 [09:24<01:53,  4.72s/it]"
     ]
    },
    {
     "name": "stdout",
     "output_type": "stream",
     "text": [
      "(1, 23, 128, 128, 1)\n",
      "C:\\Users\\gural\\Desktop\\animals\\bull\\VID_20190515_183943Rotate.mp4\n",
      "\n"
     ]
    },
    {
     "name": "stderr",
     "output_type": "stream",
     "text": [
      "\r",
      " 84%|██████████████████████████████████████████████████████████████████▊             | 117/140 [09:31<02:01,  5.28s/it]"
     ]
    },
    {
     "name": "stdout",
     "output_type": "stream",
     "text": [
      "(1, 23, 128, 128, 1)\n",
      "C:\\Users\\gural\\Desktop\\animals\\alligator\\VID_20190327_184358Rotate.mp4\n",
      "\n"
     ]
    },
    {
     "name": "stderr",
     "output_type": "stream",
     "text": [
      "\r",
      " 84%|███████████████████████████████████████████████████████████████████▍            | 118/140 [09:37<02:01,  5.53s/it]"
     ]
    },
    {
     "name": "stdout",
     "output_type": "stream",
     "text": [
      "(1, 23, 128, 128, 1)\n",
      "C:\\Users\\gural\\Desktop\\animals\\alligator\\VID_20190327_184502translate.mp4\n",
      "\n"
     ]
    },
    {
     "name": "stderr",
     "output_type": "stream",
     "text": [
      "\r",
      " 85%|████████████████████████████████████████████████████████████████████            | 119/140 [09:42<01:55,  5.48s/it]"
     ]
    },
    {
     "name": "stdout",
     "output_type": "stream",
     "text": [
      "(1, 23, 128, 128, 1)\n",
      "C:\\Users\\gural\\Desktop\\animals\\tiger\\VID_20190327_185427translate.mp4\n",
      "\n"
     ]
    },
    {
     "name": "stderr",
     "output_type": "stream",
     "text": [
      "\r",
      " 86%|████████████████████████████████████████████████████████████████████▌           | 120/140 [09:49<01:56,  5.84s/it]"
     ]
    },
    {
     "name": "stdout",
     "output_type": "stream",
     "text": [
      "(1, 23, 128, 128, 1)\n",
      "C:\\Users\\gural\\Desktop\\animals\\tiger\\VID_20190327_172945.mp4\n",
      "\n"
     ]
    },
    {
     "name": "stderr",
     "output_type": "stream",
     "text": [
      "\r",
      " 86%|█████████████████████████████████████████████████████████████████████▏          | 121/140 [09:55<01:50,  5.80s/it]"
     ]
    },
    {
     "name": "stdout",
     "output_type": "stream",
     "text": [
      "(1, 23, 128, 128, 1)\n",
      "C:\\Users\\gural\\Desktop\\animals\\tiger\\VID_20190327_185548translate.mp4\n",
      "\n"
     ]
    },
    {
     "name": "stderr",
     "output_type": "stream",
     "text": [
      "\r",
      " 87%|█████████████████████████████████████████████████████████████████████▋          | 122/140 [10:00<01:39,  5.52s/it]"
     ]
    },
    {
     "name": "stdout",
     "output_type": "stream",
     "text": [
      "(1, 23, 128, 128, 1)\n",
      "C:\\Users\\gural\\Desktop\\animals\\alligator\\VID_20190327_184223Rotate.mp4\n",
      "\n"
     ]
    },
    {
     "name": "stderr",
     "output_type": "stream",
     "text": [
      "\r",
      " 88%|██████████████████████████████████████████████████████████████████████▎         | 123/140 [10:04<01:29,  5.28s/it]"
     ]
    },
    {
     "name": "stdout",
     "output_type": "stream",
     "text": [
      "(1, 23, 128, 128, 1)\n",
      "C:\\Users\\gural\\Desktop\\animals\\bull\\VID_20190327_184820Rotate.mp4\n",
      "\n"
     ]
    },
    {
     "name": "stderr",
     "output_type": "stream",
     "text": [
      "\r",
      " 89%|██████████████████████████████████████████████████████████████████████▊         | 124/140 [10:08<01:19,  4.96s/it]"
     ]
    },
    {
     "name": "stdout",
     "output_type": "stream",
     "text": [
      "(1, 23, 128, 128, 1)\n",
      "C:\\Users\\gural\\Desktop\\animals\\bull\\HorizontalFlipVID_20190515_183937Crop.mp4\n",
      "\n"
     ]
    },
    {
     "name": "stderr",
     "output_type": "stream",
     "text": [
      "\r",
      " 89%|███████████████████████████████████████████████████████████████████████▍        | 125/140 [10:13<01:12,  4.84s/it]"
     ]
    },
    {
     "name": "stdout",
     "output_type": "stream",
     "text": [
      "(1, 23, 128, 128, 1)\n",
      "C:\\Users\\gural\\Desktop\\animals\\tiger\\VID_20190327_185508.mp4\n",
      "\n"
     ]
    },
    {
     "name": "stderr",
     "output_type": "stream",
     "text": [
      "\r",
      " 90%|████████████████████████████████████████████████████████████████████████        | 126/140 [10:19<01:12,  5.21s/it]"
     ]
    },
    {
     "name": "stdout",
     "output_type": "stream",
     "text": [
      "(1, 23, 128, 128, 1)\n",
      "C:\\Users\\gural\\Desktop\\animals\\alligator\\VID_20190327_171826Rotate40.mp4\n",
      "\n"
     ]
    },
    {
     "name": "stderr",
     "output_type": "stream",
     "text": [
      "\r",
      " 91%|████████████████████████████████████████████████████████████████████████▌       | 127/140 [10:25<01:10,  5.39s/it]"
     ]
    },
    {
     "name": "stdout",
     "output_type": "stream",
     "text": [
      "(1, 23, 128, 128, 1)\n",
      "C:\\Users\\gural\\Desktop\\animals\\mouse\\VID_20190327_185223.mp4\n",
      "\n"
     ]
    },
    {
     "name": "stderr",
     "output_type": "stream",
     "text": [
      "\r",
      " 91%|█████████████████████████████████████████████████████████████████████████▏      | 128/140 [10:29<01:01,  5.11s/it]"
     ]
    },
    {
     "name": "stdout",
     "output_type": "stream",
     "text": [
      "(1, 23, 128, 128, 1)\n",
      "C:\\Users\\gural\\Desktop\\animals\\alligator\\HorizontalFlipVID_20190327_184229Rotate.mp4\n",
      "\n"
     ]
    },
    {
     "name": "stderr",
     "output_type": "stream",
     "text": [
      "\r",
      " 92%|█████████████████████████████████████████████████████████████████████████▋      | 129/140 [10:34<00:55,  5.04s/it]"
     ]
    },
    {
     "name": "stdout",
     "output_type": "stream",
     "text": [
      "(1, 23, 128, 128, 1)\n",
      "C:\\Users\\gural\\Desktop\\animals\\tiger\\VID_20190327_185554translate.mp4\n",
      "\n"
     ]
    },
    {
     "name": "stderr",
     "output_type": "stream",
     "text": [
      "\r",
      " 93%|██████████████████████████████████████████████████████████████████████████▎     | 130/140 [10:39<00:48,  4.85s/it]"
     ]
    },
    {
     "name": "stdout",
     "output_type": "stream",
     "text": [
      "(1, 23, 128, 128, 1)\n",
      "C:\\Users\\gural\\Desktop\\animals\\bull\\VID_20190515_183937Crop.mp4\n",
      "\n"
     ]
    },
    {
     "name": "stderr",
     "output_type": "stream",
     "text": [
      "\r",
      " 94%|██████████████████████████████████████████████████████████████████████████▊     | 131/140 [10:43<00:42,  4.77s/it]"
     ]
    },
    {
     "name": "stdout",
     "output_type": "stream",
     "text": [
      "(1, 23, 128, 128, 1)\n",
      "C:\\Users\\gural\\Desktop\\animals\\tiger\\HorizontalFlipVID_20190327_185601Crop.mp4\n",
      "\n"
     ]
    },
    {
     "name": "stderr",
     "output_type": "stream",
     "text": [
      "\r",
      " 94%|███████████████████████████████████████████████████████████████████████████▍    | 132/140 [10:46<00:32,  4.11s/it]"
     ]
    },
    {
     "name": "stdout",
     "output_type": "stream",
     "text": [
      "(1, 23, 128, 128, 1)\n",
      "C:\\Users\\gural\\Desktop\\animals\\mouse\\HorizontalFlipVID_20190327_185330Rotate40.mp4\n",
      "\n"
     ]
    },
    {
     "name": "stderr",
     "output_type": "stream",
     "text": [
      "\r",
      " 95%|████████████████████████████████████████████████████████████████████████████    | 133/140 [10:51<00:30,  4.39s/it]"
     ]
    },
    {
     "name": "stdout",
     "output_type": "stream",
     "text": [
      "(1, 23, 128, 128, 1)\n",
      "C:\\Users\\gural\\Desktop\\animals\\bull\\VID_20190327_184844Rotate40.mp4\n",
      "\n"
     ]
    },
    {
     "name": "stderr",
     "output_type": "stream",
     "text": [
      "\r",
      " 96%|████████████████████████████████████████████████████████████████████████████▌   | 134/140 [10:56<00:26,  4.48s/it]"
     ]
    },
    {
     "name": "stdout",
     "output_type": "stream",
     "text": [
      "(1, 23, 128, 128, 1)\n",
      "C:\\Users\\gural\\Desktop\\animals\\mouse\\VID_20190327_172914Rotate.mp4\n",
      "\n"
     ]
    },
    {
     "name": "stderr",
     "output_type": "stream",
     "text": [
      "\r",
      " 96%|█████████████████████████████████████████████████████████████████████████████▏  | 135/140 [11:03<00:26,  5.38s/it]"
     ]
    },
    {
     "name": "stdout",
     "output_type": "stream",
     "text": [
      "(1, 23, 128, 128, 1)\n",
      "C:\\Users\\gural\\Desktop\\animals\\tiger\\HorizontalFlipVID_20190327_185434translate.mp4\n",
      "\n"
     ]
    },
    {
     "name": "stderr",
     "output_type": "stream",
     "text": [
      "\r",
      " 97%|█████████████████████████████████████████████████████████████████████████████▋  | 136/140 [11:09<00:21,  5.44s/it]"
     ]
    },
    {
     "name": "stdout",
     "output_type": "stream",
     "text": [
      "(1, 23, 128, 128, 1)\n",
      "C:\\Users\\gural\\Desktop\\animals\\tiger\\HorizontalFlipVID_20190327_185523translate.mp4\n",
      "\n"
     ]
    },
    {
     "name": "stderr",
     "output_type": "stream",
     "text": [
      "\r",
      " 98%|██████████████████████████████████████████████████████████████████████████████▎ | 137/140 [11:13<00:15,  5.06s/it]"
     ]
    },
    {
     "name": "stdout",
     "output_type": "stream",
     "text": [
      "(1, 23, 128, 128, 1)\n",
      "C:\\Users\\gural\\Desktop\\animals\\bull\\VID_20190515_183943translate.mp4\n",
      "\n"
     ]
    },
    {
     "name": "stderr",
     "output_type": "stream",
     "text": [
      "\r",
      " 99%|██████████████████████████████████████████████████████████████████████████████▊ | 138/140 [11:19<00:11,  5.51s/it]"
     ]
    },
    {
     "name": "stdout",
     "output_type": "stream",
     "text": [
      "(1, 23, 128, 128, 1)\n",
      "C:\\Users\\gural\\Desktop\\animals\\alligator\\VID_20190327_171910Rotate.mp4\n",
      "\n"
     ]
    },
    {
     "name": "stderr",
     "output_type": "stream",
     "text": [
      "\r",
      " 99%|███████████████████████████████████████████████████████████████████████████████▍| 139/140 [11:26<00:05,  5.82s/it]"
     ]
    },
    {
     "name": "stdout",
     "output_type": "stream",
     "text": [
      "(1, 23, 128, 128, 1)\n",
      "C:\\Users\\gural\\Desktop\\animals\\bull\\HorizontalFlipVID_20190327_184844Rotate.mp4\n",
      "\n"
     ]
    },
    {
     "name": "stderr",
     "output_type": "stream",
     "text": [
      "100%|████████████████████████████████████████████████████████████████████████████████| 140/140 [11:31<00:00,  5.48s/it]\n"
     ]
    },
    {
     "name": "stdout",
     "output_type": "stream",
     "text": [
      "(1, 23, 128, 128, 1)\n",
      "(1, 23, 128, 128, 1)\n",
      "(1, 23, 128, 128, 1)\n",
      "(1, 23, 128, 128, 1)\n",
      "(1, 23, 128, 128, 1)\n",
      "(1, 23, 128, 128, 1)\n",
      "(1, 23, 128, 128, 1)\n",
      "(1, 23, 128, 128, 1)\n",
      "(1, 23, 128, 128, 1)\n",
      "(1, 23, 128, 128, 1)\n",
      "(1, 23, 128, 128, 1)\n",
      "(1, 23, 128, 128, 1)\n",
      "(1, 23, 128, 128, 1)\n",
      "(1, 23, 128, 128, 1)\n",
      "(1, 23, 128, 128, 1)\n",
      "(1, 23, 128, 128, 1)\n",
      "(1, 23, 128, 128, 1)\n",
      "(1, 23, 128, 128, 1)\n",
      "(1, 23, 128, 128, 1)\n",
      "(1, 23, 128, 128, 1)\n",
      "(1, 23, 128, 128, 1)\n",
      "(1, 23, 128, 128, 1)\n",
      "(1, 23, 128, 128, 1)\n",
      "(1, 23, 128, 128, 1)\n",
      "(1, 23, 128, 128, 1)\n",
      "(1, 23, 128, 128, 1)\n",
      "(1, 23, 128, 128, 1)\n",
      "(1, 23, 128, 128, 1)\n",
      "(1, 23, 128, 128, 1)\n",
      "(1, 23, 128, 128, 1)\n",
      "(1, 23, 128, 128, 1)\n",
      "(1, 23, 128, 128, 1)\n",
      "(1, 23, 128, 128, 1)\n",
      "(1, 23, 128, 128, 1)\n",
      "(1, 23, 128, 128, 1)\n",
      "(1, 23, 128, 128, 1)\n",
      "(1, 23, 128, 128, 1)\n",
      "(1, 23, 128, 128, 1)\n",
      "(1, 23, 128, 128, 1)\n",
      "(1, 23, 128, 128, 1)\n",
      "(1, 23, 128, 128, 1)\n",
      "(1, 23, 128, 128, 1)\n",
      "(1, 23, 128, 128, 1)\n",
      "(1, 23, 128, 128, 1)\n",
      "(1, 23, 128, 128, 1)\n",
      "(1, 23, 128, 128, 1)\n",
      "(1, 23, 128, 128, 1)\n",
      "(1, 23, 128, 128, 1)\n",
      "(1, 23, 128, 128, 1)\n",
      "(1, 23, 128, 128, 1)\n",
      "(1, 23, 128, 128, 1)\n",
      "(1, 23, 128, 128, 1)\n",
      "(1, 23, 128, 128, 1)\n",
      "(1, 23, 128, 128, 1)\n",
      "(1, 23, 128, 128, 1)\n",
      "(1, 23, 128, 128, 1)\n",
      "(1, 23, 128, 128, 1)\n",
      "(1, 23, 128, 128, 1)\n",
      "(1, 23, 128, 128, 1)\n",
      "(1, 23, 128, 128, 1)\n",
      "(1, 23, 128, 128, 1)\n",
      "(1, 23, 128, 128, 1)\n",
      "(1, 23, 128, 128, 1)\n",
      "(1, 23, 128, 128, 1)\n",
      "(1, 23, 128, 128, 1)\n",
      "(1, 23, 128, 128, 1)\n",
      "(1, 23, 128, 128, 1)\n",
      "(1, 23, 128, 128, 1)\n",
      "(1, 23, 128, 128, 1)\n",
      "(1, 23, 128, 128, 1)\n",
      "(1, 23, 128, 128, 1)\n",
      "(1, 23, 128, 128, 1)\n",
      "(1, 23, 128, 128, 1)\n",
      "(1, 23, 128, 128, 1)\n",
      "(1, 23, 128, 128, 1)\n",
      "(1, 23, 128, 128, 1)\n",
      "(1, 23, 128, 128, 1)\n",
      "(1, 23, 128, 128, 1)\n",
      "(1, 23, 128, 128, 1)\n",
      "(1, 23, 128, 128, 1)\n",
      "(1, 23, 128, 128, 1)\n",
      "(1, 23, 128, 128, 1)\n",
      "(1, 23, 128, 128, 1)\n",
      "(1, 23, 128, 128, 1)\n",
      "(1, 23, 128, 128, 1)\n",
      "(1, 23, 128, 128, 1)\n",
      "(1, 23, 128, 128, 1)\n",
      "(1, 23, 128, 128, 1)\n",
      "(1, 23, 128, 128, 1)\n",
      "(1, 23, 128, 128, 1)\n",
      "(1, 23, 128, 128, 1)\n",
      "(1, 23, 128, 128, 1)\n",
      "(1, 23, 128, 128, 1)\n",
      "(1, 23, 128, 128, 1)\n",
      "(1, 23, 128, 128, 1)\n",
      "(1, 23, 128, 128, 1)\n",
      "(1, 23, 128, 128, 1)\n",
      "(1, 23, 128, 128, 1)\n",
      "(1, 23, 128, 128, 1)\n",
      "(1, 23, 128, 128, 1)\n",
      "(1, 23, 128, 128, 1)\n",
      "(1, 23, 128, 128, 1)\n",
      "(1, 23, 128, 128, 1)\n",
      "(1, 23, 128, 128, 1)\n",
      "(1, 23, 128, 128, 1)\n",
      "(1, 23, 128, 128, 1)\n",
      "(1, 23, 128, 128, 1)\n",
      "(1, 23, 128, 128, 1)\n",
      "(1, 23, 128, 128, 1)\n",
      "(1, 23, 128, 128, 1)\n",
      "(1, 23, 128, 128, 1)\n",
      "(1, 23, 128, 128, 1)\n",
      "(1, 23, 128, 128, 1)\n",
      "(1, 23, 128, 128, 1)\n",
      "(1, 23, 128, 128, 1)\n",
      "(1, 23, 128, 128, 1)\n",
      "(1, 23, 128, 128, 1)\n",
      "(1, 23, 128, 128, 1)\n",
      "(1, 23, 128, 128, 1)\n",
      "(1, 23, 128, 128, 1)\n",
      "(1, 23, 128, 128, 1)\n",
      "(1, 23, 128, 128, 1)\n",
      "(1, 23, 128, 128, 1)\n",
      "(1, 23, 128, 128, 1)\n",
      "(1, 23, 128, 128, 1)\n",
      "(1, 23, 128, 128, 1)\n",
      "(1, 23, 128, 128, 1)\n",
      "(1, 23, 128, 128, 1)\n",
      "(1, 23, 128, 128, 1)\n",
      "(1, 23, 128, 128, 1)\n",
      "(1, 23, 128, 128, 1)\n",
      "(1, 23, 128, 128, 1)\n",
      "(1, 23, 128, 128, 1)\n",
      "(1, 23, 128, 128, 1)\n",
      "(1, 23, 128, 128, 1)\n",
      "(1, 23, 128, 128, 1)\n",
      "(1, 23, 128, 128, 1)\n",
      "(1, 23, 128, 128, 1)\n",
      "(1, 23, 128, 128, 1)\n",
      "(1, 23, 128, 128, 1)\n",
      "Shape of testing data: (140, 23, 128, 128, 1)\n",
      "Shape of testing labels: (140, 4)\n"
     ]
    }
   ],
   "source": [
    "# Reading testing videos and one-hot encoding the testing labels\n",
    "X_test = reader.read_videos(test_files)\n",
    "y_test = to_categorical(test_targets, num_classes=4)\n",
    "print('Shape of testing data:', X_test.shape)\n",
    "print('Shape of testing labels:', y_test.shape)"
   ]
  },
  {
   "cell_type": "code",
   "execution_count": 11,
   "metadata": {},
   "outputs": [
    {
     "name": "stdout",
     "output_type": "stream",
     "text": [
      "(23, 128, 128, 1)\n"
     ]
    }
   ],
   "source": [
    "print(X_train.shape[1:])"
   ]
  },
  {
   "cell_type": "code",
   "execution_count": 12,
   "metadata": {},
   "outputs": [
    {
     "name": "stdout",
     "output_type": "stream",
     "text": [
      "_________________________________________________________________\n",
      "Layer (type)                 Output Shape              Param #   \n",
      "=================================================================\n",
      "conv3d_1 (Conv3D)            (None, 5, 128, 128, 4)    112       \n",
      "_________________________________________________________________\n",
      "dense_1 (Dense)              (None, 5, 128, 128, 128)  640       \n",
      "_________________________________________________________________\n",
      "conv3d_2 (Conv3D)            (None, 1, 126, 126, 64)   221248    \n",
      "_________________________________________________________________\n",
      "conv3d_3 (Conv3D)            (None, 1, 124, 124, 128)  73856     \n",
      "_________________________________________________________________\n",
      "conv3d_4 (Conv3D)            (None, 1, 122, 122, 256)  295168    \n",
      "_________________________________________________________________\n",
      "max_pooling3d_1 (MaxPooling3 (None, 1, 61, 61, 256)    0         \n",
      "_________________________________________________________________\n",
      "dense_2 (Dense)              (None, 1, 61, 61, 128)    32896     \n",
      "_________________________________________________________________\n",
      "conv3d_5 (Conv3D)            (None, 1, 59, 59, 512)    590336    \n",
      "_________________________________________________________________\n",
      "max_pooling3d_2 (MaxPooling3 (None, 1, 30, 30, 512)    0         \n",
      "_________________________________________________________________\n",
      "global_average_pooling3d_1 ( (None, 512)               0         \n",
      "_________________________________________________________________\n",
      "dense_3 (Dense)              (None, 64)                32832     \n",
      "_________________________________________________________________\n",
      "dropout_1 (Dropout)          (None, 64)                0         \n",
      "_________________________________________________________________\n",
      "dense_4 (Dense)              (None, 32)                2080      \n",
      "_________________________________________________________________\n",
      "dense_5 (Dense)              (None, 4)                 132       \n",
      "=================================================================\n",
      "Total params: 1,249,300\n",
      "Trainable params: 1,249,300\n",
      "Non-trainable params: 0\n",
      "_________________________________________________________________\n"
     ]
    }
   ],
   "source": [
    "# Imports\n",
    "from keras.models import Sequential\n",
    "from keras.layers import Conv3D, MaxPooling3D, GlobalAveragePooling3D\n",
    "from keras.layers.core import Dense,Dropout\n",
    "\n",
    "# Using the Sequential Model\n",
    "model = Sequential()\n",
    "\n",
    "# Adding Alternate convolutional and pooling layers\n",
    "model.add(Conv3D(filters=4, kernel_size=(3, 3, 3), strides=(5, 1, 1), padding='same', activation='relu', \n",
    "                 input_shape=X_train.shape[1:]))\n",
    "model.add(Dense(128, activation='relu'))\n",
    "\n",
    "\n",
    "model.add(Conv3D(filters=64, kernel_size=(3, 3, 3), strides=(3, 1, 1), padding='valid', activation='relu'))\n",
    "model.add(Conv3D(filters=128, kernel_size=(1, 3, 3), strides=(3, 1, 1), padding='valid', activation='relu'))\n",
    "model.add(Conv3D(filters=256, kernel_size=(1, 3, 3), strides=(3, 1, 1), padding='valid', activation='relu'))\n",
    "model.add(MaxPooling3D(pool_size=2, strides=(1, 2, 2), padding='same'))\n",
    "model.add(Dense(128, activation='relu'))\n",
    "\n",
    "model.add(Conv3D(filters=512, kernel_size=(1, 3, 3), strides=(3, 1, 1), padding='valid', activation='relu'))\n",
    "model.add(MaxPooling3D(pool_size=2, strides=(1, 2, 2), padding='same'))\n",
    "\n",
    "# A global average pooling layer to get a 1-d vector\n",
    "# The vector will have a depth (same as number of elements in the vector) of 256\n",
    "model.add(GlobalAveragePooling3D())\n",
    "\n",
    "# The Global average pooling layer is followed by a fully-connected neural network, with one hidden and one output layer\n",
    "\n",
    "# Hidden Layer\n",
    "model.add(Dense(64, activation='relu'))\n",
    "model.add(Dropout(0.3))\n",
    "model.add(Dense(32, activation='relu'))\n",
    "\n",
    "# Output layer\n",
    "model.add(Dense(4, activation='softmax'))\n",
    "\n",
    "model.summary()"
   ]
  },
  {
   "cell_type": "code",
   "execution_count": 13,
   "metadata": {
    "scrolled": true
   },
   "outputs": [
    {
     "name": "stdout",
     "output_type": "stream",
     "text": [
      "Train on 550 samples, validate on 146 samples\n",
      "Epoch 1/60\n",
      " - 1988s - loss: 1.4213 - acc: 0.2636 - val_loss: 1.4155 - val_acc: 0.1986\n",
      "\n",
      "Epoch 00001: val_loss improved from inf to 1.41550, saving model to animals.hdf5\n",
      "Epoch 2/60\n",
      " - 2050s - loss: 1.4034 - acc: 0.2400 - val_loss: 1.3833 - val_acc: 0.3082\n",
      "\n",
      "Epoch 00002: val_loss improved from 1.41550 to 1.38327, saving model to animals.hdf5\n",
      "Epoch 3/60\n",
      " - 2086s - loss: 1.3876 - acc: 0.2455 - val_loss: 1.3883 - val_acc: 0.1986\n",
      "\n",
      "Epoch 00003: val_loss did not improve from 1.38327\n",
      "Epoch 4/60\n",
      " - 1952s - loss: 1.3866 - acc: 0.2164 - val_loss: 1.3860 - val_acc: 0.3082\n",
      "\n",
      "Epoch 00004: val_loss did not improve from 1.38327\n",
      "Epoch 5/60\n",
      " - 2119s - loss: 1.3865 - acc: 0.2745 - val_loss: 1.3867 - val_acc: 0.1986\n",
      "\n",
      "Epoch 00005: val_loss did not improve from 1.38327\n",
      "Epoch 6/60\n",
      " - 1992s - loss: 1.3868 - acc: 0.2564 - val_loss: 1.3855 - val_acc: 0.3082\n",
      "\n",
      "Epoch 00006: val_loss did not improve from 1.38327\n",
      "Epoch 7/60\n",
      " - 2083s - loss: 1.3859 - acc: 0.2800 - val_loss: 1.3825 - val_acc: 0.3082\n",
      "\n",
      "Epoch 00007: val_loss improved from 1.38327 to 1.38249, saving model to animals.hdf5\n",
      "Epoch 8/60\n",
      " - 1984s - loss: 1.3869 - acc: 0.2691 - val_loss: 1.3817 - val_acc: 0.3082\n",
      "\n",
      "Epoch 00008: val_loss improved from 1.38249 to 1.38168, saving model to animals.hdf5\n",
      "Epoch 9/60\n",
      " - 2022s - loss: 1.3866 - acc: 0.2709 - val_loss: 1.3838 - val_acc: 0.3082\n",
      "\n",
      "Epoch 00009: val_loss did not improve from 1.38168\n",
      "Epoch 10/60\n",
      " - 2079s - loss: 1.3848 - acc: 0.2673 - val_loss: 1.3836 - val_acc: 0.3082\n",
      "\n",
      "Epoch 00010: val_loss did not improve from 1.38168\n",
      "Epoch 11/60\n",
      " - 2587s - loss: 1.3848 - acc: 0.2691 - val_loss: 1.3834 - val_acc: 0.3082\n",
      "\n",
      "Epoch 00011: val_loss did not improve from 1.38168\n",
      "Epoch 12/60\n",
      " - 2918s - loss: 1.3845 - acc: 0.2618 - val_loss: 1.3835 - val_acc: 0.3082\n",
      "\n",
      "Epoch 00012: val_loss did not improve from 1.38168\n",
      "Epoch 13/60\n",
      " - 1950s - loss: 1.3867 - acc: 0.2673 - val_loss: 1.3835 - val_acc: 0.3082\n",
      "\n",
      "Epoch 00013: val_loss did not improve from 1.38168\n",
      "Epoch 14/60\n",
      " - 1958s - loss: 1.3856 - acc: 0.2600 - val_loss: 1.3840 - val_acc: 0.3082\n",
      "\n",
      "Epoch 00014: val_loss did not improve from 1.38168\n",
      "Epoch 15/60\n",
      " - 2090s - loss: 1.3854 - acc: 0.2527 - val_loss: 1.3833 - val_acc: 0.3082\n",
      "\n",
      "Epoch 00015: val_loss did not improve from 1.38168\n",
      "Epoch 16/60\n",
      " - 5368s - loss: 1.3865 - acc: 0.2600 - val_loss: 1.3843 - val_acc: 0.3082\n",
      "\n",
      "Epoch 00016: val_loss did not improve from 1.38168\n",
      "Epoch 17/60\n",
      " - 1958s - loss: 1.3839 - acc: 0.2727 - val_loss: 1.3835 - val_acc: 0.3082\n",
      "\n",
      "Epoch 00017: val_loss did not improve from 1.38168\n",
      "Epoch 18/60\n",
      " - 1976s - loss: 1.3868 - acc: 0.2582 - val_loss: 1.3830 - val_acc: 0.3082\n",
      "\n",
      "Epoch 00018: val_loss did not improve from 1.38168\n",
      "Epoch 19/60\n",
      " - 2243s - loss: 1.3843 - acc: 0.2673 - val_loss: 1.3840 - val_acc: 0.3082\n",
      "\n",
      "Epoch 00019: val_loss did not improve from 1.38168\n",
      "Epoch 20/60\n",
      " - 2304s - loss: 1.3876 - acc: 0.2691 - val_loss: 1.3851 - val_acc: 0.3082\n",
      "\n",
      "Epoch 00020: val_loss did not improve from 1.38168\n",
      "Epoch 21/60\n",
      " - 2086s - loss: 1.3857 - acc: 0.2673 - val_loss: 1.3860 - val_acc: 0.3014\n",
      "\n",
      "Epoch 00021: val_loss did not improve from 1.38168\n",
      "Epoch 22/60\n",
      " - 2073s - loss: 1.3862 - acc: 0.2527 - val_loss: 1.3860 - val_acc: 0.2466\n",
      "\n",
      "Epoch 00022: val_loss did not improve from 1.38168\n",
      "Epoch 23/60\n",
      " - 1991s - loss: 1.3859 - acc: 0.2655 - val_loss: 1.3850 - val_acc: 0.3082\n",
      "\n",
      "Epoch 00023: val_loss did not improve from 1.38168\n",
      "Epoch 24/60\n",
      " - 2056s - loss: 1.3858 - acc: 0.2655 - val_loss: 1.3845 - val_acc: 0.3082\n",
      "\n",
      "Epoch 00024: val_loss did not improve from 1.38168\n",
      "Epoch 25/60\n",
      " - 2058s - loss: 1.3866 - acc: 0.2655 - val_loss: 1.3838 - val_acc: 0.3082\n",
      "\n",
      "Epoch 00025: val_loss did not improve from 1.38168\n",
      "Epoch 26/60\n",
      " - 2086s - loss: 1.3843 - acc: 0.2618 - val_loss: 1.3878 - val_acc: 0.1575\n",
      "\n",
      "Epoch 00026: val_loss did not improve from 1.38168\n",
      "Epoch 27/60\n",
      " - 2035s - loss: 1.3869 - acc: 0.2727 - val_loss: 1.3857 - val_acc: 0.3082\n",
      "\n",
      "Epoch 00027: val_loss did not improve from 1.38168\n",
      "Epoch 28/60\n",
      " - 1935s - loss: 1.3849 - acc: 0.2836 - val_loss: 1.3815 - val_acc: 0.3082\n",
      "\n",
      "Epoch 00028: val_loss improved from 1.38168 to 1.38152, saving model to animals.hdf5\n",
      "Epoch 29/60\n",
      " - 2068s - loss: 1.3871 - acc: 0.2545 - val_loss: 1.3822 - val_acc: 0.3082\n",
      "\n",
      "Epoch 00029: val_loss did not improve from 1.38152\n",
      "Epoch 30/60\n",
      " - 2009s - loss: 1.3861 - acc: 0.2618 - val_loss: 1.3798 - val_acc: 0.3082\n",
      "\n",
      "Epoch 00030: val_loss improved from 1.38152 to 1.37984, saving model to animals.hdf5\n",
      "Epoch 31/60\n",
      " - 2117s - loss: 1.3856 - acc: 0.2745 - val_loss: 1.3811 - val_acc: 0.3082\n",
      "\n",
      "Epoch 00031: val_loss did not improve from 1.37984\n",
      "Epoch 32/60\n",
      " - 2073s - loss: 1.3847 - acc: 0.2673 - val_loss: 1.3789 - val_acc: 0.3082\n",
      "\n",
      "Epoch 00032: val_loss improved from 1.37984 to 1.37892, saving model to animals.hdf5\n",
      "Epoch 33/60\n",
      " - 2143s - loss: 1.3854 - acc: 0.2473 - val_loss: 1.3827 - val_acc: 0.3082\n",
      "\n",
      "Epoch 00033: val_loss did not improve from 1.37892\n",
      "Epoch 34/60\n"
     ]
    },
    {
     "ename": "KeyboardInterrupt",
     "evalue": "",
     "output_type": "error",
     "traceback": [
      "\u001b[1;31m---------------------------------------------------------------------------\u001b[0m",
      "\u001b[1;31mKeyboardInterrupt\u001b[0m                         Traceback (most recent call last)",
      "\u001b[1;32m<ipython-input-13-ca72936283f0>\u001b[0m in \u001b[0;36m<module>\u001b[1;34m\u001b[0m\n\u001b[0;32m     33\u001b[0m \u001b[1;31m# Training the model for 40 epochs\u001b[0m\u001b[1;33m\u001b[0m\u001b[1;33m\u001b[0m\u001b[1;33m\u001b[0m\u001b[0m\n\u001b[0;32m     34\u001b[0m history = model.fit(X_train, y_train, batch_size=100, epochs=60, \n\u001b[1;32m---> 35\u001b[1;33m                     validation_data=(X_valid, y_valid), verbose=2, callbacks = [history, checkpoint])\n\u001b[0m",
      "\u001b[1;32mC:\\ProgramData\\Anaconda3\\envs\\py36\\lib\\site-packages\\keras\\engine\\training.py\u001b[0m in \u001b[0;36mfit\u001b[1;34m(self, x, y, batch_size, epochs, verbose, callbacks, validation_split, validation_data, shuffle, class_weight, sample_weight, initial_epoch, steps_per_epoch, validation_steps, **kwargs)\u001b[0m\n\u001b[0;32m   1037\u001b[0m                                         \u001b[0minitial_epoch\u001b[0m\u001b[1;33m=\u001b[0m\u001b[0minitial_epoch\u001b[0m\u001b[1;33m,\u001b[0m\u001b[1;33m\u001b[0m\u001b[1;33m\u001b[0m\u001b[0m\n\u001b[0;32m   1038\u001b[0m                                         \u001b[0msteps_per_epoch\u001b[0m\u001b[1;33m=\u001b[0m\u001b[0msteps_per_epoch\u001b[0m\u001b[1;33m,\u001b[0m\u001b[1;33m\u001b[0m\u001b[1;33m\u001b[0m\u001b[0m\n\u001b[1;32m-> 1039\u001b[1;33m                                         validation_steps=validation_steps)\n\u001b[0m\u001b[0;32m   1040\u001b[0m \u001b[1;33m\u001b[0m\u001b[0m\n\u001b[0;32m   1041\u001b[0m     def evaluate(self, x=None, y=None,\n",
      "\u001b[1;32mC:\\ProgramData\\Anaconda3\\envs\\py36\\lib\\site-packages\\keras\\engine\\training_arrays.py\u001b[0m in \u001b[0;36mfit_loop\u001b[1;34m(model, f, ins, out_labels, batch_size, epochs, verbose, callbacks, val_f, val_ins, shuffle, callback_metrics, initial_epoch, steps_per_epoch, validation_steps)\u001b[0m\n\u001b[0;32m    197\u001b[0m                     \u001b[0mins_batch\u001b[0m\u001b[1;33m[\u001b[0m\u001b[0mi\u001b[0m\u001b[1;33m]\u001b[0m \u001b[1;33m=\u001b[0m \u001b[0mins_batch\u001b[0m\u001b[1;33m[\u001b[0m\u001b[0mi\u001b[0m\u001b[1;33m]\u001b[0m\u001b[1;33m.\u001b[0m\u001b[0mtoarray\u001b[0m\u001b[1;33m(\u001b[0m\u001b[1;33m)\u001b[0m\u001b[1;33m\u001b[0m\u001b[1;33m\u001b[0m\u001b[0m\n\u001b[0;32m    198\u001b[0m \u001b[1;33m\u001b[0m\u001b[0m\n\u001b[1;32m--> 199\u001b[1;33m                 \u001b[0mouts\u001b[0m \u001b[1;33m=\u001b[0m \u001b[0mf\u001b[0m\u001b[1;33m(\u001b[0m\u001b[0mins_batch\u001b[0m\u001b[1;33m)\u001b[0m\u001b[1;33m\u001b[0m\u001b[1;33m\u001b[0m\u001b[0m\n\u001b[0m\u001b[0;32m    200\u001b[0m                 \u001b[0mouts\u001b[0m \u001b[1;33m=\u001b[0m \u001b[0mto_list\u001b[0m\u001b[1;33m(\u001b[0m\u001b[0mouts\u001b[0m\u001b[1;33m)\u001b[0m\u001b[1;33m\u001b[0m\u001b[1;33m\u001b[0m\u001b[0m\n\u001b[0;32m    201\u001b[0m                 \u001b[1;32mfor\u001b[0m \u001b[0ml\u001b[0m\u001b[1;33m,\u001b[0m \u001b[0mo\u001b[0m \u001b[1;32min\u001b[0m \u001b[0mzip\u001b[0m\u001b[1;33m(\u001b[0m\u001b[0mout_labels\u001b[0m\u001b[1;33m,\u001b[0m \u001b[0mouts\u001b[0m\u001b[1;33m)\u001b[0m\u001b[1;33m:\u001b[0m\u001b[1;33m\u001b[0m\u001b[1;33m\u001b[0m\u001b[0m\n",
      "\u001b[1;32mC:\\ProgramData\\Anaconda3\\envs\\py36\\lib\\site-packages\\keras\\backend\\tensorflow_backend.py\u001b[0m in \u001b[0;36m__call__\u001b[1;34m(self, inputs)\u001b[0m\n\u001b[0;32m   2713\u001b[0m                 \u001b[1;32mreturn\u001b[0m \u001b[0mself\u001b[0m\u001b[1;33m.\u001b[0m\u001b[0m_legacy_call\u001b[0m\u001b[1;33m(\u001b[0m\u001b[0minputs\u001b[0m\u001b[1;33m)\u001b[0m\u001b[1;33m\u001b[0m\u001b[1;33m\u001b[0m\u001b[0m\n\u001b[0;32m   2714\u001b[0m \u001b[1;33m\u001b[0m\u001b[0m\n\u001b[1;32m-> 2715\u001b[1;33m             \u001b[1;32mreturn\u001b[0m \u001b[0mself\u001b[0m\u001b[1;33m.\u001b[0m\u001b[0m_call\u001b[0m\u001b[1;33m(\u001b[0m\u001b[0minputs\u001b[0m\u001b[1;33m)\u001b[0m\u001b[1;33m\u001b[0m\u001b[1;33m\u001b[0m\u001b[0m\n\u001b[0m\u001b[0;32m   2716\u001b[0m         \u001b[1;32melse\u001b[0m\u001b[1;33m:\u001b[0m\u001b[1;33m\u001b[0m\u001b[1;33m\u001b[0m\u001b[0m\n\u001b[0;32m   2717\u001b[0m             \u001b[1;32mif\u001b[0m \u001b[0mpy_any\u001b[0m\u001b[1;33m(\u001b[0m\u001b[0mis_tensor\u001b[0m\u001b[1;33m(\u001b[0m\u001b[0mx\u001b[0m\u001b[1;33m)\u001b[0m \u001b[1;32mfor\u001b[0m \u001b[0mx\u001b[0m \u001b[1;32min\u001b[0m \u001b[0minputs\u001b[0m\u001b[1;33m)\u001b[0m\u001b[1;33m:\u001b[0m\u001b[1;33m\u001b[0m\u001b[1;33m\u001b[0m\u001b[0m\n",
      "\u001b[1;32mC:\\ProgramData\\Anaconda3\\envs\\py36\\lib\\site-packages\\keras\\backend\\tensorflow_backend.py\u001b[0m in \u001b[0;36m_call\u001b[1;34m(self, inputs)\u001b[0m\n\u001b[0;32m   2673\u001b[0m             \u001b[0mfetched\u001b[0m \u001b[1;33m=\u001b[0m \u001b[0mself\u001b[0m\u001b[1;33m.\u001b[0m\u001b[0m_callable_fn\u001b[0m\u001b[1;33m(\u001b[0m\u001b[1;33m*\u001b[0m\u001b[0marray_vals\u001b[0m\u001b[1;33m,\u001b[0m \u001b[0mrun_metadata\u001b[0m\u001b[1;33m=\u001b[0m\u001b[0mself\u001b[0m\u001b[1;33m.\u001b[0m\u001b[0mrun_metadata\u001b[0m\u001b[1;33m)\u001b[0m\u001b[1;33m\u001b[0m\u001b[1;33m\u001b[0m\u001b[0m\n\u001b[0;32m   2674\u001b[0m         \u001b[1;32melse\u001b[0m\u001b[1;33m:\u001b[0m\u001b[1;33m\u001b[0m\u001b[1;33m\u001b[0m\u001b[0m\n\u001b[1;32m-> 2675\u001b[1;33m             \u001b[0mfetched\u001b[0m \u001b[1;33m=\u001b[0m \u001b[0mself\u001b[0m\u001b[1;33m.\u001b[0m\u001b[0m_callable_fn\u001b[0m\u001b[1;33m(\u001b[0m\u001b[1;33m*\u001b[0m\u001b[0marray_vals\u001b[0m\u001b[1;33m)\u001b[0m\u001b[1;33m\u001b[0m\u001b[1;33m\u001b[0m\u001b[0m\n\u001b[0m\u001b[0;32m   2676\u001b[0m         \u001b[1;32mreturn\u001b[0m \u001b[0mfetched\u001b[0m\u001b[1;33m[\u001b[0m\u001b[1;33m:\u001b[0m\u001b[0mlen\u001b[0m\u001b[1;33m(\u001b[0m\u001b[0mself\u001b[0m\u001b[1;33m.\u001b[0m\u001b[0moutputs\u001b[0m\u001b[1;33m)\u001b[0m\u001b[1;33m]\u001b[0m\u001b[1;33m\u001b[0m\u001b[1;33m\u001b[0m\u001b[0m\n\u001b[0;32m   2677\u001b[0m \u001b[1;33m\u001b[0m\u001b[0m\n",
      "\u001b[1;32mC:\\ProgramData\\Anaconda3\\envs\\py36\\lib\\site-packages\\tensorflow\\python\\client\\session.py\u001b[0m in \u001b[0;36m__call__\u001b[1;34m(self, *args, **kwargs)\u001b[0m\n\u001b[0;32m   1437\u001b[0m           ret = tf_session.TF_SessionRunCallable(\n\u001b[0;32m   1438\u001b[0m               \u001b[0mself\u001b[0m\u001b[1;33m.\u001b[0m\u001b[0m_session\u001b[0m\u001b[1;33m.\u001b[0m\u001b[0m_session\u001b[0m\u001b[1;33m,\u001b[0m \u001b[0mself\u001b[0m\u001b[1;33m.\u001b[0m\u001b[0m_handle\u001b[0m\u001b[1;33m,\u001b[0m \u001b[0margs\u001b[0m\u001b[1;33m,\u001b[0m \u001b[0mstatus\u001b[0m\u001b[1;33m,\u001b[0m\u001b[1;33m\u001b[0m\u001b[1;33m\u001b[0m\u001b[0m\n\u001b[1;32m-> 1439\u001b[1;33m               run_metadata_ptr)\n\u001b[0m\u001b[0;32m   1440\u001b[0m         \u001b[1;32mif\u001b[0m \u001b[0mrun_metadata\u001b[0m\u001b[1;33m:\u001b[0m\u001b[1;33m\u001b[0m\u001b[1;33m\u001b[0m\u001b[0m\n\u001b[0;32m   1441\u001b[0m           \u001b[0mproto_data\u001b[0m \u001b[1;33m=\u001b[0m \u001b[0mtf_session\u001b[0m\u001b[1;33m.\u001b[0m\u001b[0mTF_GetBuffer\u001b[0m\u001b[1;33m(\u001b[0m\u001b[0mrun_metadata_ptr\u001b[0m\u001b[1;33m)\u001b[0m\u001b[1;33m\u001b[0m\u001b[1;33m\u001b[0m\u001b[0m\n",
      "\u001b[1;31mKeyboardInterrupt\u001b[0m: "
     ]
    }
   ],
   "source": [
    "# Imports\n",
    "from tensorflow.keras import applications\n",
    "from tensorflow.keras import optimizers\n",
    "from tensorflow.keras.models import Sequential, Model \n",
    "from tensorflow.keras.callbacks import ModelCheckpoint, EarlyStopping, Callback\n",
    "import tensorflow\n",
    "from keras.optimizers import Adam\n",
    "\n",
    "class LossAccHistory(Callback):\n",
    "    def on_train_begin(self, logs={}):\n",
    "        self.losses = []\n",
    "        self.accuracy = []\n",
    "\n",
    "    def on_batch_end(self, batch, logs={}):\n",
    "        self.losses.append(logs.get('loss'))\n",
    "        self.accuracy.append(logs.get('acc'))\n",
    "        \n",
    "history = LossAccHistory()\n",
    "\n",
    "\n",
    "# Compiling the model\n",
    "model.compile(loss = \"categorical_crossentropy\", optimizer = Adam(lr=0.0008,\n",
    "    beta_1=0.9,\n",
    "    beta_2=0.999,\n",
    "    epsilon=None,\n",
    "    decay=0.0,\n",
    "    amsgrad=False), metrics=[\"accuracy\"])\n",
    "\n",
    "# Saving the model that performed the best on the validation set\n",
    "checkpoint = ModelCheckpoint(filepath='animals.hdf5', save_best_only=True, \n",
    "                             verbose=1,save_weights_only=False, mode='auto')\n",
    "\n",
    "# Training the model for 40 epochs\n",
    "history = model.fit(X_train, y_train, batch_size=100, epochs=60, \n",
    "                    validation_data=(X_valid, y_valid), verbose=2, callbacks = [history, checkpoint])"
   ]
  },
  {
   "cell_type": "code",
   "execution_count": null,
   "metadata": {},
   "outputs": [],
   "source": [
    "# Loading the model that performed the best on the validation set\n",
    "model.load_weights('animals.hdf5')\n",
    "\n",
    "# Testing the model on the Test data\n",
    "(loss, accuracy) = model.evaluate(X_test, y_test, batch_size=70, verbose=0)\n",
    "\n",
    "print('Accuracy on test data: {:.2f}%'.format(accuracy * 100))"
   ]
  },
  {
   "cell_type": "code",
   "execution_count": null,
   "metadata": {},
   "outputs": [],
   "source": [
    "from tensorflow.keras.models import load_model\n",
    "# Imports\n",
    "from tensorflow.keras import applications\n",
    "from tensorflow.keras import optimizers\n",
    "from tensorflow.keras.models import Sequential, Model \n",
    "from tensorflow.keras.callbacks import ModelCheckpoint, EarlyStopping, Callback\n",
    "import tensorflow\n",
    "from keras.optimizers import Adam\n",
    "\n",
    "\n",
    "# Saving the model that performed the best on the validation set\n",
    "checkpoint = ModelCheckpoint(filepath='animals2.hdf5', save_best_only=True, \n",
    "                             verbose=1,save_weights_only=False, mode='auto')\n",
    "\n",
    "\n",
    "model = load_model('animals.hdf5')\n",
    "# Training the model for 40 epochs\n",
    "history = model.fit(X_train, y_train, batch_size=70, epochs=40, \n",
    "                    validation_data=(X_valid, y_valid), verbose=2, callbacks = [history, checkpoint])"
   ]
  },
  {
   "cell_type": "code",
   "execution_count": null,
   "metadata": {},
   "outputs": [],
   "source": []
  },
  {
   "cell_type": "code",
   "execution_count": null,
   "metadata": {},
   "outputs": [],
   "source": []
  }
 ],
 "metadata": {
  "kernelspec": {
   "display_name": "Python 3",
   "language": "python",
   "name": "python3"
  },
  "language_info": {
   "codemirror_mode": {
    "name": "ipython",
    "version": 3
   },
   "file_extension": ".py",
   "mimetype": "text/x-python",
   "name": "python",
   "nbconvert_exporter": "python",
   "pygments_lexer": "ipython3",
   "version": "3.6.7"
  }
 },
 "nbformat": 4,
 "nbformat_minor": 2
}
